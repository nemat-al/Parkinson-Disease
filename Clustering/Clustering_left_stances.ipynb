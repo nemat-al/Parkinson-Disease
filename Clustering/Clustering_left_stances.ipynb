{
  "nbformat": 4,
  "nbformat_minor": 0,
  "metadata": {
    "colab": {
      "provenance": []
    },
    "kernelspec": {
      "name": "python3",
      "display_name": "Python 3"
    },
    "language_info": {
      "name": "python"
    }
  },
  "cells": [
    {
      "cell_type": "markdown",
      "source": [
        "Let's start with clustering all the stances from the left foot only.\n",
        "The stances are calculated from one feature (the sum of all sensors under the left foot for each patient)"
      ],
      "metadata": {
        "id": "VllulqYQTmFQ"
      }
    },
    {
      "cell_type": "markdown",
      "source": [
        "### Importing"
      ],
      "metadata": {
        "id": "RhlQe2Lyh7Ve"
      }
    },
    {
      "cell_type": "code",
      "execution_count": null,
      "metadata": {
        "colab": {
          "base_uri": "https://localhost:8080/"
        },
        "id": "NtCk8kUZTfAq",
        "outputId": "0b3af744-212c-46e6-fd6d-e8e2ab74b995"
      },
      "outputs": [
        {
          "output_type": "stream",
          "name": "stdout",
          "text": [
            "Looking in indexes: https://pypi.org/simple, https://us-python.pkg.dev/colab-wheels/public/simple/\n",
            "Collecting tslearn\n",
            "  Downloading tslearn-0.5.3.2-py3-none-any.whl (358 kB)\n",
            "\u001b[2K     \u001b[90m━━━━━━━━━━━━━━━━━━━━━━━━━━━━━━━━━━━━━━━\u001b[0m \u001b[32m358.2/358.2 KB\u001b[0m \u001b[31m7.1 MB/s\u001b[0m eta \u001b[36m0:00:00\u001b[0m\n",
            "\u001b[?25hRequirement already satisfied: scikit-learn in /usr/local/lib/python3.8/dist-packages (from tslearn) (1.0.2)\n",
            "Requirement already satisfied: numpy in /usr/local/lib/python3.8/dist-packages (from tslearn) (1.22.4)\n",
            "Requirement already satisfied: scipy in /usr/local/lib/python3.8/dist-packages (from tslearn) (1.7.3)\n",
            "Requirement already satisfied: numba in /usr/local/lib/python3.8/dist-packages (from tslearn) (0.56.4)\n",
            "Requirement already satisfied: joblib in /usr/local/lib/python3.8/dist-packages (from tslearn) (1.2.0)\n",
            "Requirement already satisfied: importlib-metadata in /usr/local/lib/python3.8/dist-packages (from numba->tslearn) (6.0.0)\n",
            "Requirement already satisfied: llvmlite<0.40,>=0.39.0dev0 in /usr/local/lib/python3.8/dist-packages (from numba->tslearn) (0.39.1)\n",
            "Requirement already satisfied: setuptools in /usr/local/lib/python3.8/dist-packages (from numba->tslearn) (57.4.0)\n",
            "Requirement already satisfied: threadpoolctl>=2.0.0 in /usr/local/lib/python3.8/dist-packages (from scikit-learn->tslearn) (3.1.0)\n",
            "Requirement already satisfied: zipp>=0.5 in /usr/local/lib/python3.8/dist-packages (from importlib-metadata->numba->tslearn) (3.14.0)\n",
            "Installing collected packages: tslearn\n",
            "Successfully installed tslearn-0.5.3.2\n"
          ]
        }
      ],
      "source": [
        "pip install tslearn"
      ]
    },
    {
      "cell_type": "code",
      "source": [
        "import pandas as pd\n",
        "import numpy as np\n",
        "\n",
        "from sklearn.preprocessing import PolynomialFeatures\n",
        "from sklearn import decomposition\n",
        "from sklearn.model_selection import train_test_split\n",
        "from sklearn import decomposition\n",
        "\n",
        "import os\n",
        "\n",
        "from tqdm.auto import tqdm\n",
        "\n",
        "from tslearn.clustering import TimeSeriesKMeans\n",
        "from tslearn.utils import to_time_series_dataset\n",
        "\n",
        "import ast\n",
        "\n",
        "import matplotlib.pyplot as plt\n",
        "plt.figure()"
      ],
      "metadata": {
        "colab": {
          "base_uri": "https://localhost:8080/",
          "height": 52
        },
        "id": "Sq8ODUMETq7W",
        "outputId": "4b0e2050-f28f-4ed2-9b28-a92732db2706"
      },
      "execution_count": null,
      "outputs": [
        {
          "output_type": "execute_result",
          "data": {
            "text/plain": [
              "<Figure size 432x288 with 0 Axes>"
            ]
          },
          "metadata": {},
          "execution_count": 26
        },
        {
          "output_type": "display_data",
          "data": {
            "text/plain": [
              "<Figure size 432x288 with 0 Axes>"
            ]
          },
          "metadata": {}
        }
      ]
    },
    {
      "cell_type": "markdown",
      "source": [
        "### Reading Data"
      ],
      "metadata": {
        "id": "6AMEIOc2h-4s"
      }
    },
    {
      "cell_type": "code",
      "source": [
        "# path of original data folder\n",
        "data_path = \"/content/drive/MyDrive/ITMO-Master's/Thesis/3rd_semester/Data\"\n",
        "csvD_path = \"/content/drive/MyDrive/ITMO-Master's/Thesis/3rd_semester/Data/csv_files\"\n",
        "demographics = \"/content/drive/MyDrive/ITMO-Master's/Thesis/3rd_semester/Data/demographics.csv\"\n",
        "dem_df = pd.read_csv(demographics)"
      ],
      "metadata": {
        "id": "kj6Yeq5yTtBr"
      },
      "execution_count": null,
      "outputs": []
    },
    {
      "cell_type": "code",
      "source": [
        "# reading the data info file about the left stances\n",
        "left_stances_level_df= pd.read_csv(data_path + '/data_left_stances.csv')"
      ],
      "metadata": {
        "id": "eJSOaW2ITuj8"
      },
      "execution_count": null,
      "outputs": []
    },
    {
      "cell_type": "code",
      "source": [
        "left_stances_level_df.head()"
      ],
      "metadata": {
        "colab": {
          "base_uri": "https://localhost:8080/",
          "height": 206
        },
        "id": "1HgeNcGnT7o5",
        "outputId": "93abade3-03f1-415c-cf25-2a7da915269c"
      },
      "execution_count": null,
      "outputs": [
        {
          "output_type": "execute_result",
          "data": {
            "text/plain": [
              "       ID  y  level                                            stances\n",
              "0  GaPt03  1    3.0  [660.44, 641.96, 633.49, 610.61, 598.18, 584.6...\n",
              "1  GaPt03  1    3.0  [20.24, 27.83, 45.54, 75.35, 137.94, 189.42, 2...\n",
              "2  GaPt03  1    3.0  [25.3, 40.48, 59.95, 105.82, 169.95, 205.48, 2...\n",
              "3  GaPt03  1    3.0  [27.83, 40.48, 78.76, 162.25, 213.29, 269.83, ...\n",
              "4  GaPt03  1    3.0  [27.83, 45.54, 83.38, 127.05, 172.59, 215.71, ..."
            ],
            "text/html": [
              "\n",
              "  <div id=\"df-4b8ed93b-4b3b-42a3-a2e3-acf292c2c607\">\n",
              "    <div class=\"colab-df-container\">\n",
              "      <div>\n",
              "<style scoped>\n",
              "    .dataframe tbody tr th:only-of-type {\n",
              "        vertical-align: middle;\n",
              "    }\n",
              "\n",
              "    .dataframe tbody tr th {\n",
              "        vertical-align: top;\n",
              "    }\n",
              "\n",
              "    .dataframe thead th {\n",
              "        text-align: right;\n",
              "    }\n",
              "</style>\n",
              "<table border=\"1\" class=\"dataframe\">\n",
              "  <thead>\n",
              "    <tr style=\"text-align: right;\">\n",
              "      <th></th>\n",
              "      <th>ID</th>\n",
              "      <th>y</th>\n",
              "      <th>level</th>\n",
              "      <th>stances</th>\n",
              "    </tr>\n",
              "  </thead>\n",
              "  <tbody>\n",
              "    <tr>\n",
              "      <th>0</th>\n",
              "      <td>GaPt03</td>\n",
              "      <td>1</td>\n",
              "      <td>3.0</td>\n",
              "      <td>[660.44, 641.96, 633.49, 610.61, 598.18, 584.6...</td>\n",
              "    </tr>\n",
              "    <tr>\n",
              "      <th>1</th>\n",
              "      <td>GaPt03</td>\n",
              "      <td>1</td>\n",
              "      <td>3.0</td>\n",
              "      <td>[20.24, 27.83, 45.54, 75.35, 137.94, 189.42, 2...</td>\n",
              "    </tr>\n",
              "    <tr>\n",
              "      <th>2</th>\n",
              "      <td>GaPt03</td>\n",
              "      <td>1</td>\n",
              "      <td>3.0</td>\n",
              "      <td>[25.3, 40.48, 59.95, 105.82, 169.95, 205.48, 2...</td>\n",
              "    </tr>\n",
              "    <tr>\n",
              "      <th>3</th>\n",
              "      <td>GaPt03</td>\n",
              "      <td>1</td>\n",
              "      <td>3.0</td>\n",
              "      <td>[27.83, 40.48, 78.76, 162.25, 213.29, 269.83, ...</td>\n",
              "    </tr>\n",
              "    <tr>\n",
              "      <th>4</th>\n",
              "      <td>GaPt03</td>\n",
              "      <td>1</td>\n",
              "      <td>3.0</td>\n",
              "      <td>[27.83, 45.54, 83.38, 127.05, 172.59, 215.71, ...</td>\n",
              "    </tr>\n",
              "  </tbody>\n",
              "</table>\n",
              "</div>\n",
              "      <button class=\"colab-df-convert\" onclick=\"convertToInteractive('df-4b8ed93b-4b3b-42a3-a2e3-acf292c2c607')\"\n",
              "              title=\"Convert this dataframe to an interactive table.\"\n",
              "              style=\"display:none;\">\n",
              "        \n",
              "  <svg xmlns=\"http://www.w3.org/2000/svg\" height=\"24px\"viewBox=\"0 0 24 24\"\n",
              "       width=\"24px\">\n",
              "    <path d=\"M0 0h24v24H0V0z\" fill=\"none\"/>\n",
              "    <path d=\"M18.56 5.44l.94 2.06.94-2.06 2.06-.94-2.06-.94-.94-2.06-.94 2.06-2.06.94zm-11 1L8.5 8.5l.94-2.06 2.06-.94-2.06-.94L8.5 2.5l-.94 2.06-2.06.94zm10 10l.94 2.06.94-2.06 2.06-.94-2.06-.94-.94-2.06-.94 2.06-2.06.94z\"/><path d=\"M17.41 7.96l-1.37-1.37c-.4-.4-.92-.59-1.43-.59-.52 0-1.04.2-1.43.59L10.3 9.45l-7.72 7.72c-.78.78-.78 2.05 0 2.83L4 21.41c.39.39.9.59 1.41.59.51 0 1.02-.2 1.41-.59l7.78-7.78 2.81-2.81c.8-.78.8-2.07 0-2.86zM5.41 20L4 18.59l7.72-7.72 1.47 1.35L5.41 20z\"/>\n",
              "  </svg>\n",
              "      </button>\n",
              "      \n",
              "  <style>\n",
              "    .colab-df-container {\n",
              "      display:flex;\n",
              "      flex-wrap:wrap;\n",
              "      gap: 12px;\n",
              "    }\n",
              "\n",
              "    .colab-df-convert {\n",
              "      background-color: #E8F0FE;\n",
              "      border: none;\n",
              "      border-radius: 50%;\n",
              "      cursor: pointer;\n",
              "      display: none;\n",
              "      fill: #1967D2;\n",
              "      height: 32px;\n",
              "      padding: 0 0 0 0;\n",
              "      width: 32px;\n",
              "    }\n",
              "\n",
              "    .colab-df-convert:hover {\n",
              "      background-color: #E2EBFA;\n",
              "      box-shadow: 0px 1px 2px rgba(60, 64, 67, 0.3), 0px 1px 3px 1px rgba(60, 64, 67, 0.15);\n",
              "      fill: #174EA6;\n",
              "    }\n",
              "\n",
              "    [theme=dark] .colab-df-convert {\n",
              "      background-color: #3B4455;\n",
              "      fill: #D2E3FC;\n",
              "    }\n",
              "\n",
              "    [theme=dark] .colab-df-convert:hover {\n",
              "      background-color: #434B5C;\n",
              "      box-shadow: 0px 1px 3px 1px rgba(0, 0, 0, 0.15);\n",
              "      filter: drop-shadow(0px 1px 2px rgba(0, 0, 0, 0.3));\n",
              "      fill: #FFFFFF;\n",
              "    }\n",
              "  </style>\n",
              "\n",
              "      <script>\n",
              "        const buttonEl =\n",
              "          document.querySelector('#df-4b8ed93b-4b3b-42a3-a2e3-acf292c2c607 button.colab-df-convert');\n",
              "        buttonEl.style.display =\n",
              "          google.colab.kernel.accessAllowed ? 'block' : 'none';\n",
              "\n",
              "        async function convertToInteractive(key) {\n",
              "          const element = document.querySelector('#df-4b8ed93b-4b3b-42a3-a2e3-acf292c2c607');\n",
              "          const dataTable =\n",
              "            await google.colab.kernel.invokeFunction('convertToInteractive',\n",
              "                                                     [key], {});\n",
              "          if (!dataTable) return;\n",
              "\n",
              "          const docLinkHtml = 'Like what you see? Visit the ' +\n",
              "            '<a target=\"_blank\" href=https://colab.research.google.com/notebooks/data_table.ipynb>data table notebook</a>'\n",
              "            + ' to learn more about interactive tables.';\n",
              "          element.innerHTML = '';\n",
              "          dataTable['output_type'] = 'display_data';\n",
              "          await google.colab.output.renderOutput(dataTable, element);\n",
              "          const docLink = document.createElement('div');\n",
              "          docLink.innerHTML = docLinkHtml;\n",
              "          element.appendChild(docLink);\n",
              "        }\n",
              "      </script>\n",
              "    </div>\n",
              "  </div>\n",
              "  "
            ]
          },
          "metadata": {},
          "execution_count": 5
        }
      ]
    },
    {
      "cell_type": "code",
      "source": [
        "len(left_stances_level_df['ID'].unique()) # number of different subjects"
      ],
      "metadata": {
        "colab": {
          "base_uri": "https://localhost:8080/"
        },
        "id": "OUFck6UcM3oV",
        "outputId": "8980813c-f2c2-4b08-a2de-1149b4052277"
      },
      "execution_count": null,
      "outputs": [
        {
          "output_type": "execute_result",
          "data": {
            "text/plain": [
              "165"
            ]
          },
          "metadata": {},
          "execution_count": 6
        }
      ]
    },
    {
      "cell_type": "markdown",
      "source": [
        "### The last column is saved as string while it is a list, in the following we transform it to list."
      ],
      "metadata": {
        "id": "QXdKpXoD5HYI"
      }
    },
    {
      "cell_type": "code",
      "source": [
        "type(left_stances_level_df[\"stances\"][0])"
      ],
      "metadata": {
        "colab": {
          "base_uri": "https://localhost:8080/"
        },
        "id": "60gWXyDhk6wc",
        "outputId": "63d8c755-6760-448f-cf89-aed41892f941"
      },
      "execution_count": null,
      "outputs": [
        {
          "output_type": "execute_result",
          "data": {
            "text/plain": [
              "str"
            ]
          },
          "metadata": {},
          "execution_count": 7
        }
      ]
    },
    {
      "cell_type": "code",
      "source": [
        "from ast import literal_eval\n",
        "left_stances_level_df['stances'] =[ast.literal_eval(x) for x in left_stances_level_df['stances'] ]\n",
        "# t=df.right_stances.apply(lambda s: list(ast.literal_eval(s)))"
      ],
      "metadata": {
        "id": "x4B7FJQukpaA"
      },
      "execution_count": null,
      "outputs": []
    },
    {
      "cell_type": "code",
      "source": [
        "type(left_stances_level_df[\"stances\"][0])"
      ],
      "metadata": {
        "colab": {
          "base_uri": "https://localhost:8080/"
        },
        "id": "WpFrv6deU5vA",
        "outputId": "d5c7c89f-109d-4ae9-a492-86c1587560c8"
      },
      "execution_count": null,
      "outputs": [
        {
          "output_type": "execute_result",
          "data": {
            "text/plain": [
              "list"
            ]
          },
          "metadata": {},
          "execution_count": 9
        }
      ]
    },
    {
      "cell_type": "code",
      "source": [],
      "metadata": {
        "id": "k7EoYuECU5-H"
      },
      "execution_count": null,
      "outputs": []
    },
    {
      "cell_type": "markdown",
      "source": [
        "### Deleting lists shorter than 2 items"
      ],
      "metadata": {
        "id": "qoy1lhBktQJD"
      }
    },
    {
      "cell_type": "code",
      "source": [
        "# getting the stances lists\n",
        "stances = left_stances_level_df['stances']"
      ],
      "metadata": {
        "id": "SM-oUty9sG8T"
      },
      "execution_count": null,
      "outputs": []
    },
    {
      "cell_type": "code",
      "source": [
        "stances"
      ],
      "metadata": {
        "colab": {
          "base_uri": "https://localhost:8080/"
        },
        "id": "eY6oZpIQtWkv",
        "outputId": "ac3ae711-b302-449d-9b0e-9f97b0a36c5e"
      },
      "execution_count": null,
      "outputs": [
        {
          "output_type": "execute_result",
          "data": {
            "text/plain": [
              "0        [660.44, 641.96, 633.49, 610.61, 598.18, 584.6...\n",
              "1        [20.24, 27.83, 45.54, 75.35, 137.94, 189.42, 2...\n",
              "2        [25.3, 40.48, 59.95, 105.82, 169.95, 205.48, 2...\n",
              "3        [27.83, 40.48, 78.76, 162.25, 213.29, 269.83, ...\n",
              "4        [27.83, 45.54, 83.38, 127.05, 172.59, 215.71, ...\n",
              "                               ...                        \n",
              "31273    [20.68, 161.59, 324.72, 473.22, 575.19, 660.33...\n",
              "31274    [28.93, 185.68, 306.68, 445.83, 532.29, 605.33...\n",
              "31275    [62.26, 259.82, 396.33, 520.85, 604.01, 642.95...\n",
              "31276    [22.77, 115.28, 256.3, 361.02, 459.69, 521.51,...\n",
              "31277    [21.01, 46.42, 65.34, 99.88, 127.27, 152.35, 1...\n",
              "Name: stances, Length: 31278, dtype: object"
            ]
          },
          "metadata": {},
          "execution_count": 15
        }
      ]
    },
    {
      "cell_type": "code",
      "source": [
        "# get the ids of lists that have less than 2 elements\n",
        "indices = [ id for id,x in enumerate(stances) if len(x)<2 ]"
      ],
      "metadata": {
        "id": "BRyYdTq2tqQw"
      },
      "execution_count": null,
      "outputs": []
    },
    {
      "cell_type": "code",
      "source": [
        "# All the stances #31278\n",
        "left_stances_level_df.shape"
      ],
      "metadata": {
        "colab": {
          "base_uri": "https://localhost:8080/"
        },
        "id": "yqRzMLPU1Re4",
        "outputId": "c1de558e-64a6-48d0-8a4d-8c6e37fa3d10"
      },
      "execution_count": null,
      "outputs": [
        {
          "output_type": "execute_result",
          "data": {
            "text/plain": [
              "(31278, 4)"
            ]
          },
          "metadata": {},
          "execution_count": 12
        }
      ]
    },
    {
      "cell_type": "code",
      "source": [
        "# drop stances lists that have less than 2 elements\n",
        "updated_df= left_stances_level_df.drop(indices)"
      ],
      "metadata": {
        "id": "hBRDgbkI1Khm"
      },
      "execution_count": null,
      "outputs": []
    },
    {
      "cell_type": "code",
      "source": [
        "# Stances with more than 1 vlaue #30595\n",
        "updated_df.shape"
      ],
      "metadata": {
        "colab": {
          "base_uri": "https://localhost:8080/"
        },
        "id": "WtigbHaA1Tce",
        "outputId": "2d1ff792-139f-48aa-d861-7333a6c75e05"
      },
      "execution_count": null,
      "outputs": [
        {
          "output_type": "execute_result",
          "data": {
            "text/plain": [
              "(30263, 4)"
            ]
          },
          "metadata": {},
          "execution_count": 14
        }
      ]
    },
    {
      "cell_type": "markdown",
      "source": [
        "Checking all the remaining lists are longer than 2"
      ],
      "metadata": {
        "id": "UNJB5YhW1sPl"
      }
    },
    {
      "cell_type": "code",
      "source": [
        "stances2 = updated_df['stances']"
      ],
      "metadata": {
        "id": "EZbs94bz1aSc"
      },
      "execution_count": null,
      "outputs": []
    },
    {
      "cell_type": "code",
      "source": [
        "indices2 = [ id for id,x in enumerate(stances2) if len(x)<2 ]"
      ],
      "metadata": {
        "id": "Rr02mE631dQX"
      },
      "execution_count": null,
      "outputs": []
    },
    {
      "cell_type": "code",
      "source": [
        "indices2 # there are no lists shorter than 2 in the updated_df dataframe"
      ],
      "metadata": {
        "colab": {
          "base_uri": "https://localhost:8080/"
        },
        "id": "T44kNDqU1kKG",
        "outputId": "bb39ad99-d911-495c-980e-a9cb83ab9aa5"
      },
      "execution_count": null,
      "outputs": [
        {
          "output_type": "execute_result",
          "data": {
            "text/plain": [
              "[]"
            ]
          },
          "metadata": {},
          "execution_count": 17
        }
      ]
    },
    {
      "cell_type": "markdown",
      "source": [
        "### Shuffling the dataset"
      ],
      "metadata": {
        "id": "3Rp83sB9jVeT"
      }
    },
    {
      "cell_type": "code",
      "source": [
        "df = updated_df.sample(frac = 1,random_state=4)"
      ],
      "metadata": {
        "id": "R3ZOEC2jM8lT"
      },
      "execution_count": null,
      "outputs": []
    },
    {
      "cell_type": "code",
      "source": [
        "df.shape"
      ],
      "metadata": {
        "colab": {
          "base_uri": "https://localhost:8080/"
        },
        "id": "UD3SmNKgSqCx",
        "outputId": "af45fa50-9084-4005-9edd-bc17babf3130"
      },
      "execution_count": null,
      "outputs": [
        {
          "output_type": "execute_result",
          "data": {
            "text/plain": [
              "(30263, 4)"
            ]
          },
          "metadata": {},
          "execution_count": 24
        }
      ]
    },
    {
      "cell_type": "code",
      "source": [
        "df.head()"
      ],
      "metadata": {
        "colab": {
          "base_uri": "https://localhost:8080/",
          "height": 206
        },
        "id": "NGU1mJSjSrLE",
        "outputId": "f14af191-1bb7-46c0-d6cc-a8cdf537d04d"
      },
      "execution_count": null,
      "outputs": [
        {
          "output_type": "execute_result",
          "data": {
            "text/plain": [
              "           ID  y  level                                            stances\n",
              "26561  JuPt23  1    1.0  [36.08, 280.83, 440.88, 518.98, 637.78, 739.31...\n",
              "378    GaPt04  1    2.0  [26.51, 50.71, 97.57, 157.96, 217.36, 260.59, ...\n",
              "19590  JuPt11  1    1.0  [20.79, 120.34, 431.53, 549.12, 594.99, 612.59...\n",
              "24301  JuPt11  1    1.0  [40.7, 302.72, 458.37, 546.92, 625.79, 671.11,...\n",
              "7796   SiCo08  0    0.0  [33.11, 126.28, 260.15, 480.92, 637.78, 741.95..."
            ],
            "text/html": [
              "\n",
              "  <div id=\"df-657da0d2-bed0-45bd-96b7-fb763813394b\">\n",
              "    <div class=\"colab-df-container\">\n",
              "      <div>\n",
              "<style scoped>\n",
              "    .dataframe tbody tr th:only-of-type {\n",
              "        vertical-align: middle;\n",
              "    }\n",
              "\n",
              "    .dataframe tbody tr th {\n",
              "        vertical-align: top;\n",
              "    }\n",
              "\n",
              "    .dataframe thead th {\n",
              "        text-align: right;\n",
              "    }\n",
              "</style>\n",
              "<table border=\"1\" class=\"dataframe\">\n",
              "  <thead>\n",
              "    <tr style=\"text-align: right;\">\n",
              "      <th></th>\n",
              "      <th>ID</th>\n",
              "      <th>y</th>\n",
              "      <th>level</th>\n",
              "      <th>stances</th>\n",
              "    </tr>\n",
              "  </thead>\n",
              "  <tbody>\n",
              "    <tr>\n",
              "      <th>26561</th>\n",
              "      <td>JuPt23</td>\n",
              "      <td>1</td>\n",
              "      <td>1.0</td>\n",
              "      <td>[36.08, 280.83, 440.88, 518.98, 637.78, 739.31...</td>\n",
              "    </tr>\n",
              "    <tr>\n",
              "      <th>378</th>\n",
              "      <td>GaPt04</td>\n",
              "      <td>1</td>\n",
              "      <td>2.0</td>\n",
              "      <td>[26.51, 50.71, 97.57, 157.96, 217.36, 260.59, ...</td>\n",
              "    </tr>\n",
              "    <tr>\n",
              "      <th>19590</th>\n",
              "      <td>JuPt11</td>\n",
              "      <td>1</td>\n",
              "      <td>1.0</td>\n",
              "      <td>[20.79, 120.34, 431.53, 549.12, 594.99, 612.59...</td>\n",
              "    </tr>\n",
              "    <tr>\n",
              "      <th>24301</th>\n",
              "      <td>JuPt11</td>\n",
              "      <td>1</td>\n",
              "      <td>1.0</td>\n",
              "      <td>[40.7, 302.72, 458.37, 546.92, 625.79, 671.11,...</td>\n",
              "    </tr>\n",
              "    <tr>\n",
              "      <th>7796</th>\n",
              "      <td>SiCo08</td>\n",
              "      <td>0</td>\n",
              "      <td>0.0</td>\n",
              "      <td>[33.11, 126.28, 260.15, 480.92, 637.78, 741.95...</td>\n",
              "    </tr>\n",
              "  </tbody>\n",
              "</table>\n",
              "</div>\n",
              "      <button class=\"colab-df-convert\" onclick=\"convertToInteractive('df-657da0d2-bed0-45bd-96b7-fb763813394b')\"\n",
              "              title=\"Convert this dataframe to an interactive table.\"\n",
              "              style=\"display:none;\">\n",
              "        \n",
              "  <svg xmlns=\"http://www.w3.org/2000/svg\" height=\"24px\"viewBox=\"0 0 24 24\"\n",
              "       width=\"24px\">\n",
              "    <path d=\"M0 0h24v24H0V0z\" fill=\"none\"/>\n",
              "    <path d=\"M18.56 5.44l.94 2.06.94-2.06 2.06-.94-2.06-.94-.94-2.06-.94 2.06-2.06.94zm-11 1L8.5 8.5l.94-2.06 2.06-.94-2.06-.94L8.5 2.5l-.94 2.06-2.06.94zm10 10l.94 2.06.94-2.06 2.06-.94-2.06-.94-.94-2.06-.94 2.06-2.06.94z\"/><path d=\"M17.41 7.96l-1.37-1.37c-.4-.4-.92-.59-1.43-.59-.52 0-1.04.2-1.43.59L10.3 9.45l-7.72 7.72c-.78.78-.78 2.05 0 2.83L4 21.41c.39.39.9.59 1.41.59.51 0 1.02-.2 1.41-.59l7.78-7.78 2.81-2.81c.8-.78.8-2.07 0-2.86zM5.41 20L4 18.59l7.72-7.72 1.47 1.35L5.41 20z\"/>\n",
              "  </svg>\n",
              "      </button>\n",
              "      \n",
              "  <style>\n",
              "    .colab-df-container {\n",
              "      display:flex;\n",
              "      flex-wrap:wrap;\n",
              "      gap: 12px;\n",
              "    }\n",
              "\n",
              "    .colab-df-convert {\n",
              "      background-color: #E8F0FE;\n",
              "      border: none;\n",
              "      border-radius: 50%;\n",
              "      cursor: pointer;\n",
              "      display: none;\n",
              "      fill: #1967D2;\n",
              "      height: 32px;\n",
              "      padding: 0 0 0 0;\n",
              "      width: 32px;\n",
              "    }\n",
              "\n",
              "    .colab-df-convert:hover {\n",
              "      background-color: #E2EBFA;\n",
              "      box-shadow: 0px 1px 2px rgba(60, 64, 67, 0.3), 0px 1px 3px 1px rgba(60, 64, 67, 0.15);\n",
              "      fill: #174EA6;\n",
              "    }\n",
              "\n",
              "    [theme=dark] .colab-df-convert {\n",
              "      background-color: #3B4455;\n",
              "      fill: #D2E3FC;\n",
              "    }\n",
              "\n",
              "    [theme=dark] .colab-df-convert:hover {\n",
              "      background-color: #434B5C;\n",
              "      box-shadow: 0px 1px 3px 1px rgba(0, 0, 0, 0.15);\n",
              "      filter: drop-shadow(0px 1px 2px rgba(0, 0, 0, 0.3));\n",
              "      fill: #FFFFFF;\n",
              "    }\n",
              "  </style>\n",
              "\n",
              "      <script>\n",
              "        const buttonEl =\n",
              "          document.querySelector('#df-657da0d2-bed0-45bd-96b7-fb763813394b button.colab-df-convert');\n",
              "        buttonEl.style.display =\n",
              "          google.colab.kernel.accessAllowed ? 'block' : 'none';\n",
              "\n",
              "        async function convertToInteractive(key) {\n",
              "          const element = document.querySelector('#df-657da0d2-bed0-45bd-96b7-fb763813394b');\n",
              "          const dataTable =\n",
              "            await google.colab.kernel.invokeFunction('convertToInteractive',\n",
              "                                                     [key], {});\n",
              "          if (!dataTable) return;\n",
              "\n",
              "          const docLinkHtml = 'Like what you see? Visit the ' +\n",
              "            '<a target=\"_blank\" href=https://colab.research.google.com/notebooks/data_table.ipynb>data table notebook</a>'\n",
              "            + ' to learn more about interactive tables.';\n",
              "          element.innerHTML = '';\n",
              "          dataTable['output_type'] = 'display_data';\n",
              "          await google.colab.output.renderOutput(dataTable, element);\n",
              "          const docLink = document.createElement('div');\n",
              "          docLink.innerHTML = docLinkHtml;\n",
              "          element.appendChild(docLink);\n",
              "        }\n",
              "      </script>\n",
              "    </div>\n",
              "  </div>\n",
              "  "
            ]
          },
          "metadata": {},
          "execution_count": 25
        }
      ]
    },
    {
      "cell_type": "markdown",
      "source": [
        "Checking AGAIN that all the stances lists have at least 2 items"
      ],
      "metadata": {
        "id": "4uj4-SXVjV0O"
      }
    },
    {
      "cell_type": "code",
      "source": [
        "IDs = [ id for id,x in enumerate(df['stances']) if len(x)<2 ]"
      ],
      "metadata": {
        "id": "3FNBpn6tjjWa"
      },
      "execution_count": null,
      "outputs": []
    },
    {
      "cell_type": "code",
      "source": [
        "len(IDs) # the length is 0 then yes all the stances lists have at least 2 items"
      ],
      "metadata": {
        "colab": {
          "base_uri": "https://localhost:8080/"
        },
        "id": "oBYWoxOhjw4l",
        "outputId": "9b037487-020a-4619-af75-3efaf8c75304"
      },
      "execution_count": null,
      "outputs": [
        {
          "output_type": "execute_result",
          "data": {
            "text/plain": [
              "0"
            ]
          },
          "metadata": {},
          "execution_count": 20
        }
      ]
    },
    {
      "cell_type": "markdown",
      "source": [
        "### Transforming the dataset to a compitable format for the tslearn library."
      ],
      "metadata": {
        "id": "mtEdv4fD5vU4"
      }
    },
    {
      "cell_type": "code",
      "source": [
        "X = to_time_series_dataset(df['stances'].to_list())"
      ],
      "metadata": {
        "id": "OSm0ZSyX4elq"
      },
      "execution_count": null,
      "outputs": []
    },
    {
      "cell_type": "code",
      "source": [
        "len(X)/4"
      ],
      "metadata": {
        "colab": {
          "base_uri": "https://localhost:8080/"
        },
        "id": "YnzwB-XMJ7n6",
        "outputId": "dde31d5b-f07a-4cec-86a6-da31b87574d5"
      },
      "execution_count": null,
      "outputs": [
        {
          "output_type": "execute_result",
          "data": {
            "text/plain": [
              "7565.75"
            ]
          },
          "metadata": {},
          "execution_count": 32
        }
      ]
    },
    {
      "cell_type": "markdown",
      "source": [
        "### Clustering"
      ],
      "metadata": {
        "id": "4AphDI6H4kGG"
      }
    },
    {
      "cell_type": "code",
      "source": [
        "KM_left = TimeSeriesKMeans(n_clusters=2, metric=\"dtw\") # excuting time ~ 1h\n",
        "clusters_left = KM_left.fit_predict(X[:1000])"
      ],
      "metadata": {
        "id": "C_31SuoC512s"
      },
      "execution_count": null,
      "outputs": []
    },
    {
      "cell_type": "markdown",
      "source": [
        "### Viaualizing"
      ],
      "metadata": {
        "id": "ghQfKfJfSCCh"
      }
    },
    {
      "cell_type": "code",
      "source": [
        "predicted={0:[], 1:[]}\n",
        "for i, v in enumerate(clusters_left):\n",
        "    predicted[v].append(i)"
      ],
      "metadata": {
        "id": "-C3y-XVPSBvE"
      },
      "execution_count": null,
      "outputs": []
    },
    {
      "cell_type": "code",
      "source": [
        "for label in predicted[0]:\n",
        "  plt.plot(X[label].ravel(), \"k-\", alpha=.2)\n",
        "  #plt.plot(km.cluster_centers_[0].ravel(), \"r-\")\n",
        "  plt.title(\"Cluster 0\")"
      ],
      "metadata": {
        "colab": {
          "base_uri": "https://localhost:8080/",
          "height": 281
        },
        "id": "5l1u2AEmR9m7",
        "outputId": "eb1d4156-c8c1-4368-ba61-130c4f0af4fd"
      },
      "execution_count": null,
      "outputs": [
        {
          "output_type": "display_data",
          "data": {
            "text/plain": [
              "<Figure size 432x288 with 1 Axes>"
            ],
            "image/png": "[encoded data removed]"
          },
          "metadata": {
            "needs_background": "light"
          }
        }
      ]
    },
    {
      "cell_type": "code",
      "source": [
        "for label in predicted[1]:\n",
        "  plt.plot(X[label].ravel(), \"k-\", alpha=.2)\n",
        "  #plt.plot(km.cluster_centers_[0].ravel(), \"r-\")\n",
        "  plt.title(\"Cluster 1\")"
      ],
      "metadata": {
        "colab": {
          "base_uri": "https://localhost:8080/",
          "height": 281
        },
        "id": "9u7H7HXjSkm9",
        "outputId": "d1c8117a-39e2-4fa1-a674-2eafb74752c7"
      },
      "execution_count": null,
      "outputs": [
        {
          "output_type": "display_data",
          "data": {
            "text/plain": [
              "<Figure size 432x288 with 1 Axes>"
            ],
            "image/png": "[encoded data removed]"
          },
          "metadata": {
            "needs_background": "light"
          }
        }
      ]
    },
    {
      "cell_type": "markdown",
      "source": [
        "#### Calculate Data Distributions among the clusters"
      ],
      "metadata": {
        "id": "9tu2X2cpl_MN"
      }
    },
    {
      "cell_type": "code",
      "source": [
        "# the levels of 1000 subjects that were clustered\n",
        "levels = df['level'][:1000]"
      ],
      "metadata": {
        "id": "uNHzvZyVllxc"
      },
      "execution_count": null,
      "outputs": []
    },
    {
      "cell_type": "code",
      "source": [
        "# creating a datafrmae that contains each time series' cluster with the actual PD_level\n",
        "distriutions = pd.DataFrame(list(zip(clusters_left, levels)),\n",
        "               columns =['cluster', 'PD_level'])"
      ],
      "metadata": {
        "id": "9p_iM7sxmHla"
      },
      "execution_count": null,
      "outputs": []
    },
    {
      "cell_type": "code",
      "source": [
        "distriutions"
      ],
      "metadata": {
        "colab": {
          "base_uri": "https://localhost:8080/",
          "height": 424
        },
        "id": "KQOlMRImm0u0",
        "outputId": "da2429e5-9d76-4bd1-f3d0-0dee812b74a1"
      },
      "execution_count": null,
      "outputs": [
        {
          "output_type": "execute_result",
          "data": {
            "text/plain": [
              "     cluster  PD_level\n",
              "0          1       1.0\n",
              "1          1       2.0\n",
              "2          1       1.0\n",
              "3          1       1.0\n",
              "4          1       0.0\n",
              "..       ...       ...\n",
              "995        1       2.0\n",
              "996        1       1.0\n",
              "997        1       0.0\n",
              "998        1       1.0\n",
              "999        1       0.0\n",
              "\n",
              "[1000 rows x 2 columns]"
            ],
            "text/html": [
              "\n",
              "  <div id=\"df-7adef3e2-b0c4-4ef0-9ee0-3d8b68e682e2\">\n",
              "    <div class=\"colab-df-container\">\n",
              "      <div>\n",
              "<style scoped>\n",
              "    .dataframe tbody tr th:only-of-type {\n",
              "        vertical-align: middle;\n",
              "    }\n",
              "\n",
              "    .dataframe tbody tr th {\n",
              "        vertical-align: top;\n",
              "    }\n",
              "\n",
              "    .dataframe thead th {\n",
              "        text-align: right;\n",
              "    }\n",
              "</style>\n",
              "<table border=\"1\" class=\"dataframe\">\n",
              "  <thead>\n",
              "    <tr style=\"text-align: right;\">\n",
              "      <th></th>\n",
              "      <th>cluster</th>\n",
              "      <th>PD_level</th>\n",
              "    </tr>\n",
              "  </thead>\n",
              "  <tbody>\n",
              "    <tr>\n",
              "      <th>0</th>\n",
              "      <td>1</td>\n",
              "      <td>1.0</td>\n",
              "    </tr>\n",
              "    <tr>\n",
              "      <th>1</th>\n",
              "      <td>1</td>\n",
              "      <td>2.0</td>\n",
              "    </tr>\n",
              "    <tr>\n",
              "      <th>2</th>\n",
              "      <td>1</td>\n",
              "      <td>1.0</td>\n",
              "    </tr>\n",
              "    <tr>\n",
              "      <th>3</th>\n",
              "      <td>1</td>\n",
              "      <td>1.0</td>\n",
              "    </tr>\n",
              "    <tr>\n",
              "      <th>4</th>\n",
              "      <td>1</td>\n",
              "      <td>0.0</td>\n",
              "    </tr>\n",
              "    <tr>\n",
              "      <th>...</th>\n",
              "      <td>...</td>\n",
              "      <td>...</td>\n",
              "    </tr>\n",
              "    <tr>\n",
              "      <th>995</th>\n",
              "      <td>1</td>\n",
              "      <td>2.0</td>\n",
              "    </tr>\n",
              "    <tr>\n",
              "      <th>996</th>\n",
              "      <td>1</td>\n",
              "      <td>1.0</td>\n",
              "    </tr>\n",
              "    <tr>\n",
              "      <th>997</th>\n",
              "      <td>1</td>\n",
              "      <td>0.0</td>\n",
              "    </tr>\n",
              "    <tr>\n",
              "      <th>998</th>\n",
              "      <td>1</td>\n",
              "      <td>1.0</td>\n",
              "    </tr>\n",
              "    <tr>\n",
              "      <th>999</th>\n",
              "      <td>1</td>\n",
              "      <td>0.0</td>\n",
              "    </tr>\n",
              "  </tbody>\n",
              "</table>\n",
              "<p>1000 rows × 2 columns</p>\n",
              "</div>\n",
              "      <button class=\"colab-df-convert\" onclick=\"convertToInteractive('df-7adef3e2-b0c4-4ef0-9ee0-3d8b68e682e2')\"\n",
              "              title=\"Convert this dataframe to an interactive table.\"\n",
              "              style=\"display:none;\">\n",
              "        \n",
              "  <svg xmlns=\"http://www.w3.org/2000/svg\" height=\"24px\"viewBox=\"0 0 24 24\"\n",
              "       width=\"24px\">\n",
              "    <path d=\"M0 0h24v24H0V0z\" fill=\"none\"/>\n",
              "    <path d=\"M18.56 5.44l.94 2.06.94-2.06 2.06-.94-2.06-.94-.94-2.06-.94 2.06-2.06.94zm-11 1L8.5 8.5l.94-2.06 2.06-.94-2.06-.94L8.5 2.5l-.94 2.06-2.06.94zm10 10l.94 2.06.94-2.06 2.06-.94-2.06-.94-.94-2.06-.94 2.06-2.06.94z\"/><path d=\"M17.41 7.96l-1.37-1.37c-.4-.4-.92-.59-1.43-.59-.52 0-1.04.2-1.43.59L10.3 9.45l-7.72 7.72c-.78.78-.78 2.05 0 2.83L4 21.41c.39.39.9.59 1.41.59.51 0 1.02-.2 1.41-.59l7.78-7.78 2.81-2.81c.8-.78.8-2.07 0-2.86zM5.41 20L4 18.59l7.72-7.72 1.47 1.35L5.41 20z\"/>\n",
              "  </svg>\n",
              "      </button>\n",
              "      \n",
              "  <style>\n",
              "    .colab-df-container {\n",
              "      display:flex;\n",
              "      flex-wrap:wrap;\n",
              "      gap: 12px;\n",
              "    }\n",
              "\n",
              "    .colab-df-convert {\n",
              "      background-color: #E8F0FE;\n",
              "      border: none;\n",
              "      border-radius: 50%;\n",
              "      cursor: pointer;\n",
              "      display: none;\n",
              "      fill: #1967D2;\n",
              "      height: 32px;\n",
              "      padding: 0 0 0 0;\n",
              "      width: 32px;\n",
              "    }\n",
              "\n",
              "    .colab-df-convert:hover {\n",
              "      background-color: #E2EBFA;\n",
              "      box-shadow: 0px 1px 2px rgba(60, 64, 67, 0.3), 0px 1px 3px 1px rgba(60, 64, 67, 0.15);\n",
              "      fill: #174EA6;\n",
              "    }\n",
              "\n",
              "    [theme=dark] .colab-df-convert {\n",
              "      background-color: #3B4455;\n",
              "      fill: #D2E3FC;\n",
              "    }\n",
              "\n",
              "    [theme=dark] .colab-df-convert:hover {\n",
              "      background-color: #434B5C;\n",
              "      box-shadow: 0px 1px 3px 1px rgba(0, 0, 0, 0.15);\n",
              "      filter: drop-shadow(0px 1px 2px rgba(0, 0, 0, 0.3));\n",
              "      fill: #FFFFFF;\n",
              "    }\n",
              "  </style>\n",
              "\n",
              "      <script>\n",
              "        const buttonEl =\n",
              "          document.querySelector('#df-7adef3e2-b0c4-4ef0-9ee0-3d8b68e682e2 button.colab-df-convert');\n",
              "        buttonEl.style.display =\n",
              "          google.colab.kernel.accessAllowed ? 'block' : 'none';\n",
              "\n",
              "        async function convertToInteractive(key) {\n",
              "          const element = document.querySelector('#df-7adef3e2-b0c4-4ef0-9ee0-3d8b68e682e2');\n",
              "          const dataTable =\n",
              "            await google.colab.kernel.invokeFunction('convertToInteractive',\n",
              "                                                     [key], {});\n",
              "          if (!dataTable) return;\n",
              "\n",
              "          const docLinkHtml = 'Like what you see? Visit the ' +\n",
              "            '<a target=\"_blank\" href=https://colab.research.google.com/notebooks/data_table.ipynb>data table notebook</a>'\n",
              "            + ' to learn more about interactive tables.';\n",
              "          element.innerHTML = '';\n",
              "          dataTable['output_type'] = 'display_data';\n",
              "          await google.colab.output.renderOutput(dataTable, element);\n",
              "          const docLink = document.createElement('div');\n",
              "          docLink.innerHTML = docLinkHtml;\n",
              "          element.appendChild(docLink);\n",
              "        }\n",
              "      </script>\n",
              "    </div>\n",
              "  </div>\n",
              "  "
            ]
          },
          "metadata": {},
          "execution_count": 31
        }
      ]
    },
    {
      "cell_type": "code",
      "source": [
        "counts = distriutions.pivot_table(index = ['cluster','PD_level'], aggfunc ='size')"
      ],
      "metadata": {
        "id": "N_LlhJG8oDIm"
      },
      "execution_count": null,
      "outputs": []
    },
    {
      "cell_type": "code",
      "source": [
        "# the counts pivot table shows the count of subjects of each PD level in each cluster\n",
        "counts"
      ],
      "metadata": {
        "colab": {
          "base_uri": "https://localhost:8080/"
        },
        "id": "sTG_o-3ym6_0",
        "outputId": "9244c80e-6306-47f6-c60e-201915eba978"
      },
      "execution_count": null,
      "outputs": [
        {
          "output_type": "execute_result",
          "data": {
            "text/plain": [
              "cluster  PD_level\n",
              "0        0.0          20\n",
              "         1.0          36\n",
              "         2.0          16\n",
              "         3.0          15\n",
              "1        0.0         275\n",
              "         1.0         328\n",
              "         2.0         244\n",
              "         3.0          66\n",
              "dtype: int64"
            ]
          },
          "metadata": {},
          "execution_count": 33
        }
      ]
    },
    {
      "cell_type": "code",
      "source": [
        "# Calculating the number of each PD level in the clustered data\n",
        "PD_0 = counts[0][0.0]+counts[1][0.0]\n",
        "PD_1 = counts[0][1.0]+counts[1][1.0]\n",
        "PD_2 = counts[0][2.0]+counts[1][2.0]\n",
        "PD_3 = counts[0][3.0]+counts[1][3.0]"
      ],
      "metadata": {
        "id": "I7UEvgm-ndwp"
      },
      "execution_count": null,
      "outputs": []
    },
    {
      "cell_type": "code",
      "source": [
        "# the counts from the pivot table `counts`\n",
        "counts.values"
      ],
      "metadata": {
        "colab": {
          "base_uri": "https://localhost:8080/"
        },
        "id": "L0R_S1V-qCCf",
        "outputId": "078e750d-0ac9-4570-9438-1817687be1c2"
      },
      "execution_count": null,
      "outputs": [
        {
          "output_type": "execute_result",
          "data": {
            "text/plain": [
              "array([ 20,  36,  16,  15, 275, 328, 244,  66])"
            ]
          },
          "metadata": {},
          "execution_count": 35
        }
      ]
    },
    {
      "cell_type": "code",
      "source": [
        "# Finding the precentage of each PD level of the count of subjects in each cluster individually \n",
        "each_cluster_distribution = list(counts.values[:4]/len(predicted[0])) # predicted[0] is the count of individuals \n",
        "each_cluster_distribution+=list(counts.values[4:8]/len(predicted[1]))\n",
        "each_cluster_distribution = list(np.around(np.array(each_cluster_distribution),2))"
      ],
      "metadata": {
        "id": "dnJ7BD_jr8cz"
      },
      "execution_count": null,
      "outputs": []
    },
    {
      "cell_type": "code",
      "source": [
        "# Find the precentage of each PD level distributed among clusters of the count of each PD level in the 1000 subjects in data\n",
        "each_level_distribution=8*[0]\n",
        "for i in range(len(counts.values)-1):\n",
        "  if (i%4 == 0 ):\n",
        "    each_level_distribution[i] = counts.values[i]/PD_0\n",
        "  elif (i%4 == 1 ):\n",
        "    each_level_distribution[i] = counts.values[i]/PD_1\n",
        "  elif (i%4 == 2 ):\n",
        "    each_level_distribution[i] = counts.values[i]/PD_2\n",
        "  elif (i%4 == 3 ):\n",
        "    each_level_distribution[i] = counts.values[i]/PD_3"
      ],
      "metadata": {
        "id": "3ytpnM1jwedL"
      },
      "execution_count": null,
      "outputs": []
    },
    {
      "cell_type": "code",
      "source": [
        "# rounding\n",
        "each_level_distribution = list(np.around(np.array(each_level_distribution),2))"
      ],
      "metadata": {
        "id": "lzafUmyHyInw"
      },
      "execution_count": null,
      "outputs": []
    },
    {
      "cell_type": "code",
      "source": [
        "# forming the final dataset that hold the counts and distibutions\n",
        "clusters = [0,0,0,0,1,1,1,1]\n",
        "levels = list(2*[0.0,1.0,2.0,3.0])"
      ],
      "metadata": {
        "id": "PCmSSBSDvp2c"
      },
      "execution_count": null,
      "outputs": []
    },
    {
      "cell_type": "code",
      "source": [
        "Distributions_df = pd.DataFrame(list(zip(clusters, levels,counts.values, each_cluster_distribution,each_level_distribution)),\n",
        "               columns =['cluster', 'PD_level', 'subjects_count', 'distribution_in_cluster' , 'distribution_in_levels'])"
      ],
      "metadata": {
        "id": "hWCAJ5kByivm"
      },
      "execution_count": null,
      "outputs": []
    },
    {
      "cell_type": "markdown",
      "source": [
        "#### The distributions"
      ],
      "metadata": {
        "id": "DQZ_AxX1iFTf"
      }
    },
    {
      "cell_type": "markdown",
      "source": [
        "`distribution_in_cluster` columns holds the precentage of each PD level in each cluster. The sum of it in one cluster = 1"
      ],
      "metadata": {
        "id": "iSmd0kzB7659"
      }
    },
    {
      "cell_type": "code",
      "source": [
        "Distributions_df"
      ],
      "metadata": {
        "colab": {
          "base_uri": "https://localhost:8080/",
          "height": 300
        },
        "id": "1HGUxIihzO9v",
        "outputId": "66882268-5bf0-4a40-b086-aa21ee2aa77a"
      },
      "execution_count": null,
      "outputs": [
        {
          "output_type": "execute_result",
          "data": {
            "text/plain": [
              "   cluster  PD_level  subjects_count  distribution_in_cluster  \\\n",
              "0        0       0.0              20                     0.23   \n",
              "1        0       1.0              36                     0.41   \n",
              "2        0       2.0              16                     0.18   \n",
              "3        0       3.0              15                     0.17   \n",
              "4        1       0.0             275                     0.30   \n",
              "5        1       1.0             328                     0.36   \n",
              "6        1       2.0             244                     0.27   \n",
              "7        1       3.0              66                     0.07   \n",
              "\n",
              "   distribution_in_levels  \n",
              "0                    0.07  \n",
              "1                    0.10  \n",
              "2                    0.06  \n",
              "3                    0.19  \n",
              "4                    0.93  \n",
              "5                    0.90  \n",
              "6                    0.94  \n",
              "7                    0.00  "
            ],
            "text/html": [
              "\n",
              "  <div id=\"df-f103a29c-ebac-46b2-840d-3c732609cbe8\">\n",
              "    <div class=\"colab-df-container\">\n",
              "      <div>\n",
              "<style scoped>\n",
              "    .dataframe tbody tr th:only-of-type {\n",
              "        vertical-align: middle;\n",
              "    }\n",
              "\n",
              "    .dataframe tbody tr th {\n",
              "        vertical-align: top;\n",
              "    }\n",
              "\n",
              "    .dataframe thead th {\n",
              "        text-align: right;\n",
              "    }\n",
              "</style>\n",
              "<table border=\"1\" class=\"dataframe\">\n",
              "  <thead>\n",
              "    <tr style=\"text-align: right;\">\n",
              "      <th></th>\n",
              "      <th>cluster</th>\n",
              "      <th>PD_level</th>\n",
              "      <th>subjects_count</th>\n",
              "      <th>distribution_in_cluster</th>\n",
              "      <th>distribution_in_levels</th>\n",
              "    </tr>\n",
              "  </thead>\n",
              "  <tbody>\n",
              "    <tr>\n",
              "      <th>0</th>\n",
              "      <td>0</td>\n",
              "      <td>0.0</td>\n",
              "      <td>20</td>\n",
              "      <td>0.23</td>\n",
              "      <td>0.07</td>\n",
              "    </tr>\n",
              "    <tr>\n",
              "      <th>1</th>\n",
              "      <td>0</td>\n",
              "      <td>1.0</td>\n",
              "      <td>36</td>\n",
              "      <td>0.41</td>\n",
              "      <td>0.10</td>\n",
              "    </tr>\n",
              "    <tr>\n",
              "      <th>2</th>\n",
              "      <td>0</td>\n",
              "      <td>2.0</td>\n",
              "      <td>16</td>\n",
              "      <td>0.18</td>\n",
              "      <td>0.06</td>\n",
              "    </tr>\n",
              "    <tr>\n",
              "      <th>3</th>\n",
              "      <td>0</td>\n",
              "      <td>3.0</td>\n",
              "      <td>15</td>\n",
              "      <td>0.17</td>\n",
              "      <td>0.19</td>\n",
              "    </tr>\n",
              "    <tr>\n",
              "      <th>4</th>\n",
              "      <td>1</td>\n",
              "      <td>0.0</td>\n",
              "      <td>275</td>\n",
              "      <td>0.30</td>\n",
              "      <td>0.93</td>\n",
              "    </tr>\n",
              "    <tr>\n",
              "      <th>5</th>\n",
              "      <td>1</td>\n",
              "      <td>1.0</td>\n",
              "      <td>328</td>\n",
              "      <td>0.36</td>\n",
              "      <td>0.90</td>\n",
              "    </tr>\n",
              "    <tr>\n",
              "      <th>6</th>\n",
              "      <td>1</td>\n",
              "      <td>2.0</td>\n",
              "      <td>244</td>\n",
              "      <td>0.27</td>\n",
              "      <td>0.94</td>\n",
              "    </tr>\n",
              "    <tr>\n",
              "      <th>7</th>\n",
              "      <td>1</td>\n",
              "      <td>3.0</td>\n",
              "      <td>66</td>\n",
              "      <td>0.07</td>\n",
              "      <td>0.00</td>\n",
              "    </tr>\n",
              "  </tbody>\n",
              "</table>\n",
              "</div>\n",
              "      <button class=\"colab-df-convert\" onclick=\"convertToInteractive('df-f103a29c-ebac-46b2-840d-3c732609cbe8')\"\n",
              "              title=\"Convert this dataframe to an interactive table.\"\n",
              "              style=\"display:none;\">\n",
              "        \n",
              "  <svg xmlns=\"http://www.w3.org/2000/svg\" height=\"24px\"viewBox=\"0 0 24 24\"\n",
              "       width=\"24px\">\n",
              "    <path d=\"M0 0h24v24H0V0z\" fill=\"none\"/>\n",
              "    <path d=\"M18.56 5.44l.94 2.06.94-2.06 2.06-.94-2.06-.94-.94-2.06-.94 2.06-2.06.94zm-11 1L8.5 8.5l.94-2.06 2.06-.94-2.06-.94L8.5 2.5l-.94 2.06-2.06.94zm10 10l.94 2.06.94-2.06 2.06-.94-2.06-.94-.94-2.06-.94 2.06-2.06.94z\"/><path d=\"M17.41 7.96l-1.37-1.37c-.4-.4-.92-.59-1.43-.59-.52 0-1.04.2-1.43.59L10.3 9.45l-7.72 7.72c-.78.78-.78 2.05 0 2.83L4 21.41c.39.39.9.59 1.41.59.51 0 1.02-.2 1.41-.59l7.78-7.78 2.81-2.81c.8-.78.8-2.07 0-2.86zM5.41 20L4 18.59l7.72-7.72 1.47 1.35L5.41 20z\"/>\n",
              "  </svg>\n",
              "      </button>\n",
              "      \n",
              "  <style>\n",
              "    .colab-df-container {\n",
              "      display:flex;\n",
              "      flex-wrap:wrap;\n",
              "      gap: 12px;\n",
              "    }\n",
              "\n",
              "    .colab-df-convert {\n",
              "      background-color: #E8F0FE;\n",
              "      border: none;\n",
              "      border-radius: 50%;\n",
              "      cursor: pointer;\n",
              "      display: none;\n",
              "      fill: #1967D2;\n",
              "      height: 32px;\n",
              "      padding: 0 0 0 0;\n",
              "      width: 32px;\n",
              "    }\n",
              "\n",
              "    .colab-df-convert:hover {\n",
              "      background-color: #E2EBFA;\n",
              "      box-shadow: 0px 1px 2px rgba(60, 64, 67, 0.3), 0px 1px 3px 1px rgba(60, 64, 67, 0.15);\n",
              "      fill: #174EA6;\n",
              "    }\n",
              "\n",
              "    [theme=dark] .colab-df-convert {\n",
              "      background-color: #3B4455;\n",
              "      fill: #D2E3FC;\n",
              "    }\n",
              "\n",
              "    [theme=dark] .colab-df-convert:hover {\n",
              "      background-color: #434B5C;\n",
              "      box-shadow: 0px 1px 3px 1px rgba(0, 0, 0, 0.15);\n",
              "      filter: drop-shadow(0px 1px 2px rgba(0, 0, 0, 0.3));\n",
              "      fill: #FFFFFF;\n",
              "    }\n",
              "  </style>\n",
              "\n",
              "      <script>\n",
              "        const buttonEl =\n",
              "          document.querySelector('#df-f103a29c-ebac-46b2-840d-3c732609cbe8 button.colab-df-convert');\n",
              "        buttonEl.style.display =\n",
              "          google.colab.kernel.accessAllowed ? 'block' : 'none';\n",
              "\n",
              "        async function convertToInteractive(key) {\n",
              "          const element = document.querySelector('#df-f103a29c-ebac-46b2-840d-3c732609cbe8');\n",
              "          const dataTable =\n",
              "            await google.colab.kernel.invokeFunction('convertToInteractive',\n",
              "                                                     [key], {});\n",
              "          if (!dataTable) return;\n",
              "\n",
              "          const docLinkHtml = 'Like what you see? Visit the ' +\n",
              "            '<a target=\"_blank\" href=https://colab.research.google.com/notebooks/data_table.ipynb>data table notebook</a>'\n",
              "            + ' to learn more about interactive tables.';\n",
              "          element.innerHTML = '';\n",
              "          dataTable['output_type'] = 'display_data';\n",
              "          await google.colab.output.renderOutput(dataTable, element);\n",
              "          const docLink = document.createElement('div');\n",
              "          docLink.innerHTML = docLinkHtml;\n",
              "          element.appendChild(docLink);\n",
              "        }\n",
              "      </script>\n",
              "    </div>\n",
              "  </div>\n",
              "  "
            ]
          },
          "metadata": {},
          "execution_count": 42
        }
      ]
    },
    {
      "cell_type": "markdown",
      "source": [
        "**Cluster 0** has 93% of Health Control, 90% of people with 1.0 Parkinson's level, 94% of people with 2.0 Parkinson's level, and 0% of people with 3 PL.\n",
        "\n"
      ],
      "metadata": {
        "id": "4ES3foDLUOBh"
      }
    },
    {
      "cell_type": "markdown",
      "source": [
        "23% of people in Cluster 0 are from Health Control, 41% people with 1.0 PL, 18% people with 2.0 PL, and 17% people with 3 PL."
      ],
      "metadata": {
        "id": "18tMcTEk83bx"
      }
    }
  ]
}