{
  "nbformat": 4,
  "nbformat_minor": 0,
  "metadata": {
    "colab": {
      "provenance": [],
      "collapsed_sections": [
        "QXdKpXoD5HYI",
        "qoy1lhBktQJD",
        "3Rp83sB9jVeT",
        "mtEdv4fD5vU4"
      ]
    },
    "kernelspec": {
      "name": "python3",
      "display_name": "Python 3"
    },
    "language_info": {
      "name": "python"
    }
  },
  "cells": [
    {
      "cell_type": "markdown",
      "source": [
        "Let's start with clustering all the stances from the right foot only.\n",
        "The stances are calculated from one feature (the sum of all sensors under the right foot for each patient)"
      ],
      "metadata": {
        "id": "6GVq2cKOJlvS"
      }
    },
    {
      "cell_type": "markdown",
      "source": [
        "### Importing"
      ],
      "metadata": {
        "id": "BhQLOcEniNgp"
      }
    },
    {
      "cell_type": "code",
      "source": [
        "pip install tslearn"
      ],
      "metadata": {
        "colab": {
          "base_uri": "https://localhost:8080/"
        },
        "id": "5aKMvfgfLmrn",
        "outputId": "c8406123-eb01-4d55-80b2-201bf71d2ebe"
      },
      "execution_count": null,
      "outputs": [
        {
          "output_type": "stream",
          "name": "stdout",
          "text": [
            "Looking in indexes: https://pypi.org/simple, https://us-python.pkg.dev/colab-wheels/public/simple/\n",
            "Requirement already satisfied: tslearn in /usr/local/lib/python3.8/dist-packages (0.5.3.2)\n",
            "Requirement already satisfied: joblib in /usr/local/lib/python3.8/dist-packages (from tslearn) (1.2.0)\n",
            "Requirement already satisfied: numpy in /usr/local/lib/python3.8/dist-packages (from tslearn) (1.22.4)\n",
            "Requirement already satisfied: scipy in /usr/local/lib/python3.8/dist-packages (from tslearn) (1.7.3)\n",
            "Requirement already satisfied: scikit-learn in /usr/local/lib/python3.8/dist-packages (from tslearn) (1.0.2)\n",
            "Requirement already satisfied: numba in /usr/local/lib/python3.8/dist-packages (from tslearn) (0.56.4)\n",
            "Requirement already satisfied: importlib-metadata in /usr/local/lib/python3.8/dist-packages (from numba->tslearn) (6.0.0)\n",
            "Requirement already satisfied: setuptools in /usr/local/lib/python3.8/dist-packages (from numba->tslearn) (57.4.0)\n",
            "Requirement already satisfied: llvmlite<0.40,>=0.39.0dev0 in /usr/local/lib/python3.8/dist-packages (from numba->tslearn) (0.39.1)\n",
            "Requirement already satisfied: threadpoolctl>=2.0.0 in /usr/local/lib/python3.8/dist-packages (from scikit-learn->tslearn) (3.1.0)\n",
            "Requirement already satisfied: zipp>=0.5 in /usr/local/lib/python3.8/dist-packages (from importlib-metadata->numba->tslearn) (3.13.0)\n"
          ]
        }
      ]
    },
    {
      "cell_type": "code",
      "execution_count": null,
      "metadata": {
        "id": "7rZBNbzIJfUN",
        "colab": {
          "base_uri": "https://localhost:8080/",
          "height": 52
        },
        "outputId": "8955159e-4c28-46a7-f6d5-d80f691245e1"
      },
      "outputs": [
        {
          "output_type": "execute_result",
          "data": {
            "text/plain": [
              "<Figure size 432x288 with 0 Axes>"
            ]
          },
          "metadata": {},
          "execution_count": 4
        },
        {
          "output_type": "display_data",
          "data": {
            "text/plain": [
              "<Figure size 432x288 with 0 Axes>"
            ]
          },
          "metadata": {}
        }
      ],
      "source": [
        "import pandas as pd\n",
        "import numpy as np\n",
        "\n",
        "from sklearn.preprocessing import PolynomialFeatures\n",
        "from sklearn import decomposition\n",
        "from sklearn.model_selection import train_test_split\n",
        "from sklearn import decomposition\n",
        "\n",
        "import os\n",
        "\n",
        "from tqdm.auto import tqdm\n",
        "\n",
        "from tslearn.clustering import TimeSeriesKMeans\n",
        "from tslearn.utils import to_time_series_dataset\n",
        "\n",
        "import ast\n",
        "\n",
        "import matplotlib.pyplot as plt\n",
        "plt.figure()"
      ]
    },
    {
      "cell_type": "markdown",
      "source": [
        "### Reading the dataset"
      ],
      "metadata": {
        "id": "WmQAJVEjiP4Z"
      }
    },
    {
      "cell_type": "code",
      "source": [
        "# path of original data folder\n",
        "data_path = \"/content/drive/MyDrive/ITMO-Master's/Thesis/3rd_semester/Data\"\n",
        "csvD_path = \"/content/drive/MyDrive/ITMO-Master's/Thesis/3rd_semester/Data/csv_files\"\n",
        "demographics = \"/content/drive/MyDrive/ITMO-Master's/Thesis/3rd_semester/Data/demographics.csv\"\n",
        "dem_df = pd.read_csv(demographics)"
      ],
      "metadata": {
        "id": "NJh8EXU71npV"
      },
      "execution_count": null,
      "outputs": []
    },
    {
      "cell_type": "code",
      "source": [
        "# reading the data info file about the right stances\n",
        "right_stances_level_df= pd.read_csv(data_path + '/data_right_stances.csv')"
      ],
      "metadata": {
        "id": "RgCNMtgn3S1C"
      },
      "execution_count": null,
      "outputs": []
    },
    {
      "cell_type": "code",
      "source": [
        "right_stances_level_df.head()"
      ],
      "metadata": {
        "colab": {
          "base_uri": "https://localhost:8080/",
          "height": 206
        },
        "id": "eDufLB_hMofs",
        "outputId": "ebb4aa9a-94df-4d36-e001-f11163650dd6"
      },
      "execution_count": null,
      "outputs": [
        {
          "output_type": "execute_result",
          "data": {
            "text/plain": [
              "       ID  y  level                                      right_stances\n",
              "0  GaPt03  1    3.0  [23.1, 41.69, 71.17, 138.82, 195.69, 230.78, 2...\n",
              "1  GaPt03  1    3.0  [34.76, 61.27, 113.19, 165.22, 218.02, 260.26,...\n",
              "2  GaPt03  1    3.0  [25.41, 39.38, 55.55, 89.98, 125.95, 168.63, 2...\n",
              "3  GaPt03  1    3.0  [27.72, 46.31, 74.58, 135.85, 189.09, 226.93, ...\n",
              "4  GaPt03  1    3.0  [32.45, 55.55, 113.3, 180.95, 243.87, 285.01, ..."
            ],
            "text/html": [
              "\n",
              "  <div id=\"df-653cb741-62a9-462c-a1ac-3e96d8f908a3\">\n",
              "    <div class=\"colab-df-container\">\n",
              "      <div>\n",
              "<style scoped>\n",
              "    .dataframe tbody tr th:only-of-type {\n",
              "        vertical-align: middle;\n",
              "    }\n",
              "\n",
              "    .dataframe tbody tr th {\n",
              "        vertical-align: top;\n",
              "    }\n",
              "\n",
              "    .dataframe thead th {\n",
              "        text-align: right;\n",
              "    }\n",
              "</style>\n",
              "<table border=\"1\" class=\"dataframe\">\n",
              "  <thead>\n",
              "    <tr style=\"text-align: right;\">\n",
              "      <th></th>\n",
              "      <th>ID</th>\n",
              "      <th>y</th>\n",
              "      <th>level</th>\n",
              "      <th>right_stances</th>\n",
              "    </tr>\n",
              "  </thead>\n",
              "  <tbody>\n",
              "    <tr>\n",
              "      <th>0</th>\n",
              "      <td>GaPt03</td>\n",
              "      <td>1</td>\n",
              "      <td>3.0</td>\n",
              "      <td>[23.1, 41.69, 71.17, 138.82, 195.69, 230.78, 2...</td>\n",
              "    </tr>\n",
              "    <tr>\n",
              "      <th>1</th>\n",
              "      <td>GaPt03</td>\n",
              "      <td>1</td>\n",
              "      <td>3.0</td>\n",
              "      <td>[34.76, 61.27, 113.19, 165.22, 218.02, 260.26,...</td>\n",
              "    </tr>\n",
              "    <tr>\n",
              "      <th>2</th>\n",
              "      <td>GaPt03</td>\n",
              "      <td>1</td>\n",
              "      <td>3.0</td>\n",
              "      <td>[25.41, 39.38, 55.55, 89.98, 125.95, 168.63, 2...</td>\n",
              "    </tr>\n",
              "    <tr>\n",
              "      <th>3</th>\n",
              "      <td>GaPt03</td>\n",
              "      <td>1</td>\n",
              "      <td>3.0</td>\n",
              "      <td>[27.72, 46.31, 74.58, 135.85, 189.09, 226.93, ...</td>\n",
              "    </tr>\n",
              "    <tr>\n",
              "      <th>4</th>\n",
              "      <td>GaPt03</td>\n",
              "      <td>1</td>\n",
              "      <td>3.0</td>\n",
              "      <td>[32.45, 55.55, 113.3, 180.95, 243.87, 285.01, ...</td>\n",
              "    </tr>\n",
              "  </tbody>\n",
              "</table>\n",
              "</div>\n",
              "      <button class=\"colab-df-convert\" onclick=\"convertToInteractive('df-653cb741-62a9-462c-a1ac-3e96d8f908a3')\"\n",
              "              title=\"Convert this dataframe to an interactive table.\"\n",
              "              style=\"display:none;\">\n",
              "        \n",
              "  <svg xmlns=\"http://www.w3.org/2000/svg\" height=\"24px\"viewBox=\"0 0 24 24\"\n",
              "       width=\"24px\">\n",
              "    <path d=\"M0 0h24v24H0V0z\" fill=\"none\"/>\n",
              "    <path d=\"M18.56 5.44l.94 2.06.94-2.06 2.06-.94-2.06-.94-.94-2.06-.94 2.06-2.06.94zm-11 1L8.5 8.5l.94-2.06 2.06-.94-2.06-.94L8.5 2.5l-.94 2.06-2.06.94zm10 10l.94 2.06.94-2.06 2.06-.94-2.06-.94-.94-2.06-.94 2.06-2.06.94z\"/><path d=\"M17.41 7.96l-1.37-1.37c-.4-.4-.92-.59-1.43-.59-.52 0-1.04.2-1.43.59L10.3 9.45l-7.72 7.72c-.78.78-.78 2.05 0 2.83L4 21.41c.39.39.9.59 1.41.59.51 0 1.02-.2 1.41-.59l7.78-7.78 2.81-2.81c.8-.78.8-2.07 0-2.86zM5.41 20L4 18.59l7.72-7.72 1.47 1.35L5.41 20z\"/>\n",
              "  </svg>\n",
              "      </button>\n",
              "      \n",
              "  <style>\n",
              "    .colab-df-container {\n",
              "      display:flex;\n",
              "      flex-wrap:wrap;\n",
              "      gap: 12px;\n",
              "    }\n",
              "\n",
              "    .colab-df-convert {\n",
              "      background-color: #E8F0FE;\n",
              "      border: none;\n",
              "      border-radius: 50%;\n",
              "      cursor: pointer;\n",
              "      display: none;\n",
              "      fill: #1967D2;\n",
              "      height: 32px;\n",
              "      padding: 0 0 0 0;\n",
              "      width: 32px;\n",
              "    }\n",
              "\n",
              "    .colab-df-convert:hover {\n",
              "      background-color: #E2EBFA;\n",
              "      box-shadow: 0px 1px 2px rgba(60, 64, 67, 0.3), 0px 1px 3px 1px rgba(60, 64, 67, 0.15);\n",
              "      fill: #174EA6;\n",
              "    }\n",
              "\n",
              "    [theme=dark] .colab-df-convert {\n",
              "      background-color: #3B4455;\n",
              "      fill: #D2E3FC;\n",
              "    }\n",
              "\n",
              "    [theme=dark] .colab-df-convert:hover {\n",
              "      background-color: #434B5C;\n",
              "      box-shadow: 0px 1px 3px 1px rgba(0, 0, 0, 0.15);\n",
              "      filter: drop-shadow(0px 1px 2px rgba(0, 0, 0, 0.3));\n",
              "      fill: #FFFFFF;\n",
              "    }\n",
              "  </style>\n",
              "\n",
              "      <script>\n",
              "        const buttonEl =\n",
              "          document.querySelector('#df-653cb741-62a9-462c-a1ac-3e96d8f908a3 button.colab-df-convert');\n",
              "        buttonEl.style.display =\n",
              "          google.colab.kernel.accessAllowed ? 'block' : 'none';\n",
              "\n",
              "        async function convertToInteractive(key) {\n",
              "          const element = document.querySelector('#df-653cb741-62a9-462c-a1ac-3e96d8f908a3');\n",
              "          const dataTable =\n",
              "            await google.colab.kernel.invokeFunction('convertToInteractive',\n",
              "                                                     [key], {});\n",
              "          if (!dataTable) return;\n",
              "\n",
              "          const docLinkHtml = 'Like what you see? Visit the ' +\n",
              "            '<a target=\"_blank\" href=https://colab.research.google.com/notebooks/data_table.ipynb>data table notebook</a>'\n",
              "            + ' to learn more about interactive tables.';\n",
              "          element.innerHTML = '';\n",
              "          dataTable['output_type'] = 'display_data';\n",
              "          await google.colab.output.renderOutput(dataTable, element);\n",
              "          const docLink = document.createElement('div');\n",
              "          docLink.innerHTML = docLinkHtml;\n",
              "          element.appendChild(docLink);\n",
              "        }\n",
              "      </script>\n",
              "    </div>\n",
              "  </div>\n",
              "  "
            ]
          },
          "metadata": {},
          "execution_count": 9
        }
      ]
    },
    {
      "cell_type": "code",
      "source": [
        "right_stances_level_df.shape"
      ],
      "metadata": {
        "colab": {
          "base_uri": "https://localhost:8080/"
        },
        "id": "1NzDR23cNAhn",
        "outputId": "22702a83-e633-4d95-b002-6da6a692b147"
      },
      "execution_count": null,
      "outputs": [
        {
          "output_type": "execute_result",
          "data": {
            "text/plain": [
              "(31951, 4)"
            ]
          },
          "metadata": {},
          "execution_count": 6
        }
      ]
    },
    {
      "cell_type": "code",
      "source": [
        "len(right_stances_level_df['ID'].unique()) # number of different subjects"
      ],
      "metadata": {
        "colab": {
          "base_uri": "https://localhost:8080/"
        },
        "id": "OUFck6UcM3oV",
        "outputId": "ef66f75c-57cf-43c1-e2e9-dd3a104be22a"
      },
      "execution_count": null,
      "outputs": [
        {
          "output_type": "execute_result",
          "data": {
            "text/plain": [
              "165"
            ]
          },
          "metadata": {},
          "execution_count": 7
        }
      ]
    },
    {
      "cell_type": "code",
      "source": [
        "right_stances_level_df.index"
      ],
      "metadata": {
        "colab": {
          "base_uri": "https://localhost:8080/"
        },
        "id": "m94HVIfDq7LG",
        "outputId": "9407c9c0-58e3-4780-fe8c-4561419f8fe1"
      },
      "execution_count": null,
      "outputs": [
        {
          "output_type": "execute_result",
          "data": {
            "text/plain": [
              "RangeIndex(start=0, stop=31951, step=1)"
            ]
          },
          "metadata": {},
          "execution_count": 31
        }
      ]
    },
    {
      "cell_type": "markdown",
      "source": [
        "### The last column is saved as string while it is a list, in the following we transform it to list."
      ],
      "metadata": {
        "id": "QXdKpXoD5HYI"
      }
    },
    {
      "cell_type": "code",
      "source": [
        "type(right_stances_level_df[\"right_stances\"][0])"
      ],
      "metadata": {
        "colab": {
          "base_uri": "https://localhost:8080/"
        },
        "id": "60gWXyDhk6wc",
        "outputId": "17041473-d6d3-4d64-b6de-0fa2456e1908"
      },
      "execution_count": null,
      "outputs": [
        {
          "output_type": "execute_result",
          "data": {
            "text/plain": [
              "str"
            ]
          },
          "metadata": {},
          "execution_count": 32
        }
      ]
    },
    {
      "cell_type": "code",
      "source": [
        "from ast import literal_eval\n",
        "right_stances_level_df['right_stances'] =[ast.literal_eval(x) for x in right_stances_level_df['right_stances'] ]\n",
        "# t=df.right_stances.apply(lambda s: list(ast.literal_eval(s)))"
      ],
      "metadata": {
        "id": "x4B7FJQukpaA"
      },
      "execution_count": null,
      "outputs": []
    },
    {
      "cell_type": "code",
      "source": [
        "type(right_stances_level_df['right_stances'][0] )"
      ],
      "metadata": {
        "id": "3-YJkXDslzxf",
        "colab": {
          "base_uri": "https://localhost:8080/"
        },
        "outputId": "d02209ad-7653-4b85-df9c-e2fea319b60a"
      },
      "execution_count": null,
      "outputs": [
        {
          "output_type": "execute_result",
          "data": {
            "text/plain": [
              "list"
            ]
          },
          "metadata": {},
          "execution_count": 34
        }
      ]
    },
    {
      "cell_type": "markdown",
      "source": [
        "### Deleting lists shorter than 2 items"
      ],
      "metadata": {
        "id": "qoy1lhBktQJD"
      }
    },
    {
      "cell_type": "code",
      "source": [
        "# getting the stances lists\n",
        "stances = right_stances_level_df['right_stances']"
      ],
      "metadata": {
        "id": "SM-oUty9sG8T"
      },
      "execution_count": null,
      "outputs": []
    },
    {
      "cell_type": "code",
      "source": [
        "stances"
      ],
      "metadata": {
        "colab": {
          "base_uri": "https://localhost:8080/"
        },
        "id": "eY6oZpIQtWkv",
        "outputId": "95e26719-d518-4e8a-bc4b-d0851d339731"
      },
      "execution_count": null,
      "outputs": [
        {
          "output_type": "execute_result",
          "data": {
            "text/plain": [
              "0        [23.1, 41.69, 71.17, 138.82, 195.69, 230.78, 2...\n",
              "1        [34.76, 61.27, 113.19, 165.22, 218.02, 260.26,...\n",
              "2        [25.41, 39.38, 55.55, 89.98, 125.95, 168.63, 2...\n",
              "3        [27.72, 46.31, 74.58, 135.85, 189.09, 226.93, ...\n",
              "4        [32.45, 55.55, 113.3, 180.95, 243.87, 285.01, ...\n",
              "                               ...                        \n",
              "31946    [34.32, 294.47, 378.95, 497.2, 559.68, 614.35,...\n",
              "31947    [78.65, 367.07, 448.8, 551.32, 620.73, 679.14,...\n",
              "31948    [143.99, 355.96, 471.02, 551.32, 627.99, 676.5...\n",
              "31949    [159.17, 374.77, 473.99, 565.51, 661.43, 747.3...\n",
              "31950    [22.55, 63.36, 99.0, 145.2, 205.92, 254.87, 32...\n",
              "Name: right_stances, Length: 31951, dtype: object"
            ]
          },
          "metadata": {},
          "execution_count": 36
        }
      ]
    },
    {
      "cell_type": "code",
      "source": [
        "# get the ids of lists that have less than 2 elements\n",
        "indices = [ id for id,x in enumerate(stances) if len(x)<2 ]"
      ],
      "metadata": {
        "id": "BRyYdTq2tqQw"
      },
      "execution_count": null,
      "outputs": []
    },
    {
      "cell_type": "code",
      "source": [
        "# All the stances #31951\n",
        "right_stances_level_df.shape"
      ],
      "metadata": {
        "colab": {
          "base_uri": "https://localhost:8080/"
        },
        "id": "yqRzMLPU1Re4",
        "outputId": "eff21241-e766-4152-f70f-ed25b8a56771"
      },
      "execution_count": null,
      "outputs": [
        {
          "output_type": "execute_result",
          "data": {
            "text/plain": [
              "(31951, 4)"
            ]
          },
          "metadata": {},
          "execution_count": 58
        }
      ]
    },
    {
      "cell_type": "code",
      "source": [
        "# drop stances lists that have less than 2 elements\n",
        "updated_df= right_stances_level_df.drop(indices)"
      ],
      "metadata": {
        "id": "hBRDgbkI1Khm"
      },
      "execution_count": null,
      "outputs": []
    },
    {
      "cell_type": "code",
      "source": [
        "# Stances with more than 1 vlaue #30595\n",
        "updated_df.shape"
      ],
      "metadata": {
        "colab": {
          "base_uri": "https://localhost:8080/"
        },
        "id": "WtigbHaA1Tce",
        "outputId": "ee2ebf90-f7af-4eb1-b450-adff5d745f12"
      },
      "execution_count": null,
      "outputs": [
        {
          "output_type": "execute_result",
          "data": {
            "text/plain": [
              "(30595, 4)"
            ]
          },
          "metadata": {},
          "execution_count": 59
        }
      ]
    },
    {
      "cell_type": "markdown",
      "source": [
        "------------\n"
      ],
      "metadata": {
        "id": "kgcSy73V1Yl2"
      }
    },
    {
      "cell_type": "markdown",
      "source": [
        "Checking all the remaining lists are longer than 2"
      ],
      "metadata": {
        "id": "UNJB5YhW1sPl"
      }
    },
    {
      "cell_type": "code",
      "source": [
        "stances2 = updated_df['right_stances']"
      ],
      "metadata": {
        "id": "EZbs94bz1aSc"
      },
      "execution_count": null,
      "outputs": []
    },
    {
      "cell_type": "code",
      "source": [
        "indices2 = [ id for id,x in enumerate(stances2) if len(x)<2 ]"
      ],
      "metadata": {
        "id": "Rr02mE631dQX"
      },
      "execution_count": null,
      "outputs": []
    },
    {
      "cell_type": "code",
      "source": [
        "indices2 # there are no lists shorter than 2 in the updated_df dataframe"
      ],
      "metadata": {
        "colab": {
          "base_uri": "https://localhost:8080/"
        },
        "id": "T44kNDqU1kKG",
        "outputId": "76b55d9d-8d39-4de8-d72f-7917b13c2a0b"
      },
      "execution_count": null,
      "outputs": [
        {
          "output_type": "execute_result",
          "data": {
            "text/plain": [
              "[]"
            ]
          },
          "metadata": {},
          "execution_count": 63
        }
      ]
    },
    {
      "cell_type": "markdown",
      "source": [
        "--------------\n"
      ],
      "metadata": {
        "id": "wy5kf2Nd1WpQ"
      }
    },
    {
      "cell_type": "markdown",
      "source": [
        "### Shuffling the dataset"
      ],
      "metadata": {
        "id": "3Rp83sB9jVeT"
      }
    },
    {
      "cell_type": "code",
      "source": [
        "df = updated_df.sample(frac = 1,random_state=4)"
      ],
      "metadata": {
        "id": "R3ZOEC2jM8lT"
      },
      "execution_count": null,
      "outputs": []
    },
    {
      "cell_type": "code",
      "source": [
        "df.shape"
      ],
      "metadata": {
        "colab": {
          "base_uri": "https://localhost:8080/"
        },
        "id": "UD3SmNKgSqCx",
        "outputId": "6cdb6b43-09d5-4fd5-c790-26771d25de61"
      },
      "execution_count": null,
      "outputs": [
        {
          "output_type": "execute_result",
          "data": {
            "text/plain": [
              "(30595, 4)"
            ]
          },
          "metadata": {},
          "execution_count": 65
        }
      ]
    },
    {
      "cell_type": "code",
      "source": [
        "df.head()"
      ],
      "metadata": {
        "colab": {
          "base_uri": "https://localhost:8080/",
          "height": 206
        },
        "id": "NGU1mJSjSrLE",
        "outputId": "e20944e7-32fe-4510-9d1a-4d804eb4e2bd"
      },
      "execution_count": null,
      "outputs": [
        {
          "output_type": "execute_result",
          "data": {
            "text/plain": [
              "           ID  y  level                                      right_stances\n",
              "16712  GaCo17  0    0.0  [25.08, 301.29, 402.49, 517.88, 573.98, 600.16...\n",
              "6497   SiCo01  0    0.0  [27.83, 55.77, 98.12, 156.97, 227.26, 284.57, ...\n",
              "15449  GaCo10  0    0.0  [52.69, 127.93, 186.89, 246.18, 310.09, 403.48...\n",
              "25273  JuPt15  1    2.0  [161.48, 436.26, 572.55, 729.3, 802.34, 842.71...\n",
              "5199   SiPt34  1    1.0  [71.39, 188.21, 327.58, 470.69, 595.54, 681.56..."
            ],
            "text/html": [
              "\n",
              "  <div id=\"df-82d5e342-f329-4486-aab2-6c3e14a3c156\">\n",
              "    <div class=\"colab-df-container\">\n",
              "      <div>\n",
              "<style scoped>\n",
              "    .dataframe tbody tr th:only-of-type {\n",
              "        vertical-align: middle;\n",
              "    }\n",
              "\n",
              "    .dataframe tbody tr th {\n",
              "        vertical-align: top;\n",
              "    }\n",
              "\n",
              "    .dataframe thead th {\n",
              "        text-align: right;\n",
              "    }\n",
              "</style>\n",
              "<table border=\"1\" class=\"dataframe\">\n",
              "  <thead>\n",
              "    <tr style=\"text-align: right;\">\n",
              "      <th></th>\n",
              "      <th>ID</th>\n",
              "      <th>y</th>\n",
              "      <th>level</th>\n",
              "      <th>right_stances</th>\n",
              "    </tr>\n",
              "  </thead>\n",
              "  <tbody>\n",
              "    <tr>\n",
              "      <th>16712</th>\n",
              "      <td>GaCo17</td>\n",
              "      <td>0</td>\n",
              "      <td>0.0</td>\n",
              "      <td>[25.08, 301.29, 402.49, 517.88, 573.98, 600.16...</td>\n",
              "    </tr>\n",
              "    <tr>\n",
              "      <th>6497</th>\n",
              "      <td>SiCo01</td>\n",
              "      <td>0</td>\n",
              "      <td>0.0</td>\n",
              "      <td>[27.83, 55.77, 98.12, 156.97, 227.26, 284.57, ...</td>\n",
              "    </tr>\n",
              "    <tr>\n",
              "      <th>15449</th>\n",
              "      <td>GaCo10</td>\n",
              "      <td>0</td>\n",
              "      <td>0.0</td>\n",
              "      <td>[52.69, 127.93, 186.89, 246.18, 310.09, 403.48...</td>\n",
              "    </tr>\n",
              "    <tr>\n",
              "      <th>25273</th>\n",
              "      <td>JuPt15</td>\n",
              "      <td>1</td>\n",
              "      <td>2.0</td>\n",
              "      <td>[161.48, 436.26, 572.55, 729.3, 802.34, 842.71...</td>\n",
              "    </tr>\n",
              "    <tr>\n",
              "      <th>5199</th>\n",
              "      <td>SiPt34</td>\n",
              "      <td>1</td>\n",
              "      <td>1.0</td>\n",
              "      <td>[71.39, 188.21, 327.58, 470.69, 595.54, 681.56...</td>\n",
              "    </tr>\n",
              "  </tbody>\n",
              "</table>\n",
              "</div>\n",
              "      <button class=\"colab-df-convert\" onclick=\"convertToInteractive('df-82d5e342-f329-4486-aab2-6c3e14a3c156')\"\n",
              "              title=\"Convert this dataframe to an interactive table.\"\n",
              "              style=\"display:none;\">\n",
              "        \n",
              "  <svg xmlns=\"http://www.w3.org/2000/svg\" height=\"24px\"viewBox=\"0 0 24 24\"\n",
              "       width=\"24px\">\n",
              "    <path d=\"M0 0h24v24H0V0z\" fill=\"none\"/>\n",
              "    <path d=\"M18.56 5.44l.94 2.06.94-2.06 2.06-.94-2.06-.94-.94-2.06-.94 2.06-2.06.94zm-11 1L8.5 8.5l.94-2.06 2.06-.94-2.06-.94L8.5 2.5l-.94 2.06-2.06.94zm10 10l.94 2.06.94-2.06 2.06-.94-2.06-.94-.94-2.06-.94 2.06-2.06.94z\"/><path d=\"M17.41 7.96l-1.37-1.37c-.4-.4-.92-.59-1.43-.59-.52 0-1.04.2-1.43.59L10.3 9.45l-7.72 7.72c-.78.78-.78 2.05 0 2.83L4 21.41c.39.39.9.59 1.41.59.51 0 1.02-.2 1.41-.59l7.78-7.78 2.81-2.81c.8-.78.8-2.07 0-2.86zM5.41 20L4 18.59l7.72-7.72 1.47 1.35L5.41 20z\"/>\n",
              "  </svg>\n",
              "      </button>\n",
              "      \n",
              "  <style>\n",
              "    .colab-df-container {\n",
              "      display:flex;\n",
              "      flex-wrap:wrap;\n",
              "      gap: 12px;\n",
              "    }\n",
              "\n",
              "    .colab-df-convert {\n",
              "      background-color: #E8F0FE;\n",
              "      border: none;\n",
              "      border-radius: 50%;\n",
              "      cursor: pointer;\n",
              "      display: none;\n",
              "      fill: #1967D2;\n",
              "      height: 32px;\n",
              "      padding: 0 0 0 0;\n",
              "      width: 32px;\n",
              "    }\n",
              "\n",
              "    .colab-df-convert:hover {\n",
              "      background-color: #E2EBFA;\n",
              "      box-shadow: 0px 1px 2px rgba(60, 64, 67, 0.3), 0px 1px 3px 1px rgba(60, 64, 67, 0.15);\n",
              "      fill: #174EA6;\n",
              "    }\n",
              "\n",
              "    [theme=dark] .colab-df-convert {\n",
              "      background-color: #3B4455;\n",
              "      fill: #D2E3FC;\n",
              "    }\n",
              "\n",
              "    [theme=dark] .colab-df-convert:hover {\n",
              "      background-color: #434B5C;\n",
              "      box-shadow: 0px 1px 3px 1px rgba(0, 0, 0, 0.15);\n",
              "      filter: drop-shadow(0px 1px 2px rgba(0, 0, 0, 0.3));\n",
              "      fill: #FFFFFF;\n",
              "    }\n",
              "  </style>\n",
              "\n",
              "      <script>\n",
              "        const buttonEl =\n",
              "          document.querySelector('#df-82d5e342-f329-4486-aab2-6c3e14a3c156 button.colab-df-convert');\n",
              "        buttonEl.style.display =\n",
              "          google.colab.kernel.accessAllowed ? 'block' : 'none';\n",
              "\n",
              "        async function convertToInteractive(key) {\n",
              "          const element = document.querySelector('#df-82d5e342-f329-4486-aab2-6c3e14a3c156');\n",
              "          const dataTable =\n",
              "            await google.colab.kernel.invokeFunction('convertToInteractive',\n",
              "                                                     [key], {});\n",
              "          if (!dataTable) return;\n",
              "\n",
              "          const docLinkHtml = 'Like what you see? Visit the ' +\n",
              "            '<a target=\"_blank\" href=https://colab.research.google.com/notebooks/data_table.ipynb>data table notebook</a>'\n",
              "            + ' to learn more about interactive tables.';\n",
              "          element.innerHTML = '';\n",
              "          dataTable['output_type'] = 'display_data';\n",
              "          await google.colab.output.renderOutput(dataTable, element);\n",
              "          const docLink = document.createElement('div');\n",
              "          docLink.innerHTML = docLinkHtml;\n",
              "          element.appendChild(docLink);\n",
              "        }\n",
              "      </script>\n",
              "    </div>\n",
              "  </div>\n",
              "  "
            ]
          },
          "metadata": {},
          "execution_count": 66
        }
      ]
    },
    {
      "cell_type": "markdown",
      "source": [
        "Checking AGAIN that all the stances lists have at least 2 items"
      ],
      "metadata": {
        "id": "4uj4-SXVjV0O"
      }
    },
    {
      "cell_type": "code",
      "source": [
        "IDs = [ id for id,x in enumerate(df['right_stances']) if len(x)<2 ]"
      ],
      "metadata": {
        "id": "3FNBpn6tjjWa"
      },
      "execution_count": null,
      "outputs": []
    },
    {
      "cell_type": "code",
      "source": [
        "len(IDs) # the length is 0 then yes all the stances lists have at least 2 items"
      ],
      "metadata": {
        "colab": {
          "base_uri": "https://localhost:8080/"
        },
        "id": "oBYWoxOhjw4l",
        "outputId": "10f920a0-6993-4541-9aac-2003c47ad117"
      },
      "execution_count": null,
      "outputs": [
        {
          "output_type": "execute_result",
          "data": {
            "text/plain": [
              "0"
            ]
          },
          "metadata": {},
          "execution_count": 18
        }
      ]
    },
    {
      "cell_type": "markdown",
      "source": [
        "### Transforming the dataset to a compitable format for the tslearn library."
      ],
      "metadata": {
        "id": "mtEdv4fD5vU4"
      }
    },
    {
      "cell_type": "code",
      "source": [
        "X = to_time_series_dataset(df['right_stances'].to_list())"
      ],
      "metadata": {
        "id": "OSm0ZSyX4elq"
      },
      "execution_count": null,
      "outputs": []
    },
    {
      "cell_type": "code",
      "source": [
        "len(X)"
      ],
      "metadata": {
        "colab": {
          "base_uri": "https://localhost:8080/"
        },
        "id": "ZPiE6T3uarNh",
        "outputId": "56970311-b092-4a82-f452-baaeec9ddd3b"
      },
      "execution_count": null,
      "outputs": [
        {
          "output_type": "execute_result",
          "data": {
            "text/plain": [
              "30595"
            ]
          },
          "metadata": {},
          "execution_count": 20
        }
      ]
    },
    {
      "cell_type": "markdown",
      "source": [
        "### Clustering for only 1000 subjects"
      ],
      "metadata": {
        "id": "4AphDI6H4kGG"
      }
    },
    {
      "cell_type": "code",
      "source": [
        "KM_right = TimeSeriesKMeans(n_clusters=4, metric=\"dtw\")\n",
        "clusters_right = KM_right.fit_predict(X[:1000]) # Excuteing time ~ 42 mins"
      ],
      "metadata": {
        "id": "C_31SuoC512s"
      },
      "execution_count": null,
      "outputs": []
    },
    {
      "cell_type": "markdown",
      "source": [
        "#### Visualizing the clusters"
      ],
      "metadata": {
        "id": "5STlvnxAlJMs"
      }
    },
    {
      "cell_type": "code",
      "source": [
        "predicted={0:[], 1:[], 2:[], 3:[]}\n",
        "for i, v in enumerate(clusters_right):\n",
        "    predicted[v].append(i)"
      ],
      "metadata": {
        "id": "0hsyV5JmaweP"
      },
      "execution_count": null,
      "outputs": []
    },
    {
      "cell_type": "code",
      "source": [
        "for label in predicted[0]:\n",
        "  plt.plot(X[label].ravel(), \"k-\", alpha=.2)\n",
        "  #plt.plot(km.cluster_centers_[0].ravel(), \"r-\")\n",
        "  plt.title(\"Cluster 0\")"
      ],
      "metadata": {
        "colab": {
          "base_uri": "https://localhost:8080/",
          "height": 281
        },
        "id": "7Y1T56dtkz2U",
        "outputId": "7ce1531c-d7c6-4752-cd63-4736ae24d6f2"
      },
      "execution_count": null,
      "outputs": [
        {
          "output_type": "display_data",
          "data": {
            "text/plain": [
              "<Figure size 432x288 with 1 Axes>"
            ],
            "image/png": "[encoded data removed]"
          },
          "metadata": {
            "needs_background": "light"
          }
        }
      ]
    },
    {
      "cell_type": "code",
      "source": [
        "for label in predicted[1]:\n",
        "  plt.plot(X[label].ravel(), \"k-\", alpha=.2)\n",
        "  #plt.plot(km.cluster_centers_[0].ravel(), \"r-\")\n",
        "  plt.title(\"Cluster 1\")"
      ],
      "metadata": {
        "colab": {
          "base_uri": "https://localhost:8080/",
          "height": 281
        },
        "id": "fon0wtrwlcKL",
        "outputId": "40ed99cd-534b-4c9e-c4e3-f950a1fccd5d"
      },
      "execution_count": null,
      "outputs": [
        {
          "output_type": "display_data",
          "data": {
            "text/plain": [
              "<Figure size 432x288 with 1 Axes>"
            ],
            "image/png": "[encoded data removed]"
          },
          "metadata": {
            "needs_background": "light"
          }
        }
      ]
    },
    {
      "cell_type": "code",
      "source": [
        "for label in predicted[2]:\n",
        "  plt.plot(X[label].ravel(), \"k-\", alpha=.2)\n",
        "  #plt.plot(km.cluster_centers_[0].ravel(), \"r-\")\n",
        "  plt.title(\"Cluster 2\")"
      ],
      "metadata": {
        "colab": {
          "base_uri": "https://localhost:8080/",
          "height": 281
        },
        "id": "YrFqY5UIlf2N",
        "outputId": "36358ae6-611b-4428-92cb-737443b7e772"
      },
      "execution_count": null,
      "outputs": [
        {
          "output_type": "display_data",
          "data": {
            "text/plain": [
              "<Figure size 432x288 with 1 Axes>"
            ],
            "image/png": "[encoded data removed]"
          },
          "metadata": {
            "needs_background": "light"
          }
        }
      ]
    },
    {
      "cell_type": "code",
      "source": [
        "for label in predicted[3]:\n",
        "  plt.plot(X[label].ravel(), \"k-\", alpha=.2)\n",
        "  #plt.plot(km.cluster_centers_[0].ravel(), \"r-\")\n",
        "  plt.title(\"Cluster 3\")"
      ],
      "metadata": {
        "colab": {
          "base_uri": "https://localhost:8080/",
          "height": 281
        },
        "id": "grg9VNN8lhxN",
        "outputId": "fab583ec-e4ae-4383-b4e9-be21b8bdbd60"
      },
      "execution_count": null,
      "outputs": [
        {
          "output_type": "display_data",
          "data": {
            "text/plain": [
              "<Figure size 432x288 with 1 Axes>"
            ],
            "image/png": "[encoded data removed]"
          },
          "metadata": {
            "needs_background": "light"
          }
        }
      ]
    },
    {
      "cell_type": "markdown",
      "source": [
        "#### Calculate Data Distributions among the clusters"
      ],
      "metadata": {
        "id": "9tu2X2cpl_MN"
      }
    },
    {
      "cell_type": "code",
      "source": [
        "# the levels of 1000 subjects that were clustered\n",
        "levels = df['level'][:1000]"
      ],
      "metadata": {
        "id": "uNHzvZyVllxc"
      },
      "execution_count": null,
      "outputs": []
    },
    {
      "cell_type": "code",
      "source": [
        "# creating a datafrmae that contains each time series' cluster with the actual PD_level\n",
        "distriutions = pd.DataFrame(list(zip(clusters_right, levels)),\n",
        "               columns =['cluster', 'PD_level'])"
      ],
      "metadata": {
        "id": "9p_iM7sxmHla"
      },
      "execution_count": null,
      "outputs": []
    },
    {
      "cell_type": "code",
      "source": [
        "distriutions"
      ],
      "metadata": {
        "colab": {
          "base_uri": "https://localhost:8080/",
          "height": 424
        },
        "id": "KQOlMRImm0u0",
        "outputId": "39a9d49f-89e0-4fe0-edfd-c49cc4930f1e"
      },
      "execution_count": null,
      "outputs": [
        {
          "output_type": "execute_result",
          "data": {
            "text/plain": [
              "     cluster  PD_level\n",
              "0          0       0.0\n",
              "1          2       0.0\n",
              "2          0       0.0\n",
              "3          0       2.0\n",
              "4          2       1.0\n",
              "..       ...       ...\n",
              "995        0       2.0\n",
              "996        0       0.0\n",
              "997        2       2.0\n",
              "998        0       3.0\n",
              "999        0       1.0\n",
              "\n",
              "[1000 rows x 2 columns]"
            ],
            "text/html": [
              "\n",
              "  <div id=\"df-79c9eec7-0ab6-496e-a6da-ed162f315088\">\n",
              "    <div class=\"colab-df-container\">\n",
              "      <div>\n",
              "<style scoped>\n",
              "    .dataframe tbody tr th:only-of-type {\n",
              "        vertical-align: middle;\n",
              "    }\n",
              "\n",
              "    .dataframe tbody tr th {\n",
              "        vertical-align: top;\n",
              "    }\n",
              "\n",
              "    .dataframe thead th {\n",
              "        text-align: right;\n",
              "    }\n",
              "</style>\n",
              "<table border=\"1\" class=\"dataframe\">\n",
              "  <thead>\n",
              "    <tr style=\"text-align: right;\">\n",
              "      <th></th>\n",
              "      <th>cluster</th>\n",
              "      <th>PD_level</th>\n",
              "    </tr>\n",
              "  </thead>\n",
              "  <tbody>\n",
              "    <tr>\n",
              "      <th>0</th>\n",
              "      <td>0</td>\n",
              "      <td>0.0</td>\n",
              "    </tr>\n",
              "    <tr>\n",
              "      <th>1</th>\n",
              "      <td>2</td>\n",
              "      <td>0.0</td>\n",
              "    </tr>\n",
              "    <tr>\n",
              "      <th>2</th>\n",
              "      <td>0</td>\n",
              "      <td>0.0</td>\n",
              "    </tr>\n",
              "    <tr>\n",
              "      <th>3</th>\n",
              "      <td>0</td>\n",
              "      <td>2.0</td>\n",
              "    </tr>\n",
              "    <tr>\n",
              "      <th>4</th>\n",
              "      <td>2</td>\n",
              "      <td>1.0</td>\n",
              "    </tr>\n",
              "    <tr>\n",
              "      <th>...</th>\n",
              "      <td>...</td>\n",
              "      <td>...</td>\n",
              "    </tr>\n",
              "    <tr>\n",
              "      <th>995</th>\n",
              "      <td>0</td>\n",
              "      <td>2.0</td>\n",
              "    </tr>\n",
              "    <tr>\n",
              "      <th>996</th>\n",
              "      <td>0</td>\n",
              "      <td>0.0</td>\n",
              "    </tr>\n",
              "    <tr>\n",
              "      <th>997</th>\n",
              "      <td>2</td>\n",
              "      <td>2.0</td>\n",
              "    </tr>\n",
              "    <tr>\n",
              "      <th>998</th>\n",
              "      <td>0</td>\n",
              "      <td>3.0</td>\n",
              "    </tr>\n",
              "    <tr>\n",
              "      <th>999</th>\n",
              "      <td>0</td>\n",
              "      <td>1.0</td>\n",
              "    </tr>\n",
              "  </tbody>\n",
              "</table>\n",
              "<p>1000 rows × 2 columns</p>\n",
              "</div>\n",
              "      <button class=\"colab-df-convert\" onclick=\"convertToInteractive('df-79c9eec7-0ab6-496e-a6da-ed162f315088')\"\n",
              "              title=\"Convert this dataframe to an interactive table.\"\n",
              "              style=\"display:none;\">\n",
              "        \n",
              "  <svg xmlns=\"http://www.w3.org/2000/svg\" height=\"24px\"viewBox=\"0 0 24 24\"\n",
              "       width=\"24px\">\n",
              "    <path d=\"M0 0h24v24H0V0z\" fill=\"none\"/>\n",
              "    <path d=\"M18.56 5.44l.94 2.06.94-2.06 2.06-.94-2.06-.94-.94-2.06-.94 2.06-2.06.94zm-11 1L8.5 8.5l.94-2.06 2.06-.94-2.06-.94L8.5 2.5l-.94 2.06-2.06.94zm10 10l.94 2.06.94-2.06 2.06-.94-2.06-.94-.94-2.06-.94 2.06-2.06.94z\"/><path d=\"M17.41 7.96l-1.37-1.37c-.4-.4-.92-.59-1.43-.59-.52 0-1.04.2-1.43.59L10.3 9.45l-7.72 7.72c-.78.78-.78 2.05 0 2.83L4 21.41c.39.39.9.59 1.41.59.51 0 1.02-.2 1.41-.59l7.78-7.78 2.81-2.81c.8-.78.8-2.07 0-2.86zM5.41 20L4 18.59l7.72-7.72 1.47 1.35L5.41 20z\"/>\n",
              "  </svg>\n",
              "      </button>\n",
              "      \n",
              "  <style>\n",
              "    .colab-df-container {\n",
              "      display:flex;\n",
              "      flex-wrap:wrap;\n",
              "      gap: 12px;\n",
              "    }\n",
              "\n",
              "    .colab-df-convert {\n",
              "      background-color: #E8F0FE;\n",
              "      border: none;\n",
              "      border-radius: 50%;\n",
              "      cursor: pointer;\n",
              "      display: none;\n",
              "      fill: #1967D2;\n",
              "      height: 32px;\n",
              "      padding: 0 0 0 0;\n",
              "      width: 32px;\n",
              "    }\n",
              "\n",
              "    .colab-df-convert:hover {\n",
              "      background-color: #E2EBFA;\n",
              "      box-shadow: 0px 1px 2px rgba(60, 64, 67, 0.3), 0px 1px 3px 1px rgba(60, 64, 67, 0.15);\n",
              "      fill: #174EA6;\n",
              "    }\n",
              "\n",
              "    [theme=dark] .colab-df-convert {\n",
              "      background-color: #3B4455;\n",
              "      fill: #D2E3FC;\n",
              "    }\n",
              "\n",
              "    [theme=dark] .colab-df-convert:hover {\n",
              "      background-color: #434B5C;\n",
              "      box-shadow: 0px 1px 3px 1px rgba(0, 0, 0, 0.15);\n",
              "      filter: drop-shadow(0px 1px 2px rgba(0, 0, 0, 0.3));\n",
              "      fill: #FFFFFF;\n",
              "    }\n",
              "  </style>\n",
              "\n",
              "      <script>\n",
              "        const buttonEl =\n",
              "          document.querySelector('#df-79c9eec7-0ab6-496e-a6da-ed162f315088 button.colab-df-convert');\n",
              "        buttonEl.style.display =\n",
              "          google.colab.kernel.accessAllowed ? 'block' : 'none';\n",
              "\n",
              "        async function convertToInteractive(key) {\n",
              "          const element = document.querySelector('#df-79c9eec7-0ab6-496e-a6da-ed162f315088');\n",
              "          const dataTable =\n",
              "            await google.colab.kernel.invokeFunction('convertToInteractive',\n",
              "                                                     [key], {});\n",
              "          if (!dataTable) return;\n",
              "\n",
              "          const docLinkHtml = 'Like what you see? Visit the ' +\n",
              "            '<a target=\"_blank\" href=https://colab.research.google.com/notebooks/data_table.ipynb>data table notebook</a>'\n",
              "            + ' to learn more about interactive tables.';\n",
              "          element.innerHTML = '';\n",
              "          dataTable['output_type'] = 'display_data';\n",
              "          await google.colab.output.renderOutput(dataTable, element);\n",
              "          const docLink = document.createElement('div');\n",
              "          docLink.innerHTML = docLinkHtml;\n",
              "          element.appendChild(docLink);\n",
              "        }\n",
              "      </script>\n",
              "    </div>\n",
              "  </div>\n",
              "  "
            ]
          },
          "metadata": {},
          "execution_count": 32
        }
      ]
    },
    {
      "cell_type": "code",
      "source": [
        "counts = distriutions.pivot_table(index = ['cluster','PD_level'], aggfunc ='size')"
      ],
      "metadata": {
        "id": "N_LlhJG8oDIm"
      },
      "execution_count": null,
      "outputs": []
    },
    {
      "cell_type": "code",
      "source": [
        "# the counts pivot table shows the count of subjects of each PD level in each cluster\n",
        "counts"
      ],
      "metadata": {
        "colab": {
          "base_uri": "https://localhost:8080/"
        },
        "id": "sTG_o-3ym6_0",
        "outputId": "06a1dfd5-3391-41ba-91cf-5994b3302fd6"
      },
      "execution_count": null,
      "outputs": [
        {
          "output_type": "execute_result",
          "data": {
            "text/plain": [
              "cluster  PD_level\n",
              "0        0.0         239\n",
              "         1.0         272\n",
              "         2.0         195\n",
              "         3.0          64\n",
              "1        0.0           5\n",
              "         1.0           9\n",
              "         2.0          15\n",
              "         3.0           1\n",
              "2        0.0          77\n",
              "         1.0          64\n",
              "         2.0          32\n",
              "         3.0          22\n",
              "3        0.0           1\n",
              "         1.0           2\n",
              "         3.0           2\n",
              "dtype: int64"
            ]
          },
          "metadata": {},
          "execution_count": 42
        }
      ]
    },
    {
      "cell_type": "code",
      "source": [
        "# Calculating the number of each PD level in the clustered data\n",
        "PD_0 = counts[0][0.0]+counts[1][0.0]+counts[2][0.0]+counts[3][0.0]\n",
        "PD_1 = counts[0][1.0]+counts[1][1.0]+counts[2][1.0]+counts[3][1.0]\n",
        "PD_2 = counts[0][2.0]+counts[1][2.0]+counts[2][2.0]#+counts[3][2.0]\n",
        "PD_3 = counts[0][3.0]+counts[1][3.0]+counts[2][3.0]+counts[3][3.0]"
      ],
      "metadata": {
        "id": "I7UEvgm-ndwp"
      },
      "execution_count": null,
      "outputs": []
    },
    {
      "cell_type": "code",
      "source": [
        "# the counts from the pivot table `counts`\n",
        "counts.values"
      ],
      "metadata": {
        "colab": {
          "base_uri": "https://localhost:8080/"
        },
        "id": "L0R_S1V-qCCf",
        "outputId": "f2004e5c-f8b3-4fc0-835a-ce6bb8af437c"
      },
      "execution_count": null,
      "outputs": [
        {
          "output_type": "execute_result",
          "data": {
            "text/plain": [
              "array([239, 272, 195,  64,   5,   9,  15,   1,  77,  64,  32,  22,   1,\n",
              "         2,   2])"
            ]
          },
          "metadata": {},
          "execution_count": 58
        }
      ]
    },
    {
      "cell_type": "code",
      "source": [
        "# Finding the precentage of each PD level of the count of subjects in each cluster individually \n",
        "each_cluster_distribution = list(counts.values[:4]/len(predicted[0])) # predicted[0] is the count of individuals \n",
        "each_cluster_distribution+=list(counts.values[4:8]/len(predicted[1]))\n",
        "each_cluster_distribution+=list(counts.values[8:12]/len(predicted[2]))\n",
        "each_cluster_distribution+=list(counts.values[12:15]/len(predicted[3]))\n",
        "each_cluster_distribution = list(np.around(np.array(each_cluster_distribution),2))"
      ],
      "metadata": {
        "id": "dnJ7BD_jr8cz"
      },
      "execution_count": null,
      "outputs": []
    },
    {
      "cell_type": "code",
      "source": [
        "# Find the precentage of each PD level distributed among clusters of the count of each PD level in the 1000 subjects in data\n",
        "each_level_distribution=15*[0]\n",
        "for i in range(len(counts.values)-1):\n",
        "  if (i%4 == 0 ):\n",
        "    each_level_distribution[i] = counts.values[i]/PD_0\n",
        "  elif (i%4 == 1 ):\n",
        "    each_level_distribution[i] = counts.values[i]/PD_1\n",
        "  elif (i%4 == 2 ):\n",
        "    each_level_distribution[i] = counts.values[i]/PD_2\n",
        "  elif (i%4 == 3 ):\n",
        "    each_level_distribution[i] = counts.values[i]/PD_3"
      ],
      "metadata": {
        "id": "3ytpnM1jwedL"
      },
      "execution_count": null,
      "outputs": []
    },
    {
      "cell_type": "code",
      "source": [
        "each_level_distribution[14] = counts.values[i]/PD_3"
      ],
      "metadata": {
        "id": "S8b8EJzfxcTa"
      },
      "execution_count": null,
      "outputs": []
    },
    {
      "cell_type": "code",
      "source": [
        "# rounding\n",
        "each_level_distribution = list(np.around(np.array(each_level_distribution),2))"
      ],
      "metadata": {
        "id": "lzafUmyHyInw"
      },
      "execution_count": null,
      "outputs": []
    },
    {
      "cell_type": "code",
      "source": [
        "# forming the final dataset that hold the counts and distibutions\n",
        "clusters = [0,0,0,0,1,1,1,1,2,2,2,2,3,3,3]\n",
        "levels = list(3* [0.0,1.0,2.0,3.0]) + list([0.0,1.0,3.0])"
      ],
      "metadata": {
        "id": "PCmSSBSDvp2c"
      },
      "execution_count": null,
      "outputs": []
    },
    {
      "cell_type": "code",
      "source": [
        "Distributions_df = pd.DataFrame(list(zip(clusters, levels,counts.values, each_cluster_distribution,each_level_distribution)),\n",
        "               columns =['cluster', 'PD_level', 'subjects_count', 'distribution_in_cluster' , 'distribution_in_levels'])"
      ],
      "metadata": {
        "id": "hWCAJ5kByivm"
      },
      "execution_count": null,
      "outputs": []
    },
    {
      "cell_type": "markdown",
      "source": [
        "`distribution_in_cluster` columns holds the precentage of each PD level in each cluster. The sum of it in one cluster = 1"
      ],
      "metadata": {
        "id": "iSmd0kzB7659"
      }
    },
    {
      "cell_type": "markdown",
      "source": [
        "`distribution_in_levels` column holds the precentage of each PD level of the total count of PD level. The sum of numbers for each pd level = 1"
      ],
      "metadata": {
        "id": "CFpzM9vU8Pyf"
      }
    },
    {
      "cell_type": "markdown",
      "source": [
        "#### The distributions"
      ],
      "metadata": {
        "id": "CXmopmiMhvJ8"
      }
    },
    {
      "cell_type": "code",
      "source": [
        "Distributions_df"
      ],
      "metadata": {
        "colab": {
          "base_uri": "https://localhost:8080/",
          "height": 520
        },
        "id": "1HGUxIihzO9v",
        "outputId": "adfa7b4d-0a82-4ab8-daad-c6ddfcfa9f72"
      },
      "execution_count": null,
      "outputs": [
        {
          "output_type": "execute_result",
          "data": {
            "text/plain": [
              "    cluster  PD_level  subjects_count  distribution_in_cluster  \\\n",
              "0         0       0.0             239                     0.31   \n",
              "1         0       1.0             272                     0.35   \n",
              "2         0       2.0             195                     0.25   \n",
              "3         0       3.0              64                     0.08   \n",
              "4         1       0.0               5                     0.17   \n",
              "5         1       1.0               9                     0.30   \n",
              "6         1       2.0              15                     0.50   \n",
              "7         1       3.0               1                     0.03   \n",
              "8         2       0.0              77                     0.39   \n",
              "9         2       1.0              64                     0.33   \n",
              "10        2       2.0              32                     0.16   \n",
              "11        2       3.0              22                     0.11   \n",
              "12        3       0.0               1                     0.20   \n",
              "13        3       1.0               2                     0.40   \n",
              "14        3       3.0               2                     0.40   \n",
              "\n",
              "    distribution_in_levels  \n",
              "0                     0.74  \n",
              "1                     0.78  \n",
              "2                     0.81  \n",
              "3                     0.72  \n",
              "4                     0.02  \n",
              "5                     0.03  \n",
              "6                     0.06  \n",
              "7                     0.01  \n",
              "8                     0.24  \n",
              "9                     0.18  \n",
              "10                    0.13  \n",
              "11                    0.25  \n",
              "12                    0.00  \n",
              "13                    0.01  \n",
              "14                    0.02  "
            ],
            "text/html": [
              "\n",
              "  <div id=\"df-60920e65-c25f-47ec-946f-3ebc0fdb29b0\">\n",
              "    <div class=\"colab-df-container\">\n",
              "      <div>\n",
              "<style scoped>\n",
              "    .dataframe tbody tr th:only-of-type {\n",
              "        vertical-align: middle;\n",
              "    }\n",
              "\n",
              "    .dataframe tbody tr th {\n",
              "        vertical-align: top;\n",
              "    }\n",
              "\n",
              "    .dataframe thead th {\n",
              "        text-align: right;\n",
              "    }\n",
              "</style>\n",
              "<table border=\"1\" class=\"dataframe\">\n",
              "  <thead>\n",
              "    <tr style=\"text-align: right;\">\n",
              "      <th></th>\n",
              "      <th>cluster</th>\n",
              "      <th>PD_level</th>\n",
              "      <th>subjects_count</th>\n",
              "      <th>distribution_in_cluster</th>\n",
              "      <th>distribution_in_levels</th>\n",
              "    </tr>\n",
              "  </thead>\n",
              "  <tbody>\n",
              "    <tr>\n",
              "      <th>0</th>\n",
              "      <td>0</td>\n",
              "      <td>0.0</td>\n",
              "      <td>239</td>\n",
              "      <td>0.31</td>\n",
              "      <td>0.74</td>\n",
              "    </tr>\n",
              "    <tr>\n",
              "      <th>1</th>\n",
              "      <td>0</td>\n",
              "      <td>1.0</td>\n",
              "      <td>272</td>\n",
              "      <td>0.35</td>\n",
              "      <td>0.78</td>\n",
              "    </tr>\n",
              "    <tr>\n",
              "      <th>2</th>\n",
              "      <td>0</td>\n",
              "      <td>2.0</td>\n",
              "      <td>195</td>\n",
              "      <td>0.25</td>\n",
              "      <td>0.81</td>\n",
              "    </tr>\n",
              "    <tr>\n",
              "      <th>3</th>\n",
              "      <td>0</td>\n",
              "      <td>3.0</td>\n",
              "      <td>64</td>\n",
              "      <td>0.08</td>\n",
              "      <td>0.72</td>\n",
              "    </tr>\n",
              "    <tr>\n",
              "      <th>4</th>\n",
              "      <td>1</td>\n",
              "      <td>0.0</td>\n",
              "      <td>5</td>\n",
              "      <td>0.17</td>\n",
              "      <td>0.02</td>\n",
              "    </tr>\n",
              "    <tr>\n",
              "      <th>5</th>\n",
              "      <td>1</td>\n",
              "      <td>1.0</td>\n",
              "      <td>9</td>\n",
              "      <td>0.30</td>\n",
              "      <td>0.03</td>\n",
              "    </tr>\n",
              "    <tr>\n",
              "      <th>6</th>\n",
              "      <td>1</td>\n",
              "      <td>2.0</td>\n",
              "      <td>15</td>\n",
              "      <td>0.50</td>\n",
              "      <td>0.06</td>\n",
              "    </tr>\n",
              "    <tr>\n",
              "      <th>7</th>\n",
              "      <td>1</td>\n",
              "      <td>3.0</td>\n",
              "      <td>1</td>\n",
              "      <td>0.03</td>\n",
              "      <td>0.01</td>\n",
              "    </tr>\n",
              "    <tr>\n",
              "      <th>8</th>\n",
              "      <td>2</td>\n",
              "      <td>0.0</td>\n",
              "      <td>77</td>\n",
              "      <td>0.39</td>\n",
              "      <td>0.24</td>\n",
              "    </tr>\n",
              "    <tr>\n",
              "      <th>9</th>\n",
              "      <td>2</td>\n",
              "      <td>1.0</td>\n",
              "      <td>64</td>\n",
              "      <td>0.33</td>\n",
              "      <td>0.18</td>\n",
              "    </tr>\n",
              "    <tr>\n",
              "      <th>10</th>\n",
              "      <td>2</td>\n",
              "      <td>2.0</td>\n",
              "      <td>32</td>\n",
              "      <td>0.16</td>\n",
              "      <td>0.13</td>\n",
              "    </tr>\n",
              "    <tr>\n",
              "      <th>11</th>\n",
              "      <td>2</td>\n",
              "      <td>3.0</td>\n",
              "      <td>22</td>\n",
              "      <td>0.11</td>\n",
              "      <td>0.25</td>\n",
              "    </tr>\n",
              "    <tr>\n",
              "      <th>12</th>\n",
              "      <td>3</td>\n",
              "      <td>0.0</td>\n",
              "      <td>1</td>\n",
              "      <td>0.20</td>\n",
              "      <td>0.00</td>\n",
              "    </tr>\n",
              "    <tr>\n",
              "      <th>13</th>\n",
              "      <td>3</td>\n",
              "      <td>1.0</td>\n",
              "      <td>2</td>\n",
              "      <td>0.40</td>\n",
              "      <td>0.01</td>\n",
              "    </tr>\n",
              "    <tr>\n",
              "      <th>14</th>\n",
              "      <td>3</td>\n",
              "      <td>3.0</td>\n",
              "      <td>2</td>\n",
              "      <td>0.40</td>\n",
              "      <td>0.02</td>\n",
              "    </tr>\n",
              "  </tbody>\n",
              "</table>\n",
              "</div>\n",
              "      <button class=\"colab-df-convert\" onclick=\"convertToInteractive('df-60920e65-c25f-47ec-946f-3ebc0fdb29b0')\"\n",
              "              title=\"Convert this dataframe to an interactive table.\"\n",
              "              style=\"display:none;\">\n",
              "        \n",
              "  <svg xmlns=\"http://www.w3.org/2000/svg\" height=\"24px\"viewBox=\"0 0 24 24\"\n",
              "       width=\"24px\">\n",
              "    <path d=\"M0 0h24v24H0V0z\" fill=\"none\"/>\n",
              "    <path d=\"M18.56 5.44l.94 2.06.94-2.06 2.06-.94-2.06-.94-.94-2.06-.94 2.06-2.06.94zm-11 1L8.5 8.5l.94-2.06 2.06-.94-2.06-.94L8.5 2.5l-.94 2.06-2.06.94zm10 10l.94 2.06.94-2.06 2.06-.94-2.06-.94-.94-2.06-.94 2.06-2.06.94z\"/><path d=\"M17.41 7.96l-1.37-1.37c-.4-.4-.92-.59-1.43-.59-.52 0-1.04.2-1.43.59L10.3 9.45l-7.72 7.72c-.78.78-.78 2.05 0 2.83L4 21.41c.39.39.9.59 1.41.59.51 0 1.02-.2 1.41-.59l7.78-7.78 2.81-2.81c.8-.78.8-2.07 0-2.86zM5.41 20L4 18.59l7.72-7.72 1.47 1.35L5.41 20z\"/>\n",
              "  </svg>\n",
              "      </button>\n",
              "      \n",
              "  <style>\n",
              "    .colab-df-container {\n",
              "      display:flex;\n",
              "      flex-wrap:wrap;\n",
              "      gap: 12px;\n",
              "    }\n",
              "\n",
              "    .colab-df-convert {\n",
              "      background-color: #E8F0FE;\n",
              "      border: none;\n",
              "      border-radius: 50%;\n",
              "      cursor: pointer;\n",
              "      display: none;\n",
              "      fill: #1967D2;\n",
              "      height: 32px;\n",
              "      padding: 0 0 0 0;\n",
              "      width: 32px;\n",
              "    }\n",
              "\n",
              "    .colab-df-convert:hover {\n",
              "      background-color: #E2EBFA;\n",
              "      box-shadow: 0px 1px 2px rgba(60, 64, 67, 0.3), 0px 1px 3px 1px rgba(60, 64, 67, 0.15);\n",
              "      fill: #174EA6;\n",
              "    }\n",
              "\n",
              "    [theme=dark] .colab-df-convert {\n",
              "      background-color: #3B4455;\n",
              "      fill: #D2E3FC;\n",
              "    }\n",
              "\n",
              "    [theme=dark] .colab-df-convert:hover {\n",
              "      background-color: #434B5C;\n",
              "      box-shadow: 0px 1px 3px 1px rgba(0, 0, 0, 0.15);\n",
              "      filter: drop-shadow(0px 1px 2px rgba(0, 0, 0, 0.3));\n",
              "      fill: #FFFFFF;\n",
              "    }\n",
              "  </style>\n",
              "\n",
              "      <script>\n",
              "        const buttonEl =\n",
              "          document.querySelector('#df-60920e65-c25f-47ec-946f-3ebc0fdb29b0 button.colab-df-convert');\n",
              "        buttonEl.style.display =\n",
              "          google.colab.kernel.accessAllowed ? 'block' : 'none';\n",
              "\n",
              "        async function convertToInteractive(key) {\n",
              "          const element = document.querySelector('#df-60920e65-c25f-47ec-946f-3ebc0fdb29b0');\n",
              "          const dataTable =\n",
              "            await google.colab.kernel.invokeFunction('convertToInteractive',\n",
              "                                                     [key], {});\n",
              "          if (!dataTable) return;\n",
              "\n",
              "          const docLinkHtml = 'Like what you see? Visit the ' +\n",
              "            '<a target=\"_blank\" href=https://colab.research.google.com/notebooks/data_table.ipynb>data table notebook</a>'\n",
              "            + ' to learn more about interactive tables.';\n",
              "          element.innerHTML = '';\n",
              "          dataTable['output_type'] = 'display_data';\n",
              "          await google.colab.output.renderOutput(dataTable, element);\n",
              "          const docLink = document.createElement('div');\n",
              "          docLink.innerHTML = docLinkHtml;\n",
              "          element.appendChild(docLink);\n",
              "        }\n",
              "      </script>\n",
              "    </div>\n",
              "  </div>\n",
              "  "
            ]
          },
          "metadata": {},
          "execution_count": 116
        }
      ]
    },
    {
      "cell_type": "markdown",
      "source": [
        "**Cluster 0** has 74% of Health Control, 78% of people with 1.0 Parkinson's level, 81% of people with 2.0 Parkinson's level, and 72% of people with 3 PL.\n",
        "\n"
      ],
      "metadata": {
        "id": "18tMcTEk83bx"
      }
    },
    {
      "cell_type": "markdown",
      "source": [
        "31% of people in **Cluster 0** are from Health Control, 35% people with 1.0 PL, 25%  people with 2.0 PL, and 8% people with 3 PL."
      ],
      "metadata": {
        "id": "NttVwB2e-uPF"
      }
    },
    {
      "cell_type": "markdown",
      "source": [
        "### Trying again clustering with 2 clusters"
      ],
      "metadata": {
        "id": "f3Ffr6NZ3jtY"
      }
    },
    {
      "cell_type": "code",
      "source": [
        "KM_right_2_clusters = TimeSeriesKMeans(n_clusters=2, metric=\"dtw\")\n",
        "clusters_right_2_clusters = KM_right_2_clusters.fit_predict(X[:1000]) "
      ],
      "metadata": {
        "id": "YI3MS1_YzQC-"
      },
      "execution_count": null,
      "outputs": []
    },
    {
      "cell_type": "code",
      "source": [
        "clusters_right_2_clusters"
      ],
      "metadata": {
        "id": "hy9JneUZ3wdl"
      },
      "execution_count": null,
      "outputs": []
    },
    {
      "cell_type": "code",
      "source": [],
      "metadata": {
        "id": "fwDjTiDXb8ny"
      },
      "execution_count": null,
      "outputs": []
    }
  ]
}