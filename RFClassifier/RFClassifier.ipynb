{
  "nbformat": 4,
  "nbformat_minor": 0,
  "metadata": {
    "colab": {
      "provenance": []
    },
    "kernelspec": {
      "name": "python3",
      "display_name": "Python 3"
    },
    "language_info": {
      "name": "python"
    }
  },
  "cells": [
    {
      "cell_type": "code",
      "execution_count": 1,
      "metadata": {
        "id": "LanUxbxoaNFA"
      },
      "outputs": [],
      "source": [
        "import numpy as np\n",
        "from sklearn.ensemble import RandomForestClassifier\n",
        "from sklearn.metrics import accuracy_score,precision_score, recall_score, f1_score, auc, roc_curve\n",
        "import pickle\n",
        "\n",
        "class RFClassifier:\n",
        "  def __init__(self,models_path,estimators_n,jobs_n,average='binary'):\n",
        "    self.models_path = models_path\n",
        "    self.rf_classifier = RandomForestClassifier(n_estimators=estimators_n,  n_jobs=jobs_n,random_state=42)\n",
        "    self.average=average\n",
        "  def multiple_training(self,estimators_n,jobs_n, x_train, y_train, x_test, y_test):\n",
        "    test_score_RFC=[]\n",
        "    RFCs=[]\n",
        "    for n in estimators_n:\n",
        "        clf = RandomForestClassifier(n_estimators= int(n), n_jobs= jobs_n,random_state=42)\n",
        "        clf.fit(x_train, np.ravel(y_train))\n",
        "        y_pred = clf.predict(x_test)\n",
        "        scores = self.scores(np.ravel(y_test),np.ravel(y_pred))\n",
        "        test_score_RFC.append(scores)  \n",
        "        RFCs.append(clf)\n",
        "    for neighbor, tr_sc in zip((estimators_n),test_score_RFC): \n",
        "        print(f\"Estimator = {neighbor}\")\n",
        "        print('Accuracy: {:.4f}, Precision: {:.4f}, Recall: {:.4f}, F1: {:.4f}'.format(tr_sc[0], tr_sc[1] ,tr_sc[2], tr_sc[3]))\n",
        "    return RFCs\n",
        "\n",
        "  def tain(self, x_train, y_train):\n",
        "    # Train a Random Forest classifier on the training set\n",
        "    self.rf_classifier.fit(x_train, np.ravel(y_train))\n",
        "     \n",
        "  def predict(self, x_test):\n",
        "    # Evaluate the performance of the classifier on the testing set\n",
        "    y_pred = self.rf_classifier.predict(x_test)\n",
        "    return y_pred\n",
        "\n",
        "  def scores(self, y_test, y_pred):     \n",
        "    prec = precision_score(y_test, y_pred,average=self.average)\n",
        "    rec = recall_score(y_test, y_pred,average=self.average)\n",
        "    f1 = f1_score(y_test, y_pred,average=self.average)\n",
        "    accuracy = accuracy_score(y_test, y_pred)\n",
        "    return [accuracy,prec,rec,f1]\n",
        "\n",
        "  def print_scores(self,acc,prec,rec,f1):\n",
        "    print(\"Accuracy: {}\".format(acc))\n",
        "    print(\"Precision: {}\".format(prec))\n",
        "    print(\"Recall: {}\".format(rec))\n",
        "    print(\"F1: {}\".format(f1))\n",
        "     \n",
        "  def save_model(self, file_name):\n",
        "    # save the model\n",
        "    with open(self.models_path+file_name, 'wb') as f:\n",
        "        pickle.dump(self.rf_classifier, f)\n",
        "\n",
        "  def load_model(self,file_name):\n",
        "    # Load the model                       \n",
        "    f = open(self.models_path+file_name, 'rb')\n",
        "    self.rf_classifier = pickle.load(f)   \n",
        "\n",
        "    #with open(self.models_path+file_name) as f:\n",
        "     #   self.rf_classifier = pickle.load(f)\n",
        "    return self.rf_classifier"
      ]
    },
    {
      "cell_type": "markdown",
      "source": [
        "## Example"
      ],
      "metadata": {
        "id": "hQrk3atRaNFG"
      }
    },
    {
      "cell_type": "code",
      "source": [
        "from google.colab import drive\n",
        "drive.mount('/content/drive')"
      ],
      "metadata": {
        "colab": {
          "base_uri": "https://localhost:8080/"
        },
        "id": "zm7Cn6yHiO1F",
        "outputId": "ffb46558-cbd3-4bfc-abd2-15d6c4cf9a2d"
      },
      "execution_count": 2,
      "outputs": [
        {
          "output_type": "stream",
          "name": "stdout",
          "text": [
            "Mounted at /content/drive\n"
          ]
        }
      ]
    },
    {
      "cell_type": "code",
      "source": [
        "import sys\n",
        "sys.path.insert(0,\"/content/drive/MyDrive/ITMO-Master's/Thesis/3rd_semester\")"
      ],
      "metadata": {
        "id": "dL33Y1lcaNFJ"
      },
      "execution_count": 3,
      "outputs": []
    },
    {
      "cell_type": "code",
      "source": [
        "import DataClass \n",
        "from DataClass import Data\n",
        "parquet_path = \"/content/drive/MyDrive/ITMO-Master's/Thesis/3rd_semester/Data/parquet_files/\"\n",
        "# read prepare data\n",
        "data = Data( 0, \"\", \"\",parquet_path)"
      ],
      "metadata": {
        "id": "JCz_TtwFaNFN"
      },
      "execution_count": 4,
      "outputs": []
    },
    {
      "cell_type": "code",
      "source": [
        "from sklearn.model_selection import train_test_split\n",
        "d=data.return_array_df(data.scaled_right_stances,'new_y',['r_swings_time','max_peak','fwhm_value'])\n",
        "y = data.scaled_right_stances[[ 'y']]\n",
        "X_train, X_test, y_train, y_test = train_test_split(d, y, random_state=42)"
      ],
      "metadata": {
        "id": "3XKlKtIZaNFQ"
      },
      "execution_count": 5,
      "outputs": []
    },
    {
      "cell_type": "code",
      "source": [
        "rfc = RFClassifier(\"/content/drive/MyDrive/ITMO-Master's/Thesis/3rd_semester/Models/\",200,2)\n",
        "rfc.tain(X_train,y_train)\n",
        "y_pred=rfc.predict(X_test)\n",
        "scores=rfc.scores(y_test, y_pred)"
      ],
      "metadata": {
        "id": "ULiL5XZraNFS"
      },
      "execution_count": 6,
      "outputs": []
    },
    {
      "cell_type": "code",
      "source": [
        "rfc.print_scores(scores[0],scores[1],scores[2],scores[3])"
      ],
      "metadata": {
        "colab": {
          "base_uri": "https://localhost:8080/"
        },
        "outputId": "e9a669b3-8066-4af0-c55f-6b4942c14a18",
        "id": "UzI2jyAxaNFU"
      },
      "execution_count": 7,
      "outputs": [
        {
          "output_type": "stream",
          "name": "stdout",
          "text": [
            "Accuracy: 0.9280559807566149\n",
            "Precision: 0.920311563810665\n",
            "Recall: 0.9799043062200957\n",
            "F1: 0.9491734898810443\n"
          ]
        }
      ]
    },
    {
      "cell_type": "code",
      "source": [
        "rfc.save_model(\"try\")"
      ],
      "metadata": {
        "id": "BrGp1rr-ih9X"
      },
      "execution_count": null,
      "outputs": []
    },
    {
      "cell_type": "code",
      "source": [
        "rfcc = RFClassifier(\"/content/drive/MyDrive/ITMO-Master's/Thesis/3rd_semester/Models/\",200,2)\n",
        "rfcc.load_model(\"try\")\n"
      ],
      "metadata": {
        "colab": {
          "base_uri": "https://localhost:8080/",
          "height": 75
        },
        "id": "0GHjNug4kT61",
        "outputId": "f82796ae-6fae-4f0b-ebb8-07a841c94303"
      },
      "execution_count": null,
      "outputs": [
        {
          "output_type": "execute_result",
          "data": {
            "text/plain": [
              "RandomForestClassifier(n_estimators=200, n_jobs=2, random_state=42)"
            ],
            "text/html": [
              "<style>#sk-container-id-2 {color: black;background-color: white;}#sk-container-id-2 pre{padding: 0;}#sk-container-id-2 div.sk-toggleable {background-color: white;}#sk-container-id-2 label.sk-toggleable__label {cursor: pointer;display: block;width: 100%;margin-bottom: 0;padding: 0.3em;box-sizing: border-box;text-align: center;}#sk-container-id-2 label.sk-toggleable__label-arrow:before {content: \"▸\";float: left;margin-right: 0.25em;color: #696969;}#sk-container-id-2 label.sk-toggleable__label-arrow:hover:before {color: black;}#sk-container-id-2 div.sk-estimator:hover label.sk-toggleable__label-arrow:before {color: black;}#sk-container-id-2 div.sk-toggleable__content {max-height: 0;max-width: 0;overflow: hidden;text-align: left;background-color: #f0f8ff;}#sk-container-id-2 div.sk-toggleable__content pre {margin: 0.2em;color: black;border-radius: 0.25em;background-color: #f0f8ff;}#sk-container-id-2 input.sk-toggleable__control:checked~div.sk-toggleable__content {max-height: 200px;max-width: 100%;overflow: auto;}#sk-container-id-2 input.sk-toggleable__control:checked~label.sk-toggleable__label-arrow:before {content: \"▾\";}#sk-container-id-2 div.sk-estimator input.sk-toggleable__control:checked~label.sk-toggleable__label {background-color: #d4ebff;}#sk-container-id-2 div.sk-label input.sk-toggleable__control:checked~label.sk-toggleable__label {background-color: #d4ebff;}#sk-container-id-2 input.sk-hidden--visually {border: 0;clip: rect(1px 1px 1px 1px);clip: rect(1px, 1px, 1px, 1px);height: 1px;margin: -1px;overflow: hidden;padding: 0;position: absolute;width: 1px;}#sk-container-id-2 div.sk-estimator {font-family: monospace;background-color: #f0f8ff;border: 1px dotted black;border-radius: 0.25em;box-sizing: border-box;margin-bottom: 0.5em;}#sk-container-id-2 div.sk-estimator:hover {background-color: #d4ebff;}#sk-container-id-2 div.sk-parallel-item::after {content: \"\";width: 100%;border-bottom: 1px solid gray;flex-grow: 1;}#sk-container-id-2 div.sk-label:hover label.sk-toggleable__label {background-color: #d4ebff;}#sk-container-id-2 div.sk-serial::before {content: \"\";position: absolute;border-left: 1px solid gray;box-sizing: border-box;top: 0;bottom: 0;left: 50%;z-index: 0;}#sk-container-id-2 div.sk-serial {display: flex;flex-direction: column;align-items: center;background-color: white;padding-right: 0.2em;padding-left: 0.2em;position: relative;}#sk-container-id-2 div.sk-item {position: relative;z-index: 1;}#sk-container-id-2 div.sk-parallel {display: flex;align-items: stretch;justify-content: center;background-color: white;position: relative;}#sk-container-id-2 div.sk-item::before, #sk-container-id-2 div.sk-parallel-item::before {content: \"\";position: absolute;border-left: 1px solid gray;box-sizing: border-box;top: 0;bottom: 0;left: 50%;z-index: -1;}#sk-container-id-2 div.sk-parallel-item {display: flex;flex-direction: column;z-index: 1;position: relative;background-color: white;}#sk-container-id-2 div.sk-parallel-item:first-child::after {align-self: flex-end;width: 50%;}#sk-container-id-2 div.sk-parallel-item:last-child::after {align-self: flex-start;width: 50%;}#sk-container-id-2 div.sk-parallel-item:only-child::after {width: 0;}#sk-container-id-2 div.sk-dashed-wrapped {border: 1px dashed gray;margin: 0 0.4em 0.5em 0.4em;box-sizing: border-box;padding-bottom: 0.4em;background-color: white;}#sk-container-id-2 div.sk-label label {font-family: monospace;font-weight: bold;display: inline-block;line-height: 1.2em;}#sk-container-id-2 div.sk-label-container {text-align: center;}#sk-container-id-2 div.sk-container {/* jupyter's `normalize.less` sets `[hidden] { display: none; }` but bootstrap.min.css set `[hidden] { display: none !important; }` so we also need the `!important` here to be able to override the default hidden behavior on the sphinx rendered scikit-learn.org. See: https://github.com/scikit-learn/scikit-learn/issues/21755 */display: inline-block !important;position: relative;}#sk-container-id-2 div.sk-text-repr-fallback {display: none;}</style><div id=\"sk-container-id-2\" class=\"sk-top-container\"><div class=\"sk-text-repr-fallback\"><pre>RandomForestClassifier(n_estimators=200, n_jobs=2, random_state=42)</pre><b>In a Jupyter environment, please rerun this cell to show the HTML representation or trust the notebook. <br />On GitHub, the HTML representation is unable to render, please try loading this page with nbviewer.org.</b></div><div class=\"sk-container\" hidden><div class=\"sk-item\"><div class=\"sk-estimator sk-toggleable\"><input class=\"sk-toggleable__control sk-hidden--visually\" id=\"sk-estimator-id-2\" type=\"checkbox\" checked><label for=\"sk-estimator-id-2\" class=\"sk-toggleable__label sk-toggleable__label-arrow\">RandomForestClassifier</label><div class=\"sk-toggleable__content\"><pre>RandomForestClassifier(n_estimators=200, n_jobs=2, random_state=42)</pre></div></div></div></div></div>"
            ]
          },
          "metadata": {},
          "execution_count": 11
        }
      ]
    },
    {
      "cell_type": "code",
      "source": [
        "y_pred=rfcc.predict(X_test)\n",
        "scores=rfc.scores(y_test, y_pred)\n",
        "rfc.print_scores(scores[0],scores[1],scores[2],scores[3])"
      ],
      "metadata": {
        "colab": {
          "base_uri": "https://localhost:8080/"
        },
        "id": "ChD05Na4kkCQ",
        "outputId": "9defcb69-ac13-45a8-a6d9-bc60fbcab971"
      },
      "execution_count": null,
      "outputs": [
        {
          "output_type": "stream",
          "name": "stdout",
          "text": [
            "Accuracy: 0.9280559807566149\n",
            "Precision: 0.920311563810665\n",
            "Recall: 0.9799043062200957\n",
            "F1: 0.9491734898810443\n"
          ]
        }
      ]
    },
    {
      "cell_type": "code",
      "source": [
        "rfc = RFClassifier(\"\",200,2)\n",
        "ccs=rfc.multiple_training([5, 10, 20, 40, 100, 200],2,X_train, y_train, X_test, y_test)"
      ],
      "metadata": {
        "colab": {
          "base_uri": "https://localhost:8080/"
        },
        "outputId": "022bfd23-d2f9-4367-9a95-e77118b81d36",
        "id": "i1jAjzHGaNFW"
      },
      "execution_count": null,
      "outputs": [
        {
          "output_type": "stream",
          "name": "stdout",
          "text": [
            "Estimator = 5\n",
            "Accuracy: 0.8830, Precision: 0.8985, Recall: 0.9349, F1: 0.9164\n",
            "Estimator = 10\n",
            "Accuracy: 0.9042, Precision: 0.9207, Recall: 0.9413, F1: 0.9309\n",
            "Estimator = 20\n",
            "Accuracy: 0.9204, Precision: 0.9218, Recall: 0.9659, F1: 0.9433\n",
            "Estimator = 40\n",
            "Accuracy: 0.9211, Precision: 0.9198, Recall: 0.9694, F1: 0.9439\n",
            "Estimator = 100\n",
            "Accuracy: 0.9263, Precision: 0.9189, Recall: 0.9789, F1: 0.9480\n",
            "Estimator = 200\n",
            "Accuracy: 0.9281, Precision: 0.9203, Recall: 0.9799, F1: 0.9492\n"
          ]
        }
      ]
    }
  ]
}