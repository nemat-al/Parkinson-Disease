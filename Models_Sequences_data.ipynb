{
  "cells": [
    {
      "cell_type": "markdown",
      "source": [
        "\n",
        "[Colab link ](https://drive.google.com/file/d/1HmvrkYaFIpb9l7d9RgZpcffEBTkbej60/view?usp=sharing)\n"
      ],
      "metadata": {
        "id": "0m3FP0o2mWUE"
      }
    },
    {
      "cell_type": "markdown",
      "metadata": {
        "id": "xo1CVjZb-oDD"
      },
      "source": [
        "## Importing"
      ]
    },
    {
      "cell_type": "code",
      "execution_count": 1,
      "metadata": {
        "id": "aGGXquTD-qxk"
      },
      "outputs": [],
      "source": [
        "import pandas as pd\n",
        "import numpy as np\n",
        "\n",
        "from sklearn.preprocessing import PolynomialFeatures\n",
        "from sklearn import decomposition\n",
        "from sklearn.model_selection import train_test_split\n",
        "from sklearn import decomposition\n",
        "from sklearn.svm import SVC\n",
        "from sklearn.ensemble import RandomForestClassifier\n",
        "from sklearn.metrics import accuracy_score\n",
        "from sklearn.preprocessing import StandardScaler\n",
        "\n",
        "import os\n",
        "\n",
        "from tqdm.auto import tqdm\n",
        "\n",
        "import shutil\n",
        "\n",
        "from itertools import groupby\n",
        "\n",
        "import matplotlib.pyplot as plt\n",
        "\n",
        "from statistics import mean\n",
        "\n",
        "import scipy.stats as stats\n",
        "from scipy.stats import skew\n",
        "from scipy.stats import kurtosis\n",
        "from scipy.fftpack import fft\n",
        "\n",
        "import tensorflow as tf\n",
        "from tensorflow import keras\n",
        "\n",
        "import pickle\n",
        "\n",
        "from keras.models import Sequential, Model\n",
        "from keras.layers import LSTM, Dense, Input, Flatten, Conv1D, MaxPooling1D, Concatenate, Dropout\n",
        "from keras.optimizers import Adam\n",
        "from keras.callbacks import EarlyStopping\n",
        "from keras.utils.vis_utils import plot_model"
      ]
    },
    {
      "cell_type": "code",
      "execution_count": 2,
      "metadata": {
        "colab": {
          "base_uri": "https://localhost:8080/"
        },
        "id": "EflF3KAFXrai",
        "outputId": "ed194b6d-d2b9-4533-f52b-da63c74500da"
      },
      "outputs": [
        {
          "output_type": "stream",
          "name": "stdout",
          "text": [
            "Mounted at /content/drive\n"
          ]
        }
      ],
      "source": [
        "from google.colab import drive\n",
        "drive.mount('/content/drive')"
      ]
    },
    {
      "cell_type": "markdown",
      "metadata": {
        "id": "yoPlShO_1mD5"
      },
      "source": [
        "## Parameters"
      ]
    },
    {
      "cell_type": "code",
      "execution_count": 3,
      "metadata": {
        "id": "NJh8EXU71npV"
      },
      "outputs": [],
      "source": [
        "# path of original data folder\n",
        "data_path = \"/content/drive/MyDrive/ITMO-Master's/Thesis/3rd_semester/Data\"\n",
        "# path of csv files, each file is a 2mins walk for a subject\n",
        "csvD_path = \"/content/drive/MyDrive/ITMO-Master's/Thesis/3rd_semester/Data/csv_files\"\n",
        "# In this file, the Null values are replaved with 0 in the HY scale - Null values were given to healthy control\n",
        "demographics = \"/content/drive/MyDrive/ITMO-Master's/Thesis/3rd_semester/Data/Processed_data/demographics_HYprocessed.csv\" \n",
        "dem_df = pd.read_csv(demographics)\n",
        "# parequet folder path\n",
        "parquet_path = \"/content/drive/MyDrive/ITMO-Master's/Thesis/3rd_semester/Data/parquet_files/\""
      ]
    },
    {
      "cell_type": "markdown",
      "metadata": {
        "id": "lxD2898AlNMI"
      },
      "source": [
        "## Data Utils"
      ]
    },
    {
      "cell_type": "markdown",
      "metadata": {
        "id": "VLlmkpXwQPt0"
      },
      "source": [
        "### Data Class"
      ]
    },
    {
      "cell_type": "markdown",
      "metadata": {
        "id": "1gA_nqXg_Q0V"
      },
      "source": [
        "Note: \n",
        "Gait cycle = stride cycle\n",
        "\n",
        "\n",
        "- Usually, Vertical Ground React Force VGRF values less than 20N are generated from noise\n",
        "- For gait cycle segmentation, to eliminate the effect of gait initiation and termenation, the first and last 20 seconds of VGRF data was discarded.\n",
        "- Note: Since we are deleting the first and last 20 seconds, some patients that performed less than 2 mins have almost no gait cycles left. For example, the paient with Id `JuCo02` and `JuCo03` walked for almost 40.40 seconds. Thus, after deleting the first and last 20 sec, he has only half gait cycle left. \n",
        "\n",
        "*   stride time variability and swing time variability are important parameters in distinguishing a PD patient’s gait from normal gait.\n",
        "*   As PD patients tend to put less pressure during placing the heel strike and toe off than control subjects, maximum VGRF at heel strike and toe off for each gait cycle was computed. The mean and standard deviation of the VGRF overall gait cycles were taken as features for classification.\n",
        "\n",
        "\n"
      ]
    },
    {
      "cell_type": "code",
      "execution_count": 4,
      "metadata": {
        "id": "3uHx0SlZl2aJ"
      },
      "outputs": [],
      "source": [
        "class Data:\n",
        "  def __init__(self, prepare_or_get, data_folder, demographics_file, parquet_path):\n",
        "    '''\n",
        "    :param prepare_or_get:  1: prepare data , 0: load preloaded datas (npy)\n",
        "    :param data_folder: path for a folder containing csv files, file for each 2 mins walk (for indivdiual subject)\n",
        "    :param demographics_file: path for csv demographics file\n",
        "    :save_path: path where to save/read parquet files after preparing them\n",
        "    :\n",
        "    '''\n",
        "\n",
        "    self.data_path = data_folder\n",
        "    self.parquet_path= parquet_path\n",
        "    self.dem_path= demographics_file\n",
        "    self.scale=\"HoehnYahr\"            # fixed for now\n",
        "    self.seconds_to_discard = 20      # fixed for now\n",
        "    self.rows_to_discard = 100 * self.seconds_to_discard\n",
        "    \n",
        "    # data in arrays\n",
        "    self.signals_data = []\n",
        "    self.cycles_data=[]\n",
        "    self.statical_data=[]\n",
        "  \n",
        "\n",
        "    if (prepare_or_get==1):\n",
        "      self.prepare_data()\n",
        "    elif (prepare_or_get==0):\n",
        "      self.get_data()\n",
        "  \n",
        "  def get_data(self):\n",
        "    self.signals_data_df= pd.read_parquet(self.parquet_path+'signals.gzip')\n",
        "    self.cycles_data_df=pd.read_parquet(self.parquet_path+'cyclels.gzip')\n",
        "    self.statical_data_df=pd.read_parquet(self.parquet_path+'statical.gzip')\n",
        "    self.left_stances_df=pd.read_parquet(self.parquet_path+'left_stances.gzip')\n",
        "    self.right_stances_df=pd.read_parquet(self.parquet_path+'right_stances.gzip')\n",
        "\n",
        "  def prepare_data(self):\n",
        "    # loop over files, each file is a 2 min walk for a single individual\n",
        "    # files are expected to be in csv format\n",
        "    self.dem_df = pd.read_csv(self.dem_path)\n",
        "    for name in tqdm((os.listdir(self.data_path))):\n",
        "       \n",
        "      # id of subject\n",
        "      id = name.split('_')[0]\n",
        "\n",
        "      # disease level according to 'self.scale'\n",
        "      level = self.get_pd_level( id)\n",
        "\n",
        "      # parkinon's patient OR healthy control ?\n",
        "      if 'Co' in name:  \n",
        "        parkinson = 0 # Healthy control\n",
        "      elif 'Pt' in name:\n",
        "        parkinson = 1 # Parkinson's Patient\n",
        "\n",
        "      # read and filter one file\n",
        "      one_walk=self.read_filter(name)\n",
        "\n",
        "      # sum of values from all the left sensors\n",
        "      one_walk['Total_Force_Left'] = one_walk[list(one_walk.columns[0:8])].sum(axis=1)\n",
        "     \n",
        "      # sum of values from all the right sensors\n",
        "      one_walk['Total_Force_Right'] = one_walk[list(one_walk.columns[8:16])].sum(axis=1)\n",
        "      \n",
        "      # convert to lists\n",
        "      one_walk_lists=[]*18\n",
        "      for column in one_walk.columns.values.tolist():\n",
        "        one_walk_lists.append(one_walk[column].tolist()) \n",
        "\n",
        "      ## Left foot related ##\n",
        "      l_stances, l_strides_time , l_swings_time, l_stances_time, l_indices = self.segment_signal(one_walk_lists[16])\n",
        "      # Find maximum VGRF at heel strike for each gait cycle \n",
        "      l_peaks_heel = self.get_max_per_gait_cycle(one_walk_lists[0],l_indices) # sensor 0 = left heal sensor\n",
        "      # Find maximum VGRF at toe off for each gait cycle\n",
        "      l_peaks_toe = self.get_max_per_gait_cycle(one_walk_lists[7],l_indices) # sensor 7 = left toe sensor\n",
        "\n",
        "      ## right foot related ##\n",
        "      r_stances, r_strides_time , r_swings_time, r_stances_time, r_indices = self.segment_signal(one_walk_lists[17])\n",
        "      # Find maximum VGRF at heel strike for each gait cycle \n",
        "      r_peaks_heel = self.get_max_per_gait_cycle(one_walk_lists[8],l_indices) # sensor 8 = right heal sensor\n",
        "      # Find maximum VGRF at toe off for each gait cycle\n",
        "      r_peaks_toe = self.get_max_per_gait_cycle(one_walk_lists[15],l_indices) # sensor 15 = right toe sensor\n",
        "\n",
        "\n",
        "      ## Saving data ##\n",
        "\n",
        "      # Raw Signals\n",
        "      self.signals_data.append([id,level,parkinson] +one_walk_lists)\n",
        "\n",
        "      # Statical\n",
        "      self.statical_data.append( [ id, level, parkinson \n",
        "                                , mean (l_swings_time) , np.std(l_swings_time), (mean (l_swings_time) / np.std(l_swings_time) *100)\n",
        "                                , mean (l_strides_time) , np.std(l_strides_time) , (mean (l_strides_time) / np.std(l_strides_time)*100)\n",
        "                                , kurtosis(l_strides_time), skew(l_strides_time)\n",
        "                                , mean (l_stances_time) , np.std(l_stances_time) , ( mean (l_stances_time) / np.std(l_stances_time) *100) \n",
        "\n",
        "                                , mean (r_swings_time) , np.std(r_swings_time), (mean (r_swings_time) / np.std(r_swings_time) *100)\n",
        "                                , mean (r_strides_time) , np.std(r_strides_time) , (mean (r_strides_time) / np.std(r_strides_time)*100)\n",
        "                                , kurtosis(r_strides_time), skew(r_strides_time)\n",
        "                                , mean (r_stances_time) , np.std(r_stances_time) , ( mean (r_stances_time) / np.std(r_stances_time) *100)\n",
        "                                \n",
        "                                , mean (l_peaks_heel) , np.std(l_peaks_heel) ,mean (l_peaks_toe) , np.std(l_peaks_toe)\n",
        "                                , mean (r_peaks_heel) , np.std(r_peaks_heel) ,mean (r_peaks_toe) , np.std(r_peaks_toe)\n",
        "                                  ] )\n",
        "      \n",
        "      \n",
        "      # Segmented Signals\n",
        "      \n",
        "      # NEED TO BE MOVED TO SEPERATE FUNCTION\n",
        "      # only for segmented data, for a trial we need each stance phase with the following \n",
        "      # swing phases's time, so here we are adjusting the phases to be equal\n",
        "\n",
        "      dif_l =  len(l_stances)-len(l_swings_time)\n",
        "      if (dif_l > 0):\n",
        "        l_stances=l_stances[:-dif_l]\n",
        "      elif(dif_l < 0):\n",
        "        l_swings_time= l_swings_time[:dif_l]\n",
        "\n",
        "      \n",
        "      dif_r =  len(r_stances)-len(r_swings_time)\n",
        "      if (dif_r>0):\n",
        "        r_stances=r_stances[:-dif_r]\n",
        "      elif(dif_r < 0):\n",
        "        r_swings_time = r_swings_time[:dif_r]\n",
        "       \n",
        "      self.cycles_data.append( [ id, level, parkinson ] \n",
        "                              + [l_stances] + [l_strides_time] + [l_swings_time] + [l_stances_time]\n",
        "                              + [r_stances] + [r_strides_time] + [r_swings_time] + [r_stances_time]\n",
        "                              + [l_peaks_heel] + [l_peaks_toe]\n",
        "                              + [r_peaks_heel] + [r_peaks_toe]\n",
        "                              )\n",
        "      \n",
        "\n",
        "    self.statical_data_to_df()\n",
        "    self.cycles_data_to_df()\n",
        "    self.signal_data_to_df()\n",
        "    ## Get individual stances data frames\n",
        "    self.ind_stances_to_df()\n",
        "    ## writing files ##\n",
        "    self.save_files()\n",
        "\n",
        "  def get_pd_level(self, subject_id):\n",
        "    level = self.dem_df[self.scale][dem_df['ID'] == subject_id ].values[0]\n",
        "    return level\n",
        "\n",
        "  def read_filter(self,name):\n",
        "      # Reading each file, skipping 3 columns (time,total right forces & total left forces)\n",
        "      # For gait cycle segmentation, to eliminate the effect of gait initiation and termenation,\n",
        "      # the first and last N=20 seconds of VGRF data was discarded.\n",
        "\n",
        "      one_walk = pd.read_csv(self.data_path + '/' + name,\n",
        "                             skiprows=list(range(1,self.rows_to_discard+1)) ,\n",
        "                             skipfooter=self.rows_to_discard,\n",
        "                             usecols = np.arange(1,17),\n",
        "                             engine = 'python')  \n",
        "      \n",
        "      # Usually, Vertical Ground React Force VGRF values less than 20N are generated from noise\n",
        "      one_walk.where(one_walk > 20, 0, inplace=True)\n",
        "\n",
        "      return one_walk\n",
        "\n",
        "  def segment_signal(self, signal):\n",
        "      # swing - stance phases repeatly\n",
        "      phases = [list(g) for k, g in groupby((signal), lambda x:x>0)]\n",
        "      \n",
        "      # Deleting the first and last phase, since the first and last 20 seconds were deleted,\n",
        "      # there's no garanty that the first and last phase are complete\n",
        "      # Hence, they are being deleted here just for safety\n",
        "\n",
        "      phases = phases[1:-1]\n",
        "\n",
        "      # filtering phases that is shorter than 20 becuase must propably it's noise\n",
        "      phases = [l for l in phases if len(l)>20]\n",
        "\n",
        "      # indices of the gait cycles\n",
        "      indices=[0]\n",
        "      for i in range(1, len(phases),2):\n",
        "        indices.append(indices[-1]+len(phases[i]) + len(phases[i-1]))\n",
        "\n",
        "      # stances phases\n",
        "      stances = [l for l in phases if any(l)]\n",
        "      \n",
        "      # strides times \n",
        "      strides_time =  [((len(phases[i]) + len(phases[i-1]) -1)*0.01 ) for i in range(1,len(phases),2)]\n",
        "\n",
        "      # swings time\n",
        "      swings_time = [(len(l)-1)*0.01 for l in phases if not all (l)]\n",
        "\n",
        "      # stance time \n",
        "      stances_time = [(len(l)-1)*0.01 for l in stances]\n",
        "\n",
        "      return stances, strides_time , swings_time, stances_time, indices\n",
        "\n",
        "  def get_max_per_gait_cycle(self, signal,indices):\n",
        "    gait_cycles = self.get_gait_cycles(signal, indices)\n",
        "    peaks = [max(cycle) for cycle in gait_cycles]\n",
        "    return peaks\n",
        "\n",
        "  def get_gait_cycles(self, signal, indices):\n",
        "    # get gait cycles\n",
        "    gait_cycles= [signal[indices[i]:indices[i+1]] for i in range(len(indices)-1)]\n",
        "    return gait_cycles\n",
        "\n",
        "  def signal_data_to_df(self):\n",
        "    self.signals_data_df = pd.DataFrame(self.signals_data, columns =[\"ID\", \"level\", \"y\", \"L1\", \"L2\",\"L3\", \"L4\",\"L5\",\"L6\",\"L7\",\"L8\",\n",
        "                                       \"R1\", \"R2\",\"R3\", \"R4\",\"R5\",\"R6\",\"R7\",\"R8\",\"Total_Force_Right\",\"Total_Force_Left\" ])\n",
        "     \n",
        "    \n",
        "  def cycles_data_to_df(self):\n",
        "    self.cycles_data_df = pd.DataFrame(self.cycles_data, columns =[\"ID\", \"level\", \"y\", \n",
        "                                                                   \"l_stances\", \"l_strides_time\", \"l_swings_time\" , \"l_stances_time\"\n",
        "                                                                  , \"r_stances\" , \"r_strides_time\" , \"r_swings_time\" , \"r_stances_time\"\n",
        "                                                                  , \"l_peaks_heel\" , \"l_peaks_toe\"\n",
        "                                                                  , \"r_peaks_heel\" , \"r_peaks_toe\" ])\n",
        "    \n",
        "\n",
        "  def statical_data_to_df(self):\n",
        "    self.statical_data_df = pd.DataFrame(self.statical_data, columns =[\"ID\", \"level\", \"y\"\n",
        "                                                                      , \"mean_left_swings_time\" , \"std_left_swings_time\", \"cv_left_swings_time\"\n",
        "                                                                      , \"mean_left_stride_time\" , \"std_left_stride_time\" ,\"cv_left_stride_time\"\n",
        "                                                                      , \"kurtosis_left_strides_time\", \"skew_left_strides_time\"\n",
        "                                                                      , \"mean_left_stance_time\" , \"std_left_stance_time\", \"cv_left_stance_time\"\n",
        "                                                                      , \"mean_right_swings_time\" , \"std_right_swings_time\", \"cv_right_swings_time\"\n",
        "                                                                      , \"mean_right_stride_time\" , \"std_right_stride_time\", \"cv_right_stride_time\"\n",
        "                                                                      , \"kurtosis_right_strides_time\", \"skew_right_strides_time\"\n",
        "                                                                      , \"mean_right_stance_time\" , \"std_right_stance_time\", \"cv_right_stance_time\"\n",
        "                                                                      , \"mean_left_peaks_heel\" , \"std_left_peaks_heel\"\n",
        "                                                                      , \"mean_left_peaks_toe\" , \"std_left_peaks_toe\"\n",
        "                                                                      , \"mean_right_peaks_heel\" , \"std_right_peaks_heel\"\n",
        "                                                                      , \"mean_right_peaks_toe\" , \"std_right_peaks_toe\"\n",
        "                                                                       ])\n",
        "  def ind_stances_to_df(self):\n",
        "    #droping NNOT WORKING HERE\n",
        "    self.left_stances_df = self.cycles_data_df.explode([\"l_stances\",\"l_swings_time\"])\n",
        "    self.left_stances_df = self.left_stances_df.drop(columns=[\"r_stances\" ,\t\"r_strides_time\" ,\t\"r_swings_time\" ,\t\"r_stances_time\", \"r_peaks_heel\" ,\t\"r_peaks_toe\"], axis=1)\n",
        "\n",
        "    self.right_stances_df = self.cycles_data_df.explode([\"r_stances\",\"r_swings_time\"])\n",
        "    self.right_stances_df = self.right_stances_df.drop(columns=[\"l_stances\" ,\t\"l_strides_time\" ,\t\"l_swings_time\" ,\t\"l_stances_time\", \"l_peaks_heel\" ,\t\"l_peaks_toe\"], axis=1)\n",
        "\n",
        "  def save_files(self):\n",
        "    self.signals_data_df.to_parquet(self.parquet_path+'signals.gzip')\n",
        "    self.cycles_data_df.to_parquet(self.parquet_path+'cyclels.gzip')\n",
        "    self.statical_data_df.to_parquet(self.parquet_path+'statical.gzip')\n",
        "    self.left_stances_df.to_parquet(self.parquet_path+'left_stances.gzip')\n",
        "    self.right_stances_df.to_parquet(self.parquet_path+'right_stances.gzip')"
      ]
    },
    {
      "cell_type": "markdown",
      "metadata": {
        "id": "H_sk20fPzLuN"
      },
      "source": [
        "### Prepare the data"
      ]
    },
    {
      "cell_type": "code",
      "execution_count": null,
      "metadata": {
        "colab": {
          "base_uri": "https://localhost:8080/",
          "height": 49,
          "referenced_widgets": [
            "76d430b27faf43bdadf157f552f13ae2",
            "29ebc352951d4fa0938beba218a394b8",
            "b6828ee43f97471abf45ccc60c277629",
            "ef49c0063f0244d2aeb3a2d9cab4ef4d",
            "549e36afb1344e5dac211583191e8bdf",
            "bff29d2b3d834c9ca2263759ef64a52e",
            "009a2cc28ae84588a4287bf39386769d",
            "2fabca6f213f46d5ac3f834242ebefa1",
            "884b0b1abc344bf2bdb4e38e6fc2fdbd",
            "0cc9fd76f4c34854b31e0409a13d62f3",
            "7c27d950cf8e4efebf2699e943a9e7d8"
          ]
        },
        "id": "n-MVu6AKJPk5",
        "outputId": "718416fb-5095-44da-8ae3-14cc87416fb1"
      },
      "outputs": [
        {
          "data": {
            "application/vnd.jupyter.widget-view+json": {
              "model_id": "76d430b27faf43bdadf157f552f13ae2",
              "version_major": 2,
              "version_minor": 0
            },
            "text/plain": [
              "  0%|          | 0/304 [00:00<?, ?it/s]"
            ]
          },
          "metadata": {},
          "output_type": "display_data"
        }
      ],
      "source": [
        "data = Data( 1, csvD_path, demographics,parquet_path)"
      ]
    },
    {
      "cell_type": "code",
      "execution_count": null,
      "metadata": {
        "id": "IfujtCJCre60"
      },
      "outputs": [],
      "source": [
        "data.cycles_data_df"
      ]
    },
    {
      "cell_type": "markdown",
      "metadata": {
        "id": "6gvkVqJ2zQFA"
      },
      "source": [
        "### Read already prepared data"
      ]
    },
    {
      "cell_type": "code",
      "execution_count": 5,
      "metadata": {
        "id": "XzE-whMYt6OS"
      },
      "outputs": [],
      "source": [
        "data = Data( 0, \"\", \"\",parquet_path)"
      ]
    },
    {
      "cell_type": "code",
      "execution_count": 6,
      "metadata": {
        "colab": {
          "base_uri": "https://localhost:8080/"
        },
        "id": "vnyD09XjuQbC",
        "outputId": "eee8f78e-dc75-4e77-91e7-a87a1460bcd1"
      },
      "outputs": [
        {
          "output_type": "execute_result",
          "data": {
            "text/plain": [
              "numpy.ndarray"
            ]
          },
          "metadata": {},
          "execution_count": 6
        }
      ],
      "source": [
        "type(data.signals_data_df[\"L1\"].iloc[-1]) "
      ]
    },
    {
      "cell_type": "markdown",
      "metadata": {
        "id": "gmQ47Qcp6D5S"
      },
      "source": [
        "### Example"
      ]
    },
    {
      "cell_type": "code",
      "execution_count": null,
      "metadata": {
        "colab": {
          "base_uri": "https://localhost:8080/",
          "height": 282
        },
        "id": "qzvCeNFa80go",
        "outputId": "9abcaf0e-d474-4933-84e2-b5e1f0c051bc"
      },
      "outputs": [
        {
          "data": {
            "text/plain": [
              "[<matplotlib.lines.Line2D at 0x7f30e86c43d0>]"
            ]
          },
          "execution_count": 90,
          "metadata": {},
          "output_type": "execute_result"
        },
        {
          "data": {
            "image/png": "[encoded data removed]",
            "text/plain": [
              "<Figure size 432x288 with 1 Axes>"
            ]
          },
          "metadata": {},
          "output_type": "display_data"
        }
      ],
      "source": [
        "# example of one stance phase \n",
        "y = data.left_stances_df['l_stances'].iloc[7]\n",
        "import matplotlib.pyplot as plt\n",
        "plt.plot(y)"
      ]
    },
    {
      "cell_type": "code",
      "execution_count": null,
      "metadata": {
        "colab": {
          "base_uri": "https://localhost:8080/",
          "height": 447
        },
        "id": "27AQ-HtRaTwA",
        "outputId": "435a1f28-6e12-4a00-b971-7000771c0486"
      },
      "outputs": [
        {
          "data": {
            "text/plain": [
              "[<matplotlib.lines.Line2D at 0x7fcaa4535280>]"
            ]
          },
          "execution_count": 15,
          "metadata": {},
          "output_type": "execute_result"
        },
        {
          "data": {
            "image/png": "[encoded data removed]",
            "text/plain": [
              "<Figure size 640x480 with 1 Axes>"
            ]
          },
          "metadata": {},
          "output_type": "display_data"
        }
      ],
      "source": [
        "# example of one stance phase \n",
        "y = data.right_stances_df['r_stances'].iloc[3]\n",
        "import matplotlib.pyplot as plt\n",
        "plt.plot(y)"
      ]
    },
    {
      "cell_type": "markdown",
      "metadata": {
        "id": "0_Wh3g6eut06"
      },
      "source": [
        "## FWHM\n"
      ]
    },
    {
      "cell_type": "code",
      "execution_count": 7,
      "metadata": {
        "id": "tzUwiIe49ZBp"
      },
      "outputs": [],
      "source": [
        "def fwhm(y_values_temp, x_values):\n",
        "    y_values, temp_l, temp_r = [], [], []\n",
        "    ## print(y_values_temp, x_values)\n",
        "    # To make 'y_values_temp', a numpy array, into a python list\n",
        "    for x in range(0,len(y_values_temp)):\n",
        "        y_values.append(y_values_temp[x])\n",
        "    peak_height = max(y_values)\n",
        "    half_peak_height = max(y_values)/2\n",
        "    \n",
        "    # Splitting the y_values data into before and after x_value at peak height\n",
        "    y_l_temp = y_values[0:y_values.index(peak_height)]\n",
        "    y_r_temp = y_values[y_values.index(peak_height):len(y_values)]\n",
        "    \n",
        "    # Find 1st closest value to half_peak_height in y_l and y_r\n",
        "    y_l = [abs(x-half_peak_height) for x in y_l_temp] # the distances\n",
        "    y_l_min = min(y_l)\n",
        "    point_left=y_l_temp[y_l.index(y_l_min)]  \n",
        "    \n",
        "    y_r = [abs(x-half_peak_height) for x in y_r_temp] # the distances\n",
        "    point_right=y_r_temp[y_r.index(min(y_r))]  \n",
        "    \n",
        "    # y_l = nsmallest(1, y_l_temp, key=lambda x: abs(x-half_peak_height))\n",
        "    # y_r = nsmallest(1, y_r_temp, key=lambda x: abs(x-half_peak_height))\n",
        "    \n",
        "    # Gets x_value pairs for y_l and y_r\n",
        "    temp_l.append(x_values[y_l_temp.index(point_left)])\n",
        "    temp_r.append(x_values[y_r_temp.index(point_right)])\n",
        "    fwhm_n = temp_l[0] - temp_r[0]\n",
        "    return abs(fwhm_n)"
      ]
    },
    {
      "cell_type": "code",
      "execution_count": 8,
      "metadata": {
        "id": "BDcSn5CwlWEH"
      },
      "outputs": [],
      "source": [
        "# data.left_stances_df.drop(index=data.left_stances_df.index[0], axis=0, inplace=True)"
      ]
    },
    {
      "cell_type": "code",
      "execution_count": 9,
      "metadata": {
        "id": "wfhLUTe0nxw0"
      },
      "outputs": [],
      "source": [
        "#data.left_stances_df.head()"
      ]
    },
    {
      "cell_type": "code",
      "execution_count": 10,
      "metadata": {
        "id": "MwGB0wAvonbm"
      },
      "outputs": [],
      "source": [
        "### SHOULD be applied for all dataframes after `explode`\n",
        "data.right_stances_df = data.right_stances_df.reset_index(drop=True)"
      ]
    },
    {
      "cell_type": "code",
      "execution_count": 11,
      "metadata": {
        "id": "14ZC1TxJK9je"
      },
      "outputs": [],
      "source": [
        "data.right_stances_df['max_peak'] = data.right_stances_df['r_stances'].apply(lambda x: max(x))"
      ]
    },
    {
      "cell_type": "code",
      "execution_count": 12,
      "metadata": {
        "id": "QQ7qyuDIMYqX"
      },
      "outputs": [],
      "source": [
        "data.right_stances_df['FWHM'] = data.right_stances_df['r_stances'].apply(lambda x: fwhm(x, np.arange(0, len(x)*0.01,0.01)))"
      ]
    },
    {
      "cell_type": "code",
      "execution_count": 13,
      "metadata": {
        "colab": {
          "base_uri": "https://localhost:8080/",
          "height": 774
        },
        "id": "o4i5L4wQuWtC",
        "outputId": "9b8fb3dd-1fa2-444f-d7d9-7a6047337f68"
      },
      "outputs": [
        {
          "output_type": "execute_result",
          "data": {
            "text/plain": [
              "       ID  level  y                                          r_stances  \\\n",
              "0  GaPt03    3.0  1  [20.79, 27.72, 32.45, 37.07, 63.69, 110.33, 13...   \n",
              "1  GaPt03    3.0  1  [52.8, 69.19, 57.64, 51.7, 60.94, 92.84, 140.1...   \n",
              "2  GaPt03    3.0  1  [23.1, 32.45, 39.38, 46.31, 116.82, 155.43, 17...   \n",
              "3  GaPt03    3.0  1  [23.1, 41.69, 55.55, 119.13, 154.55, 200.42, 2...   \n",
              "4  GaPt03    3.0  1  [25.41, 37.07, 55.55, 106.37, 152.02, 182.05, ...   \n",
              "\n",
              "                                      r_strides_time  r_swings_time  \\\n",
              "0  [1.59, 1.27, 1.41, 1.49, 1.56, 1.41, 1.5, 1.32...           0.39   \n",
              "1  [1.59, 1.27, 1.41, 1.49, 1.56, 1.41, 1.5, 1.32...           0.21   \n",
              "2  [1.59, 1.27, 1.41, 1.49, 1.56, 1.41, 1.5, 1.32...           0.41   \n",
              "3  [1.59, 1.27, 1.41, 1.49, 1.56, 1.41, 1.5, 1.32...           0.43   \n",
              "4  [1.59, 1.27, 1.41, 1.49, 1.56, 1.41, 1.5, 1.32...           0.41   \n",
              "\n",
              "                                      r_stances_time  \\\n",
              "0  [1.19, 1.05, 0.99, 1.05, 1.1400000000000001, 0...   \n",
              "1  [1.19, 1.05, 0.99, 1.05, 1.1400000000000001, 0...   \n",
              "2  [1.19, 1.05, 0.99, 1.05, 1.1400000000000001, 0...   \n",
              "3  [1.19, 1.05, 0.99, 1.05, 1.1400000000000001, 0...   \n",
              "4  [1.19, 1.05, 0.99, 1.05, 1.1400000000000001, 0...   \n",
              "\n",
              "                                        r_peaks_heel  \\\n",
              "0  [107.8, 71.17, 111.1, 141.24, 101.2, 123.42, 1...   \n",
              "1  [107.8, 71.17, 111.1, 141.24, 101.2, 123.42, 1...   \n",
              "2  [107.8, 71.17, 111.1, 141.24, 101.2, 123.42, 1...   \n",
              "3  [107.8, 71.17, 111.1, 141.24, 101.2, 123.42, 1...   \n",
              "4  [107.8, 71.17, 111.1, 141.24, 101.2, 123.42, 1...   \n",
              "\n",
              "                                         r_peaks_toe  max_peak  FWHM  \n",
              "0  [80.63, 134.42, 80.63, 71.61, 98.78, 130.02, 8...    731.61  0.48  \n",
              "1  [80.63, 134.42, 80.63, 71.61, 98.78, 130.02, 8...    774.73  0.20  \n",
              "2  [80.63, 134.42, 80.63, 71.61, 98.78, 130.02, 8...    717.75  0.05  \n",
              "3  [80.63, 134.42, 80.63, 71.61, 98.78, 130.02, 8...    742.50  0.10  \n",
              "4  [80.63, 134.42, 80.63, 71.61, 98.78, 130.02, 8...    779.79  0.17  "
            ],
            "text/html": [
              "\n",
              "  <div id=\"df-fc46a381-1262-4f49-898f-db617e11ebf4\">\n",
              "    <div class=\"colab-df-container\">\n",
              "      <div>\n",
              "<style scoped>\n",
              "    .dataframe tbody tr th:only-of-type {\n",
              "        vertical-align: middle;\n",
              "    }\n",
              "\n",
              "    .dataframe tbody tr th {\n",
              "        vertical-align: top;\n",
              "    }\n",
              "\n",
              "    .dataframe thead th {\n",
              "        text-align: right;\n",
              "    }\n",
              "</style>\n",
              "<table border=\"1\" class=\"dataframe\">\n",
              "  <thead>\n",
              "    <tr style=\"text-align: right;\">\n",
              "      <th></th>\n",
              "      <th>ID</th>\n",
              "      <th>level</th>\n",
              "      <th>y</th>\n",
              "      <th>r_stances</th>\n",
              "      <th>r_strides_time</th>\n",
              "      <th>r_swings_time</th>\n",
              "      <th>r_stances_time</th>\n",
              "      <th>r_peaks_heel</th>\n",
              "      <th>r_peaks_toe</th>\n",
              "      <th>max_peak</th>\n",
              "      <th>FWHM</th>\n",
              "    </tr>\n",
              "  </thead>\n",
              "  <tbody>\n",
              "    <tr>\n",
              "      <th>0</th>\n",
              "      <td>GaPt03</td>\n",
              "      <td>3.0</td>\n",
              "      <td>1</td>\n",
              "      <td>[20.79, 27.72, 32.45, 37.07, 63.69, 110.33, 13...</td>\n",
              "      <td>[1.59, 1.27, 1.41, 1.49, 1.56, 1.41, 1.5, 1.32...</td>\n",
              "      <td>0.39</td>\n",
              "      <td>[1.19, 1.05, 0.99, 1.05, 1.1400000000000001, 0...</td>\n",
              "      <td>[107.8, 71.17, 111.1, 141.24, 101.2, 123.42, 1...</td>\n",
              "      <td>[80.63, 134.42, 80.63, 71.61, 98.78, 130.02, 8...</td>\n",
              "      <td>731.61</td>\n",
              "      <td>0.48</td>\n",
              "    </tr>\n",
              "    <tr>\n",
              "      <th>1</th>\n",
              "      <td>GaPt03</td>\n",
              "      <td>3.0</td>\n",
              "      <td>1</td>\n",
              "      <td>[52.8, 69.19, 57.64, 51.7, 60.94, 92.84, 140.1...</td>\n",
              "      <td>[1.59, 1.27, 1.41, 1.49, 1.56, 1.41, 1.5, 1.32...</td>\n",
              "      <td>0.21</td>\n",
              "      <td>[1.19, 1.05, 0.99, 1.05, 1.1400000000000001, 0...</td>\n",
              "      <td>[107.8, 71.17, 111.1, 141.24, 101.2, 123.42, 1...</td>\n",
              "      <td>[80.63, 134.42, 80.63, 71.61, 98.78, 130.02, 8...</td>\n",
              "      <td>774.73</td>\n",
              "      <td>0.20</td>\n",
              "    </tr>\n",
              "    <tr>\n",
              "      <th>2</th>\n",
              "      <td>GaPt03</td>\n",
              "      <td>3.0</td>\n",
              "      <td>1</td>\n",
              "      <td>[23.1, 32.45, 39.38, 46.31, 116.82, 155.43, 17...</td>\n",
              "      <td>[1.59, 1.27, 1.41, 1.49, 1.56, 1.41, 1.5, 1.32...</td>\n",
              "      <td>0.41</td>\n",
              "      <td>[1.19, 1.05, 0.99, 1.05, 1.1400000000000001, 0...</td>\n",
              "      <td>[107.8, 71.17, 111.1, 141.24, 101.2, 123.42, 1...</td>\n",
              "      <td>[80.63, 134.42, 80.63, 71.61, 98.78, 130.02, 8...</td>\n",
              "      <td>717.75</td>\n",
              "      <td>0.05</td>\n",
              "    </tr>\n",
              "    <tr>\n",
              "      <th>3</th>\n",
              "      <td>GaPt03</td>\n",
              "      <td>3.0</td>\n",
              "      <td>1</td>\n",
              "      <td>[23.1, 41.69, 55.55, 119.13, 154.55, 200.42, 2...</td>\n",
              "      <td>[1.59, 1.27, 1.41, 1.49, 1.56, 1.41, 1.5, 1.32...</td>\n",
              "      <td>0.43</td>\n",
              "      <td>[1.19, 1.05, 0.99, 1.05, 1.1400000000000001, 0...</td>\n",
              "      <td>[107.8, 71.17, 111.1, 141.24, 101.2, 123.42, 1...</td>\n",
              "      <td>[80.63, 134.42, 80.63, 71.61, 98.78, 130.02, 8...</td>\n",
              "      <td>742.50</td>\n",
              "      <td>0.10</td>\n",
              "    </tr>\n",
              "    <tr>\n",
              "      <th>4</th>\n",
              "      <td>GaPt03</td>\n",
              "      <td>3.0</td>\n",
              "      <td>1</td>\n",
              "      <td>[25.41, 37.07, 55.55, 106.37, 152.02, 182.05, ...</td>\n",
              "      <td>[1.59, 1.27, 1.41, 1.49, 1.56, 1.41, 1.5, 1.32...</td>\n",
              "      <td>0.41</td>\n",
              "      <td>[1.19, 1.05, 0.99, 1.05, 1.1400000000000001, 0...</td>\n",
              "      <td>[107.8, 71.17, 111.1, 141.24, 101.2, 123.42, 1...</td>\n",
              "      <td>[80.63, 134.42, 80.63, 71.61, 98.78, 130.02, 8...</td>\n",
              "      <td>779.79</td>\n",
              "      <td>0.17</td>\n",
              "    </tr>\n",
              "  </tbody>\n",
              "</table>\n",
              "</div>\n",
              "      <button class=\"colab-df-convert\" onclick=\"convertToInteractive('df-fc46a381-1262-4f49-898f-db617e11ebf4')\"\n",
              "              title=\"Convert this dataframe to an interactive table.\"\n",
              "              style=\"display:none;\">\n",
              "        \n",
              "  <svg xmlns=\"http://www.w3.org/2000/svg\" height=\"24px\"viewBox=\"0 0 24 24\"\n",
              "       width=\"24px\">\n",
              "    <path d=\"M0 0h24v24H0V0z\" fill=\"none\"/>\n",
              "    <path d=\"M18.56 5.44l.94 2.06.94-2.06 2.06-.94-2.06-.94-.94-2.06-.94 2.06-2.06.94zm-11 1L8.5 8.5l.94-2.06 2.06-.94-2.06-.94L8.5 2.5l-.94 2.06-2.06.94zm10 10l.94 2.06.94-2.06 2.06-.94-2.06-.94-.94-2.06-.94 2.06-2.06.94z\"/><path d=\"M17.41 7.96l-1.37-1.37c-.4-.4-.92-.59-1.43-.59-.52 0-1.04.2-1.43.59L10.3 9.45l-7.72 7.72c-.78.78-.78 2.05 0 2.83L4 21.41c.39.39.9.59 1.41.59.51 0 1.02-.2 1.41-.59l7.78-7.78 2.81-2.81c.8-.78.8-2.07 0-2.86zM5.41 20L4 18.59l7.72-7.72 1.47 1.35L5.41 20z\"/>\n",
              "  </svg>\n",
              "      </button>\n",
              "      \n",
              "  <style>\n",
              "    .colab-df-container {\n",
              "      display:flex;\n",
              "      flex-wrap:wrap;\n",
              "      gap: 12px;\n",
              "    }\n",
              "\n",
              "    .colab-df-convert {\n",
              "      background-color: #E8F0FE;\n",
              "      border: none;\n",
              "      border-radius: 50%;\n",
              "      cursor: pointer;\n",
              "      display: none;\n",
              "      fill: #1967D2;\n",
              "      height: 32px;\n",
              "      padding: 0 0 0 0;\n",
              "      width: 32px;\n",
              "    }\n",
              "\n",
              "    .colab-df-convert:hover {\n",
              "      background-color: #E2EBFA;\n",
              "      box-shadow: 0px 1px 2px rgba(60, 64, 67, 0.3), 0px 1px 3px 1px rgba(60, 64, 67, 0.15);\n",
              "      fill: #174EA6;\n",
              "    }\n",
              "\n",
              "    [theme=dark] .colab-df-convert {\n",
              "      background-color: #3B4455;\n",
              "      fill: #D2E3FC;\n",
              "    }\n",
              "\n",
              "    [theme=dark] .colab-df-convert:hover {\n",
              "      background-color: #434B5C;\n",
              "      box-shadow: 0px 1px 3px 1px rgba(0, 0, 0, 0.15);\n",
              "      filter: drop-shadow(0px 1px 2px rgba(0, 0, 0, 0.3));\n",
              "      fill: #FFFFFF;\n",
              "    }\n",
              "  </style>\n",
              "\n",
              "      <script>\n",
              "        const buttonEl =\n",
              "          document.querySelector('#df-fc46a381-1262-4f49-898f-db617e11ebf4 button.colab-df-convert');\n",
              "        buttonEl.style.display =\n",
              "          google.colab.kernel.accessAllowed ? 'block' : 'none';\n",
              "\n",
              "        async function convertToInteractive(key) {\n",
              "          const element = document.querySelector('#df-fc46a381-1262-4f49-898f-db617e11ebf4');\n",
              "          const dataTable =\n",
              "            await google.colab.kernel.invokeFunction('convertToInteractive',\n",
              "                                                     [key], {});\n",
              "          if (!dataTable) return;\n",
              "\n",
              "          const docLinkHtml = 'Like what you see? Visit the ' +\n",
              "            '<a target=\"_blank\" href=https://colab.research.google.com/notebooks/data_table.ipynb>data table notebook</a>'\n",
              "            + ' to learn more about interactive tables.';\n",
              "          element.innerHTML = '';\n",
              "          dataTable['output_type'] = 'display_data';\n",
              "          await google.colab.output.renderOutput(dataTable, element);\n",
              "          const docLink = document.createElement('div');\n",
              "          docLink.innerHTML = docLinkHtml;\n",
              "          element.appendChild(docLink);\n",
              "        }\n",
              "      </script>\n",
              "    </div>\n",
              "  </div>\n",
              "  "
            ]
          },
          "metadata": {},
          "execution_count": 13
        }
      ],
      "source": [
        "data.right_stances_df.head()"
      ]
    },
    {
      "cell_type": "markdown",
      "metadata": {
        "id": "Zx3AE4Ab0bRL"
      },
      "source": [
        "## Padding"
      ]
    },
    {
      "cell_type": "code",
      "execution_count": 14,
      "metadata": {
        "id": "-8UGcqn314MB"
      },
      "outputs": [],
      "source": [
        "max_length = max([len(row) for row in data.right_stances_df['r_stances']])"
      ]
    },
    {
      "cell_type": "code",
      "execution_count": 15,
      "metadata": {
        "id": "3Tn0jp1d1_4e"
      },
      "outputs": [],
      "source": [
        "padded_data = np.zeros((len(data.right_stances_df['r_stances']), max_length))\n",
        "for i, row in enumerate(data.right_stances_df['r_stances']):\n",
        "    padded_data[i, :len(row)] = row"
      ]
    },
    {
      "cell_type": "code",
      "execution_count": 16,
      "metadata": {
        "id": "OlsSCtbp90I6"
      },
      "outputs": [],
      "source": [
        "padded_data=np.reshape(padded_data,(len(data.right_stances_df['r_stances']), 1,-1))"
      ]
    },
    {
      "cell_type": "code",
      "execution_count": 17,
      "metadata": {
        "id": "2sJpjrRP-JGb"
      },
      "outputs": [],
      "source": [
        "padded_data=padded_data.tolist()"
      ]
    },
    {
      "cell_type": "code",
      "execution_count": 18,
      "metadata": {
        "id": "1yN3RLYq7b0g"
      },
      "outputs": [],
      "source": [
        "padded_data_df = pd.DataFrame(padded_data, columns =[\"padded_stances\"])"
      ]
    },
    {
      "cell_type": "code",
      "execution_count": 19,
      "metadata": {
        "colab": {
          "base_uri": "https://localhost:8080/",
          "height": 852
        },
        "id": "afxvzMR2-pjl",
        "outputId": "ea1094cd-5442-4ca9-dd8b-57ee2e1de5d0"
      },
      "outputs": [
        {
          "output_type": "execute_result",
          "data": {
            "text/plain": [
              "                                          padded_stances\n",
              "0      [20.79, 27.72, 32.45, 37.07, 63.69, 110.33, 13...\n",
              "1      [52.8, 69.19, 57.64, 51.7, 60.94, 92.84, 140.1...\n",
              "2      [23.1, 32.45, 39.38, 46.31, 116.82, 155.43, 17...\n",
              "3      [23.1, 41.69, 55.55, 119.13, 154.55, 200.42, 2...\n",
              "4      [25.41, 37.07, 55.55, 106.37, 152.02, 182.05, ...\n",
              "...                                                  ...\n",
              "18382  [78.65, 302.28, 390.28, 478.83, 535.81, 577.39...\n",
              "18383  [27.39, 213.51, 264.44, 391.15999999999997, 46...\n",
              "18384  [47.96, 264.44, 309.65000000000003, 429.11, 50...\n",
              "18385  [61.93, 278.3, 327.58, 446.82, 507.53999999999...\n",
              "18386  [29.7, 211.09, 285.34, 393.03, 465.3, 524.8100...\n",
              "\n",
              "[18387 rows x 1 columns]"
            ],
            "text/html": [
              "\n",
              "  <div id=\"df-c3aeeffe-33b1-4185-aa13-634e313245b4\">\n",
              "    <div class=\"colab-df-container\">\n",
              "      <div>\n",
              "<style scoped>\n",
              "    .dataframe tbody tr th:only-of-type {\n",
              "        vertical-align: middle;\n",
              "    }\n",
              "\n",
              "    .dataframe tbody tr th {\n",
              "        vertical-align: top;\n",
              "    }\n",
              "\n",
              "    .dataframe thead th {\n",
              "        text-align: right;\n",
              "    }\n",
              "</style>\n",
              "<table border=\"1\" class=\"dataframe\">\n",
              "  <thead>\n",
              "    <tr style=\"text-align: right;\">\n",
              "      <th></th>\n",
              "      <th>padded_stances</th>\n",
              "    </tr>\n",
              "  </thead>\n",
              "  <tbody>\n",
              "    <tr>\n",
              "      <th>0</th>\n",
              "      <td>[20.79, 27.72, 32.45, 37.07, 63.69, 110.33, 13...</td>\n",
              "    </tr>\n",
              "    <tr>\n",
              "      <th>1</th>\n",
              "      <td>[52.8, 69.19, 57.64, 51.7, 60.94, 92.84, 140.1...</td>\n",
              "    </tr>\n",
              "    <tr>\n",
              "      <th>2</th>\n",
              "      <td>[23.1, 32.45, 39.38, 46.31, 116.82, 155.43, 17...</td>\n",
              "    </tr>\n",
              "    <tr>\n",
              "      <th>3</th>\n",
              "      <td>[23.1, 41.69, 55.55, 119.13, 154.55, 200.42, 2...</td>\n",
              "    </tr>\n",
              "    <tr>\n",
              "      <th>4</th>\n",
              "      <td>[25.41, 37.07, 55.55, 106.37, 152.02, 182.05, ...</td>\n",
              "    </tr>\n",
              "    <tr>\n",
              "      <th>...</th>\n",
              "      <td>...</td>\n",
              "    </tr>\n",
              "    <tr>\n",
              "      <th>18382</th>\n",
              "      <td>[78.65, 302.28, 390.28, 478.83, 535.81, 577.39...</td>\n",
              "    </tr>\n",
              "    <tr>\n",
              "      <th>18383</th>\n",
              "      <td>[27.39, 213.51, 264.44, 391.15999999999997, 46...</td>\n",
              "    </tr>\n",
              "    <tr>\n",
              "      <th>18384</th>\n",
              "      <td>[47.96, 264.44, 309.65000000000003, 429.11, 50...</td>\n",
              "    </tr>\n",
              "    <tr>\n",
              "      <th>18385</th>\n",
              "      <td>[61.93, 278.3, 327.58, 446.82, 507.53999999999...</td>\n",
              "    </tr>\n",
              "    <tr>\n",
              "      <th>18386</th>\n",
              "      <td>[29.7, 211.09, 285.34, 393.03, 465.3, 524.8100...</td>\n",
              "    </tr>\n",
              "  </tbody>\n",
              "</table>\n",
              "<p>18387 rows × 1 columns</p>\n",
              "</div>\n",
              "      <button class=\"colab-df-convert\" onclick=\"convertToInteractive('df-c3aeeffe-33b1-4185-aa13-634e313245b4')\"\n",
              "              title=\"Convert this dataframe to an interactive table.\"\n",
              "              style=\"display:none;\">\n",
              "        \n",
              "  <svg xmlns=\"http://www.w3.org/2000/svg\" height=\"24px\"viewBox=\"0 0 24 24\"\n",
              "       width=\"24px\">\n",
              "    <path d=\"M0 0h24v24H0V0z\" fill=\"none\"/>\n",
              "    <path d=\"M18.56 5.44l.94 2.06.94-2.06 2.06-.94-2.06-.94-.94-2.06-.94 2.06-2.06.94zm-11 1L8.5 8.5l.94-2.06 2.06-.94-2.06-.94L8.5 2.5l-.94 2.06-2.06.94zm10 10l.94 2.06.94-2.06 2.06-.94-2.06-.94-.94-2.06-.94 2.06-2.06.94z\"/><path d=\"M17.41 7.96l-1.37-1.37c-.4-.4-.92-.59-1.43-.59-.52 0-1.04.2-1.43.59L10.3 9.45l-7.72 7.72c-.78.78-.78 2.05 0 2.83L4 21.41c.39.39.9.59 1.41.59.51 0 1.02-.2 1.41-.59l7.78-7.78 2.81-2.81c.8-.78.8-2.07 0-2.86zM5.41 20L4 18.59l7.72-7.72 1.47 1.35L5.41 20z\"/>\n",
              "  </svg>\n",
              "      </button>\n",
              "      \n",
              "  <style>\n",
              "    .colab-df-container {\n",
              "      display:flex;\n",
              "      flex-wrap:wrap;\n",
              "      gap: 12px;\n",
              "    }\n",
              "\n",
              "    .colab-df-convert {\n",
              "      background-color: #E8F0FE;\n",
              "      border: none;\n",
              "      border-radius: 50%;\n",
              "      cursor: pointer;\n",
              "      display: none;\n",
              "      fill: #1967D2;\n",
              "      height: 32px;\n",
              "      padding: 0 0 0 0;\n",
              "      width: 32px;\n",
              "    }\n",
              "\n",
              "    .colab-df-convert:hover {\n",
              "      background-color: #E2EBFA;\n",
              "      box-shadow: 0px 1px 2px rgba(60, 64, 67, 0.3), 0px 1px 3px 1px rgba(60, 64, 67, 0.15);\n",
              "      fill: #174EA6;\n",
              "    }\n",
              "\n",
              "    [theme=dark] .colab-df-convert {\n",
              "      background-color: #3B4455;\n",
              "      fill: #D2E3FC;\n",
              "    }\n",
              "\n",
              "    [theme=dark] .colab-df-convert:hover {\n",
              "      background-color: #434B5C;\n",
              "      box-shadow: 0px 1px 3px 1px rgba(0, 0, 0, 0.15);\n",
              "      filter: drop-shadow(0px 1px 2px rgba(0, 0, 0, 0.3));\n",
              "      fill: #FFFFFF;\n",
              "    }\n",
              "  </style>\n",
              "\n",
              "      <script>\n",
              "        const buttonEl =\n",
              "          document.querySelector('#df-c3aeeffe-33b1-4185-aa13-634e313245b4 button.colab-df-convert');\n",
              "        buttonEl.style.display =\n",
              "          google.colab.kernel.accessAllowed ? 'block' : 'none';\n",
              "\n",
              "        async function convertToInteractive(key) {\n",
              "          const element = document.querySelector('#df-c3aeeffe-33b1-4185-aa13-634e313245b4');\n",
              "          const dataTable =\n",
              "            await google.colab.kernel.invokeFunction('convertToInteractive',\n",
              "                                                     [key], {});\n",
              "          if (!dataTable) return;\n",
              "\n",
              "          const docLinkHtml = 'Like what you see? Visit the ' +\n",
              "            '<a target=\"_blank\" href=https://colab.research.google.com/notebooks/data_table.ipynb>data table notebook</a>'\n",
              "            + ' to learn more about interactive tables.';\n",
              "          element.innerHTML = '';\n",
              "          dataTable['output_type'] = 'display_data';\n",
              "          await google.colab.output.renderOutput(dataTable, element);\n",
              "          const docLink = document.createElement('div');\n",
              "          docLink.innerHTML = docLinkHtml;\n",
              "          element.appendChild(docLink);\n",
              "        }\n",
              "      </script>\n",
              "    </div>\n",
              "  </div>\n",
              "  "
            ]
          },
          "metadata": {},
          "execution_count": 19
        }
      ],
      "source": [
        "padded_data_df"
      ]
    },
    {
      "cell_type": "code",
      "execution_count": 20,
      "metadata": {
        "id": "BPwb9J0v-v4v"
      },
      "outputs": [],
      "source": [
        "data.right_stances_df['padded_stances']=padded_data_df"
      ]
    },
    {
      "cell_type": "code",
      "execution_count": 21,
      "metadata": {
        "colab": {
          "base_uri": "https://localhost:8080/",
          "height": 774
        },
        "id": "KK2Ihg-q_AQv",
        "outputId": "e031ddd2-2553-4f1d-c1ec-7dcebdd82019"
      },
      "outputs": [
        {
          "output_type": "execute_result",
          "data": {
            "text/plain": [
              "       ID  level  y                                          r_stances  \\\n",
              "0  GaPt03    3.0  1  [20.79, 27.72, 32.45, 37.07, 63.69, 110.33, 13...   \n",
              "1  GaPt03    3.0  1  [52.8, 69.19, 57.64, 51.7, 60.94, 92.84, 140.1...   \n",
              "2  GaPt03    3.0  1  [23.1, 32.45, 39.38, 46.31, 116.82, 155.43, 17...   \n",
              "3  GaPt03    3.0  1  [23.1, 41.69, 55.55, 119.13, 154.55, 200.42, 2...   \n",
              "4  GaPt03    3.0  1  [25.41, 37.07, 55.55, 106.37, 152.02, 182.05, ...   \n",
              "\n",
              "                                      r_strides_time  r_swings_time  \\\n",
              "0  [1.59, 1.27, 1.41, 1.49, 1.56, 1.41, 1.5, 1.32...           0.39   \n",
              "1  [1.59, 1.27, 1.41, 1.49, 1.56, 1.41, 1.5, 1.32...           0.21   \n",
              "2  [1.59, 1.27, 1.41, 1.49, 1.56, 1.41, 1.5, 1.32...           0.41   \n",
              "3  [1.59, 1.27, 1.41, 1.49, 1.56, 1.41, 1.5, 1.32...           0.43   \n",
              "4  [1.59, 1.27, 1.41, 1.49, 1.56, 1.41, 1.5, 1.32...           0.41   \n",
              "\n",
              "                                      r_stances_time  \\\n",
              "0  [1.19, 1.05, 0.99, 1.05, 1.1400000000000001, 0...   \n",
              "1  [1.19, 1.05, 0.99, 1.05, 1.1400000000000001, 0...   \n",
              "2  [1.19, 1.05, 0.99, 1.05, 1.1400000000000001, 0...   \n",
              "3  [1.19, 1.05, 0.99, 1.05, 1.1400000000000001, 0...   \n",
              "4  [1.19, 1.05, 0.99, 1.05, 1.1400000000000001, 0...   \n",
              "\n",
              "                                        r_peaks_heel  \\\n",
              "0  [107.8, 71.17, 111.1, 141.24, 101.2, 123.42, 1...   \n",
              "1  [107.8, 71.17, 111.1, 141.24, 101.2, 123.42, 1...   \n",
              "2  [107.8, 71.17, 111.1, 141.24, 101.2, 123.42, 1...   \n",
              "3  [107.8, 71.17, 111.1, 141.24, 101.2, 123.42, 1...   \n",
              "4  [107.8, 71.17, 111.1, 141.24, 101.2, 123.42, 1...   \n",
              "\n",
              "                                         r_peaks_toe  max_peak  FWHM  \\\n",
              "0  [80.63, 134.42, 80.63, 71.61, 98.78, 130.02, 8...    731.61  0.48   \n",
              "1  [80.63, 134.42, 80.63, 71.61, 98.78, 130.02, 8...    774.73  0.20   \n",
              "2  [80.63, 134.42, 80.63, 71.61, 98.78, 130.02, 8...    717.75  0.05   \n",
              "3  [80.63, 134.42, 80.63, 71.61, 98.78, 130.02, 8...    742.50  0.10   \n",
              "4  [80.63, 134.42, 80.63, 71.61, 98.78, 130.02, 8...    779.79  0.17   \n",
              "\n",
              "                                      padded_stances  \n",
              "0  [20.79, 27.72, 32.45, 37.07, 63.69, 110.33, 13...  \n",
              "1  [52.8, 69.19, 57.64, 51.7, 60.94, 92.84, 140.1...  \n",
              "2  [23.1, 32.45, 39.38, 46.31, 116.82, 155.43, 17...  \n",
              "3  [23.1, 41.69, 55.55, 119.13, 154.55, 200.42, 2...  \n",
              "4  [25.41, 37.07, 55.55, 106.37, 152.02, 182.05, ...  "
            ],
            "text/html": [
              "\n",
              "  <div id=\"df-db01d311-46df-49fd-bbc2-23ac813fa124\">\n",
              "    <div class=\"colab-df-container\">\n",
              "      <div>\n",
              "<style scoped>\n",
              "    .dataframe tbody tr th:only-of-type {\n",
              "        vertical-align: middle;\n",
              "    }\n",
              "\n",
              "    .dataframe tbody tr th {\n",
              "        vertical-align: top;\n",
              "    }\n",
              "\n",
              "    .dataframe thead th {\n",
              "        text-align: right;\n",
              "    }\n",
              "</style>\n",
              "<table border=\"1\" class=\"dataframe\">\n",
              "  <thead>\n",
              "    <tr style=\"text-align: right;\">\n",
              "      <th></th>\n",
              "      <th>ID</th>\n",
              "      <th>level</th>\n",
              "      <th>y</th>\n",
              "      <th>r_stances</th>\n",
              "      <th>r_strides_time</th>\n",
              "      <th>r_swings_time</th>\n",
              "      <th>r_stances_time</th>\n",
              "      <th>r_peaks_heel</th>\n",
              "      <th>r_peaks_toe</th>\n",
              "      <th>max_peak</th>\n",
              "      <th>FWHM</th>\n",
              "      <th>padded_stances</th>\n",
              "    </tr>\n",
              "  </thead>\n",
              "  <tbody>\n",
              "    <tr>\n",
              "      <th>0</th>\n",
              "      <td>GaPt03</td>\n",
              "      <td>3.0</td>\n",
              "      <td>1</td>\n",
              "      <td>[20.79, 27.72, 32.45, 37.07, 63.69, 110.33, 13...</td>\n",
              "      <td>[1.59, 1.27, 1.41, 1.49, 1.56, 1.41, 1.5, 1.32...</td>\n",
              "      <td>0.39</td>\n",
              "      <td>[1.19, 1.05, 0.99, 1.05, 1.1400000000000001, 0...</td>\n",
              "      <td>[107.8, 71.17, 111.1, 141.24, 101.2, 123.42, 1...</td>\n",
              "      <td>[80.63, 134.42, 80.63, 71.61, 98.78, 130.02, 8...</td>\n",
              "      <td>731.61</td>\n",
              "      <td>0.48</td>\n",
              "      <td>[20.79, 27.72, 32.45, 37.07, 63.69, 110.33, 13...</td>\n",
              "    </tr>\n",
              "    <tr>\n",
              "      <th>1</th>\n",
              "      <td>GaPt03</td>\n",
              "      <td>3.0</td>\n",
              "      <td>1</td>\n",
              "      <td>[52.8, 69.19, 57.64, 51.7, 60.94, 92.84, 140.1...</td>\n",
              "      <td>[1.59, 1.27, 1.41, 1.49, 1.56, 1.41, 1.5, 1.32...</td>\n",
              "      <td>0.21</td>\n",
              "      <td>[1.19, 1.05, 0.99, 1.05, 1.1400000000000001, 0...</td>\n",
              "      <td>[107.8, 71.17, 111.1, 141.24, 101.2, 123.42, 1...</td>\n",
              "      <td>[80.63, 134.42, 80.63, 71.61, 98.78, 130.02, 8...</td>\n",
              "      <td>774.73</td>\n",
              "      <td>0.20</td>\n",
              "      <td>[52.8, 69.19, 57.64, 51.7, 60.94, 92.84, 140.1...</td>\n",
              "    </tr>\n",
              "    <tr>\n",
              "      <th>2</th>\n",
              "      <td>GaPt03</td>\n",
              "      <td>3.0</td>\n",
              "      <td>1</td>\n",
              "      <td>[23.1, 32.45, 39.38, 46.31, 116.82, 155.43, 17...</td>\n",
              "      <td>[1.59, 1.27, 1.41, 1.49, 1.56, 1.41, 1.5, 1.32...</td>\n",
              "      <td>0.41</td>\n",
              "      <td>[1.19, 1.05, 0.99, 1.05, 1.1400000000000001, 0...</td>\n",
              "      <td>[107.8, 71.17, 111.1, 141.24, 101.2, 123.42, 1...</td>\n",
              "      <td>[80.63, 134.42, 80.63, 71.61, 98.78, 130.02, 8...</td>\n",
              "      <td>717.75</td>\n",
              "      <td>0.05</td>\n",
              "      <td>[23.1, 32.45, 39.38, 46.31, 116.82, 155.43, 17...</td>\n",
              "    </tr>\n",
              "    <tr>\n",
              "      <th>3</th>\n",
              "      <td>GaPt03</td>\n",
              "      <td>3.0</td>\n",
              "      <td>1</td>\n",
              "      <td>[23.1, 41.69, 55.55, 119.13, 154.55, 200.42, 2...</td>\n",
              "      <td>[1.59, 1.27, 1.41, 1.49, 1.56, 1.41, 1.5, 1.32...</td>\n",
              "      <td>0.43</td>\n",
              "      <td>[1.19, 1.05, 0.99, 1.05, 1.1400000000000001, 0...</td>\n",
              "      <td>[107.8, 71.17, 111.1, 141.24, 101.2, 123.42, 1...</td>\n",
              "      <td>[80.63, 134.42, 80.63, 71.61, 98.78, 130.02, 8...</td>\n",
              "      <td>742.50</td>\n",
              "      <td>0.10</td>\n",
              "      <td>[23.1, 41.69, 55.55, 119.13, 154.55, 200.42, 2...</td>\n",
              "    </tr>\n",
              "    <tr>\n",
              "      <th>4</th>\n",
              "      <td>GaPt03</td>\n",
              "      <td>3.0</td>\n",
              "      <td>1</td>\n",
              "      <td>[25.41, 37.07, 55.55, 106.37, 152.02, 182.05, ...</td>\n",
              "      <td>[1.59, 1.27, 1.41, 1.49, 1.56, 1.41, 1.5, 1.32...</td>\n",
              "      <td>0.41</td>\n",
              "      <td>[1.19, 1.05, 0.99, 1.05, 1.1400000000000001, 0...</td>\n",
              "      <td>[107.8, 71.17, 111.1, 141.24, 101.2, 123.42, 1...</td>\n",
              "      <td>[80.63, 134.42, 80.63, 71.61, 98.78, 130.02, 8...</td>\n",
              "      <td>779.79</td>\n",
              "      <td>0.17</td>\n",
              "      <td>[25.41, 37.07, 55.55, 106.37, 152.02, 182.05, ...</td>\n",
              "    </tr>\n",
              "  </tbody>\n",
              "</table>\n",
              "</div>\n",
              "      <button class=\"colab-df-convert\" onclick=\"convertToInteractive('df-db01d311-46df-49fd-bbc2-23ac813fa124')\"\n",
              "              title=\"Convert this dataframe to an interactive table.\"\n",
              "              style=\"display:none;\">\n",
              "        \n",
              "  <svg xmlns=\"http://www.w3.org/2000/svg\" height=\"24px\"viewBox=\"0 0 24 24\"\n",
              "       width=\"24px\">\n",
              "    <path d=\"M0 0h24v24H0V0z\" fill=\"none\"/>\n",
              "    <path d=\"M18.56 5.44l.94 2.06.94-2.06 2.06-.94-2.06-.94-.94-2.06-.94 2.06-2.06.94zm-11 1L8.5 8.5l.94-2.06 2.06-.94-2.06-.94L8.5 2.5l-.94 2.06-2.06.94zm10 10l.94 2.06.94-2.06 2.06-.94-2.06-.94-.94-2.06-.94 2.06-2.06.94z\"/><path d=\"M17.41 7.96l-1.37-1.37c-.4-.4-.92-.59-1.43-.59-.52 0-1.04.2-1.43.59L10.3 9.45l-7.72 7.72c-.78.78-.78 2.05 0 2.83L4 21.41c.39.39.9.59 1.41.59.51 0 1.02-.2 1.41-.59l7.78-7.78 2.81-2.81c.8-.78.8-2.07 0-2.86zM5.41 20L4 18.59l7.72-7.72 1.47 1.35L5.41 20z\"/>\n",
              "  </svg>\n",
              "      </button>\n",
              "      \n",
              "  <style>\n",
              "    .colab-df-container {\n",
              "      display:flex;\n",
              "      flex-wrap:wrap;\n",
              "      gap: 12px;\n",
              "    }\n",
              "\n",
              "    .colab-df-convert {\n",
              "      background-color: #E8F0FE;\n",
              "      border: none;\n",
              "      border-radius: 50%;\n",
              "      cursor: pointer;\n",
              "      display: none;\n",
              "      fill: #1967D2;\n",
              "      height: 32px;\n",
              "      padding: 0 0 0 0;\n",
              "      width: 32px;\n",
              "    }\n",
              "\n",
              "    .colab-df-convert:hover {\n",
              "      background-color: #E2EBFA;\n",
              "      box-shadow: 0px 1px 2px rgba(60, 64, 67, 0.3), 0px 1px 3px 1px rgba(60, 64, 67, 0.15);\n",
              "      fill: #174EA6;\n",
              "    }\n",
              "\n",
              "    [theme=dark] .colab-df-convert {\n",
              "      background-color: #3B4455;\n",
              "      fill: #D2E3FC;\n",
              "    }\n",
              "\n",
              "    [theme=dark] .colab-df-convert:hover {\n",
              "      background-color: #434B5C;\n",
              "      box-shadow: 0px 1px 3px 1px rgba(0, 0, 0, 0.15);\n",
              "      filter: drop-shadow(0px 1px 2px rgba(0, 0, 0, 0.3));\n",
              "      fill: #FFFFFF;\n",
              "    }\n",
              "  </style>\n",
              "\n",
              "      <script>\n",
              "        const buttonEl =\n",
              "          document.querySelector('#df-db01d311-46df-49fd-bbc2-23ac813fa124 button.colab-df-convert');\n",
              "        buttonEl.style.display =\n",
              "          google.colab.kernel.accessAllowed ? 'block' : 'none';\n",
              "\n",
              "        async function convertToInteractive(key) {\n",
              "          const element = document.querySelector('#df-db01d311-46df-49fd-bbc2-23ac813fa124');\n",
              "          const dataTable =\n",
              "            await google.colab.kernel.invokeFunction('convertToInteractive',\n",
              "                                                     [key], {});\n",
              "          if (!dataTable) return;\n",
              "\n",
              "          const docLinkHtml = 'Like what you see? Visit the ' +\n",
              "            '<a target=\"_blank\" href=https://colab.research.google.com/notebooks/data_table.ipynb>data table notebook</a>'\n",
              "            + ' to learn more about interactive tables.';\n",
              "          element.innerHTML = '';\n",
              "          dataTable['output_type'] = 'display_data';\n",
              "          await google.colab.output.renderOutput(dataTable, element);\n",
              "          const docLink = document.createElement('div');\n",
              "          docLink.innerHTML = docLinkHtml;\n",
              "          element.appendChild(docLink);\n",
              "        }\n",
              "      </script>\n",
              "    </div>\n",
              "  </div>\n",
              "  "
            ]
          },
          "metadata": {},
          "execution_count": 21
        }
      ],
      "source": [
        "data.right_stances_df.head()"
      ]
    },
    {
      "cell_type": "markdown",
      "metadata": {
        "id": "5njlOxC_gRAB"
      },
      "source": [
        "## train - test data"
      ]
    },
    {
      "cell_type": "code",
      "execution_count": 22,
      "metadata": {
        "id": "RttYJ46jgVHI"
      },
      "outputs": [],
      "source": [
        "df1 = data.right_stances_df[[ 'padded_stances','r_swings_time','max_peak','FWHM']]\n",
        "y = data.right_stances_df[[ 'y']]"
      ]
    },
    {
      "cell_type": "code",
      "execution_count": 23,
      "metadata": {
        "id": "fYtjnASYhnLg"
      },
      "outputs": [],
      "source": [
        "X_train, X_test, y_train, y_test = train_test_split(df1, y, random_state=42)"
      ]
    },
    {
      "cell_type": "code",
      "source": [],
      "metadata": {
        "id": "HQJ1mk534vhR"
      },
      "execution_count": 23,
      "outputs": []
    },
    {
      "cell_type": "markdown",
      "metadata": {
        "id": "S6HJ1kKDkigv"
      },
      "source": [
        "## Scaling"
      ]
    },
    {
      "cell_type": "code",
      "execution_count": 24,
      "metadata": {
        "id": "nFE6OIR5qRsk"
      },
      "outputs": [],
      "source": [
        "# create a scaler object\n",
        "scaler = StandardScaler()\n",
        "\n",
        "# fit and transform the data\n",
        "scaled_data = scaler.fit_transform(np.stack(X_train['padded_stances'].values))"
      ]
    },
    {
      "cell_type": "code",
      "execution_count": null,
      "metadata": {
        "id": "ex1YrGtNku1M"
      },
      "outputs": [],
      "source": [
        "# X_scaled = scaler.transform(X_train)"
      ]
    },
    {
      "cell_type": "code",
      "execution_count": 25,
      "metadata": {
        "id": "pVjBdD2IMBXA"
      },
      "outputs": [],
      "source": [
        "scaled_data=scaled_data.tolist()"
      ]
    },
    {
      "cell_type": "code",
      "execution_count": 26,
      "metadata": {
        "id": "Zb3coQsTK1Jw"
      },
      "outputs": [],
      "source": [
        "# X_train['scaled_stances']= pd.DataFrame(scaled_data, columns =[\"scaled_data\"]) # this way caused some values to become Nulll\n",
        "X_train.insert(0, \"scaled_stances\", scaled_data, True)"
      ]
    },
    {
      "cell_type": "code",
      "execution_count": null,
      "metadata": {
        "colab": {
          "base_uri": "https://localhost:8080/",
          "height": 870
        },
        "id": "GkRmPjj3K7kH",
        "outputId": "5950f9c2-24fc-49df-b93a-53e987160c7c"
      },
      "outputs": [
        {
          "output_type": "execute_result",
          "data": {
            "text/plain": [
              "                                          scaled_stances  \\\n",
              "337    [-0.09027499699554237, -0.6566456091893658, -0...   \n",
              "11848  [-0.13374517285585133, 0.28410271089387606, 0....   \n",
              "7791   [0.026760091859135693, 0.4419711728509268, 0.7...   \n",
              "2344   [-0.1772153487161603, 0.48166909018515575, 1.3...   \n",
              "4004   [-0.5951978089114389, -1.041623086593401, -1.3...   \n",
              "...                                                  ...   \n",
              "11284  [1.0332618560093667, 1.967109764389215, 1.6276...   \n",
              "11964  [-0.5584153524142543, -0.3436783074148622, -0....   \n",
              "5390   [-0.24743640202896694, -0.20704361519472508, 0...   \n",
              "860    [-0.5951978089114389, -1.0222357316162194, -1....   \n",
              "15795  [-0.5985416685930011, 0.7097013130120065, 1.19...   \n",
              "\n",
              "                                          padded_stances  r_swings_time  \\\n",
              "337    [41.69, 77.88, 162.14, 243.98, 317.78999999999...           0.37   \n",
              "11848  [40.26, 189.96999999999997, 284.57, 341.55, 36...           0.33   \n",
              "7791   [45.54, 208.78, 374.11, 549.78, 667.26, 710.93...           0.34   \n",
              "2344   [38.83, 213.51, 467.06, 482.13, 533.39, 602.14...           0.38   \n",
              "4004   [25.08, 32.01, 50.27, 92.95, 222.09, 318.78, 3...           0.38   \n",
              "...                                                  ...            ...   \n",
              "11284  [78.65, 390.5, 514.8000000000001, 643.72, 692....           0.38   \n",
              "11964  [26.29, 115.17, 235.18, 274.23, 297.6599999999...           0.30   \n",
              "5390   [36.52, 131.45, 281.05, 308.98999999999995, 32...           0.42   \n",
              "860    [25.08, 34.32, 82.83, 160.05, 260.37, 404.6900...           0.37   \n",
              "15795  [24.97, 240.68, 447.15, 479.04999999999995, 53...           0.33   \n",
              "\n",
              "       max_peak  FWHM  \n",
              "337      816.64  0.36  \n",
              "11848   1042.91  0.13  \n",
              "7791     846.67  0.11  \n",
              "2344    1127.39  0.37  \n",
              "4004     990.66  0.37  \n",
              "...         ...   ...  \n",
              "11284   1147.41  0.35  \n",
              "11964    892.87  0.07  \n",
              "5390     874.61  0.41  \n",
              "860      871.42  0.43  \n",
              "15795    863.61  0.38  \n",
              "\n",
              "[13790 rows x 5 columns]"
            ],
            "text/html": [
              "\n",
              "  <div id=\"df-9f35722f-8d4a-4d0d-ac6f-62f4a4aa06bb\">\n",
              "    <div class=\"colab-df-container\">\n",
              "      <div>\n",
              "<style scoped>\n",
              "    .dataframe tbody tr th:only-of-type {\n",
              "        vertical-align: middle;\n",
              "    }\n",
              "\n",
              "    .dataframe tbody tr th {\n",
              "        vertical-align: top;\n",
              "    }\n",
              "\n",
              "    .dataframe thead th {\n",
              "        text-align: right;\n",
              "    }\n",
              "</style>\n",
              "<table border=\"1\" class=\"dataframe\">\n",
              "  <thead>\n",
              "    <tr style=\"text-align: right;\">\n",
              "      <th></th>\n",
              "      <th>scaled_stances</th>\n",
              "      <th>padded_stances</th>\n",
              "      <th>r_swings_time</th>\n",
              "      <th>max_peak</th>\n",
              "      <th>FWHM</th>\n",
              "    </tr>\n",
              "  </thead>\n",
              "  <tbody>\n",
              "    <tr>\n",
              "      <th>337</th>\n",
              "      <td>[-0.09027499699554237, -0.6566456091893658, -0...</td>\n",
              "      <td>[41.69, 77.88, 162.14, 243.98, 317.78999999999...</td>\n",
              "      <td>0.37</td>\n",
              "      <td>816.64</td>\n",
              "      <td>0.36</td>\n",
              "    </tr>\n",
              "    <tr>\n",
              "      <th>11848</th>\n",
              "      <td>[-0.13374517285585133, 0.28410271089387606, 0....</td>\n",
              "      <td>[40.26, 189.96999999999997, 284.57, 341.55, 36...</td>\n",
              "      <td>0.33</td>\n",
              "      <td>1042.91</td>\n",
              "      <td>0.13</td>\n",
              "    </tr>\n",
              "    <tr>\n",
              "      <th>7791</th>\n",
              "      <td>[0.026760091859135693, 0.4419711728509268, 0.7...</td>\n",
              "      <td>[45.54, 208.78, 374.11, 549.78, 667.26, 710.93...</td>\n",
              "      <td>0.34</td>\n",
              "      <td>846.67</td>\n",
              "      <td>0.11</td>\n",
              "    </tr>\n",
              "    <tr>\n",
              "      <th>2344</th>\n",
              "      <td>[-0.1772153487161603, 0.48166909018515575, 1.3...</td>\n",
              "      <td>[38.83, 213.51, 467.06, 482.13, 533.39, 602.14...</td>\n",
              "      <td>0.38</td>\n",
              "      <td>1127.39</td>\n",
              "      <td>0.37</td>\n",
              "    </tr>\n",
              "    <tr>\n",
              "      <th>4004</th>\n",
              "      <td>[-0.5951978089114389, -1.041623086593401, -1.3...</td>\n",
              "      <td>[25.08, 32.01, 50.27, 92.95, 222.09, 318.78, 3...</td>\n",
              "      <td>0.38</td>\n",
              "      <td>990.66</td>\n",
              "      <td>0.37</td>\n",
              "    </tr>\n",
              "    <tr>\n",
              "      <th>...</th>\n",
              "      <td>...</td>\n",
              "      <td>...</td>\n",
              "      <td>...</td>\n",
              "      <td>...</td>\n",
              "      <td>...</td>\n",
              "    </tr>\n",
              "    <tr>\n",
              "      <th>11284</th>\n",
              "      <td>[1.0332618560093667, 1.967109764389215, 1.6276...</td>\n",
              "      <td>[78.65, 390.5, 514.8000000000001, 643.72, 692....</td>\n",
              "      <td>0.38</td>\n",
              "      <td>1147.41</td>\n",
              "      <td>0.35</td>\n",
              "    </tr>\n",
              "    <tr>\n",
              "      <th>11964</th>\n",
              "      <td>[-0.5584153524142543, -0.3436783074148622, -0....</td>\n",
              "      <td>[26.29, 115.17, 235.18, 274.23, 297.6599999999...</td>\n",
              "      <td>0.30</td>\n",
              "      <td>892.87</td>\n",
              "      <td>0.07</td>\n",
              "    </tr>\n",
              "    <tr>\n",
              "      <th>5390</th>\n",
              "      <td>[-0.24743640202896694, -0.20704361519472508, 0...</td>\n",
              "      <td>[36.52, 131.45, 281.05, 308.98999999999995, 32...</td>\n",
              "      <td>0.42</td>\n",
              "      <td>874.61</td>\n",
              "      <td>0.41</td>\n",
              "    </tr>\n",
              "    <tr>\n",
              "      <th>860</th>\n",
              "      <td>[-0.5951978089114389, -1.0222357316162194, -1....</td>\n",
              "      <td>[25.08, 34.32, 82.83, 160.05, 260.37, 404.6900...</td>\n",
              "      <td>0.37</td>\n",
              "      <td>871.42</td>\n",
              "      <td>0.43</td>\n",
              "    </tr>\n",
              "    <tr>\n",
              "      <th>15795</th>\n",
              "      <td>[-0.5985416685930011, 0.7097013130120065, 1.19...</td>\n",
              "      <td>[24.97, 240.68, 447.15, 479.04999999999995, 53...</td>\n",
              "      <td>0.33</td>\n",
              "      <td>863.61</td>\n",
              "      <td>0.38</td>\n",
              "    </tr>\n",
              "  </tbody>\n",
              "</table>\n",
              "<p>13790 rows × 5 columns</p>\n",
              "</div>\n",
              "      <button class=\"colab-df-convert\" onclick=\"convertToInteractive('df-9f35722f-8d4a-4d0d-ac6f-62f4a4aa06bb')\"\n",
              "              title=\"Convert this dataframe to an interactive table.\"\n",
              "              style=\"display:none;\">\n",
              "        \n",
              "  <svg xmlns=\"http://www.w3.org/2000/svg\" height=\"24px\"viewBox=\"0 0 24 24\"\n",
              "       width=\"24px\">\n",
              "    <path d=\"M0 0h24v24H0V0z\" fill=\"none\"/>\n",
              "    <path d=\"M18.56 5.44l.94 2.06.94-2.06 2.06-.94-2.06-.94-.94-2.06-.94 2.06-2.06.94zm-11 1L8.5 8.5l.94-2.06 2.06-.94-2.06-.94L8.5 2.5l-.94 2.06-2.06.94zm10 10l.94 2.06.94-2.06 2.06-.94-2.06-.94-.94-2.06-.94 2.06-2.06.94z\"/><path d=\"M17.41 7.96l-1.37-1.37c-.4-.4-.92-.59-1.43-.59-.52 0-1.04.2-1.43.59L10.3 9.45l-7.72 7.72c-.78.78-.78 2.05 0 2.83L4 21.41c.39.39.9.59 1.41.59.51 0 1.02-.2 1.41-.59l7.78-7.78 2.81-2.81c.8-.78.8-2.07 0-2.86zM5.41 20L4 18.59l7.72-7.72 1.47 1.35L5.41 20z\"/>\n",
              "  </svg>\n",
              "      </button>\n",
              "      \n",
              "  <style>\n",
              "    .colab-df-container {\n",
              "      display:flex;\n",
              "      flex-wrap:wrap;\n",
              "      gap: 12px;\n",
              "    }\n",
              "\n",
              "    .colab-df-convert {\n",
              "      background-color: #E8F0FE;\n",
              "      border: none;\n",
              "      border-radius: 50%;\n",
              "      cursor: pointer;\n",
              "      display: none;\n",
              "      fill: #1967D2;\n",
              "      height: 32px;\n",
              "      padding: 0 0 0 0;\n",
              "      width: 32px;\n",
              "    }\n",
              "\n",
              "    .colab-df-convert:hover {\n",
              "      background-color: #E2EBFA;\n",
              "      box-shadow: 0px 1px 2px rgba(60, 64, 67, 0.3), 0px 1px 3px 1px rgba(60, 64, 67, 0.15);\n",
              "      fill: #174EA6;\n",
              "    }\n",
              "\n",
              "    [theme=dark] .colab-df-convert {\n",
              "      background-color: #3B4455;\n",
              "      fill: #D2E3FC;\n",
              "    }\n",
              "\n",
              "    [theme=dark] .colab-df-convert:hover {\n",
              "      background-color: #434B5C;\n",
              "      box-shadow: 0px 1px 3px 1px rgba(0, 0, 0, 0.15);\n",
              "      filter: drop-shadow(0px 1px 2px rgba(0, 0, 0, 0.3));\n",
              "      fill: #FFFFFF;\n",
              "    }\n",
              "  </style>\n",
              "\n",
              "      <script>\n",
              "        const buttonEl =\n",
              "          document.querySelector('#df-9f35722f-8d4a-4d0d-ac6f-62f4a4aa06bb button.colab-df-convert');\n",
              "        buttonEl.style.display =\n",
              "          google.colab.kernel.accessAllowed ? 'block' : 'none';\n",
              "\n",
              "        async function convertToInteractive(key) {\n",
              "          const element = document.querySelector('#df-9f35722f-8d4a-4d0d-ac6f-62f4a4aa06bb');\n",
              "          const dataTable =\n",
              "            await google.colab.kernel.invokeFunction('convertToInteractive',\n",
              "                                                     [key], {});\n",
              "          if (!dataTable) return;\n",
              "\n",
              "          const docLinkHtml = 'Like what you see? Visit the ' +\n",
              "            '<a target=\"_blank\" href=https://colab.research.google.com/notebooks/data_table.ipynb>data table notebook</a>'\n",
              "            + ' to learn more about interactive tables.';\n",
              "          element.innerHTML = '';\n",
              "          dataTable['output_type'] = 'display_data';\n",
              "          await google.colab.output.renderOutput(dataTable, element);\n",
              "          const docLink = document.createElement('div');\n",
              "          docLink.innerHTML = docLinkHtml;\n",
              "          element.appendChild(docLink);\n",
              "        }\n",
              "      </script>\n",
              "    </div>\n",
              "  </div>\n",
              "  "
            ]
          },
          "metadata": {},
          "execution_count": 506
        }
      ],
      "source": [
        "X_train"
      ]
    },
    {
      "cell_type": "code",
      "execution_count": null,
      "metadata": {
        "colab": {
          "base_uri": "https://localhost:8080/"
        },
        "id": "B_kWzzUSYpp4",
        "outputId": "bdc86ba5-f52e-476c-a85a-e04a988354ee"
      },
      "outputs": [
        {
          "output_type": "execute_result",
          "data": {
            "text/plain": [
              "list"
            ]
          },
          "metadata": {},
          "execution_count": 507
        }
      ],
      "source": [
        "type(X_train['scaled_stances'].iloc[0])"
      ]
    },
    {
      "cell_type": "markdown",
      "metadata": {
        "id": "evtbYEBeOb7q"
      },
      "source": [
        "## The data\n",
        "yalla\n",
        "We're gonna use the features (r_swings_time \tmax_peak \tFWHM \tscaled_stances)"
      ]
    },
    {
      "cell_type": "code",
      "execution_count": null,
      "metadata": {
        "colab": {
          "base_uri": "https://localhost:8080/",
          "height": 206
        },
        "id": "lCllgMsTOjvQ",
        "outputId": "3408fdf9-452f-431b-b2fe-a06ce3a10e1a"
      },
      "outputs": [
        {
          "output_type": "execute_result",
          "data": {
            "text/plain": [
              "                                          scaled_stances  \\\n",
              "337    [-0.09027499699554237, -0.6566456091893658, -0...   \n",
              "11848  [-0.13374517285585133, 0.28410271089387606, 0....   \n",
              "7791   [0.026760091859135693, 0.4419711728509268, 0.7...   \n",
              "2344   [-0.1772153487161603, 0.48166909018515575, 1.3...   \n",
              "4004   [-0.5951978089114389, -1.041623086593401, -1.3...   \n",
              "\n",
              "                                          padded_stances  r_swings_time  \\\n",
              "337    [41.69, 77.88, 162.14, 243.98, 317.78999999999...           0.37   \n",
              "11848  [40.26, 189.96999999999997, 284.57, 341.55, 36...           0.33   \n",
              "7791   [45.54, 208.78, 374.11, 549.78, 667.26, 710.93...           0.34   \n",
              "2344   [38.83, 213.51, 467.06, 482.13, 533.39, 602.14...           0.38   \n",
              "4004   [25.08, 32.01, 50.27, 92.95, 222.09, 318.78, 3...           0.38   \n",
              "\n",
              "       max_peak  FWHM  \n",
              "337      816.64  0.36  \n",
              "11848   1042.91  0.13  \n",
              "7791     846.67  0.11  \n",
              "2344    1127.39  0.37  \n",
              "4004     990.66  0.37  "
            ],
            "text/html": [
              "\n",
              "  <div id=\"df-31801879-5152-45b1-a785-3de930ea0f90\">\n",
              "    <div class=\"colab-df-container\">\n",
              "      <div>\n",
              "<style scoped>\n",
              "    .dataframe tbody tr th:only-of-type {\n",
              "        vertical-align: middle;\n",
              "    }\n",
              "\n",
              "    .dataframe tbody tr th {\n",
              "        vertical-align: top;\n",
              "    }\n",
              "\n",
              "    .dataframe thead th {\n",
              "        text-align: right;\n",
              "    }\n",
              "</style>\n",
              "<table border=\"1\" class=\"dataframe\">\n",
              "  <thead>\n",
              "    <tr style=\"text-align: right;\">\n",
              "      <th></th>\n",
              "      <th>scaled_stances</th>\n",
              "      <th>padded_stances</th>\n",
              "      <th>r_swings_time</th>\n",
              "      <th>max_peak</th>\n",
              "      <th>FWHM</th>\n",
              "    </tr>\n",
              "  </thead>\n",
              "  <tbody>\n",
              "    <tr>\n",
              "      <th>337</th>\n",
              "      <td>[-0.09027499699554237, -0.6566456091893658, -0...</td>\n",
              "      <td>[41.69, 77.88, 162.14, 243.98, 317.78999999999...</td>\n",
              "      <td>0.37</td>\n",
              "      <td>816.64</td>\n",
              "      <td>0.36</td>\n",
              "    </tr>\n",
              "    <tr>\n",
              "      <th>11848</th>\n",
              "      <td>[-0.13374517285585133, 0.28410271089387606, 0....</td>\n",
              "      <td>[40.26, 189.96999999999997, 284.57, 341.55, 36...</td>\n",
              "      <td>0.33</td>\n",
              "      <td>1042.91</td>\n",
              "      <td>0.13</td>\n",
              "    </tr>\n",
              "    <tr>\n",
              "      <th>7791</th>\n",
              "      <td>[0.026760091859135693, 0.4419711728509268, 0.7...</td>\n",
              "      <td>[45.54, 208.78, 374.11, 549.78, 667.26, 710.93...</td>\n",
              "      <td>0.34</td>\n",
              "      <td>846.67</td>\n",
              "      <td>0.11</td>\n",
              "    </tr>\n",
              "    <tr>\n",
              "      <th>2344</th>\n",
              "      <td>[-0.1772153487161603, 0.48166909018515575, 1.3...</td>\n",
              "      <td>[38.83, 213.51, 467.06, 482.13, 533.39, 602.14...</td>\n",
              "      <td>0.38</td>\n",
              "      <td>1127.39</td>\n",
              "      <td>0.37</td>\n",
              "    </tr>\n",
              "    <tr>\n",
              "      <th>4004</th>\n",
              "      <td>[-0.5951978089114389, -1.041623086593401, -1.3...</td>\n",
              "      <td>[25.08, 32.01, 50.27, 92.95, 222.09, 318.78, 3...</td>\n",
              "      <td>0.38</td>\n",
              "      <td>990.66</td>\n",
              "      <td>0.37</td>\n",
              "    </tr>\n",
              "  </tbody>\n",
              "</table>\n",
              "</div>\n",
              "      <button class=\"colab-df-convert\" onclick=\"convertToInteractive('df-31801879-5152-45b1-a785-3de930ea0f90')\"\n",
              "              title=\"Convert this dataframe to an interactive table.\"\n",
              "              style=\"display:none;\">\n",
              "        \n",
              "  <svg xmlns=\"http://www.w3.org/2000/svg\" height=\"24px\"viewBox=\"0 0 24 24\"\n",
              "       width=\"24px\">\n",
              "    <path d=\"M0 0h24v24H0V0z\" fill=\"none\"/>\n",
              "    <path d=\"M18.56 5.44l.94 2.06.94-2.06 2.06-.94-2.06-.94-.94-2.06-.94 2.06-2.06.94zm-11 1L8.5 8.5l.94-2.06 2.06-.94-2.06-.94L8.5 2.5l-.94 2.06-2.06.94zm10 10l.94 2.06.94-2.06 2.06-.94-2.06-.94-.94-2.06-.94 2.06-2.06.94z\"/><path d=\"M17.41 7.96l-1.37-1.37c-.4-.4-.92-.59-1.43-.59-.52 0-1.04.2-1.43.59L10.3 9.45l-7.72 7.72c-.78.78-.78 2.05 0 2.83L4 21.41c.39.39.9.59 1.41.59.51 0 1.02-.2 1.41-.59l7.78-7.78 2.81-2.81c.8-.78.8-2.07 0-2.86zM5.41 20L4 18.59l7.72-7.72 1.47 1.35L5.41 20z\"/>\n",
              "  </svg>\n",
              "      </button>\n",
              "      \n",
              "  <style>\n",
              "    .colab-df-container {\n",
              "      display:flex;\n",
              "      flex-wrap:wrap;\n",
              "      gap: 12px;\n",
              "    }\n",
              "\n",
              "    .colab-df-convert {\n",
              "      background-color: #E8F0FE;\n",
              "      border: none;\n",
              "      border-radius: 50%;\n",
              "      cursor: pointer;\n",
              "      display: none;\n",
              "      fill: #1967D2;\n",
              "      height: 32px;\n",
              "      padding: 0 0 0 0;\n",
              "      width: 32px;\n",
              "    }\n",
              "\n",
              "    .colab-df-convert:hover {\n",
              "      background-color: #E2EBFA;\n",
              "      box-shadow: 0px 1px 2px rgba(60, 64, 67, 0.3), 0px 1px 3px 1px rgba(60, 64, 67, 0.15);\n",
              "      fill: #174EA6;\n",
              "    }\n",
              "\n",
              "    [theme=dark] .colab-df-convert {\n",
              "      background-color: #3B4455;\n",
              "      fill: #D2E3FC;\n",
              "    }\n",
              "\n",
              "    [theme=dark] .colab-df-convert:hover {\n",
              "      background-color: #434B5C;\n",
              "      box-shadow: 0px 1px 3px 1px rgba(0, 0, 0, 0.15);\n",
              "      filter: drop-shadow(0px 1px 2px rgba(0, 0, 0, 0.3));\n",
              "      fill: #FFFFFF;\n",
              "    }\n",
              "  </style>\n",
              "\n",
              "      <script>\n",
              "        const buttonEl =\n",
              "          document.querySelector('#df-31801879-5152-45b1-a785-3de930ea0f90 button.colab-df-convert');\n",
              "        buttonEl.style.display =\n",
              "          google.colab.kernel.accessAllowed ? 'block' : 'none';\n",
              "\n",
              "        async function convertToInteractive(key) {\n",
              "          const element = document.querySelector('#df-31801879-5152-45b1-a785-3de930ea0f90');\n",
              "          const dataTable =\n",
              "            await google.colab.kernel.invokeFunction('convertToInteractive',\n",
              "                                                     [key], {});\n",
              "          if (!dataTable) return;\n",
              "\n",
              "          const docLinkHtml = 'Like what you see? Visit the ' +\n",
              "            '<a target=\"_blank\" href=https://colab.research.google.com/notebooks/data_table.ipynb>data table notebook</a>'\n",
              "            + ' to learn more about interactive tables.';\n",
              "          element.innerHTML = '';\n",
              "          dataTable['output_type'] = 'display_data';\n",
              "          await google.colab.output.renderOutput(dataTable, element);\n",
              "          const docLink = document.createElement('div');\n",
              "          docLink.innerHTML = docLinkHtml;\n",
              "          element.appendChild(docLink);\n",
              "        }\n",
              "      </script>\n",
              "    </div>\n",
              "  </div>\n",
              "  "
            ]
          },
          "metadata": {},
          "execution_count": 509
        }
      ],
      "source": [
        "X_train.head()"
      ]
    },
    {
      "cell_type": "code",
      "source": [
        "c =X_train[[\"scaled_stances\",\"r_swings_time\",\"FWHM\",\"max_peak\"]]"
      ],
      "metadata": {
        "id": "YzzZK_6Hvrx_"
      },
      "execution_count": null,
      "outputs": []
    },
    {
      "cell_type": "code",
      "source": [
        "c.head()"
      ],
      "metadata": {
        "colab": {
          "base_uri": "https://localhost:8080/",
          "height": 206
        },
        "id": "j5j1zN2svrs8",
        "outputId": "580fa7f4-dca8-43ed-ecbb-73243f61d4bd"
      },
      "execution_count": null,
      "outputs": [
        {
          "output_type": "execute_result",
          "data": {
            "text/plain": [
              "                                          scaled_stances  r_swings_time  FWHM  \\\n",
              "337    [-0.09027499699554237, -0.6566456091893658, -0...           0.37  0.36   \n",
              "11848  [-0.13374517285585133, 0.28410271089387606, 0....           0.33  0.13   \n",
              "7791   [0.026760091859135693, 0.4419711728509268, 0.7...           0.34  0.11   \n",
              "2344   [-0.1772153487161603, 0.48166909018515575, 1.3...           0.38  0.37   \n",
              "4004   [-0.5951978089114389, -1.041623086593401, -1.3...           0.38  0.37   \n",
              "\n",
              "       max_peak  \n",
              "337      816.64  \n",
              "11848   1042.91  \n",
              "7791     846.67  \n",
              "2344    1127.39  \n",
              "4004     990.66  "
            ],
            "text/html": [
              "\n",
              "  <div id=\"df-2a58ffe2-37c8-40fa-b4eb-c888895e322a\">\n",
              "    <div class=\"colab-df-container\">\n",
              "      <div>\n",
              "<style scoped>\n",
              "    .dataframe tbody tr th:only-of-type {\n",
              "        vertical-align: middle;\n",
              "    }\n",
              "\n",
              "    .dataframe tbody tr th {\n",
              "        vertical-align: top;\n",
              "    }\n",
              "\n",
              "    .dataframe thead th {\n",
              "        text-align: right;\n",
              "    }\n",
              "</style>\n",
              "<table border=\"1\" class=\"dataframe\">\n",
              "  <thead>\n",
              "    <tr style=\"text-align: right;\">\n",
              "      <th></th>\n",
              "      <th>scaled_stances</th>\n",
              "      <th>r_swings_time</th>\n",
              "      <th>FWHM</th>\n",
              "      <th>max_peak</th>\n",
              "    </tr>\n",
              "  </thead>\n",
              "  <tbody>\n",
              "    <tr>\n",
              "      <th>337</th>\n",
              "      <td>[-0.09027499699554237, -0.6566456091893658, -0...</td>\n",
              "      <td>0.37</td>\n",
              "      <td>0.36</td>\n",
              "      <td>816.64</td>\n",
              "    </tr>\n",
              "    <tr>\n",
              "      <th>11848</th>\n",
              "      <td>[-0.13374517285585133, 0.28410271089387606, 0....</td>\n",
              "      <td>0.33</td>\n",
              "      <td>0.13</td>\n",
              "      <td>1042.91</td>\n",
              "    </tr>\n",
              "    <tr>\n",
              "      <th>7791</th>\n",
              "      <td>[0.026760091859135693, 0.4419711728509268, 0.7...</td>\n",
              "      <td>0.34</td>\n",
              "      <td>0.11</td>\n",
              "      <td>846.67</td>\n",
              "    </tr>\n",
              "    <tr>\n",
              "      <th>2344</th>\n",
              "      <td>[-0.1772153487161603, 0.48166909018515575, 1.3...</td>\n",
              "      <td>0.38</td>\n",
              "      <td>0.37</td>\n",
              "      <td>1127.39</td>\n",
              "    </tr>\n",
              "    <tr>\n",
              "      <th>4004</th>\n",
              "      <td>[-0.5951978089114389, -1.041623086593401, -1.3...</td>\n",
              "      <td>0.38</td>\n",
              "      <td>0.37</td>\n",
              "      <td>990.66</td>\n",
              "    </tr>\n",
              "  </tbody>\n",
              "</table>\n",
              "</div>\n",
              "      <button class=\"colab-df-convert\" onclick=\"convertToInteractive('df-2a58ffe2-37c8-40fa-b4eb-c888895e322a')\"\n",
              "              title=\"Convert this dataframe to an interactive table.\"\n",
              "              style=\"display:none;\">\n",
              "        \n",
              "  <svg xmlns=\"http://www.w3.org/2000/svg\" height=\"24px\"viewBox=\"0 0 24 24\"\n",
              "       width=\"24px\">\n",
              "    <path d=\"M0 0h24v24H0V0z\" fill=\"none\"/>\n",
              "    <path d=\"M18.56 5.44l.94 2.06.94-2.06 2.06-.94-2.06-.94-.94-2.06-.94 2.06-2.06.94zm-11 1L8.5 8.5l.94-2.06 2.06-.94-2.06-.94L8.5 2.5l-.94 2.06-2.06.94zm10 10l.94 2.06.94-2.06 2.06-.94-2.06-.94-.94-2.06-.94 2.06-2.06.94z\"/><path d=\"M17.41 7.96l-1.37-1.37c-.4-.4-.92-.59-1.43-.59-.52 0-1.04.2-1.43.59L10.3 9.45l-7.72 7.72c-.78.78-.78 2.05 0 2.83L4 21.41c.39.39.9.59 1.41.59.51 0 1.02-.2 1.41-.59l7.78-7.78 2.81-2.81c.8-.78.8-2.07 0-2.86zM5.41 20L4 18.59l7.72-7.72 1.47 1.35L5.41 20z\"/>\n",
              "  </svg>\n",
              "      </button>\n",
              "      \n",
              "  <style>\n",
              "    .colab-df-container {\n",
              "      display:flex;\n",
              "      flex-wrap:wrap;\n",
              "      gap: 12px;\n",
              "    }\n",
              "\n",
              "    .colab-df-convert {\n",
              "      background-color: #E8F0FE;\n",
              "      border: none;\n",
              "      border-radius: 50%;\n",
              "      cursor: pointer;\n",
              "      display: none;\n",
              "      fill: #1967D2;\n",
              "      height: 32px;\n",
              "      padding: 0 0 0 0;\n",
              "      width: 32px;\n",
              "    }\n",
              "\n",
              "    .colab-df-convert:hover {\n",
              "      background-color: #E2EBFA;\n",
              "      box-shadow: 0px 1px 2px rgba(60, 64, 67, 0.3), 0px 1px 3px 1px rgba(60, 64, 67, 0.15);\n",
              "      fill: #174EA6;\n",
              "    }\n",
              "\n",
              "    [theme=dark] .colab-df-convert {\n",
              "      background-color: #3B4455;\n",
              "      fill: #D2E3FC;\n",
              "    }\n",
              "\n",
              "    [theme=dark] .colab-df-convert:hover {\n",
              "      background-color: #434B5C;\n",
              "      box-shadow: 0px 1px 3px 1px rgba(0, 0, 0, 0.15);\n",
              "      filter: drop-shadow(0px 1px 2px rgba(0, 0, 0, 0.3));\n",
              "      fill: #FFFFFF;\n",
              "    }\n",
              "  </style>\n",
              "\n",
              "      <script>\n",
              "        const buttonEl =\n",
              "          document.querySelector('#df-2a58ffe2-37c8-40fa-b4eb-c888895e322a button.colab-df-convert');\n",
              "        buttonEl.style.display =\n",
              "          google.colab.kernel.accessAllowed ? 'block' : 'none';\n",
              "\n",
              "        async function convertToInteractive(key) {\n",
              "          const element = document.querySelector('#df-2a58ffe2-37c8-40fa-b4eb-c888895e322a');\n",
              "          const dataTable =\n",
              "            await google.colab.kernel.invokeFunction('convertToInteractive',\n",
              "                                                     [key], {});\n",
              "          if (!dataTable) return;\n",
              "\n",
              "          const docLinkHtml = 'Like what you see? Visit the ' +\n",
              "            '<a target=\"_blank\" href=https://colab.research.google.com/notebooks/data_table.ipynb>data table notebook</a>'\n",
              "            + ' to learn more about interactive tables.';\n",
              "          element.innerHTML = '';\n",
              "          dataTable['output_type'] = 'display_data';\n",
              "          await google.colab.output.renderOutput(dataTable, element);\n",
              "          const docLink = document.createElement('div');\n",
              "          docLink.innerHTML = docLinkHtml;\n",
              "          element.appendChild(docLink);\n",
              "        }\n",
              "      </script>\n",
              "    </div>\n",
              "  </div>\n",
              "  "
            ]
          },
          "metadata": {},
          "execution_count": 512
        }
      ]
    },
    {
      "cell_type": "markdown",
      "metadata": {
        "id": "glZHhvGjyTjw"
      },
      "source": [
        "### Reformat the data to be fitted to a tensor then CNN"
      ]
    },
    {
      "cell_type": "markdown",
      "source": [
        "#### The first format \n",
        "is as follows a numpy array of (13790, 1) shape, the length of each row is 750, the first 747 elements are the scaled stances, then three float numbers : swing time, max Peak, FWHM value"
      ],
      "metadata": {
        "id": "yiOwaZzBNxwy"
      }
    },
    {
      "cell_type": "code",
      "execution_count": null,
      "metadata": {
        "id": "0EjC4Bi8ZzrO"
      },
      "outputs": [],
      "source": [
        "# data= [ np.asarray(x['scaled_stances'].tolist()) , np.asarray(x[[\"r_swings_time\" ]]),  np.asarray(x[[\"max_peak\"]]) \t, np.asarray(x[[\"FWHM\" ]]) ]"
      ]
    },
    {
      "cell_type": "code",
      "execution_count": null,
      "metadata": {
        "id": "-PMBIOtpuU9E"
      },
      "outputs": [],
      "source": [
        "# u = np.asarray(x['scaled_stances'].tolist()).reshape(13790, 1,747)"
      ]
    },
    {
      "cell_type": "code",
      "execution_count": 27,
      "metadata": {
        "id": "HTQ-Bi81kfY-"
      },
      "outputs": [],
      "source": [
        "data = np.append( np.asarray(X_train['scaled_stances'].tolist()) , np.asarray(X_train[[\"r_swings_time\" ]]),  axis=1)"
      ]
    },
    {
      "cell_type": "code",
      "execution_count": 28,
      "metadata": {
        "id": "EzGs3vhUunv6"
      },
      "outputs": [],
      "source": [
        "data = np.append( data , np.asarray(X_train[[\"max_peak\" ]]),  axis=1)\n",
        "data = np.append( data , np.asarray(X_train[[\"FWHM\" ]]),  axis=1)"
      ]
    },
    {
      "cell_type": "code",
      "execution_count": null,
      "metadata": {
        "id": "-vrON8Cwuq_6",
        "colab": {
          "base_uri": "https://localhost:8080/"
        },
        "outputId": "d5187d7f-fc71-477a-c0e1-a43409a71d7d"
      },
      "outputs": [
        {
          "output_type": "execute_result",
          "data": {
            "text/plain": [
              "array([-9.02749970e-02, -6.56645609e-01, -6.52911900e-01, -6.51835049e-01,\n",
              "       -6.80455819e-01, -7.09849904e-01, -7.31343737e-01, -7.58305251e-01,\n",
              "       -6.99138121e-01, -6.70089052e-01, -6.56100096e-01, -5.58430922e-01,\n",
              "       -4.24262579e-01, -3.97973652e-01, -3.72499450e-01, -3.59456529e-01,\n",
              "       -3.66312024e-01, -3.30327851e-01, -3.11711450e-01, -2.69219187e-01,\n",
              "       -2.85570010e-01, -2.57676917e-01, -3.12587831e-01, -3.44655496e-01,\n",
              "       -3.69652015e-01, -3.99892110e-01, -4.11848471e-01, -4.18129816e-01,\n",
              "       -4.50862014e-01, -4.85263057e-01, -4.76090410e-01, -5.06129677e-01,\n",
              "       -3.70910396e-01, -4.60304469e-01, -5.03264489e-01, -5.76371671e-01,\n",
              "       -6.19112793e-01, -6.77439031e-01, -7.11423413e-01, -9.42336071e-01,\n",
              "       -9.61340118e-01, -9.44113006e-01, -9.58073881e-01, -1.07219121e+00,\n",
              "       -9.57724554e-01, -8.51393802e-01, -8.46041730e-01, -6.87435980e-01,\n",
              "       -5.20480129e-01, -3.69789355e-01, -2.68160742e-01, -1.52371438e-01,\n",
              "       -5.81269098e-02,  3.67997402e-02,  9.57552877e-02,  9.00221676e-02,\n",
              "        1.40563799e-01,  1.08116673e-01,  6.86620503e-02,  9.77363422e-03,\n",
              "       -1.08050216e-01, -1.99922762e-01, -2.72937183e-01, -4.31177065e-01,\n",
              "       -5.94197328e-01, -7.64617119e-01, -7.47947647e-01, -6.88826000e-01,\n",
              "       -7.47918804e-01, -6.93078733e-01, -6.43377309e-01, -5.98604875e-01,\n",
              "       -5.57012643e-01, -5.19651877e-01, -4.84691003e-01, -4.52818368e-01,\n",
              "       -4.23131119e-01, -3.95214701e-01, -3.69715981e-01, -3.46785565e-01,\n",
              "       -3.25812613e-01, -3.06454011e-01, -2.88969470e-01, -2.73816845e-01,\n",
              "       -2.60441890e-01, -2.48431464e-01, -2.38338115e-01, -2.29766559e-01,\n",
              "       -2.22518743e-01, -2.15814158e-01, -2.09852312e-01, -2.04193437e-01,\n",
              "       -1.99037247e-01, -1.94188199e-01, -1.89319305e-01, -1.84499476e-01,\n",
              "       -1.79936041e-01, -1.75527574e-01, -1.71245568e-01, -1.66733509e-01,\n",
              "       -1.62420807e-01, -1.58262819e-01, -1.54230736e-01, -1.50058250e-01,\n",
              "       -1.45725825e-01, -1.41564821e-01, -1.37917045e-01, -1.34103903e-01,\n",
              "       -1.30685995e-01, -1.27174528e-01, -1.24107576e-01, -1.21095322e-01,\n",
              "       -1.17827742e-01, -1.14629507e-01, -1.11734497e-01, -1.08894584e-01,\n",
              "       -1.06331810e-01, -1.03834945e-01, -1.01596655e-01, -9.93525004e-02,\n",
              "       -9.72494819e-02, -9.53255226e-02, -9.33707967e-02, -9.16712130e-02,\n",
              "       -9.01794531e-02, -8.87511400e-02, -8.73586177e-02, -8.60645003e-02,\n",
              "       -8.47022613e-02, -8.33736690e-02, -8.21015075e-02, -8.10235298e-02,\n",
              "       -7.98514517e-02, -7.86526198e-02, -7.74580922e-02, -7.65495747e-02,\n",
              "       -7.56052285e-02, -7.48012340e-02, -7.41140204e-02, -7.34531423e-02,\n",
              "       -7.27512929e-02, -7.19984498e-02, -7.11737050e-02, -7.03475580e-02,\n",
              "       -6.93107177e-02, -6.82139677e-02, -6.72055729e-02, -6.62081377e-02,\n",
              "       -6.53809879e-02, -6.45041170e-02, -6.36134870e-02, -6.27696494e-02,\n",
              "       -6.18433268e-02, -6.11805562e-02, -6.02123755e-02, -5.94286448e-02,\n",
              "       -5.87787205e-02, -5.80191249e-02, -5.73185303e-02, -5.66710295e-02,\n",
              "       -5.59751754e-02, -5.54032111e-02, -5.48198424e-02, -5.42698372e-02,\n",
              "       -5.37436650e-02, -5.33397027e-02, -5.27959251e-02, -5.23855522e-02,\n",
              "       -5.21531930e-02, -5.21123569e-02, -5.18977454e-02, -5.16077887e-02,\n",
              "       -5.14893012e-02, -5.14556402e-02, -5.13523793e-02, -5.13587703e-02,\n",
              "       -5.12259079e-02, -5.10991003e-02, -5.10064364e-02, -5.08203070e-02,\n",
              "       -5.06172661e-02, -5.02547297e-02, -4.99613701e-02, -4.97049974e-02,\n",
              "       -4.94635649e-02, -4.92310736e-02, -4.91087213e-02, -4.89973591e-02,\n",
              "       -4.88490177e-02, -4.86533635e-02, -4.85010219e-02, -4.83558878e-02,\n",
              "       -4.81024402e-02, -4.78073919e-02, -4.73881161e-02, -4.69681520e-02,\n",
              "       -4.64892131e-02, -4.60463376e-02, -4.55762627e-02, -4.50285718e-02,\n",
              "       -4.45909859e-02, -4.42181913e-02, -4.39935332e-02, -4.36868725e-02,\n",
              "       -4.34789130e-02, -4.32714862e-02, -4.30880429e-02, -4.28446407e-02,\n",
              "       -4.26669163e-02, -4.25077732e-02, -4.22664161e-02, -4.19685169e-02,\n",
              "       -4.14837755e-02, -4.10530035e-02, -4.04298833e-02, -3.97387093e-02,\n",
              "       -3.91322518e-02, -3.83798946e-02, -3.77253008e-02, -3.71896396e-02,\n",
              "       -3.64761743e-02, -3.57140675e-02, -3.50214524e-02, -3.43893913e-02,\n",
              "       -3.38307188e-02, -3.31944745e-02, -3.28047743e-02, -3.24989991e-02,\n",
              "       -3.20665011e-02, -3.17827049e-02, -3.14903545e-02, -3.11396662e-02,\n",
              "       -3.06367306e-02, -3.01884977e-02, -2.96024949e-02, -2.92876040e-02,\n",
              "       -2.89393647e-02, -2.84840367e-02, -2.79908069e-02, -2.75952688e-02,\n",
              "       -2.72630278e-02, -2.69532738e-02, -2.67798168e-02, -2.64801558e-02,\n",
              "       -2.60419381e-02, -2.59667960e-02, -2.58728836e-02, -2.56488100e-02,\n",
              "       -2.52885104e-02, -2.47777956e-02, -2.42989427e-02, -2.40059459e-02,\n",
              "       -2.35553704e-02, -2.30934509e-02, -2.26128078e-02, -2.21115456e-02,\n",
              "       -2.15988507e-02, -2.14494326e-02, -2.11912236e-02, -2.09161572e-02,\n",
              "       -2.04692781e-02, -2.02003305e-02, -1.98741301e-02, -1.95436567e-02,\n",
              "       -1.90213509e-02, -1.87318234e-02, -1.83058787e-02, -1.76587771e-02,\n",
              "       -1.74170098e-02, -1.74350758e-02, -1.74540046e-02, -1.74601920e-02,\n",
              "       -1.74799717e-02, -1.74572737e-02, -1.74528594e-02, -1.74847403e-02,\n",
              "       -1.74448001e-02, -1.74222643e-02, -1.74612498e-02, -1.73765113e-02,\n",
              "       -1.75520244e-02, -1.75611378e-02, -1.76561926e-02, -1.76255586e-02,\n",
              "       -1.77213682e-02, -1.77279973e-02, -1.76600921e-02, -1.73531745e-02,\n",
              "       -1.71156103e-02, -1.68297721e-02, -1.64594988e-02, -1.58711588e-02,\n",
              "       -1.51384850e-02, -1.48347697e-02, -1.46002788e-02, -1.45989964e-02,\n",
              "       -1.46022934e-02, -1.45969819e-02, -1.45971796e-02, -1.45995244e-02,\n",
              "       -1.45978225e-02, -1.45969460e-02, -1.45893391e-02, -1.45875522e-02,\n",
              "       -1.45822159e-02, -1.45853434e-02, -1.45651574e-02, -1.45586747e-02,\n",
              "       -1.44924418e-02, -1.44777466e-02, -1.44384350e-02, -1.44131343e-02,\n",
              "       -1.43721300e-02, -1.41999661e-02, -1.41513839e-02, -1.40145837e-02,\n",
              "       -1.40359251e-02, -1.40271065e-02, -1.40515620e-02, -1.40522038e-02,\n",
              "       -1.40724619e-02, -1.41021517e-02, -1.41430838e-02, -1.41540404e-02,\n",
              "       -1.41569607e-02, -1.41681731e-02, -1.42635616e-02, -1.42870762e-02,\n",
              "       -1.42914830e-02, -1.43167281e-02, -1.43167281e-02, -1.42983401e-02,\n",
              "       -1.43224067e-02, -1.44037545e-02, -1.44090746e-02, -1.44253821e-02,\n",
              "       -1.44210342e-02, -1.44289281e-02, -1.44319123e-02, -1.44472104e-02,\n",
              "       -1.44677190e-02, -1.44739806e-02, -1.44745744e-02, -1.44786911e-02,\n",
              "       -1.44748973e-02, -1.44686815e-02, -1.44803418e-02, -1.44744611e-02,\n",
              "       -1.44820602e-02, -1.44980859e-02, -1.44979095e-02, -1.44889403e-02,\n",
              "       -1.44887866e-02, -1.45000602e-02, -1.44754478e-02, -1.44734325e-02,\n",
              "       -1.44692501e-02, -1.44656121e-02, -1.44663110e-02, -1.44561805e-02,\n",
              "       -1.44574701e-02, -1.44544050e-02, -1.44418100e-02, -1.44482715e-02,\n",
              "       -1.44293604e-02, -1.44317233e-02, -1.44146178e-02, -1.44195574e-02,\n",
              "       -1.44111096e-02, -1.44031131e-02, -1.44128411e-02, -1.44018747e-02,\n",
              "       -1.43712010e-02, -1.43868243e-02, -1.43836312e-02, -1.43797419e-02,\n",
              "       -1.43553499e-02, -1.43452730e-02, -1.43459723e-02, -1.43170243e-02,\n",
              "       -1.43114214e-02, -1.43006180e-02, -1.43065064e-02, -1.42958037e-02,\n",
              "       -1.42853451e-02, -1.42875309e-02, -1.42808114e-02, -1.42876501e-02,\n",
              "       -1.42794957e-02, -1.42859054e-02, -1.42763482e-02, -1.42737995e-02,\n",
              "       -1.42614707e-02, -1.42684550e-02, -1.42471438e-02, -1.42605873e-02,\n",
              "       -1.42380227e-02, -1.42212328e-02, -1.42335758e-02, -1.42215718e-02,\n",
              "       -1.42113227e-02, -1.41991213e-02, -1.41822529e-02, -1.41934000e-02,\n",
              "       -1.41776702e-02, -1.41624857e-02, -1.41249710e-02, -1.40926290e-02,\n",
              "       -1.40471346e-02, -1.39930501e-02, -1.39295487e-02, -1.38722099e-02,\n",
              "       -1.37184163e-02, -1.37049521e-02, -1.35826477e-02, -1.35364608e-02,\n",
              "       -1.33937149e-02, -1.31429154e-02, -1.30149430e-02, -1.28758571e-02,\n",
              "       -1.27315574e-02, -1.23988975e-02, -1.22684395e-02, -1.21958881e-02,\n",
              "       -1.21223146e-02, -1.20354050e-02, -1.17628177e-02, -1.14447599e-02,\n",
              "       -1.12940994e-02, -1.08136835e-02, -1.04504877e-02, -1.04005643e-02,\n",
              "       -1.04202547e-02, -1.03839158e-02, -1.04090272e-02, -1.03713832e-02,\n",
              "       -1.03952365e-02, -1.03991152e-02, -1.03964284e-02, -1.03907792e-02,\n",
              "       -1.03616442e-02, -1.03718256e-02, -1.04000006e-02, -1.04041314e-02,\n",
              "       -1.03953000e-02, -1.03950069e-02, -1.04029495e-02, -1.03982354e-02,\n",
              "       -1.04278231e-02, -1.04020639e-02, -1.04059068e-02, -1.04385893e-02,\n",
              "       -1.04136356e-02, -1.04467366e-02, -1.04849057e-02, -1.04750751e-02,\n",
              "       -1.04787512e-02, -1.04824397e-02, -1.04769116e-02, -1.05014903e-02,\n",
              "       -1.05138941e-02, -1.05039600e-02, -1.05367543e-02, -1.04856472e-02,\n",
              "       -1.05087470e-02, -1.05236712e-02, -1.05099902e-02, -1.05037883e-02,\n",
              "       -1.05103012e-02, -1.05118575e-02, -1.05199857e-02, -1.05177915e-02,\n",
              "       -1.05182544e-02, -1.05151237e-02, -1.05104442e-02, -1.04929085e-02,\n",
              "       -1.04960261e-02, -1.04845352e-02, -1.04854624e-02, -1.04527046e-02,\n",
              "       -1.05033071e-02, -1.04625163e-02, -1.04661551e-02, -1.04691969e-02,\n",
              "       -1.05120641e-02, -1.05095329e-02, -1.05120641e-02, -1.05021122e-02,\n",
              "       -1.05046283e-02, -1.05065191e-02, -1.05021122e-02, -1.04917935e-02,\n",
              "       -1.04756384e-02, -1.04616946e-02, -1.05072794e-02, -1.04730101e-02,\n",
              "       -1.04345057e-02, -1.04209340e-02, -1.03900898e-02, -1.03463279e-02,\n",
              "       -1.03193511e-02, -1.02788987e-02, -1.02695072e-02, -1.02487547e-02,\n",
              "       -1.02299639e-02, -1.01475081e-02, -1.01217219e-02, -1.00435739e-02,\n",
              "       -1.00151425e-02, -9.96975655e-03, -9.89401270e-03, -9.84984517e-03,\n",
              "       -9.80830152e-03, -9.79807061e-03, -9.78454449e-03, -9.80597453e-03,\n",
              "       -9.80136826e-03, -9.78305140e-03, -9.80433928e-03, -9.86644884e-03,\n",
              "       -9.88524623e-03, -9.96964093e-03, -1.00266866e-02, -1.01299647e-02,\n",
              "       -1.01938211e-02, -1.02525867e-02, -1.03856510e-02, -1.04928415e-02,\n",
              "       -1.07555211e-02, -1.09407047e-02, -1.11442806e-02, -1.13597816e-02,\n",
              "       -1.15567836e-02, -1.17299376e-02, -1.17820257e-02, -1.18519828e-02,\n",
              "       -1.19595151e-02, -1.20087622e-02, -1.13303649e-02, -1.08206270e-02,\n",
              "       -1.05794127e-02, -1.02570176e-02, -9.67693146e-03, -8.51596003e-03,\n",
              "       -8.51596003e-03, -8.51596003e-03, -8.51596003e-03, -8.51596003e-03,\n",
              "       -8.51596003e-03, -8.51596003e-03, -8.51596003e-03, -8.51596003e-03,\n",
              "       -8.51596003e-03, -8.51596003e-03, -8.51596003e-03, -8.51596003e-03,\n",
              "       -8.51596003e-03, -8.51596003e-03, -8.51596003e-03, -8.51596003e-03,\n",
              "       -8.51596003e-03, -8.51596003e-03, -8.51596003e-03, -8.51596003e-03,\n",
              "       -8.51596003e-03, -8.51596003e-03, -8.51596003e-03, -8.51596003e-03,\n",
              "       -8.51596003e-03, -8.51596003e-03, -8.51596003e-03, -8.51596003e-03,\n",
              "       -8.51596003e-03, -8.51596003e-03, -8.51596003e-03, -8.51596003e-03,\n",
              "       -8.51596003e-03, -8.51596003e-03, -8.51596003e-03, -8.51596003e-03,\n",
              "       -8.51596003e-03, -8.51596003e-03, -8.51596003e-03, -8.51596003e-03,\n",
              "       -8.51596003e-03, -8.51596003e-03, -8.51596003e-03, -8.51596003e-03,\n",
              "       -8.51596003e-03, -8.51596003e-03, -8.51596003e-03, -8.51596003e-03,\n",
              "       -8.51596003e-03, -8.51596003e-03, -8.51596003e-03, -8.51596003e-03,\n",
              "       -8.51596003e-03, -8.51596003e-03, -8.51596003e-03, -8.51596003e-03,\n",
              "       -8.51596003e-03, -8.51596003e-03, -8.51596003e-03, -8.51596003e-03,\n",
              "       -8.51596003e-03, -8.51596003e-03, -8.51596003e-03, -8.51596003e-03,\n",
              "       -8.51596003e-03, -8.51596003e-03, -8.51596003e-03, -8.51596003e-03,\n",
              "       -8.51596003e-03, -8.51596003e-03, -8.51596003e-03, -8.51596003e-03,\n",
              "       -8.51596003e-03, -8.51596003e-03, -8.51596003e-03, -8.51596003e-03,\n",
              "       -8.51596003e-03, -8.51596003e-03, -8.51596003e-03, -8.51596003e-03,\n",
              "       -8.51596003e-03, -8.51596003e-03, -8.51596003e-03, -8.51596003e-03,\n",
              "       -8.51596003e-03, -8.51596003e-03, -8.51596003e-03, -8.51596003e-03,\n",
              "       -8.51596003e-03, -8.51596003e-03, -8.51596003e-03, -8.51596003e-03,\n",
              "       -8.51596003e-03, -8.51596003e-03, -8.51596003e-03, -8.51596003e-03,\n",
              "       -8.51596003e-03, -8.51596003e-03, -8.51596003e-03, -8.51596003e-03,\n",
              "       -8.51596003e-03, -8.51596003e-03, -8.51596003e-03, -8.51596003e-03,\n",
              "       -8.51596003e-03, -8.51596003e-03, -8.51596003e-03, -8.51596003e-03,\n",
              "       -8.51596003e-03, -8.51596003e-03, -8.51596003e-03, -8.51596003e-03,\n",
              "       -8.51596003e-03, -8.51596003e-03, -8.51596003e-03, -8.51596003e-03,\n",
              "       -8.51596003e-03, -8.51596003e-03, -8.51596003e-03, -8.51596003e-03,\n",
              "       -8.51596003e-03, -8.51596003e-03, -8.51596003e-03, -8.51596003e-03,\n",
              "       -8.51596003e-03, -8.51596003e-03, -8.51596003e-03, -8.51596003e-03,\n",
              "       -8.51596003e-03, -8.51596003e-03, -8.51596003e-03, -8.51596003e-03,\n",
              "       -8.51596003e-03, -8.51596003e-03, -8.51596003e-03, -8.51596003e-03,\n",
              "       -8.51596003e-03, -8.51596003e-03, -8.51596003e-03, -8.51596003e-03,\n",
              "       -8.51596003e-03, -8.51596003e-03, -8.51596003e-03, -8.51596003e-03,\n",
              "       -8.51596003e-03, -8.51596003e-03, -8.51596003e-03, -8.51596003e-03,\n",
              "       -8.51596003e-03, -8.51596003e-03, -8.51596003e-03, -8.51596003e-03,\n",
              "       -8.51596003e-03, -8.51596003e-03, -8.51596003e-03, -8.51596003e-03,\n",
              "       -8.51596003e-03, -8.51596003e-03, -8.51596003e-03, -8.51596003e-03,\n",
              "       -8.51596003e-03, -8.51596003e-03, -8.51596003e-03, -8.51596003e-03,\n",
              "       -8.51596003e-03, -8.51596003e-03, -8.51596003e-03, -8.51596003e-03,\n",
              "       -8.51596003e-03, -8.51596003e-03, -8.51596003e-03, -8.51596003e-03,\n",
              "       -8.51596003e-03, -8.51596003e-03, -8.51596003e-03, -8.51596003e-03,\n",
              "       -8.51596003e-03, -8.51596003e-03, -8.51596003e-03, -8.51596003e-03,\n",
              "       -8.51596003e-03, -8.51596003e-03, -8.51596003e-03, -8.51596003e-03,\n",
              "       -8.51596003e-03, -8.51596003e-03, -8.51596003e-03, -8.51596003e-03,\n",
              "       -8.51596003e-03, -8.51596003e-03, -8.51596003e-03, -8.51596003e-03,\n",
              "       -8.51596003e-03, -8.51596003e-03, -8.51596003e-03, -8.51596003e-03,\n",
              "       -8.51596003e-03, -8.51596003e-03, -8.51596003e-03, -8.51596003e-03,\n",
              "       -8.51596003e-03, -8.51596003e-03, -8.51596003e-03,  3.70000000e-01,\n",
              "        8.16640000e+02,  3.60000000e-01])"
            ]
          },
          "metadata": {},
          "execution_count": 26
        }
      ],
      "source": [
        "data[0]"
      ]
    },
    {
      "cell_type": "code",
      "execution_count": null,
      "metadata": {
        "colab": {
          "base_uri": "https://localhost:8080/"
        },
        "id": "pi5HcLQTHsg-",
        "outputId": "366b15d5-5b5f-45a8-a70e-af5459313673"
      },
      "outputs": [
        {
          "data": {
            "text/plain": [
              "<tf.Tensor: shape=(13790, 750), dtype=float64, numpy=\n",
              "array([[-9.02749970e-02, -6.56645609e-01, -6.52911900e-01, ...,\n",
              "         3.70000000e-01,  8.16640000e+02,  3.60000000e-01],\n",
              "       [-1.33745173e-01,  2.84102711e-01,  1.38825966e-01, ...,\n",
              "         3.30000000e-01,  1.04291000e+03,  1.30000000e-01],\n",
              "       [ 2.67600919e-02,  4.41971173e-01,  7.17868753e-01, ...,\n",
              "         3.40000000e-01,  8.46670000e+02,  1.10000000e-01],\n",
              "       ...,\n",
              "       [-2.47436402e-01, -2.07043615e-01,  1.16062613e-01, ...,\n",
              "         4.20000000e-01,  8.74610000e+02,  4.10000000e-01],\n",
              "       [-5.95197809e-01, -1.02223573e+00, -1.16579869e+00, ...,\n",
              "         3.70000000e-01,  8.71420000e+02,  4.30000000e-01],\n",
              "       [-5.98541669e-01,  7.09701313e-01,  1.19020832e+00, ...,\n",
              "         3.30000000e-01,  8.63610000e+02,  3.80000000e-01]])>"
            ]
          },
          "execution_count": 27,
          "metadata": {},
          "output_type": "execute_result"
        }
      ],
      "source": [
        "tf.constant((data))"
      ]
    },
    {
      "cell_type": "code",
      "source": [
        "type(data)"
      ],
      "metadata": {
        "colab": {
          "base_uri": "https://localhost:8080/"
        },
        "id": "blLobAyjYIaV",
        "outputId": "7c25745c-76c2-401b-e38f-86170fb67d56"
      },
      "execution_count": null,
      "outputs": [
        {
          "output_type": "execute_result",
          "data": {
            "text/plain": [
              "numpy.ndarray"
            ]
          },
          "metadata": {},
          "execution_count": 77
        }
      ]
    },
    {
      "cell_type": "markdown",
      "source": [
        "#### The sexond format\n",
        "\n",
        "is as follows a numpy array of ((13790, 4)) shape, the first elements is a numpy array of length 747 represents the scaled stances, then three float numbers : swing time, max Peak, FWHM value"
      ],
      "metadata": {
        "id": "xI7iDgCZPsZt"
      }
    },
    {
      "cell_type": "code",
      "source": [
        "X_train['scaled_stances'] = X_train['scaled_stances'].apply(np.array)"
      ],
      "metadata": {
        "id": "ZvKh4mmqNfR1"
      },
      "execution_count": 29,
      "outputs": []
    },
    {
      "cell_type": "code",
      "source": [
        "x = X_train[['scaled_stances', 'r_swings_time','max_peak','FWHM']]"
      ],
      "metadata": {
        "id": "goDGDcl7M89x"
      },
      "execution_count": 30,
      "outputs": []
    },
    {
      "cell_type": "code",
      "source": [
        "itemized_train_data = x.to_numpy()"
      ],
      "metadata": {
        "id": "fWR4Y_V4Mk9G"
      },
      "execution_count": 31,
      "outputs": []
    },
    {
      "cell_type": "code",
      "source": [
        "(itemized_train_data).shape"
      ],
      "metadata": {
        "colab": {
          "base_uri": "https://localhost:8080/"
        },
        "id": "4-d1b_XmMrJf",
        "outputId": "d354625d-69d9-4398-8c14-f47fc4313e35"
      },
      "execution_count": null,
      "outputs": [
        {
          "output_type": "execute_result",
          "data": {
            "text/plain": [
              "(13790, 4)"
            ]
          },
          "metadata": {},
          "execution_count": 30
        }
      ]
    },
    {
      "cell_type": "code",
      "source": [
        "type(itemized_train_data)"
      ],
      "metadata": {
        "colab": {
          "base_uri": "https://localhost:8080/"
        },
        "id": "dBPLvWdHYNO_",
        "outputId": "b63bdfa1-3a1b-4814-afc9-9a2bd682dbf8"
      },
      "execution_count": null,
      "outputs": [
        {
          "output_type": "execute_result",
          "data": {
            "text/plain": [
              "numpy.ndarray"
            ]
          },
          "metadata": {},
          "execution_count": 78
        }
      ]
    },
    {
      "cell_type": "code",
      "source": [
        "itemized_train_data[0]"
      ],
      "metadata": {
        "colab": {
          "base_uri": "https://localhost:8080/"
        },
        "id": "H_4jxc0uYW_O",
        "outputId": "dc4dbbe7-0824-4811-b056-2ec6af7cdc23"
      },
      "execution_count": null,
      "outputs": [
        {
          "output_type": "execute_result",
          "data": {
            "text/plain": [
              "array([array([-0.090275  , -0.65664561, -0.6529119 , -0.65183505, -0.68045582,\n",
              "              -0.7098499 , -0.73134374, -0.75830525, -0.69913812, -0.67008905,\n",
              "              -0.6561001 , -0.55843092, -0.42426258, -0.39797365, -0.37249945,\n",
              "              -0.35945653, -0.36631202, -0.33032785, -0.31171145, -0.26921919,\n",
              "              -0.28557001, -0.25767692, -0.31258783, -0.3446555 , -0.36965201,\n",
              "              -0.39989211, -0.41184847, -0.41812982, -0.45086201, -0.48526306,\n",
              "              -0.47609041, -0.50612968, -0.3709104 , -0.46030447, -0.50326449,\n",
              "              -0.57637167, -0.61911279, -0.67743903, -0.71142341, -0.94233607,\n",
              "              -0.96134012, -0.94411301, -0.95807388, -1.07219121, -0.95772455,\n",
              "              -0.8513938 , -0.84604173, -0.68743598, -0.52048013, -0.36978935,\n",
              "              -0.26816074, -0.15237144, -0.05812691,  0.03679974,  0.09575529,\n",
              "               0.09002217,  0.1405638 ,  0.10811667,  0.06866205,  0.00977363,\n",
              "              -0.10805022, -0.19992276, -0.27293718, -0.43117707, -0.59419733,\n",
              "              -0.76461712, -0.74794765, -0.688826  , -0.7479188 , -0.69307873,\n",
              "              -0.64337731, -0.59860487, -0.55701264, -0.51965188, -0.484691  ,\n",
              "              -0.45281837, -0.42313112, -0.3952147 , -0.36971598, -0.34678557,\n",
              "              -0.32581261, -0.30645401, -0.28896947, -0.27381685, -0.26044189,\n",
              "              -0.24843146, -0.23833812, -0.22976656, -0.22251874, -0.21581416,\n",
              "              -0.20985231, -0.20419344, -0.19903725, -0.1941882 , -0.18931931,\n",
              "              -0.18449948, -0.17993604, -0.17552757, -0.17124557, -0.16673351,\n",
              "              -0.16242081, -0.15826282, -0.15423074, -0.15005825, -0.14572583,\n",
              "              -0.14156482, -0.13791705, -0.1341039 , -0.13068599, -0.12717453,\n",
              "              -0.12410758, -0.12109532, -0.11782774, -0.11462951, -0.1117345 ,\n",
              "              -0.10889458, -0.10633181, -0.10383494, -0.10159666, -0.0993525 ,\n",
              "              -0.09724948, -0.09532552, -0.0933708 , -0.09167121, -0.09017945,\n",
              "              -0.08875114, -0.08735862, -0.0860645 , -0.08470226, -0.08337367,\n",
              "              -0.08210151, -0.08102353, -0.07985145, -0.07865262, -0.07745809,\n",
              "              -0.07654957, -0.07560523, -0.07480123, -0.07411402, -0.07345314,\n",
              "              -0.07275129, -0.07199845, -0.0711737 , -0.07034756, -0.06931072,\n",
              "              -0.06821397, -0.06720557, -0.06620814, -0.06538099, -0.06450412,\n",
              "              -0.06361349, -0.06276965, -0.06184333, -0.06118056, -0.06021238,\n",
              "              -0.05942864, -0.05877872, -0.05801912, -0.05731853, -0.05667103,\n",
              "              -0.05597518, -0.05540321, -0.05481984, -0.05426984, -0.05374366,\n",
              "              -0.0533397 , -0.05279593, -0.05238555, -0.05215319, -0.05211236,\n",
              "              -0.05189775, -0.05160779, -0.0514893 , -0.05145564, -0.05135238,\n",
              "              -0.05135877, -0.05122591, -0.0510991 , -0.05100644, -0.05082031,\n",
              "              -0.05061727, -0.05025473, -0.04996137, -0.049705  , -0.04946356,\n",
              "              -0.04923107, -0.04910872, -0.04899736, -0.04884902, -0.04865336,\n",
              "              -0.04850102, -0.04835589, -0.04810244, -0.04780739, -0.04738812,\n",
              "              -0.04696815, -0.04648921, -0.04604634, -0.04557626, -0.04502857,\n",
              "              -0.04459099, -0.04421819, -0.04399353, -0.04368687, -0.04347891,\n",
              "              -0.04327149, -0.04308804, -0.04284464, -0.04266692, -0.04250777,\n",
              "              -0.04226642, -0.04196852, -0.04148378, -0.041053  , -0.04042988,\n",
              "              -0.03973871, -0.03913225, -0.03837989, -0.0377253 , -0.03718964,\n",
              "              -0.03647617, -0.03571407, -0.03502145, -0.03438939, -0.03383072,\n",
              "              -0.03319447, -0.03280477, -0.032499  , -0.0320665 , -0.0317827 ,\n",
              "              -0.03149035, -0.03113967, -0.03063673, -0.0301885 , -0.02960249,\n",
              "              -0.0292876 , -0.02893936, -0.02848404, -0.02799081, -0.02759527,\n",
              "              -0.02726303, -0.02695327, -0.02677982, -0.02648016, -0.02604194,\n",
              "              -0.0259668 , -0.02587288, -0.02564881, -0.02528851, -0.0247778 ,\n",
              "              -0.02429894, -0.02400595, -0.02355537, -0.02309345, -0.02261281,\n",
              "              -0.02211155, -0.02159885, -0.02144943, -0.02119122, -0.02091616,\n",
              "              -0.02046928, -0.02020033, -0.01987413, -0.01954366, -0.01902135,\n",
              "              -0.01873182, -0.01830588, -0.01765878, -0.01741701, -0.01743508,\n",
              "              -0.017454  , -0.01746019, -0.01747997, -0.01745727, -0.01745286,\n",
              "              -0.01748474, -0.0174448 , -0.01742226, -0.01746125, -0.01737651,\n",
              "              -0.01755202, -0.01756114, -0.01765619, -0.01762556, -0.01772137,\n",
              "              -0.017728  , -0.01766009, -0.01735317, -0.01711561, -0.01682977,\n",
              "              -0.0164595 , -0.01587116, -0.01513848, -0.01483477, -0.01460028,\n",
              "              -0.014599  , -0.01460229, -0.01459698, -0.01459718, -0.01459952,\n",
              "              -0.01459782, -0.01459695, -0.01458934, -0.01458755, -0.01458222,\n",
              "              -0.01458534, -0.01456516, -0.01455867, -0.01449244, -0.01447775,\n",
              "              -0.01443843, -0.01441313, -0.01437213, -0.01419997, -0.01415138,\n",
              "              -0.01401458, -0.01403593, -0.01402711, -0.01405156, -0.0140522 ,\n",
              "              -0.01407246, -0.01410215, -0.01414308, -0.01415404, -0.01415696,\n",
              "              -0.01416817, -0.01426356, -0.01428708, -0.01429148, -0.01431673,\n",
              "              -0.01431673, -0.01429834, -0.01432241, -0.01440375, -0.01440907,\n",
              "              -0.01442538, -0.01442103, -0.01442893, -0.01443191, -0.01444721,\n",
              "              -0.01446772, -0.01447398, -0.01447457, -0.01447869, -0.0144749 ,\n",
              "              -0.01446868, -0.01448034, -0.01447446, -0.01448206, -0.01449809,\n",
              "              -0.01449791, -0.01448894, -0.01448879, -0.01450006, -0.01447545,\n",
              "              -0.01447343, -0.01446925, -0.01446561, -0.01446631, -0.01445618,\n",
              "              -0.01445747, -0.01445441, -0.01444181, -0.01444827, -0.01442936,\n",
              "              -0.01443172, -0.01441462, -0.01441956, -0.01441111, -0.01440311,\n",
              "              -0.01441284, -0.01440187, -0.0143712 , -0.01438682, -0.01438363,\n",
              "              -0.01437974, -0.01435535, -0.01434527, -0.01434597, -0.01431702,\n",
              "              -0.01431142, -0.01430062, -0.01430651, -0.0142958 , -0.01428535,\n",
              "              -0.01428753, -0.01428081, -0.01428765, -0.0142795 , -0.01428591,\n",
              "              -0.01427635, -0.0142738 , -0.01426147, -0.01426845, -0.01424714,\n",
              "              -0.01426059, -0.01423802, -0.01422123, -0.01423358, -0.01422157,\n",
              "              -0.01421132, -0.01419912, -0.01418225, -0.0141934 , -0.01417767,\n",
              "              -0.01416249, -0.01412497, -0.01409263, -0.01404713, -0.01399305,\n",
              "              -0.01392955, -0.01387221, -0.01371842, -0.01370495, -0.01358265,\n",
              "              -0.01353646, -0.01339371, -0.01314292, -0.01301494, -0.01287586,\n",
              "              -0.01273156, -0.0123989 , -0.01226844, -0.01219589, -0.01212231,\n",
              "              -0.01203541, -0.01176282, -0.01144476, -0.0112941 , -0.01081368,\n",
              "              -0.01045049, -0.01040056, -0.01042025, -0.01038392, -0.01040903,\n",
              "              -0.01037138, -0.01039524, -0.01039912, -0.01039643, -0.01039078,\n",
              "              -0.01036164, -0.01037183, -0.0104    , -0.01040413, -0.0103953 ,\n",
              "              -0.01039501, -0.01040295, -0.01039824, -0.01042782, -0.01040206,\n",
              "              -0.01040591, -0.01043859, -0.01041364, -0.01044674, -0.01048491,\n",
              "              -0.01047508, -0.01047875, -0.01048244, -0.01047691, -0.01050149,\n",
              "              -0.01051389, -0.01050396, -0.01053675, -0.01048565, -0.01050875,\n",
              "              -0.01052367, -0.01050999, -0.01050379, -0.0105103 , -0.01051186,\n",
              "              -0.01051999, -0.01051779, -0.01051825, -0.01051512, -0.01051044,\n",
              "              -0.01049291, -0.01049603, -0.01048454, -0.01048546, -0.0104527 ,\n",
              "              -0.01050331, -0.01046252, -0.01046616, -0.0104692 , -0.01051206,\n",
              "              -0.01050953, -0.01051206, -0.01050211, -0.01050463, -0.01050652,\n",
              "              -0.01050211, -0.01049179, -0.01047564, -0.01046169, -0.01050728,\n",
              "              -0.01047301, -0.01043451, -0.01042093, -0.01039009, -0.01034633,\n",
              "              -0.01031935, -0.0102789 , -0.01026951, -0.01024875, -0.01022996,\n",
              "              -0.01014751, -0.01012172, -0.01004357, -0.01001514, -0.00996976,\n",
              "              -0.00989401, -0.00984985, -0.0098083 , -0.00979807, -0.00978454,\n",
              "              -0.00980597, -0.00980137, -0.00978305, -0.00980434, -0.00986645,\n",
              "              -0.00988525, -0.00996964, -0.01002669, -0.01012996, -0.01019382,\n",
              "              -0.01025259, -0.01038565, -0.01049284, -0.01075552, -0.0109407 ,\n",
              "              -0.01114428, -0.01135978, -0.01155678, -0.01172994, -0.01178203,\n",
              "              -0.01185198, -0.01195952, -0.01200876, -0.01133036, -0.01082063,\n",
              "              -0.01057941, -0.01025702, -0.00967693, -0.00851596, -0.00851596,\n",
              "              -0.00851596, -0.00851596, -0.00851596, -0.00851596, -0.00851596,\n",
              "              -0.00851596, -0.00851596, -0.00851596, -0.00851596, -0.00851596,\n",
              "              -0.00851596, -0.00851596, -0.00851596, -0.00851596, -0.00851596,\n",
              "              -0.00851596, -0.00851596, -0.00851596, -0.00851596, -0.00851596,\n",
              "              -0.00851596, -0.00851596, -0.00851596, -0.00851596, -0.00851596,\n",
              "              -0.00851596, -0.00851596, -0.00851596, -0.00851596, -0.00851596,\n",
              "              -0.00851596, -0.00851596, -0.00851596, -0.00851596, -0.00851596,\n",
              "              -0.00851596, -0.00851596, -0.00851596, -0.00851596, -0.00851596,\n",
              "              -0.00851596, -0.00851596, -0.00851596, -0.00851596, -0.00851596,\n",
              "              -0.00851596, -0.00851596, -0.00851596, -0.00851596, -0.00851596,\n",
              "              -0.00851596, -0.00851596, -0.00851596, -0.00851596, -0.00851596,\n",
              "              -0.00851596, -0.00851596, -0.00851596, -0.00851596, -0.00851596,\n",
              "              -0.00851596, -0.00851596, -0.00851596, -0.00851596, -0.00851596,\n",
              "              -0.00851596, -0.00851596, -0.00851596, -0.00851596, -0.00851596,\n",
              "              -0.00851596, -0.00851596, -0.00851596, -0.00851596, -0.00851596,\n",
              "              -0.00851596, -0.00851596, -0.00851596, -0.00851596, -0.00851596,\n",
              "              -0.00851596, -0.00851596, -0.00851596, -0.00851596, -0.00851596,\n",
              "              -0.00851596, -0.00851596, -0.00851596, -0.00851596, -0.00851596,\n",
              "              -0.00851596, -0.00851596, -0.00851596, -0.00851596, -0.00851596,\n",
              "              -0.00851596, -0.00851596, -0.00851596, -0.00851596, -0.00851596,\n",
              "              -0.00851596, -0.00851596, -0.00851596, -0.00851596, -0.00851596,\n",
              "              -0.00851596, -0.00851596, -0.00851596, -0.00851596, -0.00851596,\n",
              "              -0.00851596, -0.00851596, -0.00851596, -0.00851596, -0.00851596,\n",
              "              -0.00851596, -0.00851596, -0.00851596, -0.00851596, -0.00851596,\n",
              "              -0.00851596, -0.00851596, -0.00851596, -0.00851596, -0.00851596,\n",
              "              -0.00851596, -0.00851596, -0.00851596, -0.00851596, -0.00851596,\n",
              "              -0.00851596, -0.00851596, -0.00851596, -0.00851596, -0.00851596,\n",
              "              -0.00851596, -0.00851596, -0.00851596, -0.00851596, -0.00851596,\n",
              "              -0.00851596, -0.00851596, -0.00851596, -0.00851596, -0.00851596,\n",
              "              -0.00851596, -0.00851596, -0.00851596, -0.00851596, -0.00851596,\n",
              "              -0.00851596, -0.00851596, -0.00851596, -0.00851596, -0.00851596,\n",
              "              -0.00851596, -0.00851596, -0.00851596, -0.00851596, -0.00851596,\n",
              "              -0.00851596, -0.00851596, -0.00851596, -0.00851596, -0.00851596,\n",
              "              -0.00851596, -0.00851596, -0.00851596, -0.00851596, -0.00851596,\n",
              "              -0.00851596, -0.00851596, -0.00851596, -0.00851596, -0.00851596,\n",
              "              -0.00851596, -0.00851596, -0.00851596, -0.00851596, -0.00851596,\n",
              "              -0.00851596, -0.00851596, -0.00851596, -0.00851596, -0.00851596,\n",
              "              -0.00851596, -0.00851596, -0.00851596, -0.00851596, -0.00851596,\n",
              "              -0.00851596, -0.00851596, -0.00851596, -0.00851596, -0.00851596,\n",
              "              -0.00851596, -0.00851596, -0.00851596, -0.00851596, -0.00851596,\n",
              "              -0.00851596, -0.00851596])                                      ,\n",
              "       0.37, 816.64, 0.36], dtype=object)"
            ]
          },
          "metadata": {},
          "execution_count": 28
        }
      ]
    },
    {
      "cell_type": "code",
      "source": [
        "tf.constant((itemized_train_data))"
      ],
      "metadata": {
        "id": "AxXwfWdQYB45"
      },
      "execution_count": null,
      "outputs": []
    },
    {
      "cell_type": "markdown",
      "metadata": {
        "id": "t8-y8Sg9zCEK"
      },
      "source": [
        "### Applying the process on the test data as well"
      ]
    },
    {
      "cell_type": "code",
      "execution_count": 32,
      "metadata": {
        "id": "ROEiRZCczGCY"
      },
      "outputs": [],
      "source": [
        "scaled_test_data = scaler.transform(np.stack(X_test['padded_stances'].values))\n",
        "scaled_test_data=scaled_test_data.tolist()\n",
        "X_test.insert(0, \"scaled_stances\", scaled_test_data, True)\n"
      ]
    },
    {
      "cell_type": "markdown",
      "source": [
        "#### First format"
      ],
      "metadata": {
        "id": "-vE3OMWoScJW"
      }
    },
    {
      "cell_type": "code",
      "execution_count": 33,
      "metadata": {
        "id": "OGCKXsNZ0tBx"
      },
      "outputs": [],
      "source": [
        "test_data = np.append( np.asarray(X_test['scaled_stances'].tolist()) , np.asarray(X_test[[\"r_swings_time\" ]]),  axis=1)\n",
        "test_data = np.append( test_data , np.asarray(X_test[[\"max_peak\" ]]),  axis=1)\n",
        "test_data = np.append( test_data , np.asarray(X_test[[\"FWHM\" ]]),  axis=1)"
      ]
    },
    {
      "cell_type": "code",
      "source": [
        "len(X_test['scaled_stances'][0])"
      ],
      "metadata": {
        "colab": {
          "base_uri": "https://localhost:8080/"
        },
        "id": "4kh4o-rEXsYF",
        "outputId": "fe8bdfb7-2824-42b8-aa43-49a8deda474c"
      },
      "execution_count": null,
      "outputs": [
        {
          "output_type": "execute_result",
          "data": {
            "text/plain": [
              "747"
            ]
          },
          "metadata": {},
          "execution_count": 33
        }
      ]
    },
    {
      "cell_type": "markdown",
      "source": [
        "#### Second format"
      ],
      "metadata": {
        "id": "7IF5TGIDSeir"
      }
    },
    {
      "cell_type": "code",
      "source": [
        "X_test['scaled_stances'] = X_test['scaled_stances'].apply(np.array)"
      ],
      "metadata": {
        "id": "mKMpUwPQSlYN"
      },
      "execution_count": 34,
      "outputs": []
    },
    {
      "cell_type": "code",
      "source": [
        "x_test = X_test[['scaled_stances', 'r_swings_time','max_peak','FWHM']]"
      ],
      "metadata": {
        "id": "FLlBZd9wStrN"
      },
      "execution_count": 35,
      "outputs": []
    },
    {
      "cell_type": "code",
      "source": [
        "itemized_test_data = x_test.to_numpy()"
      ],
      "metadata": {
        "id": "DFm8ZMqUSvYd"
      },
      "execution_count": 36,
      "outputs": []
    },
    {
      "cell_type": "code",
      "source": [
        "(itemized_test_data).shape"
      ],
      "metadata": {
        "colab": {
          "base_uri": "https://localhost:8080/"
        },
        "id": "D36H4WwxSwCG",
        "outputId": "59f2895d-ce35-4407-cfa0-b16c04e3018c"
      },
      "execution_count": 37,
      "outputs": [
        {
          "output_type": "execute_result",
          "data": {
            "text/plain": [
              "(4597, 4)"
            ]
          },
          "metadata": {},
          "execution_count": 37
        }
      ]
    },
    {
      "cell_type": "markdown",
      "metadata": {
        "id": "iH7p432Juk6I"
      },
      "source": [
        "## SVC Model\n"
      ]
    },
    {
      "cell_type": "markdown",
      "source": [
        "Applying the SVC model on the first format of the data"
      ],
      "metadata": {
        "id": "TriseUw9XZRO"
      }
    },
    {
      "cell_type": "code",
      "execution_count": null,
      "metadata": {
        "colab": {
          "base_uri": "https://localhost:8080/"
        },
        "id": "D3SMYLucuoJy",
        "outputId": "bbc7d541-7a7a-4f7d-e755-f9bb8826ae94"
      },
      "outputs": [
        {
          "output_type": "stream",
          "name": "stderr",
          "text": [
            "/usr/local/lib/python3.9/dist-packages/sklearn/utils/validation.py:1143: DataConversionWarning: A column-vector y was passed when a 1d array was expected. Please change the shape of y to (n_samples, ), for example using ravel().\n",
            "  y = column_or_1d(y, warn=True)\n"
          ]
        }
      ],
      "source": [
        "svc = SVC(kernel='poly').fit(data, y_train)"
      ]
    },
    {
      "cell_type": "code",
      "execution_count": null,
      "metadata": {
        "colab": {
          "base_uri": "https://localhost:8080/"
        },
        "id": "jTyvdcjjxfHu",
        "outputId": "1e98e20b-7fef-47e4-f959-a51be4ef9de1"
      },
      "outputs": [
        {
          "output_type": "execute_result",
          "data": {
            "text/plain": [
              "0.6756580378507723"
            ]
          },
          "metadata": {},
          "execution_count": 33
        }
      ],
      "source": [
        "svc.score(test_data, (y_test))"
      ]
    },
    {
      "cell_type": "markdown",
      "source": [
        "## LSTM"
      ],
      "metadata": {
        "id": "-fVPbbjL4ZC4"
      }
    },
    {
      "cell_type": "markdown",
      "source": [
        "Applying LSTM model on the first format of the data\n"
      ],
      "metadata": {
        "id": "fQWhjzRB6Opg"
      }
    },
    {
      "cell_type": "code",
      "source": [
        "# define the model architecture\n",
        "model = Sequential()\n",
        "model.add(LSTM(64, input_shape=(750, 1))) # 64 is the number of LSTM units\n",
        "model.add(Dense(32, activation='relu'))\n",
        "model.add(Dense(1, activation='sigmoid'))\n",
        "\n",
        "# compile the model\n",
        "model.compile(loss='binary_crossentropy', optimizer='adam', metrics=['accuracy'])"
      ],
      "metadata": {
        "id": "MVqGORqe4bwr"
      },
      "execution_count": null,
      "outputs": []
    },
    {
      "cell_type": "code",
      "source": [
        "# train the model\n",
        "model.fit(data, y_train, epochs=10, batch_size=32)"
      ],
      "metadata": {
        "colab": {
          "base_uri": "https://localhost:8080/"
        },
        "id": "Av-UiQCRq1Ei",
        "outputId": "6dab518f-1514-4569-eb89-cc9627ab03e2"
      },
      "execution_count": null,
      "outputs": [
        {
          "output_type": "stream",
          "name": "stdout",
          "text": [
            "Epoch 1/10\n",
            "431/431 [==============================] - 138s 313ms/step - loss: 0.6211 - accuracy: 0.6891\n",
            "Epoch 2/10\n",
            "431/431 [==============================] - 152s 352ms/step - loss: 0.6196 - accuracy: 0.6901\n",
            "Epoch 3/10\n",
            "431/431 [==============================] - 134s 310ms/step - loss: 0.6174 - accuracy: 0.6900\n",
            "Epoch 4/10\n",
            "431/431 [==============================] - 132s 306ms/step - loss: 0.6115 - accuracy: 0.6899\n",
            "Epoch 5/10\n",
            "431/431 [==============================] - 134s 311ms/step - loss: 0.6079 - accuracy: 0.6806\n",
            "Epoch 6/10\n",
            "431/431 [==============================] - 132s 307ms/step - loss: 0.6442 - accuracy: 0.6901\n",
            "Epoch 7/10\n",
            "431/431 [==============================] - 132s 307ms/step - loss: 0.6211 - accuracy: 0.6901\n",
            "Epoch 8/10\n",
            "431/431 [==============================] - 133s 309ms/step - loss: 0.6190 - accuracy: 0.6901\n",
            "Epoch 9/10\n",
            "431/431 [==============================] - 132s 307ms/step - loss: 0.6186 - accuracy: 0.6901\n",
            "Epoch 10/10\n",
            "431/431 [==============================] - 132s 307ms/step - loss: 0.6179 - accuracy: 0.6901\n"
          ]
        },
        {
          "output_type": "execute_result",
          "data": {
            "text/plain": [
              "<keras.callbacks.History at 0x7f34c3766b20>"
            ]
          },
          "metadata": {},
          "execution_count": 82
        }
      ]
    },
    {
      "cell_type": "code",
      "source": [
        "# evaluate the model on the test set\n",
        "loss, accuracy = model.evaluate(test_data, y_test)\n",
        "print(\"Test accuracy: \", accuracy)"
      ],
      "metadata": {
        "colab": {
          "base_uri": "https://localhost:8080/"
        },
        "id": "Xg2a38fZq-W9",
        "outputId": "5b6f4faf-1216-471d-8a27-226f0245b1ad"
      },
      "execution_count": null,
      "outputs": [
        {
          "output_type": "stream",
          "name": "stdout",
          "text": [
            "144/144 [==============================] - 14s 97ms/step - loss: 0.6284 - accuracy: 0.6761\n",
            "Test accuracy:  0.6760931015014648\n"
          ]
        }
      ]
    },
    {
      "cell_type": "code",
      "source": [
        "# evaluate the model on the test set\n",
        "loss, accuracy = model.evaluate(test_data, y_test)\n",
        "print(\"Test accuracy: \", accuracy)"
      ],
      "metadata": {
        "id": "DlS4LeSig5zC"
      },
      "execution_count": null,
      "outputs": []
    },
    {
      "cell_type": "markdown",
      "source": [
        "## Random Forest\n"
      ],
      "metadata": {
        "id": "5mlKVa62dAr7"
      }
    },
    {
      "cell_type": "markdown",
      "source": [
        "### Random Forest with 100 estimators"
      ],
      "metadata": {
        "id": "Y52AEp-Rr9fa"
      }
    },
    {
      "cell_type": "code",
      "source": [
        "# Train a Random Forest classifier on the training set\n",
        "rf_classifier = RandomForestClassifier(n_estimators=100, random_state=42)\n",
        "rf_classifier.fit(data, y_train.values.ravel())"
      ],
      "metadata": {
        "colab": {
          "base_uri": "https://localhost:8080/",
          "height": 74
        },
        "id": "kq4udiavdDoW",
        "outputId": "c0777100-8b19-4121-f602-9a17f0432051"
      },
      "execution_count": null,
      "outputs": [
        {
          "output_type": "execute_result",
          "data": {
            "text/plain": [
              "RandomForestClassifier(random_state=42)"
            ],
            "text/html": [
              "<style>#sk-container-id-1 {color: black;background-color: white;}#sk-container-id-1 pre{padding: 0;}#sk-container-id-1 div.sk-toggleable {background-color: white;}#sk-container-id-1 label.sk-toggleable__label {cursor: pointer;display: block;width: 100%;margin-bottom: 0;padding: 0.3em;box-sizing: border-box;text-align: center;}#sk-container-id-1 label.sk-toggleable__label-arrow:before {content: \"▸\";float: left;margin-right: 0.25em;color: #696969;}#sk-container-id-1 label.sk-toggleable__label-arrow:hover:before {color: black;}#sk-container-id-1 div.sk-estimator:hover label.sk-toggleable__label-arrow:before {color: black;}#sk-container-id-1 div.sk-toggleable__content {max-height: 0;max-width: 0;overflow: hidden;text-align: left;background-color: #f0f8ff;}#sk-container-id-1 div.sk-toggleable__content pre {margin: 0.2em;color: black;border-radius: 0.25em;background-color: #f0f8ff;}#sk-container-id-1 input.sk-toggleable__control:checked~div.sk-toggleable__content {max-height: 200px;max-width: 100%;overflow: auto;}#sk-container-id-1 input.sk-toggleable__control:checked~label.sk-toggleable__label-arrow:before {content: \"▾\";}#sk-container-id-1 div.sk-estimator input.sk-toggleable__control:checked~label.sk-toggleable__label {background-color: #d4ebff;}#sk-container-id-1 div.sk-label input.sk-toggleable__control:checked~label.sk-toggleable__label {background-color: #d4ebff;}#sk-container-id-1 input.sk-hidden--visually {border: 0;clip: rect(1px 1px 1px 1px);clip: rect(1px, 1px, 1px, 1px);height: 1px;margin: -1px;overflow: hidden;padding: 0;position: absolute;width: 1px;}#sk-container-id-1 div.sk-estimator {font-family: monospace;background-color: #f0f8ff;border: 1px dotted black;border-radius: 0.25em;box-sizing: border-box;margin-bottom: 0.5em;}#sk-container-id-1 div.sk-estimator:hover {background-color: #d4ebff;}#sk-container-id-1 div.sk-parallel-item::after {content: \"\";width: 100%;border-bottom: 1px solid gray;flex-grow: 1;}#sk-container-id-1 div.sk-label:hover label.sk-toggleable__label {background-color: #d4ebff;}#sk-container-id-1 div.sk-serial::before {content: \"\";position: absolute;border-left: 1px solid gray;box-sizing: border-box;top: 0;bottom: 0;left: 50%;z-index: 0;}#sk-container-id-1 div.sk-serial {display: flex;flex-direction: column;align-items: center;background-color: white;padding-right: 0.2em;padding-left: 0.2em;position: relative;}#sk-container-id-1 div.sk-item {position: relative;z-index: 1;}#sk-container-id-1 div.sk-parallel {display: flex;align-items: stretch;justify-content: center;background-color: white;position: relative;}#sk-container-id-1 div.sk-item::before, #sk-container-id-1 div.sk-parallel-item::before {content: \"\";position: absolute;border-left: 1px solid gray;box-sizing: border-box;top: 0;bottom: 0;left: 50%;z-index: -1;}#sk-container-id-1 div.sk-parallel-item {display: flex;flex-direction: column;z-index: 1;position: relative;background-color: white;}#sk-container-id-1 div.sk-parallel-item:first-child::after {align-self: flex-end;width: 50%;}#sk-container-id-1 div.sk-parallel-item:last-child::after {align-self: flex-start;width: 50%;}#sk-container-id-1 div.sk-parallel-item:only-child::after {width: 0;}#sk-container-id-1 div.sk-dashed-wrapped {border: 1px dashed gray;margin: 0 0.4em 0.5em 0.4em;box-sizing: border-box;padding-bottom: 0.4em;background-color: white;}#sk-container-id-1 div.sk-label label {font-family: monospace;font-weight: bold;display: inline-block;line-height: 1.2em;}#sk-container-id-1 div.sk-label-container {text-align: center;}#sk-container-id-1 div.sk-container {/* jupyter's `normalize.less` sets `[hidden] { display: none; }` but bootstrap.min.css set `[hidden] { display: none !important; }` so we also need the `!important` here to be able to override the default hidden behavior on the sphinx rendered scikit-learn.org. See: https://github.com/scikit-learn/scikit-learn/issues/21755 */display: inline-block !important;position: relative;}#sk-container-id-1 div.sk-text-repr-fallback {display: none;}</style><div id=\"sk-container-id-1\" class=\"sk-top-container\"><div class=\"sk-text-repr-fallback\"><pre>RandomForestClassifier(random_state=42)</pre><b>In a Jupyter environment, please rerun this cell to show the HTML representation or trust the notebook. <br />On GitHub, the HTML representation is unable to render, please try loading this page with nbviewer.org.</b></div><div class=\"sk-container\" hidden><div class=\"sk-item\"><div class=\"sk-estimator sk-toggleable\"><input class=\"sk-toggleable__control sk-hidden--visually\" id=\"sk-estimator-id-1\" type=\"checkbox\" checked><label for=\"sk-estimator-id-1\" class=\"sk-toggleable__label sk-toggleable__label-arrow\">RandomForestClassifier</label><div class=\"sk-toggleable__content\"><pre>RandomForestClassifier(random_state=42)</pre></div></div></div></div></div>"
            ]
          },
          "metadata": {},
          "execution_count": 75
        }
      ]
    },
    {
      "cell_type": "code",
      "source": [
        "# Evaluate the performance of the classifier on the testing set\n",
        "y_pred = rf_classifier.predict(test_data)\n",
        "accuracy = accuracy_score(y_test, y_pred)\n",
        "print(f'Accuracy: {accuracy}')"
      ],
      "metadata": {
        "colab": {
          "base_uri": "https://localhost:8080/"
        },
        "id": "mLJwmO1pdSmb",
        "outputId": "633c833b-66a6-47bd-d16d-f950e571855b"
      },
      "execution_count": null,
      "outputs": [
        {
          "output_type": "stream",
          "name": "stdout",
          "text": [
            "Accuracy: 0.9417011094191864\n"
          ]
        }
      ]
    },
    {
      "cell_type": "code",
      "source": [
        "# save the model\n",
        "with open(\"/content/drive/MyDrive/ITMO-Master's/Thesis/3rd_semester/Models/rf_classifier\", 'wb') as f:\n",
        "    pickle.dump(rf_classifier, f)"
      ],
      "metadata": {
        "id": "twDQXlTQiWFz"
      },
      "execution_count": null,
      "outputs": []
    },
    {
      "cell_type": "code",
      "source": [
        "# Load the model                                                                                                                                                                                                       \n",
        "\n",
        "with open(\"/content/drive/MyDrive/ITMO-Master's/Thesis/3rd_semester/Models/rf_classifier\", 'rb') as f:\n",
        "    rf = pickle.load(f)"
      ],
      "metadata": {
        "id": "HP7eeIeCiZbC"
      },
      "execution_count": null,
      "outputs": []
    },
    {
      "cell_type": "code",
      "source": [
        "# Checking everything is ok after saving and loading the model\n",
        "# Evaluate the performance of the classifier on the testing set\n",
        "y_pred = rf.predict(test_data)\n",
        "accuracy = accuracy_score(y_test, y_pred)\n",
        "print(f'Accuracy: {accuracy}')"
      ],
      "metadata": {
        "colab": {
          "base_uri": "https://localhost:8080/"
        },
        "id": "9rz3ngVGjSmG",
        "outputId": "55ad8f85-b22a-4d82-cd2f-ca8b507baee2"
      },
      "execution_count": null,
      "outputs": [
        {
          "output_type": "stream",
          "name": "stdout",
          "text": [
            "Accuracy: 0.9417011094191864\n"
          ]
        }
      ]
    },
    {
      "cell_type": "markdown",
      "source": [
        "### Random forest with 200 estimators"
      ],
      "metadata": {
        "id": "lG-NZkN_sBPB"
      }
    },
    {
      "cell_type": "code",
      "source": [
        "# Train a Random Forest classifier on the training set\n",
        "rf_classifier_200 = RandomForestClassifier(n_estimators=200, random_state=42,  n_jobs=2)\n",
        "rf_classifier_200.fit(data, y_train.values.ravel())"
      ],
      "metadata": {
        "colab": {
          "base_uri": "https://localhost:8080/",
          "height": 74
        },
        "id": "tm6AoHSEsF06",
        "outputId": "146a1494-a424-4235-9a07-0dfaa28e3527"
      },
      "execution_count": 48,
      "outputs": [
        {
          "output_type": "execute_result",
          "data": {
            "text/plain": [
              "RandomForestClassifier(n_estimators=200, n_jobs=2)"
            ],
            "text/html": [
              "<style>#sk-container-id-3 {color: black;background-color: white;}#sk-container-id-3 pre{padding: 0;}#sk-container-id-3 div.sk-toggleable {background-color: white;}#sk-container-id-3 label.sk-toggleable__label {cursor: pointer;display: block;width: 100%;margin-bottom: 0;padding: 0.3em;box-sizing: border-box;text-align: center;}#sk-container-id-3 label.sk-toggleable__label-arrow:before {content: \"▸\";float: left;margin-right: 0.25em;color: #696969;}#sk-container-id-3 label.sk-toggleable__label-arrow:hover:before {color: black;}#sk-container-id-3 div.sk-estimator:hover label.sk-toggleable__label-arrow:before {color: black;}#sk-container-id-3 div.sk-toggleable__content {max-height: 0;max-width: 0;overflow: hidden;text-align: left;background-color: #f0f8ff;}#sk-container-id-3 div.sk-toggleable__content pre {margin: 0.2em;color: black;border-radius: 0.25em;background-color: #f0f8ff;}#sk-container-id-3 input.sk-toggleable__control:checked~div.sk-toggleable__content {max-height: 200px;max-width: 100%;overflow: auto;}#sk-container-id-3 input.sk-toggleable__control:checked~label.sk-toggleable__label-arrow:before {content: \"▾\";}#sk-container-id-3 div.sk-estimator input.sk-toggleable__control:checked~label.sk-toggleable__label {background-color: #d4ebff;}#sk-container-id-3 div.sk-label input.sk-toggleable__control:checked~label.sk-toggleable__label {background-color: #d4ebff;}#sk-container-id-3 input.sk-hidden--visually {border: 0;clip: rect(1px 1px 1px 1px);clip: rect(1px, 1px, 1px, 1px);height: 1px;margin: -1px;overflow: hidden;padding: 0;position: absolute;width: 1px;}#sk-container-id-3 div.sk-estimator {font-family: monospace;background-color: #f0f8ff;border: 1px dotted black;border-radius: 0.25em;box-sizing: border-box;margin-bottom: 0.5em;}#sk-container-id-3 div.sk-estimator:hover {background-color: #d4ebff;}#sk-container-id-3 div.sk-parallel-item::after {content: \"\";width: 100%;border-bottom: 1px solid gray;flex-grow: 1;}#sk-container-id-3 div.sk-label:hover label.sk-toggleable__label {background-color: #d4ebff;}#sk-container-id-3 div.sk-serial::before {content: \"\";position: absolute;border-left: 1px solid gray;box-sizing: border-box;top: 0;bottom: 0;left: 50%;z-index: 0;}#sk-container-id-3 div.sk-serial {display: flex;flex-direction: column;align-items: center;background-color: white;padding-right: 0.2em;padding-left: 0.2em;position: relative;}#sk-container-id-3 div.sk-item {position: relative;z-index: 1;}#sk-container-id-3 div.sk-parallel {display: flex;align-items: stretch;justify-content: center;background-color: white;position: relative;}#sk-container-id-3 div.sk-item::before, #sk-container-id-3 div.sk-parallel-item::before {content: \"\";position: absolute;border-left: 1px solid gray;box-sizing: border-box;top: 0;bottom: 0;left: 50%;z-index: -1;}#sk-container-id-3 div.sk-parallel-item {display: flex;flex-direction: column;z-index: 1;position: relative;background-color: white;}#sk-container-id-3 div.sk-parallel-item:first-child::after {align-self: flex-end;width: 50%;}#sk-container-id-3 div.sk-parallel-item:last-child::after {align-self: flex-start;width: 50%;}#sk-container-id-3 div.sk-parallel-item:only-child::after {width: 0;}#sk-container-id-3 div.sk-dashed-wrapped {border: 1px dashed gray;margin: 0 0.4em 0.5em 0.4em;box-sizing: border-box;padding-bottom: 0.4em;background-color: white;}#sk-container-id-3 div.sk-label label {font-family: monospace;font-weight: bold;display: inline-block;line-height: 1.2em;}#sk-container-id-3 div.sk-label-container {text-align: center;}#sk-container-id-3 div.sk-container {/* jupyter's `normalize.less` sets `[hidden] { display: none; }` but bootstrap.min.css set `[hidden] { display: none !important; }` so we also need the `!important` here to be able to override the default hidden behavior on the sphinx rendered scikit-learn.org. See: https://github.com/scikit-learn/scikit-learn/issues/21755 */display: inline-block !important;position: relative;}#sk-container-id-3 div.sk-text-repr-fallback {display: none;}</style><div id=\"sk-container-id-3\" class=\"sk-top-container\"><div class=\"sk-text-repr-fallback\"><pre>RandomForestClassifier(n_estimators=200, n_jobs=2)</pre><b>In a Jupyter environment, please rerun this cell to show the HTML representation or trust the notebook. <br />On GitHub, the HTML representation is unable to render, please try loading this page with nbviewer.org.</b></div><div class=\"sk-container\" hidden><div class=\"sk-item\"><div class=\"sk-estimator sk-toggleable\"><input class=\"sk-toggleable__control sk-hidden--visually\" id=\"sk-estimator-id-3\" type=\"checkbox\" checked><label for=\"sk-estimator-id-3\" class=\"sk-toggleable__label sk-toggleable__label-arrow\">RandomForestClassifier</label><div class=\"sk-toggleable__content\"><pre>RandomForestClassifier(n_estimators=200, n_jobs=2)</pre></div></div></div></div></div>"
            ]
          },
          "metadata": {},
          "execution_count": 48
        }
      ]
    },
    {
      "cell_type": "code",
      "source": [
        "# Evaluate the performance of the classifier on the testing set\n",
        "y_pred = rf_classifier_200.predict(test_data)\n",
        "accuracy = accuracy_score(y_test, y_pred)\n",
        "print(f'Accuracy: {accuracy}')"
      ],
      "metadata": {
        "colab": {
          "base_uri": "https://localhost:8080/"
        },
        "id": "icXE-BhNsj9B",
        "outputId": "76ebe340-7e45-417c-ae10-63926d77d63d"
      },
      "execution_count": 49,
      "outputs": [
        {
          "output_type": "stream",
          "name": "stdout",
          "text": [
            "Accuracy: 0.9417011094191864\n"
          ]
        }
      ]
    },
    {
      "cell_type": "markdown",
      "source": [
        "## Apply hybrid model!"
      ],
      "metadata": {
        "id": "7I3UrLTO32MD"
      }
    },
    {
      "cell_type": "markdown",
      "source": [
        "The approach I am trying to perform here is to use a deep learning model such as a Convolutional Neural Network (CNN) or a Recurrent Neural Network (RNN) to classify the sequences in the first column. \n",
        "\n",
        "The other 3 numeric columns can be concatenated with the output of the CNN (or RNN) and fed into a fully connected neural network for classification. "
      ],
      "metadata": {
        "id": "FzSUDzT65opU"
      }
    },
    {
      "cell_type": "code",
      "source": [
        "X_test_seq = np.reshape( np.asarray(scaled_test_data), (np.asarray(scaled_test_data).shape[0], np.asarray(scaled_test_data).shape[1], 1))\n"
      ],
      "metadata": {
        "id": "DkSm4NUpm4MR"
      },
      "execution_count": 40,
      "outputs": []
    },
    {
      "cell_type": "code",
      "source": [
        "# Reshape the sequences to be 3-dimensional (samples, timesteps, features)\n",
        "X_train_seq = np.reshape((np.asarray(scaled_data)), ( (np.asarray(scaled_data)).shape[0], (np.asarray(scaled_data)).shape[1], 1))\n",
        "X_test_seq = np.reshape( np.asarray(scaled_test_data), (np.asarray(scaled_test_data).shape[0], np.asarray(scaled_test_data).shape[1], 1))\n",
        "\n",
        "# Define the input shape for the CNN\n",
        "input_shape = (X_train_seq.shape[1], 1)\n",
        "\n",
        "\n",
        "# Define the CNN model\n",
        "cnn_input = Input(shape=input_shape)\n",
        "conv1 = Conv1D(filters=32, kernel_size=3, activation='relu')(cnn_input)\n",
        "pool1 = MaxPooling1D(pool_size=2)(conv1)\n",
        "conv2 = Conv1D(filters=64, kernel_size=3, activation='relu')(pool1)\n",
        "pool2 = MaxPooling1D(pool_size=2)(conv2)\n",
        "flatten = Flatten()(pool2)\n",
        "\n",
        "cnn_output = Dense(128, activation='relu')(flatten)\n",
        "\n",
        "cnn_model = Model(inputs=cnn_input, outputs=cnn_output)\n",
        "\n",
        "# Define the fully connected model\n",
        "\n",
        "fc_input = Input(shape=(itemized_train_data.shape[1]-1,))\n",
        "\n",
        "concat = Concatenate()([cnn_output, fc_input])\n",
        "dense1 = Dense(64, activation='relu')(concat)\n",
        "dropout = Dropout(0.5)(dense1)\n",
        "fc_output = Dense(1, activation='sigmoid')(dropout)\n",
        "fc_model = Model(inputs=[cnn_input, fc_input], outputs=fc_output)\n",
        "\n",
        "# Compile the model\n",
        "optimizer = Adam(learning_rate=0.001)\n",
        "fc_model.compile(optimizer=optimizer, loss='binary_crossentropy', metrics=['accuracy'])"
      ],
      "metadata": {
        "id": "owAqJFzN34zF"
      },
      "execution_count": null,
      "outputs": []
    },
    {
      "cell_type": "code",
      "source": [
        "x = np.asarray(itemized_train_data[:,1:]).astype('float32')"
      ],
      "metadata": {
        "id": "eVn5z2lGdzv1"
      },
      "execution_count": null,
      "outputs": []
    },
    {
      "cell_type": "code",
      "source": [
        "# Train the model\n",
        "early_stopping = EarlyStopping(monitor='val_loss', patience=5)\n",
        "history = fc_model.fit([X_train_seq, x], y_train, validation_split=0.2, epochs=50, batch_size=32, callbacks=[early_stopping])"
      ],
      "metadata": {
        "id": "YoVNlQzVZyrl",
        "colab": {
          "base_uri": "https://localhost:8080/"
        },
        "outputId": "769eaa18-cf3a-47a5-d355-500e8e497cc2"
      },
      "execution_count": null,
      "outputs": [
        {
          "output_type": "stream",
          "name": "stdout",
          "text": [
            "Epoch 1/50\n",
            "345/345 [==============================] - 16s 36ms/step - loss: 4.4989 - accuracy: 0.6666 - val_loss: 0.6245 - val_accuracy: 0.6925\n",
            "Epoch 2/50\n",
            "345/345 [==============================] - 12s 34ms/step - loss: 0.9359 - accuracy: 0.6967 - val_loss: 0.5896 - val_accuracy: 0.6933\n",
            "Epoch 3/50\n",
            "345/345 [==============================] - 12s 36ms/step - loss: 0.6579 - accuracy: 0.6953 - val_loss: 0.6285 - val_accuracy: 0.6875\n",
            "Epoch 4/50\n",
            "345/345 [==============================] - 11s 33ms/step - loss: 0.5937 - accuracy: 0.6963 - val_loss: 0.5629 - val_accuracy: 0.6911\n",
            "Epoch 5/50\n",
            "345/345 [==============================] - 12s 36ms/step - loss: 0.6408 - accuracy: 0.6933 - val_loss: 0.5784 - val_accuracy: 0.6846\n",
            "Epoch 6/50\n",
            "345/345 [==============================] - 12s 35ms/step - loss: 0.6113 - accuracy: 0.6916 - val_loss: 0.6196 - val_accuracy: 0.6827\n",
            "Epoch 7/50\n",
            "345/345 [==============================] - 12s 35ms/step - loss: 0.5853 - accuracy: 0.6918 - val_loss: 0.6023 - val_accuracy: 0.6827\n",
            "Epoch 8/50\n",
            "345/345 [==============================] - 12s 36ms/step - loss: 0.5801 - accuracy: 0.6918 - val_loss: 0.6015 - val_accuracy: 0.6827\n",
            "Epoch 9/50\n",
            "345/345 [==============================] - 12s 35ms/step - loss: 0.6066 - accuracy: 0.6923 - val_loss: 0.5544 - val_accuracy: 0.6846\n",
            "Epoch 10/50\n",
            "345/345 [==============================] - 12s 34ms/step - loss: 0.5740 - accuracy: 0.6925 - val_loss: 0.5729 - val_accuracy: 0.6831\n",
            "Epoch 11/50\n",
            "345/345 [==============================] - 12s 35ms/step - loss: 0.5800 - accuracy: 0.6918 - val_loss: 0.5718 - val_accuracy: 0.6831\n",
            "Epoch 12/50\n",
            "345/345 [==============================] - 13s 37ms/step - loss: 0.5710 - accuracy: 0.6921 - val_loss: 0.5495 - val_accuracy: 0.6831\n",
            "Epoch 13/50\n",
            "345/345 [==============================] - 12s 36ms/step - loss: 0.5686 - accuracy: 0.6920 - val_loss: 0.5403 - val_accuracy: 0.6846\n",
            "Epoch 14/50\n",
            "345/345 [==============================] - 14s 40ms/step - loss: 0.5579 - accuracy: 0.6923 - val_loss: 0.5336 - val_accuracy: 0.6831\n",
            "Epoch 15/50\n",
            "345/345 [==============================] - 12s 35ms/step - loss: 0.5509 - accuracy: 0.6922 - val_loss: 0.5265 - val_accuracy: 0.6831\n",
            "Epoch 16/50\n",
            "345/345 [==============================] - 12s 35ms/step - loss: 0.5453 - accuracy: 0.6919 - val_loss: 0.5431 - val_accuracy: 0.6827\n",
            "Epoch 17/50\n",
            "345/345 [==============================] - 11s 33ms/step - loss: 0.5436 - accuracy: 0.6918 - val_loss: 0.5197 - val_accuracy: 0.6827\n",
            "Epoch 18/50\n",
            "345/345 [==============================] - 12s 33ms/step - loss: 0.5478 - accuracy: 0.6920 - val_loss: 0.5172 - val_accuracy: 0.6831\n",
            "Epoch 19/50\n",
            "345/345 [==============================] - 11s 33ms/step - loss: 0.5354 - accuracy: 0.6918 - val_loss: 0.6554 - val_accuracy: 0.6827\n",
            "Epoch 20/50\n",
            "345/345 [==============================] - 13s 38ms/step - loss: 0.5272 - accuracy: 0.6918 - val_loss: 0.6633 - val_accuracy: 0.6827\n",
            "Epoch 21/50\n",
            "345/345 [==============================] - 17s 49ms/step - loss: 0.5248 - accuracy: 0.6918 - val_loss: 0.6576 - val_accuracy: 0.6827\n",
            "Epoch 22/50\n",
            "345/345 [==============================] - 12s 34ms/step - loss: 0.5749 - accuracy: 0.6918 - val_loss: 0.5142 - val_accuracy: 0.6827\n",
            "Epoch 23/50\n",
            "345/345 [==============================] - 15s 43ms/step - loss: 0.5243 - accuracy: 0.6916 - val_loss: 0.5058 - val_accuracy: 0.6827\n",
            "Epoch 24/50\n",
            "345/345 [==============================] - 12s 35ms/step - loss: 0.5150 - accuracy: 0.6918 - val_loss: 0.5011 - val_accuracy: 0.6827\n",
            "Epoch 25/50\n",
            "345/345 [==============================] - 17s 49ms/step - loss: 0.5080 - accuracy: 0.6918 - val_loss: 0.5065 - val_accuracy: 0.6827\n",
            "Epoch 26/50\n",
            "345/345 [==============================] - 13s 37ms/step - loss: 0.4947 - accuracy: 0.6919 - val_loss: 0.4980 - val_accuracy: 0.6831\n",
            "Epoch 27/50\n",
            "345/345 [==============================] - 16s 46ms/step - loss: 0.4870 - accuracy: 0.6920 - val_loss: 0.4908 - val_accuracy: 0.6827\n",
            "Epoch 28/50\n",
            "345/345 [==============================] - 12s 35ms/step - loss: 0.4778 - accuracy: 0.7377 - val_loss: 0.4786 - val_accuracy: 0.7770\n",
            "Epoch 29/50\n",
            "345/345 [==============================] - 12s 36ms/step - loss: 0.4657 - accuracy: 0.7598 - val_loss: 0.4873 - val_accuracy: 0.7991\n",
            "Epoch 30/50\n",
            "345/345 [==============================] - 13s 36ms/step - loss: 0.4630 - accuracy: 0.7688 - val_loss: 0.4676 - val_accuracy: 0.8165\n",
            "Epoch 31/50\n",
            "345/345 [==============================] - 17s 48ms/step - loss: 0.4575 - accuracy: 0.7777 - val_loss: 0.4660 - val_accuracy: 0.8281\n",
            "Epoch 32/50\n",
            "345/345 [==============================] - 14s 41ms/step - loss: 0.4454 - accuracy: 0.7817 - val_loss: 0.4732 - val_accuracy: 0.8220\n",
            "Epoch 33/50\n",
            "345/345 [==============================] - 13s 36ms/step - loss: 0.4303 - accuracy: 0.7931 - val_loss: 0.4413 - val_accuracy: 0.8426\n",
            "Epoch 34/50\n",
            "345/345 [==============================] - 12s 35ms/step - loss: 0.4368 - accuracy: 0.7970 - val_loss: 0.4518 - val_accuracy: 0.8383\n",
            "Epoch 35/50\n",
            "345/345 [==============================] - 16s 45ms/step - loss: 0.4335 - accuracy: 0.8005 - val_loss: 0.4375 - val_accuracy: 0.8437\n",
            "Epoch 36/50\n",
            "345/345 [==============================] - 12s 36ms/step - loss: 0.4207 - accuracy: 0.8085 - val_loss: 0.4182 - val_accuracy: 0.8557\n",
            "Epoch 37/50\n",
            "345/345 [==============================] - 12s 35ms/step - loss: 0.4172 - accuracy: 0.8123 - val_loss: 0.4348 - val_accuracy: 0.8390\n",
            "Epoch 38/50\n",
            "345/345 [==============================] - 13s 38ms/step - loss: 0.4101 - accuracy: 0.8144 - val_loss: 0.3875 - val_accuracy: 0.8626\n",
            "Epoch 39/50\n",
            "345/345 [==============================] - 13s 36ms/step - loss: 0.4119 - accuracy: 0.8114 - val_loss: 0.4048 - val_accuracy: 0.8586\n",
            "Epoch 40/50\n",
            "345/345 [==============================] - 12s 36ms/step - loss: 0.3977 - accuracy: 0.8241 - val_loss: 0.3897 - val_accuracy: 0.8698\n",
            "Epoch 41/50\n",
            "345/345 [==============================] - 13s 38ms/step - loss: 0.3886 - accuracy: 0.8299 - val_loss: 0.4119 - val_accuracy: 0.8586\n",
            "Epoch 42/50\n",
            "345/345 [==============================] - 12s 36ms/step - loss: 0.3960 - accuracy: 0.8248 - val_loss: 0.3838 - val_accuracy: 0.8814\n",
            "Epoch 43/50\n",
            "345/345 [==============================] - 12s 34ms/step - loss: 0.3837 - accuracy: 0.8379 - val_loss: 0.4014 - val_accuracy: 0.8655\n",
            "Epoch 44/50\n",
            "345/345 [==============================] - 12s 35ms/step - loss: 0.3798 - accuracy: 0.8413 - val_loss: 0.3744 - val_accuracy: 0.8909\n",
            "Epoch 45/50\n",
            "345/345 [==============================] - 13s 38ms/step - loss: 0.3759 - accuracy: 0.8421 - val_loss: 0.3562 - val_accuracy: 0.8883\n",
            "Epoch 46/50\n",
            "345/345 [==============================] - 13s 38ms/step - loss: 0.3606 - accuracy: 0.8490 - val_loss: 0.3649 - val_accuracy: 0.8854\n",
            "Epoch 47/50\n",
            "345/345 [==============================] - 12s 35ms/step - loss: 0.3622 - accuracy: 0.8451 - val_loss: 0.3434 - val_accuracy: 0.8916\n",
            "Epoch 48/50\n",
            "345/345 [==============================] - 12s 34ms/step - loss: 0.3526 - accuracy: 0.8568 - val_loss: 0.3496 - val_accuracy: 0.8930\n",
            "Epoch 49/50\n",
            "345/345 [==============================] - 11s 33ms/step - loss: 0.3419 - accuracy: 0.8626 - val_loss: 0.3339 - val_accuracy: 0.9028\n",
            "Epoch 50/50\n",
            "345/345 [==============================] - 11s 33ms/step - loss: 0.3252 - accuracy: 0.8740 - val_loss: 0.3211 - val_accuracy: 0.9014\n"
          ]
        }
      ]
    },
    {
      "cell_type": "code",
      "source": [
        "# Evaluate the performance of the model on the testing set\n",
        "#X_test_seq = np.expand_dims(X_test.iloc[:,0].values, axis=2)\n",
        "x_test_features = np.asarray(itemized_test_data[:,1:]).astype('float32')\n",
        "accuracy = fc_model.evaluate([X_test_seq, x_test_features], y_test)[1]\n",
        "print(f'Accuracy: {accuracy}')"
      ],
      "metadata": {
        "id": "Q1IJfxmjZ0ad",
        "colab": {
          "base_uri": "https://localhost:8080/"
        },
        "outputId": "a5bf1d5e-420a-4d93-9685-383bf3e26d37"
      },
      "execution_count": null,
      "outputs": [
        {
          "output_type": "stream",
          "name": "stdout",
          "text": [
            "144/144 [==============================] - 2s 11ms/step - loss: 0.4425 - accuracy: 0.8936\n",
            "Accuracy: 0.8936262726783752\n"
          ]
        }
      ]
    },
    {
      "cell_type": "code",
      "source": [
        "print(fc_model.summary())"
      ],
      "metadata": {
        "colab": {
          "base_uri": "https://localhost:8080/"
        },
        "id": "loA7UTO7e2el",
        "outputId": "c8eeb9a4-f494-4ba7-b420-8d764660c9ac"
      },
      "execution_count": null,
      "outputs": [
        {
          "output_type": "stream",
          "name": "stdout",
          "text": [
            "Model: \"model_3\"\n",
            "__________________________________________________________________________________________________\n",
            " Layer (type)                   Output Shape         Param #     Connected to                     \n",
            "==================================================================================================\n",
            " input_3 (InputLayer)           [(None, 747, 1)]     0           []                               \n",
            "                                                                                                  \n",
            " conv1d_5 (Conv1D)              (None, 745, 32)      128         ['input_3[0][0]']                \n",
            "                                                                                                  \n",
            " max_pooling1d_5 (MaxPooling1D)  (None, 372, 32)     0           ['conv1d_5[0][0]']               \n",
            "                                                                                                  \n",
            " conv1d_6 (Conv1D)              (None, 370, 64)      6208        ['max_pooling1d_5[0][0]']        \n",
            "                                                                                                  \n",
            " max_pooling1d_6 (MaxPooling1D)  (None, 185, 64)     0           ['conv1d_6[0][0]']               \n",
            "                                                                                                  \n",
            " flatten_4 (Flatten)            (None, 11840)        0           ['max_pooling1d_6[0][0]']        \n",
            "                                                                                                  \n",
            " dense_16 (Dense)               (None, 128)          1515648     ['flatten_4[0][0]']              \n",
            "                                                                                                  \n",
            " input_4 (InputLayer)           [(None, 3)]          0           []                               \n",
            "                                                                                                  \n",
            " concatenate_1 (Concatenate)    (None, 131)          0           ['dense_16[0][0]',               \n",
            "                                                                  'input_4[0][0]']                \n",
            "                                                                                                  \n",
            " dense_17 (Dense)               (None, 64)           8448        ['concatenate_1[0][0]']          \n",
            "                                                                                                  \n",
            " dropout_1 (Dropout)            (None, 64)           0           ['dense_17[0][0]']               \n",
            "                                                                                                  \n",
            " dense_18 (Dense)               (None, 1)            65          ['dropout_1[0][0]']              \n",
            "                                                                                                  \n",
            "==================================================================================================\n",
            "Total params: 1,530,497\n",
            "Trainable params: 1,530,497\n",
            "Non-trainable params: 0\n",
            "__________________________________________________________________________________________________\n",
            "None\n"
          ]
        }
      ]
    },
    {
      "cell_type": "code",
      "source": [
        "plot_model(fc_model, to_file=\"/content/drive/MyDrive/ITMO-Master's/Thesis/3rd_semester/Models/combined_model.png\", show_shapes=True, show_layer_names=True)"
      ],
      "metadata": {
        "colab": {
          "base_uri": "https://localhost:8080/",
          "height": 1000
        },
        "id": "ui727u5Be3l_",
        "outputId": "ae848295-0933-4b57-f782-bdc0c95f5685"
      },
      "execution_count": null,
      "outputs": [
        {
          "output_type": "execute_result",
          "data": {
            "image/png": "[encoded data removed]",
            "text/plain": [
              "<IPython.core.display.Image object>"
            ]
          },
          "metadata": {},
          "execution_count": 74
        }
      ]
    },
    {
      "cell_type": "code",
      "source": [
        "# save the model\n",
        "fc_model.save(\"/content/drive/MyDrive/ITMO-Master's/Thesis/3rd_semester/Models/combined_model\")\n"
      ],
      "metadata": {
        "colab": {
          "base_uri": "https://localhost:8080/"
        },
        "id": "XnsaOlate49p",
        "outputId": "6409ad79-0cde-452a-d54d-cb2aae05c70a"
      },
      "execution_count": null,
      "outputs": [
        {
          "output_type": "stream",
          "name": "stderr",
          "text": [
            "WARNING:absl:Found untraced functions such as _jit_compiled_convolution_op, _jit_compiled_convolution_op while saving (showing 2 of 2). These functions will not be directly callable after loading.\n"
          ]
        }
      ]
    },
    {
      "cell_type": "code",
      "source": [
        "# load the model\n",
        "loaded_fc_model = keras.models.load_model(\"/content/drive/MyDrive/ITMO-Master's/Thesis/3rd_semester/Models/combined_model\")\n"
      ],
      "metadata": {
        "id": "XM4uVOw5i9co"
      },
      "execution_count": 38,
      "outputs": []
    },
    {
      "cell_type": "code",
      "source": [
        "# check the loaded model\n",
        "accuracy = loaded_fc_model.evaluate([X_test_seq, x_test_features], y_test)[1]\n",
        "print(f'Accuracy: {accuracy}')"
      ],
      "metadata": {
        "colab": {
          "base_uri": "https://localhost:8080/"
        },
        "id": "KAlYTtpEfFh-",
        "outputId": "de39fef0-6015-4519-adeb-ddbfd1048580"
      },
      "execution_count": null,
      "outputs": [
        {
          "output_type": "stream",
          "name": "stdout",
          "text": [
            "144/144 [==============================] - 2s 13ms/step - loss: 0.4425 - accuracy: 0.8936\n",
            "Accuracy: 0.8936262726783752\n"
          ]
        }
      ]
    },
    {
      "cell_type": "markdown",
      "source": [
        "## Apply Foourier transformation then RF (or SVM)"
      ],
      "metadata": {
        "id": "cfMO4_2F35P-"
      }
    },
    {
      "cell_type": "markdown",
      "source": [
        "Here I am trying to use a traditional machine learning algorithm (Random Forest or Support Vector Machines (SVM)) to classify the data. In this case, the time series sequence in the first column can be transformed into features using techniques such as Fourier Transform or Wavelet Transform."
      ],
      "metadata": {
        "id": "OKXiOjD7sYvs"
      }
    },
    {
      "cell_type": "markdown",
      "source": [
        "### Applying Fourier transformation on scaled stances"
      ],
      "metadata": {
        "id": "zhm5bpQfxO-B"
      }
    },
    {
      "cell_type": "code",
      "source": [
        "# Define a function to apply Fourier Transform to the sequence data\n",
        "def apply_fourier_transform(data):\n",
        "    transformed_data = []\n",
        "    for row in data:\n",
        "        transformed_row = np.abs(fft(row))\n",
        "        transformed_data.append(transformed_row)\n",
        "    return np.array(transformed_data)"
      ],
      "metadata": {
        "id": "w72R1_vkuYog"
      },
      "execution_count": 51,
      "outputs": []
    },
    {
      "cell_type": "code",
      "source": [
        "# Apply Fourier Transform to the sequence data in the first column\n",
        "X_train_seq = apply_fourier_transform(scaled_data)\n",
        "X_test_seq = apply_fourier_transform(scaled_test_data)\n"
      ],
      "metadata": {
        "id": "GId5Ios7sYiP"
      },
      "execution_count": null,
      "outputs": []
    },
    {
      "cell_type": "code",
      "source": [
        "# Concatenate the transformed sequence data with the other 3 numeric columns\n",
        "X_train_concat = np.concatenate((X_train_seq, itemized_train_data[:,1:]), axis=1)\n",
        "X_test_concat = np.concatenate((X_test_seq, itemized_test_data[:,1:]), axis=1)"
      ],
      "metadata": {
        "id": "SOsCyRaz3-nR"
      },
      "execution_count": null,
      "outputs": []
    },
    {
      "cell_type": "code",
      "source": [
        "# Train a Random Forest classifier on the concatenated data\n",
        "rf_classifier = RandomForestClassifier(n_estimators=100, random_state=42)\n",
        "rf_classifier.fit(X_train_concat, y_train.values.ravel())"
      ],
      "metadata": {
        "colab": {
          "base_uri": "https://localhost:8080/",
          "height": 75
        },
        "id": "hg4LtGasvOs4",
        "outputId": "04e98179-f9bb-430f-f2fb-0c7b8e236653"
      },
      "execution_count": null,
      "outputs": [
        {
          "output_type": "execute_result",
          "data": {
            "text/plain": [
              "RandomForestClassifier(random_state=42)"
            ],
            "text/html": [
              "<style>#sk-container-id-1 {color: black;background-color: white;}#sk-container-id-1 pre{padding: 0;}#sk-container-id-1 div.sk-toggleable {background-color: white;}#sk-container-id-1 label.sk-toggleable__label {cursor: pointer;display: block;width: 100%;margin-bottom: 0;padding: 0.3em;box-sizing: border-box;text-align: center;}#sk-container-id-1 label.sk-toggleable__label-arrow:before {content: \"▸\";float: left;margin-right: 0.25em;color: #696969;}#sk-container-id-1 label.sk-toggleable__label-arrow:hover:before {color: black;}#sk-container-id-1 div.sk-estimator:hover label.sk-toggleable__label-arrow:before {color: black;}#sk-container-id-1 div.sk-toggleable__content {max-height: 0;max-width: 0;overflow: hidden;text-align: left;background-color: #f0f8ff;}#sk-container-id-1 div.sk-toggleable__content pre {margin: 0.2em;color: black;border-radius: 0.25em;background-color: #f0f8ff;}#sk-container-id-1 input.sk-toggleable__control:checked~div.sk-toggleable__content {max-height: 200px;max-width: 100%;overflow: auto;}#sk-container-id-1 input.sk-toggleable__control:checked~label.sk-toggleable__label-arrow:before {content: \"▾\";}#sk-container-id-1 div.sk-estimator input.sk-toggleable__control:checked~label.sk-toggleable__label {background-color: #d4ebff;}#sk-container-id-1 div.sk-label input.sk-toggleable__control:checked~label.sk-toggleable__label {background-color: #d4ebff;}#sk-container-id-1 input.sk-hidden--visually {border: 0;clip: rect(1px 1px 1px 1px);clip: rect(1px, 1px, 1px, 1px);height: 1px;margin: -1px;overflow: hidden;padding: 0;position: absolute;width: 1px;}#sk-container-id-1 div.sk-estimator {font-family: monospace;background-color: #f0f8ff;border: 1px dotted black;border-radius: 0.25em;box-sizing: border-box;margin-bottom: 0.5em;}#sk-container-id-1 div.sk-estimator:hover {background-color: #d4ebff;}#sk-container-id-1 div.sk-parallel-item::after {content: \"\";width: 100%;border-bottom: 1px solid gray;flex-grow: 1;}#sk-container-id-1 div.sk-label:hover label.sk-toggleable__label {background-color: #d4ebff;}#sk-container-id-1 div.sk-serial::before {content: \"\";position: absolute;border-left: 1px solid gray;box-sizing: border-box;top: 0;bottom: 0;left: 50%;z-index: 0;}#sk-container-id-1 div.sk-serial {display: flex;flex-direction: column;align-items: center;background-color: white;padding-right: 0.2em;padding-left: 0.2em;position: relative;}#sk-container-id-1 div.sk-item {position: relative;z-index: 1;}#sk-container-id-1 div.sk-parallel {display: flex;align-items: stretch;justify-content: center;background-color: white;position: relative;}#sk-container-id-1 div.sk-item::before, #sk-container-id-1 div.sk-parallel-item::before {content: \"\";position: absolute;border-left: 1px solid gray;box-sizing: border-box;top: 0;bottom: 0;left: 50%;z-index: -1;}#sk-container-id-1 div.sk-parallel-item {display: flex;flex-direction: column;z-index: 1;position: relative;background-color: white;}#sk-container-id-1 div.sk-parallel-item:first-child::after {align-self: flex-end;width: 50%;}#sk-container-id-1 div.sk-parallel-item:last-child::after {align-self: flex-start;width: 50%;}#sk-container-id-1 div.sk-parallel-item:only-child::after {width: 0;}#sk-container-id-1 div.sk-dashed-wrapped {border: 1px dashed gray;margin: 0 0.4em 0.5em 0.4em;box-sizing: border-box;padding-bottom: 0.4em;background-color: white;}#sk-container-id-1 div.sk-label label {font-family: monospace;font-weight: bold;display: inline-block;line-height: 1.2em;}#sk-container-id-1 div.sk-label-container {text-align: center;}#sk-container-id-1 div.sk-container {/* jupyter's `normalize.less` sets `[hidden] { display: none; }` but bootstrap.min.css set `[hidden] { display: none !important; }` so we also need the `!important` here to be able to override the default hidden behavior on the sphinx rendered scikit-learn.org. See: https://github.com/scikit-learn/scikit-learn/issues/21755 */display: inline-block !important;position: relative;}#sk-container-id-1 div.sk-text-repr-fallback {display: none;}</style><div id=\"sk-container-id-1\" class=\"sk-top-container\"><div class=\"sk-text-repr-fallback\"><pre>RandomForestClassifier(random_state=42)</pre><b>In a Jupyter environment, please rerun this cell to show the HTML representation or trust the notebook. <br />On GitHub, the HTML representation is unable to render, please try loading this page with nbviewer.org.</b></div><div class=\"sk-container\" hidden><div class=\"sk-item\"><div class=\"sk-estimator sk-toggleable\"><input class=\"sk-toggleable__control sk-hidden--visually\" id=\"sk-estimator-id-1\" type=\"checkbox\" checked><label for=\"sk-estimator-id-1\" class=\"sk-toggleable__label sk-toggleable__label-arrow\">RandomForestClassifier</label><div class=\"sk-toggleable__content\"><pre>RandomForestClassifier(random_state=42)</pre></div></div></div></div></div>"
            ]
          },
          "metadata": {},
          "execution_count": 86
        }
      ]
    },
    {
      "cell_type": "code",
      "source": [
        "# Evaluate the performance of the classifier on the testing set\n",
        "y_pred = rf_classifier.predict(X_test_concat)\n",
        "accuracy = accuracy_score(y_test, y_pred)\n",
        "print(f'Accuracy: {accuracy}')"
      ],
      "metadata": {
        "colab": {
          "base_uri": "https://localhost:8080/"
        },
        "id": "-yt7DgrTvbaO",
        "outputId": "d9a128b9-8ad0-4dcc-a30b-7db614ca1cfd"
      },
      "execution_count": null,
      "outputs": [
        {
          "output_type": "stream",
          "name": "stdout",
          "text": [
            "Accuracy: 0.8696976288884055\n"
          ]
        }
      ]
    },
    {
      "cell_type": "markdown",
      "source": [
        "### Applying Fourier transformation on padded stances"
      ],
      "metadata": {
        "id": "g_1dBp4PwGoZ"
      }
    },
    {
      "cell_type": "code",
      "source": [
        "# Apply Fourier Transform to the sequence data in the first column\n",
        "X_train_seq = apply_fourier_transform(X_train['padded_stances'].values)\n",
        "X_test_seq = apply_fourier_transform(X_test['padded_stances'].values)\n"
      ],
      "metadata": {
        "id": "_g2fWlG6wG74"
      },
      "execution_count": 52,
      "outputs": []
    },
    {
      "cell_type": "code",
      "source": [
        "# Concatenate the transformed sequence data with the other 3 numeric columns\n",
        "X_train_concat = np.concatenate((X_train_seq, itemized_train_data[:,1:]), axis=1)\n",
        "X_test_concat = np.concatenate((X_test_seq, itemized_test_data[:,1:]), axis=1)"
      ],
      "metadata": {
        "id": "7NYJuqJKwV20"
      },
      "execution_count": 53,
      "outputs": []
    },
    {
      "cell_type": "markdown",
      "source": [
        "RF with 100 estimators"
      ],
      "metadata": {
        "id": "JfxcD30fttSC"
      }
    },
    {
      "cell_type": "code",
      "source": [
        "# Train a Random Forest classifier on the concatenated data\n",
        "rf_classifier = RandomForestClassifier(n_estimators=100, random_state=42)\n",
        "rf_classifier.fit(X_train_concat, y_train.values.ravel())"
      ],
      "metadata": {
        "colab": {
          "base_uri": "https://localhost:8080/",
          "height": 75
        },
        "id": "JK6YxOUTwgeB",
        "outputId": "1e222698-e849-4ab1-9467-272e12c5bc50"
      },
      "execution_count": null,
      "outputs": [
        {
          "output_type": "execute_result",
          "data": {
            "text/plain": [
              "RandomForestClassifier(random_state=42)"
            ],
            "text/html": [
              "<style>#sk-container-id-2 {color: black;background-color: white;}#sk-container-id-2 pre{padding: 0;}#sk-container-id-2 div.sk-toggleable {background-color: white;}#sk-container-id-2 label.sk-toggleable__label {cursor: pointer;display: block;width: 100%;margin-bottom: 0;padding: 0.3em;box-sizing: border-box;text-align: center;}#sk-container-id-2 label.sk-toggleable__label-arrow:before {content: \"▸\";float: left;margin-right: 0.25em;color: #696969;}#sk-container-id-2 label.sk-toggleable__label-arrow:hover:before {color: black;}#sk-container-id-2 div.sk-estimator:hover label.sk-toggleable__label-arrow:before {color: black;}#sk-container-id-2 div.sk-toggleable__content {max-height: 0;max-width: 0;overflow: hidden;text-align: left;background-color: #f0f8ff;}#sk-container-id-2 div.sk-toggleable__content pre {margin: 0.2em;color: black;border-radius: 0.25em;background-color: #f0f8ff;}#sk-container-id-2 input.sk-toggleable__control:checked~div.sk-toggleable__content {max-height: 200px;max-width: 100%;overflow: auto;}#sk-container-id-2 input.sk-toggleable__control:checked~label.sk-toggleable__label-arrow:before {content: \"▾\";}#sk-container-id-2 div.sk-estimator input.sk-toggleable__control:checked~label.sk-toggleable__label {background-color: #d4ebff;}#sk-container-id-2 div.sk-label input.sk-toggleable__control:checked~label.sk-toggleable__label {background-color: #d4ebff;}#sk-container-id-2 input.sk-hidden--visually {border: 0;clip: rect(1px 1px 1px 1px);clip: rect(1px, 1px, 1px, 1px);height: 1px;margin: -1px;overflow: hidden;padding: 0;position: absolute;width: 1px;}#sk-container-id-2 div.sk-estimator {font-family: monospace;background-color: #f0f8ff;border: 1px dotted black;border-radius: 0.25em;box-sizing: border-box;margin-bottom: 0.5em;}#sk-container-id-2 div.sk-estimator:hover {background-color: #d4ebff;}#sk-container-id-2 div.sk-parallel-item::after {content: \"\";width: 100%;border-bottom: 1px solid gray;flex-grow: 1;}#sk-container-id-2 div.sk-label:hover label.sk-toggleable__label {background-color: #d4ebff;}#sk-container-id-2 div.sk-serial::before {content: \"\";position: absolute;border-left: 1px solid gray;box-sizing: border-box;top: 0;bottom: 0;left: 50%;z-index: 0;}#sk-container-id-2 div.sk-serial {display: flex;flex-direction: column;align-items: center;background-color: white;padding-right: 0.2em;padding-left: 0.2em;position: relative;}#sk-container-id-2 div.sk-item {position: relative;z-index: 1;}#sk-container-id-2 div.sk-parallel {display: flex;align-items: stretch;justify-content: center;background-color: white;position: relative;}#sk-container-id-2 div.sk-item::before, #sk-container-id-2 div.sk-parallel-item::before {content: \"\";position: absolute;border-left: 1px solid gray;box-sizing: border-box;top: 0;bottom: 0;left: 50%;z-index: -1;}#sk-container-id-2 div.sk-parallel-item {display: flex;flex-direction: column;z-index: 1;position: relative;background-color: white;}#sk-container-id-2 div.sk-parallel-item:first-child::after {align-self: flex-end;width: 50%;}#sk-container-id-2 div.sk-parallel-item:last-child::after {align-self: flex-start;width: 50%;}#sk-container-id-2 div.sk-parallel-item:only-child::after {width: 0;}#sk-container-id-2 div.sk-dashed-wrapped {border: 1px dashed gray;margin: 0 0.4em 0.5em 0.4em;box-sizing: border-box;padding-bottom: 0.4em;background-color: white;}#sk-container-id-2 div.sk-label label {font-family: monospace;font-weight: bold;display: inline-block;line-height: 1.2em;}#sk-container-id-2 div.sk-label-container {text-align: center;}#sk-container-id-2 div.sk-container {/* jupyter's `normalize.less` sets `[hidden] { display: none; }` but bootstrap.min.css set `[hidden] { display: none !important; }` so we also need the `!important` here to be able to override the default hidden behavior on the sphinx rendered scikit-learn.org. See: https://github.com/scikit-learn/scikit-learn/issues/21755 */display: inline-block !important;position: relative;}#sk-container-id-2 div.sk-text-repr-fallback {display: none;}</style><div id=\"sk-container-id-2\" class=\"sk-top-container\"><div class=\"sk-text-repr-fallback\"><pre>RandomForestClassifier(random_state=42)</pre><b>In a Jupyter environment, please rerun this cell to show the HTML representation or trust the notebook. <br />On GitHub, the HTML representation is unable to render, please try loading this page with nbviewer.org.</b></div><div class=\"sk-container\" hidden><div class=\"sk-item\"><div class=\"sk-estimator sk-toggleable\"><input class=\"sk-toggleable__control sk-hidden--visually\" id=\"sk-estimator-id-2\" type=\"checkbox\" checked><label for=\"sk-estimator-id-2\" class=\"sk-toggleable__label sk-toggleable__label-arrow\">RandomForestClassifier</label><div class=\"sk-toggleable__content\"><pre>RandomForestClassifier(random_state=42)</pre></div></div></div></div></div>"
            ]
          },
          "metadata": {},
          "execution_count": 95
        }
      ]
    },
    {
      "cell_type": "code",
      "source": [
        "# Evaluate the performance of the classifier on the testing set\n",
        "y_pred = rf_classifier.predict(X_test_concat)\n",
        "accuracy = accuracy_score(y_test, y_pred)\n",
        "print(f'Accuracy: {accuracy}')"
      ],
      "metadata": {
        "colab": {
          "base_uri": "https://localhost:8080/"
        },
        "id": "a-AeuM86whvM",
        "outputId": "ab019e61-c70d-494d-88c1-70c3677d697d"
      },
      "execution_count": null,
      "outputs": [
        {
          "output_type": "stream",
          "name": "stdout",
          "text": [
            "Accuracy: 0.9169023276049597\n"
          ]
        }
      ]
    },
    {
      "cell_type": "code",
      "source": [
        "# save the model\n",
        "with open(\"/content/drive/MyDrive/ITMO-Master's/Thesis/3rd_semester/Models/rf_classifier_Fourier\", 'wb') as f:\n",
        "    pickle.dump(rf_classifier, f)"
      ],
      "metadata": {
        "id": "XhZRxakHw-AY"
      },
      "execution_count": null,
      "outputs": []
    },
    {
      "cell_type": "code",
      "source": [
        "# Load the model                                                                                                                                                                                                       \n",
        "with open(\"/content/drive/MyDrive/ITMO-Master's/Thesis/3rd_semester/Models/rf_classifier_Fourier\", 'rb') as f:\n",
        "    rf = pickle.load(f)"
      ],
      "metadata": {
        "id": "8O3JuRNtw_AY"
      },
      "execution_count": null,
      "outputs": []
    },
    {
      "cell_type": "markdown",
      "source": [
        "#### RF with 200 estimators"
      ],
      "metadata": {
        "id": "iKaR9vpRt0hz"
      }
    },
    {
      "cell_type": "code",
      "source": [
        "# Train a Random Forest classifier on the concatenated data\n",
        "rf_classifier = RandomForestClassifier(n_estimators=200,  n_jobs=2, random_state=42)\n",
        "rf_classifier.fit(X_train_concat, y_train.values.ravel())"
      ],
      "metadata": {
        "colab": {
          "base_uri": "https://localhost:8080/",
          "height": 74
        },
        "id": "4rC9I3zpt2mi",
        "outputId": "36cb8e3b-1648-4c33-aa52-99dab87687f7"
      },
      "execution_count": 54,
      "outputs": [
        {
          "output_type": "execute_result",
          "data": {
            "text/plain": [
              "RandomForestClassifier(n_estimators=200, n_jobs=2, random_state=42)"
            ],
            "text/html": [
              "<style>#sk-container-id-4 {color: black;background-color: white;}#sk-container-id-4 pre{padding: 0;}#sk-container-id-4 div.sk-toggleable {background-color: white;}#sk-container-id-4 label.sk-toggleable__label {cursor: pointer;display: block;width: 100%;margin-bottom: 0;padding: 0.3em;box-sizing: border-box;text-align: center;}#sk-container-id-4 label.sk-toggleable__label-arrow:before {content: \"▸\";float: left;margin-right: 0.25em;color: #696969;}#sk-container-id-4 label.sk-toggleable__label-arrow:hover:before {color: black;}#sk-container-id-4 div.sk-estimator:hover label.sk-toggleable__label-arrow:before {color: black;}#sk-container-id-4 div.sk-toggleable__content {max-height: 0;max-width: 0;overflow: hidden;text-align: left;background-color: #f0f8ff;}#sk-container-id-4 div.sk-toggleable__content pre {margin: 0.2em;color: black;border-radius: 0.25em;background-color: #f0f8ff;}#sk-container-id-4 input.sk-toggleable__control:checked~div.sk-toggleable__content {max-height: 200px;max-width: 100%;overflow: auto;}#sk-container-id-4 input.sk-toggleable__control:checked~label.sk-toggleable__label-arrow:before {content: \"▾\";}#sk-container-id-4 div.sk-estimator input.sk-toggleable__control:checked~label.sk-toggleable__label {background-color: #d4ebff;}#sk-container-id-4 div.sk-label input.sk-toggleable__control:checked~label.sk-toggleable__label {background-color: #d4ebff;}#sk-container-id-4 input.sk-hidden--visually {border: 0;clip: rect(1px 1px 1px 1px);clip: rect(1px, 1px, 1px, 1px);height: 1px;margin: -1px;overflow: hidden;padding: 0;position: absolute;width: 1px;}#sk-container-id-4 div.sk-estimator {font-family: monospace;background-color: #f0f8ff;border: 1px dotted black;border-radius: 0.25em;box-sizing: border-box;margin-bottom: 0.5em;}#sk-container-id-4 div.sk-estimator:hover {background-color: #d4ebff;}#sk-container-id-4 div.sk-parallel-item::after {content: \"\";width: 100%;border-bottom: 1px solid gray;flex-grow: 1;}#sk-container-id-4 div.sk-label:hover label.sk-toggleable__label {background-color: #d4ebff;}#sk-container-id-4 div.sk-serial::before {content: \"\";position: absolute;border-left: 1px solid gray;box-sizing: border-box;top: 0;bottom: 0;left: 50%;z-index: 0;}#sk-container-id-4 div.sk-serial {display: flex;flex-direction: column;align-items: center;background-color: white;padding-right: 0.2em;padding-left: 0.2em;position: relative;}#sk-container-id-4 div.sk-item {position: relative;z-index: 1;}#sk-container-id-4 div.sk-parallel {display: flex;align-items: stretch;justify-content: center;background-color: white;position: relative;}#sk-container-id-4 div.sk-item::before, #sk-container-id-4 div.sk-parallel-item::before {content: \"\";position: absolute;border-left: 1px solid gray;box-sizing: border-box;top: 0;bottom: 0;left: 50%;z-index: -1;}#sk-container-id-4 div.sk-parallel-item {display: flex;flex-direction: column;z-index: 1;position: relative;background-color: white;}#sk-container-id-4 div.sk-parallel-item:first-child::after {align-self: flex-end;width: 50%;}#sk-container-id-4 div.sk-parallel-item:last-child::after {align-self: flex-start;width: 50%;}#sk-container-id-4 div.sk-parallel-item:only-child::after {width: 0;}#sk-container-id-4 div.sk-dashed-wrapped {border: 1px dashed gray;margin: 0 0.4em 0.5em 0.4em;box-sizing: border-box;padding-bottom: 0.4em;background-color: white;}#sk-container-id-4 div.sk-label label {font-family: monospace;font-weight: bold;display: inline-block;line-height: 1.2em;}#sk-container-id-4 div.sk-label-container {text-align: center;}#sk-container-id-4 div.sk-container {/* jupyter's `normalize.less` sets `[hidden] { display: none; }` but bootstrap.min.css set `[hidden] { display: none !important; }` so we also need the `!important` here to be able to override the default hidden behavior on the sphinx rendered scikit-learn.org. See: https://github.com/scikit-learn/scikit-learn/issues/21755 */display: inline-block !important;position: relative;}#sk-container-id-4 div.sk-text-repr-fallback {display: none;}</style><div id=\"sk-container-id-4\" class=\"sk-top-container\"><div class=\"sk-text-repr-fallback\"><pre>RandomForestClassifier(n_estimators=200, n_jobs=2, random_state=42)</pre><b>In a Jupyter environment, please rerun this cell to show the HTML representation or trust the notebook. <br />On GitHub, the HTML representation is unable to render, please try loading this page with nbviewer.org.</b></div><div class=\"sk-container\" hidden><div class=\"sk-item\"><div class=\"sk-estimator sk-toggleable\"><input class=\"sk-toggleable__control sk-hidden--visually\" id=\"sk-estimator-id-4\" type=\"checkbox\" checked><label for=\"sk-estimator-id-4\" class=\"sk-toggleable__label sk-toggleable__label-arrow\">RandomForestClassifier</label><div class=\"sk-toggleable__content\"><pre>RandomForestClassifier(n_estimators=200, n_jobs=2, random_state=42)</pre></div></div></div></div></div>"
            ]
          },
          "metadata": {},
          "execution_count": 54
        }
      ]
    },
    {
      "cell_type": "code",
      "source": [
        "# Evaluate the performance of the classifier on the testing set\n",
        "y_pred = rf_classifier.predict(X_test_concat)\n",
        "accuracy = accuracy_score(y_test, y_pred)\n",
        "print(f'Accuracy: {accuracy}')"
      ],
      "metadata": {
        "colab": {
          "base_uri": "https://localhost:8080/"
        },
        "id": "G-Yzof-Dt_TM",
        "outputId": "741563d5-eea8-4879-cbc4-e71fa3f87907"
      },
      "execution_count": 55,
      "outputs": [
        {
          "output_type": "stream",
          "name": "stdout",
          "text": [
            "Accuracy: 0.9190776593430499\n"
          ]
        }
      ]
    },
    {
      "cell_type": "markdown",
      "source": [
        "### Apply RF on the transformed stances by Fourier without the additional three numeric features"
      ],
      "metadata": {
        "id": "Ah-yETBL4o1a"
      }
    },
    {
      "cell_type": "code",
      "source": [
        "# Apply Fourier Transform to the sequence data in the first column\n",
        "X_train_seq = apply_fourier_transform(X_train['padded_stances'].values)\n",
        "X_test_seq = apply_fourier_transform(X_test['padded_stances'].values)\n"
      ],
      "metadata": {
        "id": "97c23qYf4pTj"
      },
      "execution_count": null,
      "outputs": []
    },
    {
      "cell_type": "code",
      "source": [
        "# Train a Random Forest classifier on the concatenated data\n",
        "rf_classifier = RandomForestClassifier(n_estimators=100, random_state=42)\n",
        "rf_classifier.fit(X_train_seq, y_train.values.ravel())"
      ],
      "metadata": {
        "colab": {
          "base_uri": "https://localhost:8080/",
          "height": 75
        },
        "id": "ELsDMOoB4sIZ",
        "outputId": "0f2b63cb-a3e1-4eb4-9631-47a848ea1e1b"
      },
      "execution_count": null,
      "outputs": [
        {
          "output_type": "execute_result",
          "data": {
            "text/plain": [
              "RandomForestClassifier(random_state=42)"
            ],
            "text/html": [
              "<style>#sk-container-id-3 {color: black;background-color: white;}#sk-container-id-3 pre{padding: 0;}#sk-container-id-3 div.sk-toggleable {background-color: white;}#sk-container-id-3 label.sk-toggleable__label {cursor: pointer;display: block;width: 100%;margin-bottom: 0;padding: 0.3em;box-sizing: border-box;text-align: center;}#sk-container-id-3 label.sk-toggleable__label-arrow:before {content: \"▸\";float: left;margin-right: 0.25em;color: #696969;}#sk-container-id-3 label.sk-toggleable__label-arrow:hover:before {color: black;}#sk-container-id-3 div.sk-estimator:hover label.sk-toggleable__label-arrow:before {color: black;}#sk-container-id-3 div.sk-toggleable__content {max-height: 0;max-width: 0;overflow: hidden;text-align: left;background-color: #f0f8ff;}#sk-container-id-3 div.sk-toggleable__content pre {margin: 0.2em;color: black;border-radius: 0.25em;background-color: #f0f8ff;}#sk-container-id-3 input.sk-toggleable__control:checked~div.sk-toggleable__content {max-height: 200px;max-width: 100%;overflow: auto;}#sk-container-id-3 input.sk-toggleable__control:checked~label.sk-toggleable__label-arrow:before {content: \"▾\";}#sk-container-id-3 div.sk-estimator input.sk-toggleable__control:checked~label.sk-toggleable__label {background-color: #d4ebff;}#sk-container-id-3 div.sk-label input.sk-toggleable__control:checked~label.sk-toggleable__label {background-color: #d4ebff;}#sk-container-id-3 input.sk-hidden--visually {border: 0;clip: rect(1px 1px 1px 1px);clip: rect(1px, 1px, 1px, 1px);height: 1px;margin: -1px;overflow: hidden;padding: 0;position: absolute;width: 1px;}#sk-container-id-3 div.sk-estimator {font-family: monospace;background-color: #f0f8ff;border: 1px dotted black;border-radius: 0.25em;box-sizing: border-box;margin-bottom: 0.5em;}#sk-container-id-3 div.sk-estimator:hover {background-color: #d4ebff;}#sk-container-id-3 div.sk-parallel-item::after {content: \"\";width: 100%;border-bottom: 1px solid gray;flex-grow: 1;}#sk-container-id-3 div.sk-label:hover label.sk-toggleable__label {background-color: #d4ebff;}#sk-container-id-3 div.sk-serial::before {content: \"\";position: absolute;border-left: 1px solid gray;box-sizing: border-box;top: 0;bottom: 0;left: 50%;z-index: 0;}#sk-container-id-3 div.sk-serial {display: flex;flex-direction: column;align-items: center;background-color: white;padding-right: 0.2em;padding-left: 0.2em;position: relative;}#sk-container-id-3 div.sk-item {position: relative;z-index: 1;}#sk-container-id-3 div.sk-parallel {display: flex;align-items: stretch;justify-content: center;background-color: white;position: relative;}#sk-container-id-3 div.sk-item::before, #sk-container-id-3 div.sk-parallel-item::before {content: \"\";position: absolute;border-left: 1px solid gray;box-sizing: border-box;top: 0;bottom: 0;left: 50%;z-index: -1;}#sk-container-id-3 div.sk-parallel-item {display: flex;flex-direction: column;z-index: 1;position: relative;background-color: white;}#sk-container-id-3 div.sk-parallel-item:first-child::after {align-self: flex-end;width: 50%;}#sk-container-id-3 div.sk-parallel-item:last-child::after {align-self: flex-start;width: 50%;}#sk-container-id-3 div.sk-parallel-item:only-child::after {width: 0;}#sk-container-id-3 div.sk-dashed-wrapped {border: 1px dashed gray;margin: 0 0.4em 0.5em 0.4em;box-sizing: border-box;padding-bottom: 0.4em;background-color: white;}#sk-container-id-3 div.sk-label label {font-family: monospace;font-weight: bold;display: inline-block;line-height: 1.2em;}#sk-container-id-3 div.sk-label-container {text-align: center;}#sk-container-id-3 div.sk-container {/* jupyter's `normalize.less` sets `[hidden] { display: none; }` but bootstrap.min.css set `[hidden] { display: none !important; }` so we also need the `!important` here to be able to override the default hidden behavior on the sphinx rendered scikit-learn.org. See: https://github.com/scikit-learn/scikit-learn/issues/21755 */display: inline-block !important;position: relative;}#sk-container-id-3 div.sk-text-repr-fallback {display: none;}</style><div id=\"sk-container-id-3\" class=\"sk-top-container\"><div class=\"sk-text-repr-fallback\"><pre>RandomForestClassifier(random_state=42)</pre><b>In a Jupyter environment, please rerun this cell to show the HTML representation or trust the notebook. <br />On GitHub, the HTML representation is unable to render, please try loading this page with nbviewer.org.</b></div><div class=\"sk-container\" hidden><div class=\"sk-item\"><div class=\"sk-estimator sk-toggleable\"><input class=\"sk-toggleable__control sk-hidden--visually\" id=\"sk-estimator-id-3\" type=\"checkbox\" checked><label for=\"sk-estimator-id-3\" class=\"sk-toggleable__label sk-toggleable__label-arrow\">RandomForestClassifier</label><div class=\"sk-toggleable__content\"><pre>RandomForestClassifier(random_state=42)</pre></div></div></div></div></div>"
            ]
          },
          "metadata": {},
          "execution_count": 157
        }
      ]
    },
    {
      "cell_type": "code",
      "source": [
        "# Evaluate the performance of the classifier on the testing set\n",
        "y_pred = rf_classifier.predict(X_test_seq)\n",
        "accuracy = accuracy_score(y_test, y_pred)\n",
        "print(f'Accuracy: {accuracy}')"
      ],
      "metadata": {
        "colab": {
          "base_uri": "https://localhost:8080/"
        },
        "id": "Xsa-CW_F4tsT",
        "outputId": "ce619d9b-19ff-4d5b-ae05-e355235206f7"
      },
      "execution_count": null,
      "outputs": [
        {
          "output_type": "stream",
          "name": "stdout",
          "text": [
            "Accuracy: 0.9110289319121166\n"
          ]
        }
      ]
    },
    {
      "cell_type": "code",
      "source": [
        "# save the model\n",
        "with open(\"/content/drive/MyDrive/ITMO-Master's/Thesis/3rd_semester/Models/rf_classifier_Fourier_only_stances\", 'wb') as f:\n",
        "    pickle.dump(rf_classifier, f)"
      ],
      "metadata": {
        "id": "NU4qLx1U4_wc"
      },
      "execution_count": null,
      "outputs": []
    },
    {
      "cell_type": "markdown",
      "source": [
        "## Dealing with total sequence data instead of the stances"
      ],
      "metadata": {
        "id": "SDErnaIzOEd1"
      }
    },
    {
      "cell_type": "markdown",
      "source": [
        "### Right stances only"
      ],
      "metadata": {
        "id": "3rJc2FtgUEym"
      }
    },
    {
      "cell_type": "code",
      "source": [
        "#x_signal_train = (data.signals_data_df[\"Total_Force_Right\"].values)\n",
        "y_signal = (data.signals_data_df[\"y\"].values)"
      ],
      "metadata": {
        "id": "AODtWxT_ORut"
      },
      "execution_count": null,
      "outputs": []
    },
    {
      "cell_type": "code",
      "source": [
        "## padding\n",
        "max_length = max([len(row) for row in data.signals_data_df[\"Total_Force_Right\"]])\n",
        "padded_signal_data = np.zeros((len(data.signals_data_df[\"Total_Force_Right\"]), max_length))\n",
        "for i, row in enumerate(data.signals_data_df[\"Total_Force_Right\"]):\n",
        "    padded_signal_data[i, :len(row)] = row"
      ],
      "metadata": {
        "id": "TWn3OAXeSm3I"
      },
      "execution_count": null,
      "outputs": []
    },
    {
      "cell_type": "code",
      "source": [
        "X_train, X_test, y_train, y_test = train_test_split(padded_signal_data, y_signal, random_state=42)"
      ],
      "metadata": {
        "id": "0PMZ1qcqP25C"
      },
      "execution_count": null,
      "outputs": []
    },
    {
      "cell_type": "code",
      "source": [
        "# Apply Fourier Transform to the sequence data in the first column\n",
        "X_train_seq = apply_fourier_transform(X_train)\n",
        "X_test_seq = apply_fourier_transform(X_test)\n"
      ],
      "metadata": {
        "id": "MNRqVui9O7yv"
      },
      "execution_count": null,
      "outputs": []
    },
    {
      "cell_type": "code",
      "source": [
        "X_train.shape"
      ],
      "metadata": {
        "colab": {
          "base_uri": "https://localhost:8080/"
        },
        "id": "6VHEglKAjzGK",
        "outputId": "93421917-b9cf-4a42-fd79-f39ee6bfd0cd"
      },
      "execution_count": null,
      "outputs": [
        {
          "output_type": "execute_result",
          "data": {
            "text/plain": [
              "(228, 22366)"
            ]
          },
          "metadata": {},
          "execution_count": 383
        }
      ]
    },
    {
      "cell_type": "code",
      "source": [
        "# Train a Random Forest classifier on the concatenated data\n",
        "rf_classifier = RandomForestClassifier(n_estimators=100, random_state=42)\n",
        "rf_classifier.fit(X_train_seq, y_train)"
      ],
      "metadata": {
        "colab": {
          "base_uri": "https://localhost:8080/",
          "height": 75
        },
        "id": "rS_YQhgpPTLp",
        "outputId": "37fcfbbe-227a-4b5e-b59f-a4b62aedcf8d"
      },
      "execution_count": null,
      "outputs": [
        {
          "output_type": "execute_result",
          "data": {
            "text/plain": [
              "RandomForestClassifier(random_state=42)"
            ],
            "text/html": [
              "<style>#sk-container-id-4 {color: black;background-color: white;}#sk-container-id-4 pre{padding: 0;}#sk-container-id-4 div.sk-toggleable {background-color: white;}#sk-container-id-4 label.sk-toggleable__label {cursor: pointer;display: block;width: 100%;margin-bottom: 0;padding: 0.3em;box-sizing: border-box;text-align: center;}#sk-container-id-4 label.sk-toggleable__label-arrow:before {content: \"▸\";float: left;margin-right: 0.25em;color: #696969;}#sk-container-id-4 label.sk-toggleable__label-arrow:hover:before {color: black;}#sk-container-id-4 div.sk-estimator:hover label.sk-toggleable__label-arrow:before {color: black;}#sk-container-id-4 div.sk-toggleable__content {max-height: 0;max-width: 0;overflow: hidden;text-align: left;background-color: #f0f8ff;}#sk-container-id-4 div.sk-toggleable__content pre {margin: 0.2em;color: black;border-radius: 0.25em;background-color: #f0f8ff;}#sk-container-id-4 input.sk-toggleable__control:checked~div.sk-toggleable__content {max-height: 200px;max-width: 100%;overflow: auto;}#sk-container-id-4 input.sk-toggleable__control:checked~label.sk-toggleable__label-arrow:before {content: \"▾\";}#sk-container-id-4 div.sk-estimator input.sk-toggleable__control:checked~label.sk-toggleable__label {background-color: #d4ebff;}#sk-container-id-4 div.sk-label input.sk-toggleable__control:checked~label.sk-toggleable__label {background-color: #d4ebff;}#sk-container-id-4 input.sk-hidden--visually {border: 0;clip: rect(1px 1px 1px 1px);clip: rect(1px, 1px, 1px, 1px);height: 1px;margin: -1px;overflow: hidden;padding: 0;position: absolute;width: 1px;}#sk-container-id-4 div.sk-estimator {font-family: monospace;background-color: #f0f8ff;border: 1px dotted black;border-radius: 0.25em;box-sizing: border-box;margin-bottom: 0.5em;}#sk-container-id-4 div.sk-estimator:hover {background-color: #d4ebff;}#sk-container-id-4 div.sk-parallel-item::after {content: \"\";width: 100%;border-bottom: 1px solid gray;flex-grow: 1;}#sk-container-id-4 div.sk-label:hover label.sk-toggleable__label {background-color: #d4ebff;}#sk-container-id-4 div.sk-serial::before {content: \"\";position: absolute;border-left: 1px solid gray;box-sizing: border-box;top: 0;bottom: 0;left: 50%;z-index: 0;}#sk-container-id-4 div.sk-serial {display: flex;flex-direction: column;align-items: center;background-color: white;padding-right: 0.2em;padding-left: 0.2em;position: relative;}#sk-container-id-4 div.sk-item {position: relative;z-index: 1;}#sk-container-id-4 div.sk-parallel {display: flex;align-items: stretch;justify-content: center;background-color: white;position: relative;}#sk-container-id-4 div.sk-item::before, #sk-container-id-4 div.sk-parallel-item::before {content: \"\";position: absolute;border-left: 1px solid gray;box-sizing: border-box;top: 0;bottom: 0;left: 50%;z-index: -1;}#sk-container-id-4 div.sk-parallel-item {display: flex;flex-direction: column;z-index: 1;position: relative;background-color: white;}#sk-container-id-4 div.sk-parallel-item:first-child::after {align-self: flex-end;width: 50%;}#sk-container-id-4 div.sk-parallel-item:last-child::after {align-self: flex-start;width: 50%;}#sk-container-id-4 div.sk-parallel-item:only-child::after {width: 0;}#sk-container-id-4 div.sk-dashed-wrapped {border: 1px dashed gray;margin: 0 0.4em 0.5em 0.4em;box-sizing: border-box;padding-bottom: 0.4em;background-color: white;}#sk-container-id-4 div.sk-label label {font-family: monospace;font-weight: bold;display: inline-block;line-height: 1.2em;}#sk-container-id-4 div.sk-label-container {text-align: center;}#sk-container-id-4 div.sk-container {/* jupyter's `normalize.less` sets `[hidden] { display: none; }` but bootstrap.min.css set `[hidden] { display: none !important; }` so we also need the `!important` here to be able to override the default hidden behavior on the sphinx rendered scikit-learn.org. See: https://github.com/scikit-learn/scikit-learn/issues/21755 */display: inline-block !important;position: relative;}#sk-container-id-4 div.sk-text-repr-fallback {display: none;}</style><div id=\"sk-container-id-4\" class=\"sk-top-container\"><div class=\"sk-text-repr-fallback\"><pre>RandomForestClassifier(random_state=42)</pre><b>In a Jupyter environment, please rerun this cell to show the HTML representation or trust the notebook. <br />On GitHub, the HTML representation is unable to render, please try loading this page with nbviewer.org.</b></div><div class=\"sk-container\" hidden><div class=\"sk-item\"><div class=\"sk-estimator sk-toggleable\"><input class=\"sk-toggleable__control sk-hidden--visually\" id=\"sk-estimator-id-4\" type=\"checkbox\" checked><label for=\"sk-estimator-id-4\" class=\"sk-toggleable__label sk-toggleable__label-arrow\">RandomForestClassifier</label><div class=\"sk-toggleable__content\"><pre>RandomForestClassifier(random_state=42)</pre></div></div></div></div></div>"
            ]
          },
          "metadata": {},
          "execution_count": 190
        }
      ]
    },
    {
      "cell_type": "code",
      "source": [
        "# Evaluate the performance of the classifier on the testing set\n",
        "y_pred = rf_classifier.predict(X_test_seq)\n",
        "accuracy = accuracy_score(y_test, y_pred)\n",
        "print(f'Accuracy: {accuracy}')"
      ],
      "metadata": {
        "id": "mUMqeMPWPWpu",
        "colab": {
          "base_uri": "https://localhost:8080/"
        },
        "outputId": "2434aa03-a6d2-422a-90af-7405ab0db861"
      },
      "execution_count": null,
      "outputs": [
        {
          "output_type": "stream",
          "name": "stdout",
          "text": [
            "Accuracy: 0.75\n"
          ]
        }
      ]
    },
    {
      "cell_type": "markdown",
      "source": [
        "### Right and left stances"
      ],
      "metadata": {
        "id": "QiqhVkY9UIVv"
      }
    },
    {
      "cell_type": "code",
      "source": [
        "right = data.signals_data_df[\"Total_Force_Right\"].to_numpy().reshape(data.signals_data_df[\"Total_Force_Right\"].shape[0],1)\n",
        "left = data.signals_data_df[\"Total_Force_Left\"].to_numpy().reshape(data.signals_data_df[\"Total_Force_Left\"].shape[0],1)\n",
        "y_signal = (data.signals_data_df[\"y\"].values)"
      ],
      "metadata": {
        "id": "yk117wg2Wb5t"
      },
      "execution_count": null,
      "outputs": []
    },
    {
      "cell_type": "code",
      "source": [
        "both_signals =[]\n",
        "for i in range(right.shape[0]):\n",
        "  both_signals.append(np.append(right[i][0],left[i][0]))"
      ],
      "metadata": {
        "id": "KXhRCjyBiIFu"
      },
      "execution_count": null,
      "outputs": []
    },
    {
      "cell_type": "markdown",
      "source": [
        "#### padding"
      ],
      "metadata": {
        "id": "svZuBDx8lP_i"
      }
    },
    {
      "cell_type": "code",
      "source": [
        "max_length = max([len(row) for row in both_signals])\n",
        "padded_data = np.zeros((len(both_signals), max_length))\n",
        "for i, row in enumerate(both_signals):\n",
        "    padded_data[i, :len(row)] = row"
      ],
      "metadata": {
        "id": "ESLYiijklZ19"
      },
      "execution_count": null,
      "outputs": []
    },
    {
      "cell_type": "code",
      "source": [
        "X_train, X_test, y_train, y_test = train_test_split(padded_data, y_signal, random_state=42)"
      ],
      "metadata": {
        "id": "Sgwur_lYh56s"
      },
      "execution_count": null,
      "outputs": []
    },
    {
      "cell_type": "code",
      "source": [
        "# Apply Fourier Transform to the sequence data in the first column\n",
        "X_train_seq = apply_fourier_transform(X_train)\n",
        "X_test_seq = apply_fourier_transform(X_test)"
      ],
      "metadata": {
        "id": "sjeqVreGi-cK"
      },
      "execution_count": null,
      "outputs": []
    },
    {
      "cell_type": "code",
      "source": [
        "# Train a Random Forest classifier on the concatenated data\n",
        "rf_classifier = RandomForestClassifier(n_estimators=100, random_state=42)\n",
        "rf_classifier.fit(X_train_seq, y_train)"
      ],
      "metadata": {
        "colab": {
          "base_uri": "https://localhost:8080/",
          "height": 75
        },
        "id": "2QJB6XJii_Na",
        "outputId": "acf7a594-92b6-4374-f6eb-b398d33ab65e"
      },
      "execution_count": null,
      "outputs": [
        {
          "output_type": "execute_result",
          "data": {
            "text/plain": [
              "RandomForestClassifier(random_state=42)"
            ],
            "text/html": [
              "<style>#sk-container-id-6 {color: black;background-color: white;}#sk-container-id-6 pre{padding: 0;}#sk-container-id-6 div.sk-toggleable {background-color: white;}#sk-container-id-6 label.sk-toggleable__label {cursor: pointer;display: block;width: 100%;margin-bottom: 0;padding: 0.3em;box-sizing: border-box;text-align: center;}#sk-container-id-6 label.sk-toggleable__label-arrow:before {content: \"▸\";float: left;margin-right: 0.25em;color: #696969;}#sk-container-id-6 label.sk-toggleable__label-arrow:hover:before {color: black;}#sk-container-id-6 div.sk-estimator:hover label.sk-toggleable__label-arrow:before {color: black;}#sk-container-id-6 div.sk-toggleable__content {max-height: 0;max-width: 0;overflow: hidden;text-align: left;background-color: #f0f8ff;}#sk-container-id-6 div.sk-toggleable__content pre {margin: 0.2em;color: black;border-radius: 0.25em;background-color: #f0f8ff;}#sk-container-id-6 input.sk-toggleable__control:checked~div.sk-toggleable__content {max-height: 200px;max-width: 100%;overflow: auto;}#sk-container-id-6 input.sk-toggleable__control:checked~label.sk-toggleable__label-arrow:before {content: \"▾\";}#sk-container-id-6 div.sk-estimator input.sk-toggleable__control:checked~label.sk-toggleable__label {background-color: #d4ebff;}#sk-container-id-6 div.sk-label input.sk-toggleable__control:checked~label.sk-toggleable__label {background-color: #d4ebff;}#sk-container-id-6 input.sk-hidden--visually {border: 0;clip: rect(1px 1px 1px 1px);clip: rect(1px, 1px, 1px, 1px);height: 1px;margin: -1px;overflow: hidden;padding: 0;position: absolute;width: 1px;}#sk-container-id-6 div.sk-estimator {font-family: monospace;background-color: #f0f8ff;border: 1px dotted black;border-radius: 0.25em;box-sizing: border-box;margin-bottom: 0.5em;}#sk-container-id-6 div.sk-estimator:hover {background-color: #d4ebff;}#sk-container-id-6 div.sk-parallel-item::after {content: \"\";width: 100%;border-bottom: 1px solid gray;flex-grow: 1;}#sk-container-id-6 div.sk-label:hover label.sk-toggleable__label {background-color: #d4ebff;}#sk-container-id-6 div.sk-serial::before {content: \"\";position: absolute;border-left: 1px solid gray;box-sizing: border-box;top: 0;bottom: 0;left: 50%;z-index: 0;}#sk-container-id-6 div.sk-serial {display: flex;flex-direction: column;align-items: center;background-color: white;padding-right: 0.2em;padding-left: 0.2em;position: relative;}#sk-container-id-6 div.sk-item {position: relative;z-index: 1;}#sk-container-id-6 div.sk-parallel {display: flex;align-items: stretch;justify-content: center;background-color: white;position: relative;}#sk-container-id-6 div.sk-item::before, #sk-container-id-6 div.sk-parallel-item::before {content: \"\";position: absolute;border-left: 1px solid gray;box-sizing: border-box;top: 0;bottom: 0;left: 50%;z-index: -1;}#sk-container-id-6 div.sk-parallel-item {display: flex;flex-direction: column;z-index: 1;position: relative;background-color: white;}#sk-container-id-6 div.sk-parallel-item:first-child::after {align-self: flex-end;width: 50%;}#sk-container-id-6 div.sk-parallel-item:last-child::after {align-self: flex-start;width: 50%;}#sk-container-id-6 div.sk-parallel-item:only-child::after {width: 0;}#sk-container-id-6 div.sk-dashed-wrapped {border: 1px dashed gray;margin: 0 0.4em 0.5em 0.4em;box-sizing: border-box;padding-bottom: 0.4em;background-color: white;}#sk-container-id-6 div.sk-label label {font-family: monospace;font-weight: bold;display: inline-block;line-height: 1.2em;}#sk-container-id-6 div.sk-label-container {text-align: center;}#sk-container-id-6 div.sk-container {/* jupyter's `normalize.less` sets `[hidden] { display: none; }` but bootstrap.min.css set `[hidden] { display: none !important; }` so we also need the `!important` here to be able to override the default hidden behavior on the sphinx rendered scikit-learn.org. See: https://github.com/scikit-learn/scikit-learn/issues/21755 */display: inline-block !important;position: relative;}#sk-container-id-6 div.sk-text-repr-fallback {display: none;}</style><div id=\"sk-container-id-6\" class=\"sk-top-container\"><div class=\"sk-text-repr-fallback\"><pre>RandomForestClassifier(random_state=42)</pre><b>In a Jupyter environment, please rerun this cell to show the HTML representation or trust the notebook. <br />On GitHub, the HTML representation is unable to render, please try loading this page with nbviewer.org.</b></div><div class=\"sk-container\" hidden><div class=\"sk-item\"><div class=\"sk-estimator sk-toggleable\"><input class=\"sk-toggleable__control sk-hidden--visually\" id=\"sk-estimator-id-6\" type=\"checkbox\" checked><label for=\"sk-estimator-id-6\" class=\"sk-toggleable__label sk-toggleable__label-arrow\">RandomForestClassifier</label><div class=\"sk-toggleable__content\"><pre>RandomForestClassifier(random_state=42)</pre></div></div></div></div></div>"
            ]
          },
          "metadata": {},
          "execution_count": 478
        }
      ]
    },
    {
      "cell_type": "code",
      "source": [
        "# Evaluate the performance of the classifier on the testing set\n",
        "y_pred = rf_classifier.predict(X_test_seq)\n",
        "accuracy = accuracy_score(y_test, y_pred)\n",
        "print(f'Accuracy: {accuracy}')"
      ],
      "metadata": {
        "colab": {
          "base_uri": "https://localhost:8080/"
        },
        "id": "hnPGx2u2l8RT",
        "outputId": "369f3682-f1b5-4eb1-e908-9147626aec37"
      },
      "execution_count": null,
      "outputs": [
        {
          "output_type": "stream",
          "name": "stdout",
          "text": [
            "Accuracy: 0.7763157894736842\n"
          ]
        }
      ]
    },
    {
      "cell_type": "markdown",
      "source": [
        "### All data from all sensors"
      ],
      "metadata": {
        "id": "aVa7tEBxp4JM"
      }
    },
    {
      "cell_type": "code",
      "source": [],
      "metadata": {
        "id": "-ovxRcw9p6d8"
      },
      "execution_count": null,
      "outputs": []
    }
  ],
  "metadata": {
    "colab": {
      "collapsed_sections": [
        "xo1CVjZb-oDD",
        "yoPlShO_1mD5",
        "VLlmkpXwQPt0",
        "H_sk20fPzLuN",
        "6gvkVqJ2zQFA",
        "gmQ47Qcp6D5S",
        "0_Wh3g6eut06",
        "Zx3AE4Ab0bRL",
        "5njlOxC_gRAB",
        "evtbYEBeOb7q",
        "iH7p432Juk6I",
        "-fVPbbjL4ZC4",
        "zhm5bpQfxO-B",
        "Ah-yETBL4o1a",
        "SDErnaIzOEd1",
        "3rJc2FtgUEym"
      ],
      "provenance": []
    },
    "kernelspec": {
      "display_name": "Python 3",
      "name": "python3"
    },
    "language_info": {
      "name": "python"
    },
    "widgets": {
      "application/vnd.jupyter.widget-state+json": {
        "009a2cc28ae84588a4287bf39386769d": {
          "model_module": "@jupyter-widgets/controls",
          "model_module_version": "1.5.0",
          "model_name": "DescriptionStyleModel",
          "state": {
            "_model_module": "@jupyter-widgets/controls",
            "_model_module_version": "1.5.0",
            "_model_name": "DescriptionStyleModel",
            "_view_count": null,
            "_view_module": "@jupyter-widgets/base",
            "_view_module_version": "1.2.0",
            "_view_name": "StyleView",
            "description_width": ""
          }
        },
        "0cc9fd76f4c34854b31e0409a13d62f3": {
          "model_module": "@jupyter-widgets/base",
          "model_module_version": "1.2.0",
          "model_name": "LayoutModel",
          "state": {
            "_model_module": "@jupyter-widgets/base",
            "_model_module_version": "1.2.0",
            "_model_name": "LayoutModel",
            "_view_count": null,
            "_view_module": "@jupyter-widgets/base",
            "_view_module_version": "1.2.0",
            "_view_name": "LayoutView",
            "align_content": null,
            "align_items": null,
            "align_self": null,
            "border": null,
            "bottom": null,
            "display": null,
            "flex": null,
            "flex_flow": null,
            "grid_area": null,
            "grid_auto_columns": null,
            "grid_auto_flow": null,
            "grid_auto_rows": null,
            "grid_column": null,
            "grid_gap": null,
            "grid_row": null,
            "grid_template_areas": null,
            "grid_template_columns": null,
            "grid_template_rows": null,
            "height": null,
            "justify_content": null,
            "justify_items": null,
            "left": null,
            "margin": null,
            "max_height": null,
            "max_width": null,
            "min_height": null,
            "min_width": null,
            "object_fit": null,
            "object_position": null,
            "order": null,
            "overflow": null,
            "overflow_x": null,
            "overflow_y": null,
            "padding": null,
            "right": null,
            "top": null,
            "visibility": null,
            "width": null
          }
        },
        "29ebc352951d4fa0938beba218a394b8": {
          "model_module": "@jupyter-widgets/controls",
          "model_module_version": "1.5.0",
          "model_name": "HTMLModel",
          "state": {
            "_dom_classes": [],
            "_model_module": "@jupyter-widgets/controls",
            "_model_module_version": "1.5.0",
            "_model_name": "HTMLModel",
            "_view_count": null,
            "_view_module": "@jupyter-widgets/controls",
            "_view_module_version": "1.5.0",
            "_view_name": "HTMLView",
            "description": "",
            "description_tooltip": null,
            "layout": "IPY_MODEL_bff29d2b3d834c9ca2263759ef64a52e",
            "placeholder": "​",
            "style": "IPY_MODEL_009a2cc28ae84588a4287bf39386769d",
            "value": "100%"
          }
        },
        "2fabca6f213f46d5ac3f834242ebefa1": {
          "model_module": "@jupyter-widgets/base",
          "model_module_version": "1.2.0",
          "model_name": "LayoutModel",
          "state": {
            "_model_module": "@jupyter-widgets/base",
            "_model_module_version": "1.2.0",
            "_model_name": "LayoutModel",
            "_view_count": null,
            "_view_module": "@jupyter-widgets/base",
            "_view_module_version": "1.2.0",
            "_view_name": "LayoutView",
            "align_content": null,
            "align_items": null,
            "align_self": null,
            "border": null,
            "bottom": null,
            "display": null,
            "flex": null,
            "flex_flow": null,
            "grid_area": null,
            "grid_auto_columns": null,
            "grid_auto_flow": null,
            "grid_auto_rows": null,
            "grid_column": null,
            "grid_gap": null,
            "grid_row": null,
            "grid_template_areas": null,
            "grid_template_columns": null,
            "grid_template_rows": null,
            "height": null,
            "justify_content": null,
            "justify_items": null,
            "left": null,
            "margin": null,
            "max_height": null,
            "max_width": null,
            "min_height": null,
            "min_width": null,
            "object_fit": null,
            "object_position": null,
            "order": null,
            "overflow": null,
            "overflow_x": null,
            "overflow_y": null,
            "padding": null,
            "right": null,
            "top": null,
            "visibility": null,
            "width": null
          }
        },
        "549e36afb1344e5dac211583191e8bdf": {
          "model_module": "@jupyter-widgets/base",
          "model_module_version": "1.2.0",
          "model_name": "LayoutModel",
          "state": {
            "_model_module": "@jupyter-widgets/base",
            "_model_module_version": "1.2.0",
            "_model_name": "LayoutModel",
            "_view_count": null,
            "_view_module": "@jupyter-widgets/base",
            "_view_module_version": "1.2.0",
            "_view_name": "LayoutView",
            "align_content": null,
            "align_items": null,
            "align_self": null,
            "border": null,
            "bottom": null,
            "display": null,
            "flex": null,
            "flex_flow": null,
            "grid_area": null,
            "grid_auto_columns": null,
            "grid_auto_flow": null,
            "grid_auto_rows": null,
            "grid_column": null,
            "grid_gap": null,
            "grid_row": null,
            "grid_template_areas": null,
            "grid_template_columns": null,
            "grid_template_rows": null,
            "height": null,
            "justify_content": null,
            "justify_items": null,
            "left": null,
            "margin": null,
            "max_height": null,
            "max_width": null,
            "min_height": null,
            "min_width": null,
            "object_fit": null,
            "object_position": null,
            "order": null,
            "overflow": null,
            "overflow_x": null,
            "overflow_y": null,
            "padding": null,
            "right": null,
            "top": null,
            "visibility": null,
            "width": null
          }
        },
        "76d430b27faf43bdadf157f552f13ae2": {
          "model_module": "@jupyter-widgets/controls",
          "model_module_version": "1.5.0",
          "model_name": "HBoxModel",
          "state": {
            "_dom_classes": [],
            "_model_module": "@jupyter-widgets/controls",
            "_model_module_version": "1.5.0",
            "_model_name": "HBoxModel",
            "_view_count": null,
            "_view_module": "@jupyter-widgets/controls",
            "_view_module_version": "1.5.0",
            "_view_name": "HBoxView",
            "box_style": "",
            "children": [
              "IPY_MODEL_29ebc352951d4fa0938beba218a394b8",
              "IPY_MODEL_b6828ee43f97471abf45ccc60c277629",
              "IPY_MODEL_ef49c0063f0244d2aeb3a2d9cab4ef4d"
            ],
            "layout": "IPY_MODEL_549e36afb1344e5dac211583191e8bdf"
          }
        },
        "7c27d950cf8e4efebf2699e943a9e7d8": {
          "model_module": "@jupyter-widgets/controls",
          "model_module_version": "1.5.0",
          "model_name": "DescriptionStyleModel",
          "state": {
            "_model_module": "@jupyter-widgets/controls",
            "_model_module_version": "1.5.0",
            "_model_name": "DescriptionStyleModel",
            "_view_count": null,
            "_view_module": "@jupyter-widgets/base",
            "_view_module_version": "1.2.0",
            "_view_name": "StyleView",
            "description_width": ""
          }
        },
        "884b0b1abc344bf2bdb4e38e6fc2fdbd": {
          "model_module": "@jupyter-widgets/controls",
          "model_module_version": "1.5.0",
          "model_name": "ProgressStyleModel",
          "state": {
            "_model_module": "@jupyter-widgets/controls",
            "_model_module_version": "1.5.0",
            "_model_name": "ProgressStyleModel",
            "_view_count": null,
            "_view_module": "@jupyter-widgets/base",
            "_view_module_version": "1.2.0",
            "_view_name": "StyleView",
            "bar_color": null,
            "description_width": ""
          }
        },
        "b6828ee43f97471abf45ccc60c277629": {
          "model_module": "@jupyter-widgets/controls",
          "model_module_version": "1.5.0",
          "model_name": "FloatProgressModel",
          "state": {
            "_dom_classes": [],
            "_model_module": "@jupyter-widgets/controls",
            "_model_module_version": "1.5.0",
            "_model_name": "FloatProgressModel",
            "_view_count": null,
            "_view_module": "@jupyter-widgets/controls",
            "_view_module_version": "1.5.0",
            "_view_name": "ProgressView",
            "bar_style": "success",
            "description": "",
            "description_tooltip": null,
            "layout": "IPY_MODEL_2fabca6f213f46d5ac3f834242ebefa1",
            "max": 304,
            "min": 0,
            "orientation": "horizontal",
            "style": "IPY_MODEL_884b0b1abc344bf2bdb4e38e6fc2fdbd",
            "value": 304
          }
        },
        "bff29d2b3d834c9ca2263759ef64a52e": {
          "model_module": "@jupyter-widgets/base",
          "model_module_version": "1.2.0",
          "model_name": "LayoutModel",
          "state": {
            "_model_module": "@jupyter-widgets/base",
            "_model_module_version": "1.2.0",
            "_model_name": "LayoutModel",
            "_view_count": null,
            "_view_module": "@jupyter-widgets/base",
            "_view_module_version": "1.2.0",
            "_view_name": "LayoutView",
            "align_content": null,
            "align_items": null,
            "align_self": null,
            "border": null,
            "bottom": null,
            "display": null,
            "flex": null,
            "flex_flow": null,
            "grid_area": null,
            "grid_auto_columns": null,
            "grid_auto_flow": null,
            "grid_auto_rows": null,
            "grid_column": null,
            "grid_gap": null,
            "grid_row": null,
            "grid_template_areas": null,
            "grid_template_columns": null,
            "grid_template_rows": null,
            "height": null,
            "justify_content": null,
            "justify_items": null,
            "left": null,
            "margin": null,
            "max_height": null,
            "max_width": null,
            "min_height": null,
            "min_width": null,
            "object_fit": null,
            "object_position": null,
            "order": null,
            "overflow": null,
            "overflow_x": null,
            "overflow_y": null,
            "padding": null,
            "right": null,
            "top": null,
            "visibility": null,
            "width": null
          }
        },
        "ef49c0063f0244d2aeb3a2d9cab4ef4d": {
          "model_module": "@jupyter-widgets/controls",
          "model_module_version": "1.5.0",
          "model_name": "HTMLModel",
          "state": {
            "_dom_classes": [],
            "_model_module": "@jupyter-widgets/controls",
            "_model_module_version": "1.5.0",
            "_model_name": "HTMLModel",
            "_view_count": null,
            "_view_module": "@jupyter-widgets/controls",
            "_view_module_version": "1.5.0",
            "_view_name": "HTMLView",
            "description": "",
            "description_tooltip": null,
            "layout": "IPY_MODEL_0cc9fd76f4c34854b31e0409a13d62f3",
            "placeholder": "​",
            "style": "IPY_MODEL_7c27d950cf8e4efebf2699e943a9e7d8",
            "value": " 304/304 [00:52&lt;00:00,  8.92it/s]"
          }
        }
      }
    }
  },
  "nbformat": 4,
  "nbformat_minor": 0
}