{
  "cells": [
    {
      "cell_type": "markdown",
      "source": [
        "links:\n",
        "\n",
        "https://towardsdatascience.com/how-to-apply-k-means-clustering-to-time-series-data-28d04a8f7da3\n",
        "\n",
        "\n",
        "https://tslearn.readthedocs.io/en/stable/gettingstarted.html\n",
        "\n",
        "https://tslearn.readthedocs.io/en/stable/gettingstarted.html\n",
        "\n",
        "https://tslearn.readthedocs.io/en/stable/gen_modules/neighbors/tslearn.neighbors.KNeighborsTimeSeriesClassifier.html#tslearn.neighbors.KNeighborsTimeSeriesClassifier.score\n",
        "\n",
        "\n",
        "https://t-dab.medium.com/multivariate-time-series-clustering-e2619552565a\n",
        "\n",
        "http://alexminnaar.com/2014/04/16/Time-Series-Classification-and-Clustering-with-Python.html\n",
        "\n",
        "https://datascience.stackexchange.com/questions/29287/multivariate-time-series-clustering\n",
        "\n",
        "https://towardsdatascience.com/multivariate-time-series-clustering-using-growing-neural-gas-and-spectral-clustering-adc83680639f\n",
        "\n",
        "\n"
      ],
      "metadata": {
        "id": "nhy9KOWmALxU"
      }
    },
    {
      "cell_type": "code",
      "execution_count": null,
      "metadata": {
        "colab": {
          "base_uri": "https://localhost:8080/"
        },
        "id": "vLB4RBcPGVlT",
        "outputId": "9fe60859-04f0-4fe0-8d74-b102e6ca82d0"
      },
      "outputs": [
        {
          "name": "stdout",
          "output_type": "stream",
          "text": [
            "Looking in indexes: https://pypi.org/simple, https://us-python.pkg.dev/colab-wheels/public/simple/\n",
            "Collecting tslearn\n",
            "  Using cached tslearn-0.5.2-cp38-cp38-manylinux_2_5_x86_64.manylinux1_x86_64.manylinux_2_12_x86_64.manylinux2010_x86_64.whl (875 kB)\n",
            "Requirement already satisfied: scikit-learn in /usr/local/lib/python3.8/dist-packages (from tslearn) (1.0.2)\n",
            "Requirement already satisfied: Cython in /usr/local/lib/python3.8/dist-packages (from tslearn) (0.29.32)\n",
            "Requirement already satisfied: numba in /usr/local/lib/python3.8/dist-packages (from tslearn) (0.56.4)\n",
            "Requirement already satisfied: numpy in /usr/local/lib/python3.8/dist-packages (from tslearn) (1.21.6)\n",
            "Requirement already satisfied: joblib in /usr/local/lib/python3.8/dist-packages (from tslearn) (1.2.0)\n",
            "Requirement already satisfied: scipy in /usr/local/lib/python3.8/dist-packages (from tslearn) (1.7.3)\n",
            "Requirement already satisfied: setuptools in /usr/local/lib/python3.8/dist-packages (from numba->tslearn) (57.4.0)\n",
            "Requirement already satisfied: llvmlite<0.40,>=0.39.0dev0 in /usr/local/lib/python3.8/dist-packages (from numba->tslearn) (0.39.1)\n",
            "Requirement already satisfied: importlib-metadata in /usr/local/lib/python3.8/dist-packages (from numba->tslearn) (5.2.0)\n",
            "Requirement already satisfied: threadpoolctl>=2.0.0 in /usr/local/lib/python3.8/dist-packages (from scikit-learn->tslearn) (3.1.0)\n",
            "Requirement already satisfied: zipp>=0.5 in /usr/local/lib/python3.8/dist-packages (from importlib-metadata->numba->tslearn) (3.11.0)\n",
            "Installing collected packages: tslearn\n",
            "Successfully installed tslearn-0.5.2\n"
          ]
        }
      ],
      "source": [
        "pip install tslearn"
      ]
    },
    {
      "cell_type": "code",
      "execution_count": null,
      "metadata": {
        "id": "Yglie28dl1-c"
      },
      "outputs": [],
      "source": [
        "import pandas as pd\n",
        "import numpy as np\n",
        "from sklearn.preprocessing import PolynomialFeatures\n",
        "from sklearn import decomposition\n",
        "from sklearn.model_selection import train_test_split\n",
        "import os\n",
        "from tqdm.auto import tqdm\n",
        "from sklearn import decomposition\n",
        "import shutil"
      ]
    },
    {
      "cell_type": "code",
      "execution_count": null,
      "metadata": {
        "id": "b1u2yNlHC-Nb"
      },
      "outputs": [],
      "source": [
        "import tslearn"
      ]
    },
    {
      "cell_type": "code",
      "execution_count": null,
      "metadata": {
        "id": "AdBEhVI9HrN5"
      },
      "outputs": [],
      "source": [
        "from tslearn.neighbors import KNeighborsTimeSeriesClassifier"
      ]
    },
    {
      "cell_type": "markdown",
      "metadata": {
        "id": "MACgAK9swVfh"
      },
      "source": [
        "### dataset from library (just for trying)"
      ]
    },
    {
      "cell_type": "code",
      "execution_count": null,
      "metadata": {
        "colab": {
          "base_uri": "https://localhost:8080/"
        },
        "id": "wjzgI4tEF20S",
        "outputId": "fddb1543-5897-42f8-9142-c5b6a96e1fb4"
      },
      "outputs": [
        {
          "name": "stdout",
          "output_type": "stream",
          "text": [
            "(1000, 128, 1)\n"
          ]
        }
      ],
      "source": [
        "from tslearn.datasets import UCR_UEA_datasets\n",
        "X_train, y_train, X_test, y_test = UCR_UEA_datasets().load_dataset(\"TwoPatterns\")\n",
        "print(X_train.shape)\n",
        "# shape : number of objects, time series max length, 1"
      ]
    },
    {
      "cell_type": "code",
      "execution_count": null,
      "metadata": {
        "colab": {
          "base_uri": "https://localhost:8080/"
        },
        "id": "oZqCBe8UfakY",
        "outputId": "3d6e91e7-37a6-40df-d2ed-35538f4d41b8"
      },
      "outputs": [
        {
          "data": {
            "text/plain": [
              "128"
            ]
          },
          "execution_count": 8,
          "metadata": {},
          "output_type": "execute_result"
        }
      ],
      "source": [
        "len(X_train[0])"
      ]
    },
    {
      "cell_type": "code",
      "execution_count": null,
      "metadata": {
        "id": "R-WJhc-MfW-J"
      },
      "outputs": [],
      "source": [
        "print(y_train.shape)"
      ]
    },
    {
      "cell_type": "markdown",
      "metadata": {
        "id": "enhpTB2gldFG"
      },
      "source": [
        "## Read data\n"
      ]
    },
    {
      "cell_type": "code",
      "execution_count": null,
      "metadata": {
        "id": "BasF9ylKlghi"
      },
      "outputs": [],
      "source": [
        "# path of original data folder\n",
        "csvD_path = \"/content/drive/MyDrive/Thesis/3rd_semester/Data/csv_files\"\n",
        "demographics = \"/content/drive/MyDrive/Thesis/3rd_semester/Data/demographics.csv\""
      ]
    },
    {
      "cell_type": "markdown",
      "metadata": {
        "id": "NLu0zGAAOvWy"
      },
      "source": [
        "#### Demographics data"
      ]
    },
    {
      "cell_type": "code",
      "execution_count": null,
      "metadata": {
        "id": "r-O_NN2m0Bdn"
      },
      "outputs": [],
      "source": [
        "dem_df = pd.read_csv(demographics)"
      ]
    },
    {
      "cell_type": "code",
      "execution_count": null,
      "metadata": {
        "colab": {
          "base_uri": "https://localhost:8080/",
          "height": 206
        },
        "id": "vsP9Fz051FiM",
        "outputId": "c6f761e3-145b-4fd2-9db4-7a6c93510ea4"
      },
      "outputs": [
        {
          "data": {
            "text/html": [
              "\n",
              "  <div id=\"df-62a1ff32-5f07-42eb-a99e-36255917e013\">\n",
              "    <div class=\"colab-df-container\">\n",
              "      <div>\n",
              "<style scoped>\n",
              "    .dataframe tbody tr th:only-of-type {\n",
              "        vertical-align: middle;\n",
              "    }\n",
              "\n",
              "    .dataframe tbody tr th {\n",
              "        vertical-align: top;\n",
              "    }\n",
              "\n",
              "    .dataframe thead th {\n",
              "        text-align: right;\n",
              "    }\n",
              "</style>\n",
              "<table border=\"1\" class=\"dataframe\">\n",
              "  <thead>\n",
              "    <tr style=\"text-align: right;\">\n",
              "      <th></th>\n",
              "      <th>ID</th>\n",
              "      <th>Study</th>\n",
              "      <th>Group</th>\n",
              "      <th>Subjnum</th>\n",
              "      <th>Gender</th>\n",
              "      <th>Age</th>\n",
              "      <th>Height (meters)</th>\n",
              "      <th>Weight (kg)</th>\n",
              "      <th>HoehnYahr</th>\n",
              "      <th>UPDRS</th>\n",
              "      <th>UPDRSM</th>\n",
              "      <th>TUAG</th>\n",
              "      <th>Speed_01 (m/sec)</th>\n",
              "      <th>Speed_10</th>\n",
              "    </tr>\n",
              "  </thead>\n",
              "  <tbody>\n",
              "    <tr>\n",
              "      <th>0</th>\n",
              "      <td>GaPt03</td>\n",
              "      <td>Ga</td>\n",
              "      <td>PD</td>\n",
              "      <td>3</td>\n",
              "      <td>female</td>\n",
              "      <td>82</td>\n",
              "      <td>1.45</td>\n",
              "      <td>50.0</td>\n",
              "      <td>3.0</td>\n",
              "      <td>20.0</td>\n",
              "      <td>10.0</td>\n",
              "      <td>36.34</td>\n",
              "      <td>NaN</td>\n",
              "      <td>0.778</td>\n",
              "    </tr>\n",
              "    <tr>\n",
              "      <th>1</th>\n",
              "      <td>GaPt04</td>\n",
              "      <td>Ga</td>\n",
              "      <td>PD</td>\n",
              "      <td>4</td>\n",
              "      <td>male</td>\n",
              "      <td>68</td>\n",
              "      <td>1.71</td>\n",
              "      <td>NaN</td>\n",
              "      <td>2.5</td>\n",
              "      <td>25.0</td>\n",
              "      <td>8.0</td>\n",
              "      <td>11.00</td>\n",
              "      <td>0.642</td>\n",
              "      <td>0.818</td>\n",
              "    </tr>\n",
              "    <tr>\n",
              "      <th>2</th>\n",
              "      <td>GaPt05</td>\n",
              "      <td>Ga</td>\n",
              "      <td>PD</td>\n",
              "      <td>5</td>\n",
              "      <td>female</td>\n",
              "      <td>82</td>\n",
              "      <td>1.53</td>\n",
              "      <td>51.0</td>\n",
              "      <td>2.5</td>\n",
              "      <td>24.0</td>\n",
              "      <td>5.0</td>\n",
              "      <td>14.50</td>\n",
              "      <td>0.908</td>\n",
              "      <td>0.614</td>\n",
              "    </tr>\n",
              "    <tr>\n",
              "      <th>3</th>\n",
              "      <td>GaPt06</td>\n",
              "      <td>Ga</td>\n",
              "      <td>PD</td>\n",
              "      <td>6</td>\n",
              "      <td>male</td>\n",
              "      <td>72</td>\n",
              "      <td>1.70</td>\n",
              "      <td>82.0</td>\n",
              "      <td>2.0</td>\n",
              "      <td>16.0</td>\n",
              "      <td>13.0</td>\n",
              "      <td>10.47</td>\n",
              "      <td>0.848</td>\n",
              "      <td>0.937</td>\n",
              "    </tr>\n",
              "    <tr>\n",
              "      <th>4</th>\n",
              "      <td>GaPt07</td>\n",
              "      <td>Ga</td>\n",
              "      <td>PD</td>\n",
              "      <td>7</td>\n",
              "      <td>female</td>\n",
              "      <td>53</td>\n",
              "      <td>1.67</td>\n",
              "      <td>54.0</td>\n",
              "      <td>3.0</td>\n",
              "      <td>44.0</td>\n",
              "      <td>22.0</td>\n",
              "      <td>18.34</td>\n",
              "      <td>0.677</td>\n",
              "      <td>0.579</td>\n",
              "    </tr>\n",
              "  </tbody>\n",
              "</table>\n",
              "</div>\n",
              "      <button class=\"colab-df-convert\" onclick=\"convertToInteractive('df-62a1ff32-5f07-42eb-a99e-36255917e013')\"\n",
              "              title=\"Convert this dataframe to an interactive table.\"\n",
              "              style=\"display:none;\">\n",
              "        \n",
              "  <svg xmlns=\"http://www.w3.org/2000/svg\" height=\"24px\"viewBox=\"0 0 24 24\"\n",
              "       width=\"24px\">\n",
              "    <path d=\"M0 0h24v24H0V0z\" fill=\"none\"/>\n",
              "    <path d=\"M18.56 5.44l.94 2.06.94-2.06 2.06-.94-2.06-.94-.94-2.06-.94 2.06-2.06.94zm-11 1L8.5 8.5l.94-2.06 2.06-.94-2.06-.94L8.5 2.5l-.94 2.06-2.06.94zm10 10l.94 2.06.94-2.06 2.06-.94-2.06-.94-.94-2.06-.94 2.06-2.06.94z\"/><path d=\"M17.41 7.96l-1.37-1.37c-.4-.4-.92-.59-1.43-.59-.52 0-1.04.2-1.43.59L10.3 9.45l-7.72 7.72c-.78.78-.78 2.05 0 2.83L4 21.41c.39.39.9.59 1.41.59.51 0 1.02-.2 1.41-.59l7.78-7.78 2.81-2.81c.8-.78.8-2.07 0-2.86zM5.41 20L4 18.59l7.72-7.72 1.47 1.35L5.41 20z\"/>\n",
              "  </svg>\n",
              "      </button>\n",
              "      \n",
              "  <style>\n",
              "    .colab-df-container {\n",
              "      display:flex;\n",
              "      flex-wrap:wrap;\n",
              "      gap: 12px;\n",
              "    }\n",
              "\n",
              "    .colab-df-convert {\n",
              "      background-color: #E8F0FE;\n",
              "      border: none;\n",
              "      border-radius: 50%;\n",
              "      cursor: pointer;\n",
              "      display: none;\n",
              "      fill: #1967D2;\n",
              "      height: 32px;\n",
              "      padding: 0 0 0 0;\n",
              "      width: 32px;\n",
              "    }\n",
              "\n",
              "    .colab-df-convert:hover {\n",
              "      background-color: #E2EBFA;\n",
              "      box-shadow: 0px 1px 2px rgba(60, 64, 67, 0.3), 0px 1px 3px 1px rgba(60, 64, 67, 0.15);\n",
              "      fill: #174EA6;\n",
              "    }\n",
              "\n",
              "    [theme=dark] .colab-df-convert {\n",
              "      background-color: #3B4455;\n",
              "      fill: #D2E3FC;\n",
              "    }\n",
              "\n",
              "    [theme=dark] .colab-df-convert:hover {\n",
              "      background-color: #434B5C;\n",
              "      box-shadow: 0px 1px 3px 1px rgba(0, 0, 0, 0.15);\n",
              "      filter: drop-shadow(0px 1px 2px rgba(0, 0, 0, 0.3));\n",
              "      fill: #FFFFFF;\n",
              "    }\n",
              "  </style>\n",
              "\n",
              "      <script>\n",
              "        const buttonEl =\n",
              "          document.querySelector('#df-62a1ff32-5f07-42eb-a99e-36255917e013 button.colab-df-convert');\n",
              "        buttonEl.style.display =\n",
              "          google.colab.kernel.accessAllowed ? 'block' : 'none';\n",
              "\n",
              "        async function convertToInteractive(key) {\n",
              "          const element = document.querySelector('#df-62a1ff32-5f07-42eb-a99e-36255917e013');\n",
              "          const dataTable =\n",
              "            await google.colab.kernel.invokeFunction('convertToInteractive',\n",
              "                                                     [key], {});\n",
              "          if (!dataTable) return;\n",
              "\n",
              "          const docLinkHtml = 'Like what you see? Visit the ' +\n",
              "            '<a target=\"_blank\" href=https://colab.research.google.com/notebooks/data_table.ipynb>data table notebook</a>'\n",
              "            + ' to learn more about interactive tables.';\n",
              "          element.innerHTML = '';\n",
              "          dataTable['output_type'] = 'display_data';\n",
              "          await google.colab.output.renderOutput(dataTable, element);\n",
              "          const docLink = document.createElement('div');\n",
              "          docLink.innerHTML = docLinkHtml;\n",
              "          element.appendChild(docLink);\n",
              "        }\n",
              "      </script>\n",
              "    </div>\n",
              "  </div>\n",
              "  "
            ],
            "text/plain": [
              "       ID Study Group  Subjnum  Gender  Age  Height (meters)  Weight (kg)  \\\n",
              "0  GaPt03    Ga    PD        3  female   82             1.45         50.0   \n",
              "1  GaPt04    Ga    PD        4    male   68             1.71          NaN   \n",
              "2  GaPt05    Ga    PD        5  female   82             1.53         51.0   \n",
              "3  GaPt06    Ga    PD        6    male   72             1.70         82.0   \n",
              "4  GaPt07    Ga    PD        7  female   53             1.67         54.0   \n",
              "\n",
              "   HoehnYahr  UPDRS  UPDRSM   TUAG  Speed_01 (m/sec)  Speed_10  \n",
              "0        3.0   20.0    10.0  36.34               NaN     0.778  \n",
              "1        2.5   25.0     8.0  11.00             0.642     0.818  \n",
              "2        2.5   24.0     5.0  14.50             0.908     0.614  \n",
              "3        2.0   16.0    13.0  10.47             0.848     0.937  \n",
              "4        3.0   44.0    22.0  18.34             0.677     0.579  "
            ]
          },
          "execution_count": 16,
          "metadata": {},
          "output_type": "execute_result"
        }
      ],
      "source": [
        "dem_df.head()"
      ]
    },
    {
      "cell_type": "markdown",
      "metadata": {
        "id": "yuULklqvO2AE"
      },
      "source": [
        "#### Data for training the model - choosing total right force as x "
      ]
    },
    {
      "cell_type": "code",
      "execution_count": null,
      "metadata": {
        "id": "m34c-mlimWUo"
      },
      "outputs": [],
      "source": [
        "total_right_features=[None]*306 #306 is the numbe of walks we have\n",
        "y_df = pd.DataFrame(columns=['ID', 'y', 'level'])\n",
        "for i,name in enumerate(os.listdir(csvD_path)):\n",
        "  id = name.split('_')[0]\n",
        "  level = dem_df['HoehnYahr'][dem_df['ID'] == id ].values[0]\n",
        "  if 'Co' in name:\n",
        "    parkinson = 0\n",
        "  elif 'Pt' in name:\n",
        "    parkinson = 1\n",
        "  y_df = y_df.append({'ID': id, 'y': parkinson, 'level': level}, ignore_index=True)\n",
        "  total_right_features[i] = pd.read_csv(csvD_path+'/' + name).iloc[:1000, 18].values\n",
        "  "
      ]
    },
    {
      "cell_type": "code",
      "execution_count": null,
      "metadata": {
        "id": "t_RsS5k4Eljb"
      },
      "outputs": [],
      "source": [
        "# null values are assigned for control group so we replace it with 0\n",
        "y_df['level'].fillna(0, inplace = True)"
      ]
    },
    {
      "cell_type": "markdown",
      "metadata": {
        "id": "-wFIdOSsKQnt"
      },
      "source": [
        "class labels are 0,1,2,2.5,3\n",
        "Converting them to : 0,1,2,3,4 for classifing"
      ]
    },
    {
      "cell_type": "code",
      "execution_count": null,
      "metadata": {
        "id": "JY7aklmnISmj"
      },
      "outputs": [],
      "source": [
        "y_df['level'].replace(3, 4, inplace= True)"
      ]
    },
    {
      "cell_type": "code",
      "execution_count": null,
      "metadata": {
        "id": "nTIuTl89KLBI"
      },
      "outputs": [],
      "source": [
        "y_df['level'].replace(2.5, 3, inplace= True)"
      ]
    },
    {
      "cell_type": "code",
      "execution_count": null,
      "metadata": {
        "id": "ZUF0JGpxKZzM"
      },
      "outputs": [],
      "source": [
        "y=y_df['level'].astype('int')"
      ]
    },
    {
      "cell_type": "code",
      "execution_count": null,
      "metadata": {
        "id": "f4xiJLvzPQC9"
      },
      "outputs": [],
      "source": [
        "y_binary = y_df['y'].astype('int')"
      ]
    },
    {
      "cell_type": "markdown",
      "metadata": {
        "id": "KtwwDUz7MP_P"
      },
      "source": [
        "#### train test split"
      ]
    },
    {
      "cell_type": "code",
      "execution_count": null,
      "metadata": {
        "id": "-gslgoJuMSgx"
      },
      "outputs": [],
      "source": [
        "X_train, X_test, y_train, y_test = train_test_split(total_right_features, y, test_size=0.33, random_state=42)"
      ]
    },
    {
      "cell_type": "markdown",
      "metadata": {
        "id": "crta4J8cPe39"
      },
      "source": [
        "train test split - binary"
      ]
    },
    {
      "cell_type": "code",
      "execution_count": null,
      "metadata": {
        "id": "6FaMCJSXPiMk"
      },
      "outputs": [],
      "source": [
        "X_train_b, X_test_b, y_train_b, y_test_b = train_test_split(total_right_features, y_binary, test_size=0.33, random_state=42)"
      ]
    },
    {
      "cell_type": "markdown",
      "metadata": {
        "id": "M947nsLfHhya"
      },
      "source": [
        "### KNN classifier (univariate: class: level of Parkinson disease : 0,1,2,3,4)"
      ]
    },
    {
      "cell_type": "code",
      "execution_count": null,
      "metadata": {
        "id": "SXDJb2kmF7a0"
      },
      "outputs": [],
      "source": [
        "clf = KNeighborsTimeSeriesClassifier( metric=\"dtw\")"
      ]
    },
    {
      "cell_type": "code",
      "execution_count": null,
      "metadata": {
        "colab": {
          "base_uri": "https://localhost:8080/"
        },
        "id": "10UhIHiWH1Wm",
        "outputId": "4bb1f6bc-6a5d-472b-e532-c4be77225627"
      },
      "outputs": [
        {
          "data": {
            "text/plain": [
              "KNeighborsTimeSeriesClassifier()"
            ]
          },
          "execution_count": 79,
          "metadata": {},
          "output_type": "execute_result"
        }
      ],
      "source": [
        "clf.fit(X_train, y_train)"
      ]
    },
    {
      "cell_type": "code",
      "execution_count": null,
      "metadata": {
        "colab": {
          "base_uri": "https://localhost:8080/"
        },
        "id": "FnUNskmNIOWN",
        "outputId": "d6c0a6a5-6644-470d-b6ef-90e60e9a4b2b"
      },
      "outputs": [
        {
          "data": {
            "text/plain": [
              "0.38613861386138615"
            ]
          },
          "execution_count": 80,
          "metadata": {},
          "output_type": "execute_result"
        }
      ],
      "source": [
        "clf.score(X_test, y_test)"
      ]
    },
    {
      "cell_type": "markdown",
      "metadata": {
        "id": "1COqsQwhPFpT"
      },
      "source": [
        "### KNN Classifier (univeriate, class : control/PD: 0/1)"
      ]
    },
    {
      "cell_type": "code",
      "execution_count": null,
      "metadata": {
        "colab": {
          "base_uri": "https://localhost:8080/"
        },
        "id": "y8VIp9FgNIF1",
        "outputId": "4bfe8791-c7e6-4226-a5b8-9f2d42295186"
      },
      "outputs": [
        {
          "data": {
            "text/plain": [
              "0.7128712871287128"
            ]
          },
          "execution_count": 86,
          "metadata": {},
          "output_type": "execute_result"
        }
      ],
      "source": [
        "clf_b = KNeighborsTimeSeriesClassifier( metric=\"dtw\")\n",
        "clf_b.fit(X_train_b, y_train_b)\n",
        "clf_b.score(X_test_b, y_test_b)"
      ]
    },
    {
      "cell_type": "markdown",
      "metadata": {
        "id": "2r60KuPqT-s1"
      },
      "source": [
        "### Multivariate classifier"
      ]
    },
    {
      "cell_type": "markdown",
      "metadata": {
        "id": "tuuqGhEjUqgD"
      },
      "source": [
        "#### trying how to pass multivariate dataset"
      ]
    },
    {
      "cell_type": "code",
      "execution_count": null,
      "metadata": {
        "colab": {
          "base_uri": "https://localhost:8080/"
        },
        "id": "ud3ToXuDPwIR",
        "outputId": "318102f7-5957-47b1-c7f9-401643436bc4"
      },
      "outputs": [
        {
          "data": {
            "text/plain": [
              "array([0])"
            ]
          },
          "execution_count": 89,
          "metadata": {},
          "output_type": "execute_result"
        }
      ],
      "source": [
        "c = KNeighborsTimeSeriesClassifier(n_neighbors=2, metric=\"dtw\")\n",
        "c.fit([[[1, 2, 3],[1, 2, 3]] , [[1, 1.2, 3.2],[1, 2, 3]], [[3, 2, 1],[1, 2, 3]]],y=[0, 0, 1]).predict([[[1, 2.2, 3.5],[1, 2, 3]]]) "
      ]
    },
    {
      "cell_type": "markdown",
      "metadata": {
        "id": "QMQ_Fx1qVHnk"
      },
      "source": [
        "Reading our multivariate dataset"
      ]
    },
    {
      "cell_type": "code",
      "execution_count": null,
      "metadata": {
        "id": "CgYElJdXTsuq"
      },
      "outputs": [],
      "source": [
        "features=[None]*306 #306 is the numbe of walks we have\n",
        "y_df = pd.DataFrame(columns=['ID', 'y', 'level'])\n",
        "for i,name in enumerate(os.listdir(csvD_path)):\n",
        "  id = name.split('_')[0]\n",
        "  level = dem_df['HoehnYahr'][dem_df['ID'] == id ].values[0]\n",
        "  if 'Co' in name:\n",
        "    parkinson = 0\n",
        "  elif 'Pt' in name:\n",
        "    parkinson = 1\n",
        "  y_df = y_df.append({'ID': id, 'y': parkinson, 'level': level}, ignore_index=True)\n",
        "  features[i] = pd.read_csv(csvD_path+'/' + name).iloc[:1000, 1:15].values # each element of features is a list of list = list of rows "
      ]
    },
    {
      "cell_type": "code",
      "execution_count": null,
      "metadata": {
        "id": "gjzfM5KfYCbe"
      },
      "outputs": [],
      "source": [
        "y_binary = y_df['y'].astype('int')"
      ]
    },
    {
      "cell_type": "code",
      "source": [
        "len(features[0]) # (306,1000,14)"
      ],
      "metadata": {
        "colab": {
          "base_uri": "https://localhost:8080/"
        },
        "id": "l8a4sDs-iC7k",
        "outputId": "d457c0a5-fc61-462f-9795-29bccc23f801"
      },
      "execution_count": null,
      "outputs": [
        {
          "output_type": "execute_result",
          "data": {
            "text/plain": [
              "1000"
            ]
          },
          "metadata": {},
          "execution_count": 122
        }
      ]
    },
    {
      "cell_type": "code",
      "source": [
        "len(features[0][0])"
      ],
      "metadata": {
        "colab": {
          "base_uri": "https://localhost:8080/"
        },
        "id": "XuMsvOcXh1rp",
        "outputId": "af5a93bc-2da3-4813-9b7c-22888aa8c5df"
      },
      "execution_count": null,
      "outputs": [
        {
          "output_type": "execute_result",
          "data": {
            "text/plain": [
              "14"
            ]
          },
          "metadata": {},
          "execution_count": 121
        }
      ]
    },
    {
      "cell_type": "code",
      "execution_count": null,
      "metadata": {
        "id": "580oeKOEaBwf",
        "colab": {
          "base_uri": "https://localhost:8080/"
        },
        "outputId": "edd01692-7079-4abb-f808-41a82617f795"
      },
      "outputs": [
        {
          "output_type": "execute_result",
          "data": {
            "text/plain": [
              "1000"
            ]
          },
          "metadata": {},
          "execution_count": 129
        }
      ],
      "source": [
        " # checking the dimentions of x data\n",
        "len(X_train[0])"
      ]
    },
    {
      "cell_type": "markdown",
      "source": [
        "#### Multivariate classifier - PG/Control classification"
      ],
      "metadata": {
        "id": "-G41eq6HwJVP"
      }
    },
    {
      "cell_type": "code",
      "execution_count": null,
      "metadata": {
        "id": "InIobGmPZ2-z"
      },
      "outputs": [],
      "source": [
        "X_train_b, X_test_b, y_train_b, y_test_b = train_test_split(features, y_binary, test_size=0.33, random_state=42)"
      ]
    },
    {
      "cell_type": "code",
      "execution_count": null,
      "metadata": {
        "colab": {
          "background_save": true
        },
        "id": "mOqbshuCZ77p",
        "outputId": "69a7e394-620d-4cf0-9858-f46298d1bf74"
      },
      "outputs": [
        {
          "data": {
            "text/plain": [
              "0.8217821782178217"
            ]
          },
          "execution_count": 107,
          "metadata": {},
          "output_type": "execute_result"
        }
      ],
      "source": [
        "clf_b = KNeighborsTimeSeriesClassifier( metric=\"dtw\")\n",
        "clf_b.fit(X_train_b, y_train_b)\n",
        "clf_b.score(X_test_b, y_test_b)"
      ]
    },
    {
      "cell_type": "markdown",
      "source": [
        "### Multivariate Classifier (class labels: parkinson's level)"
      ],
      "metadata": {
        "id": "12T-Nny0go2M"
      }
    },
    {
      "cell_type": "code",
      "source": [
        "# null values are assigned for control group so we replace it with 0\n",
        "y_df['level'].fillna(0, inplace = True)\n",
        "y_df['level'].replace(3, 4, inplace= True)\n",
        "y_df['level'].replace(2.5, 3, inplace= True)\n",
        "y=y_df['level'].astype('int')"
      ],
      "metadata": {
        "id": "EhifDdy5i7zT"
      },
      "execution_count": null,
      "outputs": []
    },
    {
      "cell_type": "code",
      "execution_count": null,
      "metadata": {
        "id": "FHhKGnGHag5o"
      },
      "outputs": [],
      "source": [
        "X_train, X_test, y_train, y_test = train_test_split(total_right_features, y, test_size=0.33, random_state=42)"
      ]
    },
    {
      "cell_type": "code",
      "source": [
        "clf = KNeighborsTimeSeriesClassifier( metric=\"dtw\")\n",
        "clf.fit(X_train, y_train)\n",
        "clf.score(X_test, y_test)"
      ],
      "metadata": {
        "colab": {
          "base_uri": "https://localhost:8080/"
        },
        "id": "t-EAt1tki13K",
        "outputId": "9fb0922a-d280-4ab2-821c-6b573d11d379"
      },
      "execution_count": null,
      "outputs": [
        {
          "output_type": "execute_result",
          "data": {
            "text/plain": [
              "0.38613861386138615"
            ]
          },
          "metadata": {},
          "execution_count": 136
        }
      ]
    }
  ],
  "metadata": {
    "colab": {
      "provenance": []
    },
    "kernelspec": {
      "display_name": "Python 3",
      "name": "python3"
    },
    "language_info": {
      "name": "python"
    }
  },
  "nbformat": 4,
  "nbformat_minor": 0
}