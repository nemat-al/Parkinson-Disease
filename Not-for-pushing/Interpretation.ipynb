{
  "nbformat": 4,
  "nbformat_minor": 0,
  "metadata": {
    "colab": {
      "provenance": [],
      "collapsed_sections": [
        "83kdBccA2X0a"
      ]
    },
    "kernelspec": {
      "name": "python3",
      "display_name": "Python 3"
    },
    "language_info": {
      "name": "python"
    }
  },
  "cells": [
    {
      "cell_type": "markdown",
      "source": [
        "## Importing"
      ],
      "metadata": {
        "id": "QbSayjgDAjn8"
      }
    },
    {
      "cell_type": "code",
      "source": [
        "pip install eli5"
      ],
      "metadata": {
        "colab": {
          "base_uri": "https://localhost:8080/"
        },
        "id": "wpjjIAeeBiwK",
        "outputId": "7740ef99-6b88-4270-d19b-8b94deaa002d"
      },
      "execution_count": 2,
      "outputs": [
        {
          "output_type": "stream",
          "name": "stdout",
          "text": [
            "Looking in indexes: https://pypi.org/simple, https://us-python.pkg.dev/colab-wheels/public/simple/\n",
            "Collecting eli5\n",
            "  Downloading eli5-0.13.0.tar.gz (216 kB)\n",
            "\u001b[2K     \u001b[90m━━━━━━━━━━━━━━━━━━━━━━━━━━━━━━━━━━━━━━\u001b[0m \u001b[32m216.2/216.2 kB\u001b[0m \u001b[31m10.0 MB/s\u001b[0m eta \u001b[36m0:00:00\u001b[0m\n",
            "\u001b[?25h  Preparing metadata (setup.py) ... \u001b[?25l\u001b[?25hdone\n",
            "Requirement already satisfied: attrs>17.1.0 in /usr/local/lib/python3.9/dist-packages (from eli5) (23.1.0)\n",
            "Requirement already satisfied: jinja2>=3.0.0 in /usr/local/lib/python3.9/dist-packages (from eli5) (3.1.2)\n",
            "Requirement already satisfied: numpy>=1.9.0 in /usr/local/lib/python3.9/dist-packages (from eli5) (1.22.4)\n",
            "Requirement already satisfied: scipy in /usr/local/lib/python3.9/dist-packages (from eli5) (1.10.1)\n",
            "Requirement already satisfied: six in /usr/local/lib/python3.9/dist-packages (from eli5) (1.16.0)\n",
            "Requirement already satisfied: scikit-learn>=0.20 in /usr/local/lib/python3.9/dist-packages (from eli5) (1.2.2)\n",
            "Requirement already satisfied: graphviz in /usr/local/lib/python3.9/dist-packages (from eli5) (0.20.1)\n",
            "Requirement already satisfied: tabulate>=0.7.7 in /usr/local/lib/python3.9/dist-packages (from eli5) (0.8.10)\n",
            "Requirement already satisfied: MarkupSafe>=2.0 in /usr/local/lib/python3.9/dist-packages (from jinja2>=3.0.0->eli5) (2.1.2)\n",
            "Requirement already satisfied: joblib>=1.1.1 in /usr/local/lib/python3.9/dist-packages (from scikit-learn>=0.20->eli5) (1.2.0)\n",
            "Requirement already satisfied: threadpoolctl>=2.0.0 in /usr/local/lib/python3.9/dist-packages (from scikit-learn>=0.20->eli5) (3.1.0)\n",
            "Building wheels for collected packages: eli5\n",
            "  Building wheel for eli5 (setup.py) ... \u001b[?25l\u001b[?25hdone\n",
            "  Created wheel for eli5: filename=eli5-0.13.0-py2.py3-none-any.whl size=107747 sha256=5b4db5b3ebb0fce7a718252cf7f6cb2013718bd8d18aaec154179590bb0c717d\n",
            "  Stored in directory: /root/.cache/pip/wheels/7b/26/a5/8460416695a992a2966b41caa5338e5e7fcea98c9d032d055c\n",
            "Successfully built eli5\n",
            "Installing collected packages: eli5\n",
            "Successfully installed eli5-0.13.0\n"
          ]
        }
      ]
    },
    {
      "cell_type": "code",
      "execution_count": 3,
      "metadata": {
        "id": "0lclyBN-AaXT"
      },
      "outputs": [],
      "source": [
        "import eli5"
      ]
    },
    {
      "cell_type": "code",
      "source": [
        "from eli5.sklearn import PermutationImportance"
      ],
      "metadata": {
        "id": "aCBFMqKHAhcQ"
      },
      "execution_count": 4,
      "outputs": []
    },
    {
      "cell_type": "code",
      "source": [
        "from sklearn.ensemble import RandomForestClassifier"
      ],
      "metadata": {
        "id": "Dt9t2t59zUhE"
      },
      "execution_count": 5,
      "outputs": []
    },
    {
      "cell_type": "code",
      "source": [
        "import pickle\n"
      ],
      "metadata": {
        "id": "Wky0LPS11_hZ"
      },
      "execution_count": 6,
      "outputs": []
    },
    {
      "cell_type": "code",
      "source": [
        "import pandas as pd\n",
        "import numpy as np\n",
        "\n",
        "from sklearn.preprocessing import PolynomialFeatures\n",
        "from sklearn import decomposition\n",
        "from sklearn.model_selection import train_test_split\n",
        "from sklearn import decomposition\n",
        "from sklearn.svm import SVC\n",
        "from sklearn.ensemble import RandomForestClassifier\n",
        "from sklearn.metrics import accuracy_score\n",
        "from sklearn.preprocessing import StandardScaler\n",
        "\n",
        "import os\n",
        "\n",
        "from tqdm.auto import tqdm\n",
        "\n",
        "import shutil\n",
        "\n",
        "from itertools import groupby\n",
        "\n",
        "import matplotlib.pyplot as plt\n",
        "\n",
        "from statistics import mean\n",
        "\n",
        "import scipy.stats as stats\n",
        "from scipy.stats import skew\n",
        "from scipy.stats import kurtosis\n",
        "from scipy.fftpack import fft\n",
        "\n",
        "import tensorflow as tf\n",
        "from tensorflow import keras\n",
        "\n",
        "import pickle\n",
        "\n",
        "from keras.models import Sequential, Model\n",
        "from keras.layers import LSTM, Dense, Input, Flatten, Conv1D, MaxPooling1D, Concatenate, Dropout\n",
        "from keras.optimizers import Adam\n",
        "from keras.callbacks import EarlyStopping\n",
        "from keras.utils.vis_utils import plot_model"
      ],
      "metadata": {
        "id": "qh6y8kGH2tNK"
      },
      "execution_count": 13,
      "outputs": []
    },
    {
      "cell_type": "code",
      "source": [
        "from google.colab import drive\n",
        "drive.mount('/content/drive')"
      ],
      "metadata": {
        "colab": {
          "base_uri": "https://localhost:8080/"
        },
        "id": "bAwGFlhP2EVj",
        "outputId": "7e8a9bcf-593b-44c0-cef2-864b08b71bdb"
      },
      "execution_count": 8,
      "outputs": [
        {
          "output_type": "stream",
          "name": "stdout",
          "text": [
            "Mounted at /content/drive\n"
          ]
        }
      ]
    },
    {
      "cell_type": "code",
      "source": [
        "# path of original data folder\n",
        "data_path = \"/content/drive/MyDrive/ITMO-Master's/Thesis/3rd_semester/Data\"\n",
        "# path of csv files, each file is a 2mins walk for a subject\n",
        "csvD_path = \"/content/drive/MyDrive/ITMO-Master's/Thesis/3rd_semester/Data/csv_files\"\n",
        "# In this file, the Null values are replaved with 0 in the HY scale - Null values were given to healthy control\n",
        "demographics = \"/content/drive/MyDrive/ITMO-Master's/Thesis/3rd_semester/Data/Processed_data/demographics_HYprocessed.csv\" \n",
        "dem_df = pd.read_csv(demographics)\n",
        "# parequet folder path\n",
        "parquet_path = \"/content/drive/MyDrive/ITMO-Master's/Thesis/3rd_semester/Data/parquet_files/\""
      ],
      "metadata": {
        "id": "9voxdV692p8Z"
      },
      "execution_count": 14,
      "outputs": []
    },
    {
      "cell_type": "markdown",
      "source": [
        "## Data"
      ],
      "metadata": {
        "id": "83kdBccA2X0a"
      }
    },
    {
      "cell_type": "code",
      "source": [
        "class Data:\n",
        "  def __init__(self, prepare_or_get, data_folder, demographics_file, parquet_path):\n",
        "    '''\n",
        "    :param prepare_or_get:  1: prepare data , 0: load preloaded datas (npy)\n",
        "    :param data_folder: path for a folder containing csv files, file for each 2 mins walk (for indivdiual subject)\n",
        "    :param demographics_file: path for csv demographics file\n",
        "    :save_path: path where to save/read parquet files after preparing them\n",
        "    :\n",
        "    '''\n",
        "\n",
        "    self.data_path = data_folder\n",
        "    self.parquet_path= parquet_path\n",
        "    self.dem_path= demographics_file\n",
        "    self.scale=\"HoehnYahr\"            # fixed for now\n",
        "    self.seconds_to_discard = 20      # fixed for now\n",
        "    self.rows_to_discard = 100 * self.seconds_to_discard\n",
        "    \n",
        "    # data in arrays\n",
        "    self.signals_data = []\n",
        "    self.cycles_data=[]\n",
        "    self.statical_data=[]\n",
        "  \n",
        "\n",
        "    if (prepare_or_get==1):\n",
        "      self.prepare_data()\n",
        "    elif (prepare_or_get==0):\n",
        "      self.get_data()\n",
        "  \n",
        "  def get_data(self):\n",
        "    self.signals_data_df= pd.read_parquet(self.parquet_path+'signals.gzip')\n",
        "    self.cycles_data_df=pd.read_parquet(self.parquet_path+'cyclels.gzip')\n",
        "    self.statical_data_df=pd.read_parquet(self.parquet_path+'statical.gzip')\n",
        "    self.left_stances_df=pd.read_parquet(self.parquet_path+'left_stances.gzip')\n",
        "    self.right_stances_df=pd.read_parquet(self.parquet_path+'right_stances.gzip')\n",
        "\n",
        "  def prepare_data(self):\n",
        "    # loop over files, each file is a 2 min walk for a single individual\n",
        "    # files are expected to be in csv format\n",
        "    self.dem_df = pd.read_csv(self.dem_path)\n",
        "    for name in tqdm((os.listdir(self.data_path))):\n",
        "       \n",
        "      # id of subject\n",
        "      id = name.split('_')[0]\n",
        "\n",
        "      # disease level according to 'self.scale'\n",
        "      level = self.get_pd_level( id)\n",
        "\n",
        "      # parkinon's patient OR healthy control ?\n",
        "      if 'Co' in name:  \n",
        "        parkinson = 0 # Healthy control\n",
        "      elif 'Pt' in name:\n",
        "        parkinson = 1 # Parkinson's Patient\n",
        "\n",
        "      # read and filter one file\n",
        "      one_walk=self.read_filter(name)\n",
        "\n",
        "      # sum of values from all the left sensors\n",
        "      one_walk['Total_Force_Left'] = one_walk[list(one_walk.columns[0:8])].sum(axis=1)\n",
        "     \n",
        "      # sum of values from all the right sensors\n",
        "      one_walk['Total_Force_Right'] = one_walk[list(one_walk.columns[8:16])].sum(axis=1)\n",
        "      \n",
        "      # convert to lists\n",
        "      one_walk_lists=[]*18\n",
        "      for column in one_walk.columns.values.tolist():\n",
        "        one_walk_lists.append(one_walk[column].tolist()) \n",
        "\n",
        "      ## Left foot related ##\n",
        "      l_stances, l_strides_time , l_swings_time, l_stances_time, l_indices = self.segment_signal(one_walk_lists[16])\n",
        "      # Find maximum VGRF at heel strike for each gait cycle \n",
        "      l_peaks_heel = self.get_max_per_gait_cycle(one_walk_lists[0],l_indices) # sensor 0 = left heal sensor\n",
        "      # Find maximum VGRF at toe off for each gait cycle\n",
        "      l_peaks_toe = self.get_max_per_gait_cycle(one_walk_lists[7],l_indices) # sensor 7 = left toe sensor\n",
        "\n",
        "      ## right foot related ##\n",
        "      r_stances, r_strides_time , r_swings_time, r_stances_time, r_indices = self.segment_signal(one_walk_lists[17])\n",
        "      # Find maximum VGRF at heel strike for each gait cycle \n",
        "      r_peaks_heel = self.get_max_per_gait_cycle(one_walk_lists[8],l_indices) # sensor 8 = right heal sensor\n",
        "      # Find maximum VGRF at toe off for each gait cycle\n",
        "      r_peaks_toe = self.get_max_per_gait_cycle(one_walk_lists[15],l_indices) # sensor 15 = right toe sensor\n",
        "\n",
        "\n",
        "      ## Saving data ##\n",
        "\n",
        "      # Raw Signals\n",
        "      self.signals_data.append([id,level,parkinson] +one_walk_lists)\n",
        "\n",
        "      # Statical\n",
        "      self.statical_data.append( [ id, level, parkinson \n",
        "                                , mean (l_swings_time) , np.std(l_swings_time), (mean (l_swings_time) / np.std(l_swings_time) *100)\n",
        "                                , mean (l_strides_time) , np.std(l_strides_time) , (mean (l_strides_time) / np.std(l_strides_time)*100)\n",
        "                                , kurtosis(l_strides_time), skew(l_strides_time)\n",
        "                                , mean (l_stances_time) , np.std(l_stances_time) , ( mean (l_stances_time) / np.std(l_stances_time) *100) \n",
        "\n",
        "                                , mean (r_swings_time) , np.std(r_swings_time), (mean (r_swings_time) / np.std(r_swings_time) *100)\n",
        "                                , mean (r_strides_time) , np.std(r_strides_time) , (mean (r_strides_time) / np.std(r_strides_time)*100)\n",
        "                                , kurtosis(r_strides_time), skew(r_strides_time)\n",
        "                                , mean (r_stances_time) , np.std(r_stances_time) , ( mean (r_stances_time) / np.std(r_stances_time) *100)\n",
        "                                \n",
        "                                , mean (l_peaks_heel) , np.std(l_peaks_heel) ,mean (l_peaks_toe) , np.std(l_peaks_toe)\n",
        "                                , mean (r_peaks_heel) , np.std(r_peaks_heel) ,mean (r_peaks_toe) , np.std(r_peaks_toe)\n",
        "                                  ] )\n",
        "      \n",
        "      \n",
        "      # Segmented Signals\n",
        "      \n",
        "      # NEED TO BE MOVED TO SEPERATE FUNCTION\n",
        "      # only for segmented data, for a trial we need each stance phase with the following \n",
        "      # swing phases's time, so here we are adjusting the phases to be equal\n",
        "\n",
        "      dif_l =  len(l_stances)-len(l_swings_time)\n",
        "      if (dif_l > 0):\n",
        "        l_stances=l_stances[:-dif_l]\n",
        "      elif(dif_l < 0):\n",
        "        l_swings_time= l_swings_time[:dif_l]\n",
        "\n",
        "      \n",
        "      dif_r =  len(r_stances)-len(r_swings_time)\n",
        "      if (dif_r>0):\n",
        "        r_stances=r_stances[:-dif_r]\n",
        "      elif(dif_r < 0):\n",
        "        r_swings_time = r_swings_time[:dif_r]\n",
        "       \n",
        "      self.cycles_data.append( [ id, level, parkinson ] \n",
        "                              + [l_stances] + [l_strides_time] + [l_swings_time] + [l_stances_time]\n",
        "                              + [r_stances] + [r_strides_time] + [r_swings_time] + [r_stances_time]\n",
        "                              + [l_peaks_heel] + [l_peaks_toe]\n",
        "                              + [r_peaks_heel] + [r_peaks_toe]\n",
        "                              )\n",
        "      \n",
        "\n",
        "    self.statical_data_to_df()\n",
        "    self.cycles_data_to_df()\n",
        "    self.signal_data_to_df()\n",
        "    ## Get individual stances data frames\n",
        "    self.ind_stances_to_df()\n",
        "    ## writing files ##\n",
        "    self.save_files()\n",
        "\n",
        "  def get_pd_level(self, subject_id):\n",
        "    level = self.dem_df[self.scale][dem_df['ID'] == subject_id ].values[0]\n",
        "    return level\n",
        "\n",
        "  def read_filter(self,name):\n",
        "      # Reading each file, skipping 3 columns (time,total right forces & total left forces)\n",
        "      # For gait cycle segmentation, to eliminate the effect of gait initiation and termenation,\n",
        "      # the first and last N=20 seconds of VGRF data was discarded.\n",
        "\n",
        "      one_walk = pd.read_csv(self.data_path + '/' + name,\n",
        "                             skiprows=list(range(1,self.rows_to_discard+1)) ,\n",
        "                             skipfooter=self.rows_to_discard,\n",
        "                             usecols = np.arange(1,17),\n",
        "                             engine = 'python')  \n",
        "      \n",
        "      # Usually, Vertical Ground React Force VGRF values less than 20N are generated from noise\n",
        "      one_walk.where(one_walk > 20, 0, inplace=True)\n",
        "\n",
        "      return one_walk\n",
        "\n",
        "  def segment_signal(self, signal):\n",
        "      # swing - stance phases repeatly\n",
        "      phases = [list(g) for k, g in groupby((signal), lambda x:x>0)]\n",
        "      \n",
        "      # Deleting the first and last phase, since the first and last 20 seconds were deleted,\n",
        "      # there's no garanty that the first and last phase are complete\n",
        "      # Hence, they are being deleted here just for safety\n",
        "\n",
        "      phases = phases[1:-1]\n",
        "\n",
        "      # filtering phases that is shorter than 20 becuase must propably it's noise\n",
        "      phases = [l for l in phases if len(l)>20]\n",
        "\n",
        "      # indices of the gait cycles\n",
        "      indices=[0]\n",
        "      for i in range(1, len(phases),2):\n",
        "        indices.append(indices[-1]+len(phases[i]) + len(phases[i-1]))\n",
        "\n",
        "      # stances phases\n",
        "      stances = [l for l in phases if any(l)]\n",
        "      \n",
        "      # strides times \n",
        "      strides_time =  [((len(phases[i]) + len(phases[i-1]) -1)*0.01 ) for i in range(1,len(phases),2)]\n",
        "\n",
        "      # swings time\n",
        "      swings_time = [(len(l)-1)*0.01 for l in phases if not all (l)]\n",
        "\n",
        "      # stance time \n",
        "      stances_time = [(len(l)-1)*0.01 for l in stances]\n",
        "\n",
        "      return stances, strides_time , swings_time, stances_time, indices\n",
        "\n",
        "  def get_max_per_gait_cycle(self, signal,indices):\n",
        "    gait_cycles = self.get_gait_cycles(signal, indices)\n",
        "    peaks = [max(cycle) for cycle in gait_cycles]\n",
        "    return peaks\n",
        "\n",
        "  def get_gait_cycles(self, signal, indices):\n",
        "    # get gait cycles\n",
        "    gait_cycles= [signal[indices[i]:indices[i+1]] for i in range(len(indices)-1)]\n",
        "    return gait_cycles\n",
        "\n",
        "  def signal_data_to_df(self):\n",
        "    self.signals_data_df = pd.DataFrame(self.signals_data, columns =[\"ID\", \"level\", \"y\", \"L1\", \"L2\",\"L3\", \"L4\",\"L5\",\"L6\",\"L7\",\"L8\",\n",
        "                                       \"R1\", \"R2\",\"R3\", \"R4\",\"R5\",\"R6\",\"R7\",\"R8\",\"Total_Force_Right\",\"Total_Force_Left\" ])\n",
        "     \n",
        "    \n",
        "  def cycles_data_to_df(self):\n",
        "    self.cycles_data_df = pd.DataFrame(self.cycles_data, columns =[\"ID\", \"level\", \"y\", \n",
        "                                                                   \"l_stances\", \"l_strides_time\", \"l_swings_time\" , \"l_stances_time\"\n",
        "                                                                  , \"r_stances\" , \"r_strides_time\" , \"r_swings_time\" , \"r_stances_time\"\n",
        "                                                                  , \"l_peaks_heel\" , \"l_peaks_toe\"\n",
        "                                                                  , \"r_peaks_heel\" , \"r_peaks_toe\" ])\n",
        "    \n",
        "\n",
        "  def statical_data_to_df(self):\n",
        "    self.statical_data_df = pd.DataFrame(self.statical_data, columns =[\"ID\", \"level\", \"y\"\n",
        "                                                                      , \"mean_left_swings_time\" , \"std_left_swings_time\", \"cv_left_swings_time\"\n",
        "                                                                      , \"mean_left_stride_time\" , \"std_left_stride_time\" ,\"cv_left_stride_time\"\n",
        "                                                                      , \"kurtosis_left_strides_time\", \"skew_left_strides_time\"\n",
        "                                                                      , \"mean_left_stance_time\" , \"std_left_stance_time\", \"cv_left_stance_time\"\n",
        "                                                                      , \"mean_right_swings_time\" , \"std_right_swings_time\", \"cv_right_swings_time\"\n",
        "                                                                      , \"mean_right_stride_time\" , \"std_right_stride_time\", \"cv_right_stride_time\"\n",
        "                                                                      , \"kurtosis_right_strides_time\", \"skew_right_strides_time\"\n",
        "                                                                      , \"mean_right_stance_time\" , \"std_right_stance_time\", \"cv_right_stance_time\"\n",
        "                                                                      , \"mean_left_peaks_heel\" , \"std_left_peaks_heel\"\n",
        "                                                                      , \"mean_left_peaks_toe\" , \"std_left_peaks_toe\"\n",
        "                                                                      , \"mean_right_peaks_heel\" , \"std_right_peaks_heel\"\n",
        "                                                                      , \"mean_right_peaks_toe\" , \"std_right_peaks_toe\"\n",
        "                                                                       ])\n",
        "  def ind_stances_to_df(self):\n",
        "    #droping NNOT WORKING HERE\n",
        "    self.left_stances_df = self.cycles_data_df.explode([\"l_stances\",\"l_swings_time\"])\n",
        "    self.left_stances_df = self.left_stances_df.drop(columns=[\"r_stances\" ,\t\"r_strides_time\" ,\t\"r_swings_time\" ,\t\"r_stances_time\", \"r_peaks_heel\" ,\t\"r_peaks_toe\"], axis=1)\n",
        "\n",
        "    self.right_stances_df = self.cycles_data_df.explode([\"r_stances\",\"r_swings_time\"])\n",
        "    self.right_stances_df = self.right_stances_df.drop(columns=[\"l_stances\" ,\t\"l_strides_time\" ,\t\"l_swings_time\" ,\t\"l_stances_time\", \"l_peaks_heel\" ,\t\"l_peaks_toe\"], axis=1)\n",
        "\n",
        "  def save_files(self):\n",
        "    self.signals_data_df.to_parquet(self.parquet_path+'signals.gzip')\n",
        "    self.cycles_data_df.to_parquet(self.parquet_path+'cyclels.gzip')\n",
        "    self.statical_data_df.to_parquet(self.parquet_path+'statical.gzip')\n",
        "    self.left_stances_df.to_parquet(self.parquet_path+'left_stances.gzip')\n",
        "    self.right_stances_df.to_parquet(self.parquet_path+'right_stances.gzip')"
      ],
      "metadata": {
        "id": "IZrQ8GtT2eny"
      },
      "execution_count": 11,
      "outputs": []
    },
    {
      "cell_type": "code",
      "source": [
        "data = Data( 0, \"\", \"\",parquet_path)"
      ],
      "metadata": {
        "id": "zdTKY_Uz4Oez"
      },
      "execution_count": 15,
      "outputs": []
    },
    {
      "cell_type": "code",
      "source": [
        "type(data.signals_data_df[\"L1\"].iloc[-1]) "
      ],
      "metadata": {
        "colab": {
          "base_uri": "https://localhost:8080/"
        },
        "id": "H1Snyalu4P3B",
        "outputId": "3b26ed57-4134-4904-d2b6-3e69b8a44836"
      },
      "execution_count": 16,
      "outputs": [
        {
          "output_type": "execute_result",
          "data": {
            "text/plain": [
              "numpy.ndarray"
            ]
          },
          "metadata": {},
          "execution_count": 16
        }
      ]
    },
    {
      "cell_type": "markdown",
      "source": [
        "FWHM"
      ],
      "metadata": {
        "id": "mSG-jSRt4rKj"
      }
    },
    {
      "cell_type": "code",
      "source": [
        "def fwhm(y_values_temp, x_values):\n",
        "    y_values, temp_l, temp_r = [], [], []\n",
        "    ## print(y_values_temp, x_values)\n",
        "    # To make 'y_values_temp', a numpy array, into a python list\n",
        "    for x in range(0,len(y_values_temp)):\n",
        "        y_values.append(y_values_temp[x])\n",
        "    peak_height = max(y_values)\n",
        "    half_peak_height = max(y_values)/2\n",
        "    \n",
        "    # Splitting the y_values data into before and after x_value at peak height\n",
        "    y_l_temp = y_values[0:y_values.index(peak_height)]\n",
        "    y_r_temp = y_values[y_values.index(peak_height):len(y_values)]\n",
        "    \n",
        "    # Find 1st closest value to half_peak_height in y_l and y_r\n",
        "    y_l = [abs(x-half_peak_height) for x in y_l_temp] # the distances\n",
        "    y_l_min = min(y_l)\n",
        "    point_left=y_l_temp[y_l.index(y_l_min)]  \n",
        "    \n",
        "    y_r = [abs(x-half_peak_height) for x in y_r_temp] # the distances\n",
        "    point_right=y_r_temp[y_r.index(min(y_r))]  \n",
        "    \n",
        "    # y_l = nsmallest(1, y_l_temp, key=lambda x: abs(x-half_peak_height))\n",
        "    # y_r = nsmallest(1, y_r_temp, key=lambda x: abs(x-half_peak_height))\n",
        "    \n",
        "    # Gets x_value pairs for y_l and y_r\n",
        "    temp_l.append(x_values[y_l_temp.index(point_left)])\n",
        "    temp_r.append(x_values[y_r_temp.index(point_right)])\n",
        "    fwhm_n = temp_l[0] - temp_r[0]\n",
        "    return abs(fwhm_n)"
      ],
      "metadata": {
        "id": "95Dx70Kp4TBq"
      },
      "execution_count": 17,
      "outputs": []
    },
    {
      "cell_type": "code",
      "source": [
        "### SHOULD be applied for all dataframes after `explode`\n",
        "data.right_stances_df = data.right_stances_df.reset_index(drop=True)\n",
        "data.right_stances_df['max_peak'] = data.right_stances_df['r_stances'].apply(lambda x: max(x))\n",
        "data.right_stances_df['FWHM'] = data.right_stances_df['r_stances'].apply(lambda x: fwhm(x, np.arange(0, len(x)*0.01,0.01)))"
      ],
      "metadata": {
        "id": "ISD678My4WY6"
      },
      "execution_count": 18,
      "outputs": []
    },
    {
      "cell_type": "markdown",
      "source": [
        "padding"
      ],
      "metadata": {
        "id": "sjRnVhB74tjx"
      }
    },
    {
      "cell_type": "code",
      "source": [
        "max_length = max([len(row) for row in data.right_stances_df['r_stances']])\n",
        "padded_data = np.zeros((len(data.right_stances_df['r_stances']), max_length))\n",
        "for i, row in enumerate(data.right_stances_df['r_stances']):\n",
        "    padded_data[i, :len(row)] = row\n",
        "padded_data=np.reshape(padded_data,(len(data.right_stances_df['r_stances']), 1,-1))\n",
        "padded_data=padded_data.tolist()\n",
        "padded_data_df = pd.DataFrame(padded_data, columns =[\"padded_stances\"])\n",
        "data.right_stances_df['padded_stances']=padded_data_df"
      ],
      "metadata": {
        "id": "TyGTN15Y4cAy"
      },
      "execution_count": 25,
      "outputs": []
    },
    {
      "cell_type": "markdown",
      "source": [
        "train -test"
      ],
      "metadata": {
        "id": "GRvwZx2m4msr"
      }
    },
    {
      "cell_type": "code",
      "source": [
        "df1 = data.right_stances_df[[ 'padded_stances','r_swings_time','max_peak','FWHM']]\n",
        "y = data.right_stances_df[[ 'y']]\n",
        "X_train, X_test, y_train, y_test = train_test_split(df1, y, random_state=42)"
      ],
      "metadata": {
        "id": "ztzQh0aF4oiS"
      },
      "execution_count": 26,
      "outputs": []
    },
    {
      "cell_type": "markdown",
      "source": [
        "Scaling"
      ],
      "metadata": {
        "id": "vAu78c514zJC"
      }
    },
    {
      "cell_type": "code",
      "source": [
        "# create a scaler object\n",
        "scaler = StandardScaler()\n",
        "\n",
        "# fit and transform the data\n",
        "scaled_data = scaler.fit_transform(np.stack(X_train['padded_stances'].values))\n",
        "scaled_data=scaled_data.tolist()\n",
        "# X_train['scaled_stances']= pd.DataFrame(scaled_data, columns =[\"scaled_data\"]) # this way caused some values to become Nulll\n",
        "X_train.insert(0, \"scaled_stances\", scaled_data, True)"
      ],
      "metadata": {
        "id": "rrPlF_yr5DfV"
      },
      "execution_count": 28,
      "outputs": []
    },
    {
      "cell_type": "markdown",
      "source": [
        "reformatting"
      ],
      "metadata": {
        "id": "EB-3bLMo5J3L"
      }
    },
    {
      "cell_type": "code",
      "source": [
        "data = np.append( np.asarray(X_train['scaled_stances'].tolist()) , np.asarray(X_train[[\"r_swings_time\" ]]),  axis=1)\n",
        "data = np.append( data , np.asarray(X_train[[\"max_peak\" ]]),  axis=1)\n",
        "data = np.append( data , np.asarray(X_train[[\"FWHM\" ]]),  axis=1)"
      ],
      "metadata": {
        "id": "zC_YlnOy5K-C"
      },
      "execution_count": 29,
      "outputs": []
    },
    {
      "cell_type": "markdown",
      "source": [
        "test data"
      ],
      "metadata": {
        "id": "XswLy6tX5P5K"
      }
    },
    {
      "cell_type": "code",
      "source": [
        "scaled_test_data = scaler.transform(np.stack(X_test['padded_stances'].values))\n",
        "scaled_test_data=scaled_test_data.tolist()\n",
        "X_test.insert(0, \"scaled_stances\", scaled_test_data, True)\n",
        "test_data = np.append( np.asarray(X_test['scaled_stances'].tolist()) , np.asarray(X_test[[\"r_swings_time\" ]]),  axis=1)\n",
        "test_data = np.append( test_data , np.asarray(X_test[[\"max_peak\" ]]),  axis=1)\n",
        "test_data = np.append( test_data , np.asarray(X_test[[\"FWHM\" ]]),  axis=1)"
      ],
      "metadata": {
        "id": "wq5vEey05Q89"
      },
      "execution_count": 30,
      "outputs": []
    },
    {
      "cell_type": "markdown",
      "source": [
        "## Interpretation"
      ],
      "metadata": {
        "id": "DfiQowo33iWJ"
      }
    },
    {
      "cell_type": "markdown",
      "source": [
        "### RF Classifier with 100 estimator on scaled stances with 0.94 accuracy"
      ],
      "metadata": {
        "id": "3JXpPo2kCcXU"
      }
    },
    {
      "cell_type": "code",
      "source": [
        "def get_feature_importance(model, X, y, feature_names):\n",
        "    perm = PermutationImportance(model, random_state=42).fit(X, y)\n",
        "    return eli5.show_weights(perm)"
      ],
      "metadata": {
        "id": "WhH98ADj2jPj"
      },
      "execution_count": 31,
      "outputs": []
    },
    {
      "cell_type": "code",
      "source": [
        "# Load the model                                                                                                                                                                                                       \n",
        "with open(\"/content/drive/MyDrive/ITMO-Master's/Thesis/3rd_semester/Models/rf_classifier\", 'rb') as f:\n",
        "    rf = pickle.load(f)"
      ],
      "metadata": {
        "id": "nwoKyWD911ci"
      },
      "execution_count": 9,
      "outputs": []
    },
    {
      "cell_type": "code",
      "source": [
        "# Evaluate the performance of the classifier on the testing set\n",
        "y_pred = rf.predict(test_data)\n",
        "accuracy = accuracy_score(y_test, y_pred)\n",
        "print(f'Accuracy: {accuracy}')"
      ],
      "metadata": {
        "colab": {
          "base_uri": "https://localhost:8080/"
        },
        "id": "yG9CC5wN5dGq",
        "outputId": "9da0d3e7-e1e2-4997-e659-04150fa14311"
      },
      "execution_count": 32,
      "outputs": [
        {
          "output_type": "stream",
          "name": "stdout",
          "text": [
            "Accuracy: 0.9417011094191864\n"
          ]
        }
      ]
    },
    {
      "cell_type": "code",
      "source": [
        "features = [str(i) for i in range (750)]"
      ],
      "metadata": {
        "id": "rvndxpAo93_b"
      },
      "execution_count": 40,
      "outputs": []
    },
    {
      "cell_type": "code",
      "source": [
        "def scorer(model, X, y):\n",
        "    return model.score(pd.DataFrame(X, columns=features), y)\n",
        "\n",
        "perm = PermutationImportance(rf, scoring=scorer).fit(test_data, y_test)"
      ],
      "metadata": {
        "id": "n7NAcpkt9pYM"
      },
      "execution_count": null,
      "outputs": []
    },
    {
      "cell_type": "code",
      "source": [
        " eli5.show_weights(perm)"
      ],
      "metadata": {
        "colab": {
          "base_uri": "https://localhost:8080/",
          "height": 399
        },
        "id": "94MkRym6Bw6s",
        "outputId": "970642d6-c8f3-4ec9-bb39-b6d35b891b08"
      },
      "execution_count": 50,
      "outputs": [
        {
          "output_type": "execute_result",
          "data": {
            "text/plain": [
              "<IPython.core.display.HTML object>"
            ],
            "text/html": [
              "\n",
              "    <style>\n",
              "    table.eli5-weights tr:hover {\n",
              "        filter: brightness(85%);\n",
              "    }\n",
              "</style>\n",
              "\n",
              "\n",
              "\n",
              "    \n",
              "\n",
              "    \n",
              "\n",
              "    \n",
              "\n",
              "    \n",
              "\n",
              "    \n",
              "\n",
              "    \n",
              "\n",
              "\n",
              "    \n",
              "\n",
              "    \n",
              "\n",
              "    \n",
              "\n",
              "    \n",
              "\n",
              "    \n",
              "\n",
              "    \n",
              "\n",
              "\n",
              "    \n",
              "\n",
              "    \n",
              "\n",
              "    \n",
              "\n",
              "    \n",
              "\n",
              "    \n",
              "        <table class=\"eli5-weights eli5-feature-importances\" style=\"border-collapse: collapse; border: none; margin-top: 0em; table-layout: auto;\">\n",
              "    <thead>\n",
              "    <tr style=\"border: none;\">\n",
              "        <th style=\"padding: 0 1em 0 0.5em; text-align: right; border: none;\">Weight</th>\n",
              "        <th style=\"padding: 0 0.5em 0 0.5em; text-align: left; border: none;\">Feature</th>\n",
              "    </tr>\n",
              "    </thead>\n",
              "    <tbody>\n",
              "    \n",
              "        <tr style=\"background-color: hsl(120, 100.00%, 80.00%); border: none;\">\n",
              "            <td style=\"padding: 0 1em 0 0.5em; text-align: right; border: none;\">\n",
              "                0.0104\n",
              "                \n",
              "                    &plusmn; 0.0012\n",
              "                \n",
              "            </td>\n",
              "            <td style=\"padding: 0 0.5em 0 0.5em; text-align: left; border: none;\">\n",
              "                x747\n",
              "            </td>\n",
              "        </tr>\n",
              "    \n",
              "        <tr style=\"background-color: hsl(120, 100.00%, 80.12%); border: none;\">\n",
              "            <td style=\"padding: 0 1em 0 0.5em; text-align: right; border: none;\">\n",
              "                0.0103\n",
              "                \n",
              "                    &plusmn; 0.0028\n",
              "                \n",
              "            </td>\n",
              "            <td style=\"padding: 0 0.5em 0 0.5em; text-align: left; border: none;\">\n",
              "                x1\n",
              "            </td>\n",
              "        </tr>\n",
              "    \n",
              "        <tr style=\"background-color: hsl(120, 100.00%, 91.42%); border: none;\">\n",
              "            <td style=\"padding: 0 1em 0 0.5em; text-align: right; border: none;\">\n",
              "                0.0031\n",
              "                \n",
              "                    &plusmn; 0.0008\n",
              "                \n",
              "            </td>\n",
              "            <td style=\"padding: 0 0.5em 0 0.5em; text-align: left; border: none;\">\n",
              "                x3\n",
              "            </td>\n",
              "        </tr>\n",
              "    \n",
              "        <tr style=\"background-color: hsl(120, 100.00%, 92.47%); border: none;\">\n",
              "            <td style=\"padding: 0 1em 0 0.5em; text-align: right; border: none;\">\n",
              "                0.0026\n",
              "                \n",
              "                    &plusmn; 0.0009\n",
              "                \n",
              "            </td>\n",
              "            <td style=\"padding: 0 0.5em 0 0.5em; text-align: left; border: none;\">\n",
              "                x2\n",
              "            </td>\n",
              "        </tr>\n",
              "    \n",
              "        <tr style=\"background-color: hsl(120, 100.00%, 92.56%); border: none;\">\n",
              "            <td style=\"padding: 0 1em 0 0.5em; text-align: right; border: none;\">\n",
              "                0.0025\n",
              "                \n",
              "                    &plusmn; 0.0004\n",
              "                \n",
              "            </td>\n",
              "            <td style=\"padding: 0 0.5em 0 0.5em; text-align: left; border: none;\">\n",
              "                x54\n",
              "            </td>\n",
              "        </tr>\n",
              "    \n",
              "        <tr style=\"background-color: hsl(120, 100.00%, 93.20%); border: none;\">\n",
              "            <td style=\"padding: 0 1em 0 0.5em; text-align: right; border: none;\">\n",
              "                0.0022\n",
              "                \n",
              "                    &plusmn; 0.0010\n",
              "                \n",
              "            </td>\n",
              "            <td style=\"padding: 0 0.5em 0 0.5em; text-align: left; border: none;\">\n",
              "                x42\n",
              "            </td>\n",
              "        </tr>\n",
              "    \n",
              "        <tr style=\"background-color: hsl(120, 100.00%, 93.57%); border: none;\">\n",
              "            <td style=\"padding: 0 1em 0 0.5em; text-align: right; border: none;\">\n",
              "                0.0020\n",
              "                \n",
              "                    &plusmn; 0.0009\n",
              "                \n",
              "            </td>\n",
              "            <td style=\"padding: 0 0.5em 0 0.5em; text-align: left; border: none;\">\n",
              "                x11\n",
              "            </td>\n",
              "        </tr>\n",
              "    \n",
              "        <tr style=\"background-color: hsl(120, 100.00%, 93.67%); border: none;\">\n",
              "            <td style=\"padding: 0 1em 0 0.5em; text-align: right; border: none;\">\n",
              "                0.0020\n",
              "                \n",
              "                    &plusmn; 0.0003\n",
              "                \n",
              "            </td>\n",
              "            <td style=\"padding: 0 0.5em 0 0.5em; text-align: left; border: none;\">\n",
              "                x45\n",
              "            </td>\n",
              "        </tr>\n",
              "    \n",
              "        <tr style=\"background-color: hsl(120, 100.00%, 93.86%); border: none;\">\n",
              "            <td style=\"padding: 0 1em 0 0.5em; text-align: right; border: none;\">\n",
              "                0.0019\n",
              "                \n",
              "                    &plusmn; 0.0015\n",
              "                \n",
              "            </td>\n",
              "            <td style=\"padding: 0 0.5em 0 0.5em; text-align: left; border: none;\">\n",
              "                x40\n",
              "            </td>\n",
              "        </tr>\n",
              "    \n",
              "        <tr style=\"background-color: hsl(120, 100.00%, 94.16%); border: none;\">\n",
              "            <td style=\"padding: 0 1em 0 0.5em; text-align: right; border: none;\">\n",
              "                0.0018\n",
              "                \n",
              "                    &plusmn; 0.0015\n",
              "                \n",
              "            </td>\n",
              "            <td style=\"padding: 0 0.5em 0 0.5em; text-align: left; border: none;\">\n",
              "                x41\n",
              "            </td>\n",
              "        </tr>\n",
              "    \n",
              "        <tr style=\"background-color: hsl(120, 100.00%, 94.36%); border: none;\">\n",
              "            <td style=\"padding: 0 1em 0 0.5em; text-align: right; border: none;\">\n",
              "                0.0017\n",
              "                \n",
              "                    &plusmn; 0.0011\n",
              "                \n",
              "            </td>\n",
              "            <td style=\"padding: 0 0.5em 0 0.5em; text-align: left; border: none;\">\n",
              "                x52\n",
              "            </td>\n",
              "        </tr>\n",
              "    \n",
              "        <tr style=\"background-color: hsl(120, 100.00%, 94.57%); border: none;\">\n",
              "            <td style=\"padding: 0 1em 0 0.5em; text-align: right; border: none;\">\n",
              "                0.0016\n",
              "                \n",
              "                    &plusmn; 0.0010\n",
              "                \n",
              "            </td>\n",
              "            <td style=\"padding: 0 0.5em 0 0.5em; text-align: left; border: none;\">\n",
              "                x749\n",
              "            </td>\n",
              "        </tr>\n",
              "    \n",
              "        <tr style=\"background-color: hsl(120, 100.00%, 94.57%); border: none;\">\n",
              "            <td style=\"padding: 0 1em 0 0.5em; text-align: right; border: none;\">\n",
              "                0.0016\n",
              "                \n",
              "                    &plusmn; 0.0009\n",
              "                \n",
              "            </td>\n",
              "            <td style=\"padding: 0 0.5em 0 0.5em; text-align: left; border: none;\">\n",
              "                x748\n",
              "            </td>\n",
              "        </tr>\n",
              "    \n",
              "        <tr style=\"background-color: hsl(120, 100.00%, 94.67%); border: none;\">\n",
              "            <td style=\"padding: 0 1em 0 0.5em; text-align: right; border: none;\">\n",
              "                0.0016\n",
              "                \n",
              "                    &plusmn; 0.0011\n",
              "                \n",
              "            </td>\n",
              "            <td style=\"padding: 0 0.5em 0 0.5em; text-align: left; border: none;\">\n",
              "                x14\n",
              "            </td>\n",
              "        </tr>\n",
              "    \n",
              "        <tr style=\"background-color: hsl(120, 100.00%, 94.67%); border: none;\">\n",
              "            <td style=\"padding: 0 1em 0 0.5em; text-align: right; border: none;\">\n",
              "                0.0016\n",
              "                \n",
              "                    &plusmn; 0.0009\n",
              "                \n",
              "            </td>\n",
              "            <td style=\"padding: 0 0.5em 0 0.5em; text-align: left; border: none;\">\n",
              "                x15\n",
              "            </td>\n",
              "        </tr>\n",
              "    \n",
              "        <tr style=\"background-color: hsl(120, 100.00%, 94.67%); border: none;\">\n",
              "            <td style=\"padding: 0 1em 0 0.5em; text-align: right; border: none;\">\n",
              "                0.0016\n",
              "                \n",
              "                    &plusmn; 0.0014\n",
              "                \n",
              "            </td>\n",
              "            <td style=\"padding: 0 0.5em 0 0.5em; text-align: left; border: none;\">\n",
              "                x43\n",
              "            </td>\n",
              "        </tr>\n",
              "    \n",
              "        <tr style=\"background-color: hsl(120, 100.00%, 94.77%); border: none;\">\n",
              "            <td style=\"padding: 0 1em 0 0.5em; text-align: right; border: none;\">\n",
              "                0.0015\n",
              "                \n",
              "                    &plusmn; 0.0008\n",
              "                \n",
              "            </td>\n",
              "            <td style=\"padding: 0 0.5em 0 0.5em; text-align: left; border: none;\">\n",
              "                x50\n",
              "            </td>\n",
              "        </tr>\n",
              "    \n",
              "        <tr style=\"background-color: hsl(120, 100.00%, 94.77%); border: none;\">\n",
              "            <td style=\"padding: 0 1em 0 0.5em; text-align: right; border: none;\">\n",
              "                0.0015\n",
              "                \n",
              "                    &plusmn; 0.0006\n",
              "                \n",
              "            </td>\n",
              "            <td style=\"padding: 0 0.5em 0 0.5em; text-align: left; border: none;\">\n",
              "                x32\n",
              "            </td>\n",
              "        </tr>\n",
              "    \n",
              "        <tr style=\"background-color: hsl(120, 100.00%, 94.77%); border: none;\">\n",
              "            <td style=\"padding: 0 1em 0 0.5em; text-align: right; border: none;\">\n",
              "                0.0015\n",
              "                \n",
              "                    &plusmn; 0.0013\n",
              "                \n",
              "            </td>\n",
              "            <td style=\"padding: 0 0.5em 0 0.5em; text-align: left; border: none;\">\n",
              "                x7\n",
              "            </td>\n",
              "        </tr>\n",
              "    \n",
              "        <tr style=\"background-color: hsl(120, 100.00%, 94.88%); border: none;\">\n",
              "            <td style=\"padding: 0 1em 0 0.5em; text-align: right; border: none;\">\n",
              "                0.0015\n",
              "                \n",
              "                    &plusmn; 0.0013\n",
              "                \n",
              "            </td>\n",
              "            <td style=\"padding: 0 0.5em 0 0.5em; text-align: left; border: none;\">\n",
              "                x65\n",
              "            </td>\n",
              "        </tr>\n",
              "    \n",
              "    \n",
              "        \n",
              "            <tr style=\"background-color: hsl(120, 100.00%, 94.88%); border: none;\">\n",
              "                <td colspan=\"2\" style=\"padding: 0 0.5em 0 0.5em; text-align: center; border: none; white-space: nowrap;\">\n",
              "                    <i>&hellip; 730 more &hellip;</i>\n",
              "                </td>\n",
              "            </tr>\n",
              "        \n",
              "    \n",
              "    </tbody>\n",
              "</table>\n",
              "    \n",
              "\n",
              "    \n",
              "\n",
              "\n",
              "    \n",
              "\n",
              "    \n",
              "\n",
              "    \n",
              "\n",
              "    \n",
              "\n",
              "    \n",
              "\n",
              "    \n",
              "\n",
              "\n",
              "\n"
            ]
          },
          "metadata": {},
          "execution_count": 50
        }
      ]
    },
    {
      "cell_type": "markdown",
      "source": [
        "features from 0 to 746 : the stances\n",
        "\n",
        "747 Swing time\n",
        "\n",
        "748 Max Peak\n",
        "\n",
        "749 FWHM"
      ],
      "metadata": {
        "id": "X_OU6DahB4dD"
      }
    },
    {
      "cell_type": "code",
      "source": [
        "w = eli5.show_weights(perm)\n",
        "result = pd.read_html(w.data)[0]\n",
        "result"
      ],
      "metadata": {
        "colab": {
          "base_uri": "https://localhost:8080/",
          "height": 708
        },
        "id": "b-GNy_vuAqlB",
        "outputId": "af38b6f7-09fd-404c-cd4c-c364dbca092c"
      },
      "execution_count": 48,
      "outputs": [
        {
          "output_type": "execute_result",
          "data": {
            "text/plain": [
              "              Weight       Feature\n",
              "0   0.0104  ± 0.0012          x747\n",
              "1   0.0103  ± 0.0028            x1\n",
              "2   0.0031  ± 0.0008            x3\n",
              "3   0.0026  ± 0.0009            x2\n",
              "4   0.0025  ± 0.0004           x54\n",
              "5   0.0022  ± 0.0010           x42\n",
              "6   0.0020  ± 0.0009           x11\n",
              "7   0.0020  ± 0.0003           x45\n",
              "8   0.0019  ± 0.0015           x40\n",
              "9   0.0018  ± 0.0015           x41\n",
              "10  0.0017  ± 0.0011           x52\n",
              "11  0.0016  ± 0.0010          x749\n",
              "12  0.0016  ± 0.0009          x748\n",
              "13  0.0016  ± 0.0011           x14\n",
              "14  0.0016  ± 0.0009           x15\n",
              "15  0.0016  ± 0.0014           x43\n",
              "16  0.0015  ± 0.0008           x50\n",
              "17  0.0015  ± 0.0006           x32\n",
              "18  0.0015  ± 0.0013            x7\n",
              "19  0.0015  ± 0.0013           x65\n",
              "20      … 730 more …  … 730 more …"
            ],
            "text/html": [
              "\n",
              "  <div id=\"df-284df989-9302-4cee-859f-a9d81f99e2bd\">\n",
              "    <div class=\"colab-df-container\">\n",
              "      <div>\n",
              "<style scoped>\n",
              "    .dataframe tbody tr th:only-of-type {\n",
              "        vertical-align: middle;\n",
              "    }\n",
              "\n",
              "    .dataframe tbody tr th {\n",
              "        vertical-align: top;\n",
              "    }\n",
              "\n",
              "    .dataframe thead th {\n",
              "        text-align: right;\n",
              "    }\n",
              "</style>\n",
              "<table border=\"1\" class=\"dataframe\">\n",
              "  <thead>\n",
              "    <tr style=\"text-align: right;\">\n",
              "      <th></th>\n",
              "      <th>Weight</th>\n",
              "      <th>Feature</th>\n",
              "    </tr>\n",
              "  </thead>\n",
              "  <tbody>\n",
              "    <tr>\n",
              "      <th>0</th>\n",
              "      <td>0.0104  ± 0.0012</td>\n",
              "      <td>x747</td>\n",
              "    </tr>\n",
              "    <tr>\n",
              "      <th>1</th>\n",
              "      <td>0.0103  ± 0.0028</td>\n",
              "      <td>x1</td>\n",
              "    </tr>\n",
              "    <tr>\n",
              "      <th>2</th>\n",
              "      <td>0.0031  ± 0.0008</td>\n",
              "      <td>x3</td>\n",
              "    </tr>\n",
              "    <tr>\n",
              "      <th>3</th>\n",
              "      <td>0.0026  ± 0.0009</td>\n",
              "      <td>x2</td>\n",
              "    </tr>\n",
              "    <tr>\n",
              "      <th>4</th>\n",
              "      <td>0.0025  ± 0.0004</td>\n",
              "      <td>x54</td>\n",
              "    </tr>\n",
              "    <tr>\n",
              "      <th>5</th>\n",
              "      <td>0.0022  ± 0.0010</td>\n",
              "      <td>x42</td>\n",
              "    </tr>\n",
              "    <tr>\n",
              "      <th>6</th>\n",
              "      <td>0.0020  ± 0.0009</td>\n",
              "      <td>x11</td>\n",
              "    </tr>\n",
              "    <tr>\n",
              "      <th>7</th>\n",
              "      <td>0.0020  ± 0.0003</td>\n",
              "      <td>x45</td>\n",
              "    </tr>\n",
              "    <tr>\n",
              "      <th>8</th>\n",
              "      <td>0.0019  ± 0.0015</td>\n",
              "      <td>x40</td>\n",
              "    </tr>\n",
              "    <tr>\n",
              "      <th>9</th>\n",
              "      <td>0.0018  ± 0.0015</td>\n",
              "      <td>x41</td>\n",
              "    </tr>\n",
              "    <tr>\n",
              "      <th>10</th>\n",
              "      <td>0.0017  ± 0.0011</td>\n",
              "      <td>x52</td>\n",
              "    </tr>\n",
              "    <tr>\n",
              "      <th>11</th>\n",
              "      <td>0.0016  ± 0.0010</td>\n",
              "      <td>x749</td>\n",
              "    </tr>\n",
              "    <tr>\n",
              "      <th>12</th>\n",
              "      <td>0.0016  ± 0.0009</td>\n",
              "      <td>x748</td>\n",
              "    </tr>\n",
              "    <tr>\n",
              "      <th>13</th>\n",
              "      <td>0.0016  ± 0.0011</td>\n",
              "      <td>x14</td>\n",
              "    </tr>\n",
              "    <tr>\n",
              "      <th>14</th>\n",
              "      <td>0.0016  ± 0.0009</td>\n",
              "      <td>x15</td>\n",
              "    </tr>\n",
              "    <tr>\n",
              "      <th>15</th>\n",
              "      <td>0.0016  ± 0.0014</td>\n",
              "      <td>x43</td>\n",
              "    </tr>\n",
              "    <tr>\n",
              "      <th>16</th>\n",
              "      <td>0.0015  ± 0.0008</td>\n",
              "      <td>x50</td>\n",
              "    </tr>\n",
              "    <tr>\n",
              "      <th>17</th>\n",
              "      <td>0.0015  ± 0.0006</td>\n",
              "      <td>x32</td>\n",
              "    </tr>\n",
              "    <tr>\n",
              "      <th>18</th>\n",
              "      <td>0.0015  ± 0.0013</td>\n",
              "      <td>x7</td>\n",
              "    </tr>\n",
              "    <tr>\n",
              "      <th>19</th>\n",
              "      <td>0.0015  ± 0.0013</td>\n",
              "      <td>x65</td>\n",
              "    </tr>\n",
              "    <tr>\n",
              "      <th>20</th>\n",
              "      <td>… 730 more …</td>\n",
              "      <td>… 730 more …</td>\n",
              "    </tr>\n",
              "  </tbody>\n",
              "</table>\n",
              "</div>\n",
              "      <button class=\"colab-df-convert\" onclick=\"convertToInteractive('df-284df989-9302-4cee-859f-a9d81f99e2bd')\"\n",
              "              title=\"Convert this dataframe to an interactive table.\"\n",
              "              style=\"display:none;\">\n",
              "        \n",
              "  <svg xmlns=\"http://www.w3.org/2000/svg\" height=\"24px\"viewBox=\"0 0 24 24\"\n",
              "       width=\"24px\">\n",
              "    <path d=\"M0 0h24v24H0V0z\" fill=\"none\"/>\n",
              "    <path d=\"M18.56 5.44l.94 2.06.94-2.06 2.06-.94-2.06-.94-.94-2.06-.94 2.06-2.06.94zm-11 1L8.5 8.5l.94-2.06 2.06-.94-2.06-.94L8.5 2.5l-.94 2.06-2.06.94zm10 10l.94 2.06.94-2.06 2.06-.94-2.06-.94-.94-2.06-.94 2.06-2.06.94z\"/><path d=\"M17.41 7.96l-1.37-1.37c-.4-.4-.92-.59-1.43-.59-.52 0-1.04.2-1.43.59L10.3 9.45l-7.72 7.72c-.78.78-.78 2.05 0 2.83L4 21.41c.39.39.9.59 1.41.59.51 0 1.02-.2 1.41-.59l7.78-7.78 2.81-2.81c.8-.78.8-2.07 0-2.86zM5.41 20L4 18.59l7.72-7.72 1.47 1.35L5.41 20z\"/>\n",
              "  </svg>\n",
              "      </button>\n",
              "      \n",
              "  <style>\n",
              "    .colab-df-container {\n",
              "      display:flex;\n",
              "      flex-wrap:wrap;\n",
              "      gap: 12px;\n",
              "    }\n",
              "\n",
              "    .colab-df-convert {\n",
              "      background-color: #E8F0FE;\n",
              "      border: none;\n",
              "      border-radius: 50%;\n",
              "      cursor: pointer;\n",
              "      display: none;\n",
              "      fill: #1967D2;\n",
              "      height: 32px;\n",
              "      padding: 0 0 0 0;\n",
              "      width: 32px;\n",
              "    }\n",
              "\n",
              "    .colab-df-convert:hover {\n",
              "      background-color: #E2EBFA;\n",
              "      box-shadow: 0px 1px 2px rgba(60, 64, 67, 0.3), 0px 1px 3px 1px rgba(60, 64, 67, 0.15);\n",
              "      fill: #174EA6;\n",
              "    }\n",
              "\n",
              "    [theme=dark] .colab-df-convert {\n",
              "      background-color: #3B4455;\n",
              "      fill: #D2E3FC;\n",
              "    }\n",
              "\n",
              "    [theme=dark] .colab-df-convert:hover {\n",
              "      background-color: #434B5C;\n",
              "      box-shadow: 0px 1px 3px 1px rgba(0, 0, 0, 0.15);\n",
              "      filter: drop-shadow(0px 1px 2px rgba(0, 0, 0, 0.3));\n",
              "      fill: #FFFFFF;\n",
              "    }\n",
              "  </style>\n",
              "\n",
              "      <script>\n",
              "        const buttonEl =\n",
              "          document.querySelector('#df-284df989-9302-4cee-859f-a9d81f99e2bd button.colab-df-convert');\n",
              "        buttonEl.style.display =\n",
              "          google.colab.kernel.accessAllowed ? 'block' : 'none';\n",
              "\n",
              "        async function convertToInteractive(key) {\n",
              "          const element = document.querySelector('#df-284df989-9302-4cee-859f-a9d81f99e2bd');\n",
              "          const dataTable =\n",
              "            await google.colab.kernel.invokeFunction('convertToInteractive',\n",
              "                                                     [key], {});\n",
              "          if (!dataTable) return;\n",
              "\n",
              "          const docLinkHtml = 'Like what you see? Visit the ' +\n",
              "            '<a target=\"_blank\" href=https://colab.research.google.com/notebooks/data_table.ipynb>data table notebook</a>'\n",
              "            + ' to learn more about interactive tables.';\n",
              "          element.innerHTML = '';\n",
              "          dataTable['output_type'] = 'display_data';\n",
              "          await google.colab.output.renderOutput(dataTable, element);\n",
              "          const docLink = document.createElement('div');\n",
              "          docLink.innerHTML = docLinkHtml;\n",
              "          element.appendChild(docLink);\n",
              "        }\n",
              "      </script>\n",
              "    </div>\n",
              "  </div>\n",
              "  "
            ]
          },
          "metadata": {},
          "execution_count": 48
        }
      ]
    }
  ]
}