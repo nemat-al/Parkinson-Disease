{
  "nbformat": 4,
  "nbformat_minor": 0,
  "metadata": {
    "colab": {
      "provenance": [],
      "collapsed_sections": [
        "E7Atxj0l5gZR",
        "6gvkVqJ2zQFA",
        "gmQ47Qcp6D5S",
        "0_Wh3g6eut06",
        "zAZo7yERC8pe",
        "Sq3hQAcLG9DW",
        "E0VilfUoKyl6",
        "40JFGueONYpC",
        "nc9tfNCR6xAD",
        "mlvMF9KbRouf",
        "vokZY7RiS-ok",
        "-E8XJfOATVbl"
      ]
    },
    "kernelspec": {
      "name": "python3",
      "display_name": "Python 3"
    },
    "language_info": {
      "name": "python"
    },
    "widgets": {
      "application/vnd.jupyter.widget-state+json": {
        "76d430b27faf43bdadf157f552f13ae2": {
          "model_module": "@jupyter-widgets/controls",
          "model_name": "HBoxModel",
          "model_module_version": "1.5.0",
          "state": {
            "_dom_classes": [],
            "_model_module": "@jupyter-widgets/controls",
            "_model_module_version": "1.5.0",
            "_model_name": "HBoxModel",
            "_view_count": null,
            "_view_module": "@jupyter-widgets/controls",
            "_view_module_version": "1.5.0",
            "_view_name": "HBoxView",
            "box_style": "",
            "children": [
              "IPY_MODEL_29ebc352951d4fa0938beba218a394b8",
              "IPY_MODEL_b6828ee43f97471abf45ccc60c277629",
              "IPY_MODEL_ef49c0063f0244d2aeb3a2d9cab4ef4d"
            ],
            "layout": "IPY_MODEL_549e36afb1344e5dac211583191e8bdf"
          }
        },
        "29ebc352951d4fa0938beba218a394b8": {
          "model_module": "@jupyter-widgets/controls",
          "model_name": "HTMLModel",
          "model_module_version": "1.5.0",
          "state": {
            "_dom_classes": [],
            "_model_module": "@jupyter-widgets/controls",
            "_model_module_version": "1.5.0",
            "_model_name": "HTMLModel",
            "_view_count": null,
            "_view_module": "@jupyter-widgets/controls",
            "_view_module_version": "1.5.0",
            "_view_name": "HTMLView",
            "description": "",
            "description_tooltip": null,
            "layout": "IPY_MODEL_bff29d2b3d834c9ca2263759ef64a52e",
            "placeholder": "​",
            "style": "IPY_MODEL_009a2cc28ae84588a4287bf39386769d",
            "value": "100%"
          }
        },
        "b6828ee43f97471abf45ccc60c277629": {
          "model_module": "@jupyter-widgets/controls",
          "model_name": "FloatProgressModel",
          "model_module_version": "1.5.0",
          "state": {
            "_dom_classes": [],
            "_model_module": "@jupyter-widgets/controls",
            "_model_module_version": "1.5.0",
            "_model_name": "FloatProgressModel",
            "_view_count": null,
            "_view_module": "@jupyter-widgets/controls",
            "_view_module_version": "1.5.0",
            "_view_name": "ProgressView",
            "bar_style": "success",
            "description": "",
            "description_tooltip": null,
            "layout": "IPY_MODEL_2fabca6f213f46d5ac3f834242ebefa1",
            "max": 304,
            "min": 0,
            "orientation": "horizontal",
            "style": "IPY_MODEL_884b0b1abc344bf2bdb4e38e6fc2fdbd",
            "value": 304
          }
        },
        "ef49c0063f0244d2aeb3a2d9cab4ef4d": {
          "model_module": "@jupyter-widgets/controls",
          "model_name": "HTMLModel",
          "model_module_version": "1.5.0",
          "state": {
            "_dom_classes": [],
            "_model_module": "@jupyter-widgets/controls",
            "_model_module_version": "1.5.0",
            "_model_name": "HTMLModel",
            "_view_count": null,
            "_view_module": "@jupyter-widgets/controls",
            "_view_module_version": "1.5.0",
            "_view_name": "HTMLView",
            "description": "",
            "description_tooltip": null,
            "layout": "IPY_MODEL_0cc9fd76f4c34854b31e0409a13d62f3",
            "placeholder": "​",
            "style": "IPY_MODEL_7c27d950cf8e4efebf2699e943a9e7d8",
            "value": " 304/304 [00:52&lt;00:00,  8.92it/s]"
          }
        },
        "549e36afb1344e5dac211583191e8bdf": {
          "model_module": "@jupyter-widgets/base",
          "model_name": "LayoutModel",
          "model_module_version": "1.2.0",
          "state": {
            "_model_module": "@jupyter-widgets/base",
            "_model_module_version": "1.2.0",
            "_model_name": "LayoutModel",
            "_view_count": null,
            "_view_module": "@jupyter-widgets/base",
            "_view_module_version": "1.2.0",
            "_view_name": "LayoutView",
            "align_content": null,
            "align_items": null,
            "align_self": null,
            "border": null,
            "bottom": null,
            "display": null,
            "flex": null,
            "flex_flow": null,
            "grid_area": null,
            "grid_auto_columns": null,
            "grid_auto_flow": null,
            "grid_auto_rows": null,
            "grid_column": null,
            "grid_gap": null,
            "grid_row": null,
            "grid_template_areas": null,
            "grid_template_columns": null,
            "grid_template_rows": null,
            "height": null,
            "justify_content": null,
            "justify_items": null,
            "left": null,
            "margin": null,
            "max_height": null,
            "max_width": null,
            "min_height": null,
            "min_width": null,
            "object_fit": null,
            "object_position": null,
            "order": null,
            "overflow": null,
            "overflow_x": null,
            "overflow_y": null,
            "padding": null,
            "right": null,
            "top": null,
            "visibility": null,
            "width": null
          }
        },
        "bff29d2b3d834c9ca2263759ef64a52e": {
          "model_module": "@jupyter-widgets/base",
          "model_name": "LayoutModel",
          "model_module_version": "1.2.0",
          "state": {
            "_model_module": "@jupyter-widgets/base",
            "_model_module_version": "1.2.0",
            "_model_name": "LayoutModel",
            "_view_count": null,
            "_view_module": "@jupyter-widgets/base",
            "_view_module_version": "1.2.0",
            "_view_name": "LayoutView",
            "align_content": null,
            "align_items": null,
            "align_self": null,
            "border": null,
            "bottom": null,
            "display": null,
            "flex": null,
            "flex_flow": null,
            "grid_area": null,
            "grid_auto_columns": null,
            "grid_auto_flow": null,
            "grid_auto_rows": null,
            "grid_column": null,
            "grid_gap": null,
            "grid_row": null,
            "grid_template_areas": null,
            "grid_template_columns": null,
            "grid_template_rows": null,
            "height": null,
            "justify_content": null,
            "justify_items": null,
            "left": null,
            "margin": null,
            "max_height": null,
            "max_width": null,
            "min_height": null,
            "min_width": null,
            "object_fit": null,
            "object_position": null,
            "order": null,
            "overflow": null,
            "overflow_x": null,
            "overflow_y": null,
            "padding": null,
            "right": null,
            "top": null,
            "visibility": null,
            "width": null
          }
        },
        "009a2cc28ae84588a4287bf39386769d": {
          "model_module": "@jupyter-widgets/controls",
          "model_name": "DescriptionStyleModel",
          "model_module_version": "1.5.0",
          "state": {
            "_model_module": "@jupyter-widgets/controls",
            "_model_module_version": "1.5.0",
            "_model_name": "DescriptionStyleModel",
            "_view_count": null,
            "_view_module": "@jupyter-widgets/base",
            "_view_module_version": "1.2.0",
            "_view_name": "StyleView",
            "description_width": ""
          }
        },
        "2fabca6f213f46d5ac3f834242ebefa1": {
          "model_module": "@jupyter-widgets/base",
          "model_name": "LayoutModel",
          "model_module_version": "1.2.0",
          "state": {
            "_model_module": "@jupyter-widgets/base",
            "_model_module_version": "1.2.0",
            "_model_name": "LayoutModel",
            "_view_count": null,
            "_view_module": "@jupyter-widgets/base",
            "_view_module_version": "1.2.0",
            "_view_name": "LayoutView",
            "align_content": null,
            "align_items": null,
            "align_self": null,
            "border": null,
            "bottom": null,
            "display": null,
            "flex": null,
            "flex_flow": null,
            "grid_area": null,
            "grid_auto_columns": null,
            "grid_auto_flow": null,
            "grid_auto_rows": null,
            "grid_column": null,
            "grid_gap": null,
            "grid_row": null,
            "grid_template_areas": null,
            "grid_template_columns": null,
            "grid_template_rows": null,
            "height": null,
            "justify_content": null,
            "justify_items": null,
            "left": null,
            "margin": null,
            "max_height": null,
            "max_width": null,
            "min_height": null,
            "min_width": null,
            "object_fit": null,
            "object_position": null,
            "order": null,
            "overflow": null,
            "overflow_x": null,
            "overflow_y": null,
            "padding": null,
            "right": null,
            "top": null,
            "visibility": null,
            "width": null
          }
        },
        "884b0b1abc344bf2bdb4e38e6fc2fdbd": {
          "model_module": "@jupyter-widgets/controls",
          "model_name": "ProgressStyleModel",
          "model_module_version": "1.5.0",
          "state": {
            "_model_module": "@jupyter-widgets/controls",
            "_model_module_version": "1.5.0",
            "_model_name": "ProgressStyleModel",
            "_view_count": null,
            "_view_module": "@jupyter-widgets/base",
            "_view_module_version": "1.2.0",
            "_view_name": "StyleView",
            "bar_color": null,
            "description_width": ""
          }
        },
        "0cc9fd76f4c34854b31e0409a13d62f3": {
          "model_module": "@jupyter-widgets/base",
          "model_name": "LayoutModel",
          "model_module_version": "1.2.0",
          "state": {
            "_model_module": "@jupyter-widgets/base",
            "_model_module_version": "1.2.0",
            "_model_name": "LayoutModel",
            "_view_count": null,
            "_view_module": "@jupyter-widgets/base",
            "_view_module_version": "1.2.0",
            "_view_name": "LayoutView",
            "align_content": null,
            "align_items": null,
            "align_self": null,
            "border": null,
            "bottom": null,
            "display": null,
            "flex": null,
            "flex_flow": null,
            "grid_area": null,
            "grid_auto_columns": null,
            "grid_auto_flow": null,
            "grid_auto_rows": null,
            "grid_column": null,
            "grid_gap": null,
            "grid_row": null,
            "grid_template_areas": null,
            "grid_template_columns": null,
            "grid_template_rows": null,
            "height": null,
            "justify_content": null,
            "justify_items": null,
            "left": null,
            "margin": null,
            "max_height": null,
            "max_width": null,
            "min_height": null,
            "min_width": null,
            "object_fit": null,
            "object_position": null,
            "order": null,
            "overflow": null,
            "overflow_x": null,
            "overflow_y": null,
            "padding": null,
            "right": null,
            "top": null,
            "visibility": null,
            "width": null
          }
        },
        "7c27d950cf8e4efebf2699e943a9e7d8": {
          "model_module": "@jupyter-widgets/controls",
          "model_name": "DescriptionStyleModel",
          "model_module_version": "1.5.0",
          "state": {
            "_model_module": "@jupyter-widgets/controls",
            "_model_module_version": "1.5.0",
            "_model_name": "DescriptionStyleModel",
            "_view_count": null,
            "_view_module": "@jupyter-widgets/base",
            "_view_module_version": "1.2.0",
            "_view_name": "StyleView",
            "description_width": ""
          }
        }
      }
    }
  },
  "cells": [
    {
      "cell_type": "markdown",
      "source": [
        "What to do next time you are Here\n",
        "\n",
        "- TO FIX :It seems some stances have a differient shape rather than a peak.\n",
        "\n"
      ],
      "metadata": {
        "id": "rwT9y6o9QXHG"
      }
    },
    {
      "cell_type": "markdown",
      "source": [
        "## Importing"
      ],
      "metadata": {
        "id": "xo1CVjZb-oDD"
      }
    },
    {
      "cell_type": "code",
      "source": [
        "import pandas as pd\n",
        "import numpy as np\n",
        "\n",
        "from sklearn.preprocessing import PolynomialFeatures\n",
        "from sklearn import decomposition\n",
        "from sklearn.model_selection import train_test_split\n",
        "from sklearn import decomposition\n",
        "from sklearn.svm import SVC\n",
        "\n",
        "import os\n",
        "\n",
        "from tqdm.auto import tqdm\n",
        "\n",
        "import shutil\n",
        "\n",
        "from itertools import groupby\n",
        "\n",
        "import matplotlib.pyplot as plt\n",
        "\n",
        "from statistics import mean\n",
        "\n",
        "import scipy.stats as stats\n",
        "from scipy.stats import skew\n",
        "from scipy.stats import kurtosis\n",
        "\n",
        "from sklearn.model_selection import train_test_split"
      ],
      "metadata": {
        "id": "aGGXquTD-qxk"
      },
      "execution_count": null,
      "outputs": []
    },
    {
      "cell_type": "markdown",
      "source": [
        "## Parameters"
      ],
      "metadata": {
        "id": "yoPlShO_1mD5"
      }
    },
    {
      "cell_type": "code",
      "source": [
        "# path of original data folder\n",
        "data_path = \"/content/drive/MyDrive/ITMO-Master's/Thesis/3rd_semester/Data\"\n",
        "# path of csv files, each file is a 2mins walk for a subject\n",
        "csvD_path = \"/content/drive/MyDrive/ITMO-Master's/Thesis/3rd_semester/Data/csv_files\"\n",
        "# In this file, the Null values are replaved with 0 in the HY scale - Null values were given to healthy control\n",
        "demographics = \"/content/drive/MyDrive/ITMO-Master's/Thesis/3rd_semester/Data/Processed_data/demographics_HYprocessed.csv\" \n",
        "dem_df = pd.read_csv(demographics)\n",
        "# parequet folder path\n",
        "parquet_path = \"/content/drive/MyDrive/ITMO-Master's/Thesis/3rd_semester/Data/parquet_files/\""
      ],
      "metadata": {
        "id": "NJh8EXU71npV"
      },
      "execution_count": null,
      "outputs": []
    },
    {
      "cell_type": "markdown",
      "source": [
        "## Data Utils"
      ],
      "metadata": {
        "id": "lxD2898AlNMI"
      }
    },
    {
      "cell_type": "markdown",
      "source": [
        "#### trying\n"
      ],
      "metadata": {
        "id": "E7Atxj0l5gZR"
      }
    },
    {
      "cell_type": "code",
      "source": [
        "a = [1, 0, 0, 1, 1, 1, 3, 0,\n",
        "     1, 1, 4, 2, 1, 1, 2, 1, 1, 1, 1,\n",
        "     0, 1, 0, 1, 1, 1, 0, 0, 0, 1, 5]"
      ],
      "metadata": {
        "id": "qyWN0kuxIBAa"
      },
      "execution_count": null,
      "outputs": []
    },
    {
      "cell_type": "code",
      "source": [
        "right_phases = [list(g) for k, g in groupby((a), lambda x:x>0)]"
      ],
      "metadata": {
        "id": "y3P3bQEIIRm6"
      },
      "execution_count": null,
      "outputs": []
    },
    {
      "cell_type": "code",
      "source": [
        "right_phases"
      ],
      "metadata": {
        "colab": {
          "base_uri": "https://localhost:8080/"
        },
        "id": "6HHMusMhJN7b",
        "outputId": "fdead5b1-dc67-4f2b-a92f-f5007ea53896"
      },
      "execution_count": null,
      "outputs": [
        {
          "output_type": "execute_result",
          "data": {
            "text/plain": [
              "[[1],\n",
              " [0, 0],\n",
              " [1, 1, 1, 3],\n",
              " [0],\n",
              " [1, 1, 4, 2, 1, 1, 2, 1, 1, 1, 1],\n",
              " [0],\n",
              " [1],\n",
              " [0],\n",
              " [1, 1, 1],\n",
              " [0, 0, 0],\n",
              " [1, 5]]"
            ]
          },
          "metadata": {},
          "execution_count": 24
        }
      ]
    },
    {
      "cell_type": "code",
      "source": [
        "indices=[0]"
      ],
      "metadata": {
        "id": "D3HrMAhLb8GV"
      },
      "execution_count": null,
      "outputs": []
    },
    {
      "cell_type": "code",
      "source": [
        "for i in range(1, len(right_phases),2):\n",
        "  indices.append(indices[-1]+len(right_phases[i]) + len(right_phases[i-1]))"
      ],
      "metadata": {
        "id": "NDYJLepWc98l"
      },
      "execution_count": null,
      "outputs": []
    },
    {
      "cell_type": "code",
      "source": [
        "indices"
      ],
      "metadata": {
        "colab": {
          "base_uri": "https://localhost:8080/"
        },
        "id": "hW9T4hgidWQl",
        "outputId": "fa06ce79-21dc-45f4-ae6e-ecd86f7da5a4"
      },
      "execution_count": null,
      "outputs": [
        {
          "output_type": "execute_result",
          "data": {
            "text/plain": [
              "[0, 3, 8, 20, 22, 28]"
            ]
          },
          "metadata": {},
          "execution_count": 61
        }
      ]
    },
    {
      "cell_type": "code",
      "source": [
        "gait_cycles= [a[indices[i]:indices[i+1]] for i in range(len(indices)-1)]\n",
        "gait_cycles"
      ],
      "metadata": {
        "colab": {
          "base_uri": "https://localhost:8080/"
        },
        "id": "cQWWtjSSfnJc",
        "outputId": "97790773-3cd8-47d5-dd04-51d045955e7e"
      },
      "execution_count": null,
      "outputs": [
        {
          "output_type": "execute_result",
          "data": {
            "text/plain": [
              "[[1, 0, 0],\n",
              " [1, 1, 1, 3, 0],\n",
              " [1, 1, 4, 2, 1, 1, 2, 1, 1, 1, 1, 0],\n",
              " [1, 0],\n",
              " [1, 1, 1, 0, 0, 0]]"
            ]
          },
          "metadata": {},
          "execution_count": 65
        }
      ]
    },
    {
      "cell_type": "code",
      "source": [
        "stride_time=  [((len(gait_cycles[i])  -1)*0.01 ) for i in range(len(gait_cycles))]\n",
        "stride_time"
      ],
      "metadata": {
        "colab": {
          "base_uri": "https://localhost:8080/"
        },
        "id": "hVmvpxpy5rgu",
        "outputId": "cea7488d-c78a-49fc-a540-f63b303e81d8"
      },
      "execution_count": null,
      "outputs": [
        {
          "output_type": "execute_result",
          "data": {
            "text/plain": [
              "[0.02, 0.04, 0.11, 0.01, 0.05]"
            ]
          },
          "metadata": {},
          "execution_count": 74
        }
      ]
    },
    {
      "cell_type": "code",
      "source": [
        "stride_time =  [((len(right_phases[i]) + len(right_phases[i-1]) -1)*0.01 ) for i in range(1,len(right_phases),2)]\n",
        "stride_time "
      ],
      "metadata": {
        "colab": {
          "base_uri": "https://localhost:8080/"
        },
        "id": "2VQQiHCaOdFg",
        "outputId": "9a9713e9-fa51-41f4-f7b0-6e6144339817"
      },
      "execution_count": null,
      "outputs": [
        {
          "output_type": "execute_result",
          "data": {
            "text/plain": [
              "[0.02, 0.04, 0.11, 0.01, 0.05]"
            ]
          },
          "metadata": {},
          "execution_count": 63
        }
      ]
    },
    {
      "cell_type": "code",
      "source": [
        "right_stances = [l for l in right_phases if any(l)]\n"
      ],
      "metadata": {
        "id": "4jYc5s-xOdRB"
      },
      "execution_count": null,
      "outputs": []
    },
    {
      "cell_type": "code",
      "source": [
        "right_stances"
      ],
      "metadata": {
        "colab": {
          "base_uri": "https://localhost:8080/"
        },
        "id": "8TnHmGyuOi35",
        "outputId": "0c37c398-9f88-4c1a-f5b7-32eba64fa9bf"
      },
      "execution_count": null,
      "outputs": [
        {
          "output_type": "execute_result",
          "data": {
            "text/plain": [
              "[[1], [1, 1, 1, 3], [1, 1, 4, 2, 1, 1, 2, 1, 1, 1, 1], [1], [1, 1, 1], [1, 5]]"
            ]
          },
          "metadata": {},
          "execution_count": 26
        }
      ]
    },
    {
      "cell_type": "code",
      "source": [
        "time_stance = [(len(l)-1)*0.01 for l in right_stances]\n",
        "time_stance"
      ],
      "metadata": {
        "colab": {
          "base_uri": "https://localhost:8080/"
        },
        "id": "43F5GWll6P9-",
        "outputId": "814d330e-1bcf-48d2-8b52-66857ae0dfda"
      },
      "execution_count": null,
      "outputs": [
        {
          "output_type": "execute_result",
          "data": {
            "text/plain": [
              "[0.0, 0.03, 0.1, 0.0, 0.02, 0.01]"
            ]
          },
          "metadata": {},
          "execution_count": 79
        }
      ]
    },
    {
      "cell_type": "code",
      "source": [
        "time_stance = [(len(l)-1)*0.01 for l in right_phases if any(l)]\n",
        "time_stance"
      ],
      "metadata": {
        "colab": {
          "base_uri": "https://localhost:8080/"
        },
        "id": "LGeyDEf3OkXh",
        "outputId": "7e0753f6-567e-4768-87c4-74dded2c2a52"
      },
      "execution_count": null,
      "outputs": [
        {
          "output_type": "execute_result",
          "data": {
            "text/plain": [
              "[0.0, 0.03, 0.1, 0.0, 0.02, 0.01]"
            ]
          },
          "metadata": {},
          "execution_count": 29
        }
      ]
    },
    {
      "cell_type": "code",
      "source": [
        "right_swings = [l for l in right_phases if not all (l)]\n",
        "swings_time = [(len(l)-1)*0.01 for l in right_phases if not all (l)]"
      ],
      "metadata": {
        "id": "J6EQsBnqQ1Ma"
      },
      "execution_count": null,
      "outputs": []
    },
    {
      "cell_type": "code",
      "source": [
        "right_swings"
      ],
      "metadata": {
        "colab": {
          "base_uri": "https://localhost:8080/"
        },
        "id": "RijbNOiGRJ0A",
        "outputId": "c1333994-0c96-4229-c590-a92d197cfbb3"
      },
      "execution_count": null,
      "outputs": [
        {
          "output_type": "execute_result",
          "data": {
            "text/plain": [
              "[[0, 0], [0], [0], [0], [0, 0, 0]]"
            ]
          },
          "metadata": {},
          "execution_count": 36
        }
      ]
    },
    {
      "cell_type": "code",
      "source": [
        "swings_time"
      ],
      "metadata": {
        "colab": {
          "base_uri": "https://localhost:8080/"
        },
        "id": "RMgIVCKaSKBg",
        "outputId": "1fac88d5-d5c0-466f-8425-a51ba1d70436"
      },
      "execution_count": null,
      "outputs": [
        {
          "output_type": "execute_result",
          "data": {
            "text/plain": [
              "[0.01, 0.0, 0.0, 0.0, 0.02]"
            ]
          },
          "metadata": {},
          "execution_count": 37
        }
      ]
    },
    {
      "cell_type": "code",
      "source": [
        "features=np.arange(1, 19)\n",
        "features"
      ],
      "metadata": {
        "colab": {
          "base_uri": "https://localhost:8080/"
        },
        "id": "IaPTMBlsqxJ7",
        "outputId": "b318b2fc-8a8c-40c6-8c56-50de203220eb"
      },
      "execution_count": null,
      "outputs": [
        {
          "output_type": "execute_result",
          "data": {
            "text/plain": [
              "array([ 1,  2,  3,  4,  5,  6,  7,  8,  9, 10, 11, 12, 13, 14, 15, 16, 17,\n",
              "       18])"
            ]
          },
          "metadata": {},
          "execution_count": 69
        }
      ]
    },
    {
      "cell_type": "markdown",
      "source": [
        "#### Data Class"
      ],
      "metadata": {
        "id": "VLlmkpXwQPt0"
      }
    },
    {
      "cell_type": "markdown",
      "source": [
        "Note: \n",
        "Gait cycle = stride cycle\n",
        "\n",
        "\n",
        "- Usually, Vertical Ground React Force VGRF values less than 20N are generated from noise\n",
        "- For gait cycle segmentation, to eliminate the effect of gait initiation and termenation, the first and last 20 seconds of VGRF data was discarded.\n",
        "- Note: Since we are deleting the first and last 20 seconds, some patients that performed less than 2 mins have almost no gait cycles left. For example, the paient with Id `JuCo02` and `JuCo03` walked for almost 40.40 seconds. Thus, after deleting the first and last 20 sec, he has only half gait cycle left. \n",
        "\n",
        "*   stride time variability and swing time variability are important parameters in distinguishing a PD patient’s gait from normal gait.\n",
        "*   As PD patients tend to put less pressure during placing the heel strike and toe off than control subjects, maximum VGRF at heel strike and toe off for each gait cycle was computed. The mean and standard deviation of the VGRF overall gait cycles were taken as features for classification.\n",
        "\n",
        "\n"
      ],
      "metadata": {
        "id": "1gA_nqXg_Q0V"
      }
    },
    {
      "cell_type": "code",
      "source": [
        "r_stances=np.arange(1,10)\n",
        "print(r_stances)\n",
        "r_stances = r_stances[:-1]\n",
        "print(r_stances)"
      ],
      "metadata": {
        "colab": {
          "base_uri": "https://localhost:8080/"
        },
        "id": "p8jTX7aHUHmN",
        "outputId": "b6aa4e22-dfb8-4665-f586-bf26bd7d6bdb"
      },
      "execution_count": null,
      "outputs": [
        {
          "output_type": "stream",
          "name": "stdout",
          "text": [
            "[1 2 3 4 5 6 7 8 9]\n",
            "[1 2 3 4 5 6 7 8]\n"
          ]
        }
      ]
    },
    {
      "cell_type": "code",
      "source": [
        "class Data:\n",
        "  def __init__(self, prepare_or_get, data_folder, demographics_file, parquet_path):\n",
        "    '''\n",
        "    :param prepare_or_get:  1: prepare data , 0: load preloaded datas (npy)\n",
        "    :param data_folder: path for a folder containing csv files, file for each 2 mins walk (for indivdiual subject)\n",
        "    :param demographics_file: path for csv demographics file\n",
        "    :save_path: path where to save/read parquet files after preparing them\n",
        "    :\n",
        "    '''\n",
        "\n",
        "    self.data_path = data_folder\n",
        "    self.parquet_path= parquet_path\n",
        "    self.dem_path= demographics_file\n",
        "    self.scale=\"HoehnYahr\"            # fixed for now\n",
        "    self.seconds_to_discard = 20      # fixed for now\n",
        "    self.rows_to_discard = 100 * self.seconds_to_discard\n",
        "    \n",
        "    # data in arrays\n",
        "    self.signals_data = []\n",
        "    self.cycles_data=[]\n",
        "    self.statical_data=[]\n",
        "  \n",
        "\n",
        "    if (prepare_or_get==1):\n",
        "      self.prepare_data()\n",
        "    elif (prepare_or_get==0):\n",
        "      self.get_data()\n",
        "  \n",
        "  def get_data(self):\n",
        "    self.signals_data_df= pd.read_parquet(self.parquet_path+'signals.gzip')\n",
        "    self.cycles_data_df=pd.read_parquet(self.parquet_path+'cyclels.gzip')\n",
        "    self.statical_data_df=pd.read_parquet(self.parquet_path+'statical.gzip')\n",
        "    self.left_stances_df=pd.read_parquet(self.parquet_path+'left_stances.gzip')\n",
        "    self.right_stances_df=pd.read_parquet(self.parquet_path+'right_stances.gzip')\n",
        "\n",
        "  def prepare_data(self):\n",
        "    # loop over files, each file is a 2 min walk for a single individual\n",
        "    # files are expected to be in csv format\n",
        "    self.dem_df = pd.read_csv(self.dem_path)\n",
        "    for name in tqdm((os.listdir(self.data_path))):\n",
        "       \n",
        "      # id of subject\n",
        "      id = name.split('_')[0]\n",
        "\n",
        "      # disease level according to 'self.scale'\n",
        "      level = self.get_pd_level( id)\n",
        "\n",
        "      # parkinon's patient OR healthy control ?\n",
        "      if 'Co' in name:  \n",
        "        parkinson = 0 # Healthy control\n",
        "      elif 'Pt' in name:\n",
        "        parkinson = 1 # Parkinson's Patient\n",
        "\n",
        "      # read and filter one file\n",
        "      one_walk=self.read_filter(name)\n",
        "\n",
        "      # sum of values from all the left sensors\n",
        "      one_walk['Total_Force_Left'] = one_walk[list(one_walk.columns[0:8])].sum(axis=1)\n",
        "     \n",
        "      # sum of values from all the right sensors\n",
        "      one_walk['Total_Force_Right'] = one_walk[list(one_walk.columns[8:16])].sum(axis=1)\n",
        "      \n",
        "      # convert to lists\n",
        "      one_walk_lists=[]*18\n",
        "      for column in one_walk.columns.values.tolist():\n",
        "        one_walk_lists.append(one_walk[column].tolist()) \n",
        "\n",
        "      ## Left foot related ##\n",
        "      l_stances, l_strides_time , l_swings_time, l_stances_time, l_indices = self.segment_signal(one_walk_lists[16])\n",
        "      # Find maximum VGRF at heel strike for each gait cycle \n",
        "      l_peaks_heel = self.get_max_per_gait_cycle(one_walk_lists[0],l_indices) # sensor 0 = left heal sensor\n",
        "      # Find maximum VGRF at toe off for each gait cycle\n",
        "      l_peaks_toe = self.get_max_per_gait_cycle(one_walk_lists[7],l_indices) # sensor 7 = left toe sensor\n",
        "\n",
        "      ## right foot related ##\n",
        "      r_stances, r_strides_time , r_swings_time, r_stances_time, r_indices = self.segment_signal(one_walk_lists[17])\n",
        "      # Find maximum VGRF at heel strike for each gait cycle \n",
        "      r_peaks_heel = self.get_max_per_gait_cycle(one_walk_lists[8],l_indices) # sensor 8 = right heal sensor\n",
        "      # Find maximum VGRF at toe off for each gait cycle\n",
        "      r_peaks_toe = self.get_max_per_gait_cycle(one_walk_lists[15],l_indices) # sensor 15 = right toe sensor\n",
        "\n",
        "\n",
        "      ## Saving data ##\n",
        "\n",
        "      # Raw Signals\n",
        "      self.signals_data.append([id,level,parkinson] +one_walk_lists)\n",
        "\n",
        "      # Statical\n",
        "      self.statical_data.append( [ id, level, parkinson \n",
        "                                , mean (l_swings_time) , np.std(l_swings_time), (mean (l_swings_time) / np.std(l_swings_time) *100)\n",
        "                                , mean (l_strides_time) , np.std(l_strides_time) , (mean (l_strides_time) / np.std(l_strides_time)*100)\n",
        "                                , kurtosis(l_strides_time), skew(l_strides_time)\n",
        "                                , mean (l_stances_time) , np.std(l_stances_time) , ( mean (l_stances_time) / np.std(l_stances_time) *100) \n",
        "\n",
        "                                , mean (r_swings_time) , np.std(r_swings_time), (mean (r_swings_time) / np.std(r_swings_time) *100)\n",
        "                                , mean (r_strides_time) , np.std(r_strides_time) , (mean (r_strides_time) / np.std(r_strides_time)*100)\n",
        "                                , kurtosis(r_strides_time), skew(r_strides_time)\n",
        "                                , mean (r_stances_time) , np.std(r_stances_time) , ( mean (r_stances_time) / np.std(r_stances_time) *100)\n",
        "                                \n",
        "                                , mean (l_peaks_heel) , np.std(l_peaks_heel) ,mean (l_peaks_toe) , np.std(l_peaks_toe)\n",
        "                                , mean (r_peaks_heel) , np.std(r_peaks_heel) ,mean (r_peaks_toe) , np.std(r_peaks_toe)\n",
        "                                  ] )\n",
        "      \n",
        "      \n",
        "      # Segmented Signals\n",
        "      \n",
        "      # NEED TO BE MOVED TO SEPERATE FUNCTION\n",
        "      # only for segmented data, for a trial we need each stance phase with the following \n",
        "      # swing phases's time, so here we are adjusting the phases to be equal\n",
        "\n",
        "      dif_l =  len(l_stances)-len(l_swings_time)\n",
        "      if (dif_l > 0):\n",
        "        l_stances=l_stances[:-dif_l]\n",
        "      elif(dif_l < 0):\n",
        "        l_swings_time= l_swings_time[:dif_l]\n",
        "\n",
        "      \n",
        "      dif_r =  len(r_stances)-len(r_swings_time)\n",
        "      if (dif_r>0):\n",
        "        r_stances=r_stances[:-dif_r]\n",
        "      elif(dif_r < 0):\n",
        "        r_swings_time = r_swings_time[:dif_r]\n",
        "       \n",
        "      self.cycles_data.append( [ id, level, parkinson ] \n",
        "                              + [l_stances] + [l_strides_time] + [l_swings_time] + [l_stances_time]\n",
        "                              + [r_stances] + [r_strides_time] + [r_swings_time] + [r_stances_time]\n",
        "                              + [l_peaks_heel] + [l_peaks_toe]\n",
        "                              + [r_peaks_heel] + [r_peaks_toe]\n",
        "                              )\n",
        "      \n",
        "\n",
        "    self.statical_data_to_df()\n",
        "    self.cycles_data_to_df()\n",
        "    self.signal_data_to_df()\n",
        "    ## Get individual stances data frames\n",
        "    self.ind_stances_to_df()\n",
        "    ## writing files ##\n",
        "    self.save_files()\n",
        "\n",
        "  def get_pd_level(self, subject_id):\n",
        "    level = self.dem_df[self.scale][dem_df['ID'] == subject_id ].values[0]\n",
        "    return level\n",
        "\n",
        "  def read_filter(self,name):\n",
        "      # Reading each file, skipping 3 columns (time,total right forces & total left forces)\n",
        "      # For gait cycle segmentation, to eliminate the effect of gait initiation and termenation,\n",
        "      # the first and last N=20 seconds of VGRF data was discarded.\n",
        "\n",
        "      one_walk = pd.read_csv(self.data_path + '/' + name,\n",
        "                             skiprows=list(range(1,self.rows_to_discard+1)) ,\n",
        "                             skipfooter=self.rows_to_discard,\n",
        "                             usecols = np.arange(1,17),\n",
        "                             engine = 'python')  \n",
        "      \n",
        "      # Usually, Vertical Ground React Force VGRF values less than 20N are generated from noise\n",
        "      one_walk.where(one_walk > 20, 0, inplace=True)\n",
        "\n",
        "      return one_walk\n",
        "\n",
        "  def segment_signal(self, signal):\n",
        "      # swing - stance phases repeatly\n",
        "      phases = [list(g) for k, g in groupby((signal), lambda x:x>0)]\n",
        "      \n",
        "      # Deleting the first and last phase, since the first and last 20 seconds were deleted,\n",
        "      # there's no garanty that the first and last phase are complete\n",
        "      # Hence, they are being deleted here just for safety\n",
        "\n",
        "      phases = phases[1:-1]\n",
        "\n",
        "      # filtering phases that is shorter than 20 becuase must propably it's noise\n",
        "      phases = [l for l in phases if len(l)>20]\n",
        "\n",
        "      # indices of the gait cycles\n",
        "      indices=[0]\n",
        "      for i in range(1, len(phases),2):\n",
        "        indices.append(indices[-1]+len(phases[i]) + len(phases[i-1]))\n",
        "\n",
        "      # stances phases\n",
        "      stances = [l for l in phases if any(l)]\n",
        "      \n",
        "      # strides times \n",
        "      strides_time =  [((len(phases[i]) + len(phases[i-1]) -1)*0.01 ) for i in range(1,len(phases),2)]\n",
        "\n",
        "      # swings time\n",
        "      swings_time = [(len(l)-1)*0.01 for l in phases if not all (l)]\n",
        "\n",
        "      # stance time \n",
        "      stances_time = [(len(l)-1)*0.01 for l in stances]\n",
        "\n",
        "      return stances, strides_time , swings_time, stances_time, indices\n",
        "\n",
        "  def get_max_per_gait_cycle(self, signal,indices):\n",
        "    gait_cycles = self.get_gait_cycles(signal, indices)\n",
        "    peaks = [max(cycle) for cycle in gait_cycles]\n",
        "    return peaks\n",
        "\n",
        "  def get_gait_cycles(self, signal, indices):\n",
        "    # get gait cycles\n",
        "    gait_cycles= [signal[indices[i]:indices[i+1]] for i in range(len(indices)-1)]\n",
        "    return gait_cycles\n",
        "\n",
        "  def signal_data_to_df(self):\n",
        "    self.signals_data_df = pd.DataFrame(self.signals_data, columns =[\"ID\", \"level\", \"y\", \"L1\", \"L2\",\"L3\", \"L4\",\"L5\",\"L6\",\"L7\",\"L8\",\n",
        "                                       \"R1\", \"R2\",\"R3\", \"R4\",\"R5\",\"R6\",\"R7\",\"R8\",\"Total_Force_Right\",\"Total_Force_Left\" ])\n",
        "     \n",
        "    \n",
        "  def cycles_data_to_df(self):\n",
        "    self.cycles_data_df = pd.DataFrame(self.cycles_data, columns =[\"ID\", \"level\", \"y\", \n",
        "                                                                   \"l_stances\", \"l_strides_time\", \"l_swings_time\" , \"l_stances_time\"\n",
        "                                                                  , \"r_stances\" , \"r_strides_time\" , \"r_swings_time\" , \"r_stances_time\"\n",
        "                                                                  , \"l_peaks_heel\" , \"l_peaks_toe\"\n",
        "                                                                  , \"r_peaks_heel\" , \"r_peaks_toe\" ])\n",
        "    \n",
        "\n",
        "  def statical_data_to_df(self):\n",
        "    self.statical_data_df = pd.DataFrame(self.statical_data, columns =[\"ID\", \"level\", \"y\"\n",
        "                                                                      , \"mean_left_swings_time\" , \"std_left_swings_time\", \"cv_left_swings_time\"\n",
        "                                                                      , \"mean_left_stride_time\" , \"std_left_stride_time\" ,\"cv_left_stride_time\"\n",
        "                                                                      , \"kurtosis_left_strides_time\", \"skew_left_strides_time\"\n",
        "                                                                      , \"mean_left_stance_time\" , \"std_left_stance_time\", \"cv_left_stance_time\"\n",
        "                                                                      , \"mean_right_swings_time\" , \"std_right_swings_time\", \"cv_right_swings_time\"\n",
        "                                                                      , \"mean_right_stride_time\" , \"std_right_stride_time\", \"cv_right_stride_time\"\n",
        "                                                                      , \"kurtosis_right_strides_time\", \"skew_right_strides_time\"\n",
        "                                                                      , \"mean_right_stance_time\" , \"std_right_stance_time\", \"cv_right_stance_time\"\n",
        "                                                                      , \"mean_left_peaks_heel\" , \"std_left_peaks_heel\"\n",
        "                                                                      , \"mean_left_peaks_toe\" , \"std_left_peaks_toe\"\n",
        "                                                                      , \"mean_right_peaks_heel\" , \"std_right_peaks_heel\"\n",
        "                                                                      , \"mean_right_peaks_toe\" , \"std_right_peaks_toe\"\n",
        "                                                                       ])\n",
        "  def ind_stances_to_df(self):\n",
        "    #droping NNOT WORKING HERE\n",
        "    self.left_stances_df = self.cycles_data_df.explode([\"l_stances\",\"l_swings_time\"])\n",
        "    self.left_stances_df = self.left_stances_df.drop(columns=[\"r_stances\" ,\t\"r_strides_time\" ,\t\"r_swings_time\" ,\t\"r_stances_time\", \"r_peaks_heel\" ,\t\"r_peaks_toe\"], axis=1)\n",
        "\n",
        "    self.right_stances_df = self.cycles_data_df.explode([\"r_stances\",\"r_swings_time\"])\n",
        "    self.right_stances_df = self.right_stances_df.drop(columns=[\"l_stances\" ,\t\"l_strides_time\" ,\t\"l_swings_time\" ,\t\"l_stances_time\", \"l_peaks_heel\" ,\t\"l_peaks_toe\"], axis=1)\n",
        "\n",
        "  def save_files(self):\n",
        "    self.signals_data_df.to_parquet(self.parquet_path+'signals.gzip')\n",
        "    self.cycles_data_df.to_parquet(self.parquet_path+'cyclels.gzip')\n",
        "    self.statical_data_df.to_parquet(self.parquet_path+'statical.gzip')\n",
        "    self.left_stances_df.to_parquet(self.parquet_path+'left_stances.gzip')\n",
        "    self.right_stances_df.to_parquet(self.parquet_path+'right_stances.gzip')"
      ],
      "metadata": {
        "id": "3uHx0SlZl2aJ"
      },
      "execution_count": null,
      "outputs": []
    },
    {
      "cell_type": "markdown",
      "source": [
        "### Prepare the data"
      ],
      "metadata": {
        "id": "H_sk20fPzLuN"
      }
    },
    {
      "cell_type": "code",
      "source": [
        "data = Data( 1, csvD_path, demographics,parquet_path)"
      ],
      "metadata": {
        "colab": {
          "base_uri": "https://localhost:8080/",
          "height": 49,
          "referenced_widgets": [
            "76d430b27faf43bdadf157f552f13ae2",
            "29ebc352951d4fa0938beba218a394b8",
            "b6828ee43f97471abf45ccc60c277629",
            "ef49c0063f0244d2aeb3a2d9cab4ef4d",
            "549e36afb1344e5dac211583191e8bdf",
            "bff29d2b3d834c9ca2263759ef64a52e",
            "009a2cc28ae84588a4287bf39386769d",
            "2fabca6f213f46d5ac3f834242ebefa1",
            "884b0b1abc344bf2bdb4e38e6fc2fdbd",
            "0cc9fd76f4c34854b31e0409a13d62f3",
            "7c27d950cf8e4efebf2699e943a9e7d8"
          ]
        },
        "id": "n-MVu6AKJPk5",
        "outputId": "718416fb-5095-44da-8ae3-14cc87416fb1"
      },
      "execution_count": null,
      "outputs": [
        {
          "output_type": "display_data",
          "data": {
            "text/plain": [
              "  0%|          | 0/304 [00:00<?, ?it/s]"
            ],
            "application/vnd.jupyter.widget-view+json": {
              "version_major": 2,
              "version_minor": 0,
              "model_id": "76d430b27faf43bdadf157f552f13ae2"
            }
          },
          "metadata": {}
        }
      ]
    },
    {
      "cell_type": "code",
      "source": [
        "data.cycles_data_df"
      ],
      "metadata": {
        "id": "IfujtCJCre60"
      },
      "execution_count": null,
      "outputs": []
    },
    {
      "cell_type": "markdown",
      "source": [
        "### Read already prepared data"
      ],
      "metadata": {
        "id": "6gvkVqJ2zQFA"
      }
    },
    {
      "cell_type": "code",
      "source": [
        "data_df = Data( 0, \"\", \"\",parquet_path)"
      ],
      "metadata": {
        "id": "XzE-whMYt6OS"
      },
      "execution_count": null,
      "outputs": []
    },
    {
      "cell_type": "code",
      "source": [
        "type(data_df.signals_data_df[\"L1\"].iloc[-1]) "
      ],
      "metadata": {
        "colab": {
          "base_uri": "https://localhost:8080/"
        },
        "id": "vnyD09XjuQbC",
        "outputId": "e72b2454-c22b-4a53-d6c0-ab82dc7425ea"
      },
      "execution_count": null,
      "outputs": [
        {
          "output_type": "execute_result",
          "data": {
            "text/plain": [
              "numpy.ndarray"
            ]
          },
          "metadata": {},
          "execution_count": 66
        }
      ]
    },
    {
      "cell_type": "code",
      "source": [
        "data=data_df"
      ],
      "metadata": {
        "id": "-FyvcPWvkNXG"
      },
      "execution_count": null,
      "outputs": []
    },
    {
      "cell_type": "markdown",
      "source": [
        "### Example"
      ],
      "metadata": {
        "id": "gmQ47Qcp6D5S"
      }
    },
    {
      "cell_type": "code",
      "source": [
        "# example of one stance phase \n",
        "y = data_df.left_stances_df['l_stances'].iloc[7]\n",
        "import matplotlib.pyplot as plt\n",
        "plt.plot(y)"
      ],
      "metadata": {
        "colab": {
          "base_uri": "https://localhost:8080/",
          "height": 282
        },
        "id": "qzvCeNFa80go",
        "outputId": "9abcaf0e-d474-4933-84e2-b5e1f0c051bc"
      },
      "execution_count": null,
      "outputs": [
        {
          "output_type": "execute_result",
          "data": {
            "text/plain": [
              "[<matplotlib.lines.Line2D at 0x7f30e86c43d0>]"
            ]
          },
          "metadata": {},
          "execution_count": 90
        },
        {
          "output_type": "display_data",
          "data": {
            "text/plain": [
              "<Figure size 432x288 with 1 Axes>"
            ],
            "image/png": "[encoded data removed]"
          },
          "metadata": {
            "needs_background": "light"
          }
        }
      ]
    },
    {
      "cell_type": "code",
      "source": [
        "# example of one stance phase \n",
        "y = data_df.left_stances_df['l_stances'].iloc[9000]\n",
        "import matplotlib.pyplot as plt\n",
        "plt.plot(y)"
      ],
      "metadata": {
        "colab": {
          "base_uri": "https://localhost:8080/",
          "height": 282
        },
        "id": "mpk1i9CMy71e",
        "outputId": "f6a18f6f-1bf8-4ecd-e682-71c2a5dd9ea6"
      },
      "execution_count": null,
      "outputs": [
        {
          "output_type": "execute_result",
          "data": {
            "text/plain": [
              "[<matplotlib.lines.Line2D at 0x7f309fa34a00>]"
            ]
          },
          "metadata": {},
          "execution_count": 89
        },
        {
          "output_type": "display_data",
          "data": {
            "text/plain": [
              "<Figure size 432x288 with 1 Axes>"
            ],
            "image/png": "[encoded data removed]"
          },
          "metadata": {
            "needs_background": "light"
          }
        }
      ]
    },
    {
      "cell_type": "markdown",
      "source": [
        "### FWHM\n"
      ],
      "metadata": {
        "id": "0_Wh3g6eut06"
      }
    },
    {
      "cell_type": "code",
      "source": [
        "def fwhm(y_values_temp, x_values):\n",
        "    y_values, temp_l, temp_r = [], [], []\n",
        "    ## print(y_values_temp, x_values)\n",
        "    # To make 'y_values_temp', a numpy array, into a python list\n",
        "    for x in range(0,len(y_values_temp)):\n",
        "        y_values.append(y_values_temp[x])\n",
        "    peak_height = max(y_values)\n",
        "    half_peak_height = max(y_values)/2\n",
        "    \n",
        "    # Splitting the y_values data into before and after x_value at peak height\n",
        "    y_l_temp = y_values[0:y_values.index(peak_height)]\n",
        "    y_r_temp = y_values[y_values.index(peak_height):len(y_values)]\n",
        "    \n",
        "    # Finds 1st closest value to half_peak_height in y_l and y_r\n",
        "    y_l = [abs(x-half_peak_height) for x in y_l_temp] # the distances\n",
        "    y_l_min = min(y_l)\n",
        "    point_left=y_l_temp[y_l.index(y_l_min)]  \n",
        "    \n",
        "    y_r = [abs(x-half_peak_height) for x in y_r_temp] # the distances\n",
        "    point_right=y_r_temp[y_r.index(min(y_r))]  \n",
        "    \n",
        "    # y_l = nsmallest(1, y_l_temp, key=lambda x: abs(x-half_peak_height))\n",
        "    # y_r = nsmallest(1, y_r_temp, key=lambda x: abs(x-half_peak_height))\n",
        "    \n",
        "    # Gets x_value pairs for y_l and y_r\n",
        "    temp_l.append(x_values[y_l_temp.index(point_left)])\n",
        "    temp_r.append(x_values[y_r_temp.index(point_right)])\n",
        "    fwhm_n = temp_l[0] - temp_r[0]\n",
        "    return abs(fwhm_n)"
      ],
      "metadata": {
        "id": "tzUwiIe49ZBp"
      },
      "execution_count": null,
      "outputs": []
    },
    {
      "cell_type": "code",
      "source": [
        "# data.left_stances_df.drop(index=data.left_stances_df.index[0], axis=0, inplace=True)"
      ],
      "metadata": {
        "id": "BDcSn5CwlWEH"
      },
      "execution_count": null,
      "outputs": []
    },
    {
      "cell_type": "code",
      "source": [
        "data.left_stances_df.head()"
      ],
      "metadata": {
        "id": "wfhLUTe0nxw0"
      },
      "execution_count": null,
      "outputs": []
    },
    {
      "cell_type": "code",
      "source": [
        "data.right_stances_df['max_peak'] = data.right_stances_df['r_stances'].apply(lambda x: max(x))"
      ],
      "metadata": {
        "id": "14ZC1TxJK9je"
      },
      "execution_count": null,
      "outputs": []
    },
    {
      "cell_type": "code",
      "source": [
        "i=0"
      ],
      "metadata": {
        "id": "BK0tiLLWpLxN"
      },
      "execution_count": null,
      "outputs": []
    },
    {
      "cell_type": "code",
      "source": [
        "len(data.right_stances_df['r_stances'].iloc[28])"
      ],
      "metadata": {
        "colab": {
          "base_uri": "https://localhost:8080/"
        },
        "id": "G0w1T1V1pfh0",
        "outputId": "8f8b1dc0-c943-4be3-9051-378454dbb925"
      },
      "execution_count": null,
      "outputs": [
        {
          "output_type": "execute_result",
          "data": {
            "text/plain": [
              "100"
            ]
          },
          "metadata": {},
          "execution_count": 48
        }
      ]
    },
    {
      "cell_type": "code",
      "source": [
        "data.right_stances_df['FWHM'] = data.right_stances_df['r_stances'].apply(lambda x: fwhm(x, np.arange(0, len(x)*0.01,0.01)))"
      ],
      "metadata": {
        "id": "QQ7qyuDIMYqX"
      },
      "execution_count": null,
      "outputs": []
    },
    {
      "cell_type": "code",
      "source": [
        "data.right_stances_df.head()"
      ],
      "metadata": {
        "colab": {
          "base_uri": "https://localhost:8080/",
          "height": 424
        },
        "id": "o4i5L4wQuWtC",
        "outputId": "1ef6e3af-9dfc-4957-c3b4-c2184da67e9f"
      },
      "execution_count": null,
      "outputs": [
        {
          "output_type": "execute_result",
          "data": {
            "text/plain": [
              "       ID  level  y                                          r_stances  \\\n",
              "0  GaPt03    3.0  1  [20.79, 27.72, 32.45, 37.07, 63.69, 110.33, 13...   \n",
              "0  GaPt03    3.0  1  [52.8, 69.19, 57.64, 51.7, 60.94, 92.84, 140.1...   \n",
              "0  GaPt03    3.0  1  [23.1, 32.45, 39.38, 46.31, 116.82, 155.43, 17...   \n",
              "0  GaPt03    3.0  1  [23.1, 41.69, 55.55, 119.13, 154.55, 200.42, 2...   \n",
              "0  GaPt03    3.0  1  [25.41, 37.07, 55.55, 106.37, 152.02, 182.05, ...   \n",
              "\n",
              "                                      r_strides_time r_swings_time  \\\n",
              "0  [1.59, 1.27, 1.41, 1.49, 1.56, 1.41, 1.5, 1.32...          0.39   \n",
              "0  [1.59, 1.27, 1.41, 1.49, 1.56, 1.41, 1.5, 1.32...          0.21   \n",
              "0  [1.59, 1.27, 1.41, 1.49, 1.56, 1.41, 1.5, 1.32...          0.41   \n",
              "0  [1.59, 1.27, 1.41, 1.49, 1.56, 1.41, 1.5, 1.32...          0.43   \n",
              "0  [1.59, 1.27, 1.41, 1.49, 1.56, 1.41, 1.5, 1.32...          0.41   \n",
              "\n",
              "                                      r_stances_time  \\\n",
              "0  [1.19, 1.05, 0.99, 1.05, 1.1400000000000001, 0...   \n",
              "0  [1.19, 1.05, 0.99, 1.05, 1.1400000000000001, 0...   \n",
              "0  [1.19, 1.05, 0.99, 1.05, 1.1400000000000001, 0...   \n",
              "0  [1.19, 1.05, 0.99, 1.05, 1.1400000000000001, 0...   \n",
              "0  [1.19, 1.05, 0.99, 1.05, 1.1400000000000001, 0...   \n",
              "\n",
              "                                        r_peaks_heel  \\\n",
              "0  [107.8, 71.17, 111.1, 141.24, 101.2, 123.42, 1...   \n",
              "0  [107.8, 71.17, 111.1, 141.24, 101.2, 123.42, 1...   \n",
              "0  [107.8, 71.17, 111.1, 141.24, 101.2, 123.42, 1...   \n",
              "0  [107.8, 71.17, 111.1, 141.24, 101.2, 123.42, 1...   \n",
              "0  [107.8, 71.17, 111.1, 141.24, 101.2, 123.42, 1...   \n",
              "\n",
              "                                         r_peaks_toe  max_peak  FWHM  \n",
              "0  [80.63, 134.42, 80.63, 71.61, 98.78, 130.02, 8...    731.61  0.48  \n",
              "0  [80.63, 134.42, 80.63, 71.61, 98.78, 130.02, 8...    774.73  0.20  \n",
              "0  [80.63, 134.42, 80.63, 71.61, 98.78, 130.02, 8...    717.75  0.05  \n",
              "0  [80.63, 134.42, 80.63, 71.61, 98.78, 130.02, 8...    742.50  0.10  \n",
              "0  [80.63, 134.42, 80.63, 71.61, 98.78, 130.02, 8...    779.79  0.17  "
            ],
            "text/html": [
              "\n",
              "  <div id=\"df-17d4a54a-d1a4-4036-804c-d6a34336ff95\">\n",
              "    <div class=\"colab-df-container\">\n",
              "      <div>\n",
              "<style scoped>\n",
              "    .dataframe tbody tr th:only-of-type {\n",
              "        vertical-align: middle;\n",
              "    }\n",
              "\n",
              "    .dataframe tbody tr th {\n",
              "        vertical-align: top;\n",
              "    }\n",
              "\n",
              "    .dataframe thead th {\n",
              "        text-align: right;\n",
              "    }\n",
              "</style>\n",
              "<table border=\"1\" class=\"dataframe\">\n",
              "  <thead>\n",
              "    <tr style=\"text-align: right;\">\n",
              "      <th></th>\n",
              "      <th>ID</th>\n",
              "      <th>level</th>\n",
              "      <th>y</th>\n",
              "      <th>r_stances</th>\n",
              "      <th>r_strides_time</th>\n",
              "      <th>r_swings_time</th>\n",
              "      <th>r_stances_time</th>\n",
              "      <th>r_peaks_heel</th>\n",
              "      <th>r_peaks_toe</th>\n",
              "      <th>max_peak</th>\n",
              "      <th>FWHM</th>\n",
              "    </tr>\n",
              "  </thead>\n",
              "  <tbody>\n",
              "    <tr>\n",
              "      <th>0</th>\n",
              "      <td>GaPt03</td>\n",
              "      <td>3.0</td>\n",
              "      <td>1</td>\n",
              "      <td>[20.79, 27.72, 32.45, 37.07, 63.69, 110.33, 13...</td>\n",
              "      <td>[1.59, 1.27, 1.41, 1.49, 1.56, 1.41, 1.5, 1.32...</td>\n",
              "      <td>0.39</td>\n",
              "      <td>[1.19, 1.05, 0.99, 1.05, 1.1400000000000001, 0...</td>\n",
              "      <td>[107.8, 71.17, 111.1, 141.24, 101.2, 123.42, 1...</td>\n",
              "      <td>[80.63, 134.42, 80.63, 71.61, 98.78, 130.02, 8...</td>\n",
              "      <td>731.61</td>\n",
              "      <td>0.48</td>\n",
              "    </tr>\n",
              "    <tr>\n",
              "      <th>0</th>\n",
              "      <td>GaPt03</td>\n",
              "      <td>3.0</td>\n",
              "      <td>1</td>\n",
              "      <td>[52.8, 69.19, 57.64, 51.7, 60.94, 92.84, 140.1...</td>\n",
              "      <td>[1.59, 1.27, 1.41, 1.49, 1.56, 1.41, 1.5, 1.32...</td>\n",
              "      <td>0.21</td>\n",
              "      <td>[1.19, 1.05, 0.99, 1.05, 1.1400000000000001, 0...</td>\n",
              "      <td>[107.8, 71.17, 111.1, 141.24, 101.2, 123.42, 1...</td>\n",
              "      <td>[80.63, 134.42, 80.63, 71.61, 98.78, 130.02, 8...</td>\n",
              "      <td>774.73</td>\n",
              "      <td>0.20</td>\n",
              "    </tr>\n",
              "    <tr>\n",
              "      <th>0</th>\n",
              "      <td>GaPt03</td>\n",
              "      <td>3.0</td>\n",
              "      <td>1</td>\n",
              "      <td>[23.1, 32.45, 39.38, 46.31, 116.82, 155.43, 17...</td>\n",
              "      <td>[1.59, 1.27, 1.41, 1.49, 1.56, 1.41, 1.5, 1.32...</td>\n",
              "      <td>0.41</td>\n",
              "      <td>[1.19, 1.05, 0.99, 1.05, 1.1400000000000001, 0...</td>\n",
              "      <td>[107.8, 71.17, 111.1, 141.24, 101.2, 123.42, 1...</td>\n",
              "      <td>[80.63, 134.42, 80.63, 71.61, 98.78, 130.02, 8...</td>\n",
              "      <td>717.75</td>\n",
              "      <td>0.05</td>\n",
              "    </tr>\n",
              "    <tr>\n",
              "      <th>0</th>\n",
              "      <td>GaPt03</td>\n",
              "      <td>3.0</td>\n",
              "      <td>1</td>\n",
              "      <td>[23.1, 41.69, 55.55, 119.13, 154.55, 200.42, 2...</td>\n",
              "      <td>[1.59, 1.27, 1.41, 1.49, 1.56, 1.41, 1.5, 1.32...</td>\n",
              "      <td>0.43</td>\n",
              "      <td>[1.19, 1.05, 0.99, 1.05, 1.1400000000000001, 0...</td>\n",
              "      <td>[107.8, 71.17, 111.1, 141.24, 101.2, 123.42, 1...</td>\n",
              "      <td>[80.63, 134.42, 80.63, 71.61, 98.78, 130.02, 8...</td>\n",
              "      <td>742.50</td>\n",
              "      <td>0.10</td>\n",
              "    </tr>\n",
              "    <tr>\n",
              "      <th>0</th>\n",
              "      <td>GaPt03</td>\n",
              "      <td>3.0</td>\n",
              "      <td>1</td>\n",
              "      <td>[25.41, 37.07, 55.55, 106.37, 152.02, 182.05, ...</td>\n",
              "      <td>[1.59, 1.27, 1.41, 1.49, 1.56, 1.41, 1.5, 1.32...</td>\n",
              "      <td>0.41</td>\n",
              "      <td>[1.19, 1.05, 0.99, 1.05, 1.1400000000000001, 0...</td>\n",
              "      <td>[107.8, 71.17, 111.1, 141.24, 101.2, 123.42, 1...</td>\n",
              "      <td>[80.63, 134.42, 80.63, 71.61, 98.78, 130.02, 8...</td>\n",
              "      <td>779.79</td>\n",
              "      <td>0.17</td>\n",
              "    </tr>\n",
              "  </tbody>\n",
              "</table>\n",
              "</div>\n",
              "      <button class=\"colab-df-convert\" onclick=\"convertToInteractive('df-17d4a54a-d1a4-4036-804c-d6a34336ff95')\"\n",
              "              title=\"Convert this dataframe to an interactive table.\"\n",
              "              style=\"display:none;\">\n",
              "        \n",
              "  <svg xmlns=\"http://www.w3.org/2000/svg\" height=\"24px\"viewBox=\"0 0 24 24\"\n",
              "       width=\"24px\">\n",
              "    <path d=\"M0 0h24v24H0V0z\" fill=\"none\"/>\n",
              "    <path d=\"M18.56 5.44l.94 2.06.94-2.06 2.06-.94-2.06-.94-.94-2.06-.94 2.06-2.06.94zm-11 1L8.5 8.5l.94-2.06 2.06-.94-2.06-.94L8.5 2.5l-.94 2.06-2.06.94zm10 10l.94 2.06.94-2.06 2.06-.94-2.06-.94-.94-2.06-.94 2.06-2.06.94z\"/><path d=\"M17.41 7.96l-1.37-1.37c-.4-.4-.92-.59-1.43-.59-.52 0-1.04.2-1.43.59L10.3 9.45l-7.72 7.72c-.78.78-.78 2.05 0 2.83L4 21.41c.39.39.9.59 1.41.59.51 0 1.02-.2 1.41-.59l7.78-7.78 2.81-2.81c.8-.78.8-2.07 0-2.86zM5.41 20L4 18.59l7.72-7.72 1.47 1.35L5.41 20z\"/>\n",
              "  </svg>\n",
              "      </button>\n",
              "      \n",
              "  <style>\n",
              "    .colab-df-container {\n",
              "      display:flex;\n",
              "      flex-wrap:wrap;\n",
              "      gap: 12px;\n",
              "    }\n",
              "\n",
              "    .colab-df-convert {\n",
              "      background-color: #E8F0FE;\n",
              "      border: none;\n",
              "      border-radius: 50%;\n",
              "      cursor: pointer;\n",
              "      display: none;\n",
              "      fill: #1967D2;\n",
              "      height: 32px;\n",
              "      padding: 0 0 0 0;\n",
              "      width: 32px;\n",
              "    }\n",
              "\n",
              "    .colab-df-convert:hover {\n",
              "      background-color: #E2EBFA;\n",
              "      box-shadow: 0px 1px 2px rgba(60, 64, 67, 0.3), 0px 1px 3px 1px rgba(60, 64, 67, 0.15);\n",
              "      fill: #174EA6;\n",
              "    }\n",
              "\n",
              "    [theme=dark] .colab-df-convert {\n",
              "      background-color: #3B4455;\n",
              "      fill: #D2E3FC;\n",
              "    }\n",
              "\n",
              "    [theme=dark] .colab-df-convert:hover {\n",
              "      background-color: #434B5C;\n",
              "      box-shadow: 0px 1px 3px 1px rgba(0, 0, 0, 0.15);\n",
              "      filter: drop-shadow(0px 1px 2px rgba(0, 0, 0, 0.3));\n",
              "      fill: #FFFFFF;\n",
              "    }\n",
              "  </style>\n",
              "\n",
              "      <script>\n",
              "        const buttonEl =\n",
              "          document.querySelector('#df-17d4a54a-d1a4-4036-804c-d6a34336ff95 button.colab-df-convert');\n",
              "        buttonEl.style.display =\n",
              "          google.colab.kernel.accessAllowed ? 'block' : 'none';\n",
              "\n",
              "        async function convertToInteractive(key) {\n",
              "          const element = document.querySelector('#df-17d4a54a-d1a4-4036-804c-d6a34336ff95');\n",
              "          const dataTable =\n",
              "            await google.colab.kernel.invokeFunction('convertToInteractive',\n",
              "                                                     [key], {});\n",
              "          if (!dataTable) return;\n",
              "\n",
              "          const docLinkHtml = 'Like what you see? Visit the ' +\n",
              "            '<a target=\"_blank\" href=https://colab.research.google.com/notebooks/data_table.ipynb>data table notebook</a>'\n",
              "            + ' to learn more about interactive tables.';\n",
              "          element.innerHTML = '';\n",
              "          dataTable['output_type'] = 'display_data';\n",
              "          await google.colab.output.renderOutput(dataTable, element);\n",
              "          const docLink = document.createElement('div');\n",
              "          docLink.innerHTML = docLinkHtml;\n",
              "          element.appendChild(docLink);\n",
              "        }\n",
              "      </script>\n",
              "    </div>\n",
              "  </div>\n",
              "  "
            ]
          },
          "metadata": {},
          "execution_count": 68
        }
      ]
    },
    {
      "cell_type": "markdown",
      "source": [
        "### Scaling\n"
      ],
      "metadata": {
        "id": "zAZo7yERC8pe"
      }
    },
    {
      "cell_type": "code",
      "source": [
        "def fxy(x, y):\n",
        "  return np.asarray(x) * 0.20 "
      ],
      "metadata": {
        "id": "MgvEJs01GZkO"
      },
      "execution_count": null,
      "outputs": []
    },
    {
      "cell_type": "code",
      "source": [
        "data.right_stances_df['transformed_signal'] = data.right_stances_df.apply(lambda x: fxy(x['r_stances'], x['FWHM']), axis=1)"
      ],
      "metadata": {
        "id": "5JxBYO2xC_S2"
      },
      "execution_count": null,
      "outputs": []
    },
    {
      "cell_type": "markdown",
      "source": [
        "### Just to check, after scaling"
      ],
      "metadata": {
        "id": "Sq3hQAcLG9DW"
      }
    },
    {
      "cell_type": "code",
      "source": [
        "x = np.arange(0, len(y)*0.01,0.01)"
      ],
      "metadata": {
        "id": "SIozPS1HItSl"
      },
      "execution_count": null,
      "outputs": []
    },
    {
      "cell_type": "code",
      "source": [
        "# example of one stance phase \n",
        "y = data.right_stances_df['r_stances'].iloc[0]\n",
        "import matplotlib.pyplot as plt\n",
        "\n",
        "plt.plot(x,y)"
      ],
      "metadata": {
        "colab": {
          "base_uri": "https://localhost:8080/",
          "height": 282
        },
        "id": "kNpwMfLDHOc2",
        "outputId": "01d367f3-0d28-4687-bb06-5fc4726c24eb"
      },
      "execution_count": null,
      "outputs": [
        {
          "output_type": "execute_result",
          "data": {
            "text/plain": [
              "[<matplotlib.lines.Line2D at 0x7f30a6a85490>]"
            ]
          },
          "metadata": {},
          "execution_count": 122
        },
        {
          "output_type": "display_data",
          "data": {
            "text/plain": [
              "<Figure size 432x288 with 1 Axes>"
            ],
            "image/png": "[encoded data removed]"
          },
          "metadata": {
            "needs_background": "light"
          }
        }
      ]
    },
    {
      "cell_type": "code",
      "source": [
        "y = data.right_stances_df['r_stances'].iloc[0]\n",
        "x = np.arange(0, len(y)*0.01,0.01) * 0.20 /0.48\n",
        "# example of one stance phase \n",
        "\n",
        "import matplotlib.pyplot as plt\n",
        "plt.plot(x,y)"
      ],
      "metadata": {
        "colab": {
          "base_uri": "https://localhost:8080/",
          "height": 282
        },
        "id": "B0e_JC8oI0j9",
        "outputId": "07e09d9f-9d30-4337-9c2c-3b21ed8c7f68"
      },
      "execution_count": null,
      "outputs": [
        {
          "output_type": "execute_result",
          "data": {
            "text/plain": [
              "[<matplotlib.lines.Line2D at 0x7f311e740070>]"
            ]
          },
          "metadata": {},
          "execution_count": 126
        },
        {
          "output_type": "display_data",
          "data": {
            "text/plain": [
              "<Figure size 432x288 with 1 Axes>"
            ],
            "image/png": "[encoded data removed]"
          },
          "metadata": {
            "needs_background": "light"
          }
        }
      ]
    },
    {
      "cell_type": "code",
      "source": [
        "y = data.right_stances_df['r_stances'].iloc[2]\n",
        "x = np.arange(0, len(y)*0.01,0.01) \n",
        "# example of one stance phase \n",
        "\n",
        "import matplotlib.pyplot as plt\n",
        "plt.plot(x,y)"
      ],
      "metadata": {
        "colab": {
          "base_uri": "https://localhost:8080/",
          "height": 282
        },
        "id": "zk8cR8BhJhk1",
        "outputId": "50af1d69-021a-444a-988f-8eb3f4d9e878"
      },
      "execution_count": null,
      "outputs": [
        {
          "output_type": "execute_result",
          "data": {
            "text/plain": [
              "[<matplotlib.lines.Line2D at 0x7f30a11a7160>]"
            ]
          },
          "metadata": {},
          "execution_count": 131
        },
        {
          "output_type": "display_data",
          "data": {
            "text/plain": [
              "<Figure size 432x288 with 1 Axes>"
            ],
            "image/png": "[encoded data removed]"
          },
          "metadata": {
            "needs_background": "light"
          }
        }
      ]
    },
    {
      "cell_type": "code",
      "source": [
        "# example of one stance phase \n",
        "y = data.right_stances_df['transformed_signal'].iloc[9500]\n",
        "import matplotlib.pyplot as plt\n",
        "plt.plot(y)"
      ],
      "metadata": {
        "colab": {
          "base_uri": "https://localhost:8080/",
          "height": 282
        },
        "id": "TyzG0AUXHGYq",
        "outputId": "2aa25826-702c-4c78-af2a-779d17a0b66a"
      },
      "execution_count": null,
      "outputs": [
        {
          "output_type": "execute_result",
          "data": {
            "text/plain": [
              "[<matplotlib.lines.Line2D at 0x7f30bd8c11f0>]"
            ]
          },
          "metadata": {},
          "execution_count": 115
        },
        {
          "output_type": "display_data",
          "data": {
            "text/plain": [
              "<Figure size 432x288 with 1 Axes>"
            ],
            "image/png": "[encoded data removed]"
          },
          "metadata": {
            "needs_background": "light"
          }
        }
      ]
    },
    {
      "cell_type": "code",
      "source": [],
      "metadata": {
        "id": "9wCNRvk-DRCU"
      },
      "execution_count": null,
      "outputs": []
    },
    {
      "cell_type": "markdown",
      "source": [
        "### Trying FWHM algorithm"
      ],
      "metadata": {
        "id": "E0VilfUoKyl6"
      }
    },
    {
      "cell_type": "code",
      "source": [
        "pip install specutils"
      ],
      "metadata": {
        "id": "_97duHdtwx_i"
      },
      "execution_count": null,
      "outputs": []
    },
    {
      "cell_type": "code",
      "source": [
        "from specutils.analysis import gaussian_sigma_width, gaussian_fwhm, fwhm, fwzi"
      ],
      "metadata": {
        "id": "MtZBH5iwwP3r"
      },
      "execution_count": null,
      "outputs": []
    },
    {
      "cell_type": "code",
      "source": [
        "fwhm() "
      ],
      "metadata": {
        "id": "AFdlCykKxQyD"
      },
      "execution_count": null,
      "outputs": []
    },
    {
      "cell_type": "code",
      "source": [
        "from matplotlib import pyplot as mp\n",
        "import numpy as np\n",
        "\n",
        "def peak(x, c):\n",
        "    return np.exp(-np.power(x - c, 2) / 16.0)\n",
        "\n",
        "def lin_interp(x, y, i, half):\n",
        "    return x[i] + (x[i+1] - x[i]) * ((half - y[i]) / (y[i+1] - y[i]))\n",
        "\n",
        "def half_max_x(x, y):\n",
        "    half = max(y)/2.0\n",
        "    signs = np.sign(np.add(y, -half))\n",
        "    zero_crossings = (signs[0:-2] != signs[1:-1])\n",
        "    zero_crossings_i = np.where(zero_crossings)[0]\n",
        "    return [lin_interp(x, y, zero_crossings_i[0], half),\n",
        "            lin_interp(x, y, zero_crossings_i[1], half)]\n",
        "\n",
        "# make some fake data\n",
        "x=np.linspace(0,len(y),21)\n",
        "y=peak(y,10)\n",
        "\n",
        "# find the two crossing points\n",
        "hmx = half_max_x(x,y)\n",
        "\n",
        "# print the answer\n",
        "fwhm = hmx[1] - hmx[0]\n",
        "print(\"FWHM:{:.3f}\".format(fwhm))\n",
        "\n",
        "# a convincing plot\n",
        "half = max(y)/2.0\n",
        "mp.plot(x,y)\n",
        "mp.plot(hmx, [half, half])\n",
        "mp.show()"
      ],
      "metadata": {
        "id": "HeD3Kpx-raUm"
      },
      "execution_count": null,
      "outputs": []
    },
    {
      "cell_type": "markdown",
      "source": [
        "## SVM models\n"
      ],
      "metadata": {
        "id": "40JFGueONYpC"
      }
    },
    {
      "cell_type": "markdown",
      "source": [
        "### SVM\n"
      ],
      "metadata": {
        "id": "nc9tfNCR6xAD"
      }
    },
    {
      "cell_type": "code",
      "source": [
        "X_train, X_test, y_train, y_test = train_test_split(data.statical_data_df.iloc[:, 3:], data.statical_data_df[\"y\"], test_size=0.33, random_state=42)"
      ],
      "metadata": {
        "id": "NeCaNP24-Wiu"
      },
      "execution_count": null,
      "outputs": []
    },
    {
      "cell_type": "code",
      "source": [
        "svc = SVC(kernel='poly').fit(X_train, y_train)"
      ],
      "metadata": {
        "id": "KGMxYlIT_kQ-"
      },
      "execution_count": null,
      "outputs": []
    },
    {
      "cell_type": "code",
      "source": [
        "svc.score(X_test, (y_test))"
      ],
      "metadata": {
        "colab": {
          "base_uri": "https://localhost:8080/"
        },
        "id": "QxgD_vs1Q4m_",
        "outputId": "ae6c4eb2-ec90-4d2b-ea36-808d92c1dd19"
      },
      "execution_count": null,
      "outputs": [
        {
          "output_type": "execute_result",
          "data": {
            "text/plain": [
              "0.7524752475247525"
            ]
          },
          "metadata": {},
          "execution_count": 97
        }
      ]
    },
    {
      "cell_type": "markdown",
      "source": [
        "### SVM 2"
      ],
      "metadata": {
        "id": "mlvMF9KbRouf"
      }
    },
    {
      "cell_type": "markdown",
      "source": [],
      "metadata": {
        "id": "eo7PXML9Q0CO"
      }
    },
    {
      "cell_type": "code",
      "source": [
        "X_train, X_test, y_train, y_test = train_test_split(data.statical_data_df[[\"mean_left_swings_time\" , \"std_left_swings_time\", \"cv_left_swings_time\"\n",
        "                                                                      , \"mean_left_stride_time\" , \"std_left_stride_time\" ,\"cv_left_stride_time\"\n",
        "                                                                      , \"kurtosis_left_strides_time\", \"skew_left_strides_time\"\n",
        "                                                                      , \"mean_left_stance_time\" , \"std_left_stance_time\", \"cv_left_stance_time\"\n",
        "                                                                      \n",
        "                                                                      , \"mean_left_peaks_heel\" , \"std_left_peaks_heel\"\n",
        "                                                                      , \"mean_left_peaks_toe\" , \"std_left_peaks_toe\"]],\n",
        "                                                    data.statical_data_df[\"y\"], \n",
        "                                                    test_size=0.33, random_state=42)"
      ],
      "metadata": {
        "id": "9g912XnARq-Z"
      },
      "execution_count": null,
      "outputs": []
    },
    {
      "cell_type": "code",
      "source": [
        "svc = SVC(kernel='poly').fit(X_train, y_train)"
      ],
      "metadata": {
        "id": "MZdEKMoxSbpH"
      },
      "execution_count": null,
      "outputs": []
    },
    {
      "cell_type": "code",
      "source": [
        "svc.score(X_test, (y_test))"
      ],
      "metadata": {
        "colab": {
          "base_uri": "https://localhost:8080/"
        },
        "id": "ZKPF3-o6ScnV",
        "outputId": "d7668a5c-9f16-4674-d47e-9f5abe96fb2a"
      },
      "execution_count": null,
      "outputs": [
        {
          "output_type": "execute_result",
          "data": {
            "text/plain": [
              "0.7128712871287128"
            ]
          },
          "metadata": {},
          "execution_count": 103
        }
      ]
    },
    {
      "cell_type": "markdown",
      "source": [
        "### SVM3"
      ],
      "metadata": {
        "id": "vokZY7RiS-ok"
      }
    },
    {
      "cell_type": "code",
      "source": [
        "X_train, X_test, y_train, y_test = train_test_split(data.statical_data_df[[ \"cv_left_swings_time\" ,\"cv_left_stride_time\"\n",
        "                                                                      \n",
        "                                                                      , \"mean_left_peaks_heel\" , \"std_left_peaks_heel\"\n",
        "                                                                      , \"mean_left_peaks_toe\" , \"std_left_peaks_toe\"]],\n",
        "                                                    data.statical_data_df[\"y\"], \n",
        "                                                    test_size=0.33, random_state=42)"
      ],
      "metadata": {
        "id": "ssnoaIGfRrEe"
      },
      "execution_count": null,
      "outputs": []
    },
    {
      "cell_type": "code",
      "source": [
        "svc = SVC(kernel='poly').fit(X_train, y_train)"
      ],
      "metadata": {
        "id": "gaov_IcfTA8P"
      },
      "execution_count": null,
      "outputs": []
    },
    {
      "cell_type": "code",
      "source": [
        "svc.score(X_test, (y_test))"
      ],
      "metadata": {
        "colab": {
          "base_uri": "https://localhost:8080/"
        },
        "id": "zt6aZDOrTCX3",
        "outputId": "91a27820-538d-420e-b30a-94cf68c7de75"
      },
      "execution_count": null,
      "outputs": [
        {
          "output_type": "execute_result",
          "data": {
            "text/plain": [
              "0.7128712871287128"
            ]
          },
          "metadata": {},
          "execution_count": 111
        }
      ]
    },
    {
      "cell_type": "markdown",
      "source": [
        "### SVM 4"
      ],
      "metadata": {
        "id": "-E8XJfOATVbl"
      }
    },
    {
      "cell_type": "code",
      "source": [
        "X_train, X_test, y_train, y_test = train_test_split(data.statical_data_df[[\"cv_right_swings_time\", \"cv_right_stride_time\"\n",
        "                                                                      , \"mean_right_peaks_heel\" , \"std_right_peaks_heel\"\n",
        "                                                                      , \"mean_right_peaks_toe\" , \"std_right_peaks_toe\"\n",
        "                                                                       ]],\n",
        "                                                    data.statical_data_df[\"y\"], \n",
        "                                                    test_size=0.33, random_state=42)"
      ],
      "metadata": {
        "id": "8V6pJVt7TYC1"
      },
      "execution_count": null,
      "outputs": []
    },
    {
      "cell_type": "code",
      "source": [
        "svc = SVC(kernel='poly').fit(X_train, y_train)"
      ],
      "metadata": {
        "id": "tgkD5J_ATi79"
      },
      "execution_count": null,
      "outputs": []
    },
    {
      "cell_type": "code",
      "source": [
        "svc.score(X_test, (y_test))"
      ],
      "metadata": {
        "colab": {
          "base_uri": "https://localhost:8080/"
        },
        "id": "_lSWfu5jTjGY",
        "outputId": "131e97f5-c153-48ba-94d8-caa650878883"
      },
      "execution_count": null,
      "outputs": [
        {
          "output_type": "execute_result",
          "data": {
            "text/plain": [
              "0.693069306930693"
            ]
          },
          "metadata": {},
          "execution_count": 116
        }
      ]
    }
  ]
}