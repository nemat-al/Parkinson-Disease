{
  "nbformat": 4,
  "nbformat_minor": 0,
  "metadata": {
    "colab": {
      "provenance": [],
      "collapsed_sections": [
        "XGsiFE5TcHNg",
        "54t2Slt_cQS4",
        "xGwWAnJlceLY",
        "KvZE9n9shOOe",
        "HGVWSzWxAFEt",
        "k-YsVQCzAr8A",
        "RYLLcevuF1de"
      ]
    },
    "kernelspec": {
      "name": "python3",
      "display_name": "Python 3"
    },
    "language_info": {
      "name": "python"
    },
    "widgets": {
      "application/vnd.jupyter.widget-state+json": {
        "58c6e018608841b0839b5528caca29f8": {
          "model_module": "@jupyter-widgets/controls",
          "model_name": "HBoxModel",
          "model_module_version": "1.5.0",
          "state": {
            "_dom_classes": [],
            "_model_module": "@jupyter-widgets/controls",
            "_model_module_version": "1.5.0",
            "_model_name": "HBoxModel",
            "_view_count": null,
            "_view_module": "@jupyter-widgets/controls",
            "_view_module_version": "1.5.0",
            "_view_name": "HBoxView",
            "box_style": "",
            "children": [
              "IPY_MODEL_15293797434c4e06b346329fd854ed10",
              "IPY_MODEL_c05e438c941c438a80a737d98d674037",
              "IPY_MODEL_18f9be5af9864ab7bffe3bcc48dc84e7"
            ],
            "layout": "IPY_MODEL_f66d8471da114638bf0d3922aff43e0b"
          }
        },
        "15293797434c4e06b346329fd854ed10": {
          "model_module": "@jupyter-widgets/controls",
          "model_name": "HTMLModel",
          "model_module_version": "1.5.0",
          "state": {
            "_dom_classes": [],
            "_model_module": "@jupyter-widgets/controls",
            "_model_module_version": "1.5.0",
            "_model_name": "HTMLModel",
            "_view_count": null,
            "_view_module": "@jupyter-widgets/controls",
            "_view_module_version": "1.5.0",
            "_view_name": "HTMLView",
            "description": "",
            "description_tooltip": null,
            "layout": "IPY_MODEL_4651c372655e4bf6ac650ee7c70c1989",
            "placeholder": "​",
            "style": "IPY_MODEL_4802f8a9044348df976a27b1494a63ac",
            "value": "100%"
          }
        },
        "c05e438c941c438a80a737d98d674037": {
          "model_module": "@jupyter-widgets/controls",
          "model_name": "FloatProgressModel",
          "model_module_version": "1.5.0",
          "state": {
            "_dom_classes": [],
            "_model_module": "@jupyter-widgets/controls",
            "_model_module_version": "1.5.0",
            "_model_name": "FloatProgressModel",
            "_view_count": null,
            "_view_module": "@jupyter-widgets/controls",
            "_view_module_version": "1.5.0",
            "_view_name": "ProgressView",
            "bar_style": "success",
            "description": "",
            "description_tooltip": null,
            "layout": "IPY_MODEL_d3b2463394174ecca7cb26d9c00730c7",
            "max": 304,
            "min": 0,
            "orientation": "horizontal",
            "style": "IPY_MODEL_b5b62769fbaa4455b272690cf9c062bf",
            "value": 304
          }
        },
        "18f9be5af9864ab7bffe3bcc48dc84e7": {
          "model_module": "@jupyter-widgets/controls",
          "model_name": "HTMLModel",
          "model_module_version": "1.5.0",
          "state": {
            "_dom_classes": [],
            "_model_module": "@jupyter-widgets/controls",
            "_model_module_version": "1.5.0",
            "_model_name": "HTMLModel",
            "_view_count": null,
            "_view_module": "@jupyter-widgets/controls",
            "_view_module_version": "1.5.0",
            "_view_name": "HTMLView",
            "description": "",
            "description_tooltip": null,
            "layout": "IPY_MODEL_e43645327f5249c7924ae004e60943cf",
            "placeholder": "​",
            "style": "IPY_MODEL_8724cf24e0444b3d88dc07b5c55d21f4",
            "value": " 304/304 [00:55&lt;00:00,  4.93it/s]"
          }
        },
        "f66d8471da114638bf0d3922aff43e0b": {
          "model_module": "@jupyter-widgets/base",
          "model_name": "LayoutModel",
          "model_module_version": "1.2.0",
          "state": {
            "_model_module": "@jupyter-widgets/base",
            "_model_module_version": "1.2.0",
            "_model_name": "LayoutModel",
            "_view_count": null,
            "_view_module": "@jupyter-widgets/base",
            "_view_module_version": "1.2.0",
            "_view_name": "LayoutView",
            "align_content": null,
            "align_items": null,
            "align_self": null,
            "border": null,
            "bottom": null,
            "display": null,
            "flex": null,
            "flex_flow": null,
            "grid_area": null,
            "grid_auto_columns": null,
            "grid_auto_flow": null,
            "grid_auto_rows": null,
            "grid_column": null,
            "grid_gap": null,
            "grid_row": null,
            "grid_template_areas": null,
            "grid_template_columns": null,
            "grid_template_rows": null,
            "height": null,
            "justify_content": null,
            "justify_items": null,
            "left": null,
            "margin": null,
            "max_height": null,
            "max_width": null,
            "min_height": null,
            "min_width": null,
            "object_fit": null,
            "object_position": null,
            "order": null,
            "overflow": null,
            "overflow_x": null,
            "overflow_y": null,
            "padding": null,
            "right": null,
            "top": null,
            "visibility": null,
            "width": null
          }
        },
        "4651c372655e4bf6ac650ee7c70c1989": {
          "model_module": "@jupyter-widgets/base",
          "model_name": "LayoutModel",
          "model_module_version": "1.2.0",
          "state": {
            "_model_module": "@jupyter-widgets/base",
            "_model_module_version": "1.2.0",
            "_model_name": "LayoutModel",
            "_view_count": null,
            "_view_module": "@jupyter-widgets/base",
            "_view_module_version": "1.2.0",
            "_view_name": "LayoutView",
            "align_content": null,
            "align_items": null,
            "align_self": null,
            "border": null,
            "bottom": null,
            "display": null,
            "flex": null,
            "flex_flow": null,
            "grid_area": null,
            "grid_auto_columns": null,
            "grid_auto_flow": null,
            "grid_auto_rows": null,
            "grid_column": null,
            "grid_gap": null,
            "grid_row": null,
            "grid_template_areas": null,
            "grid_template_columns": null,
            "grid_template_rows": null,
            "height": null,
            "justify_content": null,
            "justify_items": null,
            "left": null,
            "margin": null,
            "max_height": null,
            "max_width": null,
            "min_height": null,
            "min_width": null,
            "object_fit": null,
            "object_position": null,
            "order": null,
            "overflow": null,
            "overflow_x": null,
            "overflow_y": null,
            "padding": null,
            "right": null,
            "top": null,
            "visibility": null,
            "width": null
          }
        },
        "4802f8a9044348df976a27b1494a63ac": {
          "model_module": "@jupyter-widgets/controls",
          "model_name": "DescriptionStyleModel",
          "model_module_version": "1.5.0",
          "state": {
            "_model_module": "@jupyter-widgets/controls",
            "_model_module_version": "1.5.0",
            "_model_name": "DescriptionStyleModel",
            "_view_count": null,
            "_view_module": "@jupyter-widgets/base",
            "_view_module_version": "1.2.0",
            "_view_name": "StyleView",
            "description_width": ""
          }
        },
        "d3b2463394174ecca7cb26d9c00730c7": {
          "model_module": "@jupyter-widgets/base",
          "model_name": "LayoutModel",
          "model_module_version": "1.2.0",
          "state": {
            "_model_module": "@jupyter-widgets/base",
            "_model_module_version": "1.2.0",
            "_model_name": "LayoutModel",
            "_view_count": null,
            "_view_module": "@jupyter-widgets/base",
            "_view_module_version": "1.2.0",
            "_view_name": "LayoutView",
            "align_content": null,
            "align_items": null,
            "align_self": null,
            "border": null,
            "bottom": null,
            "display": null,
            "flex": null,
            "flex_flow": null,
            "grid_area": null,
            "grid_auto_columns": null,
            "grid_auto_flow": null,
            "grid_auto_rows": null,
            "grid_column": null,
            "grid_gap": null,
            "grid_row": null,
            "grid_template_areas": null,
            "grid_template_columns": null,
            "grid_template_rows": null,
            "height": null,
            "justify_content": null,
            "justify_items": null,
            "left": null,
            "margin": null,
            "max_height": null,
            "max_width": null,
            "min_height": null,
            "min_width": null,
            "object_fit": null,
            "object_position": null,
            "order": null,
            "overflow": null,
            "overflow_x": null,
            "overflow_y": null,
            "padding": null,
            "right": null,
            "top": null,
            "visibility": null,
            "width": null
          }
        },
        "b5b62769fbaa4455b272690cf9c062bf": {
          "model_module": "@jupyter-widgets/controls",
          "model_name": "ProgressStyleModel",
          "model_module_version": "1.5.0",
          "state": {
            "_model_module": "@jupyter-widgets/controls",
            "_model_module_version": "1.5.0",
            "_model_name": "ProgressStyleModel",
            "_view_count": null,
            "_view_module": "@jupyter-widgets/base",
            "_view_module_version": "1.2.0",
            "_view_name": "StyleView",
            "bar_color": null,
            "description_width": ""
          }
        },
        "e43645327f5249c7924ae004e60943cf": {
          "model_module": "@jupyter-widgets/base",
          "model_name": "LayoutModel",
          "model_module_version": "1.2.0",
          "state": {
            "_model_module": "@jupyter-widgets/base",
            "_model_module_version": "1.2.0",
            "_model_name": "LayoutModel",
            "_view_count": null,
            "_view_module": "@jupyter-widgets/base",
            "_view_module_version": "1.2.0",
            "_view_name": "LayoutView",
            "align_content": null,
            "align_items": null,
            "align_self": null,
            "border": null,
            "bottom": null,
            "display": null,
            "flex": null,
            "flex_flow": null,
            "grid_area": null,
            "grid_auto_columns": null,
            "grid_auto_flow": null,
            "grid_auto_rows": null,
            "grid_column": null,
            "grid_gap": null,
            "grid_row": null,
            "grid_template_areas": null,
            "grid_template_columns": null,
            "grid_template_rows": null,
            "height": null,
            "justify_content": null,
            "justify_items": null,
            "left": null,
            "margin": null,
            "max_height": null,
            "max_width": null,
            "min_height": null,
            "min_width": null,
            "object_fit": null,
            "object_position": null,
            "order": null,
            "overflow": null,
            "overflow_x": null,
            "overflow_y": null,
            "padding": null,
            "right": null,
            "top": null,
            "visibility": null,
            "width": null
          }
        },
        "8724cf24e0444b3d88dc07b5c55d21f4": {
          "model_module": "@jupyter-widgets/controls",
          "model_name": "DescriptionStyleModel",
          "model_module_version": "1.5.0",
          "state": {
            "_model_module": "@jupyter-widgets/controls",
            "_model_module_version": "1.5.0",
            "_model_name": "DescriptionStyleModel",
            "_view_count": null,
            "_view_module": "@jupyter-widgets/base",
            "_view_module_version": "1.2.0",
            "_view_name": "StyleView",
            "description_width": ""
          }
        },
        "50ff8013a57f4a4ba8419449bbe14682": {
          "model_module": "@jupyter-widgets/controls",
          "model_name": "HBoxModel",
          "model_module_version": "1.5.0",
          "state": {
            "_dom_classes": [],
            "_model_module": "@jupyter-widgets/controls",
            "_model_module_version": "1.5.0",
            "_model_name": "HBoxModel",
            "_view_count": null,
            "_view_module": "@jupyter-widgets/controls",
            "_view_module_version": "1.5.0",
            "_view_name": "HBoxView",
            "box_style": "",
            "children": [
              "IPY_MODEL_384aeeacc44f499a88ea93bcfa77bca3",
              "IPY_MODEL_8adc54ec32c24ac28d28ad858c4128b2",
              "IPY_MODEL_e6bf0e9b7e514a02841685a988685ba6"
            ],
            "layout": "IPY_MODEL_b8aca60292a440bbaf29b665d987e764"
          }
        },
        "384aeeacc44f499a88ea93bcfa77bca3": {
          "model_module": "@jupyter-widgets/controls",
          "model_name": "HTMLModel",
          "model_module_version": "1.5.0",
          "state": {
            "_dom_classes": [],
            "_model_module": "@jupyter-widgets/controls",
            "_model_module_version": "1.5.0",
            "_model_name": "HTMLModel",
            "_view_count": null,
            "_view_module": "@jupyter-widgets/controls",
            "_view_module_version": "1.5.0",
            "_view_name": "HTMLView",
            "description": "",
            "description_tooltip": null,
            "layout": "IPY_MODEL_808e93fcc29d4a5d90d15b3f633f883a",
            "placeholder": "​",
            "style": "IPY_MODEL_313b2d2717e14671abf951b4f3ab0c49",
            "value": "100%"
          }
        },
        "8adc54ec32c24ac28d28ad858c4128b2": {
          "model_module": "@jupyter-widgets/controls",
          "model_name": "FloatProgressModel",
          "model_module_version": "1.5.0",
          "state": {
            "_dom_classes": [],
            "_model_module": "@jupyter-widgets/controls",
            "_model_module_version": "1.5.0",
            "_model_name": "FloatProgressModel",
            "_view_count": null,
            "_view_module": "@jupyter-widgets/controls",
            "_view_module_version": "1.5.0",
            "_view_name": "ProgressView",
            "bar_style": "success",
            "description": "",
            "description_tooltip": null,
            "layout": "IPY_MODEL_a621fd83cd6849c1a8a6aa3c46f8cd03",
            "max": 18387,
            "min": 0,
            "orientation": "horizontal",
            "style": "IPY_MODEL_992d74ab0def417c8f2e7ed054d68f12",
            "value": 18387
          }
        },
        "e6bf0e9b7e514a02841685a988685ba6": {
          "model_module": "@jupyter-widgets/controls",
          "model_name": "HTMLModel",
          "model_module_version": "1.5.0",
          "state": {
            "_dom_classes": [],
            "_model_module": "@jupyter-widgets/controls",
            "_model_module_version": "1.5.0",
            "_model_name": "HTMLModel",
            "_view_count": null,
            "_view_module": "@jupyter-widgets/controls",
            "_view_module_version": "1.5.0",
            "_view_name": "HTMLView",
            "description": "",
            "description_tooltip": null,
            "layout": "IPY_MODEL_eb597d11f77b479f8b998af88a93903e",
            "placeholder": "​",
            "style": "IPY_MODEL_e75bb41f7c8647b6a54e988d6abc7613",
            "value": " 18387/18387 [00:03&lt;00:00, 6493.51it/s]"
          }
        },
        "b8aca60292a440bbaf29b665d987e764": {
          "model_module": "@jupyter-widgets/base",
          "model_name": "LayoutModel",
          "model_module_version": "1.2.0",
          "state": {
            "_model_module": "@jupyter-widgets/base",
            "_model_module_version": "1.2.0",
            "_model_name": "LayoutModel",
            "_view_count": null,
            "_view_module": "@jupyter-widgets/base",
            "_view_module_version": "1.2.0",
            "_view_name": "LayoutView",
            "align_content": null,
            "align_items": null,
            "align_self": null,
            "border": null,
            "bottom": null,
            "display": null,
            "flex": null,
            "flex_flow": null,
            "grid_area": null,
            "grid_auto_columns": null,
            "grid_auto_flow": null,
            "grid_auto_rows": null,
            "grid_column": null,
            "grid_gap": null,
            "grid_row": null,
            "grid_template_areas": null,
            "grid_template_columns": null,
            "grid_template_rows": null,
            "height": null,
            "justify_content": null,
            "justify_items": null,
            "left": null,
            "margin": null,
            "max_height": null,
            "max_width": null,
            "min_height": null,
            "min_width": null,
            "object_fit": null,
            "object_position": null,
            "order": null,
            "overflow": null,
            "overflow_x": null,
            "overflow_y": null,
            "padding": null,
            "right": null,
            "top": null,
            "visibility": null,
            "width": null
          }
        },
        "808e93fcc29d4a5d90d15b3f633f883a": {
          "model_module": "@jupyter-widgets/base",
          "model_name": "LayoutModel",
          "model_module_version": "1.2.0",
          "state": {
            "_model_module": "@jupyter-widgets/base",
            "_model_module_version": "1.2.0",
            "_model_name": "LayoutModel",
            "_view_count": null,
            "_view_module": "@jupyter-widgets/base",
            "_view_module_version": "1.2.0",
            "_view_name": "LayoutView",
            "align_content": null,
            "align_items": null,
            "align_self": null,
            "border": null,
            "bottom": null,
            "display": null,
            "flex": null,
            "flex_flow": null,
            "grid_area": null,
            "grid_auto_columns": null,
            "grid_auto_flow": null,
            "grid_auto_rows": null,
            "grid_column": null,
            "grid_gap": null,
            "grid_row": null,
            "grid_template_areas": null,
            "grid_template_columns": null,
            "grid_template_rows": null,
            "height": null,
            "justify_content": null,
            "justify_items": null,
            "left": null,
            "margin": null,
            "max_height": null,
            "max_width": null,
            "min_height": null,
            "min_width": null,
            "object_fit": null,
            "object_position": null,
            "order": null,
            "overflow": null,
            "overflow_x": null,
            "overflow_y": null,
            "padding": null,
            "right": null,
            "top": null,
            "visibility": null,
            "width": null
          }
        },
        "313b2d2717e14671abf951b4f3ab0c49": {
          "model_module": "@jupyter-widgets/controls",
          "model_name": "DescriptionStyleModel",
          "model_module_version": "1.5.0",
          "state": {
            "_model_module": "@jupyter-widgets/controls",
            "_model_module_version": "1.5.0",
            "_model_name": "DescriptionStyleModel",
            "_view_count": null,
            "_view_module": "@jupyter-widgets/base",
            "_view_module_version": "1.2.0",
            "_view_name": "StyleView",
            "description_width": ""
          }
        },
        "a621fd83cd6849c1a8a6aa3c46f8cd03": {
          "model_module": "@jupyter-widgets/base",
          "model_name": "LayoutModel",
          "model_module_version": "1.2.0",
          "state": {
            "_model_module": "@jupyter-widgets/base",
            "_model_module_version": "1.2.0",
            "_model_name": "LayoutModel",
            "_view_count": null,
            "_view_module": "@jupyter-widgets/base",
            "_view_module_version": "1.2.0",
            "_view_name": "LayoutView",
            "align_content": null,
            "align_items": null,
            "align_self": null,
            "border": null,
            "bottom": null,
            "display": null,
            "flex": null,
            "flex_flow": null,
            "grid_area": null,
            "grid_auto_columns": null,
            "grid_auto_flow": null,
            "grid_auto_rows": null,
            "grid_column": null,
            "grid_gap": null,
            "grid_row": null,
            "grid_template_areas": null,
            "grid_template_columns": null,
            "grid_template_rows": null,
            "height": null,
            "justify_content": null,
            "justify_items": null,
            "left": null,
            "margin": null,
            "max_height": null,
            "max_width": null,
            "min_height": null,
            "min_width": null,
            "object_fit": null,
            "object_position": null,
            "order": null,
            "overflow": null,
            "overflow_x": null,
            "overflow_y": null,
            "padding": null,
            "right": null,
            "top": null,
            "visibility": null,
            "width": null
          }
        },
        "992d74ab0def417c8f2e7ed054d68f12": {
          "model_module": "@jupyter-widgets/controls",
          "model_name": "ProgressStyleModel",
          "model_module_version": "1.5.0",
          "state": {
            "_model_module": "@jupyter-widgets/controls",
            "_model_module_version": "1.5.0",
            "_model_name": "ProgressStyleModel",
            "_view_count": null,
            "_view_module": "@jupyter-widgets/base",
            "_view_module_version": "1.2.0",
            "_view_name": "StyleView",
            "bar_color": null,
            "description_width": ""
          }
        },
        "eb597d11f77b479f8b998af88a93903e": {
          "model_module": "@jupyter-widgets/base",
          "model_name": "LayoutModel",
          "model_module_version": "1.2.0",
          "state": {
            "_model_module": "@jupyter-widgets/base",
            "_model_module_version": "1.2.0",
            "_model_name": "LayoutModel",
            "_view_count": null,
            "_view_module": "@jupyter-widgets/base",
            "_view_module_version": "1.2.0",
            "_view_name": "LayoutView",
            "align_content": null,
            "align_items": null,
            "align_self": null,
            "border": null,
            "bottom": null,
            "display": null,
            "flex": null,
            "flex_flow": null,
            "grid_area": null,
            "grid_auto_columns": null,
            "grid_auto_flow": null,
            "grid_auto_rows": null,
            "grid_column": null,
            "grid_gap": null,
            "grid_row": null,
            "grid_template_areas": null,
            "grid_template_columns": null,
            "grid_template_rows": null,
            "height": null,
            "justify_content": null,
            "justify_items": null,
            "left": null,
            "margin": null,
            "max_height": null,
            "max_width": null,
            "min_height": null,
            "min_width": null,
            "object_fit": null,
            "object_position": null,
            "order": null,
            "overflow": null,
            "overflow_x": null,
            "overflow_y": null,
            "padding": null,
            "right": null,
            "top": null,
            "visibility": null,
            "width": null
          }
        },
        "e75bb41f7c8647b6a54e988d6abc7613": {
          "model_module": "@jupyter-widgets/controls",
          "model_name": "DescriptionStyleModel",
          "model_module_version": "1.5.0",
          "state": {
            "_model_module": "@jupyter-widgets/controls",
            "_model_module_version": "1.5.0",
            "_model_name": "DescriptionStyleModel",
            "_view_count": null,
            "_view_module": "@jupyter-widgets/base",
            "_view_module_version": "1.2.0",
            "_view_name": "StyleView",
            "description_width": ""
          }
        },
        "74c1cd87d0434f078e724e77c57f9ba5": {
          "model_module": "@jupyter-widgets/controls",
          "model_name": "HBoxModel",
          "model_module_version": "1.5.0",
          "state": {
            "_dom_classes": [],
            "_model_module": "@jupyter-widgets/controls",
            "_model_module_version": "1.5.0",
            "_model_name": "HBoxModel",
            "_view_count": null,
            "_view_module": "@jupyter-widgets/controls",
            "_view_module_version": "1.5.0",
            "_view_name": "HBoxView",
            "box_style": "",
            "children": [
              "IPY_MODEL_b7c8fd0a56794d18b3914d1f53d5b4fb",
              "IPY_MODEL_8b4348ea0baa4e6fa6bb4ebfde7ae2ae",
              "IPY_MODEL_07978b1f04994936a6133c486f9a07ac"
            ],
            "layout": "IPY_MODEL_2928392687bd4b2ca52944a5f845cae1"
          }
        },
        "b7c8fd0a56794d18b3914d1f53d5b4fb": {
          "model_module": "@jupyter-widgets/controls",
          "model_name": "HTMLModel",
          "model_module_version": "1.5.0",
          "state": {
            "_dom_classes": [],
            "_model_module": "@jupyter-widgets/controls",
            "_model_module_version": "1.5.0",
            "_model_name": "HTMLModel",
            "_view_count": null,
            "_view_module": "@jupyter-widgets/controls",
            "_view_module_version": "1.5.0",
            "_view_name": "HTMLView",
            "description": "",
            "description_tooltip": null,
            "layout": "IPY_MODEL_6b0e37f730a048d0b4225f80733c6114",
            "placeholder": "​",
            "style": "IPY_MODEL_41df9e2301424911b92fa42f89ab8988",
            "value": "100%"
          }
        },
        "8b4348ea0baa4e6fa6bb4ebfde7ae2ae": {
          "model_module": "@jupyter-widgets/controls",
          "model_name": "FloatProgressModel",
          "model_module_version": "1.5.0",
          "state": {
            "_dom_classes": [],
            "_model_module": "@jupyter-widgets/controls",
            "_model_module_version": "1.5.0",
            "_model_name": "FloatProgressModel",
            "_view_count": null,
            "_view_module": "@jupyter-widgets/controls",
            "_view_module_version": "1.5.0",
            "_view_name": "ProgressView",
            "bar_style": "success",
            "description": "",
            "description_tooltip": null,
            "layout": "IPY_MODEL_dda2a7d49328457bb2839ff20426eafc",
            "max": 18290,
            "min": 0,
            "orientation": "horizontal",
            "style": "IPY_MODEL_d3963af0fce24206a9cfbf015d4fe8e0",
            "value": 18290
          }
        },
        "07978b1f04994936a6133c486f9a07ac": {
          "model_module": "@jupyter-widgets/controls",
          "model_name": "HTMLModel",
          "model_module_version": "1.5.0",
          "state": {
            "_dom_classes": [],
            "_model_module": "@jupyter-widgets/controls",
            "_model_module_version": "1.5.0",
            "_model_name": "HTMLModel",
            "_view_count": null,
            "_view_module": "@jupyter-widgets/controls",
            "_view_module_version": "1.5.0",
            "_view_name": "HTMLView",
            "description": "",
            "description_tooltip": null,
            "layout": "IPY_MODEL_a3f36682ec934855b6b91bb42887df82",
            "placeholder": "​",
            "style": "IPY_MODEL_2bd325200efe44e1982f7b3ad5479650",
            "value": " 18290/18290 [00:04&lt;00:00, 5620.20it/s]"
          }
        },
        "2928392687bd4b2ca52944a5f845cae1": {
          "model_module": "@jupyter-widgets/base",
          "model_name": "LayoutModel",
          "model_module_version": "1.2.0",
          "state": {
            "_model_module": "@jupyter-widgets/base",
            "_model_module_version": "1.2.0",
            "_model_name": "LayoutModel",
            "_view_count": null,
            "_view_module": "@jupyter-widgets/base",
            "_view_module_version": "1.2.0",
            "_view_name": "LayoutView",
            "align_content": null,
            "align_items": null,
            "align_self": null,
            "border": null,
            "bottom": null,
            "display": null,
            "flex": null,
            "flex_flow": null,
            "grid_area": null,
            "grid_auto_columns": null,
            "grid_auto_flow": null,
            "grid_auto_rows": null,
            "grid_column": null,
            "grid_gap": null,
            "grid_row": null,
            "grid_template_areas": null,
            "grid_template_columns": null,
            "grid_template_rows": null,
            "height": null,
            "justify_content": null,
            "justify_items": null,
            "left": null,
            "margin": null,
            "max_height": null,
            "max_width": null,
            "min_height": null,
            "min_width": null,
            "object_fit": null,
            "object_position": null,
            "order": null,
            "overflow": null,
            "overflow_x": null,
            "overflow_y": null,
            "padding": null,
            "right": null,
            "top": null,
            "visibility": null,
            "width": null
          }
        },
        "6b0e37f730a048d0b4225f80733c6114": {
          "model_module": "@jupyter-widgets/base",
          "model_name": "LayoutModel",
          "model_module_version": "1.2.0",
          "state": {
            "_model_module": "@jupyter-widgets/base",
            "_model_module_version": "1.2.0",
            "_model_name": "LayoutModel",
            "_view_count": null,
            "_view_module": "@jupyter-widgets/base",
            "_view_module_version": "1.2.0",
            "_view_name": "LayoutView",
            "align_content": null,
            "align_items": null,
            "align_self": null,
            "border": null,
            "bottom": null,
            "display": null,
            "flex": null,
            "flex_flow": null,
            "grid_area": null,
            "grid_auto_columns": null,
            "grid_auto_flow": null,
            "grid_auto_rows": null,
            "grid_column": null,
            "grid_gap": null,
            "grid_row": null,
            "grid_template_areas": null,
            "grid_template_columns": null,
            "grid_template_rows": null,
            "height": null,
            "justify_content": null,
            "justify_items": null,
            "left": null,
            "margin": null,
            "max_height": null,
            "max_width": null,
            "min_height": null,
            "min_width": null,
            "object_fit": null,
            "object_position": null,
            "order": null,
            "overflow": null,
            "overflow_x": null,
            "overflow_y": null,
            "padding": null,
            "right": null,
            "top": null,
            "visibility": null,
            "width": null
          }
        },
        "41df9e2301424911b92fa42f89ab8988": {
          "model_module": "@jupyter-widgets/controls",
          "model_name": "DescriptionStyleModel",
          "model_module_version": "1.5.0",
          "state": {
            "_model_module": "@jupyter-widgets/controls",
            "_model_module_version": "1.5.0",
            "_model_name": "DescriptionStyleModel",
            "_view_count": null,
            "_view_module": "@jupyter-widgets/base",
            "_view_module_version": "1.2.0",
            "_view_name": "StyleView",
            "description_width": ""
          }
        },
        "dda2a7d49328457bb2839ff20426eafc": {
          "model_module": "@jupyter-widgets/base",
          "model_name": "LayoutModel",
          "model_module_version": "1.2.0",
          "state": {
            "_model_module": "@jupyter-widgets/base",
            "_model_module_version": "1.2.0",
            "_model_name": "LayoutModel",
            "_view_count": null,
            "_view_module": "@jupyter-widgets/base",
            "_view_module_version": "1.2.0",
            "_view_name": "LayoutView",
            "align_content": null,
            "align_items": null,
            "align_self": null,
            "border": null,
            "bottom": null,
            "display": null,
            "flex": null,
            "flex_flow": null,
            "grid_area": null,
            "grid_auto_columns": null,
            "grid_auto_flow": null,
            "grid_auto_rows": null,
            "grid_column": null,
            "grid_gap": null,
            "grid_row": null,
            "grid_template_areas": null,
            "grid_template_columns": null,
            "grid_template_rows": null,
            "height": null,
            "justify_content": null,
            "justify_items": null,
            "left": null,
            "margin": null,
            "max_height": null,
            "max_width": null,
            "min_height": null,
            "min_width": null,
            "object_fit": null,
            "object_position": null,
            "order": null,
            "overflow": null,
            "overflow_x": null,
            "overflow_y": null,
            "padding": null,
            "right": null,
            "top": null,
            "visibility": null,
            "width": null
          }
        },
        "d3963af0fce24206a9cfbf015d4fe8e0": {
          "model_module": "@jupyter-widgets/controls",
          "model_name": "ProgressStyleModel",
          "model_module_version": "1.5.0",
          "state": {
            "_model_module": "@jupyter-widgets/controls",
            "_model_module_version": "1.5.0",
            "_model_name": "ProgressStyleModel",
            "_view_count": null,
            "_view_module": "@jupyter-widgets/base",
            "_view_module_version": "1.2.0",
            "_view_name": "StyleView",
            "bar_color": null,
            "description_width": ""
          }
        },
        "a3f36682ec934855b6b91bb42887df82": {
          "model_module": "@jupyter-widgets/base",
          "model_name": "LayoutModel",
          "model_module_version": "1.2.0",
          "state": {
            "_model_module": "@jupyter-widgets/base",
            "_model_module_version": "1.2.0",
            "_model_name": "LayoutModel",
            "_view_count": null,
            "_view_module": "@jupyter-widgets/base",
            "_view_module_version": "1.2.0",
            "_view_name": "LayoutView",
            "align_content": null,
            "align_items": null,
            "align_self": null,
            "border": null,
            "bottom": null,
            "display": null,
            "flex": null,
            "flex_flow": null,
            "grid_area": null,
            "grid_auto_columns": null,
            "grid_auto_flow": null,
            "grid_auto_rows": null,
            "grid_column": null,
            "grid_gap": null,
            "grid_row": null,
            "grid_template_areas": null,
            "grid_template_columns": null,
            "grid_template_rows": null,
            "height": null,
            "justify_content": null,
            "justify_items": null,
            "left": null,
            "margin": null,
            "max_height": null,
            "max_width": null,
            "min_height": null,
            "min_width": null,
            "object_fit": null,
            "object_position": null,
            "order": null,
            "overflow": null,
            "overflow_x": null,
            "overflow_y": null,
            "padding": null,
            "right": null,
            "top": null,
            "visibility": null,
            "width": null
          }
        },
        "2bd325200efe44e1982f7b3ad5479650": {
          "model_module": "@jupyter-widgets/controls",
          "model_name": "DescriptionStyleModel",
          "model_module_version": "1.5.0",
          "state": {
            "_model_module": "@jupyter-widgets/controls",
            "_model_module_version": "1.5.0",
            "_model_name": "DescriptionStyleModel",
            "_view_count": null,
            "_view_module": "@jupyter-widgets/base",
            "_view_module_version": "1.2.0",
            "_view_name": "StyleView",
            "description_width": ""
          }
        }
      }
    }
  },
  "cells": [
    {
      "cell_type": "markdown",
      "source": [
        "## Importing"
      ],
      "metadata": {
        "id": "pnwymD4X85c0"
      }
    },
    {
      "cell_type": "code",
      "source": [
        "import pandas as pd\n",
        "import numpy as np\n",
        "\n",
        "from sklearn.preprocessing import PolynomialFeatures\n",
        "from sklearn import decomposition\n",
        "from sklearn.model_selection import train_test_split\n",
        "from sklearn import decomposition\n",
        "from sklearn.svm import SVC\n",
        "from sklearn.ensemble import RandomForestClassifier\n",
        "from sklearn.metrics import accuracy_score,precision_score, recall_score, f1_score, auc, roc_curve\n",
        "from sklearn.preprocessing import StandardScaler\n",
        "\n",
        "import os\n",
        "\n",
        "from tqdm.auto import tqdm\n",
        "\n",
        "import shutil\n",
        "\n",
        "from itertools import groupby\n",
        "\n",
        "import matplotlib.pyplot as plt\n",
        "\n",
        "from statistics import mean\n",
        "\n",
        "import scipy.stats as stats\n",
        "from scipy.stats import skew\n",
        "from scipy.stats import kurtosis\n",
        "from scipy.fftpack import fft\n",
        "from scipy import signal\n",
        "\n",
        "import tensorflow as tf\n",
        "from tensorflow import keras\n",
        "\n",
        "import pickle\n",
        "\n",
        "from keras.models import Sequential, Model\n",
        "from keras.layers import LSTM, Dense, Input, Flatten, Conv1D, MaxPooling1D, Concatenate, Dropout\n",
        "from keras.optimizers import Adam\n",
        "from keras.callbacks import EarlyStopping\n",
        "from keras.utils.vis_utils import plot_model\n"
      ],
      "metadata": {
        "id": "tALiwbv4879K"
      },
      "execution_count": 1,
      "outputs": []
    },
    {
      "cell_type": "code",
      "source": [
        "from google.colab import drive\n",
        "drive.mount('/content/drive')"
      ],
      "metadata": {
        "colab": {
          "base_uri": "https://localhost:8080/"
        },
        "id": "NQIWOsnX8-1n",
        "outputId": "10df6976-2c8b-459c-e4b5-827be68f6c58"
      },
      "execution_count": 2,
      "outputs": [
        {
          "output_type": "stream",
          "name": "stdout",
          "text": [
            "Mounted at /content/drive\n"
          ]
        }
      ]
    },
    {
      "cell_type": "code",
      "source": [
        "# path of original data folder\n",
        "data_path = \"/content/drive/MyDrive/ITMO-Master's/Thesis/3rd_semester/Data\"\n",
        "# path of csv files, each file is a 2mins walk for a subject\n",
        "csvD_path = \"/content/drive/MyDrive/ITMO-Master's/Thesis/3rd_semester/Data/csv_files\"\n",
        "# In this file, the Null values are replaved with 0 in the HY scale - Null values were given to healthy control\n",
        "demographics = \"/content/drive/MyDrive/ITMO-Master's/Thesis/3rd_semester/Data/Processed_data/demographics_HYprocessed.csv\" \n",
        "dem_df = pd.read_csv(demographics)\n",
        "# parequet folder path\n",
        "parquet_path = \"/content/drive/MyDrive/ITMO-Master's/Thesis/3rd_semester/Data/parquet_files/\""
      ],
      "metadata": {
        "id": "DRFUzWAt9D2O"
      },
      "execution_count": 3,
      "outputs": []
    },
    {
      "cell_type": "markdown",
      "source": [
        "## Data"
      ],
      "metadata": {
        "id": "bqsd59LxAOa_"
      }
    },
    {
      "cell_type": "code",
      "source": [
        "class Data:\n",
        "  def __init__(self, prepare_or_get, data_folder, demographics_file, parquet_path):\n",
        "    '''\n",
        "    :param prepare_or_get:  1: prepare data , 0: load preloaded datas (npy)\n",
        "    :param data_folder: path for a folder containing csv files, file for each 2 mins walk (for indivdiual subject)\n",
        "    :param demographics_file: path for csv demographics file\n",
        "    :save_path: path where to save/read parquet files after preparing them\n",
        "    :\n",
        "    '''\n",
        "\n",
        "    self.data_path = data_folder\n",
        "    self.parquet_path= parquet_path\n",
        "    self.dem_path= demographics_file\n",
        "    self.scale=\"HoehnYahr\"            # fixed for now\n",
        "    self.seconds_to_discard = 20      # fixed for now\n",
        "    self.rows_to_discard = 100 * self.seconds_to_discard\n",
        "    \n",
        "    # data in arrays\n",
        "    self.signals_data = []\n",
        "    self.cycles_data=[]\n",
        "    self.statical_data=[]\n",
        "  \n",
        "\n",
        "    if (prepare_or_get==1):\n",
        "      self.prepare_data()\n",
        "    elif (prepare_or_get==0):\n",
        "      self.get_data()\n",
        "  \n",
        "  def get_data(self):\n",
        "    self.signals_data_df= pd.read_parquet(self.parquet_path+'signals.gzip')\n",
        "    self.cycles_data_df=pd.read_parquet(self.parquet_path+'cyclels.gzip')\n",
        "    self.statical_data_df=pd.read_parquet(self.parquet_path+'statical.gzip')\n",
        "    self.left_stances_df=pd.read_parquet(self.parquet_path+'left_stances.gzip')\n",
        "    self.right_stances_df=pd.read_parquet(self.parquet_path+'right_stances.gzip')\n",
        "\n",
        "  def prepare_data(self):\n",
        "    # loop over files, each file is a 2 min walk for a single individual\n",
        "    # files are expected to be in csv format\n",
        "    self.dem_df = pd.read_csv(self.dem_path)\n",
        "    for name in tqdm((os.listdir(self.data_path))):\n",
        "       \n",
        "      # id of subject\n",
        "      id = name.split('_')[0]\n",
        "\n",
        "      # disease level according to 'self.scale'\n",
        "      level = self.get_pd_level( id)\n",
        "\n",
        "      # parkinon's patient OR healthy control ?\n",
        "      if 'Co' in name:  \n",
        "        parkinson = 0 # Healthy control\n",
        "      elif 'Pt' in name:\n",
        "        parkinson = 1 # Parkinson's Patient\n",
        "\n",
        "      # read and filter one file\n",
        "      one_walk=self.read_filter(name)\n",
        "\n",
        "      # sum of values from all the left sensors\n",
        "      one_walk['Total_Force_Left'] = one_walk[list(one_walk.columns[0:8])].sum(axis=1)\n",
        "     \n",
        "      # sum of values from all the right sensors\n",
        "      one_walk['Total_Force_Right'] = one_walk[list(one_walk.columns[8:16])].sum(axis=1)\n",
        "      \n",
        "      # convert to lists\n",
        "      one_walk_lists=[]*18\n",
        "      for column in one_walk.columns.values.tolist():\n",
        "        one_walk_lists.append(one_walk[column].tolist()) \n",
        "\n",
        "      ## Left foot related ##\n",
        "      l_stances, l_strides_time , l_swings_time, l_stances_time, l_indices = self.segment_signal(one_walk_lists[16])\n",
        "      # Find maximum VGRF at heel strike for each gait cycle \n",
        "      l_peaks_heel = self.get_max_per_gait_cycle(one_walk_lists[0],l_indices) # sensor 0 = left heal sensor\n",
        "      # Find maximum VGRF at toe off for each gait cycle\n",
        "      l_peaks_toe = self.get_max_per_gait_cycle(one_walk_lists[7],l_indices) # sensor 7 = left toe sensor\n",
        "\n",
        "      ## right foot related ##\n",
        "      r_stances, r_strides_time , r_swings_time, r_stances_time, r_indices = self.segment_signal(one_walk_lists[17])\n",
        "      # Find maximum VGRF at heel strike for each gait cycle \n",
        "      r_peaks_heel = self.get_max_per_gait_cycle(one_walk_lists[8],l_indices) # sensor 8 = right heal sensor\n",
        "      # Find maximum VGRF at toe off for each gait cycle\n",
        "      r_peaks_toe = self.get_max_per_gait_cycle(one_walk_lists[15],l_indices) # sensor 15 = right toe sensor\n",
        "\n",
        "\n",
        "      ## Saving data ##\n",
        "\n",
        "      # Raw Signals\n",
        "      self.signals_data.append([id,level,parkinson] +one_walk_lists)\n",
        "\n",
        "      # Statical\n",
        "      self.statical_data.append( [ id, level, parkinson \n",
        "                                , mean (l_swings_time) , np.std(l_swings_time), (mean (l_swings_time) / np.std(l_swings_time) *100)\n",
        "                                , mean (l_strides_time) , np.std(l_strides_time) , (mean (l_strides_time) / np.std(l_strides_time)*100)\n",
        "                                , kurtosis(l_strides_time), skew(l_strides_time)\n",
        "                                , mean (l_stances_time) , np.std(l_stances_time) , ( mean (l_stances_time) / np.std(l_stances_time) *100) \n",
        "\n",
        "                                , mean (r_swings_time) , np.std(r_swings_time), (mean (r_swings_time) / np.std(r_swings_time) *100)\n",
        "                                , mean (r_strides_time) , np.std(r_strides_time) , (mean (r_strides_time) / np.std(r_strides_time)*100)\n",
        "                                , kurtosis(r_strides_time), skew(r_strides_time)\n",
        "                                , mean (r_stances_time) , np.std(r_stances_time) , ( mean (r_stances_time) / np.std(r_stances_time) *100)\n",
        "                                \n",
        "                                , mean (l_peaks_heel) , np.std(l_peaks_heel) ,mean (l_peaks_toe) , np.std(l_peaks_toe)\n",
        "                                , mean (r_peaks_heel) , np.std(r_peaks_heel) ,mean (r_peaks_toe) , np.std(r_peaks_toe)\n",
        "                                  ] )\n",
        "      \n",
        "      \n",
        "      # Segmented Signals\n",
        "      \n",
        "      # NEED TO BE MOVED TO SEPERATE FUNCTION\n",
        "      # only for segmented data, for a trial we need each stance phase with the following \n",
        "      # swing phases's time, so here we are adjusting the phases to be equal\n",
        "\n",
        "      dif_l =  len(l_stances)-len(l_swings_time)\n",
        "      if (dif_l > 0):\n",
        "        l_stances=l_stances[:-dif_l]\n",
        "      elif(dif_l < 0):\n",
        "        l_swings_time= l_swings_time[:dif_l]\n",
        "      \n",
        "      #print([len(r_peaks_toe), len(r_peaks_heel),len(r_strides_time),len(r_swings_time),len(r_stances)])\n",
        "      \n",
        "      min_r = min([len(r_peaks_toe), len(r_peaks_heel),len(r_strides_time),len(r_swings_time),len(r_stances)])\n",
        "      if (min_r -len(r_stances) !=0): r_stances=r_stances[:(min_r -len(r_stances) )]\n",
        "      if (min_r -len(r_swings_time) !=0): r_swings_time = r_swings_time[:(min_r -len(r_swings_time) )]\n",
        "      if (min_r -len(r_peaks_toe) !=0): r_peaks_toe = r_peaks_toe[:(min_r -len(r_peaks_toe) )]\n",
        "      if (min_r -len(r_peaks_heel) !=0): r_peaks_heel = r_peaks_heel[:(min_r -len(r_peaks_heel) )]\n",
        "      if (min_r -len(r_strides_time) !=0): r_strides_time = r_strides_time[:(min_r -len(r_strides_time) )]\n",
        "      \n",
        "      #print([len(r_peaks_toe), len(r_peaks_heel),len(r_strides_time),len(r_swings_time),len(r_stances)])\n",
        "      '''\n",
        "      dif_r =  len(r_stances)-len(r_swings_time)\n",
        "      if (dif_r>0):\n",
        "        r_stances=r_stances[:-dif_r]\n",
        "      elif(dif_r < 0):\n",
        "        r_swings_time = r_swings_time[:dif_r]\n",
        "       \n",
        "\n",
        "      '''\n",
        "      self.cycles_data.append( [ id, level, parkinson ] \n",
        "                        + [l_stances] + [l_strides_time] + [l_swings_time] + [l_stances_time]\n",
        "                        + [r_stances] + [r_strides_time] + [r_swings_time] + [r_stances_time]\n",
        "                        + [l_peaks_heel] + [l_peaks_toe]\n",
        "                        + [r_peaks_heel] + [r_peaks_toe]\n",
        "                        )\n",
        "\n",
        "    self.statical_data_to_df()\n",
        "    self.cycles_data_to_df()\n",
        "    self.signal_data_to_df()\n",
        "    ## Get individual stances data frames\n",
        "    self.ind_stances_to_df()\n",
        "    ## writing files ##\n",
        "    self.save_files()\n",
        "\n",
        "  def get_pd_level(self, subject_id):\n",
        "    level = self.dem_df[self.scale][dem_df['ID'] == subject_id ].values[0]\n",
        "    return level\n",
        "\n",
        "  def read_filter(self,name):\n",
        "      # Reading each file, skipping 3 columns (time,total right forces & total left forces)\n",
        "      # For gait cycle segmentation, to eliminate the effect of gait initiation and termenation,\n",
        "      # the first and last N=20 seconds of VGRF data was discarded.\n",
        "\n",
        "      one_walk = pd.read_csv(self.data_path + '/' + name,\n",
        "                             skiprows=list(range(1,self.rows_to_discard+1)) ,\n",
        "                             skipfooter=self.rows_to_discard,\n",
        "                             usecols = np.arange(1,17),\n",
        "                             engine = 'python')  \n",
        "      \n",
        "      # Usually, Vertical Ground React Force VGRF values less than 20N are generated from noise\n",
        "      one_walk.where(one_walk > 20, 0, inplace=True)\n",
        "\n",
        "      return one_walk\n",
        "\n",
        "  def segment_signal(self, signal):\n",
        "      # swing - stance phases repeatly\n",
        "      phases = [list(g) for k, g in groupby((signal), lambda x:x>0)]\n",
        "      \n",
        "      # Deleting the first and last phase, since the first and last 20 seconds were deleted,\n",
        "      # there's no garanty that the first and last phase are complete\n",
        "      # Hence, they are being deleted here just for safety\n",
        "\n",
        "      phases = phases[1:-1]\n",
        "\n",
        "      # filtering phases that is shorter than 20 becuase must propably it's noise\n",
        "      phases = [l for l in phases if len(l)>20]\n",
        "\n",
        "      # indices of the gait cycles\n",
        "      indices=[0]\n",
        "      for i in range(1, len(phases),2):\n",
        "        indices.append(indices[-1]+len(phases[i]) + len(phases[i-1]))\n",
        "\n",
        "      # stances phases\n",
        "      stances = [l for l in phases if any(l)]\n",
        "      \n",
        "      # strides times \n",
        "      strides_time =  [((len(phases[i]) + len(phases[i-1]) -1)*0.01 ) for i in range(1,len(phases),2)]\n",
        "\n",
        "      # swings time\n",
        "      swings_time = [(len(l)-1)*0.01 for l in phases if not all (l)]\n",
        "\n",
        "      # stance time \n",
        "      stances_time = [(len(l)-1)*0.01 for l in stances]\n",
        "\n",
        "      return stances, strides_time , swings_time, stances_time, indices\n",
        "\n",
        "  def get_max_per_gait_cycle(self, signal,indices):\n",
        "    gait_cycles = self.get_gait_cycles(signal, indices)\n",
        "    peaks = [max(cycle) for cycle in gait_cycles]\n",
        "    return peaks\n",
        "\n",
        "  def get_gait_cycles(self, signal, indices):\n",
        "    # get gait cycles\n",
        "    gait_cycles= [signal[indices[i]:indices[i+1]] for i in range(len(indices)-1)]\n",
        "    return gait_cycles\n",
        "\n",
        "  def signal_data_to_df(self):\n",
        "    self.signals_data_df = pd.DataFrame(self.signals_data, columns =[\"ID\", \"level\", \"y\", \"L1\", \"L2\",\"L3\", \"L4\",\"L5\",\"L6\",\"L7\",\"L8\",\n",
        "                                       \"R1\", \"R2\",\"R3\", \"R4\",\"R5\",\"R6\",\"R7\",\"R8\",\"Total_Force_Right\",\"Total_Force_Left\" ])\n",
        "     \n",
        "    \n",
        "  def cycles_data_to_df(self):\n",
        "    self.cycles_data_df = pd.DataFrame(self.cycles_data, columns =[\"ID\", \"level\", \"y\", \n",
        "                                                                   \"l_stances\", \"l_strides_time\", \"l_swings_time\" , \"l_stances_time\"\n",
        "                                                                  , \"r_stances\" , \"r_strides_time\" , \"r_swings_time\" , \"r_stances_time\"\n",
        "                                                                  , \"l_peaks_heel\" , \"l_peaks_toe\"\n",
        "                                                                  , \"r_peaks_heel\" , \"r_peaks_toe\" ])\n",
        "    \n",
        "\n",
        "  def statical_data_to_df(self):\n",
        "    self.statical_data_df = pd.DataFrame(self.statical_data, columns =[\"ID\", \"level\", \"y\"\n",
        "                                                                      , \"mean_left_swings_time\" , \"std_left_swings_time\", \"cv_left_swings_time\"\n",
        "                                                                      , \"mean_left_stride_time\" , \"std_left_stride_time\" ,\"cv_left_stride_time\"\n",
        "                                                                      , \"kurtosis_left_strides_time\", \"skew_left_strides_time\"\n",
        "                                                                      , \"mean_left_stance_time\" , \"std_left_stance_time\", \"cv_left_stance_time\"\n",
        "                                                                      , \"mean_right_swings_time\" , \"std_right_swings_time\", \"cv_right_swings_time\"\n",
        "                                                                      , \"mean_right_stride_time\" , \"std_right_stride_time\", \"cv_right_stride_time\"\n",
        "                                                                      , \"kurtosis_right_strides_time\", \"skew_right_strides_time\"\n",
        "                                                                      , \"mean_right_stance_time\" , \"std_right_stance_time\", \"cv_right_stance_time\"\n",
        "                                                                      , \"mean_left_peaks_heel\" , \"std_left_peaks_heel\"\n",
        "                                                                      , \"mean_left_peaks_toe\" , \"std_left_peaks_toe\"\n",
        "                                                                      , \"mean_right_peaks_heel\" , \"std_right_peaks_heel\"\n",
        "                                                                      , \"mean_right_peaks_toe\" , \"std_right_peaks_toe\"\n",
        "                                                                       ])\n",
        "  def ind_stances_to_df(self):\n",
        "    #droping NNOT WORKING HERE\n",
        "    self.left_stances_df = self.cycles_data_df.explode([\"l_stances\",\"l_swings_time\"])\n",
        "    self.left_stances_df = self.left_stances_df.drop(columns=[\"r_stances\" ,\t\"r_strides_time\" ,\t\"r_swings_time\" ,\t\"r_stances_time\", \"r_peaks_heel\" ,\t\"r_peaks_toe\"], axis=1)\n",
        "\n",
        "    self.right_stances_df = self.cycles_data_df.explode([\"r_stances\",\"r_swings_time\",\"r_peaks_toe\",\"r_peaks_heel\",\"r_strides_time\"]) \n",
        "    self.right_stances_df = self.right_stances_df.drop(columns=[\"l_stances\" ,\t\"l_strides_time\" ,\t\"l_swings_time\" ,\t\"l_stances_time\", \"l_peaks_heel\" ,\t\"l_peaks_toe\"], axis=1)\n",
        "\n",
        "  def save_files(self):\n",
        "    self.signals_data_df.to_parquet(self.parquet_path+'signals.gzip')\n",
        "    self.cycles_data_df.to_parquet(self.parquet_path+'cyclels.gzip')\n",
        "    self.statical_data_df.to_parquet(self.parquet_path+'statical.gzip')\n",
        "    self.left_stances_df.to_parquet(self.parquet_path+'left_stances.gzip')\n",
        "    self.right_stances_df.to_parquet(self.parquet_path+'right_stances.gzip')"
      ],
      "metadata": {
        "id": "o0mJeejW9HTE"
      },
      "execution_count": 233,
      "outputs": []
    },
    {
      "cell_type": "code",
      "source": [
        "# Prepare the data\n",
        "# data = Data( 1, csvD_path, demographics,parquet_path)"
      ],
      "metadata": {
        "colab": {
          "base_uri": "https://localhost:8080/",
          "height": 49,
          "referenced_widgets": [
            "58c6e018608841b0839b5528caca29f8",
            "15293797434c4e06b346329fd854ed10",
            "c05e438c941c438a80a737d98d674037",
            "18f9be5af9864ab7bffe3bcc48dc84e7",
            "f66d8471da114638bf0d3922aff43e0b",
            "4651c372655e4bf6ac650ee7c70c1989",
            "4802f8a9044348df976a27b1494a63ac",
            "d3b2463394174ecca7cb26d9c00730c7",
            "b5b62769fbaa4455b272690cf9c062bf",
            "e43645327f5249c7924ae004e60943cf",
            "8724cf24e0444b3d88dc07b5c55d21f4"
          ]
        },
        "id": "egqpTbBzPm5a",
        "outputId": "4d4e83c4-51d9-433b-99a4-23dd238e629a"
      },
      "execution_count": 234,
      "outputs": [
        {
          "output_type": "display_data",
          "data": {
            "text/plain": [
              "  0%|          | 0/304 [00:00<?, ?it/s]"
            ],
            "application/vnd.jupyter.widget-view+json": {
              "version_major": 2,
              "version_minor": 0,
              "model_id": "58c6e018608841b0839b5528caca29f8"
            }
          },
          "metadata": {}
        }
      ]
    },
    {
      "cell_type": "code",
      "execution_count": 194,
      "metadata": {
        "id": "XzE-whMYt6OS"
      },
      "outputs": [],
      "source": [
        "# read prepare data\n",
        "data = Data( 0, \"\", \"\",parquet_path)"
      ]
    },
    {
      "cell_type": "code",
      "source": [
        "### SHOULD be applied for all dataframes after `explode`\n",
        "data.right_stances_df = data.right_stances_df.reset_index(drop=True)"
      ],
      "metadata": {
        "id": "QPAtCXsZ9XMu"
      },
      "execution_count": 239,
      "outputs": []
    },
    {
      "cell_type": "code",
      "source": [
        "data.right_stances_df['max_peak'] = data.right_stances_df['r_stances'].apply(lambda x: max(x))"
      ],
      "metadata": {
        "id": "jAv9Aehm9Y1S"
      },
      "execution_count": 11,
      "outputs": []
    },
    {
      "cell_type": "markdown",
      "source": [
        "## FWHM "
      ],
      "metadata": {
        "id": "Jw5nm2ppAVsr"
      }
    },
    {
      "cell_type": "markdown",
      "source": [
        "the scaling should be as folloowing\n",
        "find the points X_left and X_right you can scale the actual data. I.e. x1 = (x-X_left)/(X_right-X_left), y1= y/Y_max. After that you can select a fixed x range e.g. np.linspace(-0.5,1.5,100) and get interpolated scaled shape for each siganl"
      ],
      "metadata": {
        "id": "8LfYENAwApVU"
      }
    },
    {
      "cell_type": "markdown",
      "source": [
        "In this code, we first calculate the FWHM.\n",
        "We then scale the signal by dividing the x values by the FWHM and dividing the y values by the maximum y value. \n",
        "We also interpolate the scaled signal onto a fixed x range using np.interp. Finally, we plot the original and scaled signals, as well as the interpolated scaled signal. \n",
        "The result should show that the peak is now narrower and taller in the scaled signal, and that the interpolated scaled signal has the same shape as the original signal."
      ],
      "metadata": {
        "id": "_L029nyWAzix"
      }
    },
    {
      "cell_type": "markdown",
      "source": [
        "### Function for calculating & scaling by FWHM"
      ],
      "metadata": {
        "id": "cEElHZWycBj3"
      }
    },
    {
      "cell_type": "code",
      "source": [
        "def fwhm(y,l_inter_x, r_inter_x):\n",
        "  # Find the peak location\n",
        "  x= np.linspace (0,len(y)*0.01,len(y))\n",
        "  peak_idx = np.argmax(y)\n",
        "  peak_pos = x[peak_idx]\n",
        "\n",
        "  # Calculate the FWHM\n",
        "  half_max = y[peak_idx] / 2\n",
        "  left_idx = np.argmin(np.abs(y[:peak_idx] - half_max))\n",
        "  right_idx = np.argmin(np.abs(y[peak_idx:] - half_max)) + peak_idx\n",
        "  fwhm = x[right_idx] - x[left_idx]\n",
        "\n",
        "  # Scale the signal by the FWHM\n",
        "  scaled_x = (x - x[left_idx]) / fwhm\n",
        "  scaled_y = y / np.max(y)\n",
        "\n",
        "  # Interpolate the scaled signal onto a fixed x range\n",
        "  new_x = np.linspace(l_inter_x, r_inter_x, 100)\n",
        "  new_y = np.interp(new_x, scaled_x, scaled_y)\n",
        "\n",
        "  return [fwhm,max(y),scaled_x,scaled_y,new_x,new_y,peak_pos]"
      ],
      "metadata": {
        "id": "vuVHxQtuXmBf"
      },
      "execution_count": 102,
      "outputs": []
    },
    {
      "cell_type": "markdown",
      "source": [
        "### Function for plotting the results"
      ],
      "metadata": {
        "id": "XGsiFE5TcHNg"
      }
    },
    {
      "cell_type": "code",
      "source": [
        "def plot_signals(x, y,scaled_x, scaled_y,new_x, new_y,peak_pos):\n",
        "  # Plot the original and scaled signals\n",
        "  plt.plot(x, y, label='Original')\n",
        "  plt.plot(scaled_x, scaled_y, label='Scaled')\n",
        "  plt.plot(new_x, new_y, label='Interpolated')\n",
        "  plt.axvline(peak_pos, color='r', linestyle='--', label='Peak Position')\n",
        "  plt.legend()\n",
        "  plt.show()"
      ],
      "metadata": {
        "id": "3SKCwbUAa3Z3"
      },
      "execution_count": 54,
      "outputs": []
    },
    {
      "cell_type": "markdown",
      "source": [
        "### Generating a sample signal with a Gaussian-shaped peak and applying FWHM"
      ],
      "metadata": {
        "id": "54t2Slt_cQS4"
      }
    },
    {
      "cell_type": "code",
      "source": [
        "##### EXAMPLE ######\n",
        "# Generate a sample signal with a peak\n",
        "x= np.linspace (0,1000*0.01,1000)\n",
        "y = np.exp(-(x - 5)**2 / 2) + np.random.normal(0, 0.1, size=1000)\n",
        "\n",
        "fwhm_value, max_peak,scaled_x, scaled_y, new_x ,new_y,peak_pos = fwhm ( y, -0.5,1.5)\n",
        "plot_signals(x, y,scaled_x, scaled_y,new_x, new_y,peak_pos)"
      ],
      "metadata": {
        "colab": {
          "base_uri": "https://localhost:8080/",
          "height": 430
        },
        "id": "yZt4XTTuYDPI",
        "outputId": "de19efb2-6527-463c-d575-39c78a42cdf3"
      },
      "execution_count": 242,
      "outputs": [
        {
          "output_type": "display_data",
          "data": {
            "text/plain": [
              "<Figure size 640x480 with 1 Axes>"
            ],
            "image/png": "[encoded data removed]"
          },
          "metadata": {}
        }
      ]
    },
    {
      "cell_type": "markdown",
      "source": [
        "### Exaple from data"
      ],
      "metadata": {
        "id": "xGwWAnJlceLY"
      }
    },
    {
      "cell_type": "code",
      "source": [
        "### Example from Data ###\n",
        "y =  data.right_stances_df['r_stances'][4]  \n",
        "x = np.linspace (0,len(y)*0.01,len(y))\n",
        "fwhm_value, max_peak,scaled_x, scaled_y, new_x ,new_y,peak_pos = fwhm ( y, -0.4,1.4)\n",
        "\n",
        "## Plot with log scale\n",
        "plt.plot(x, y, label='Original')\n",
        "plt.plot(scaled_x, scaled_y, label='Scaled')\n",
        "plt.plot(new_x, new_y, label='Interpolated')\n",
        "plt.yscale('log')\n",
        "plt.axvline(peak_pos, color='r', linestyle='--', label='Peak Position')\n",
        "plt.legend()\n",
        "plt.show()"
      ],
      "metadata": {
        "colab": {
          "base_uri": "https://localhost:8080/",
          "height": 430
        },
        "id": "eveIcktnS8om",
        "outputId": "45411e8d-f0b5-4095-beb0-d2f1d3e131b7"
      },
      "execution_count": 109,
      "outputs": [
        {
          "output_type": "display_data",
          "data": {
            "text/plain": [
              "<Figure size 640x480 with 1 Axes>"
            ],
            "image/png": "[encoded data removed]"
          },
          "metadata": {}
        }
      ]
    },
    {
      "cell_type": "code",
      "source": [
        "# Interpolate the scaled signal onto a fixed x range\n",
        "plt.plot(scaled_x, scaled_y, label='Scaled')\n",
        "plt.plot(new_x, new_y, label='Interpolated')\n",
        "plt.axvline(peak_pos, color='r', linestyle='--', label='Peak Position')\n",
        "plt.legend()\n",
        "plt.show()"
      ],
      "metadata": {
        "colab": {
          "base_uri": "https://localhost:8080/",
          "height": 430
        },
        "id": "_qv0doivT4tV",
        "outputId": "e87d2686-fd2b-4d3b-a94d-ae8d584d9e09"
      },
      "execution_count": 58,
      "outputs": [
        {
          "output_type": "display_data",
          "data": {
            "text/plain": [
              "<Figure size 640x480 with 1 Axes>"
            ],
            "image/png": "[encoded data removed]"
          },
          "metadata": {}
        }
      ]
    },
    {
      "cell_type": "markdown",
      "source": [
        "### Applying the scaling on the stances from the dataset"
      ],
      "metadata": {
        "id": "KvZE9n9shOOe"
      }
    },
    {
      "cell_type": "code",
      "source": [
        "tqdm.pandas()"
      ],
      "metadata": {
        "id": "r8th9p4InZIJ"
      },
      "execution_count": 105,
      "outputs": []
    },
    {
      "cell_type": "code",
      "source": [
        "s=data.right_stances_df['r_stances'].progress_map(lambda x: fwhm(x, -0.4,1.4))"
      ],
      "metadata": {
        "colab": {
          "base_uri": "https://localhost:8080/",
          "height": 49,
          "referenced_widgets": [
            "50ff8013a57f4a4ba8419449bbe14682",
            "384aeeacc44f499a88ea93bcfa77bca3",
            "8adc54ec32c24ac28d28ad858c4128b2",
            "e6bf0e9b7e514a02841685a988685ba6",
            "b8aca60292a440bbaf29b665d987e764",
            "808e93fcc29d4a5d90d15b3f633f883a",
            "313b2d2717e14671abf951b4f3ab0c49",
            "a621fd83cd6849c1a8a6aa3c46f8cd03",
            "992d74ab0def417c8f2e7ed054d68f12",
            "eb597d11f77b479f8b998af88a93903e",
            "e75bb41f7c8647b6a54e988d6abc7613"
          ]
        },
        "id": "-SX8Wl5NhSpG",
        "outputId": "16754640-828f-4e69-ee3e-21fb0502085d"
      },
      "execution_count": 159,
      "outputs": [
        {
          "output_type": "display_data",
          "data": {
            "text/plain": [
              "  0%|          | 0/18387 [00:00<?, ?it/s]"
            ],
            "application/vnd.jupyter.widget-view+json": {
              "version_major": 2,
              "version_minor": 0,
              "model_id": "50ff8013a57f4a4ba8419449bbe14682"
            }
          },
          "metadata": {}
        }
      ]
    },
    {
      "cell_type": "code",
      "source": [
        "data.right_stances_df[['fwhm_value','max_peak' ,'scaled_x', 'scaled_y', 'new_x' ,'new_y','peak_pos']] = pd.DataFrame(s.tolist(), index= data.right_stances_df.index)"
      ],
      "metadata": {
        "id": "-00PK-4Z6yGB"
      },
      "execution_count": 167,
      "outputs": []
    },
    {
      "cell_type": "code",
      "source": [
        "data.right_stances_df.head()"
      ],
      "metadata": {
        "colab": {
          "base_uri": "https://localhost:8080/",
          "height": 774
        },
        "id": "lTf8d-8k7Cny",
        "outputId": "b4c20f6d-a453-4e2e-97e6-7c01db40900e"
      },
      "execution_count": 168,
      "outputs": [
        {
          "output_type": "execute_result",
          "data": {
            "text/plain": [
              "       ID  level  y                                          r_stances  \\\n",
              "0  GaPt03    3.0  1  [20.79, 27.72, 32.45, 37.07, 63.69, 110.33, 13...   \n",
              "1  GaPt03    3.0  1  [52.8, 69.19, 57.64, 51.7, 60.94, 92.84, 140.1...   \n",
              "2  GaPt03    3.0  1  [23.1, 32.45, 39.38, 46.31, 116.82, 155.43, 17...   \n",
              "3  GaPt03    3.0  1  [23.1, 41.69, 55.55, 119.13, 154.55, 200.42, 2...   \n",
              "4  GaPt03    3.0  1  [25.41, 37.07, 55.55, 106.37, 152.02, 182.05, ...   \n",
              "\n",
              "                                      r_strides_time  r_swings_time  \\\n",
              "0  [1.59, 1.27, 1.41, 1.49, 1.56, 1.41, 1.5, 1.32...           0.39   \n",
              "1  [1.59, 1.27, 1.41, 1.49, 1.56, 1.41, 1.5, 1.32...           0.21   \n",
              "2  [1.59, 1.27, 1.41, 1.49, 1.56, 1.41, 1.5, 1.32...           0.41   \n",
              "3  [1.59, 1.27, 1.41, 1.49, 1.56, 1.41, 1.5, 1.32...           0.43   \n",
              "4  [1.59, 1.27, 1.41, 1.49, 1.56, 1.41, 1.5, 1.32...           0.41   \n",
              "\n",
              "                                      r_stances_time  \\\n",
              "0  [1.19, 1.05, 0.99, 1.05, 1.1400000000000001, 0...   \n",
              "1  [1.19, 1.05, 0.99, 1.05, 1.1400000000000001, 0...   \n",
              "2  [1.19, 1.05, 0.99, 1.05, 1.1400000000000001, 0...   \n",
              "3  [1.19, 1.05, 0.99, 1.05, 1.1400000000000001, 0...   \n",
              "4  [1.19, 1.05, 0.99, 1.05, 1.1400000000000001, 0...   \n",
              "\n",
              "                                        r_peaks_heel  \\\n",
              "0  [107.8, 71.17, 111.1, 141.24, 101.2, 123.42, 1...   \n",
              "1  [107.8, 71.17, 111.1, 141.24, 101.2, 123.42, 1...   \n",
              "2  [107.8, 71.17, 111.1, 141.24, 101.2, 123.42, 1...   \n",
              "3  [107.8, 71.17, 111.1, 141.24, 101.2, 123.42, 1...   \n",
              "4  [107.8, 71.17, 111.1, 141.24, 101.2, 123.42, 1...   \n",
              "\n",
              "                                         r_peaks_toe  max_peak  fwhm_value  \\\n",
              "0  [80.63, 134.42, 80.63, 71.61, 98.78, 130.02, 8...    731.61    0.927731   \n",
              "1  [80.63, 134.42, 80.63, 71.61, 98.78, 130.02, 8...    774.73    0.747048   \n",
              "2  [80.63, 134.42, 80.63, 71.61, 98.78, 130.02, 8...    717.75    0.696970   \n",
              "3  [80.63, 134.42, 80.63, 71.61, 98.78, 130.02, 8...    742.50    0.757143   \n",
              "4  [80.63, 134.42, 80.63, 71.61, 98.78, 130.02, 8...    779.79    0.887719   \n",
              "\n",
              "                                            scaled_x  \\\n",
              "0  [-0.13043478260869568, -0.11956521739130437, -...   \n",
              "1  [-0.14864864864864863, -0.13513513513513511, -...   \n",
              "2  [-0.17391304347826086, -0.15942028985507248, -...   \n",
              "3  [-0.16000000000000003, -0.1466666666666667, -0...   \n",
              "4  [-0.11363636363636363, -0.10227272727272727, -...   \n",
              "\n",
              "                                            scaled_y  \\\n",
              "0  [0.02841677943166442, 0.03788903924221922, 0.0...   \n",
              "1  [0.06815277580576458, 0.08930853329547067, 0.0...   \n",
              "2  [0.03218390804597701, 0.04521072796934866, 0.0...   \n",
              "3  [0.031111111111111117, 0.056148148148148155, 0...   \n",
              "4  [0.032585696148963186, 0.0475384398363662, 0.0...   \n",
              "\n",
              "                                               new_x  \\\n",
              "0  [-0.4, -0.38181818181818183, -0.36363636363636...   \n",
              "1  [-0.4, -0.38181818181818183, -0.36363636363636...   \n",
              "2  [-0.4, -0.38181818181818183, -0.36363636363636...   \n",
              "3  [-0.4, -0.38181818181818183, -0.36363636363636...   \n",
              "4  [-0.4, -0.38181818181818183, -0.36363636363636...   \n",
              "\n",
              "                                               new_y  peak_pos  \n",
              "0  [0.02841677943166442, 0.02841677943166442, 0.0...  0.443697  \n",
              "1  [0.06815277580576458, 0.06815277580576458, 0.0...  0.545143  \n",
              "2  [0.03218390804597701, 0.03218390804597701, 0.0...  0.646465  \n",
              "3  [0.031111111111111117, 0.031111111111111117, 0...  0.656190  \n",
              "4  [0.032585696148963186, 0.032585696148963186, 0...  0.716228  "
            ],
            "text/html": [
              "\n",
              "  <div id=\"df-ed139de9-e9d9-4daf-8b2b-22e892664fed\">\n",
              "    <div class=\"colab-df-container\">\n",
              "      <div>\n",
              "<style scoped>\n",
              "    .dataframe tbody tr th:only-of-type {\n",
              "        vertical-align: middle;\n",
              "    }\n",
              "\n",
              "    .dataframe tbody tr th {\n",
              "        vertical-align: top;\n",
              "    }\n",
              "\n",
              "    .dataframe thead th {\n",
              "        text-align: right;\n",
              "    }\n",
              "</style>\n",
              "<table border=\"1\" class=\"dataframe\">\n",
              "  <thead>\n",
              "    <tr style=\"text-align: right;\">\n",
              "      <th></th>\n",
              "      <th>ID</th>\n",
              "      <th>level</th>\n",
              "      <th>y</th>\n",
              "      <th>r_stances</th>\n",
              "      <th>r_strides_time</th>\n",
              "      <th>r_swings_time</th>\n",
              "      <th>r_stances_time</th>\n",
              "      <th>r_peaks_heel</th>\n",
              "      <th>r_peaks_toe</th>\n",
              "      <th>max_peak</th>\n",
              "      <th>fwhm_value</th>\n",
              "      <th>scaled_x</th>\n",
              "      <th>scaled_y</th>\n",
              "      <th>new_x</th>\n",
              "      <th>new_y</th>\n",
              "      <th>peak_pos</th>\n",
              "    </tr>\n",
              "  </thead>\n",
              "  <tbody>\n",
              "    <tr>\n",
              "      <th>0</th>\n",
              "      <td>GaPt03</td>\n",
              "      <td>3.0</td>\n",
              "      <td>1</td>\n",
              "      <td>[20.79, 27.72, 32.45, 37.07, 63.69, 110.33, 13...</td>\n",
              "      <td>[1.59, 1.27, 1.41, 1.49, 1.56, 1.41, 1.5, 1.32...</td>\n",
              "      <td>0.39</td>\n",
              "      <td>[1.19, 1.05, 0.99, 1.05, 1.1400000000000001, 0...</td>\n",
              "      <td>[107.8, 71.17, 111.1, 141.24, 101.2, 123.42, 1...</td>\n",
              "      <td>[80.63, 134.42, 80.63, 71.61, 98.78, 130.02, 8...</td>\n",
              "      <td>731.61</td>\n",
              "      <td>0.927731</td>\n",
              "      <td>[-0.13043478260869568, -0.11956521739130437, -...</td>\n",
              "      <td>[0.02841677943166442, 0.03788903924221922, 0.0...</td>\n",
              "      <td>[-0.4, -0.38181818181818183, -0.36363636363636...</td>\n",
              "      <td>[0.02841677943166442, 0.02841677943166442, 0.0...</td>\n",
              "      <td>0.443697</td>\n",
              "    </tr>\n",
              "    <tr>\n",
              "      <th>1</th>\n",
              "      <td>GaPt03</td>\n",
              "      <td>3.0</td>\n",
              "      <td>1</td>\n",
              "      <td>[52.8, 69.19, 57.64, 51.7, 60.94, 92.84, 140.1...</td>\n",
              "      <td>[1.59, 1.27, 1.41, 1.49, 1.56, 1.41, 1.5, 1.32...</td>\n",
              "      <td>0.21</td>\n",
              "      <td>[1.19, 1.05, 0.99, 1.05, 1.1400000000000001, 0...</td>\n",
              "      <td>[107.8, 71.17, 111.1, 141.24, 101.2, 123.42, 1...</td>\n",
              "      <td>[80.63, 134.42, 80.63, 71.61, 98.78, 130.02, 8...</td>\n",
              "      <td>774.73</td>\n",
              "      <td>0.747048</td>\n",
              "      <td>[-0.14864864864864863, -0.13513513513513511, -...</td>\n",
              "      <td>[0.06815277580576458, 0.08930853329547067, 0.0...</td>\n",
              "      <td>[-0.4, -0.38181818181818183, -0.36363636363636...</td>\n",
              "      <td>[0.06815277580576458, 0.06815277580576458, 0.0...</td>\n",
              "      <td>0.545143</td>\n",
              "    </tr>\n",
              "    <tr>\n",
              "      <th>2</th>\n",
              "      <td>GaPt03</td>\n",
              "      <td>3.0</td>\n",
              "      <td>1</td>\n",
              "      <td>[23.1, 32.45, 39.38, 46.31, 116.82, 155.43, 17...</td>\n",
              "      <td>[1.59, 1.27, 1.41, 1.49, 1.56, 1.41, 1.5, 1.32...</td>\n",
              "      <td>0.41</td>\n",
              "      <td>[1.19, 1.05, 0.99, 1.05, 1.1400000000000001, 0...</td>\n",
              "      <td>[107.8, 71.17, 111.1, 141.24, 101.2, 123.42, 1...</td>\n",
              "      <td>[80.63, 134.42, 80.63, 71.61, 98.78, 130.02, 8...</td>\n",
              "      <td>717.75</td>\n",
              "      <td>0.696970</td>\n",
              "      <td>[-0.17391304347826086, -0.15942028985507248, -...</td>\n",
              "      <td>[0.03218390804597701, 0.04521072796934866, 0.0...</td>\n",
              "      <td>[-0.4, -0.38181818181818183, -0.36363636363636...</td>\n",
              "      <td>[0.03218390804597701, 0.03218390804597701, 0.0...</td>\n",
              "      <td>0.646465</td>\n",
              "    </tr>\n",
              "    <tr>\n",
              "      <th>3</th>\n",
              "      <td>GaPt03</td>\n",
              "      <td>3.0</td>\n",
              "      <td>1</td>\n",
              "      <td>[23.1, 41.69, 55.55, 119.13, 154.55, 200.42, 2...</td>\n",
              "      <td>[1.59, 1.27, 1.41, 1.49, 1.56, 1.41, 1.5, 1.32...</td>\n",
              "      <td>0.43</td>\n",
              "      <td>[1.19, 1.05, 0.99, 1.05, 1.1400000000000001, 0...</td>\n",
              "      <td>[107.8, 71.17, 111.1, 141.24, 101.2, 123.42, 1...</td>\n",
              "      <td>[80.63, 134.42, 80.63, 71.61, 98.78, 130.02, 8...</td>\n",
              "      <td>742.50</td>\n",
              "      <td>0.757143</td>\n",
              "      <td>[-0.16000000000000003, -0.1466666666666667, -0...</td>\n",
              "      <td>[0.031111111111111117, 0.056148148148148155, 0...</td>\n",
              "      <td>[-0.4, -0.38181818181818183, -0.36363636363636...</td>\n",
              "      <td>[0.031111111111111117, 0.031111111111111117, 0...</td>\n",
              "      <td>0.656190</td>\n",
              "    </tr>\n",
              "    <tr>\n",
              "      <th>4</th>\n",
              "      <td>GaPt03</td>\n",
              "      <td>3.0</td>\n",
              "      <td>1</td>\n",
              "      <td>[25.41, 37.07, 55.55, 106.37, 152.02, 182.05, ...</td>\n",
              "      <td>[1.59, 1.27, 1.41, 1.49, 1.56, 1.41, 1.5, 1.32...</td>\n",
              "      <td>0.41</td>\n",
              "      <td>[1.19, 1.05, 0.99, 1.05, 1.1400000000000001, 0...</td>\n",
              "      <td>[107.8, 71.17, 111.1, 141.24, 101.2, 123.42, 1...</td>\n",
              "      <td>[80.63, 134.42, 80.63, 71.61, 98.78, 130.02, 8...</td>\n",
              "      <td>779.79</td>\n",
              "      <td>0.887719</td>\n",
              "      <td>[-0.11363636363636363, -0.10227272727272727, -...</td>\n",
              "      <td>[0.032585696148963186, 0.0475384398363662, 0.0...</td>\n",
              "      <td>[-0.4, -0.38181818181818183, -0.36363636363636...</td>\n",
              "      <td>[0.032585696148963186, 0.032585696148963186, 0...</td>\n",
              "      <td>0.716228</td>\n",
              "    </tr>\n",
              "  </tbody>\n",
              "</table>\n",
              "</div>\n",
              "      <button class=\"colab-df-convert\" onclick=\"convertToInteractive('df-ed139de9-e9d9-4daf-8b2b-22e892664fed')\"\n",
              "              title=\"Convert this dataframe to an interactive table.\"\n",
              "              style=\"display:none;\">\n",
              "        \n",
              "  <svg xmlns=\"http://www.w3.org/2000/svg\" height=\"24px\"viewBox=\"0 0 24 24\"\n",
              "       width=\"24px\">\n",
              "    <path d=\"M0 0h24v24H0V0z\" fill=\"none\"/>\n",
              "    <path d=\"M18.56 5.44l.94 2.06.94-2.06 2.06-.94-2.06-.94-.94-2.06-.94 2.06-2.06.94zm-11 1L8.5 8.5l.94-2.06 2.06-.94-2.06-.94L8.5 2.5l-.94 2.06-2.06.94zm10 10l.94 2.06.94-2.06 2.06-.94-2.06-.94-.94-2.06-.94 2.06-2.06.94z\"/><path d=\"M17.41 7.96l-1.37-1.37c-.4-.4-.92-.59-1.43-.59-.52 0-1.04.2-1.43.59L10.3 9.45l-7.72 7.72c-.78.78-.78 2.05 0 2.83L4 21.41c.39.39.9.59 1.41.59.51 0 1.02-.2 1.41-.59l7.78-7.78 2.81-2.81c.8-.78.8-2.07 0-2.86zM5.41 20L4 18.59l7.72-7.72 1.47 1.35L5.41 20z\"/>\n",
              "  </svg>\n",
              "      </button>\n",
              "      \n",
              "  <style>\n",
              "    .colab-df-container {\n",
              "      display:flex;\n",
              "      flex-wrap:wrap;\n",
              "      gap: 12px;\n",
              "    }\n",
              "\n",
              "    .colab-df-convert {\n",
              "      background-color: #E8F0FE;\n",
              "      border: none;\n",
              "      border-radius: 50%;\n",
              "      cursor: pointer;\n",
              "      display: none;\n",
              "      fill: #1967D2;\n",
              "      height: 32px;\n",
              "      padding: 0 0 0 0;\n",
              "      width: 32px;\n",
              "    }\n",
              "\n",
              "    .colab-df-convert:hover {\n",
              "      background-color: #E2EBFA;\n",
              "      box-shadow: 0px 1px 2px rgba(60, 64, 67, 0.3), 0px 1px 3px 1px rgba(60, 64, 67, 0.15);\n",
              "      fill: #174EA6;\n",
              "    }\n",
              "\n",
              "    [theme=dark] .colab-df-convert {\n",
              "      background-color: #3B4455;\n",
              "      fill: #D2E3FC;\n",
              "    }\n",
              "\n",
              "    [theme=dark] .colab-df-convert:hover {\n",
              "      background-color: #434B5C;\n",
              "      box-shadow: 0px 1px 3px 1px rgba(0, 0, 0, 0.15);\n",
              "      filter: drop-shadow(0px 1px 2px rgba(0, 0, 0, 0.3));\n",
              "      fill: #FFFFFF;\n",
              "    }\n",
              "  </style>\n",
              "\n",
              "      <script>\n",
              "        const buttonEl =\n",
              "          document.querySelector('#df-ed139de9-e9d9-4daf-8b2b-22e892664fed button.colab-df-convert');\n",
              "        buttonEl.style.display =\n",
              "          google.colab.kernel.accessAllowed ? 'block' : 'none';\n",
              "\n",
              "        async function convertToInteractive(key) {\n",
              "          const element = document.querySelector('#df-ed139de9-e9d9-4daf-8b2b-22e892664fed');\n",
              "          const dataTable =\n",
              "            await google.colab.kernel.invokeFunction('convertToInteractive',\n",
              "                                                     [key], {});\n",
              "          if (!dataTable) return;\n",
              "\n",
              "          const docLinkHtml = 'Like what you see? Visit the ' +\n",
              "            '<a target=\"_blank\" href=https://colab.research.google.com/notebooks/data_table.ipynb>data table notebook</a>'\n",
              "            + ' to learn more about interactive tables.';\n",
              "          element.innerHTML = '';\n",
              "          dataTable['output_type'] = 'display_data';\n",
              "          await google.colab.output.renderOutput(dataTable, element);\n",
              "          const docLink = document.createElement('div');\n",
              "          docLink.innerHTML = docLinkHtml;\n",
              "          element.appendChild(docLink);\n",
              "        }\n",
              "      </script>\n",
              "    </div>\n",
              "  </div>\n",
              "  "
            ]
          },
          "metadata": {},
          "execution_count": 168
        }
      ]
    },
    {
      "cell_type": "markdown",
      "source": [
        "### train-test data"
      ],
      "metadata": {
        "id": "HGVWSzWxAFEt"
      }
    },
    {
      "cell_type": "markdown",
      "source": [],
      "metadata": {
        "id": "e3Zr-FjvA6wE"
      }
    },
    {
      "cell_type": "code",
      "source": [
        "df1 = data.right_stances_df[[ 'new_y','r_swings_time','max_peak','fwhm_value']]\n",
        "y = data.right_stances_df[[ 'y']]"
      ],
      "metadata": {
        "id": "rm61Wcd1AK3G"
      },
      "execution_count": 169,
      "outputs": []
    },
    {
      "cell_type": "code",
      "source": [
        "X_train, X_test, y_train, y_test = train_test_split(df1, y, random_state=42)"
      ],
      "metadata": {
        "id": "b_buddF67G21"
      },
      "execution_count": 170,
      "outputs": []
    },
    {
      "cell_type": "markdown",
      "source": [
        "### Reshape the data to be fit in the model (RF)"
      ],
      "metadata": {
        "id": "k-YsVQCzAr8A"
      }
    },
    {
      "cell_type": "markdown",
      "source": [
        "#### Train"
      ],
      "metadata": {
        "id": "UyhQwikGBnAs"
      }
    },
    {
      "cell_type": "code",
      "source": [
        "scaled_train_data = np.append( np.asarray(X_train['new_y'].tolist()) , np.asarray(X_train[[\"r_swings_time\" ]]),  axis=1)\n",
        "scaled_train_data = np.append( scaled_train_data , np.asarray(X_train[[\"max_peak\" ]]),  axis=1)\n",
        "scaled_train_data = np.append( scaled_train_data , np.asarray(X_train[[\"fwhm_value\" ]]),  axis=1)"
      ],
      "metadata": {
        "id": "zB9OVtMLAjd2"
      },
      "execution_count": 179,
      "outputs": []
    },
    {
      "cell_type": "markdown",
      "source": [
        "#### Test\n"
      ],
      "metadata": {
        "id": "9AZIALHgBpQN"
      }
    },
    {
      "cell_type": "code",
      "source": [
        "scaled_test_data = np.append( np.asarray(X_test['new_y'].tolist()) , np.asarray(X_test[[\"r_swings_time\" ]]),  axis=1)\n",
        "scaled_test_data = np.append( scaled_test_data , np.asarray(X_test[[\"max_peak\" ]]),  axis=1)\n",
        "scaled_test_data = np.append( scaled_test_data , np.asarray(X_test[[\"fwhm_value\" ]]),  axis=1)"
      ],
      "metadata": {
        "id": "y4BKYQCcBB4W"
      },
      "execution_count": 177,
      "outputs": []
    },
    {
      "cell_type": "markdown",
      "source": [
        "### Reshape the data for Hybrid model"
      ],
      "metadata": {
        "id": "RYLLcevuF1de"
      }
    },
    {
      "cell_type": "markdown",
      "source": [
        "#### train data"
      ],
      "metadata": {
        "id": "rpi5Fca5Ga4u"
      }
    },
    {
      "cell_type": "code",
      "source": [
        "X_train['new_y'] = X_train['new_y'].apply(np.array)"
      ],
      "metadata": {
        "id": "ZvKh4mmqNfR1"
      },
      "execution_count": 185,
      "outputs": []
    },
    {
      "cell_type": "code",
      "source": [
        "x = X_train[['new_y', 'r_swings_time','max_peak','fwhm_value']]"
      ],
      "metadata": {
        "id": "goDGDcl7M89x"
      },
      "execution_count": 186,
      "outputs": []
    },
    {
      "cell_type": "code",
      "source": [
        "itemized_train_data = x.to_numpy()"
      ],
      "metadata": {
        "id": "fWR4Y_V4Mk9G"
      },
      "execution_count": 187,
      "outputs": []
    },
    {
      "cell_type": "markdown",
      "source": [
        "#### Test data"
      ],
      "metadata": {
        "id": "YkLk7213GeCO"
      }
    },
    {
      "cell_type": "code",
      "source": [
        "X_test['new_y'] = X_test['new_y'].apply(np.array)"
      ],
      "metadata": {
        "id": "mKMpUwPQSlYN"
      },
      "execution_count": 188,
      "outputs": []
    },
    {
      "cell_type": "code",
      "source": [
        "x_test = X_test[['new_y', 'r_swings_time','max_peak','fwhm_value']]"
      ],
      "metadata": {
        "id": "FLlBZd9wStrN"
      },
      "execution_count": 190,
      "outputs": []
    },
    {
      "cell_type": "code",
      "source": [
        "itemized_test_data = x_test.to_numpy()"
      ],
      "metadata": {
        "id": "DFm8ZMqUSvYd"
      },
      "execution_count": 191,
      "outputs": []
    },
    {
      "cell_type": "markdown",
      "source": [
        "## Random Forest with 200 estimators"
      ],
      "metadata": {
        "id": "Y52AEp-Rr9fa"
      }
    },
    {
      "cell_type": "code",
      "source": [
        "# Train a Random Forest classifier on the training set\n",
        "rf_classifier = RandomForestClassifier(n_estimators=200, random_state=42)\n",
        "rf_classifier.fit(scaled_train_data, y_train.values.ravel())"
      ],
      "metadata": {
        "colab": {
          "base_uri": "https://localhost:8080/",
          "height": 75
        },
        "id": "kq4udiavdDoW",
        "outputId": "ee25f537-315b-4722-b52e-6d276da256f6"
      },
      "execution_count": 183,
      "outputs": [
        {
          "output_type": "execute_result",
          "data": {
            "text/plain": [
              "RandomForestClassifier(n_estimators=200, random_state=42)"
            ],
            "text/html": [
              "<style>#sk-container-id-2 {color: black;background-color: white;}#sk-container-id-2 pre{padding: 0;}#sk-container-id-2 div.sk-toggleable {background-color: white;}#sk-container-id-2 label.sk-toggleable__label {cursor: pointer;display: block;width: 100%;margin-bottom: 0;padding: 0.3em;box-sizing: border-box;text-align: center;}#sk-container-id-2 label.sk-toggleable__label-arrow:before {content: \"▸\";float: left;margin-right: 0.25em;color: #696969;}#sk-container-id-2 label.sk-toggleable__label-arrow:hover:before {color: black;}#sk-container-id-2 div.sk-estimator:hover label.sk-toggleable__label-arrow:before {color: black;}#sk-container-id-2 div.sk-toggleable__content {max-height: 0;max-width: 0;overflow: hidden;text-align: left;background-color: #f0f8ff;}#sk-container-id-2 div.sk-toggleable__content pre {margin: 0.2em;color: black;border-radius: 0.25em;background-color: #f0f8ff;}#sk-container-id-2 input.sk-toggleable__control:checked~div.sk-toggleable__content {max-height: 200px;max-width: 100%;overflow: auto;}#sk-container-id-2 input.sk-toggleable__control:checked~label.sk-toggleable__label-arrow:before {content: \"▾\";}#sk-container-id-2 div.sk-estimator input.sk-toggleable__control:checked~label.sk-toggleable__label {background-color: #d4ebff;}#sk-container-id-2 div.sk-label input.sk-toggleable__control:checked~label.sk-toggleable__label {background-color: #d4ebff;}#sk-container-id-2 input.sk-hidden--visually {border: 0;clip: rect(1px 1px 1px 1px);clip: rect(1px, 1px, 1px, 1px);height: 1px;margin: -1px;overflow: hidden;padding: 0;position: absolute;width: 1px;}#sk-container-id-2 div.sk-estimator {font-family: monospace;background-color: #f0f8ff;border: 1px dotted black;border-radius: 0.25em;box-sizing: border-box;margin-bottom: 0.5em;}#sk-container-id-2 div.sk-estimator:hover {background-color: #d4ebff;}#sk-container-id-2 div.sk-parallel-item::after {content: \"\";width: 100%;border-bottom: 1px solid gray;flex-grow: 1;}#sk-container-id-2 div.sk-label:hover label.sk-toggleable__label {background-color: #d4ebff;}#sk-container-id-2 div.sk-serial::before {content: \"\";position: absolute;border-left: 1px solid gray;box-sizing: border-box;top: 0;bottom: 0;left: 50%;z-index: 0;}#sk-container-id-2 div.sk-serial {display: flex;flex-direction: column;align-items: center;background-color: white;padding-right: 0.2em;padding-left: 0.2em;position: relative;}#sk-container-id-2 div.sk-item {position: relative;z-index: 1;}#sk-container-id-2 div.sk-parallel {display: flex;align-items: stretch;justify-content: center;background-color: white;position: relative;}#sk-container-id-2 div.sk-item::before, #sk-container-id-2 div.sk-parallel-item::before {content: \"\";position: absolute;border-left: 1px solid gray;box-sizing: border-box;top: 0;bottom: 0;left: 50%;z-index: -1;}#sk-container-id-2 div.sk-parallel-item {display: flex;flex-direction: column;z-index: 1;position: relative;background-color: white;}#sk-container-id-2 div.sk-parallel-item:first-child::after {align-self: flex-end;width: 50%;}#sk-container-id-2 div.sk-parallel-item:last-child::after {align-self: flex-start;width: 50%;}#sk-container-id-2 div.sk-parallel-item:only-child::after {width: 0;}#sk-container-id-2 div.sk-dashed-wrapped {border: 1px dashed gray;margin: 0 0.4em 0.5em 0.4em;box-sizing: border-box;padding-bottom: 0.4em;background-color: white;}#sk-container-id-2 div.sk-label label {font-family: monospace;font-weight: bold;display: inline-block;line-height: 1.2em;}#sk-container-id-2 div.sk-label-container {text-align: center;}#sk-container-id-2 div.sk-container {/* jupyter's `normalize.less` sets `[hidden] { display: none; }` but bootstrap.min.css set `[hidden] { display: none !important; }` so we also need the `!important` here to be able to override the default hidden behavior on the sphinx rendered scikit-learn.org. See: https://github.com/scikit-learn/scikit-learn/issues/21755 */display: inline-block !important;position: relative;}#sk-container-id-2 div.sk-text-repr-fallback {display: none;}</style><div id=\"sk-container-id-2\" class=\"sk-top-container\"><div class=\"sk-text-repr-fallback\"><pre>RandomForestClassifier(n_estimators=200, random_state=42)</pre><b>In a Jupyter environment, please rerun this cell to show the HTML representation or trust the notebook. <br />On GitHub, the HTML representation is unable to render, please try loading this page with nbviewer.org.</b></div><div class=\"sk-container\" hidden><div class=\"sk-item\"><div class=\"sk-estimator sk-toggleable\"><input class=\"sk-toggleable__control sk-hidden--visually\" id=\"sk-estimator-id-2\" type=\"checkbox\" checked><label for=\"sk-estimator-id-2\" class=\"sk-toggleable__label sk-toggleable__label-arrow\">RandomForestClassifier</label><div class=\"sk-toggleable__content\"><pre>RandomForestClassifier(n_estimators=200, random_state=42)</pre></div></div></div></div></div>"
            ]
          },
          "metadata": {},
          "execution_count": 183
        }
      ]
    },
    {
      "cell_type": "code",
      "source": [
        "# Evaluate the performance of the classifier on the testing set\n",
        "y_pred = rf_classifier.predict(scaled_test_data)\n",
        "accuracy = accuracy_score(y_test, y_pred)\n",
        "print(f'Accuracy: {accuracy}')"
      ],
      "metadata": {
        "colab": {
          "base_uri": "https://localhost:8080/"
        },
        "id": "mLJwmO1pdSmb",
        "outputId": "0cbf1a57-c016-42d3-b97b-e658e6b469dc"
      },
      "execution_count": 184,
      "outputs": [
        {
          "output_type": "stream",
          "name": "stdout",
          "text": [
            "Accuracy: 0.9188601261692408\n"
          ]
        }
      ]
    },
    {
      "cell_type": "markdown",
      "source": [
        "## Add data features"
      ],
      "metadata": {
        "id": "KugYK8JqKbp5"
      }
    },
    {
      "cell_type": "markdown",
      "source": [
        "We have r_strides_time, r_peaks_toe, r_peaks_heel as extra features"
      ],
      "metadata": {
        "id": "23JneVKRSt7S"
      }
    },
    {
      "cell_type": "code",
      "source": [
        "data.right_stances_df.head()"
      ],
      "metadata": {
        "colab": {
          "base_uri": "https://localhost:8080/",
          "height": 206
        },
        "id": "3cqKGfkgSkRT",
        "outputId": "6d3fd38f-c7d5-4fc6-a784-ea90d2593d3b"
      },
      "execution_count": 237,
      "outputs": [
        {
          "output_type": "execute_result",
          "data": {
            "text/plain": [
              "       ID  level  y                                          r_stances  \\\n",
              "0  GaPt03    3.0  1  [20.79, 27.72, 32.45, 37.07, 63.69, 110.33, 13...   \n",
              "0  GaPt03    3.0  1  [52.8, 69.19, 57.64, 51.7, 60.94, 92.84, 140.1...   \n",
              "0  GaPt03    3.0  1  [23.1, 32.45, 39.38, 46.31, 116.82, 155.43, 17...   \n",
              "0  GaPt03    3.0  1  [23.1, 41.69, 55.55, 119.13, 154.55, 200.42, 2...   \n",
              "0  GaPt03    3.0  1  [25.41, 37.07, 55.55, 106.37, 152.02, 182.05, ...   \n",
              "\n",
              "  r_strides_time r_swings_time  \\\n",
              "0           1.59          0.39   \n",
              "0           1.27          0.21   \n",
              "0           1.41          0.41   \n",
              "0           1.49          0.43   \n",
              "0           1.56          0.41   \n",
              "\n",
              "                                      r_stances_time r_peaks_heel r_peaks_toe  \n",
              "0  [1.19, 1.05, 0.99, 1.05, 1.1400000000000001, 0...        107.8       80.63  \n",
              "0  [1.19, 1.05, 0.99, 1.05, 1.1400000000000001, 0...        71.17      134.42  \n",
              "0  [1.19, 1.05, 0.99, 1.05, 1.1400000000000001, 0...        111.1       80.63  \n",
              "0  [1.19, 1.05, 0.99, 1.05, 1.1400000000000001, 0...       141.24       71.61  \n",
              "0  [1.19, 1.05, 0.99, 1.05, 1.1400000000000001, 0...        101.2       98.78  "
            ],
            "text/html": [
              "\n",
              "  <div id=\"df-f063d7d3-6d15-4ab9-97a2-d32e514d17b6\">\n",
              "    <div class=\"colab-df-container\">\n",
              "      <div>\n",
              "<style scoped>\n",
              "    .dataframe tbody tr th:only-of-type {\n",
              "        vertical-align: middle;\n",
              "    }\n",
              "\n",
              "    .dataframe tbody tr th {\n",
              "        vertical-align: top;\n",
              "    }\n",
              "\n",
              "    .dataframe thead th {\n",
              "        text-align: right;\n",
              "    }\n",
              "</style>\n",
              "<table border=\"1\" class=\"dataframe\">\n",
              "  <thead>\n",
              "    <tr style=\"text-align: right;\">\n",
              "      <th></th>\n",
              "      <th>ID</th>\n",
              "      <th>level</th>\n",
              "      <th>y</th>\n",
              "      <th>r_stances</th>\n",
              "      <th>r_strides_time</th>\n",
              "      <th>r_swings_time</th>\n",
              "      <th>r_stances_time</th>\n",
              "      <th>r_peaks_heel</th>\n",
              "      <th>r_peaks_toe</th>\n",
              "    </tr>\n",
              "  </thead>\n",
              "  <tbody>\n",
              "    <tr>\n",
              "      <th>0</th>\n",
              "      <td>GaPt03</td>\n",
              "      <td>3.0</td>\n",
              "      <td>1</td>\n",
              "      <td>[20.79, 27.72, 32.45, 37.07, 63.69, 110.33, 13...</td>\n",
              "      <td>1.59</td>\n",
              "      <td>0.39</td>\n",
              "      <td>[1.19, 1.05, 0.99, 1.05, 1.1400000000000001, 0...</td>\n",
              "      <td>107.8</td>\n",
              "      <td>80.63</td>\n",
              "    </tr>\n",
              "    <tr>\n",
              "      <th>0</th>\n",
              "      <td>GaPt03</td>\n",
              "      <td>3.0</td>\n",
              "      <td>1</td>\n",
              "      <td>[52.8, 69.19, 57.64, 51.7, 60.94, 92.84, 140.1...</td>\n",
              "      <td>1.27</td>\n",
              "      <td>0.21</td>\n",
              "      <td>[1.19, 1.05, 0.99, 1.05, 1.1400000000000001, 0...</td>\n",
              "      <td>71.17</td>\n",
              "      <td>134.42</td>\n",
              "    </tr>\n",
              "    <tr>\n",
              "      <th>0</th>\n",
              "      <td>GaPt03</td>\n",
              "      <td>3.0</td>\n",
              "      <td>1</td>\n",
              "      <td>[23.1, 32.45, 39.38, 46.31, 116.82, 155.43, 17...</td>\n",
              "      <td>1.41</td>\n",
              "      <td>0.41</td>\n",
              "      <td>[1.19, 1.05, 0.99, 1.05, 1.1400000000000001, 0...</td>\n",
              "      <td>111.1</td>\n",
              "      <td>80.63</td>\n",
              "    </tr>\n",
              "    <tr>\n",
              "      <th>0</th>\n",
              "      <td>GaPt03</td>\n",
              "      <td>3.0</td>\n",
              "      <td>1</td>\n",
              "      <td>[23.1, 41.69, 55.55, 119.13, 154.55, 200.42, 2...</td>\n",
              "      <td>1.49</td>\n",
              "      <td>0.43</td>\n",
              "      <td>[1.19, 1.05, 0.99, 1.05, 1.1400000000000001, 0...</td>\n",
              "      <td>141.24</td>\n",
              "      <td>71.61</td>\n",
              "    </tr>\n",
              "    <tr>\n",
              "      <th>0</th>\n",
              "      <td>GaPt03</td>\n",
              "      <td>3.0</td>\n",
              "      <td>1</td>\n",
              "      <td>[25.41, 37.07, 55.55, 106.37, 152.02, 182.05, ...</td>\n",
              "      <td>1.56</td>\n",
              "      <td>0.41</td>\n",
              "      <td>[1.19, 1.05, 0.99, 1.05, 1.1400000000000001, 0...</td>\n",
              "      <td>101.2</td>\n",
              "      <td>98.78</td>\n",
              "    </tr>\n",
              "  </tbody>\n",
              "</table>\n",
              "</div>\n",
              "      <button class=\"colab-df-convert\" onclick=\"convertToInteractive('df-f063d7d3-6d15-4ab9-97a2-d32e514d17b6')\"\n",
              "              title=\"Convert this dataframe to an interactive table.\"\n",
              "              style=\"display:none;\">\n",
              "        \n",
              "  <svg xmlns=\"http://www.w3.org/2000/svg\" height=\"24px\"viewBox=\"0 0 24 24\"\n",
              "       width=\"24px\">\n",
              "    <path d=\"M0 0h24v24H0V0z\" fill=\"none\"/>\n",
              "    <path d=\"M18.56 5.44l.94 2.06.94-2.06 2.06-.94-2.06-.94-.94-2.06-.94 2.06-2.06.94zm-11 1L8.5 8.5l.94-2.06 2.06-.94-2.06-.94L8.5 2.5l-.94 2.06-2.06.94zm10 10l.94 2.06.94-2.06 2.06-.94-2.06-.94-.94-2.06-.94 2.06-2.06.94z\"/><path d=\"M17.41 7.96l-1.37-1.37c-.4-.4-.92-.59-1.43-.59-.52 0-1.04.2-1.43.59L10.3 9.45l-7.72 7.72c-.78.78-.78 2.05 0 2.83L4 21.41c.39.39.9.59 1.41.59.51 0 1.02-.2 1.41-.59l7.78-7.78 2.81-2.81c.8-.78.8-2.07 0-2.86zM5.41 20L4 18.59l7.72-7.72 1.47 1.35L5.41 20z\"/>\n",
              "  </svg>\n",
              "      </button>\n",
              "      \n",
              "  <style>\n",
              "    .colab-df-container {\n",
              "      display:flex;\n",
              "      flex-wrap:wrap;\n",
              "      gap: 12px;\n",
              "    }\n",
              "\n",
              "    .colab-df-convert {\n",
              "      background-color: #E8F0FE;\n",
              "      border: none;\n",
              "      border-radius: 50%;\n",
              "      cursor: pointer;\n",
              "      display: none;\n",
              "      fill: #1967D2;\n",
              "      height: 32px;\n",
              "      padding: 0 0 0 0;\n",
              "      width: 32px;\n",
              "    }\n",
              "\n",
              "    .colab-df-convert:hover {\n",
              "      background-color: #E2EBFA;\n",
              "      box-shadow: 0px 1px 2px rgba(60, 64, 67, 0.3), 0px 1px 3px 1px rgba(60, 64, 67, 0.15);\n",
              "      fill: #174EA6;\n",
              "    }\n",
              "\n",
              "    [theme=dark] .colab-df-convert {\n",
              "      background-color: #3B4455;\n",
              "      fill: #D2E3FC;\n",
              "    }\n",
              "\n",
              "    [theme=dark] .colab-df-convert:hover {\n",
              "      background-color: #434B5C;\n",
              "      box-shadow: 0px 1px 3px 1px rgba(0, 0, 0, 0.15);\n",
              "      filter: drop-shadow(0px 1px 2px rgba(0, 0, 0, 0.3));\n",
              "      fill: #FFFFFF;\n",
              "    }\n",
              "  </style>\n",
              "\n",
              "      <script>\n",
              "        const buttonEl =\n",
              "          document.querySelector('#df-f063d7d3-6d15-4ab9-97a2-d32e514d17b6 button.colab-df-convert');\n",
              "        buttonEl.style.display =\n",
              "          google.colab.kernel.accessAllowed ? 'block' : 'none';\n",
              "\n",
              "        async function convertToInteractive(key) {\n",
              "          const element = document.querySelector('#df-f063d7d3-6d15-4ab9-97a2-d32e514d17b6');\n",
              "          const dataTable =\n",
              "            await google.colab.kernel.invokeFunction('convertToInteractive',\n",
              "                                                     [key], {});\n",
              "          if (!dataTable) return;\n",
              "\n",
              "          const docLinkHtml = 'Like what you see? Visit the ' +\n",
              "            '<a target=\"_blank\" href=https://colab.research.google.com/notebooks/data_table.ipynb>data table notebook</a>'\n",
              "            + ' to learn more about interactive tables.';\n",
              "          element.innerHTML = '';\n",
              "          dataTable['output_type'] = 'display_data';\n",
              "          await google.colab.output.renderOutput(dataTable, element);\n",
              "          const docLink = document.createElement('div');\n",
              "          docLink.innerHTML = docLinkHtml;\n",
              "          element.appendChild(docLink);\n",
              "        }\n",
              "      </script>\n",
              "    </div>\n",
              "  </div>\n",
              "  "
            ]
          },
          "metadata": {},
          "execution_count": 237
        }
      ]
    },
    {
      "cell_type": "code",
      "source": [
        "data.right_stances_df['r_stances'] = data.right_stances_df['r_stances'].apply(np.array)"
      ],
      "metadata": {
        "id": "R1YB9j-rUIvM"
      },
      "execution_count": 243,
      "outputs": []
    },
    {
      "cell_type": "code",
      "source": [
        "### SCALING\n",
        "tqdm.pandas()\n",
        "s=data.right_stances_df['r_stances'].progress_map(lambda x: fwhm(x, -0.4,1.4))"
      ],
      "metadata": {
        "colab": {
          "base_uri": "https://localhost:8080/",
          "height": 49,
          "referenced_widgets": [
            "74c1cd87d0434f078e724e77c57f9ba5",
            "b7c8fd0a56794d18b3914d1f53d5b4fb",
            "8b4348ea0baa4e6fa6bb4ebfde7ae2ae",
            "07978b1f04994936a6133c486f9a07ac",
            "2928392687bd4b2ca52944a5f845cae1",
            "6b0e37f730a048d0b4225f80733c6114",
            "41df9e2301424911b92fa42f89ab8988",
            "dda2a7d49328457bb2839ff20426eafc",
            "d3963af0fce24206a9cfbf015d4fe8e0",
            "a3f36682ec934855b6b91bb42887df82",
            "2bd325200efe44e1982f7b3ad5479650"
          ]
        },
        "id": "UGdgAYmPS4TC",
        "outputId": "e57d7613-e67d-4107-dc5d-b29748fabc9b"
      },
      "execution_count": 244,
      "outputs": [
        {
          "output_type": "display_data",
          "data": {
            "text/plain": [
              "  0%|          | 0/18290 [00:00<?, ?it/s]"
            ],
            "application/vnd.jupyter.widget-view+json": {
              "version_major": 2,
              "version_minor": 0,
              "model_id": "74c1cd87d0434f078e724e77c57f9ba5"
            }
          },
          "metadata": {}
        }
      ]
    },
    {
      "cell_type": "code",
      "source": [
        "data.right_stances_df[['fwhm_value','max_peak' ,'scaled_x', 'scaled_y', 'new_x' ,'new_y','peak_pos']] = pd.DataFrame(s.tolist(), index= data.right_stances_df.index)"
      ],
      "metadata": {
        "id": "gnuo2IUBTs0r"
      },
      "execution_count": 245,
      "outputs": []
    },
    {
      "cell_type": "code",
      "source": [
        "### Train - Test data\n",
        "df1 = data.right_stances_df[[ 'new_y','r_swings_time','max_peak','fwhm_value', 'r_strides_time', 'r_peaks_toe', 'r_peaks_heel' ]]\n",
        "y = data.right_stances_df[[ 'y']]\n",
        "X_train, X_test, y_train, y_test = train_test_split(df1, y, random_state=42)"
      ],
      "metadata": {
        "id": "fEfDSGqxUe0h"
      },
      "execution_count": 247,
      "outputs": []
    },
    {
      "cell_type": "code",
      "source": [
        "### Reformat data\n",
        "scaled_train_data = np.append( np.asarray(X_train['new_y'].tolist()) , np.asarray(X_train[[\"r_swings_time\" ]]),  axis=1)\n",
        "scaled_train_data = np.append( scaled_train_data , np.asarray(X_train[[\"max_peak\" ]]),  axis=1)\n",
        "scaled_train_data = np.append( scaled_train_data , np.asarray(X_train[[\"fwhm_value\" ]]),  axis=1)\n",
        "scaled_train_data = np.append( scaled_train_data , np.asarray(X_train[[\"r_strides_time\" ]]),  axis=1)\n",
        "scaled_train_data = np.append( scaled_train_data , np.asarray(X_train[[\"r_peaks_toe\" ]]),  axis=1)\n",
        "scaled_train_data = np.append( scaled_train_data , np.asarray(X_train[[\"r_peaks_heel\" ]]),  axis=1)\n",
        "\n",
        "scaled_test_data = np.append( np.asarray(X_test['new_y'].tolist()) , np.asarray(X_test[[\"r_swings_time\" ]]),  axis=1)\n",
        "scaled_test_data = np.append( scaled_test_data , np.asarray(X_test[[\"max_peak\" ]]),  axis=1)\n",
        "scaled_test_data = np.append( scaled_test_data , np.asarray(X_test[[\"fwhm_value\" ]]),  axis=1)\n",
        "scaled_test_data = np.append( scaled_test_data , np.asarray(X_test[[\"r_strides_time\" ]]),  axis=1)\n",
        "scaled_test_data = np.append( scaled_test_data , np.asarray(X_test[[\"r_peaks_toe\" ]]),  axis=1)\n",
        "scaled_test_data = np.append( scaled_test_data , np.asarray(X_test[[\"r_peaks_heel\" ]]),  axis=1)"
      ],
      "metadata": {
        "id": "WmByvct6UZQq"
      },
      "execution_count": 248,
      "outputs": []
    },
    {
      "cell_type": "markdown",
      "source": [
        "### Random forest classifier 1"
      ],
      "metadata": {
        "id": "3ZVLinpBYLzT"
      }
    },
    {
      "cell_type": "code",
      "source": [
        "# Train a Random Forest classifier on the training set\n",
        "rf_classifier = RandomForestClassifier(n_estimators=200,  n_jobs=2)\n",
        "rf_classifier.fit(scaled_train_data, y_train.values.ravel())"
      ],
      "metadata": {
        "colab": {
          "base_uri": "https://localhost:8080/",
          "height": 75
        },
        "id": "DnZeJaF2VYsj",
        "outputId": "94a71801-2a24-446e-bf7b-1ee6f2641221"
      },
      "execution_count": 270,
      "outputs": [
        {
          "output_type": "execute_result",
          "data": {
            "text/plain": [
              "RandomForestClassifier(n_estimators=200, n_jobs=2)"
            ],
            "text/html": [
              "<style>#sk-container-id-7 {color: black;background-color: white;}#sk-container-id-7 pre{padding: 0;}#sk-container-id-7 div.sk-toggleable {background-color: white;}#sk-container-id-7 label.sk-toggleable__label {cursor: pointer;display: block;width: 100%;margin-bottom: 0;padding: 0.3em;box-sizing: border-box;text-align: center;}#sk-container-id-7 label.sk-toggleable__label-arrow:before {content: \"▸\";float: left;margin-right: 0.25em;color: #696969;}#sk-container-id-7 label.sk-toggleable__label-arrow:hover:before {color: black;}#sk-container-id-7 div.sk-estimator:hover label.sk-toggleable__label-arrow:before {color: black;}#sk-container-id-7 div.sk-toggleable__content {max-height: 0;max-width: 0;overflow: hidden;text-align: left;background-color: #f0f8ff;}#sk-container-id-7 div.sk-toggleable__content pre {margin: 0.2em;color: black;border-radius: 0.25em;background-color: #f0f8ff;}#sk-container-id-7 input.sk-toggleable__control:checked~div.sk-toggleable__content {max-height: 200px;max-width: 100%;overflow: auto;}#sk-container-id-7 input.sk-toggleable__control:checked~label.sk-toggleable__label-arrow:before {content: \"▾\";}#sk-container-id-7 div.sk-estimator input.sk-toggleable__control:checked~label.sk-toggleable__label {background-color: #d4ebff;}#sk-container-id-7 div.sk-label input.sk-toggleable__control:checked~label.sk-toggleable__label {background-color: #d4ebff;}#sk-container-id-7 input.sk-hidden--visually {border: 0;clip: rect(1px 1px 1px 1px);clip: rect(1px, 1px, 1px, 1px);height: 1px;margin: -1px;overflow: hidden;padding: 0;position: absolute;width: 1px;}#sk-container-id-7 div.sk-estimator {font-family: monospace;background-color: #f0f8ff;border: 1px dotted black;border-radius: 0.25em;box-sizing: border-box;margin-bottom: 0.5em;}#sk-container-id-7 div.sk-estimator:hover {background-color: #d4ebff;}#sk-container-id-7 div.sk-parallel-item::after {content: \"\";width: 100%;border-bottom: 1px solid gray;flex-grow: 1;}#sk-container-id-7 div.sk-label:hover label.sk-toggleable__label {background-color: #d4ebff;}#sk-container-id-7 div.sk-serial::before {content: \"\";position: absolute;border-left: 1px solid gray;box-sizing: border-box;top: 0;bottom: 0;left: 50%;z-index: 0;}#sk-container-id-7 div.sk-serial {display: flex;flex-direction: column;align-items: center;background-color: white;padding-right: 0.2em;padding-left: 0.2em;position: relative;}#sk-container-id-7 div.sk-item {position: relative;z-index: 1;}#sk-container-id-7 div.sk-parallel {display: flex;align-items: stretch;justify-content: center;background-color: white;position: relative;}#sk-container-id-7 div.sk-item::before, #sk-container-id-7 div.sk-parallel-item::before {content: \"\";position: absolute;border-left: 1px solid gray;box-sizing: border-box;top: 0;bottom: 0;left: 50%;z-index: -1;}#sk-container-id-7 div.sk-parallel-item {display: flex;flex-direction: column;z-index: 1;position: relative;background-color: white;}#sk-container-id-7 div.sk-parallel-item:first-child::after {align-self: flex-end;width: 50%;}#sk-container-id-7 div.sk-parallel-item:last-child::after {align-self: flex-start;width: 50%;}#sk-container-id-7 div.sk-parallel-item:only-child::after {width: 0;}#sk-container-id-7 div.sk-dashed-wrapped {border: 1px dashed gray;margin: 0 0.4em 0.5em 0.4em;box-sizing: border-box;padding-bottom: 0.4em;background-color: white;}#sk-container-id-7 div.sk-label label {font-family: monospace;font-weight: bold;display: inline-block;line-height: 1.2em;}#sk-container-id-7 div.sk-label-container {text-align: center;}#sk-container-id-7 div.sk-container {/* jupyter's `normalize.less` sets `[hidden] { display: none; }` but bootstrap.min.css set `[hidden] { display: none !important; }` so we also need the `!important` here to be able to override the default hidden behavior on the sphinx rendered scikit-learn.org. See: https://github.com/scikit-learn/scikit-learn/issues/21755 */display: inline-block !important;position: relative;}#sk-container-id-7 div.sk-text-repr-fallback {display: none;}</style><div id=\"sk-container-id-7\" class=\"sk-top-container\"><div class=\"sk-text-repr-fallback\"><pre>RandomForestClassifier(n_estimators=200, n_jobs=2)</pre><b>In a Jupyter environment, please rerun this cell to show the HTML representation or trust the notebook. <br />On GitHub, the HTML representation is unable to render, please try loading this page with nbviewer.org.</b></div><div class=\"sk-container\" hidden><div class=\"sk-item\"><div class=\"sk-estimator sk-toggleable\"><input class=\"sk-toggleable__control sk-hidden--visually\" id=\"sk-estimator-id-7\" type=\"checkbox\" checked><label for=\"sk-estimator-id-7\" class=\"sk-toggleable__label sk-toggleable__label-arrow\">RandomForestClassifier</label><div class=\"sk-toggleable__content\"><pre>RandomForestClassifier(n_estimators=200, n_jobs=2)</pre></div></div></div></div></div>"
            ]
          },
          "metadata": {},
          "execution_count": 270
        }
      ]
    },
    {
      "cell_type": "code",
      "source": [
        "# Evaluate the performance of the classifier on the testing set\n",
        "y_pred = rf_classifier.predict(scaled_test_data)\n",
        "accuracy = accuracy_score(y_test, y_pred)\n",
        "print(f'Accuracy: {accuracy}')"
      ],
      "metadata": {
        "colab": {
          "base_uri": "https://localhost:8080/"
        },
        "id": "SGTRTrMpVcn5",
        "outputId": "58a93fc1-10af-4a6f-9c53-9b92ce3a59cd"
      },
      "execution_count": 271,
      "outputs": [
        {
          "output_type": "stream",
          "name": "stdout",
          "text": [
            "Accuracy: 0.9448939427071944\n"
          ]
        }
      ]
    },
    {
      "cell_type": "code",
      "source": [
        "prec = precision_score(y_test, y_pred)\n",
        "rec = recall_score(y_test, y_pred)\n",
        "f1 = f1_score(y_test, y_pred)"
      ],
      "metadata": {
        "id": "hGAoOJXxYSbz"
      },
      "execution_count": 272,
      "outputs": []
    },
    {
      "cell_type": "code",
      "source": [
        "print(\"Precision: {}\".format(prec))\n",
        "print(\"Recall: {}\".format(rec))\n",
        "print(\"F1: {}\".format(f1))"
      ],
      "metadata": {
        "colab": {
          "base_uri": "https://localhost:8080/"
        },
        "id": "0Ihn1imEYT4U",
        "outputId": "f6c2f4dc-0264-442e-c269-ea0e2824cb1d"
      },
      "execution_count": 273,
      "outputs": [
        {
          "output_type": "stream",
          "name": "stdout",
          "text": [
            "Precision: 0.9356300997280145\n",
            "Recall: 0.9875598086124402\n",
            "F1: 0.9608938547486033\n"
          ]
        }
      ]
    },
    {
      "cell_type": "code",
      "source": [
        "# save the model\n",
        "with open(\"/content/drive/MyDrive/ITMO-Master's/Thesis/3rd_semester/Models/rf_classifier_7_features\", 'wb') as f:\n",
        "    pickle.dump(rf_classifier, f)"
      ],
      "metadata": {
        "id": "kMlTOHzjbCID"
      },
      "execution_count": 274,
      "outputs": []
    },
    {
      "cell_type": "code",
      "source": [
        "# Load the model                                                                                                                                                                                                       \n",
        "\n",
        "with open(\"/content/drive/MyDrive/ITMO-Master's/Thesis/3rd_semester/Models/rf_classifier_7_features\", 'rb') as f:\n",
        "    rf = pickle.load(f)"
      ],
      "metadata": {
        "id": "u19fPakRbX1F"
      },
      "execution_count": 275,
      "outputs": []
    },
    {
      "cell_type": "markdown",
      "source": [
        "### Random Forest Classifier 2"
      ],
      "metadata": {
        "id": "vmZFFG_PYPUD"
      }
    },
    {
      "cell_type": "code",
      "source": [
        "# Train a Random Forest classifier on the training set\n",
        "rf_classifier = RandomForestClassifier(n_estimators=600, random_state=42)\n",
        "rf_classifier.fit(scaled_train_data, y_train.values.ravel())"
      ],
      "metadata": {
        "colab": {
          "base_uri": "https://localhost:8080/",
          "height": 75
        },
        "id": "Zroh29t0WFOL",
        "outputId": "e32ffeaa-5352-49d9-f43c-761c471cc28b"
      },
      "execution_count": 259,
      "outputs": [
        {
          "output_type": "execute_result",
          "data": {
            "text/plain": [
              "RandomForestClassifier(n_estimators=600, random_state=42)"
            ],
            "text/html": [
              "<style>#sk-container-id-6 {color: black;background-color: white;}#sk-container-id-6 pre{padding: 0;}#sk-container-id-6 div.sk-toggleable {background-color: white;}#sk-container-id-6 label.sk-toggleable__label {cursor: pointer;display: block;width: 100%;margin-bottom: 0;padding: 0.3em;box-sizing: border-box;text-align: center;}#sk-container-id-6 label.sk-toggleable__label-arrow:before {content: \"▸\";float: left;margin-right: 0.25em;color: #696969;}#sk-container-id-6 label.sk-toggleable__label-arrow:hover:before {color: black;}#sk-container-id-6 div.sk-estimator:hover label.sk-toggleable__label-arrow:before {color: black;}#sk-container-id-6 div.sk-toggleable__content {max-height: 0;max-width: 0;overflow: hidden;text-align: left;background-color: #f0f8ff;}#sk-container-id-6 div.sk-toggleable__content pre {margin: 0.2em;color: black;border-radius: 0.25em;background-color: #f0f8ff;}#sk-container-id-6 input.sk-toggleable__control:checked~div.sk-toggleable__content {max-height: 200px;max-width: 100%;overflow: auto;}#sk-container-id-6 input.sk-toggleable__control:checked~label.sk-toggleable__label-arrow:before {content: \"▾\";}#sk-container-id-6 div.sk-estimator input.sk-toggleable__control:checked~label.sk-toggleable__label {background-color: #d4ebff;}#sk-container-id-6 div.sk-label input.sk-toggleable__control:checked~label.sk-toggleable__label {background-color: #d4ebff;}#sk-container-id-6 input.sk-hidden--visually {border: 0;clip: rect(1px 1px 1px 1px);clip: rect(1px, 1px, 1px, 1px);height: 1px;margin: -1px;overflow: hidden;padding: 0;position: absolute;width: 1px;}#sk-container-id-6 div.sk-estimator {font-family: monospace;background-color: #f0f8ff;border: 1px dotted black;border-radius: 0.25em;box-sizing: border-box;margin-bottom: 0.5em;}#sk-container-id-6 div.sk-estimator:hover {background-color: #d4ebff;}#sk-container-id-6 div.sk-parallel-item::after {content: \"\";width: 100%;border-bottom: 1px solid gray;flex-grow: 1;}#sk-container-id-6 div.sk-label:hover label.sk-toggleable__label {background-color: #d4ebff;}#sk-container-id-6 div.sk-serial::before {content: \"\";position: absolute;border-left: 1px solid gray;box-sizing: border-box;top: 0;bottom: 0;left: 50%;z-index: 0;}#sk-container-id-6 div.sk-serial {display: flex;flex-direction: column;align-items: center;background-color: white;padding-right: 0.2em;padding-left: 0.2em;position: relative;}#sk-container-id-6 div.sk-item {position: relative;z-index: 1;}#sk-container-id-6 div.sk-parallel {display: flex;align-items: stretch;justify-content: center;background-color: white;position: relative;}#sk-container-id-6 div.sk-item::before, #sk-container-id-6 div.sk-parallel-item::before {content: \"\";position: absolute;border-left: 1px solid gray;box-sizing: border-box;top: 0;bottom: 0;left: 50%;z-index: -1;}#sk-container-id-6 div.sk-parallel-item {display: flex;flex-direction: column;z-index: 1;position: relative;background-color: white;}#sk-container-id-6 div.sk-parallel-item:first-child::after {align-self: flex-end;width: 50%;}#sk-container-id-6 div.sk-parallel-item:last-child::after {align-self: flex-start;width: 50%;}#sk-container-id-6 div.sk-parallel-item:only-child::after {width: 0;}#sk-container-id-6 div.sk-dashed-wrapped {border: 1px dashed gray;margin: 0 0.4em 0.5em 0.4em;box-sizing: border-box;padding-bottom: 0.4em;background-color: white;}#sk-container-id-6 div.sk-label label {font-family: monospace;font-weight: bold;display: inline-block;line-height: 1.2em;}#sk-container-id-6 div.sk-label-container {text-align: center;}#sk-container-id-6 div.sk-container {/* jupyter's `normalize.less` sets `[hidden] { display: none; }` but bootstrap.min.css set `[hidden] { display: none !important; }` so we also need the `!important` here to be able to override the default hidden behavior on the sphinx rendered scikit-learn.org. See: https://github.com/scikit-learn/scikit-learn/issues/21755 */display: inline-block !important;position: relative;}#sk-container-id-6 div.sk-text-repr-fallback {display: none;}</style><div id=\"sk-container-id-6\" class=\"sk-top-container\"><div class=\"sk-text-repr-fallback\"><pre>RandomForestClassifier(n_estimators=600, random_state=42)</pre><b>In a Jupyter environment, please rerun this cell to show the HTML representation or trust the notebook. <br />On GitHub, the HTML representation is unable to render, please try loading this page with nbviewer.org.</b></div><div class=\"sk-container\" hidden><div class=\"sk-item\"><div class=\"sk-estimator sk-toggleable\"><input class=\"sk-toggleable__control sk-hidden--visually\" id=\"sk-estimator-id-6\" type=\"checkbox\" checked><label for=\"sk-estimator-id-6\" class=\"sk-toggleable__label sk-toggleable__label-arrow\">RandomForestClassifier</label><div class=\"sk-toggleable__content\"><pre>RandomForestClassifier(n_estimators=600, random_state=42)</pre></div></div></div></div></div>"
            ]
          },
          "metadata": {},
          "execution_count": 259
        }
      ]
    },
    {
      "cell_type": "code",
      "source": [
        "# Evaluate the performance of the classifier on the testing set\n",
        "y_pred = rf_classifier.predict(scaled_test_data)\n",
        "accuracy = accuracy_score(y_test, y_pred)\n",
        "print(f'Accuracy: {accuracy}')"
      ],
      "metadata": {
        "colab": {
          "base_uri": "https://localhost:8080/"
        },
        "id": "P8QMD-aFWGNh",
        "outputId": "415ccb09-a98c-49a7-dc7f-814188571f16"
      },
      "execution_count": 260,
      "outputs": [
        {
          "output_type": "stream",
          "name": "stdout",
          "text": [
            "Accuracy: 0.9444565930461404\n"
          ]
        }
      ]
    },
    {
      "cell_type": "code",
      "source": [
        "rf_classifier.score(scaled_test_data, np.ravel(y_test))"
      ],
      "metadata": {
        "colab": {
          "base_uri": "https://localhost:8080/"
        },
        "id": "HSB3hAwXZH0j",
        "outputId": "04eed797-c6d6-487e-d232-016e9202c199"
      },
      "execution_count": 261,
      "outputs": [
        {
          "output_type": "execute_result",
          "data": {
            "text/plain": [
              "0.9444565930461404"
            ]
          },
          "metadata": {},
          "execution_count": 261
        }
      ]
    },
    {
      "cell_type": "code",
      "source": [
        "prec = precision_score(y_test, y_pred)\n",
        "rec = recall_score(y_test, y_pred)\n",
        "f1 = f1_score(y_test, y_pred)"
      ],
      "metadata": {
        "id": "2SzyT0lFX6r9"
      },
      "execution_count": 253,
      "outputs": []
    },
    {
      "cell_type": "code",
      "source": [
        "print(\"Precision: {}\".format(prec))\n",
        "print(\"Recall: {}\".format(rec))\n",
        "print(\"F1: {}\".format(f1))"
      ],
      "metadata": {
        "colab": {
          "base_uri": "https://localhost:8080/"
        },
        "id": "b2FxGWuvYFGj",
        "outputId": "4a906c4d-8b4a-4ba8-873b-b68c0378b075"
      },
      "execution_count": 254,
      "outputs": [
        {
          "output_type": "stream",
          "name": "stdout",
          "text": [
            "Precision: 0.9363829142684035\n",
            "Recall: 0.9859649122807017\n",
            "F1: 0.9605344934742076\n"
          ]
        }
      ]
    },
    {
      "cell_type": "markdown",
      "source": [
        "### Random classifier multiple"
      ],
      "metadata": {
        "id": "tiULaT3AYp9q"
      }
    },
    {
      "cell_type": "code",
      "source": [
        "test_score_RFC=[]\n",
        "\n",
        "for n in [5, 10, 20, 40, 100, 200]:\n",
        "    clf = RandomForestClassifier(n_estimators = int(n), n_jobs=2)\n",
        "    clf.fit(scaled_train_data, np.ravel(y_train))\n",
        "    acc = clf.score(scaled_test_data, np.ravel(y_test))\n",
        "    test_score_RFC.append(acc)  "
      ],
      "metadata": {
        "id": "i8hdmKSRYvlM"
      },
      "execution_count": 262,
      "outputs": []
    },
    {
      "cell_type": "code",
      "source": [
        "for neighbor, tr_sc in zip(([5, 10, 20, 40, 100, 200]),test_score_RFC): \n",
        "    print(f\"Estimator = {neighbor}\")\n",
        "    print('Accuracy of Random Forest Classifier on test set: {:.2f}'.format(tr_sc))"
      ],
      "metadata": {
        "colab": {
          "base_uri": "https://localhost:8080/"
        },
        "id": "m9zIjz6pYF56",
        "outputId": "8d4252e1-850f-4ff3-9562-4259a78e0ddb"
      },
      "execution_count": 263,
      "outputs": [
        {
          "output_type": "stream",
          "name": "stdout",
          "text": [
            "Estimator = 5\n",
            "Accuracy of Random Forest Classifier on test set: 0.90\n",
            "Estimator = 10\n",
            "Accuracy of Random Forest Classifier on test set: 0.92\n",
            "Estimator = 20\n",
            "Accuracy of Random Forest Classifier on test set: 0.93\n",
            "Estimator = 40\n",
            "Accuracy of Random Forest Classifier on test set: 0.94\n",
            "Estimator = 100\n",
            "Accuracy of Random Forest Classifier on test set: 0.94\n",
            "Estimator = 200\n",
            "Accuracy of Random Forest Classifier on test set: 0.94\n"
          ]
        }
      ]
    },
    {
      "cell_type": "code",
      "source": [
        "prediction_clf = clf.predict(scaled_test_data)\n",
        "prec = precision_score(y_test, prediction_clf)\n",
        "rec = recall_score(y_test, prediction_clf)\n",
        "f1 = f1_score(y_test, prediction_clf)\n",
        "print(\"Precision: {}\".format(prec))\n",
        "print(\"Recall: {}\".format(rec))\n",
        "print(\"F1: {}\".format(f1))"
      ],
      "metadata": {
        "colab": {
          "base_uri": "https://localhost:8080/"
        },
        "id": "8Yc4Q-zYaBb8",
        "outputId": "cbeab586-5404-44f3-8325-88ffcb7ed929"
      },
      "execution_count": 265,
      "outputs": [
        {
          "output_type": "stream",
          "name": "stdout",
          "text": [
            "Precision: 0.935591170244935\n",
            "Recall: 0.9869218500797449\n",
            "F1: 0.9605712511642347\n"
          ]
        }
      ]
    }
  ]
}