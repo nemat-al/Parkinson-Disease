{
  "nbformat": 4,
  "nbformat_minor": 0,
  "metadata": {
    "colab": {
      "provenance": []
    },
    "kernelspec": {
      "name": "python3",
      "display_name": "Python 3"
    },
    "language_info": {
      "name": "python"
    }
  },
  "cells": [
    {
      "cell_type": "code",
      "source": [
        "from google.colab import drive\n",
        "drive.mount('/content/drive')"
      ],
      "metadata": {
        "colab": {
          "base_uri": "https://localhost:8080/"
        },
        "id": "h_0yIvi3g_R1",
        "outputId": "4a3e6e1b-8674-416a-b7d7-3cbde74305f9"
      },
      "execution_count": null,
      "outputs": [
        {
          "output_type": "stream",
          "name": "stdout",
          "text": [
            "Mounted at /content/drive\n"
          ]
        }
      ]
    },
    {
      "cell_type": "code",
      "source": [
        "import pandas as pd\n",
        "import numpy as np\n",
        "from sklearn.preprocessing import PolynomialFeatures\n",
        "from sklearn import decomposition\n",
        "import os\n",
        "from tqdm.auto import tqdm\n",
        "from sklearn import decomposition\n",
        "\n",
        "import scipy.stats as sc\n",
        "from sklearn.model_selection import train_test_split\n",
        "from sklearn.preprocessing import MinMaxScaler\n",
        "\n",
        "from sklearn.neighbors import KNeighborsClassifier\n",
        "from sklearn.metrics import accuracy_score, precision_score, recall_score, f1_score, auc, roc_curve\n",
        "\n",
        "from sklearn.ensemble import RandomForestClassifier"
      ],
      "metadata": {
        "id": "TvwISlR0kUaT"
      },
      "execution_count": null,
      "outputs": []
    },
    {
      "cell_type": "markdown",
      "source": [
        "### Parameters"
      ],
      "metadata": {
        "id": "JqKGtS1-bGp2"
      }
    },
    {
      "cell_type": "code",
      "source": [
        "# FOLDERS' PATHS\n",
        "\n",
        "# path of original data folder\n",
        "originalD_path = \"/content/drive/MyDrive/Thesis/3rd_semester/Data/original\"\n",
        "# folder to save csv files for Force data for each subject individually instead of .txt files\n",
        "csvD_path = \"/content/drive/MyDrive/Thesis/3rd_semester/Data/csv_files\"\n",
        "# folder to save processed\\transformed data\n",
        "Processed_Data = \"/content/drive/MyDrive/Thesis/3rd_semester/Data/Processed_data\""
      ],
      "metadata": {
        "id": "rwms8_Qmqedn"
      },
      "execution_count": null,
      "outputs": []
    },
    {
      "cell_type": "markdown",
      "source": [
        "### Reading Force's Data"
      ],
      "metadata": {
        "id": "jHWrYZW7G_KZ"
      }
    },
    {
      "cell_type": "code",
      "source": [
        "columns = ['Time', 'L1' , 'L2', 'L3', 'L4', 'L5', 'L6', 'L7', 'L8', \n",
        "            'R1', 'R2', 'R3', 'R4', 'R5', 'R6', 'R7', 'R8', \n",
        "            'Total_Force_Left', 'Total_Force_Right']"
      ],
      "metadata": {
        "id": "nOvM6Q4X15eO"
      },
      "execution_count": null,
      "outputs": []
    },
    {
      "cell_type": "code",
      "source": [
        "# reading given csv file \n",
        "# and creating dataframe\n",
        "for name in os.listdir(originalD_path):\n",
        "  if 'Co' in name or 'Pt' in name:\n",
        "    df = pd.read_csv(originalD_path + \"/\" + name, header = None, sep='\\t')\n",
        "      \n",
        "    # adding column headings\n",
        "    df.columns = columns\n",
        "      \n",
        "    # store dataframe into csv file\n",
        "    name = csvD_path + \"/\" + name.split('.')[0]+'.csv'\n",
        "    df.to_csv(name, index = None)"
      ],
      "metadata": {
        "id": "oFbzC5isIZCW"
      },
      "execution_count": null,
      "outputs": []
    },
    {
      "cell_type": "markdown",
      "source": [
        "### Visualization"
      ],
      "metadata": {
        "id": "dpo0HEHsJ6fM"
      }
    },
    {
      "cell_type": "code",
      "source": [
        "import matplotlib.pyplot as plt"
      ],
      "metadata": {
        "id": "roltXkaHKdjd"
      },
      "execution_count": null,
      "outputs": []
    },
    {
      "cell_type": "markdown",
      "source": [
        "Choosing 2 random subjects, one healthy and one with PD. Then visualize the measured total force for each foot over the 2 mins walk."
      ],
      "metadata": {
        "id": "F803w4bkWh6P"
      }
    },
    {
      "cell_type": "code",
      "source": [
        "pd_subject = 'GaPt03_01'\n",
        "control_subject = 'GaCo01_01'\n",
        "\n",
        "pd_df = pd.read_csv(csvD_path + \"/\"  + pd_subject + '.csv').head(1001)\n",
        "control_df = pd.read_csv(csvD_path + \"/\" + control_subject + '.csv').head(1001)\n",
        "print(pd_df.shape)\n",
        "print(control_df.shape)\n",
        "\n",
        "nrows = 1\n",
        "ncols = 2\n",
        "\n",
        "fig = plt.gcf()\n",
        "fig.set_size_inches(ncols * 5, nrows * 5)\n",
        "\n",
        "for i, fname in enumerate(['Total_Force_Left', 'Total_Force_Right']):\n",
        "  plt.subplot(nrows, ncols, i+1)\n",
        "  plt.tight_layout()\n",
        "  plt.title(\"Time vs \" + fname)\n",
        "  plt.plot(control_df.Time, control_df[fname])\n",
        "  plt.plot(pd_df.Time, pd_df[fname])\n",
        "  plt.xlabel('Time (in seconds)')\n",
        "\n",
        "plt.legend([\"Control\", \"PD\",]) \n",
        "plt.show()"
      ],
      "metadata": {
        "colab": {
          "base_uri": "https://localhost:8080/",
          "height": 404
        },
        "id": "8QIbOXRnJN1q",
        "outputId": "441ece11-811c-4c67-ebd8-03da322ea8d3"
      },
      "execution_count": null,
      "outputs": [
        {
          "output_type": "stream",
          "name": "stdout",
          "text": [
            "(1001, 19)\n",
            "(1001, 19)\n"
          ]
        },
        {
          "output_type": "display_data",
          "data": {
            "text/plain": [
              "<Figure size 720x360 with 2 Axes>"
            ],
            "image/png": "[encoded data removed]"
          },
          "metadata": {
            "needs_background": "light"
          }
        }
      ]
    },
    {
      "cell_type": "markdown",
      "source": [
        "Visualizing the measured total force for each foot for 4 random subjects. The first one is healthy, the 2nd suffer from PD with 2score, the 3rd with 2.5 score, the 4th with 3 score on HY PD scale."
      ],
      "metadata": {
        "id": "77h067_QK6K9"
      }
    },
    {
      "cell_type": "code",
      "source": [
        "nrows = 2\n",
        "ncols = 4\n",
        "subjects = ['GaCo03_01', 'GaPt06_01', 'GaPt04_01', 'GaPt03_01']\n",
        "category = ['Healthy Control', 'PD Severity 2', 'PD Severity 2.5', 'PD Severity 3']\n",
        "colors = ['blue', '#FFD600', 'orange', 'red']\n",
        "fig = plt.gcf()\n",
        "fig.set_size_inches(ncols * 4, nrows * 4)\n",
        "\n",
        "i = 0\n",
        "for sub in subjects:\n",
        "  df = pd.read_csv(csvD_path + \"/\" + sub + '.csv').head(1001)\n",
        "  i += 1\n",
        "  for j, fname in enumerate(['Total_Force_Left', 'Total_Force_Right']):\n",
        "    plt.subplot(nrows, ncols, i + (j*4))\n",
        "    plt.tight_layout()\n",
        "    plt.plot(df.Time, df[fname], color=colors[i-1])\n",
        "    plt.xlabel('Time (in seconds)')\n",
        "    plt.ylabel(fname)\n",
        "    plt.title(category[i-1])\n",
        "    \n",
        "plt.show()"
      ],
      "metadata": {
        "colab": {
          "base_uri": "https://localhost:8080/",
          "height": 585
        },
        "id": "RrU2Y5zSRvha",
        "outputId": "8085b376-751c-4063-c5b8-13e9cf41a9a9"
      },
      "execution_count": null,
      "outputs": [
        {
          "output_type": "display_data",
          "data": {
            "text/plain": [
              "<Figure size 1152x576 with 8 Axes>"
            ],
            "image/png": "[encoded data removed]"
          },
          "metadata": {
            "needs_background": "light"
          }
        }
      ]
    },
    {
      "cell_type": "markdown",
      "source": [
        "### Reading demographic file"
      ],
      "metadata": {
        "id": "vy8KidZ4ewfE"
      }
    },
    {
      "cell_type": "code",
      "source": [
        "# Reading demographic file\n",
        "demographics = pd.read_csv(originalD_path+'/demographics.txt', delim_whitespace=True)\n",
        "\n",
        "# Find the ids of subjects from demographics file\n",
        "sub_id_dem = demographics.ID.to_list()\n",
        "\n",
        "# Find the ids of subjects from Force files\n",
        "sub_id_f = []\n",
        "for name in os.listdir(csvD_path):\n",
        "  sub_name = name.split('_')[0]\n",
        "  sub_id_f.append(sub_name)\n",
        "\n",
        "# Find the count of subjects from Force files\n",
        "unique_subjects_f  = list(set(sub_id_f))\n",
        "\n",
        "missing_subjects= np.setdiff1d(sub_id_dem,unique_subjects_f)\n",
        "print(\"Subjects Count (in demographics) = \", len(sub_id_dem))\n",
        "print(\"Force Files count = \", len(sub_id_f))\n",
        "print (f\"Subjects Count (in Force files) {len(unique_subjects_f)}\")\n",
        "print (f\"Count of missing files from Force files: {len(missing_subjects)}, the ids of those are: {missing_subjects}\")"
      ],
      "metadata": {
        "colab": {
          "base_uri": "https://localhost:8080/"
        },
        "id": "o5Dyrrl4SR9o",
        "outputId": "135e9b7e-d89e-443b-ee45-12c7e65240a1"
      },
      "execution_count": null,
      "outputs": [
        {
          "output_type": "stream",
          "name": "stdout",
          "text": [
            "Subjects Count (in demographics) =  166\n",
            "Force Files count =  306\n",
            "Subjects Count (in Force files) 165\n",
            "Count of missing files from Force files: 1, the ids of those are: ['Juc010']\n"
          ]
        }
      ]
    },
    {
      "cell_type": "markdown",
      "source": [
        "There is a subject with `Juc010` id that has demographics describtions and does not have measured force features while walking."
      ],
      "metadata": {
        "id": "aJeIX4tlsoHX"
      }
    },
    {
      "cell_type": "code",
      "source": [
        "# Remove the demographics of missing force file\n",
        "demographics = demographics[demographics.ID != 'Juc010']"
      ],
      "metadata": {
        "id": "smD8xj6Wu1c3"
      },
      "execution_count": null,
      "outputs": []
    },
    {
      "cell_type": "code",
      "source": [
        "# Checking the unique values of the HoehnYahr column in demographics file\n",
        "demographics['HoehnYahr'].unique()"
      ],
      "metadata": {
        "colab": {
          "base_uri": "https://localhost:8080/"
        },
        "id": "nPivaEw3fqVE",
        "outputId": "b94224f8-dc13-4acb-840b-4986f46bb637"
      },
      "execution_count": null,
      "outputs": [
        {
          "output_type": "execute_result",
          "data": {
            "text/plain": [
              "array([3. , 2.5, 2. , 0. , nan])"
            ]
          },
          "metadata": {},
          "execution_count": 28
        }
      ]
    },
    {
      "cell_type": "markdown",
      "source": [
        "It turns out that the `NAN` values are given to some of the control group, those who will score 0 at HoehnYahr since they do not suffer from Parkinson's disease.\n",
        "Thus, those `Nan` values can be replaced with zero. "
      ],
      "metadata": {
        "id": "JlwYBOdltpgV"
      }
    },
    {
      "cell_type": "code",
      "source": [
        "demographics['HoehnYahr'] = demographics['HoehnYahr'].fillna(0)\n",
        "demographics.HoehnYahr.value_counts()"
      ],
      "metadata": {
        "colab": {
          "base_uri": "https://localhost:8080/"
        },
        "id": "EcjNS_wHg027",
        "outputId": "fbd4f2df-ba5a-4d6a-846c-efbea8659696"
      },
      "execution_count": null,
      "outputs": [
        {
          "output_type": "execute_result",
          "data": {
            "text/plain": [
              "0.0    72\n",
              "2.0    55\n",
              "2.5    28\n",
              "3.0    10\n",
              "Name: HoehnYahr, dtype: int64"
            ]
          },
          "metadata": {},
          "execution_count": 39
        }
      ]
    },
    {
      "cell_type": "markdown",
      "source": [
        "There are 72 zero values, those are for Control Group. And we have 93 other scores belong to subjects with PD."
      ],
      "metadata": {
        "id": "o7P6j8CnuaBg"
      }
    },
    {
      "cell_type": "markdown",
      "source": [
        "Let's save the edited demographics file."
      ],
      "metadata": {
        "id": "NTOIcPzXzhXE"
      }
    },
    {
      "cell_type": "code",
      "source": [
        "demographics"
      ],
      "metadata": {
        "colab": {
          "base_uri": "https://localhost:8080/",
          "height": 488
        },
        "id": "1N4oEx7Gzqx-",
        "outputId": "1d3b48d9-0701-4026-c587-a48844c25a0e"
      },
      "execution_count": null,
      "outputs": [
        {
          "output_type": "execute_result",
          "data": {
            "text/plain": [
              "         ID Study  Group  Subjnum  Gender  Age  Height  Weight  HoehnYahr  \\\n",
              "0    GaPt03    Ga      1        3       2   82    1.45    50.0        3.0   \n",
              "1    GaPt04    Ga      1        4       1   68    1.71     NaN        2.5   \n",
              "2    GaPt05    Ga      1        5       2   82    1.53    51.0        2.5   \n",
              "3    GaPt06    Ga      1        6       1   72    1.70    82.0        2.0   \n",
              "4    GaPt07    Ga      1        7       2   53    1.67    54.0        3.0   \n",
              "..      ...   ...    ...      ...     ...  ...     ...     ...        ...   \n",
              "161  SiCo26    Si      2       26       1   60    1.74    72.0        0.0   \n",
              "162  SiCo27    Si      2       27       1   67    1.90    95.0        0.0   \n",
              "163  SiCo28    Si      2       28       1   61    1.70    72.0        0.0   \n",
              "164  SiCo29    Si      2       29       1   53    1.70    87.0        0.0   \n",
              "165  SiCo30    Si      2       30       1   63    1.74    82.0        0.0   \n",
              "\n",
              "     UPDRS  UPDRSM   TUAG  Speed_01  Speed_02  Speed_03  Speed_04  Speed_05  \\\n",
              "0     20.0    10.0  36.34       NaN       NaN       NaN       NaN       NaN   \n",
              "1     25.0     8.0  11.00     0.642       NaN       NaN       NaN       NaN   \n",
              "2     24.0     5.0  14.50     0.908       NaN       NaN       NaN       NaN   \n",
              "3     16.0    13.0  10.47     0.848       NaN       NaN       NaN       NaN   \n",
              "4     44.0    22.0  18.34     0.677     0.957       NaN       NaN       NaN   \n",
              "..     ...     ...    ...       ...       ...       ...       ...       ...   \n",
              "161    NaN     NaN   9.20     1.000       NaN       NaN       NaN       NaN   \n",
              "162    NaN     NaN  12.52     1.120       NaN       NaN       NaN       NaN   \n",
              "163    NaN     NaN  12.65     0.990       NaN       NaN       NaN       NaN   \n",
              "164    NaN     NaN  11.41     1.290       NaN       NaN       NaN       NaN   \n",
              "165    NaN     NaN   8.68     1.420       NaN       NaN       NaN       NaN   \n",
              "\n",
              "     Speed_06  Speed_07  Speed_10  \n",
              "0         NaN       NaN     0.778  \n",
              "1         NaN       NaN     0.818  \n",
              "2         NaN       NaN     0.614  \n",
              "3         NaN       NaN     0.937  \n",
              "4         NaN       NaN     0.579  \n",
              "..        ...       ...       ...  \n",
              "161       NaN       NaN       NaN  \n",
              "162       NaN       NaN       NaN  \n",
              "163       NaN       NaN       NaN  \n",
              "164       NaN       NaN       NaN  \n",
              "165       NaN       NaN       NaN  \n",
              "\n",
              "[165 rows x 20 columns]"
            ],
            "text/html": [
              "\n",
              "  <div id=\"df-3c847d8e-6e5b-4597-bd0c-3b09bbe01825\">\n",
              "    <div class=\"colab-df-container\">\n",
              "      <div>\n",
              "<style scoped>\n",
              "    .dataframe tbody tr th:only-of-type {\n",
              "        vertical-align: middle;\n",
              "    }\n",
              "\n",
              "    .dataframe tbody tr th {\n",
              "        vertical-align: top;\n",
              "    }\n",
              "\n",
              "    .dataframe thead th {\n",
              "        text-align: right;\n",
              "    }\n",
              "</style>\n",
              "<table border=\"1\" class=\"dataframe\">\n",
              "  <thead>\n",
              "    <tr style=\"text-align: right;\">\n",
              "      <th></th>\n",
              "      <th>ID</th>\n",
              "      <th>Study</th>\n",
              "      <th>Group</th>\n",
              "      <th>Subjnum</th>\n",
              "      <th>Gender</th>\n",
              "      <th>Age</th>\n",
              "      <th>Height</th>\n",
              "      <th>Weight</th>\n",
              "      <th>HoehnYahr</th>\n",
              "      <th>UPDRS</th>\n",
              "      <th>UPDRSM</th>\n",
              "      <th>TUAG</th>\n",
              "      <th>Speed_01</th>\n",
              "      <th>Speed_02</th>\n",
              "      <th>Speed_03</th>\n",
              "      <th>Speed_04</th>\n",
              "      <th>Speed_05</th>\n",
              "      <th>Speed_06</th>\n",
              "      <th>Speed_07</th>\n",
              "      <th>Speed_10</th>\n",
              "    </tr>\n",
              "  </thead>\n",
              "  <tbody>\n",
              "    <tr>\n",
              "      <th>0</th>\n",
              "      <td>GaPt03</td>\n",
              "      <td>Ga</td>\n",
              "      <td>1</td>\n",
              "      <td>3</td>\n",
              "      <td>2</td>\n",
              "      <td>82</td>\n",
              "      <td>1.45</td>\n",
              "      <td>50.0</td>\n",
              "      <td>3.0</td>\n",
              "      <td>20.0</td>\n",
              "      <td>10.0</td>\n",
              "      <td>36.34</td>\n",
              "      <td>NaN</td>\n",
              "      <td>NaN</td>\n",
              "      <td>NaN</td>\n",
              "      <td>NaN</td>\n",
              "      <td>NaN</td>\n",
              "      <td>NaN</td>\n",
              "      <td>NaN</td>\n",
              "      <td>0.778</td>\n",
              "    </tr>\n",
              "    <tr>\n",
              "      <th>1</th>\n",
              "      <td>GaPt04</td>\n",
              "      <td>Ga</td>\n",
              "      <td>1</td>\n",
              "      <td>4</td>\n",
              "      <td>1</td>\n",
              "      <td>68</td>\n",
              "      <td>1.71</td>\n",
              "      <td>NaN</td>\n",
              "      <td>2.5</td>\n",
              "      <td>25.0</td>\n",
              "      <td>8.0</td>\n",
              "      <td>11.00</td>\n",
              "      <td>0.642</td>\n",
              "      <td>NaN</td>\n",
              "      <td>NaN</td>\n",
              "      <td>NaN</td>\n",
              "      <td>NaN</td>\n",
              "      <td>NaN</td>\n",
              "      <td>NaN</td>\n",
              "      <td>0.818</td>\n",
              "    </tr>\n",
              "    <tr>\n",
              "      <th>2</th>\n",
              "      <td>GaPt05</td>\n",
              "      <td>Ga</td>\n",
              "      <td>1</td>\n",
              "      <td>5</td>\n",
              "      <td>2</td>\n",
              "      <td>82</td>\n",
              "      <td>1.53</td>\n",
              "      <td>51.0</td>\n",
              "      <td>2.5</td>\n",
              "      <td>24.0</td>\n",
              "      <td>5.0</td>\n",
              "      <td>14.50</td>\n",
              "      <td>0.908</td>\n",
              "      <td>NaN</td>\n",
              "      <td>NaN</td>\n",
              "      <td>NaN</td>\n",
              "      <td>NaN</td>\n",
              "      <td>NaN</td>\n",
              "      <td>NaN</td>\n",
              "      <td>0.614</td>\n",
              "    </tr>\n",
              "    <tr>\n",
              "      <th>3</th>\n",
              "      <td>GaPt06</td>\n",
              "      <td>Ga</td>\n",
              "      <td>1</td>\n",
              "      <td>6</td>\n",
              "      <td>1</td>\n",
              "      <td>72</td>\n",
              "      <td>1.70</td>\n",
              "      <td>82.0</td>\n",
              "      <td>2.0</td>\n",
              "      <td>16.0</td>\n",
              "      <td>13.0</td>\n",
              "      <td>10.47</td>\n",
              "      <td>0.848</td>\n",
              "      <td>NaN</td>\n",
              "      <td>NaN</td>\n",
              "      <td>NaN</td>\n",
              "      <td>NaN</td>\n",
              "      <td>NaN</td>\n",
              "      <td>NaN</td>\n",
              "      <td>0.937</td>\n",
              "    </tr>\n",
              "    <tr>\n",
              "      <th>4</th>\n",
              "      <td>GaPt07</td>\n",
              "      <td>Ga</td>\n",
              "      <td>1</td>\n",
              "      <td>7</td>\n",
              "      <td>2</td>\n",
              "      <td>53</td>\n",
              "      <td>1.67</td>\n",
              "      <td>54.0</td>\n",
              "      <td>3.0</td>\n",
              "      <td>44.0</td>\n",
              "      <td>22.0</td>\n",
              "      <td>18.34</td>\n",
              "      <td>0.677</td>\n",
              "      <td>0.957</td>\n",
              "      <td>NaN</td>\n",
              "      <td>NaN</td>\n",
              "      <td>NaN</td>\n",
              "      <td>NaN</td>\n",
              "      <td>NaN</td>\n",
              "      <td>0.579</td>\n",
              "    </tr>\n",
              "    <tr>\n",
              "      <th>...</th>\n",
              "      <td>...</td>\n",
              "      <td>...</td>\n",
              "      <td>...</td>\n",
              "      <td>...</td>\n",
              "      <td>...</td>\n",
              "      <td>...</td>\n",
              "      <td>...</td>\n",
              "      <td>...</td>\n",
              "      <td>...</td>\n",
              "      <td>...</td>\n",
              "      <td>...</td>\n",
              "      <td>...</td>\n",
              "      <td>...</td>\n",
              "      <td>...</td>\n",
              "      <td>...</td>\n",
              "      <td>...</td>\n",
              "      <td>...</td>\n",
              "      <td>...</td>\n",
              "      <td>...</td>\n",
              "      <td>...</td>\n",
              "    </tr>\n",
              "    <tr>\n",
              "      <th>161</th>\n",
              "      <td>SiCo26</td>\n",
              "      <td>Si</td>\n",
              "      <td>2</td>\n",
              "      <td>26</td>\n",
              "      <td>1</td>\n",
              "      <td>60</td>\n",
              "      <td>1.74</td>\n",
              "      <td>72.0</td>\n",
              "      <td>0.0</td>\n",
              "      <td>NaN</td>\n",
              "      <td>NaN</td>\n",
              "      <td>9.20</td>\n",
              "      <td>1.000</td>\n",
              "      <td>NaN</td>\n",
              "      <td>NaN</td>\n",
              "      <td>NaN</td>\n",
              "      <td>NaN</td>\n",
              "      <td>NaN</td>\n",
              "      <td>NaN</td>\n",
              "      <td>NaN</td>\n",
              "    </tr>\n",
              "    <tr>\n",
              "      <th>162</th>\n",
              "      <td>SiCo27</td>\n",
              "      <td>Si</td>\n",
              "      <td>2</td>\n",
              "      <td>27</td>\n",
              "      <td>1</td>\n",
              "      <td>67</td>\n",
              "      <td>1.90</td>\n",
              "      <td>95.0</td>\n",
              "      <td>0.0</td>\n",
              "      <td>NaN</td>\n",
              "      <td>NaN</td>\n",
              "      <td>12.52</td>\n",
              "      <td>1.120</td>\n",
              "      <td>NaN</td>\n",
              "      <td>NaN</td>\n",
              "      <td>NaN</td>\n",
              "      <td>NaN</td>\n",
              "      <td>NaN</td>\n",
              "      <td>NaN</td>\n",
              "      <td>NaN</td>\n",
              "    </tr>\n",
              "    <tr>\n",
              "      <th>163</th>\n",
              "      <td>SiCo28</td>\n",
              "      <td>Si</td>\n",
              "      <td>2</td>\n",
              "      <td>28</td>\n",
              "      <td>1</td>\n",
              "      <td>61</td>\n",
              "      <td>1.70</td>\n",
              "      <td>72.0</td>\n",
              "      <td>0.0</td>\n",
              "      <td>NaN</td>\n",
              "      <td>NaN</td>\n",
              "      <td>12.65</td>\n",
              "      <td>0.990</td>\n",
              "      <td>NaN</td>\n",
              "      <td>NaN</td>\n",
              "      <td>NaN</td>\n",
              "      <td>NaN</td>\n",
              "      <td>NaN</td>\n",
              "      <td>NaN</td>\n",
              "      <td>NaN</td>\n",
              "    </tr>\n",
              "    <tr>\n",
              "      <th>164</th>\n",
              "      <td>SiCo29</td>\n",
              "      <td>Si</td>\n",
              "      <td>2</td>\n",
              "      <td>29</td>\n",
              "      <td>1</td>\n",
              "      <td>53</td>\n",
              "      <td>1.70</td>\n",
              "      <td>87.0</td>\n",
              "      <td>0.0</td>\n",
              "      <td>NaN</td>\n",
              "      <td>NaN</td>\n",
              "      <td>11.41</td>\n",
              "      <td>1.290</td>\n",
              "      <td>NaN</td>\n",
              "      <td>NaN</td>\n",
              "      <td>NaN</td>\n",
              "      <td>NaN</td>\n",
              "      <td>NaN</td>\n",
              "      <td>NaN</td>\n",
              "      <td>NaN</td>\n",
              "    </tr>\n",
              "    <tr>\n",
              "      <th>165</th>\n",
              "      <td>SiCo30</td>\n",
              "      <td>Si</td>\n",
              "      <td>2</td>\n",
              "      <td>30</td>\n",
              "      <td>1</td>\n",
              "      <td>63</td>\n",
              "      <td>1.74</td>\n",
              "      <td>82.0</td>\n",
              "      <td>0.0</td>\n",
              "      <td>NaN</td>\n",
              "      <td>NaN</td>\n",
              "      <td>8.68</td>\n",
              "      <td>1.420</td>\n",
              "      <td>NaN</td>\n",
              "      <td>NaN</td>\n",
              "      <td>NaN</td>\n",
              "      <td>NaN</td>\n",
              "      <td>NaN</td>\n",
              "      <td>NaN</td>\n",
              "      <td>NaN</td>\n",
              "    </tr>\n",
              "  </tbody>\n",
              "</table>\n",
              "<p>165 rows × 20 columns</p>\n",
              "</div>\n",
              "      <button class=\"colab-df-convert\" onclick=\"convertToInteractive('df-3c847d8e-6e5b-4597-bd0c-3b09bbe01825')\"\n",
              "              title=\"Convert this dataframe to an interactive table.\"\n",
              "              style=\"display:none;\">\n",
              "        \n",
              "  <svg xmlns=\"http://www.w3.org/2000/svg\" height=\"24px\"viewBox=\"0 0 24 24\"\n",
              "       width=\"24px\">\n",
              "    <path d=\"M0 0h24v24H0V0z\" fill=\"none\"/>\n",
              "    <path d=\"M18.56 5.44l.94 2.06.94-2.06 2.06-.94-2.06-.94-.94-2.06-.94 2.06-2.06.94zm-11 1L8.5 8.5l.94-2.06 2.06-.94-2.06-.94L8.5 2.5l-.94 2.06-2.06.94zm10 10l.94 2.06.94-2.06 2.06-.94-2.06-.94-.94-2.06-.94 2.06-2.06.94z\"/><path d=\"M17.41 7.96l-1.37-1.37c-.4-.4-.92-.59-1.43-.59-.52 0-1.04.2-1.43.59L10.3 9.45l-7.72 7.72c-.78.78-.78 2.05 0 2.83L4 21.41c.39.39.9.59 1.41.59.51 0 1.02-.2 1.41-.59l7.78-7.78 2.81-2.81c.8-.78.8-2.07 0-2.86zM5.41 20L4 18.59l7.72-7.72 1.47 1.35L5.41 20z\"/>\n",
              "  </svg>\n",
              "      </button>\n",
              "      \n",
              "  <style>\n",
              "    .colab-df-container {\n",
              "      display:flex;\n",
              "      flex-wrap:wrap;\n",
              "      gap: 12px;\n",
              "    }\n",
              "\n",
              "    .colab-df-convert {\n",
              "      background-color: #E8F0FE;\n",
              "      border: none;\n",
              "      border-radius: 50%;\n",
              "      cursor: pointer;\n",
              "      display: none;\n",
              "      fill: #1967D2;\n",
              "      height: 32px;\n",
              "      padding: 0 0 0 0;\n",
              "      width: 32px;\n",
              "    }\n",
              "\n",
              "    .colab-df-convert:hover {\n",
              "      background-color: #E2EBFA;\n",
              "      box-shadow: 0px 1px 2px rgba(60, 64, 67, 0.3), 0px 1px 3px 1px rgba(60, 64, 67, 0.15);\n",
              "      fill: #174EA6;\n",
              "    }\n",
              "\n",
              "    [theme=dark] .colab-df-convert {\n",
              "      background-color: #3B4455;\n",
              "      fill: #D2E3FC;\n",
              "    }\n",
              "\n",
              "    [theme=dark] .colab-df-convert:hover {\n",
              "      background-color: #434B5C;\n",
              "      box-shadow: 0px 1px 3px 1px rgba(0, 0, 0, 0.15);\n",
              "      filter: drop-shadow(0px 1px 2px rgba(0, 0, 0, 0.3));\n",
              "      fill: #FFFFFF;\n",
              "    }\n",
              "  </style>\n",
              "\n",
              "      <script>\n",
              "        const buttonEl =\n",
              "          document.querySelector('#df-3c847d8e-6e5b-4597-bd0c-3b09bbe01825 button.colab-df-convert');\n",
              "        buttonEl.style.display =\n",
              "          google.colab.kernel.accessAllowed ? 'block' : 'none';\n",
              "\n",
              "        async function convertToInteractive(key) {\n",
              "          const element = document.querySelector('#df-3c847d8e-6e5b-4597-bd0c-3b09bbe01825');\n",
              "          const dataTable =\n",
              "            await google.colab.kernel.invokeFunction('convertToInteractive',\n",
              "                                                     [key], {});\n",
              "          if (!dataTable) return;\n",
              "\n",
              "          const docLinkHtml = 'Like what you see? Visit the ' +\n",
              "            '<a target=\"_blank\" href=https://colab.research.google.com/notebooks/data_table.ipynb>data table notebook</a>'\n",
              "            + ' to learn more about interactive tables.';\n",
              "          element.innerHTML = '';\n",
              "          dataTable['output_type'] = 'display_data';\n",
              "          await google.colab.output.renderOutput(dataTable, element);\n",
              "          const docLink = document.createElement('div');\n",
              "          docLink.innerHTML = docLinkHtml;\n",
              "          element.appendChild(docLink);\n",
              "        }\n",
              "      </script>\n",
              "    </div>\n",
              "  </div>\n",
              "  "
            ]
          },
          "metadata": {},
          "execution_count": 40
        }
      ]
    },
    {
      "cell_type": "code",
      "source": [
        "demographics.to_csv(Processed_Data + '/demographics_HYprocessed.csv', index =False)"
      ],
      "metadata": {
        "id": "ex4ZCNC-8K1L"
      },
      "execution_count": null,
      "outputs": []
    },
    {
      "cell_type": "markdown",
      "source": [
        "### Train-Test Data (Force + Demographics) Split"
      ],
      "metadata": {
        "id": "2i2HZXPtzRF8"
      }
    },
    {
      "cell_type": "code",
      "source": [
        "train_path =Processed_Data + 'train'\n",
        "test_path =Processed_Data + 'test'\n",
        "\n",
        "count = len(os.listdir(csvD_path))\n",
        "train_count = int(80/100*count)\n",
        "test_count = count - train_count\n",
        "\n",
        "print(\"Training Count Subjects = \", train_count)\n",
        "print(\"Test Count Subjects = \", test_count)\n",
        "\n",
        "category = 'train'\n",
        "counter = 1\n",
        "\n",
        "ypath = Processed_Data + '/y_' + category + '.txt'\n",
        "yfile = open(ypath, \"a\")\n",
        "hypath = Processed_Data + '/hyscore_' + category + '.txt'\n",
        "hyfile = open(hypath, \"a\")\n",
        "\n",
        "for name in os.listdir(csvD_path):\n",
        "  if counter == train_count + 1:\n",
        "    yfile.flush()\n",
        "    yfile.close()\n",
        "    hyfile.flush()\n",
        "    hyfile.close()\n",
        "    \n",
        "    category = 'test'    \n",
        "    ypath = Processed_Data + '/y_' + category + '.txt'\n",
        "    yfile = open(ypath, \"a\")\n",
        "    hypath = Processed_Data + '/hyscore_' + category + '.txt'\n",
        "    hyfile = open(hypath, \"a\")\n",
        "  print(counter, name, category)\n",
        "  \n",
        "  sub_name = name.split('_')[0]\n",
        "  sub_class = demographics[demographics['ID'] == sub_name]['Group'].to_string(index=False).strip()\n",
        "  hy_class = demographics[demographics['ID'] == sub_name]['HoehnYahr'].to_string(index=False).strip()\n",
        "  sub_data = pd.read_csv(csvD_path + '/' + name)\n",
        "  features = sub_data.columns.to_list()\n",
        "\n",
        "  full_size = 2\n",
        "  overlap = 0.5\n",
        "  overlap_size = int(full_size * overlap / 2)\n",
        "  entry_size = full_size - overlap_size\n",
        "  \n",
        "  for i in range(0, sub_data.shape[0], entry_size):\n",
        "    if sub_data.shape[0] >= i + entry_size + overlap_size:\n",
        "      yfile.write(sub_class + \"\\n\")\n",
        "      hyfile.write(hy_class + \"\\n\")\n",
        "      \n",
        "      for fname in features:\n",
        "        path_name = Processed_Data+'/' + category + '/'\n",
        "        file_name = fname + '_' + category + '.txt'\n",
        "        with open(path_name + file_name, 'a') as feat_file:\n",
        "          arr = sub_data.iloc[i:i + entry_size + overlap_size, ][fname].to_numpy()\n",
        "          # print(i, len(arr), end = ' | ')\n",
        "          feat_file.write(' '.join(map(str, arr)) + \"\\n\")\n",
        "\n",
        "  counter = counter + 1\n",
        "yfile.flush()\n",
        "yfile.close()\n",
        "hyfile.flush()\n",
        "yfile.close()"
      ],
      "metadata": {
        "id": "fXxqUyk4uY21"
      },
      "execution_count": null,
      "outputs": []
    },
    {
      "cell_type": "markdown",
      "source": [
        "### Calculating statical data"
      ],
      "metadata": {
        "id": "kbE3eLXKbz_H"
      }
    },
    {
      "cell_type": "code",
      "source": [
        "# loop over the csv files of Force data and calculate static values for each feature \n",
        "\n",
        "# lists for the files' names for the two cases : Parkinson's D and Control data\n",
        "files_co = []\n",
        "files_pt = []\n",
        "\n",
        "# Getting the files names for PD and control\n",
        "for name in os.listdir(csvD_path):\n",
        "    if 'Co' in name:\n",
        "        files_co.append(csvD_path+'/' + name)\n",
        "    elif 'Pt' in name:\n",
        "        files_pt.append(csvD_path+'/' + name)\n",
        "\n",
        "\n",
        "# paths where to save static data\n",
        "co_st_path = Processed_Data + '/Co_statical.csv'\n",
        "pt_st_path = Processed_Data + '/Pt_statical.csv'"
      ],
      "metadata": {
        "id": "TO02yi5ugSXM"
      },
      "execution_count": null,
      "outputs": []
    },
    {
      "cell_type": "code",
      "source": [
        "static_co_df = pd.DataFrame()\n",
        "for i,file in enumerate(tqdm(files_co)):\n",
        "    #global df, static_co_df\n",
        "\n",
        "    df = pd.read_csv(file)\n",
        "    for col in df.columns:\n",
        "        for x in [\"Min\", \"Max\", \"Std\", \"Med\", \"Avg\", \"Skewness\", \"Kurtosis\"]:\n",
        "            colname = col +'_' +  x\n",
        "            if x == 'Min':\n",
        "                static_co_df.loc[i, colname] = df[col].min(axis=0)\n",
        "                \n",
        "            if x == 'Max':\n",
        "                static_co_df.loc[i, colname] = df[col].max(axis=0)\n",
        "                \n",
        "            if x == 'Std':\n",
        "                static_co_df.loc[i, colname] = df[col].std(axis=0)\n",
        "                \n",
        "            if x == 'Med':\n",
        "                static_co_df.loc[i, colname] = df[col].median(axis=0)\n",
        "                \n",
        "            if x == 'Avg':\n",
        "                static_co_df.loc[i, colname] = df[col].mean(axis=0)\n",
        "            if x == 'Skewness':\n",
        "                static_co_df.loc[i, colname] = df[col].skew(axis=0)\n",
        "                \n",
        "            if x == 'Kurtosis':\n",
        "                static_co_df.loc[i, colname] = df[col].kurtosis(axis=0)"
      ],
      "metadata": {
        "colab": {
          "base_uri": "https://localhost:8080/"
        },
        "id": "jNB0EY_gb121",
        "outputId": "2ecfd038-38fd-4ad0-e58b-5e62f3e325f3"
      },
      "execution_count": null,
      "outputs": [
        {
          "output_type": "stream",
          "name": "stderr",
          "text": [
            "  0%|          | 0/92 [00:00<?, ?it/s]/usr/local/lib/python3.7/dist-packages/pandas/core/indexing.py:1684: PerformanceWarning: DataFrame is highly fragmented.  This is usually the result of calling `frame.insert` many times, which has poor performance.  Consider joining all columns at once using pd.concat(axis=1) instead.  To get a de-fragmented frame, use `newframe = frame.copy()`\n",
            "  self.obj[key] = infer_fill_value(value)\n",
            "/usr/local/lib/python3.7/dist-packages/pandas/core/indexing.py:1684: PerformanceWarning: DataFrame is highly fragmented.  This is usually the result of calling `frame.insert` many times, which has poor performance.  Consider joining all columns at once using pd.concat(axis=1) instead.  To get a de-fragmented frame, use `newframe = frame.copy()`\n",
            "  self.obj[key] = infer_fill_value(value)\n",
            "/usr/local/lib/python3.7/dist-packages/pandas/core/indexing.py:1684: PerformanceWarning: DataFrame is highly fragmented.  This is usually the result of calling `frame.insert` many times, which has poor performance.  Consider joining all columns at once using pd.concat(axis=1) instead.  To get a de-fragmented frame, use `newframe = frame.copy()`\n",
            "  self.obj[key] = infer_fill_value(value)\n",
            "/usr/local/lib/python3.7/dist-packages/pandas/core/indexing.py:1684: PerformanceWarning: DataFrame is highly fragmented.  This is usually the result of calling `frame.insert` many times, which has poor performance.  Consider joining all columns at once using pd.concat(axis=1) instead.  To get a de-fragmented frame, use `newframe = frame.copy()`\n",
            "  self.obj[key] = infer_fill_value(value)\n",
            "/usr/local/lib/python3.7/dist-packages/pandas/core/indexing.py:1684: PerformanceWarning: DataFrame is highly fragmented.  This is usually the result of calling `frame.insert` many times, which has poor performance.  Consider joining all columns at once using pd.concat(axis=1) instead.  To get a de-fragmented frame, use `newframe = frame.copy()`\n",
            "  self.obj[key] = infer_fill_value(value)\n",
            "/usr/local/lib/python3.7/dist-packages/pandas/core/indexing.py:1684: PerformanceWarning: DataFrame is highly fragmented.  This is usually the result of calling `frame.insert` many times, which has poor performance.  Consider joining all columns at once using pd.concat(axis=1) instead.  To get a de-fragmented frame, use `newframe = frame.copy()`\n",
            "  self.obj[key] = infer_fill_value(value)\n",
            "100%|██████████| 92/92 [00:06<00:00, 14.71it/s]\n"
          ]
        }
      ]
    },
    {
      "cell_type": "code",
      "source": [
        "static_co_df.to_csv(co_st_path, index = False)"
      ],
      "metadata": {
        "id": "O-7EEv4mfZIJ"
      },
      "execution_count": null,
      "outputs": []
    },
    {
      "cell_type": "code",
      "source": [
        "static_pt_df = pd.DataFrame()\n",
        "for i,file in enumerate(tqdm(files_pt)):\n",
        "    #global df, static_co_df\n",
        "\n",
        "    df = pd.read_csv(file)\n",
        "    for col in df.columns:\n",
        "        for x in [\"Min\", \"Max\", \"Std\", \"Med\", \"Avg\", \"Skewness\", \"Kurtosis\"]:\n",
        "            colname = col +'_' +  x\n",
        "            if x == 'Min':\n",
        "                static_pt_df.loc[i, colname] = df[col].min(axis=0)\n",
        "                \n",
        "            if x == 'Max':\n",
        "                static_pt_df.loc[i, colname] = df[col].max(axis=0)\n",
        "                \n",
        "            if x == 'Std':\n",
        "                static_pt_df.loc[i, colname] = df[col].std(axis=0)\n",
        "                \n",
        "            if x == 'Med':\n",
        "                static_pt_df.loc[i, colname] = df[col].median(axis=0)\n",
        "                \n",
        "            if x == 'Avg':\n",
        "                static_pt_df.loc[i, colname] = df[col].mean(axis=0)\n",
        "            if x == 'Skewness':\n",
        "                static_pt_df.loc[i, colname] = df[col].skew(axis=0)\n",
        "                \n",
        "            if x == 'Kurtosis':\n",
        "                static_pt_df.loc[i, colname] = df[col].kurtosis(axis=0)"
      ],
      "metadata": {
        "colab": {
          "base_uri": "https://localhost:8080/"
        },
        "id": "PYJfYFMGfk-u",
        "outputId": "b108a8ad-bcae-4184-9b7e-a38c35887ea1"
      },
      "execution_count": null,
      "outputs": [
        {
          "output_type": "stream",
          "name": "stderr",
          "text": [
            "  0%|          | 0/214 [00:00<?, ?it/s]/usr/local/lib/python3.7/dist-packages/pandas/core/indexing.py:1684: PerformanceWarning: DataFrame is highly fragmented.  This is usually the result of calling `frame.insert` many times, which has poor performance.  Consider joining all columns at once using pd.concat(axis=1) instead.  To get a de-fragmented frame, use `newframe = frame.copy()`\n",
            "  self.obj[key] = infer_fill_value(value)\n",
            "/usr/local/lib/python3.7/dist-packages/pandas/core/indexing.py:1684: PerformanceWarning: DataFrame is highly fragmented.  This is usually the result of calling `frame.insert` many times, which has poor performance.  Consider joining all columns at once using pd.concat(axis=1) instead.  To get a de-fragmented frame, use `newframe = frame.copy()`\n",
            "  self.obj[key] = infer_fill_value(value)\n",
            "/usr/local/lib/python3.7/dist-packages/pandas/core/indexing.py:1684: PerformanceWarning: DataFrame is highly fragmented.  This is usually the result of calling `frame.insert` many times, which has poor performance.  Consider joining all columns at once using pd.concat(axis=1) instead.  To get a de-fragmented frame, use `newframe = frame.copy()`\n",
            "  self.obj[key] = infer_fill_value(value)\n",
            "/usr/local/lib/python3.7/dist-packages/pandas/core/indexing.py:1684: PerformanceWarning: DataFrame is highly fragmented.  This is usually the result of calling `frame.insert` many times, which has poor performance.  Consider joining all columns at once using pd.concat(axis=1) instead.  To get a de-fragmented frame, use `newframe = frame.copy()`\n",
            "  self.obj[key] = infer_fill_value(value)\n",
            "/usr/local/lib/python3.7/dist-packages/pandas/core/indexing.py:1684: PerformanceWarning: DataFrame is highly fragmented.  This is usually the result of calling `frame.insert` many times, which has poor performance.  Consider joining all columns at once using pd.concat(axis=1) instead.  To get a de-fragmented frame, use `newframe = frame.copy()`\n",
            "  self.obj[key] = infer_fill_value(value)\n",
            "/usr/local/lib/python3.7/dist-packages/pandas/core/indexing.py:1684: PerformanceWarning: DataFrame is highly fragmented.  This is usually the result of calling `frame.insert` many times, which has poor performance.  Consider joining all columns at once using pd.concat(axis=1) instead.  To get a de-fragmented frame, use `newframe = frame.copy()`\n",
            "  self.obj[key] = infer_fill_value(value)\n",
            "100%|██████████| 214/214 [00:11<00:00, 17.90it/s]\n"
          ]
        }
      ]
    },
    {
      "cell_type": "code",
      "source": [
        "static_pt_df.to_csv(pt_st_path, index = False)"
      ],
      "metadata": {
        "id": "n4RRpEv6gFw8"
      },
      "execution_count": null,
      "outputs": []
    },
    {
      "cell_type": "markdown",
      "source": [
        "### Reading statical data"
      ],
      "metadata": {
        "id": "Wgo0Xi-wgUzP"
      }
    },
    {
      "cell_type": "code",
      "source": [
        "# paths where to read static data\n",
        "co_st_path = Processed_Data + '/Co_statical.csv'\n",
        "pt_st_path = Processed_Data + '/Pt_statical.csv'"
      ],
      "metadata": {
        "id": "MVRwIg8RkH35"
      },
      "execution_count": null,
      "outputs": []
    },
    {
      "cell_type": "code",
      "source": [
        "static_pt_df = pd.read_csv(pt_st_path)"
      ],
      "metadata": {
        "id": "1_EBF9ZNgMjW"
      },
      "execution_count": null,
      "outputs": []
    },
    {
      "cell_type": "code",
      "source": [
        "static_pt_df"
      ],
      "metadata": {
        "colab": {
          "base_uri": "https://localhost:8080/",
          "height": 488
        },
        "id": "kxcUARafgak-",
        "outputId": "291d1c8a-4651-48d4-f4bb-068ff942ac92"
      },
      "execution_count": null,
      "outputs": [
        {
          "output_type": "execute_result",
          "data": {
            "text/plain": [
              "     Time_Min  Time_Max   Time_Std  Time_Med   Time_Avg  Time_Skewness  \\\n",
              "0         0.0  121.1715  34.983534   60.5858  60.585759   4.286546e-09   \n",
              "1         0.0  121.1715  34.983534   60.5858  60.585759   4.286546e-09   \n",
              "2         0.0  121.1715  34.983534   60.5858  60.585759   4.286546e-09   \n",
              "3         0.0  121.1715  34.983534   60.5858  60.585759   4.286546e-09   \n",
              "4         0.0  121.1715  34.983534   60.5858  60.585759   4.286546e-09   \n",
              "..        ...       ...        ...       ...        ...            ...   \n",
              "209       0.0  121.1715  34.983534   60.5858  60.585759   4.286546e-09   \n",
              "210       0.0  121.1715  34.983534   60.5858  60.585759   4.286546e-09   \n",
              "211       0.0  121.1715  34.983534   60.5858  60.585759   4.286546e-09   \n",
              "212       0.0  121.1715  34.983534   60.5858  60.585759   4.286546e-09   \n",
              "213       0.0  121.1715  34.983534   60.5858  60.585759   4.286546e-09   \n",
              "\n",
              "     Time_Kurtosis  L1_Min  L1_Max      L1_Std  ...  Total_Force_Left_Avg  \\\n",
              "0             -1.2     0.0  106.92   27.669679  ...            343.433216   \n",
              "1             -1.2     0.0  302.72   36.389051  ...            472.857451   \n",
              "2             -1.2     0.0  188.32   33.043802  ...            363.901857   \n",
              "3             -1.2     0.0  308.55  100.189524  ...            465.003393   \n",
              "4             -1.2     0.0  316.36   63.709001  ...            485.447690   \n",
              "..             ...     ...     ...         ...  ...                   ...   \n",
              "209           -1.2     0.0  302.17   56.161618  ...            428.969820   \n",
              "210           -1.2     0.0  360.69   73.349271  ...            619.404817   \n",
              "211           -1.2     0.0  405.79  135.177625  ...            565.171078   \n",
              "212           -1.2     0.0  401.83  107.402565  ...            494.790293   \n",
              "213           -1.2     0.0  325.93   91.002703  ...            495.963251   \n",
              "\n",
              "     Total_Force_Left_Skewness  Total_Force_Left_Kurtosis  \\\n",
              "0                    -0.052469                  -1.687438   \n",
              "1                    -0.118487                  -1.828238   \n",
              "2                     0.011314                  -1.722580   \n",
              "3                    -0.059392                  -1.732254   \n",
              "4                    -0.206446                  -1.586145   \n",
              "..                         ...                        ...   \n",
              "209                  -0.088808                  -1.707781   \n",
              "210                  -0.000162                  -1.647349   \n",
              "211                  -0.049955                  -1.750190   \n",
              "212                  -0.036889                  -1.744017   \n",
              "213                   0.124144                  -1.612608   \n",
              "\n",
              "     Total_Force_Right_Min  Total_Force_Right_Max  Total_Force_Right_Std  \\\n",
              "0                      0.0                 785.40             301.697231   \n",
              "1                      0.0                1000.56             415.672494   \n",
              "2                      0.0                 922.79             358.410486   \n",
              "3                      0.0                1008.70             395.816662   \n",
              "4                      0.0                1192.62             397.039576   \n",
              "..                     ...                    ...                    ...   \n",
              "209                    0.0                 917.29             339.372594   \n",
              "210                    0.0                1303.72             453.807966   \n",
              "211                    0.0                1182.61             450.440619   \n",
              "212                    0.0                1151.15             396.927345   \n",
              "213                    0.0                1165.01             411.879514   \n",
              "\n",
              "     Total_Force_Right_Med  Total_Force_Right_Avg  Total_Force_Right_Skewness  \\\n",
              "0                   395.01             364.761489                   -0.028738   \n",
              "1                   545.49             480.988247                   -0.066158   \n",
              "2                   587.29             405.510439                   -0.108921   \n",
              "3                   565.62             488.193515                   -0.109725   \n",
              "4                   445.17             445.053855                    0.155510   \n",
              "..                     ...                    ...                         ...   \n",
              "209                 544.61             422.322767                   -0.188193   \n",
              "210                 647.68             533.579121                   -0.004403   \n",
              "211                 597.52             546.551061                   -0.078488   \n",
              "212                 621.06             473.149084                   -0.123022   \n",
              "213                 585.31             499.829725                   -0.044707   \n",
              "\n",
              "     Total_Force_Right_Kurtosis  \n",
              "0                     -1.686813  \n",
              "1                     -1.816188  \n",
              "2                     -1.833495  \n",
              "3                     -1.703317  \n",
              "4                     -1.545189  \n",
              "..                          ...  \n",
              "209                   -1.682274  \n",
              "210                   -1.673542  \n",
              "211                   -1.716723  \n",
              "212                   -1.699132  \n",
              "213                   -1.660289  \n",
              "\n",
              "[214 rows x 133 columns]"
            ],
            "text/html": [
              "\n",
              "  <div id=\"df-f7eb6af1-d7f4-4255-bf14-6503f902690a\">\n",
              "    <div class=\"colab-df-container\">\n",
              "      <div>\n",
              "<style scoped>\n",
              "    .dataframe tbody tr th:only-of-type {\n",
              "        vertical-align: middle;\n",
              "    }\n",
              "\n",
              "    .dataframe tbody tr th {\n",
              "        vertical-align: top;\n",
              "    }\n",
              "\n",
              "    .dataframe thead th {\n",
              "        text-align: right;\n",
              "    }\n",
              "</style>\n",
              "<table border=\"1\" class=\"dataframe\">\n",
              "  <thead>\n",
              "    <tr style=\"text-align: right;\">\n",
              "      <th></th>\n",
              "      <th>Time_Min</th>\n",
              "      <th>Time_Max</th>\n",
              "      <th>Time_Std</th>\n",
              "      <th>Time_Med</th>\n",
              "      <th>Time_Avg</th>\n",
              "      <th>Time_Skewness</th>\n",
              "      <th>Time_Kurtosis</th>\n",
              "      <th>L1_Min</th>\n",
              "      <th>L1_Max</th>\n",
              "      <th>L1_Std</th>\n",
              "      <th>...</th>\n",
              "      <th>Total_Force_Left_Avg</th>\n",
              "      <th>Total_Force_Left_Skewness</th>\n",
              "      <th>Total_Force_Left_Kurtosis</th>\n",
              "      <th>Total_Force_Right_Min</th>\n",
              "      <th>Total_Force_Right_Max</th>\n",
              "      <th>Total_Force_Right_Std</th>\n",
              "      <th>Total_Force_Right_Med</th>\n",
              "      <th>Total_Force_Right_Avg</th>\n",
              "      <th>Total_Force_Right_Skewness</th>\n",
              "      <th>Total_Force_Right_Kurtosis</th>\n",
              "    </tr>\n",
              "  </thead>\n",
              "  <tbody>\n",
              "    <tr>\n",
              "      <th>0</th>\n",
              "      <td>0.0</td>\n",
              "      <td>121.1715</td>\n",
              "      <td>34.983534</td>\n",
              "      <td>60.5858</td>\n",
              "      <td>60.585759</td>\n",
              "      <td>4.286546e-09</td>\n",
              "      <td>-1.2</td>\n",
              "      <td>0.0</td>\n",
              "      <td>106.92</td>\n",
              "      <td>27.669679</td>\n",
              "      <td>...</td>\n",
              "      <td>343.433216</td>\n",
              "      <td>-0.052469</td>\n",
              "      <td>-1.687438</td>\n",
              "      <td>0.0</td>\n",
              "      <td>785.40</td>\n",
              "      <td>301.697231</td>\n",
              "      <td>395.01</td>\n",
              "      <td>364.761489</td>\n",
              "      <td>-0.028738</td>\n",
              "      <td>-1.686813</td>\n",
              "    </tr>\n",
              "    <tr>\n",
              "      <th>1</th>\n",
              "      <td>0.0</td>\n",
              "      <td>121.1715</td>\n",
              "      <td>34.983534</td>\n",
              "      <td>60.5858</td>\n",
              "      <td>60.585759</td>\n",
              "      <td>4.286546e-09</td>\n",
              "      <td>-1.2</td>\n",
              "      <td>0.0</td>\n",
              "      <td>302.72</td>\n",
              "      <td>36.389051</td>\n",
              "      <td>...</td>\n",
              "      <td>472.857451</td>\n",
              "      <td>-0.118487</td>\n",
              "      <td>-1.828238</td>\n",
              "      <td>0.0</td>\n",
              "      <td>1000.56</td>\n",
              "      <td>415.672494</td>\n",
              "      <td>545.49</td>\n",
              "      <td>480.988247</td>\n",
              "      <td>-0.066158</td>\n",
              "      <td>-1.816188</td>\n",
              "    </tr>\n",
              "    <tr>\n",
              "      <th>2</th>\n",
              "      <td>0.0</td>\n",
              "      <td>121.1715</td>\n",
              "      <td>34.983534</td>\n",
              "      <td>60.5858</td>\n",
              "      <td>60.585759</td>\n",
              "      <td>4.286546e-09</td>\n",
              "      <td>-1.2</td>\n",
              "      <td>0.0</td>\n",
              "      <td>188.32</td>\n",
              "      <td>33.043802</td>\n",
              "      <td>...</td>\n",
              "      <td>363.901857</td>\n",
              "      <td>0.011314</td>\n",
              "      <td>-1.722580</td>\n",
              "      <td>0.0</td>\n",
              "      <td>922.79</td>\n",
              "      <td>358.410486</td>\n",
              "      <td>587.29</td>\n",
              "      <td>405.510439</td>\n",
              "      <td>-0.108921</td>\n",
              "      <td>-1.833495</td>\n",
              "    </tr>\n",
              "    <tr>\n",
              "      <th>3</th>\n",
              "      <td>0.0</td>\n",
              "      <td>121.1715</td>\n",
              "      <td>34.983534</td>\n",
              "      <td>60.5858</td>\n",
              "      <td>60.585759</td>\n",
              "      <td>4.286546e-09</td>\n",
              "      <td>-1.2</td>\n",
              "      <td>0.0</td>\n",
              "      <td>308.55</td>\n",
              "      <td>100.189524</td>\n",
              "      <td>...</td>\n",
              "      <td>465.003393</td>\n",
              "      <td>-0.059392</td>\n",
              "      <td>-1.732254</td>\n",
              "      <td>0.0</td>\n",
              "      <td>1008.70</td>\n",
              "      <td>395.816662</td>\n",
              "      <td>565.62</td>\n",
              "      <td>488.193515</td>\n",
              "      <td>-0.109725</td>\n",
              "      <td>-1.703317</td>\n",
              "    </tr>\n",
              "    <tr>\n",
              "      <th>4</th>\n",
              "      <td>0.0</td>\n",
              "      <td>121.1715</td>\n",
              "      <td>34.983534</td>\n",
              "      <td>60.5858</td>\n",
              "      <td>60.585759</td>\n",
              "      <td>4.286546e-09</td>\n",
              "      <td>-1.2</td>\n",
              "      <td>0.0</td>\n",
              "      <td>316.36</td>\n",
              "      <td>63.709001</td>\n",
              "      <td>...</td>\n",
              "      <td>485.447690</td>\n",
              "      <td>-0.206446</td>\n",
              "      <td>-1.586145</td>\n",
              "      <td>0.0</td>\n",
              "      <td>1192.62</td>\n",
              "      <td>397.039576</td>\n",
              "      <td>445.17</td>\n",
              "      <td>445.053855</td>\n",
              "      <td>0.155510</td>\n",
              "      <td>-1.545189</td>\n",
              "    </tr>\n",
              "    <tr>\n",
              "      <th>...</th>\n",
              "      <td>...</td>\n",
              "      <td>...</td>\n",
              "      <td>...</td>\n",
              "      <td>...</td>\n",
              "      <td>...</td>\n",
              "      <td>...</td>\n",
              "      <td>...</td>\n",
              "      <td>...</td>\n",
              "      <td>...</td>\n",
              "      <td>...</td>\n",
              "      <td>...</td>\n",
              "      <td>...</td>\n",
              "      <td>...</td>\n",
              "      <td>...</td>\n",
              "      <td>...</td>\n",
              "      <td>...</td>\n",
              "      <td>...</td>\n",
              "      <td>...</td>\n",
              "      <td>...</td>\n",
              "      <td>...</td>\n",
              "      <td>...</td>\n",
              "    </tr>\n",
              "    <tr>\n",
              "      <th>209</th>\n",
              "      <td>0.0</td>\n",
              "      <td>121.1715</td>\n",
              "      <td>34.983534</td>\n",
              "      <td>60.5858</td>\n",
              "      <td>60.585759</td>\n",
              "      <td>4.286546e-09</td>\n",
              "      <td>-1.2</td>\n",
              "      <td>0.0</td>\n",
              "      <td>302.17</td>\n",
              "      <td>56.161618</td>\n",
              "      <td>...</td>\n",
              "      <td>428.969820</td>\n",
              "      <td>-0.088808</td>\n",
              "      <td>-1.707781</td>\n",
              "      <td>0.0</td>\n",
              "      <td>917.29</td>\n",
              "      <td>339.372594</td>\n",
              "      <td>544.61</td>\n",
              "      <td>422.322767</td>\n",
              "      <td>-0.188193</td>\n",
              "      <td>-1.682274</td>\n",
              "    </tr>\n",
              "    <tr>\n",
              "      <th>210</th>\n",
              "      <td>0.0</td>\n",
              "      <td>121.1715</td>\n",
              "      <td>34.983534</td>\n",
              "      <td>60.5858</td>\n",
              "      <td>60.585759</td>\n",
              "      <td>4.286546e-09</td>\n",
              "      <td>-1.2</td>\n",
              "      <td>0.0</td>\n",
              "      <td>360.69</td>\n",
              "      <td>73.349271</td>\n",
              "      <td>...</td>\n",
              "      <td>619.404817</td>\n",
              "      <td>-0.000162</td>\n",
              "      <td>-1.647349</td>\n",
              "      <td>0.0</td>\n",
              "      <td>1303.72</td>\n",
              "      <td>453.807966</td>\n",
              "      <td>647.68</td>\n",
              "      <td>533.579121</td>\n",
              "      <td>-0.004403</td>\n",
              "      <td>-1.673542</td>\n",
              "    </tr>\n",
              "    <tr>\n",
              "      <th>211</th>\n",
              "      <td>0.0</td>\n",
              "      <td>121.1715</td>\n",
              "      <td>34.983534</td>\n",
              "      <td>60.5858</td>\n",
              "      <td>60.585759</td>\n",
              "      <td>4.286546e-09</td>\n",
              "      <td>-1.2</td>\n",
              "      <td>0.0</td>\n",
              "      <td>405.79</td>\n",
              "      <td>135.177625</td>\n",
              "      <td>...</td>\n",
              "      <td>565.171078</td>\n",
              "      <td>-0.049955</td>\n",
              "      <td>-1.750190</td>\n",
              "      <td>0.0</td>\n",
              "      <td>1182.61</td>\n",
              "      <td>450.440619</td>\n",
              "      <td>597.52</td>\n",
              "      <td>546.551061</td>\n",
              "      <td>-0.078488</td>\n",
              "      <td>-1.716723</td>\n",
              "    </tr>\n",
              "    <tr>\n",
              "      <th>212</th>\n",
              "      <td>0.0</td>\n",
              "      <td>121.1715</td>\n",
              "      <td>34.983534</td>\n",
              "      <td>60.5858</td>\n",
              "      <td>60.585759</td>\n",
              "      <td>4.286546e-09</td>\n",
              "      <td>-1.2</td>\n",
              "      <td>0.0</td>\n",
              "      <td>401.83</td>\n",
              "      <td>107.402565</td>\n",
              "      <td>...</td>\n",
              "      <td>494.790293</td>\n",
              "      <td>-0.036889</td>\n",
              "      <td>-1.744017</td>\n",
              "      <td>0.0</td>\n",
              "      <td>1151.15</td>\n",
              "      <td>396.927345</td>\n",
              "      <td>621.06</td>\n",
              "      <td>473.149084</td>\n",
              "      <td>-0.123022</td>\n",
              "      <td>-1.699132</td>\n",
              "    </tr>\n",
              "    <tr>\n",
              "      <th>213</th>\n",
              "      <td>0.0</td>\n",
              "      <td>121.1715</td>\n",
              "      <td>34.983534</td>\n",
              "      <td>60.5858</td>\n",
              "      <td>60.585759</td>\n",
              "      <td>4.286546e-09</td>\n",
              "      <td>-1.2</td>\n",
              "      <td>0.0</td>\n",
              "      <td>325.93</td>\n",
              "      <td>91.002703</td>\n",
              "      <td>...</td>\n",
              "      <td>495.963251</td>\n",
              "      <td>0.124144</td>\n",
              "      <td>-1.612608</td>\n",
              "      <td>0.0</td>\n",
              "      <td>1165.01</td>\n",
              "      <td>411.879514</td>\n",
              "      <td>585.31</td>\n",
              "      <td>499.829725</td>\n",
              "      <td>-0.044707</td>\n",
              "      <td>-1.660289</td>\n",
              "    </tr>\n",
              "  </tbody>\n",
              "</table>\n",
              "<p>214 rows × 133 columns</p>\n",
              "</div>\n",
              "      <button class=\"colab-df-convert\" onclick=\"convertToInteractive('df-f7eb6af1-d7f4-4255-bf14-6503f902690a')\"\n",
              "              title=\"Convert this dataframe to an interactive table.\"\n",
              "              style=\"display:none;\">\n",
              "        \n",
              "  <svg xmlns=\"http://www.w3.org/2000/svg\" height=\"24px\"viewBox=\"0 0 24 24\"\n",
              "       width=\"24px\">\n",
              "    <path d=\"M0 0h24v24H0V0z\" fill=\"none\"/>\n",
              "    <path d=\"M18.56 5.44l.94 2.06.94-2.06 2.06-.94-2.06-.94-.94-2.06-.94 2.06-2.06.94zm-11 1L8.5 8.5l.94-2.06 2.06-.94-2.06-.94L8.5 2.5l-.94 2.06-2.06.94zm10 10l.94 2.06.94-2.06 2.06-.94-2.06-.94-.94-2.06-.94 2.06-2.06.94z\"/><path d=\"M17.41 7.96l-1.37-1.37c-.4-.4-.92-.59-1.43-.59-.52 0-1.04.2-1.43.59L10.3 9.45l-7.72 7.72c-.78.78-.78 2.05 0 2.83L4 21.41c.39.39.9.59 1.41.59.51 0 1.02-.2 1.41-.59l7.78-7.78 2.81-2.81c.8-.78.8-2.07 0-2.86zM5.41 20L4 18.59l7.72-7.72 1.47 1.35L5.41 20z\"/>\n",
              "  </svg>\n",
              "      </button>\n",
              "      \n",
              "  <style>\n",
              "    .colab-df-container {\n",
              "      display:flex;\n",
              "      flex-wrap:wrap;\n",
              "      gap: 12px;\n",
              "    }\n",
              "\n",
              "    .colab-df-convert {\n",
              "      background-color: #E8F0FE;\n",
              "      border: none;\n",
              "      border-radius: 50%;\n",
              "      cursor: pointer;\n",
              "      display: none;\n",
              "      fill: #1967D2;\n",
              "      height: 32px;\n",
              "      padding: 0 0 0 0;\n",
              "      width: 32px;\n",
              "    }\n",
              "\n",
              "    .colab-df-convert:hover {\n",
              "      background-color: #E2EBFA;\n",
              "      box-shadow: 0px 1px 2px rgba(60, 64, 67, 0.3), 0px 1px 3px 1px rgba(60, 64, 67, 0.15);\n",
              "      fill: #174EA6;\n",
              "    }\n",
              "\n",
              "    [theme=dark] .colab-df-convert {\n",
              "      background-color: #3B4455;\n",
              "      fill: #D2E3FC;\n",
              "    }\n",
              "\n",
              "    [theme=dark] .colab-df-convert:hover {\n",
              "      background-color: #434B5C;\n",
              "      box-shadow: 0px 1px 3px 1px rgba(0, 0, 0, 0.15);\n",
              "      filter: drop-shadow(0px 1px 2px rgba(0, 0, 0, 0.3));\n",
              "      fill: #FFFFFF;\n",
              "    }\n",
              "  </style>\n",
              "\n",
              "      <script>\n",
              "        const buttonEl =\n",
              "          document.querySelector('#df-f7eb6af1-d7f4-4255-bf14-6503f902690a button.colab-df-convert');\n",
              "        buttonEl.style.display =\n",
              "          google.colab.kernel.accessAllowed ? 'block' : 'none';\n",
              "\n",
              "        async function convertToInteractive(key) {\n",
              "          const element = document.querySelector('#df-f7eb6af1-d7f4-4255-bf14-6503f902690a');\n",
              "          const dataTable =\n",
              "            await google.colab.kernel.invokeFunction('convertToInteractive',\n",
              "                                                     [key], {});\n",
              "          if (!dataTable) return;\n",
              "\n",
              "          const docLinkHtml = 'Like what you see? Visit the ' +\n",
              "            '<a target=\"_blank\" href=https://colab.research.google.com/notebooks/data_table.ipynb>data table notebook</a>'\n",
              "            + ' to learn more about interactive tables.';\n",
              "          element.innerHTML = '';\n",
              "          dataTable['output_type'] = 'display_data';\n",
              "          await google.colab.output.renderOutput(dataTable, element);\n",
              "          const docLink = document.createElement('div');\n",
              "          docLink.innerHTML = docLinkHtml;\n",
              "          element.appendChild(docLink);\n",
              "        }\n",
              "      </script>\n",
              "    </div>\n",
              "  </div>\n",
              "  "
            ]
          },
          "metadata": {},
          "execution_count": 75
        }
      ]
    },
    {
      "cell_type": "code",
      "source": [
        "static_co_df = pd.read_csv(co_st_path)"
      ],
      "metadata": {
        "id": "nYeB-IeFgcIb"
      },
      "execution_count": null,
      "outputs": []
    },
    {
      "cell_type": "markdown",
      "source": [
        "#### combining statical data (PD, Control) into one"
      ],
      "metadata": {
        "id": "0uyPcKtVh8LZ"
      }
    },
    {
      "cell_type": "code",
      "source": [
        "X = pd.concat([static_co_df, static_pt_df])"
      ],
      "metadata": {
        "id": "bd46eogKhDMh"
      },
      "execution_count": null,
      "outputs": []
    },
    {
      "cell_type": "code",
      "source": [
        "# labels considering 0 for control and 1 for PD\n",
        "y_co = pd.Series([0]*(static_co_df.shape[0]))\n",
        "y_pt = pd.Series([1]*(static_pt_df.shape[0]))\n",
        "y = pd.concat([y_co,y_pt]) "
      ],
      "metadata": {
        "id": "IXC76pKmiEyX"
      },
      "execution_count": null,
      "outputs": []
    },
    {
      "cell_type": "markdown",
      "source": [
        "#### Split statical data into Train/Test"
      ],
      "metadata": {
        "id": "Z6xE4bBRhjo6"
      }
    },
    {
      "cell_type": "code",
      "source": [
        "from sklearn.svm import SVC\n",
        "\n",
        "X_train, X_test, y_train, y_test = train_test_split(X, y)\n",
        "y_train = pd.DataFrame(y_train)\n",
        "y_test = pd.DataFrame(y_test)\n",
        "\n",
        "\n",
        "print(X_train.shape)\n",
        "print(X_test.shape)\n",
        "print(y_train.shape)\n",
        "print(y_test.shape)"
      ],
      "metadata": {
        "colab": {
          "base_uri": "https://localhost:8080/"
        },
        "id": "bl59XI7wiirB",
        "outputId": "ac4cfa1a-c2d0-490f-f65f-ab942cdaf6ca"
      },
      "execution_count": null,
      "outputs": [
        {
          "output_type": "stream",
          "name": "stdout",
          "text": [
            "(229, 133)\n",
            "(77, 133)\n",
            "(229, 1)\n",
            "(77, 1)\n"
          ]
        }
      ]
    },
    {
      "cell_type": "markdown",
      "source": [
        "### Applying SVC over all features from statical data"
      ],
      "metadata": {
        "id": "2WTtzJKChoyJ"
      }
    },
    {
      "cell_type": "code",
      "source": [
        "scaler = MinMaxScaler().fit(X_train)\n",
        "X_train = scaler.transform(X_train)\n",
        "X_test = scaler.transform(X_test)"
      ],
      "metadata": {
        "id": "PdBnRElJmDG3"
      },
      "execution_count": null,
      "outputs": []
    },
    {
      "cell_type": "code",
      "source": [
        "for gamma in ([0.01, 1, 5]):\n",
        "    \n",
        "    for c in ([0.1, 1, 15, 250]):\n",
        "         \n",
        "        clf = SVC(kernel = 'rbf', gamma = gamma, C = c).fit(X_train, y_train)\n",
        "        print('gamma = {:.2f}, C = {:.2f}, accuracy = {}'.format(gamma, c, clf.score(X_test, np.ravel(y_test))))\n",
        "        "
      ],
      "metadata": {
        "colab": {
          "base_uri": "https://localhost:8080/"
        },
        "id": "NtXnTwqMmfwF",
        "outputId": "580c5c09-a140-4cd4-abc4-b26dc494d055"
      },
      "execution_count": null,
      "outputs": [
        {
          "output_type": "stream",
          "name": "stdout",
          "text": [
            "gamma = 0.01, C = 0.10, accuracy = 0.5974025974025974\n",
            "gamma = 0.01, C = 1.00, accuracy = 0.5974025974025974\n",
            "gamma = 0.01, C = 15.00, accuracy = 0.7662337662337663\n",
            "gamma = 0.01, C = 250.00, accuracy = 0.7922077922077922\n",
            "gamma = 1.00, C = 0.10, accuracy = 0.5974025974025974\n",
            "gamma = 1.00, C = 1.00, accuracy = 0.7142857142857143\n",
            "gamma = 1.00, C = 15.00, accuracy = 0.7532467532467533\n",
            "gamma = 1.00, C = 250.00, accuracy = 0.7532467532467533\n",
            "gamma = 5.00, C = 0.10, accuracy = 0.5974025974025974\n",
            "gamma = 5.00, C = 1.00, accuracy = 0.6103896103896104\n",
            "gamma = 5.00, C = 15.00, accuracy = 0.6363636363636364\n",
            "gamma = 5.00, C = 250.00, accuracy = 0.6363636363636364\n"
          ]
        },
        {
          "output_type": "stream",
          "name": "stderr",
          "text": [
            "/usr/local/lib/python3.7/dist-packages/sklearn/utils/validation.py:993: DataConversionWarning: A column-vector y was passed when a 1d array was expected. Please change the shape of y to (n_samples, ), for example using ravel().\n",
            "  y = column_or_1d(y, warn=True)\n",
            "/usr/local/lib/python3.7/dist-packages/sklearn/utils/validation.py:993: DataConversionWarning: A column-vector y was passed when a 1d array was expected. Please change the shape of y to (n_samples, ), for example using ravel().\n",
            "  y = column_or_1d(y, warn=True)\n",
            "/usr/local/lib/python3.7/dist-packages/sklearn/utils/validation.py:993: DataConversionWarning: A column-vector y was passed when a 1d array was expected. Please change the shape of y to (n_samples, ), for example using ravel().\n",
            "  y = column_or_1d(y, warn=True)\n",
            "/usr/local/lib/python3.7/dist-packages/sklearn/utils/validation.py:993: DataConversionWarning: A column-vector y was passed when a 1d array was expected. Please change the shape of y to (n_samples, ), for example using ravel().\n",
            "  y = column_or_1d(y, warn=True)\n",
            "/usr/local/lib/python3.7/dist-packages/sklearn/utils/validation.py:993: DataConversionWarning: A column-vector y was passed when a 1d array was expected. Please change the shape of y to (n_samples, ), for example using ravel().\n",
            "  y = column_or_1d(y, warn=True)\n",
            "/usr/local/lib/python3.7/dist-packages/sklearn/utils/validation.py:993: DataConversionWarning: A column-vector y was passed when a 1d array was expected. Please change the shape of y to (n_samples, ), for example using ravel().\n",
            "  y = column_or_1d(y, warn=True)\n",
            "/usr/local/lib/python3.7/dist-packages/sklearn/utils/validation.py:993: DataConversionWarning: A column-vector y was passed when a 1d array was expected. Please change the shape of y to (n_samples, ), for example using ravel().\n",
            "  y = column_or_1d(y, warn=True)\n",
            "/usr/local/lib/python3.7/dist-packages/sklearn/utils/validation.py:993: DataConversionWarning: A column-vector y was passed when a 1d array was expected. Please change the shape of y to (n_samples, ), for example using ravel().\n",
            "  y = column_or_1d(y, warn=True)\n",
            "/usr/local/lib/python3.7/dist-packages/sklearn/utils/validation.py:993: DataConversionWarning: A column-vector y was passed when a 1d array was expected. Please change the shape of y to (n_samples, ), for example using ravel().\n",
            "  y = column_or_1d(y, warn=True)\n",
            "/usr/local/lib/python3.7/dist-packages/sklearn/utils/validation.py:993: DataConversionWarning: A column-vector y was passed when a 1d array was expected. Please change the shape of y to (n_samples, ), for example using ravel().\n",
            "  y = column_or_1d(y, warn=True)\n",
            "/usr/local/lib/python3.7/dist-packages/sklearn/utils/validation.py:993: DataConversionWarning: A column-vector y was passed when a 1d array was expected. Please change the shape of y to (n_samples, ), for example using ravel().\n",
            "  y = column_or_1d(y, warn=True)\n",
            "/usr/local/lib/python3.7/dist-packages/sklearn/utils/validation.py:993: DataConversionWarning: A column-vector y was passed when a 1d array was expected. Please change the shape of y to (n_samples, ), for example using ravel().\n",
            "  y = column_or_1d(y, warn=True)\n"
          ]
        }
      ]
    },
    {
      "cell_type": "markdown",
      "source": [
        "### Applying KNN for all features from statical dataset"
      ],
      "metadata": {
        "id": "VJN4be6okwZh"
      }
    },
    {
      "cell_type": "code",
      "source": [
        "X_train, X_test, y_train1, y_test1 = train_test_split(X, y, random_state = 900)\n",
        "y_train = pd.DataFrame(y_train1)\n",
        "y_test = pd.DataFrame(y_test1)\n",
        "\n",
        "scaler = MinMaxScaler().fit(X_train)\n",
        "X_train = scaler.transform(X_train)\n",
        "X_test = scaler.transform(X_test)\n",
        "\n",
        "train_score=[]\n",
        "test_score=[]\n",
        "for neighbors in ([1, 3, 5, 10, 15, 20]):\n",
        "    knn = KNeighborsClassifier(n_neighbors = neighbors)\n",
        "    knn.fit(X_train, np.ravel(y_train,order='C'))\n",
        "    train_score.append(knn.score(X_train, y_train))\n",
        "    test_score.append(knn.score(X_test, y_test))\n",
        "\n",
        "for neighbor, tr_sc , test_sc in zip(([1, 3, 5, 10, 15, 20]),train_score, test_score): \n",
        "    print(f\"Neighbors = {neighbor}\")\n",
        "    print('Accuracy of K-NN classifier on training set: {:.2f}'.format(tr_sc))\n",
        "    print('Accuracy of K-NN classifier on test set: {:.2f}'.format(test_sc))\n",
        "    print()"
      ],
      "metadata": {
        "colab": {
          "base_uri": "https://localhost:8080/"
        },
        "id": "c6vUy4jblwB5",
        "outputId": "0f3f70ea-a9c7-43fe-af1d-4a9b56aed047"
      },
      "execution_count": null,
      "outputs": [
        {
          "output_type": "stream",
          "name": "stdout",
          "text": [
            "Neighbors = 1\n",
            "Accuracy of K-NN classifier on training set: 1.00\n",
            "Accuracy of K-NN classifier on test set: 0.88\n",
            "\n",
            "Neighbors = 3\n",
            "Accuracy of K-NN classifier on training set: 0.93\n",
            "Accuracy of K-NN classifier on test set: 0.84\n",
            "\n",
            "Neighbors = 5\n",
            "Accuracy of K-NN classifier on training set: 0.92\n",
            "Accuracy of K-NN classifier on test set: 0.84\n",
            "\n",
            "Neighbors = 10\n",
            "Accuracy of K-NN classifier on training set: 0.87\n",
            "Accuracy of K-NN classifier on test set: 0.79\n",
            "\n",
            "Neighbors = 15\n",
            "Accuracy of K-NN classifier on training set: 0.83\n",
            "Accuracy of K-NN classifier on test set: 0.82\n",
            "\n",
            "Neighbors = 20\n",
            "Accuracy of K-NN classifier on training set: 0.82\n",
            "Accuracy of K-NN classifier on test set: 0.81\n",
            "\n"
          ]
        }
      ]
    },
    {
      "cell_type": "code",
      "source": [
        "# for model with 15 neighbors\n",
        "knn = KNeighborsClassifier(n_neighbors = 15)\n",
        "knn.fit(X_train, np.ravel(y_train,order='C'))\n",
        "train_score.append(knn.score(X_train, y_train))\n",
        "test_score.append(knn.score(X_test, y_test))\n",
        "prediction = knn.predict(X_test)"
      ],
      "metadata": {
        "id": "odDd1vSqshVM"
      },
      "execution_count": null,
      "outputs": []
    },
    {
      "cell_type": "code",
      "source": [
        "prec = precision_score(y_test1, prediction)\n",
        "rec = recall_score(y_test1, prediction)\n",
        "f1 = f1_score(y_test1, prediction)\n",
        "print(\"Precision: {}\".format(prec))\n",
        "print(\"Recall: {}\".format(rec))\n",
        "print(\"F1: {}\".format(f1))"
      ],
      "metadata": {
        "colab": {
          "base_uri": "https://localhost:8080/"
        },
        "id": "rnbQsXeqpp6D",
        "outputId": "fb361b1f-657d-4caf-cb1c-2af9ecac900e"
      },
      "execution_count": null,
      "outputs": [
        {
          "output_type": "stream",
          "name": "stdout",
          "text": [
            "Precision: 0.8214285714285714\n",
            "Recall: 0.92\n",
            "F1: 0.8679245283018867\n"
          ]
        }
      ]
    },
    {
      "cell_type": "markdown",
      "source": [
        "### Random forest classifier\n"
      ],
      "metadata": {
        "id": "d--g368fPPJI"
      }
    },
    {
      "cell_type": "code",
      "source": [
        "test_score_RFC=[]\n",
        "\n",
        "X_train, X_test, y_train1, y_test1 = train_test_split(X, np.ravel(y),random_state=64)\n",
        "y_train = pd.DataFrame(y_train1)\n",
        "y_test = pd.DataFrame(y_test1)\n",
        "\n",
        "for n in [5, 10, 20, 40, 100, 200]:\n",
        "    clf = RandomForestClassifier(n_estimators = int(n), n_jobs=2)\n",
        "    clf.fit(X_train, np.ravel(y_train))\n",
        "    acc = clf.score(X_test, np.ravel(y_test))\n",
        "    test_score_RFC.append(acc)"
      ],
      "metadata": {
        "id": "ZaMOGT3TVfCR"
      },
      "execution_count": null,
      "outputs": []
    },
    {
      "cell_type": "code",
      "source": [
        "for neighbor, tr_sc in zip(([5, 10, 20, 40, 100, 200]),test_score_RFC): \n",
        "    print(f\"Estimator = {neighbor}\")\n",
        "    print('Accuracy of Random Forest Classifier on training set: {:.2f}'.format(tr_sc))"
      ],
      "metadata": {
        "colab": {
          "base_uri": "https://localhost:8080/"
        },
        "id": "oTRjJSOGXBDS",
        "outputId": "0faa614e-9a2d-45c8-e84d-2ee60e283801"
      },
      "execution_count": null,
      "outputs": [
        {
          "output_type": "stream",
          "name": "stdout",
          "text": [
            "Estimator = 5\n",
            "Accuracy of Random Forest Classifier on training set: 0.88\n",
            "Estimator = 10\n",
            "Accuracy of Random Forest Classifier on training set: 0.96\n",
            "Estimator = 20\n",
            "Accuracy of Random Forest Classifier on training set: 0.92\n",
            "Estimator = 40\n",
            "Accuracy of Random Forest Classifier on training set: 0.97\n",
            "Estimator = 100\n",
            "Accuracy of Random Forest Classifier on training set: 0.95\n",
            "Estimator = 200\n",
            "Accuracy of Random Forest Classifier on training set: 0.97\n"
          ]
        }
      ]
    },
    {
      "cell_type": "code",
      "source": [
        "prediction_clf = clf.predict(X_test)\n",
        "prec = precision_score(y_test1, prediction_clf)\n",
        "rec = recall_score(y_test1, prediction_clf)\n",
        "f1 = f1_score(y_test1, prediction_clf)\n",
        "print(\"Precision: {}\".format(prec))\n",
        "print(\"Recall: {}\".format(rec))\n",
        "print(\"F1: {}\".format(f1))"
      ],
      "metadata": {
        "colab": {
          "base_uri": "https://localhost:8080/"
        },
        "id": "xciVqL1_Yiwn",
        "outputId": "ac6f982c-5396-4bda-993f-3c0953b31f23"
      },
      "execution_count": null,
      "outputs": [
        {
          "output_type": "stream",
          "name": "stdout",
          "text": [
            "Precision: 0.9818181818181818\n",
            "Recall: 0.9818181818181818\n",
            "F1: 0.9818181818181818\n"
          ]
        }
      ]
    },
    {
      "cell_type": "code",
      "source": [],
      "metadata": {
        "id": "h0TIe5BjZhHv"
      },
      "execution_count": null,
      "outputs": []
    }
  ]
}