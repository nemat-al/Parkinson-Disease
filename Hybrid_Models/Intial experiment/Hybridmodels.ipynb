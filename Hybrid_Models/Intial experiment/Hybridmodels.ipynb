{
  "nbformat": 4,
  "nbformat_minor": 0,
  "metadata": {
    "colab": {
      "provenance": [],
      "collapsed_sections": [
        "C8XpRG79Zt1B",
        "NXCfvZ2pyNE7",
        "Eep8eENRMlnC",
        "bPx173s7-pAL"
      ]
    },
    "kernelspec": {
      "name": "python3",
      "display_name": "Python 3"
    },
    "language_info": {
      "name": "python"
    }
  },
  "cells": [
    {
      "cell_type": "markdown",
      "source": [
        "## Importing"
      ],
      "metadata": {
        "id": "BsPVk6k7Zh5g"
      }
    },
    {
      "cell_type": "code",
      "source": [
        "import pandas as pd\n",
        "import numpy as np\n",
        "\n",
        "from sklearn.model_selection import train_test_split\n",
        "from sklearn.metrics import accuracy_score,precision_score, recall_score, f1_score, auc, roc_curve,confusion_matrix\n",
        "\n",
        "import os\n",
        "\n",
        "import sys\n",
        "\n",
        "import matplotlib.pyplot as plt\n",
        "\n",
        "import tensorflow as tf\n",
        "from tensorflow import keras\n",
        "\n",
        "from keras.models import Sequential, Model\n",
        "from keras.layers import LSTM, Dense, Input, Flatten, Conv1D, MaxPooling1D, Concatenate, Dropout\n",
        "from keras.regularizers import l2\n",
        "from keras.optimizers import Adam\n",
        "from keras.callbacks import EarlyStopping\n",
        "from keras.utils.vis_utils import plot_model\n",
        "\n",
        "from scipy.signal import find_peaks, peak_widths\n",
        "from scipy.interpolate import interp1d"
      ],
      "metadata": {
        "id": "AO-oBmyoepkP"
      },
      "execution_count": 1,
      "outputs": []
    },
    {
      "cell_type": "code",
      "source": [
        "import tensorflow\n",
        "tensorflow.random.set_seed(42)"
      ],
      "metadata": {
        "id": "P6edCMIn4rks"
      },
      "execution_count": 2,
      "outputs": []
    },
    {
      "cell_type": "code",
      "source": [
        "sys.path.insert(0,\"/content/drive/MyDrive/ITMO-Master's/Thesis/3rd_semester\")"
      ],
      "metadata": {
        "id": "h8UAq_AzZUj3"
      },
      "execution_count": 3,
      "outputs": []
    },
    {
      "cell_type": "code",
      "source": [
        "parquet_path = \"/content/drive/MyDrive/ITMO-Master's/Thesis/3rd_semester/Data/parquet_files/\"\n",
        "models_path = \"/content/drive/MyDrive/ITMO-Master's/Thesis/3rd_semester/Models/\""
      ],
      "metadata": {
        "id": "YXtxE5D9ZWLu"
      },
      "execution_count": 4,
      "outputs": []
    },
    {
      "cell_type": "code",
      "source": [
        "# Data Class\n",
        "import DataClass \n",
        "from DataClass import Data\n",
        "# read prepared data\n",
        "data = Data( 0, \"\", \"\",parquet_path)"
      ],
      "metadata": {
        "id": "gQBNq7bZZXbf"
      },
      "execution_count": 5,
      "outputs": []
    },
    {
      "cell_type": "markdown",
      "source": [
        "## Hybrid model class"
      ],
      "metadata": {
        "id": "C8XpRG79Zt1B"
      }
    },
    {
      "cell_type": "code",
      "source": [
        "class HybridModel:\n",
        "  def __init__(self,models_path, X_train_seq,X_test_seq, itemized_train_data,itemized_test_data,y_train,y_test,num_sensors):\n",
        "    self.models_path = models_path\n",
        "    # input data and label data\n",
        "    self.X_train_seq=X_train_seq\n",
        "    self.X_test_seq=X_test_seq\n",
        "    self.itemized_train_data=itemized_train_data\n",
        "    self.itemized_test_data=itemized_test_data\n",
        "    # Define the input shape for the CNN\n",
        "    self.num_sensors=num_sensors\n",
        "    self.input_shape = (self.X_train_seq.shape[1], self.num_sensors)\n",
        "    self.y_train=y_train\n",
        "    self.y_test=y_test\n",
        "\n",
        "  def build(self):\n",
        "      # Define the CNN model\n",
        "      cnn_input = Input(shape=self.input_shape)\n",
        "      conv1 = Conv1D(filters=32, kernel_size=3, activation='relu')(cnn_input)\n",
        "      pool1 = MaxPooling1D(pool_size=2)(conv1)\n",
        "      conv2 = Conv1D(filters=64, kernel_size=3, activation='relu')(pool1)\n",
        "      pool2 = MaxPooling1D(pool_size=2)(conv2)\n",
        "      conv3 = Conv1D(filters=128, kernel_size=3, activation='relu')(pool2)\n",
        "      pool3 = MaxPooling1D(pool_size=2)(conv3)\n",
        "      conv4 = Conv1D(filters=256, kernel_size=3, activation='relu')(pool3)\n",
        "      #pool4 = MaxPooling1D(pool_size=2)(conv4)\n",
        "      dropout = Dropout(0.5)(conv4)\n",
        "      flatten = Flatten()(dropout)\n",
        "      cnn_output = Dense(256, activation='relu', kernel_regularizer=l2(0.01))(flatten)\n",
        "      # cnn_output = Dense(128, activation='relu')(flatten)\n",
        "      cnn_model = Model(inputs=cnn_input, outputs=cnn_output)\n",
        "\n",
        "      # Define the fully connected model\n",
        "      fc_input = Input(shape=(self.itemized_train_data.shape[1],))\n",
        "      concat = Concatenate()([cnn_output, fc_input])\n",
        "      dense1 = Dense(64, activation='relu', kernel_regularizer=l2(0.01))(concat)\n",
        "      dense2 = Dense(32, activation='relu')(dense1)\n",
        "      fc_output = Dense(1, activation='sigmoid')(dense2)\n",
        "\n",
        "      self.model = Model(inputs=[cnn_input, fc_input], outputs=fc_output)\n",
        "\n",
        "      # Compile the model\n",
        "      optimizer = Adam(learning_rate=0.001)\n",
        "      self.model.compile(optimizer=optimizer, loss='binary_crossentropy', metrics=['accuracy'])\n",
        "\n",
        "  def taining(self, validation_split, epochs, batch_size):\n",
        "      early_stopping = EarlyStopping(monitor='val_loss', patience=5)\n",
        "      self.history = self.model.fit([self.X_train_seq, self.itemized_train_data], self.y_train, validation_split=validation_split, epochs=epochs, batch_size=batch_size, callbacks=[early_stopping])\n",
        "     \n",
        "  def predicting(self):\n",
        "    self.y_prediction = self.model.predict([self.X_test_seq, self.itemized_test_data])\n",
        "    return self.y_prediction\n",
        "\n",
        "  def evaluate(self):    \n",
        "    loss,accuracy = self.model.evaluate([self.X_test_seq, self.itemized_test_data], self.y_test)\n",
        "    print(f'Accuracy: {accuracy}')\n",
        "    print(f'Loss:     {loss}')\n",
        "  \n",
        "  def scores(self, y_prediction):\n",
        "      print(f'Precision:      {precision_score(self.y_test, y_prediction)}')\n",
        "      print(f\"Recall:         {recall_score(self.y_test, y_prediction)}\")\n",
        "      print(f\"F1:             {f1_score(self.y_test, y_prediction)}\")\n",
        "      print(f\"Accuracy:       {accuracy_score(self.y_test, y_prediction)}\")\n",
        "      tn, fp, fn, tp = confusion_matrix(self.y_test, y_prediction, normalize='pred' ).ravel()\n",
        "      print(f\"True Negative:  {tn}\")\n",
        "      print(f\"False Positive: {fp}\")\n",
        "      print(f\"False Negative: {fn}\")\n",
        "      print(f\"True Positive:  {tp}\")\n",
        "\n",
        "  def summary(self):\n",
        "    print(self.model.summary())\n",
        "\n",
        "  def plot_model(self,file_name):\n",
        "    plot_model(self.model, to_file=self.models_path+file_name, show_shapes=True,show_layer_names=True)\n",
        "     \n",
        "  def loss_plot(self):\n",
        "    plt.plot(self.history.history['loss'])\n",
        "    plt.plot(self.history.history['val_loss'])\n",
        "    plt.title('model loss')\n",
        "    plt.ylabel('loss')\n",
        "    plt.xlabel('epoch')\n",
        "    plt.legend(['train', 'val'], loc='upper left')\n",
        "    plt.show()\n",
        "\n",
        "  def accuracy_plot(self):\n",
        "    plt.plot(self.history.history['accuracy'])\n",
        "    plt.plot(self.history.history['val_accuracy'])\n",
        "    plt.title('model accuracy')\n",
        "    plt.ylabel('accuracy')\n",
        "    plt.xlabel('epoch')\n",
        "    plt.legend(['train', 'val'], loc='upper left')\n",
        "    plt.show()\n",
        "\n",
        "  def save_model(self, file_name):\n",
        "    # save the model\n",
        "    self.model.save(self.models_path+file_name)\n",
        "\n",
        "  def load_model(self,file_name):\n",
        "    # Load the model                       \n",
        "    self.model = keras.models.load_model(self.models_path+file_name)\n",
        "\n"
      ],
      "metadata": {
        "id": "hHf8VyK8ZYpx"
      },
      "execution_count": 6,
      "outputs": []
    },
    {
      "cell_type": "code",
      "source": [
        "def scores(y_test, y_prediction):\n",
        "  print(f'Precision:      {precision_score(y_test, y_prediction)}')\n",
        "  print(f\"Recall:         {recall_score(y_test, y_prediction)}\")\n",
        "  print(f\"F1:             {f1_score(y_test, y_prediction)}\")\n",
        "  print(f\"Accuracy:       {accuracy_score(y_test, y_prediction)}\")\n",
        "  tn, fp, fn, tp = confusion_matrix(y_test, y_prediction, normalize='pred' ).ravel()\n",
        "  print(f\"True Negative:  {tn}\")\n",
        "  print(f\"False Positive: {fp}\")\n",
        "  print(f\"False Negative: {fn}\")\n",
        "  print(f\"True Positive:  {tp}\")\n",
        "\n",
        "\n",
        "def loss_plot(history):\n",
        "  plt.plot(history['loss'])\n",
        "  plt.plot(history['val_loss'])\n",
        "  plt.title('model loss')\n",
        "  plt.ylabel('loss')\n",
        "  plt.xlabel('epoch')\n",
        "  plt.legend(['train', 'val'], loc='upper left')\n",
        "  plt.show()\n",
        "\n",
        "def accuracy_plot(history):\n",
        "  plt.plot(history['accuracy'])\n",
        "  plt.plot(history.history['val_accuracy'])\n",
        "  plt.title('model accuracy')\n",
        "  plt.ylabel('accuracy')\n",
        "  plt.xlabel('epoch')\n",
        "  plt.legend(['train', 'val'], loc='upper left')\n",
        "  plt.show()"
      ],
      "metadata": {
        "id": "dNY5brYccRWy"
      },
      "execution_count": 7,
      "outputs": []
    },
    {
      "cell_type": "markdown",
      "source": [
        "## Hybrid model 1 (right stances with 3 features)"
      ],
      "metadata": {
        "id": "NXCfvZ2pyNE7"
      }
    },
    {
      "cell_type": "code",
      "source": [
        "# input data and label data\n",
        "# input data and label data\n",
        "df = data.scaled_stances_statics_df[[ 'r_interp','r_swings_time','r_max_peak','r_total_fwhm']]\n",
        "y = data.scaled_stances_statics_df[[ 'y']]\n",
        "\n",
        "\n",
        "X_train, X_test, y_train, y_test = train_test_split(df, y, random_state=42)\n",
        "\n",
        "train_seq=np.array(list(np.asarray(X_train['r_interp'])), dtype=float)\n",
        "test_seq=np.array(list(np.asarray(X_test['r_interp'])), dtype=float)\n",
        "\n",
        "num_sensors=1\n",
        "\n",
        "# Reshape the sequences to be 3-dimensional (samples, timesteps, features)\n",
        "X_train_seq = np.reshape( train_seq, (train_seq.shape[0],train_seq.shape[1], num_sensors))\n",
        "X_test_seq = np.reshape( test_seq, (test_seq.shape[0],test_seq.shape[1], num_sensors))\n",
        "\n",
        "\n",
        "itemized_train_data = X_train.drop('r_interp',axis=1)\n",
        "itemized_train_data=itemized_train_data.to_numpy()\n",
        "# itemized_train_data = np.asarray(itemized_train_data[:,:]).astype('float32')\n",
        "itemized_test_data = X_test.drop('r_interp',axis=1)\n",
        "itemized_test_data=itemized_test_data.to_numpy()"
      ],
      "metadata": {
        "id": "0WhhNcW7q--y"
      },
      "execution_count": null,
      "outputs": []
    },
    {
      "cell_type": "code",
      "source": [
        "type(y_train.iloc[0][0])"
      ],
      "metadata": {
        "colab": {
          "base_uri": "https://localhost:8080/"
        },
        "id": "5dzMdytRcir6",
        "outputId": "7ded2d0f-eb89-426e-c874-6d5352e1e813"
      },
      "execution_count": null,
      "outputs": [
        {
          "output_type": "execute_result",
          "data": {
            "text/plain": [
              "numpy.int64"
            ]
          },
          "metadata": {},
          "execution_count": 15
        }
      ]
    },
    {
      "cell_type": "code",
      "source": [
        "model_r_3f = HybridModel(models_path, X_train_seq,X_test_seq, itemized_train_data,itemized_test_data,y_train, y_test, num_sensors)\n",
        "model_r_3f.build()\n",
        "model_r_3f.taining(0.2, 50, 32)"
      ],
      "metadata": {
        "colab": {
          "base_uri": "https://localhost:8080/"
        },
        "id": "jtK34KRM4s8a",
        "outputId": "42e9ce31-dc9f-4286-ceb8-c6d8843cd0ca"
      },
      "execution_count": null,
      "outputs": [
        {
          "output_type": "stream",
          "name": "stdout",
          "text": [
            "Epoch 1/50\n",
            "342/342 [==============================] - 11s 29ms/step - loss: 1.1641 - accuracy: 0.6120 - val_loss: 0.6470 - val_accuracy: 0.6767\n",
            "Epoch 2/50\n",
            "342/342 [==============================] - 9s 28ms/step - loss: 0.7756 - accuracy: 0.6152 - val_loss: 0.7384 - val_accuracy: 0.6767\n",
            "Epoch 3/50\n",
            "342/342 [==============================] - 8s 23ms/step - loss: 0.6882 - accuracy: 0.6460 - val_loss: 0.6677 - val_accuracy: 0.6767\n",
            "Epoch 4/50\n",
            "342/342 [==============================] - 9s 27ms/step - loss: 0.6441 - accuracy: 0.6717 - val_loss: 0.8313 - val_accuracy: 0.6767\n",
            "Epoch 5/50\n",
            "342/342 [==============================] - 8s 22ms/step - loss: 0.7220 - accuracy: 0.6658 - val_loss: 0.7959 - val_accuracy: 0.5563\n",
            "Epoch 6/50\n",
            "342/342 [==============================] - 10s 28ms/step - loss: 0.6035 - accuracy: 0.6947 - val_loss: 0.5552 - val_accuracy: 0.7052\n",
            "Epoch 7/50\n",
            "342/342 [==============================] - 9s 27ms/step - loss: 0.6215 - accuracy: 0.6886 - val_loss: 0.6156 - val_accuracy: 0.6832\n",
            "Epoch 8/50\n",
            "342/342 [==============================] - 8s 23ms/step - loss: 0.5764 - accuracy: 0.7235 - val_loss: 0.5337 - val_accuracy: 0.7410\n",
            "Epoch 9/50\n",
            "342/342 [==============================] - 11s 32ms/step - loss: 0.5868 - accuracy: 0.7271 - val_loss: 0.5512 - val_accuracy: 0.7480\n",
            "Epoch 10/50\n",
            "342/342 [==============================] - 9s 25ms/step - loss: 0.5546 - accuracy: 0.7410 - val_loss: 0.4963 - val_accuracy: 0.7740\n",
            "Epoch 11/50\n",
            "342/342 [==============================] - 9s 28ms/step - loss: 0.5812 - accuracy: 0.7327 - val_loss: 0.5573 - val_accuracy: 0.7348\n",
            "Epoch 12/50\n",
            "342/342 [==============================] - 9s 27ms/step - loss: 0.5786 - accuracy: 0.7355 - val_loss: 0.5802 - val_accuracy: 0.7487\n",
            "Epoch 13/50\n",
            "342/342 [==============================] - 8s 23ms/step - loss: 0.5217 - accuracy: 0.7627 - val_loss: 0.4787 - val_accuracy: 0.7849\n",
            "Epoch 14/50\n",
            "342/342 [==============================] - 9s 27ms/step - loss: 0.5202 - accuracy: 0.7644 - val_loss: 0.4842 - val_accuracy: 0.7802\n",
            "Epoch 15/50\n",
            "342/342 [==============================] - 10s 28ms/step - loss: 0.5136 - accuracy: 0.7741 - val_loss: 0.6970 - val_accuracy: 0.7385\n",
            "Epoch 16/50\n",
            "342/342 [==============================] - 10s 28ms/step - loss: 0.5240 - accuracy: 0.7706 - val_loss: 0.4638 - val_accuracy: 0.7981\n",
            "Epoch 17/50\n",
            "342/342 [==============================] - 9s 28ms/step - loss: 0.5298 - accuracy: 0.7715 - val_loss: 0.4671 - val_accuracy: 0.7974\n",
            "Epoch 18/50\n",
            "342/342 [==============================] - 8s 22ms/step - loss: 0.4975 - accuracy: 0.7815 - val_loss: 0.5007 - val_accuracy: 0.7747\n",
            "Epoch 19/50\n",
            "342/342 [==============================] - 9s 27ms/step - loss: 0.5005 - accuracy: 0.7793 - val_loss: 0.4473 - val_accuracy: 0.8116\n",
            "Epoch 20/50\n",
            "342/342 [==============================] - 8s 25ms/step - loss: 0.4920 - accuracy: 0.7880 - val_loss: 0.4389 - val_accuracy: 0.8153\n",
            "Epoch 21/50\n",
            "342/342 [==============================] - 10s 28ms/step - loss: 0.4712 - accuracy: 0.7930 - val_loss: 0.4595 - val_accuracy: 0.8043\n",
            "Epoch 22/50\n",
            "342/342 [==============================] - 10s 28ms/step - loss: 0.4690 - accuracy: 0.7977 - val_loss: 0.6013 - val_accuracy: 0.7692\n",
            "Epoch 23/50\n",
            "342/342 [==============================] - 8s 23ms/step - loss: 0.4736 - accuracy: 0.7961 - val_loss: 0.4224 - val_accuracy: 0.8244\n",
            "Epoch 24/50\n",
            "342/342 [==============================] - 9s 28ms/step - loss: 0.4596 - accuracy: 0.8025 - val_loss: 0.4306 - val_accuracy: 0.8153\n",
            "Epoch 25/50\n",
            "342/342 [==============================] - 8s 25ms/step - loss: 0.4542 - accuracy: 0.8045 - val_loss: 0.4133 - val_accuracy: 0.8252\n",
            "Epoch 26/50\n",
            "342/342 [==============================] - 9s 25ms/step - loss: 0.4575 - accuracy: 0.8064 - val_loss: 0.4196 - val_accuracy: 0.8230\n",
            "Epoch 27/50\n",
            "342/342 [==============================] - 11s 33ms/step - loss: 0.4545 - accuracy: 0.8054 - val_loss: 0.4370 - val_accuracy: 0.8237\n",
            "Epoch 28/50\n",
            "342/342 [==============================] - 8s 22ms/step - loss: 0.4455 - accuracy: 0.8155 - val_loss: 0.4621 - val_accuracy: 0.7963\n",
            "Epoch 29/50\n",
            "342/342 [==============================] - 9s 27ms/step - loss: 0.4394 - accuracy: 0.8179 - val_loss: 0.3990 - val_accuracy: 0.8464\n",
            "Epoch 30/50\n",
            "342/342 [==============================] - 9s 26ms/step - loss: 0.4371 - accuracy: 0.8165 - val_loss: 0.4061 - val_accuracy: 0.8361\n",
            "Epoch 31/50\n",
            "342/342 [==============================] - 8s 24ms/step - loss: 0.4271 - accuracy: 0.8251 - val_loss: 0.4303 - val_accuracy: 0.8109\n",
            "Epoch 32/50\n",
            "342/342 [==============================] - 9s 27ms/step - loss: 0.4205 - accuracy: 0.8268 - val_loss: 0.3863 - val_accuracy: 0.8493\n",
            "Epoch 33/50\n",
            "342/342 [==============================] - 8s 22ms/step - loss: 0.4265 - accuracy: 0.8251 - val_loss: 0.3828 - val_accuracy: 0.8482\n",
            "Epoch 34/50\n",
            "342/342 [==============================] - 10s 28ms/step - loss: 0.4263 - accuracy: 0.8201 - val_loss: 0.4256 - val_accuracy: 0.8241\n",
            "Epoch 35/50\n",
            "342/342 [==============================] - 9s 27ms/step - loss: 0.4281 - accuracy: 0.8219 - val_loss: 0.4336 - val_accuracy: 0.8164\n",
            "Epoch 36/50\n",
            "342/342 [==============================] - 8s 24ms/step - loss: 0.4167 - accuracy: 0.8308 - val_loss: 0.4194 - val_accuracy: 0.8211\n",
            "Epoch 37/50\n",
            "342/342 [==============================] - 9s 28ms/step - loss: 0.4180 - accuracy: 0.8288 - val_loss: 0.3778 - val_accuracy: 0.8515\n",
            "Epoch 38/50\n",
            "342/342 [==============================] - 8s 23ms/step - loss: 0.4094 - accuracy: 0.8374 - val_loss: 0.3844 - val_accuracy: 0.8526\n",
            "Epoch 39/50\n",
            "342/342 [==============================] - 10s 28ms/step - loss: 0.4072 - accuracy: 0.8353 - val_loss: 0.3865 - val_accuracy: 0.8391\n",
            "Epoch 40/50\n",
            "342/342 [==============================] - 9s 26ms/step - loss: 0.4060 - accuracy: 0.8305 - val_loss: 0.3689 - val_accuracy: 0.8566\n",
            "Epoch 41/50\n",
            "342/342 [==============================] - 8s 24ms/step - loss: 0.3950 - accuracy: 0.8413 - val_loss: 0.3853 - val_accuracy: 0.8420\n",
            "Epoch 42/50\n",
            "342/342 [==============================] - 9s 28ms/step - loss: 0.3949 - accuracy: 0.8406 - val_loss: 0.3920 - val_accuracy: 0.8409\n",
            "Epoch 43/50\n",
            "342/342 [==============================] - 8s 23ms/step - loss: 0.4037 - accuracy: 0.8396 - val_loss: 0.3778 - val_accuracy: 0.8548\n",
            "Epoch 44/50\n",
            "342/342 [==============================] - 10s 28ms/step - loss: 0.3944 - accuracy: 0.8431 - val_loss: 0.3650 - val_accuracy: 0.8621\n",
            "Epoch 45/50\n",
            "342/342 [==============================] - 10s 28ms/step - loss: 0.3987 - accuracy: 0.8384 - val_loss: 0.3915 - val_accuracy: 0.8383\n",
            "Epoch 46/50\n",
            "342/342 [==============================] - 8s 24ms/step - loss: 0.3914 - accuracy: 0.8416 - val_loss: 0.3543 - val_accuracy: 0.8665\n",
            "Epoch 47/50\n",
            "342/342 [==============================] - 12s 34ms/step - loss: 0.3886 - accuracy: 0.8438 - val_loss: 0.3597 - val_accuracy: 0.8639\n",
            "Epoch 48/50\n",
            "342/342 [==============================] - 8s 23ms/step - loss: 0.3811 - accuracy: 0.8498 - val_loss: 0.3706 - val_accuracy: 0.8559\n",
            "Epoch 49/50\n",
            "342/342 [==============================] - 9s 27ms/step - loss: 0.3801 - accuracy: 0.8483 - val_loss: 0.3571 - val_accuracy: 0.8683\n",
            "Epoch 50/50\n",
            "342/342 [==============================] - 10s 29ms/step - loss: 0.3833 - accuracy: 0.8438 - val_loss: 0.3528 - val_accuracy: 0.8643\n"
          ]
        }
      ]
    },
    {
      "cell_type": "code",
      "source": [
        "model_r_3f.evaluate()"
      ],
      "metadata": {
        "colab": {
          "base_uri": "https://localhost:8080/"
        },
        "id": "YPoxjSWko3GS",
        "outputId": "2d95f526-49e8-4992-a122-a7e0cf61c1e9"
      },
      "execution_count": null,
      "outputs": [
        {
          "output_type": "stream",
          "name": "stdout",
          "text": [
            "143/143 [==============================] - 3s 22ms/step - loss: 0.3505 - accuracy: 0.8670\n",
            "Accuracy: 0.8670177459716797\n",
            "Loss:     0.35047411918640137\n"
          ]
        }
      ]
    },
    {
      "cell_type": "code",
      "source": [
        "y_prediction =model_r_3f.predicting()\n",
        "y_prediction[y_prediction <= 0.5] = 0.\n",
        "y_prediction[y_prediction > 0.5] = 1.\n",
        "model_r_3f.scores(y_prediction)"
      ],
      "metadata": {
        "colab": {
          "base_uri": "https://localhost:8080/"
        },
        "id": "xXVMy30QxfBr",
        "outputId": "ad8fbb12-e06c-401f-db2b-1d06a0b97b86"
      },
      "execution_count": null,
      "outputs": [
        {
          "output_type": "stream",
          "name": "stdout",
          "text": [
            "Precision:      0.891900409706902\n",
            "Recall:         0.9149692854833495\n",
            "F1:             0.9032875837855091\n",
            "Accuracy:       0.8670177748518763\n",
            "True Negative:  0.809971098265896\n",
            "False Positive: 0.10809959029309801\n",
            "False Negative: 0.19002890173410406\n",
            "True Positive:  0.891900409706902\n"
          ]
        }
      ]
    },
    {
      "cell_type": "code",
      "source": [
        "model_r_3f.summary()"
      ],
      "metadata": {
        "colab": {
          "base_uri": "https://localhost:8080/"
        },
        "id": "ohtmrRiYyciw",
        "outputId": "76e6177c-aa28-4e2b-8dfa-8da882b93e0f"
      },
      "execution_count": null,
      "outputs": [
        {
          "output_type": "stream",
          "name": "stdout",
          "text": [
            "Model: \"model_3\"\n",
            "__________________________________________________________________________________________________\n",
            " Layer (type)                   Output Shape         Param #     Connected to                     \n",
            "==================================================================================================\n",
            " input_3 (InputLayer)           [(None, 100, 1)]     0           []                               \n",
            "                                                                                                  \n",
            " conv1d_4 (Conv1D)              (None, 98, 32)       128         ['input_3[0][0]']                \n",
            "                                                                                                  \n",
            " max_pooling1d_3 (MaxPooling1D)  (None, 49, 32)      0           ['conv1d_4[0][0]']               \n",
            "                                                                                                  \n",
            " conv1d_5 (Conv1D)              (None, 47, 64)       6208        ['max_pooling1d_3[0][0]']        \n",
            "                                                                                                  \n",
            " max_pooling1d_4 (MaxPooling1D)  (None, 23, 64)      0           ['conv1d_5[0][0]']               \n",
            "                                                                                                  \n",
            " conv1d_6 (Conv1D)              (None, 21, 128)      24704       ['max_pooling1d_4[0][0]']        \n",
            "                                                                                                  \n",
            " max_pooling1d_5 (MaxPooling1D)  (None, 10, 128)     0           ['conv1d_6[0][0]']               \n",
            "                                                                                                  \n",
            " conv1d_7 (Conv1D)              (None, 8, 256)       98560       ['max_pooling1d_5[0][0]']        \n",
            "                                                                                                  \n",
            " dropout_1 (Dropout)            (None, 8, 256)       0           ['conv1d_7[0][0]']               \n",
            "                                                                                                  \n",
            " flatten_1 (Flatten)            (None, 2048)         0           ['dropout_1[0][0]']              \n",
            "                                                                                                  \n",
            " dense_4 (Dense)                (None, 256)          524544      ['flatten_1[0][0]']              \n",
            "                                                                                                  \n",
            " input_4 (InputLayer)           [(None, 3)]          0           []                               \n",
            "                                                                                                  \n",
            " concatenate_1 (Concatenate)    (None, 259)          0           ['dense_4[0][0]',                \n",
            "                                                                  'input_4[0][0]']                \n",
            "                                                                                                  \n",
            " dense_5 (Dense)                (None, 64)           16640       ['concatenate_1[0][0]']          \n",
            "                                                                                                  \n",
            " dense_6 (Dense)                (None, 32)           2080        ['dense_5[0][0]']                \n",
            "                                                                                                  \n",
            " dense_7 (Dense)                (None, 1)            33          ['dense_6[0][0]']                \n",
            "                                                                                                  \n",
            "==================================================================================================\n",
            "Total params: 672,897\n",
            "Trainable params: 672,897\n",
            "Non-trainable params: 0\n",
            "__________________________________________________________________________________________________\n",
            "None\n"
          ]
        }
      ]
    },
    {
      "cell_type": "code",
      "source": [
        "model_r_3f.plot_model('HybridModel_r_3f.png')"
      ],
      "metadata": {
        "id": "eZINId7kye1P"
      },
      "execution_count": null,
      "outputs": []
    },
    {
      "cell_type": "code",
      "source": [
        "model_r_3f.loss_plot()"
      ],
      "metadata": {
        "colab": {
          "base_uri": "https://localhost:8080/",
          "height": 472
        },
        "id": "H74YZRXny3MO",
        "outputId": "243fe49e-87dc-4ba2-8510-69304916b618"
      },
      "execution_count": null,
      "outputs": [
        {
          "output_type": "display_data",
          "data": {
            "text/plain": [
              "<Figure size 640x480 with 1 Axes>"
            ],
            "image/png": "[encoded data removed]"
          },
          "metadata": {}
        }
      ]
    },
    {
      "cell_type": "code",
      "source": [
        "model_r_3f.accuracy_plot()"
      ],
      "metadata": {
        "colab": {
          "base_uri": "https://localhost:8080/",
          "height": 472
        },
        "id": "yZd4nhacy72B",
        "outputId": "b54a4713-38fd-44c0-dab5-54837cf7e152"
      },
      "execution_count": null,
      "outputs": [
        {
          "output_type": "display_data",
          "data": {
            "text/plain": [
              "<Figure size 640x480 with 1 Axes>"
            ],
            "image/png": "[encoded data removed]"
          },
          "metadata": {}
        }
      ]
    },
    {
      "cell_type": "markdown",
      "source": [
        "### Trying saving \n",
        "did not work - the random state is not fixed"
      ],
      "metadata": {
        "id": "MoQyB2BM8f6D"
      }
    },
    {
      "cell_type": "code",
      "source": [
        "model_r_3f.save_model('hybridmodel_r_3f')"
      ],
      "metadata": {
        "colab": {
          "base_uri": "https://localhost:8080/"
        },
        "id": "fyMkIDjRzESZ",
        "outputId": "1b43f044-af5c-4bc8-aee4-f079a4cc63a3"
      },
      "execution_count": null,
      "outputs": [
        {
          "output_type": "stream",
          "name": "stderr",
          "text": [
            "WARNING:absl:Found untraced functions such as _jit_compiled_convolution_op, _jit_compiled_convolution_op, _jit_compiled_convolution_op, _jit_compiled_convolution_op while saving (showing 4 of 4). These functions will not be directly callable after loading.\n"
          ]
        }
      ]
    },
    {
      "cell_type": "code",
      "source": [
        "m = HybridModel(models_path, X_train_seq,X_test_seq, itemized_train_data,itemized_test_data,y_train, y_test, num_sensors)\n",
        "m.load_model('hybridmodel_r_3f')"
      ],
      "metadata": {
        "id": "ZB1NwSs4zNBo"
      },
      "execution_count": null,
      "outputs": []
    },
    {
      "cell_type": "code",
      "source": [
        "m.evaluate()"
      ],
      "metadata": {
        "colab": {
          "base_uri": "https://localhost:8080/"
        },
        "id": "79Rlh_jyzZHh",
        "outputId": "32292cee-99ab-4548-9f90-39f2cd7d6750"
      },
      "execution_count": null,
      "outputs": [
        {
          "output_type": "stream",
          "name": "stdout",
          "text": [
            "143/143 [==============================] - 1s 7ms/step - loss: 1.6595 - accuracy: 0.3037\n",
            "Accuracy: 0.30370858311653137\n"
          ]
        }
      ]
    },
    {
      "cell_type": "markdown",
      "source": [
        "### Trying saving weights\n",
        "did not work - the random state is not fixed"
      ],
      "metadata": {
        "id": "bomGaKM94ssH"
      }
    },
    {
      "cell_type": "code",
      "source": [
        "model_r_3f.model.save_weights(models_path+\"hybridmodel_r_3f_weights.h5\")\n",
        "loaded_model = HybridModel(models_path, X_train_seq,X_test_seq, itemized_train_data,itemized_test_data,y_train, y_test, num_sensors)\n",
        "loaded_model.define()\n",
        "optimizer = Adam(learning_rate=0.001)\n",
        "loaded_model.model.compile(optimizer=optimizer, loss='binary_crossentropy', metrics=['accuracy'])\n",
        "loaded_model.model.load_weights(models_path+\"hybridmodel_r_3f_weights.h5\")\n",
        "loaded_model.evaluate()"
      ],
      "metadata": {
        "colab": {
          "base_uri": "https://localhost:8080/"
        },
        "id": "n2Y6_TPE3lzU",
        "outputId": "0812ce81-5a15-439a-f729-6406b996057b"
      },
      "execution_count": null,
      "outputs": [
        {
          "output_type": "stream",
          "name": "stdout",
          "text": [
            "143/143 [==============================] - 2s 10ms/step - loss: 1.6595 - accuracy: 0.3037\n",
            "Accuracy: 0.30370858311653137\n"
          ]
        }
      ]
    },
    {
      "cell_type": "markdown",
      "source": [
        "## Splitting train test for all the following models' inputs"
      ],
      "metadata": {
        "id": "Eep8eENRMlnC"
      }
    },
    {
      "cell_type": "code",
      "source": [
        "df = data.scaled_stances_statics_df.drop(['ID','y','level'],axis=1)\n",
        "y = data.scaled_stances_statics_df[[ 'y']]\n",
        "\n",
        "# splitting the data\n",
        "X_train, X_test, y_train, y_test = train_test_split(df, y, random_state=42)"
      ],
      "metadata": {
        "id": "Iq1ulGrIMwGF"
      },
      "execution_count": 33,
      "outputs": []
    },
    {
      "cell_type": "markdown",
      "source": [
        "## Hybrid model 2 (right stances with 6 features)"
      ],
      "metadata": {
        "id": "bPx173s7-pAL"
      }
    },
    {
      "cell_type": "code",
      "source": [
        "X_train_2=X_train[[ 'r_interp','r_swings_time','r_max_peak','r_total_fwhm','r_strides_time','r_peaks_toe','r_peaks_heel']]\n",
        "X_test_2= X_test [[ 'r_interp','r_swings_time','r_max_peak','r_total_fwhm','r_strides_time','r_peaks_toe','r_peaks_heel']]"
      ],
      "metadata": {
        "id": "HcMCY3dzNP1m"
      },
      "execution_count": 34,
      "outputs": []
    },
    {
      "cell_type": "code",
      "source": [
        "num_sensors=1\n",
        "\n",
        "train_seq_2=np.array(list(np.asarray(X_train_2['r_interp'])), dtype=float)\n",
        "test_seq_2=np.array(list(np.asarray(X_test_2['r_interp'])), dtype=float)\n",
        "\n",
        "# Reshape the sequences to be 3-dimensional (samples, timesteps, features)\n",
        "X_train_seq_2 = np.reshape( train_seq_2, (train_seq_2.shape[0],train_seq_2.shape[1], num_sensors))\n",
        "X_test_seq_2 = np.reshape( test_seq_2, (test_seq_2.shape[0],test_seq_2.shape[1], num_sensors))\n",
        "\n",
        "train_features_2 = X_train_2.drop('r_interp',axis=1)\n",
        "train_features_2=train_features_2.to_numpy()\n",
        "\n",
        "test_features_2 = X_test_2.drop('r_interp',axis=1)\n",
        "test_features_2=test_features_2.to_numpy()"
      ],
      "metadata": {
        "id": "HTdOIb1U-tPz"
      },
      "execution_count": 35,
      "outputs": []
    },
    {
      "cell_type": "code",
      "source": [
        "input_shape = (X_train_seq_2.shape[1], num_sensors)\n",
        "feature_input_shape=(train_features_2.shape[1],)\n",
        "\n",
        "# Define the CNN model\n",
        "cnn_input = Input(shape=input_shape)\n",
        "conv1 = Conv1D(filters=32, kernel_size=3, activation='relu')(cnn_input)\n",
        "pool1 = MaxPooling1D(pool_size=2)(conv1)\n",
        "conv2 = Conv1D(filters=64, kernel_size=3, activation='relu')(pool1)\n",
        "pool2 = MaxPooling1D(pool_size=2)(conv2)\n",
        "conv3 = Conv1D(filters=128, kernel_size=3, activation='relu')(pool2)\n",
        "pool3 = MaxPooling1D(pool_size=2)(conv3)\n",
        "conv4 = Conv1D(filters=512, kernel_size=3, activation='relu')(pool3)\n",
        "dropout = Dropout(0.5)(conv4)\n",
        "#pool4 = MaxPooling1D(pool_size=2)(conv4)\n",
        "flatten = Flatten()(dropout)\n",
        "cnn_output = Dense(128, activation='relu', kernel_regularizer=l2(0.01))(flatten)\n",
        "# cnn_output = Dense(128, activation='relu')(flatten)\n",
        "cnn_model = Model(inputs=cnn_input, outputs=cnn_output)\n",
        "\n",
        "# Define the fully connected model\n",
        "fc_input = Input(shape=feature_input_shape)\n",
        "\n",
        "concat = Concatenate()([cnn_output, fc_input])\n",
        "dense1 = Dense(128, activation='relu', kernel_regularizer=l2(0.01))(concat)\n",
        "dense2 = Dense(64, activation='relu')(dense1)\n",
        "dropout = Dropout(0.5)(dense2)\n",
        "dense3 = Dense(32, activation='relu')(dropout)\n",
        "\n",
        "fc_output = Dense(1, activation='sigmoid')(dense3)\n",
        "\n",
        "model_r_6f = Model(inputs=[cnn_input, fc_input], outputs=fc_output)\n",
        "\n",
        "# Compile the model\n",
        "optimizer = Adam(learning_rate=0.001)\n",
        "model_r_6f.compile(optimizer=optimizer, loss='binary_crossentropy', metrics=['accuracy'])"
      ],
      "metadata": {
        "id": "rlP3fg2rc7Yp"
      },
      "execution_count": null,
      "outputs": []
    },
    {
      "cell_type": "code",
      "source": [
        "early_stopping = EarlyStopping(monitor='val_loss', patience=5)\n",
        "history_r_6f = model_r_6f.fit([X_train_seq_2, train_features_2], y_train, validation_split=0.2, epochs=50, batch_size=32, callbacks=[early_stopping])\n",
        "     "
      ],
      "metadata": {
        "colab": {
          "base_uri": "https://localhost:8080/"
        },
        "id": "E5ULK-BMd8DL",
        "outputId": "d341d554-a42a-4a16-8ca5-ad2eda9d974a"
      },
      "execution_count": null,
      "outputs": [
        {
          "output_type": "stream",
          "name": "stdout",
          "text": [
            "Epoch 1/50\n",
            "342/342 [==============================] - 17s 45ms/step - loss: 1.8904 - accuracy: 0.6648 - val_loss: 0.7087 - val_accuracy: 0.6803\n",
            "Epoch 2/50\n",
            "342/342 [==============================] - 15s 44ms/step - loss: 0.6725 - accuracy: 0.6927 - val_loss: 0.6306 - val_accuracy: 0.6767\n",
            "Epoch 3/50\n",
            "342/342 [==============================] - 15s 44ms/step - loss: 0.6339 - accuracy: 0.6891 - val_loss: 0.6072 - val_accuracy: 0.6767\n",
            "Epoch 4/50\n",
            "342/342 [==============================] - 15s 44ms/step - loss: 0.6099 - accuracy: 0.6910 - val_loss: 0.6152 - val_accuracy: 0.6763\n",
            "Epoch 5/50\n",
            "342/342 [==============================] - 15s 44ms/step - loss: 0.6052 - accuracy: 0.6918 - val_loss: 0.5869 - val_accuracy: 0.6832\n",
            "Epoch 6/50\n",
            "342/342 [==============================] - 15s 44ms/step - loss: 0.6027 - accuracy: 0.6898 - val_loss: 0.5882 - val_accuracy: 0.6767\n",
            "Epoch 7/50\n",
            "342/342 [==============================] - 15s 44ms/step - loss: 0.5947 - accuracy: 0.6903 - val_loss: 0.5789 - val_accuracy: 0.6770\n",
            "Epoch 8/50\n",
            "342/342 [==============================] - 15s 44ms/step - loss: 0.5990 - accuracy: 0.6899 - val_loss: 0.5813 - val_accuracy: 0.6767\n",
            "Epoch 9/50\n",
            "153/342 [============>.................] - ETA: 7s - loss: 0.5928 - accuracy: 0.6920"
          ]
        }
      ]
    },
    {
      "cell_type": "code",
      "source": [
        "model_r_6f = HybridModel(models_path, X_train_seq_2,X_test_seq_2, train_features_2,test_features_2,y_train, y_test, num_sensors)\n",
        "model_r_6f.build()\n",
        "model_r_6f.taining(0.2, 50, 32)"
      ],
      "metadata": {
        "colab": {
          "base_uri": "https://localhost:8080/"
        },
        "id": "hF5zjbxmNxdo",
        "outputId": "7cf7ea6c-2add-4ad9-cea0-eb601f12fa88"
      },
      "execution_count": null,
      "outputs": [
        {
          "output_type": "stream",
          "name": "stdout",
          "text": [
            "Epoch 1/50\n",
            "342/342 [==============================] - 12s 32ms/step - loss: 1.2341 - accuracy: 0.6794 - val_loss: 0.5477 - val_accuracy: 0.7260\n",
            "Epoch 2/50\n",
            "342/342 [==============================] - 9s 25ms/step - loss: 0.7304 - accuracy: 0.6787 - val_loss: 0.6295 - val_accuracy: 0.6818\n",
            "Epoch 3/50\n",
            "342/342 [==============================] - 11s 31ms/step - loss: 0.6585 - accuracy: 0.6925 - val_loss: 0.6648 - val_accuracy: 0.6931\n",
            "Epoch 4/50\n",
            "342/342 [==============================] - 11s 32ms/step - loss: 0.6403 - accuracy: 0.6995 - val_loss: 1.4677 - val_accuracy: 0.6767\n",
            "Epoch 5/50\n",
            "342/342 [==============================] - 8s 25ms/step - loss: 0.6507 - accuracy: 0.6904 - val_loss: 0.6933 - val_accuracy: 0.6975\n",
            "Epoch 6/50\n",
            "342/342 [==============================] - 10s 30ms/step - loss: 0.6664 - accuracy: 0.6911 - val_loss: 0.5872 - val_accuracy: 0.7275\n"
          ]
        }
      ]
    },
    {
      "cell_type": "code",
      "source": [
        "y_prediction =model_r_6f.predicting()\n",
        "y_prediction[y_prediction <= 0.5] = 0.\n",
        "y_prediction[y_prediction > 0.5] = 1.\n",
        "model_r_6f.scores(y_prediction)"
      ],
      "metadata": {
        "colab": {
          "base_uri": "https://localhost:8080/"
        },
        "id": "vR7y5FjCO2Xn",
        "outputId": "94664fca-cbf3-4e60-8c2d-b99eb14652a9"
      },
      "execution_count": null,
      "outputs": [
        {
          "output_type": "stream",
          "name": "stdout",
          "text": [
            "143/143 [==============================] - 1s 8ms/step\n",
            "Precision:      0.7407794925451217\n",
            "Recall:         0.915615906886518\n",
            "F1:             0.8189705031810296\n",
            "Accuracy:       0.7252578450735133\n",
            "True Negative:  0.6444141689373297\n",
            "False Positive: 0.25922050745487835\n",
            "False Negative: 0.3555858310626703\n",
            "True Positive:  0.7407794925451217\n"
          ]
        }
      ]
    },
    {
      "cell_type": "markdown",
      "source": [
        "## ![image.png](data:image/png;base64,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)"
      ],
      "metadata": {
        "id": "9YWCXSJeDhk5"
      }
    },
    {
      "cell_type": "code",
      "source": [
        "scaled_stances_statics_df=pd.read_parquet(parquet_path+'scaled_stances_statics.gzip')"
      ],
      "metadata": {
        "id": "8LTeR-adTq-U"
      },
      "execution_count": 6,
      "outputs": []
    },
    {
      "cell_type": "code",
      "source": [
        "stance_index = np.arange(1,18227)"
      ],
      "metadata": {
        "id": "YrTZF8JzLC2t"
      },
      "execution_count": 7,
      "outputs": []
    },
    {
      "cell_type": "code",
      "source": [
        "scaled_stances_statics_df.shape"
      ],
      "metadata": {
        "colab": {
          "base_uri": "https://localhost:8080/"
        },
        "id": "BrLmJItBRTxu",
        "outputId": "65c2ec8c-b915-4337-bec3-a1c4d942a2ea"
      },
      "execution_count": 7,
      "outputs": [
        {
          "output_type": "execute_result",
          "data": {
            "text/plain": [
              "(18226, 177)"
            ]
          },
          "metadata": {},
          "execution_count": 7
        }
      ]
    },
    {
      "cell_type": "code",
      "source": [
        "df_indexed  = scaled_stances_statics_df.insert(3, \"stance_index\", stance_index, True)"
      ],
      "metadata": {
        "id": "anP5Lq8MLQLW"
      },
      "execution_count": 8,
      "outputs": []
    },
    {
      "cell_type": "code",
      "source": [
        "col_lists_9=[]\n",
        "for col in [\"l\",\"r\",\"L1\",\t\"L2\",\t\"L3\"\t,\"L4\"\t,\"L5\",\t\"L6\",\t\"L7\"\t,\"L8\",\t\"R1\",\t\"R2\"\t,\"R3\",\t\"R4\",\t\"R5\",\t\"R6\",\t\"R7\",\t\"R8\"]:\n",
        "    for x in [\"interp\"]:\n",
        "      col_lists_9.append( col +'_' +  x)"
      ],
      "metadata": {
        "id": "mPnUgBvfOP-7"
      },
      "execution_count": 9,
      "outputs": []
    },
    {
      "cell_type": "code",
      "source": [
        "df_temp = scaled_stances_statics_df.explode(col_lists_9)"
      ],
      "metadata": {
        "id": "vCSujg-ZJxr7"
      },
      "execution_count": 10,
      "outputs": []
    },
    {
      "cell_type": "code",
      "source": [
        "df_temp=df_temp.fillna(0)"
      ],
      "metadata": {
        "id": "0r2b6pcjQyiO"
      },
      "execution_count": 11,
      "outputs": []
    },
    {
      "cell_type": "code",
      "source": [
        "#df_temp[col_lists_9].isnull().values.any()"
      ],
      "metadata": {
        "id": "p9ridzirQgw1"
      },
      "execution_count": null,
      "outputs": []
    },
    {
      "cell_type": "code",
      "source": [
        "df_temp['combined'] = [x for x in df_temp[col_lists_9].to_numpy()]"
      ],
      "metadata": {
        "id": "mwxSEiSjMf8Y"
      },
      "execution_count": 12,
      "outputs": []
    },
    {
      "cell_type": "code",
      "source": [
        "df_temp.shape"
      ],
      "metadata": {
        "colab": {
          "base_uri": "https://localhost:8080/"
        },
        "id": "5LTj_GNqMQfc",
        "outputId": "afda084f-54b1-437a-dd5d-33cc9e60e3ae"
      },
      "execution_count": 13,
      "outputs": [
        {
          "output_type": "execute_result",
          "data": {
            "text/plain": [
              "(1822600, 179)"
            ]
          },
          "metadata": {},
          "execution_count": 13
        }
      ]
    },
    {
      "cell_type": "code",
      "source": [
        "stances = df_temp.groupby('stance_index')['combined'].apply(np.array).reset_index(name='stances_points')"
      ],
      "metadata": {
        "id": "7-XYVpglNGs_"
      },
      "execution_count": 14,
      "outputs": []
    },
    {
      "cell_type": "code",
      "source": [
        "type(stances)"
      ],
      "metadata": {
        "colab": {
          "base_uri": "https://localhost:8080/"
        },
        "id": "cJb0Y6ZFUJAE",
        "outputId": "9c22972e-a041-4e63-f5c3-55c70b1effce"
      },
      "execution_count": 15,
      "outputs": [
        {
          "output_type": "execute_result",
          "data": {
            "text/plain": [
              "pandas.core.frame.DataFrame"
            ]
          },
          "metadata": {},
          "execution_count": 15
        }
      ]
    },
    {
      "cell_type": "code",
      "source": [
        "stances.to_parquet(parquet_path+'scaled_stances_statics_forHM.gzip')"
      ],
      "metadata": {
        "id": "5kskHpQwULbU"
      },
      "execution_count": 16,
      "outputs": []
    },
    {
      "cell_type": "code",
      "source": [
        "s = stances['stances_points'].to_numpy()"
      ],
      "metadata": {
        "id": "p4aXFwnqN1wF"
      },
      "execution_count": 17,
      "outputs": []
    },
    {
      "cell_type": "code",
      "source": [
        "s = np.asarray(stances[\"stances_points\"])"
      ],
      "metadata": {
        "id": "wwd13q0lPRWY"
      },
      "execution_count": 19,
      "outputs": []
    },
    {
      "cell_type": "code",
      "source": [
        "df = data.scaled_stances_statics_df.drop(['ID','y','level'],axis=1)\n",
        "y = data.scaled_stances_statics_df[[ 'y']]\n",
        "\n",
        "# splitting the data\n",
        "X_train, X_test, y_train, y_test = train_test_split(df, y, random_state=42)"
      ],
      "metadata": {
        "id": "Hh_4fbnIGNfz"
      },
      "execution_count": 11,
      "outputs": []
    },
    {
      "cell_type": "code",
      "source": [
        "colnames_9=['r_interp','l_interp','r_swings_time','r_max_peak','r_total_fwhm','r_strides_time','r_peaks_toe','r_peaks_heel','l_swings_time','l_max_peak','l_total_fwhm','l_strides_time','l_peaks_toe','l_peaks_heel']\n",
        "for col in [\"L1\",\t\"L2\",\t\"L3\"\t,\"L4\",\t\"L5\",\t\"L6\",\t\"L7\"\t,\"L8\",\t\"R1\",\t\"R2\"\t,\"R3\",\t\"R4\",\t\"R5\",\t\"R6\",\t\"R7\",\t\"R8\"]:\n",
        "    for x in [\"interp\", \"fwhm\"]:\n",
        "      colnames_9.append( col +'_' +  x)"
      ],
      "metadata": {
        "id": "VKKIKFiVDhAJ"
      },
      "execution_count": 8,
      "outputs": []
    },
    {
      "cell_type": "code",
      "source": [
        "train_features  = X_train.drop(col_lists_9,axis=1)\n",
        "train_features =train_features.to_numpy()"
      ],
      "metadata": {
        "id": "Nd8jw9hTHQK_"
      },
      "execution_count": 30,
      "outputs": []
    },
    {
      "cell_type": "code",
      "source": [
        "num_sensors=18\n",
        "\n",
        "train_seq =np.array(list(np.asarray(X_train[col_lists_9])), dtype=float)\n",
        "test_seq =np.array(list(np.asarray(X_test[col_lists_9])), dtype=float)\n",
        "\n",
        "# Reshape the sequences to be 3-dimensional (samples, timesteps, features)\n",
        "X_train_seq  = np.reshape( train_seq , (train_seq .shape[0],train_seq .shape[1], num_sensors))\n",
        "X_test_seq  = np.reshape( test_seq , (test_seq .shape[0],test_seq .shape[1], num_sensors))\n",
        "\n",
        "train_features  = X_train.drop(col_lists_9,axis=1)\n",
        "train_features =train_features.to_numpy()\n",
        "\n",
        "test_features  = X_test.drop(col_lists_9,axis=1)\n",
        "test_features =test_features.to_numpy()"
      ],
      "metadata": {
        "id": "wrl0pBYqFh6j"
      },
      "execution_count": null,
      "outputs": []
    }
  ]
}