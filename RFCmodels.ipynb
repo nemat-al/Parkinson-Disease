{
  "nbformat": 4,
  "nbformat_minor": 0,
  "metadata": {
    "colab": {
      "provenance": [],
      "collapsed_sections": [
        "MKGf5VKJNXWm",
        "RCMwlVS3hlkh",
        "_zV84w2CREUz",
        "MWmZSwb2GwhW",
        "bsTww39S-B1M",
        "ZGlB4CoaRA6s",
        "G_8VoeVA4kv6",
        "XUPH5RyjBXEP",
        "OoXZax7CrwnL",
        "hcySvPsbFqer",
        "aHzN61VULEay",
        "FtjB199dOR-m",
        "GJzuSBzlQ8ES",
        "_uVtT474sqOn",
        "WunSzzfXco69"
      ]
    },
    "kernelspec": {
      "name": "python3",
      "display_name": "Python 3"
    },
    "language_info": {
      "name": "python"
    }
  },
  "cells": [
    {
      "cell_type": "markdown",
      "source": [
        "The plan\n",
        "1. Binary Classification:\n",
        "- [Basemodel](#scrollTo=Ru-RizLKGFbU&line=1&uniqifier=1)\n",
        "- [RFC on scaled stances with 3 extra features](#scrollTo=MWmZSwb2GwhW&line=1&uniqifier=1)\n",
        "- [RFC on scaled stances with 6 extra features](#scrollTo=G_8VoeVA4kv6)\n",
        "- [RFC on scaled stances with 3 extra features and statics](#scrollTo=XUPH5RyjBXEP)\n",
        "- [RFC on scaled stances with 6 extra features and statics](#scrollTo=hcySvPsbFqer)\n",
        "- [RFC model on scaled stances from the right & left foot with 6 extra features each](#scrollTo=aHzN61VULEay&line=1&uniqifier=1)\n",
        "- [RFC model on scaled stances from the right & left foot with 6 extra features each and basemodels](#scrollTo=FtjB199dOR-m&line=1&uniqifier=1)\n",
        "- [RFC model on scaled stances from 16 sensor from the right & left foot with 6 extra features each](#scrollTo=GJzuSBzlQ8ES&line=1&uniqifier=1)\n",
        "- [RFC model on scaled stances from 16 sensor from the right & left foot with the sum of all sensors and with 6 extra features each ](#scrollTo=WunSzzfXco69&line=1&uniqifier=1)\n",
        "- [RFC model on scaled stances from 16 sensor from the right & left foot and the sum of all sensors and with 6 extra features each foot and the statics from base models](#scrollTo=Pbf7jqHRdG2b&line=1&uniqifier=1)\n",
        "\n",
        "1. Multiclass Classification - Severity Detection\n",
        "- [Baselline Model](#scrollTo=RFVESVzhj2qv&line=1&uniqifier=1)\n",
        "- [RFC model on scaled stances from 16 sensor from the right & left foot with the sum of all sensors and with 6 extra features each](#scrollTo=ihK6ZuxMlqaK&line=1&uniqifier=1)\n",
        "- [RFC model on scaled stances from 16 sensor from the right & left foot and the sum of all sensors and with 6 extra features each foot and the statics from base models](#scrollTo=hNWcAO2OpvTo&line=1&uniqifier=1)\n",
        "\n",
        "\n"
      ],
      "metadata": {
        "id": "976xz1gqjwu6"
      }
    },
    {
      "cell_type": "markdown",
      "source": [
        "## Importing libraries"
      ],
      "metadata": {
        "id": "MKGf5VKJNXWm"
      }
    },
    {
      "cell_type": "code",
      "source": [
        "import pandas as pd\n",
        "import numpy as np\n",
        "\n",
        "from sklearn.preprocessing import PolynomialFeatures\n",
        "from sklearn import decomposition\n",
        "from sklearn.model_selection import train_test_split\n",
        "from sklearn import decomposition\n",
        "from sklearn.svm import SVC\n",
        "from sklearn.ensemble import RandomForestClassifier\n",
        "from sklearn.metrics import accuracy_score,precision_score, recall_score, f1_score, auc, roc_curve\n",
        "from sklearn.preprocessing import StandardScaler\n",
        "from sklearn.metrics import make_scorer\n",
        "from sklearn.model_selection import cross_validate\n",
        "from sklearn.model_selection import cross_val_score\n",
        "\n",
        "import os\n",
        "\n",
        "import sys\n",
        "\n",
        "from tqdm.auto import tqdm\n",
        "\n",
        "import shutil\n",
        "\n",
        "from itertools import groupby\n",
        "\n",
        "import matplotlib.pyplot as plt\n",
        "\n",
        "from statistics import mean\n",
        "\n",
        "import scipy.stats as stats\n",
        "from scipy.stats import skew\n",
        "from scipy.stats import kurtosis\n",
        "from scipy.fftpack import fft\n",
        "from scipy import signal\n",
        "\n",
        "import tensorflow as tf\n",
        "from tensorflow import keras\n",
        "\n",
        "from keras.models import Sequential, Model\n",
        "from keras.layers import LSTM, Dense, Input, Flatten, Conv1D, MaxPooling1D, Concatenate, Dropout\n",
        "from keras.optimizers import Adam\n",
        "from keras.callbacks import EarlyStopping\n",
        "from keras.utils.vis_utils import plot_model\n",
        "\n",
        "from sklearn.model_selection import GridSearchCV"
      ],
      "metadata": {
        "id": "lRy2MqBiNXsk"
      },
      "execution_count": 5,
      "outputs": []
    },
    {
      "cell_type": "code",
      "source": [
        "sys.path.insert(0,\"/content/drive/MyDrive/ITMO-Master's/Thesis/3rd_semester\")"
      ],
      "metadata": {
        "id": "ZZhPfk7MESDP"
      },
      "execution_count": 26,
      "outputs": []
    },
    {
      "cell_type": "markdown",
      "source": [
        "## Importing my Classes :)"
      ],
      "metadata": {
        "id": "RCMwlVS3hlkh"
      }
    },
    {
      "cell_type": "code",
      "source": [
        "parquet_path = \"/content/drive/MyDrive/ITMO-Master's/Thesis/3rd_semester/Data/parquet_files/\"\n",
        "models_path = \"/content/drive/MyDrive/ITMO-Master's/Thesis/3rd_semester/Models/\""
      ],
      "metadata": {
        "id": "1U-rpquAF3df"
      },
      "execution_count": 21,
      "outputs": []
    },
    {
      "cell_type": "code",
      "source": [
        "# Data Class\n",
        "import DataClass \n",
        "from DataClass import Data\n",
        "# Random Forest Classifier Class\n",
        "import RFClassifier\n",
        "from RFClassifier import RFClassifier"
      ],
      "metadata": {
        "id": "k3zGGX3YJBd1"
      },
      "execution_count": 27,
      "outputs": []
    },
    {
      "cell_type": "code",
      "source": [
        "# read prepared data\n",
        "data = Data( 0, \"\", \"\",parquet_path)"
      ],
      "metadata": {
        "id": "ZI8B15BwEHsY"
      },
      "execution_count": 28,
      "outputs": []
    },
    {
      "cell_type": "code",
      "source": [
        "data.scaled_stances_statics_df=data.scaled_stances_statics_df.rename({'L4_kurtosis':'L4_Kurtosis','L5_kurtosis':'L5_Kurtosis'},axis=1)"
      ],
      "metadata": {
        "id": "wsG7XlOd26B1"
      },
      "execution_count": 29,
      "outputs": []
    },
    {
      "cell_type": "code",
      "source": [],
      "metadata": {
        "id": "3rZyURJc97jf"
      },
      "execution_count": null,
      "outputs": []
    },
    {
      "cell_type": "markdown",
      "source": [
        "## RFC (Binary Classification)"
      ],
      "metadata": {
        "id": "a9srsud74m9Z"
      }
    },
    {
      "cell_type": "code",
      "source": [
        "def cross_val(rfc, X_train, y_train,X_test,y_test, n_folds,average):\n",
        "  # Use cross validation to train and evaluate the model\n",
        "  scores = cross_val_score(rfc, X_train, y_train, cv=n_folds)\n",
        "\n",
        "  # Print the mean and standard deviation of the cross validation scores\n",
        "  print(\"Cross Validation Accuracy: %0.2f (+/- %0.2f)\" % (scores.mean(), scores.std() * 2))\n",
        "\n",
        "  # Train the model on the full training set\n",
        "  rfc.fit(X_train, y_train)\n",
        "\n",
        "  # Test the model on the separate test data\n",
        "  y_pred = rfc.predict(X_test)\n",
        "\n",
        "  # Calculate the accuracy score of the model on the test data\n",
        "  accuracy = accuracy_score(y_test, y_pred)\n",
        "  prec = precision_score(y_test, y_pred,average=average)\n",
        "  rec = recall_score(y_test, y_pred,average=average)\n",
        "  f1 = f1_score(y_test, y_pred,average=average)\n",
        "  # Print the accuracy score of the model on the test data\n",
        "  print(\"Test Accuracy:\", accuracy)\n",
        "  print(\"Test Prec:\", prec)\n",
        "  print(\"Test Recall:\", rec)\n",
        "  print(\"Test F1:\", f1)"
      ],
      "metadata": {
        "id": "FdXVi4YMDNpA"
      },
      "execution_count": 37,
      "outputs": []
    },
    {
      "cell_type": "code",
      "source": [
        "def cross_val_multiple_scores(rfc,X,y,cv,average):\n",
        "  scoring = {'acc': make_scorer(accuracy_score),\n",
        "            'prec': make_scorer(precision_score,average=average),\n",
        "            'rec': make_scorer(recall_score,average=average),\n",
        "            'f1': make_scorer(f1_score,average=average)}\n",
        "  scores = cross_validate (rfc, X, y, scoring=scoring,\n",
        "                          cv=cv, return_train_score=True)\n",
        "  print(f\"Test Accuracy: {scores['test_acc'].mean()} +/- {scores['test_acc'].std() *2 }\")\n",
        "  print(f\"Test Prec: {scores['test_prec'].mean()} +/- {scores['test_prec'].std() *2 }\")\n",
        "  print(f\"Test Recall: {scores['test_rec'].mean()} +/- {scores['test_rec'].std() *2 }\")\n",
        "  print(f\"Test F1: {scores['test_f1'].mean()} +/- {scores['test_f1'].std() *2 }\")\n",
        "  return [scores['test_acc'].mean(), scores['test_prec'].mean(), scores['test_rec'].mean(), scores['test_f1'].mean()]\n"
      ],
      "metadata": {
        "id": "Wf976yr9lSeO"
      },
      "execution_count": 38,
      "outputs": []
    },
    {
      "cell_type": "code",
      "source": [
        "cross_scores = {'acc':[],\"prec\":[],\"rec\":[],\"f1\":[]}"
      ],
      "metadata": {
        "id": "lgmWrvG4mOi-"
      },
      "execution_count": null,
      "outputs": []
    },
    {
      "cell_type": "code",
      "source": [
        "cross_scores_search = {'acc':[],\"prec\":[],\"rec\":[],\"f1\":[]}"
      ],
      "metadata": {
        "id": "D0eyAMcu_DgY"
      },
      "execution_count": null,
      "outputs": []
    },
    {
      "cell_type": "code",
      "source": [
        "cross_scores_search_multi = {'acc':[],\"prec\":[],\"rec\":[],\"f1\":[]}"
      ],
      "metadata": {
        "id": "6iNyiW_I9NUP"
      },
      "execution_count": null,
      "outputs": []
    },
    {
      "cell_type": "code",
      "source": [
        "# Define the parameter grid for grid search\n",
        "param_grid = {\n",
        "    'n_estimators': [10, 50, 100, 200]\n",
        "    #,'max_depth': [5, 10, 20],\n",
        "    #'min_samples_split': [2, 5, 10],\n",
        "    #'n_jobs' : [-1,1,2,4]\n",
        "}\n",
        "def cross_val_search(X_train, y_train,X_test, y_test, average='binary',param_grid=param_grid):\n",
        "    # Create a random forest classifier\n",
        "    rf = RandomForestClassifier()\n",
        "\n",
        "    # Use cross validation to find the best parameters\n",
        "    grid_search = GridSearchCV(rf, param_grid=param_grid, cv=5)\n",
        "    grid_search.fit(X_train, y_train)\n",
        "\n",
        "    # Train the model on the entire training set with the best parameters\n",
        "    best_rf = RandomForestClassifier(**grid_search.best_params_)\n",
        "    best_rf.fit(X_train, y_train)\n",
        "\n",
        "    # Predict on the test set and evaluate performance\n",
        "    y_pred = best_rf.predict(X_test)\n",
        "\n",
        "    accuracy = accuracy_score(y_test, y_pred)\n",
        "    prec = precision_score(y_test, y_pred,average=average)\n",
        "    rec = recall_score(y_test, y_pred,average=average)\n",
        "    f1 = f1_score(y_test, y_pred,average=average)\n",
        "    # Print the accuracy score of the model on the test data\n",
        "    print(\"Test Accuracy:\", accuracy)\n",
        "    print(\"Test Prec:\", prec)\n",
        "    print(\"Test Recall:\", rec)\n",
        "    print(\"Test F1:\", f1)\n",
        "    print(grid_search.best_params_)\n",
        "    return [accuracy,prec,rec,f1,y_pred]"
      ],
      "metadata": {
        "id": "GxAa4KhmoMlu"
      },
      "execution_count": null,
      "outputs": []
    },
    {
      "cell_type": "markdown",
      "source": [
        "### Baseline model"
      ],
      "metadata": {
        "id": "Ru-RizLKGFbU"
      }
    },
    {
      "cell_type": "code",
      "source": [
        "# the data used \n",
        "data.raw_statics_df.shape"
      ],
      "metadata": {
        "colab": {
          "base_uri": "https://localhost:8080/"
        },
        "id": "bLeoSc43L8NA",
        "outputId": "5036015a-a4f8-4290-fe8f-59becd6614ae"
      },
      "execution_count": null,
      "outputs": [
        {
          "output_type": "execute_result",
          "data": {
            "text/plain": [
              "(304, 129)"
            ]
          },
          "metadata": {},
          "execution_count": 7
        }
      ]
    },
    {
      "cell_type": "code",
      "source": [
        "# splitting the data into train and test data\n",
        "y = data.raw_statics_df['y']\n",
        "X = data.raw_statics_df.drop(columns=['ID', 'level', 'y'], axis=1)\n",
        "X_train, X_test, y_train, y_test = train_test_split(X, y, random_state=64)"
      ],
      "metadata": {
        "id": "Ge91HG2YL-uQ"
      },
      "execution_count": null,
      "outputs": []
    },
    {
      "cell_type": "code",
      "source": [
        "# Checking which RFC will work the best\n",
        "rfc = RFClassifier(models_path,200,2)\n",
        "ccs=rfc.multiple_training([5, 10, 20, 40, 100, 200],2,X_train, np.ravel(y_train), X_test, y_test)"
      ],
      "metadata": {
        "colab": {
          "base_uri": "https://localhost:8080/"
        },
        "id": "cDCv97pVeczT",
        "outputId": "32347a48-ea08-42df-f026-b83ff0ba1176"
      },
      "execution_count": null,
      "outputs": [
        {
          "output_type": "stream",
          "name": "stdout",
          "text": [
            "Estimator = 5\n",
            "Accuracy: 0.8553, Precision: 0.8462, Recall: 0.9821, F1: 0.9091\n",
            "Estimator = 10\n",
            "Accuracy: 0.8553, Precision: 0.8571, Recall: 0.9643, F1: 0.9076\n",
            "Estimator = 20\n",
            "Accuracy: 0.8289, Precision: 0.8525, Recall: 0.9286, F1: 0.8889\n",
            "Estimator = 40\n",
            "Accuracy: 0.8816, Precision: 0.8852, Recall: 0.9643, F1: 0.9231\n",
            "Estimator = 100\n",
            "Accuracy: 0.9211, Precision: 0.9167, Recall: 0.9821, F1: 0.9483\n",
            "Estimator = 200\n",
            "Accuracy: 0.9079, Precision: 0.9153, Recall: 0.9643, F1: 0.9391\n"
          ]
        }
      ]
    },
    {
      "cell_type": "code",
      "source": [
        "# recreating the best model to be saved\n",
        "rfc_100 = RFClassifier(models_path,100,2)\n",
        "rfc_100.taining(X_train,np.ravel(y_train))\n",
        "y_pred=rfc_100.predict(X_test)\n",
        "scores=rfc_100.scores(y_test, y_pred)\n",
        "rfc_100.print_scores(scores[0],scores[1],scores[2],scores[3])\n",
        "# saving the best model\n",
        "#rfc_100.save_model(\"RFC_raw_statics_100\")"
      ],
      "metadata": {
        "id": "EpTLKgI5THE0",
        "colab": {
          "base_uri": "https://localhost:8080/"
        },
        "outputId": "1d175d44-8a0c-4f42-d79a-110768f493ca"
      },
      "execution_count": null,
      "outputs": [
        {
          "output_type": "stream",
          "name": "stdout",
          "text": [
            "Accuracy: 0.9210526315789473\n",
            "Precision: 0.9166666666666666\n",
            "Recall: 0.9821428571428571\n",
            "F1: 0.9482758620689654\n"
          ]
        }
      ]
    },
    {
      "cell_type": "markdown",
      "source": [
        "#### Cross validation\n",
        "Measures from validation while training with cross-validation"
      ],
      "metadata": {
        "id": "_zV84w2CREUz"
      }
    },
    {
      "cell_type": "code",
      "source": [
        "rfc = RandomForestClassifier(n_estimators= int(100), n_jobs= 2,random_state=42)\n",
        "scores = cross_val_multiple_scores(rfc,X,y,10)"
      ],
      "metadata": {
        "colab": {
          "base_uri": "https://localhost:8080/"
        },
        "id": "mo_F--1_iV_5",
        "outputId": "9d654202-2918-4edb-d303-10b39999cc04"
      },
      "execution_count": null,
      "outputs": [
        {
          "output_type": "stream",
          "name": "stdout",
          "text": [
            "Test Accuracy: 0.8329032258064517 +/- 0.18099863011780162\n",
            "Test Prec: 0.8715562236364335 +/- 0.1615824318012923\n",
            "Test Recall: 0.9084415584415584 +/- 0.19008273018152513\n",
            "Test F1: 0.8844408830463187 +/- 0.122726873000547\n"
          ]
        }
      ]
    },
    {
      "cell_type": "code",
      "source": [
        "cross_scores['acc'].append(scores[0])\n",
        "cross_scores['prec'].append(scores[1])\n",
        "cross_scores['rec'].append(scores[2])\n",
        "cross_scores['f1'].append(scores[3])"
      ],
      "metadata": {
        "id": "G8MpnKQdj1zH"
      },
      "execution_count": null,
      "outputs": []
    },
    {
      "cell_type": "markdown",
      "source": [
        "#### Cross validation\n",
        "Search via cross validation then testing"
      ],
      "metadata": {
        "id": "KvwqrQF0-O2A"
      }
    },
    {
      "cell_type": "code",
      "source": [
        "#rfc = RandomForestClassifier(n_estimators= int(100), n_jobs= 2,random_state=42)\n",
        "#cross_val(rfc, X_train, y_train, X_test, y_test,10,'binary')"
      ],
      "metadata": {
        "colab": {
          "base_uri": "https://localhost:8080/"
        },
        "id": "eyH7xEerD79G",
        "outputId": "25dd1244-5bc7-4ea6-e342-e0cc600b2e6e"
      },
      "execution_count": null,
      "outputs": [
        {
          "output_type": "stream",
          "name": "stdout",
          "text": [
            "Cross Validation Accuracy: 0.88 (+/- 0.13)\n",
            "Test Accuracy: 0.9210526315789473\n",
            "Test Prec: 0.9166666666666666\n",
            "Test Recall: 0.9821428571428571\n",
            "Test F1: 0.9482758620689654\n"
          ]
        }
      ]
    },
    {
      "cell_type": "code",
      "source": [
        "# cross_val_search(X_train, y_train,X_test, y_test)"
      ],
      "metadata": {
        "colab": {
          "base_uri": "https://localhost:8080/"
        },
        "id": "QuQAkqSCmqBT",
        "outputId": "522b259f-f46d-4cf4-8e1a-21647c617e3a"
      },
      "execution_count": null,
      "outputs": [
        {
          "output_type": "stream",
          "name": "stdout",
          "text": [
            "Test Accuracy: 0.8947368421052632\n",
            "Test Prec: 0.9137931034482759\n",
            "Test Recall: 0.9464285714285714\n",
            "Test F1: 0.9298245614035087\n"
          ]
        }
      ]
    },
    {
      "cell_type": "code",
      "source": [
        "scores = cross_val_search(X_train, y_train,X_test, y_test)"
      ],
      "metadata": {
        "colab": {
          "base_uri": "https://localhost:8080/"
        },
        "id": "0sCCZtU1CARR",
        "outputId": "5d65e7d4-b0f7-4417-9fa2-3927d47481e3"
      },
      "execution_count": null,
      "outputs": [
        {
          "output_type": "stream",
          "name": "stdout",
          "text": [
            "Test Accuracy: 0.881578947368421\n",
            "Test Prec: 0.8983050847457628\n",
            "Test Recall: 0.9464285714285714\n",
            "Test F1: 0.9217391304347826\n",
            "{'n_estimators': 200}\n"
          ]
        }
      ]
    },
    {
      "cell_type": "code",
      "source": [
        "cross_scores_search['acc'].append(scores[0])\n",
        "cross_scores_search['prec'].append(scores[1])\n",
        "cross_scores_search['rec'].append(scores[2])\n",
        "cross_scores_search['f1'].append(scores[3])"
      ],
      "metadata": {
        "id": "pkVG2dvODTep"
      },
      "execution_count": null,
      "outputs": []
    },
    {
      "cell_type": "code",
      "source": [
        "cross_scores_search"
      ],
      "metadata": {
        "colab": {
          "base_uri": "https://localhost:8080/"
        },
        "id": "e1JXriEwKKUt",
        "outputId": "9ae9c11e-54d3-4f93-bca1-b7d06bffffe6"
      },
      "execution_count": null,
      "outputs": [
        {
          "output_type": "execute_result",
          "data": {
            "text/plain": [
              "{'acc': [0.881578947368421],\n",
              " 'prec': [0.8983050847457628],\n",
              " 'rec': [0.9464285714285714],\n",
              " 'f1': [0.9217391304347826]}"
            ]
          },
          "metadata": {},
          "execution_count": 93
        }
      ]
    },
    {
      "cell_type": "markdown",
      "source": [
        "### Scaled stances wih fwhm from the sum of forces from the right foot with 3 extra features\n",
        " 'r_swings_time','r_max_peak','r_total_fwhm'"
      ],
      "metadata": {
        "id": "MWmZSwb2GwhW"
      }
    },
    {
      "cell_type": "code",
      "source": [
        "# input data and label data\n",
        "df_1 = data.scaled_stances_statics_df[[ 'r_interp','r_swings_time','r_max_peak','r_total_fwhm']]\n",
        "y_1 = data.scaled_stances_statics_df[[ 'y']]\n",
        "# reformatting\n",
        "df_1 = data.return_array_df(df_1,'r_interp',['r_swings_time','r_max_peak','r_total_fwhm'])\n",
        "# splitting the data\n",
        "X_train_1, X_test_1, y_train_1, y_test_1 = train_test_split(df_1, y_1, random_state=42)"
      ],
      "metadata": {
        "id": "TlMG4y95ugRv"
      },
      "execution_count": null,
      "outputs": []
    },
    {
      "cell_type": "code",
      "source": [
        "# Checking which RFC will work the best\n",
        "rfc_1 = RFClassifier(models_path,200,2)\n",
        "ccs=rfc_1.multiple_training([5, 10, 20, 40, 100, 200],2, X_train_1, y_train_1, X_test_1,  y_test_1 )"
      ],
      "metadata": {
        "colab": {
          "base_uri": "https://localhost:8080/"
        },
        "id": "CE2Vv4RywC4a",
        "outputId": "e2530c99-976d-4069-bb7e-ed9af5652b74"
      },
      "execution_count": null,
      "outputs": [
        {
          "output_type": "stream",
          "name": "stdout",
          "text": [
            "Estimator = 5\n",
            "Accuracy: 0.9034, Precision: 0.9103, Recall: 0.9515, F1: 0.9304\n",
            "Estimator = 10\n",
            "Accuracy: 0.9223, Precision: 0.9313, Recall: 0.9560, F1: 0.9435\n",
            "Estimator = 20\n",
            "Accuracy: 0.9313, Precision: 0.9314, Recall: 0.9703, F1: 0.9504\n",
            "Estimator = 40\n",
            "Accuracy: 0.9390, Precision: 0.9362, Recall: 0.9767, F1: 0.9560\n",
            "Estimator = 100\n",
            "Accuracy: 0.9418, Precision: 0.9370, Recall: 0.9803, F1: 0.9581\n",
            "Estimator = 200\n",
            "Accuracy: 0.9414, Precision: 0.9356, Recall: 0.9812, F1: 0.9579\n"
          ]
        }
      ]
    },
    {
      "cell_type": "code",
      "source": [
        "# recreating the best model to be saved\n",
        "rfc_1_100 = RFClassifier(models_path,100,2)\n",
        "rfc_1_100.tain(X_train_1,np.ravel(y_train_1))\n",
        "y_pred=rfc_1_100.predict(X_test_1)\n",
        "scores=rfc_1_100.scores(y_test_1, y_pred)\n",
        "rfc_1_100.print_scores(scores[0],scores[1],scores[2],scores[3])\n",
        "# saving the best model\n",
        "\n",
        "rfc_1_100.save_model(\"RFC_scaled_stances_100\")"
      ],
      "metadata": {
        "id": "8NlGm5ohxQMg"
      },
      "execution_count": null,
      "outputs": []
    },
    {
      "cell_type": "markdown",
      "source": [
        "#### Cross Validation"
      ],
      "metadata": {
        "id": "bsTww39S-B1M"
      }
    },
    {
      "cell_type": "code",
      "source": [
        "rfc = RandomForestClassifier(n_estimators= int(100), n_jobs= 2,random_state=42)\n",
        "cross_val(rfc, X_train_1, np.ravel(y_train_1),X_test_1, np.ravel(y_test_1), 5,'binary')"
      ],
      "metadata": {
        "colab": {
          "base_uri": "https://localhost:8080/"
        },
        "id": "jEG9aBl2PL-e",
        "outputId": "c5f8a8fb-d776-4ca7-e1be-d3f736421252"
      },
      "execution_count": null,
      "outputs": [
        {
          "output_type": "stream",
          "name": "stdout",
          "text": [
            "Cross Validation Accuracy: 0.93 (+/- 0.00)\n",
            "Test Accuracy: 0.9418477068246653\n",
            "Test Prec: 0.9369592088998764\n",
            "Test Recall: 0.9802780472033624\n",
            "Test F1: 0.9581292463264339\n"
          ]
        }
      ]
    },
    {
      "cell_type": "markdown",
      "source": [
        "#### Cross validation\n",
        "Measures from validation while training with cross-validation"
      ],
      "metadata": {
        "id": "ZGlB4CoaRA6s"
      }
    },
    {
      "cell_type": "code",
      "source": [
        "rfc = RandomForestClassifier(n_estimators= int(100), n_jobs= 2,random_state=42)\n",
        "scores = cross_val_multiple_scores(rfc,df_1,np.ravel(y_1),10)"
      ],
      "metadata": {
        "colab": {
          "base_uri": "https://localhost:8080/"
        },
        "id": "xy_y0vvsoObx",
        "outputId": "190b3c57-4ade-45a1-ea6d-773ab3cf9026"
      },
      "execution_count": null,
      "outputs": [
        {
          "output_type": "stream",
          "name": "stdout",
          "text": [
            "Test Accuracy: 0.7092206065561826 +/- 0.17566369642368793\n",
            "Test Prec: 0.7708475545817676 +/- 0.08723675678465656\n",
            "Test Recall: 0.817554907926341 +/- 0.24989414996962442\n",
            "Test F1: 0.7896608200522317 +/- 0.15303472197071974\n"
          ]
        }
      ]
    },
    {
      "cell_type": "code",
      "source": [
        "cross_scores['acc'].append(scores[0])\n",
        "cross_scores['prec'].append(scores[1])\n",
        "cross_scores['rec'].append(scores[2])\n",
        "cross_scores['f1'].append(scores[3])"
      ],
      "metadata": {
        "id": "NHrPpDcloPbQ"
      },
      "execution_count": null,
      "outputs": []
    },
    {
      "cell_type": "markdown",
      "source": [
        "#### Cross validation\n",
        "Search via cross validation then testing"
      ],
      "metadata": {
        "id": "CpKpx07xDvM9"
      }
    },
    {
      "cell_type": "code",
      "source": [
        "scores = cross_val_search(X_train_1, np.ravel(y_train_1),X_test_1, np.ravel(y_test_1))"
      ],
      "metadata": {
        "colab": {
          "base_uri": "https://localhost:8080/"
        },
        "outputId": "53dec6b9-9839-4611-ce8c-1ad067a3a0eb",
        "id": "8dSISzN5DvM-"
      },
      "execution_count": null,
      "outputs": [
        {
          "output_type": "stream",
          "name": "stdout",
          "text": [
            "Test Accuracy: 0.9403116085143735\n",
            "Test Prec: 0.9338665026145802\n",
            "Test Recall: 0.9815712900096993\n",
            "Test F1: 0.957124842370744\n",
            "{'n_estimators': 200}\n"
          ]
        }
      ]
    },
    {
      "cell_type": "code",
      "source": [
        "cross_scores_search['acc'].append(scores[0])\n",
        "cross_scores_search['prec'].append(scores[1])\n",
        "cross_scores_search['rec'].append(scores[2])\n",
        "cross_scores_search['f1'].append(scores[3])"
      ],
      "metadata": {
        "id": "6E_Ck8T6DvM_"
      },
      "execution_count": null,
      "outputs": []
    },
    {
      "cell_type": "code",
      "source": [
        "cross_scores_search"
      ],
      "metadata": {
        "id": "q40AhBz6K8-J"
      },
      "execution_count": null,
      "outputs": []
    },
    {
      "cell_type": "markdown",
      "source": [
        "### Scaled stances wih fwhm from the sum of forces from the right foot with 6 extra features \n",
        "'r_swings_time','r_max_peak','r_total_fwhm', 'r_strides_time','r_peaks_toe','r_peaks_heel'"
      ],
      "metadata": {
        "id": "G_8VoeVA4kv6"
      }
    },
    {
      "cell_type": "code",
      "source": [
        "# input data and label data\n",
        "df_2 = data.scaled_stances_statics_df[[ 'r_interp','r_swings_time','r_max_peak','r_total_fwhm','r_strides_time','r_peaks_toe','r_peaks_heel']]\n",
        "y_2 = data.scaled_stances_statics_df[[ 'y']]\n",
        "# reformatting\n",
        "df_2 = data.return_array_df(df_2,'r_interp',['r_swings_time','r_max_peak','r_total_fwhm','r_strides_time','r_peaks_toe','r_peaks_heel'])\n",
        "# splitting the data\n",
        "X_train_2, X_test_2, y_train_2, y_test_2 = train_test_split(df_2, y_2, random_state=42)"
      ],
      "metadata": {
        "id": "pmA4pZly4w6q"
      },
      "execution_count": null,
      "outputs": []
    },
    {
      "cell_type": "code",
      "source": [
        "# Checking which RFC will work the best\n",
        "rfc_2 = RFClassifier(models_path,200,2)\n",
        "ccs=rfc_2.multiple_training([5, 10, 20, 40, 100, 200],2, X_train_2, y_train_2, X_test_2,  y_test_2 )"
      ],
      "metadata": {
        "colab": {
          "base_uri": "https://localhost:8080/"
        },
        "id": "fpy6Eo425p0B",
        "outputId": "49903abf-418d-4ed9-8b1d-785616f7953e"
      },
      "execution_count": null,
      "outputs": [
        {
          "output_type": "stream",
          "name": "stdout",
          "text": [
            "Estimator = 5\n",
            "Accuracy: 0.9276, Precision: 0.9308, Recall: 0.9651, F1: 0.9476\n",
            "Estimator = 10\n",
            "Accuracy: 0.9394, Precision: 0.9450, Recall: 0.9670, F1: 0.9559\n",
            "Estimator = 20\n",
            "Accuracy: 0.9497, Precision: 0.9475, Recall: 0.9803, F1: 0.9636\n",
            "Estimator = 40\n",
            "Accuracy: 0.9502, Precision: 0.9456, Recall: 0.9832, F1: 0.9640\n",
            "Estimator = 100\n",
            "Accuracy: 0.9537, Precision: 0.9461, Recall: 0.9880, F1: 0.9666\n",
            "Estimator = 200\n",
            "Accuracy: 0.9535, Precision: 0.9453, Recall: 0.9887, F1: 0.9665\n"
          ]
        }
      ]
    },
    {
      "cell_type": "code",
      "source": [
        "# recreating the best model to be saved\n",
        "rfc_2_100 = RFClassifier(models_path,100,2)\n",
        "rfc_2_100.tain(X_train_2,y_train_2)\n",
        "y_pred_2=rfc_2_100.predict(X_test_2)\n",
        "scores=rfc_2_100.scores(y_test_2, y_pred_2)\n",
        "# rfc_2_100.print_scores(scores[0],scores[1],scores[2],scores[3])\n",
        "# saving the best model\n",
        "rfc_2_100.save_model(\"RFC_scaled_stances_6_features_100\")"
      ],
      "metadata": {
        "id": "oHvCVpN05tmW"
      },
      "execution_count": null,
      "outputs": []
    },
    {
      "cell_type": "markdown",
      "source": [
        "#### Cross validation\n",
        "Measures from validation while training with cross-validation"
      ],
      "metadata": {
        "id": "GfH11o3hrWNS"
      }
    },
    {
      "cell_type": "code",
      "source": [
        "rfc = RandomForestClassifier(n_estimators= int(100), n_jobs= 2,random_state=42)\n",
        "scores = cross_val_multiple_scores(rfc,df_2,np.ravel(y_2),10)"
      ],
      "metadata": {
        "colab": {
          "base_uri": "https://localhost:8080/"
        },
        "id": "ETWGhRvPrK2Y",
        "outputId": "d3f49d9e-7354-4bcb-b4a7-e8fb1395726c"
      },
      "execution_count": null,
      "outputs": [
        {
          "output_type": "stream",
          "name": "stdout",
          "text": [
            "Test Accuracy: 0.7341262367131055 +/- 0.13882399311491567\n",
            "Test Prec: 0.7896537963710886 +/- 0.09462116003069211\n",
            "Test Recall: 0.837005476381105 +/- 0.1657436612307684\n",
            "Test F1: 0.8105927317741422 +/- 0.10424255636119675\n"
          ]
        }
      ]
    },
    {
      "cell_type": "code",
      "source": [
        "cross_scores['acc'].append(scores[0])\n",
        "cross_scores['prec'].append(scores[1])\n",
        "cross_scores['rec'].append(scores[2])\n",
        "cross_scores['f1'].append(scores[3])"
      ],
      "metadata": {
        "id": "SS0vuDEPtZ7a"
      },
      "execution_count": null,
      "outputs": []
    },
    {
      "cell_type": "markdown",
      "source": [
        "#### Cross validation\n",
        "Search via cross validation then testing"
      ],
      "metadata": {
        "id": "fMi41i3fLK6W"
      }
    },
    {
      "cell_type": "code",
      "source": [
        "scores = cross_val_search(X_train_2, np.ravel(y_train_2),X_test_2, np.ravel(y_test_2))"
      ],
      "metadata": {
        "colab": {
          "base_uri": "https://localhost:8080/"
        },
        "outputId": "32c27be1-1520-4271-c0cb-91c408b4815a",
        "id": "W58-HDm_LK6d"
      },
      "execution_count": null,
      "outputs": [
        {
          "output_type": "stream",
          "name": "stdout",
          "text": [
            "Test Accuracy: 0.9532587228439763\n",
            "Test Prec: 0.9452690166975881\n",
            "Test Recall: 0.988360814742968\n",
            "Test F1: 0.96633475580844\n",
            "{'n_estimators': 200}\n"
          ]
        }
      ]
    },
    {
      "cell_type": "code",
      "source": [
        "cross_scores_search['acc'].append(scores[0])\n",
        "cross_scores_search['prec'].append(scores[1])\n",
        "cross_scores_search['rec'].append(scores[2])\n",
        "cross_scores_search['f1'].append(scores[3])"
      ],
      "metadata": {
        "id": "uEqTBPRWLK6f"
      },
      "execution_count": null,
      "outputs": []
    },
    {
      "cell_type": "markdown",
      "source": [
        "### Scaled stances wih fwhm from the sum of forces from the right foot with 3 extra features and statics\n",
        " 'r_swings_time','r_max_peak','r_total_fwhm' and statics from basemodel\n"
      ],
      "metadata": {
        "id": "XUPH5RyjBXEP"
      }
    },
    {
      "cell_type": "code",
      "source": [
        "# input data and label data\n",
        "colnames_3=['r_interp','r_swings_time','r_max_peak','r_total_fwhm']\n",
        "for col in [\"L1\",\t\"L2\",\t\"L3\"\t,\"L4\",\t\"L5\",\t\"L6\",\t\"L7\"\t,\"L8\",\t\"R1\",\t\"R2\"\t,\"R3\",\t\"R4\",\t\"R5\",\t\"R6\",\t\"R7\",\t\"R8\",\t\"Total_Force_Left\",\t\"Total_Force_Right\"]:\n",
        "    for x in [\"Min\", \"Max\", \"Std\", \"Med\", \"Avg\", \"Skewness\", \"Kurtosis\"]:\n",
        "      colnames_3.append( col +'_' +  x)"
      ],
      "metadata": {
        "id": "CSbDo0oTBcty"
      },
      "execution_count": null,
      "outputs": []
    },
    {
      "cell_type": "code",
      "source": [
        "df_3 = data.scaled_stances_statics_df[colnames_3]\n",
        "y_3 = data.scaled_stances_statics_df[[ 'y']]\n",
        "# reformatting\n",
        "colnames_3.remove(\"r_interp\")\n",
        "df_3 = data.return_array_df(df_3,'r_interp',colnames_3)\n",
        "# splitting the data\n",
        "X_train_3, X_test_3, y_train_3, y_test_3 = train_test_split(df_3, y_3, random_state=42)"
      ],
      "metadata": {
        "id": "sQPgaNThCzcG"
      },
      "execution_count": null,
      "outputs": []
    },
    {
      "cell_type": "code",
      "source": [
        "# Checking which RFC will work the best\n",
        "rfc_3 = RFClassifier(models_path,200,2)\n",
        "ccs_3 = rfc_3.multiple_training([5, 10, 20, 40, 100, 200],2, X_train_3, y_train_3,X_test_3, y_test_3)"
      ],
      "metadata": {
        "colab": {
          "base_uri": "https://localhost:8080/"
        },
        "id": "0Dyt_2UeEXuP",
        "outputId": "ad8c336f-36e2-4190-8846-9e75f5ab31d4"
      },
      "execution_count": null,
      "outputs": [
        {
          "output_type": "stream",
          "name": "stdout",
          "text": [
            "Estimator = 5\n",
            "Accuracy: 1.0000, Precision: 1.0000, Recall: 1.0000, F1: 1.0000\n",
            "Estimator = 10\n",
            "Accuracy: 1.0000, Precision: 1.0000, Recall: 1.0000, F1: 1.0000\n",
            "Estimator = 20\n",
            "Accuracy: 1.0000, Precision: 1.0000, Recall: 1.0000, F1: 1.0000\n",
            "Estimator = 40\n",
            "Accuracy: 1.0000, Precision: 1.0000, Recall: 1.0000, F1: 1.0000\n",
            "Estimator = 100\n",
            "Accuracy: 1.0000, Precision: 1.0000, Recall: 1.0000, F1: 1.0000\n",
            "Estimator = 200\n",
            "Accuracy: 1.0000, Precision: 1.0000, Recall: 1.0000, F1: 1.0000\n"
          ]
        }
      ]
    },
    {
      "cell_type": "code",
      "source": [
        "# recreating the best model to be saved\n",
        "rfc_3_100 = RFClassifier(models_path,100,2)\n",
        "rfc_3_100.tain(X_train_3,y_train_3)\n",
        "y_pred_3=rfc_3_100.predict(X_test_3)\n",
        "scores=rfc_3_100.scores(y_test_3, y_pred_3)\n",
        "# rfc_2_100.print_scores(scores[0],scores[1],scores[2],scores[3])\n",
        "# saving the best model\n",
        "rfc_3_100.save_model(\"RFC_scaled_stances_3_features_statics_100\")"
      ],
      "metadata": {
        "id": "MomDBNZRExCb"
      },
      "execution_count": null,
      "outputs": []
    },
    {
      "cell_type": "markdown",
      "source": [
        "#### Cross validation\n",
        "Measures from validation while training with cross-validation"
      ],
      "metadata": {
        "id": "OoXZax7CrwnL"
      }
    },
    {
      "cell_type": "code",
      "source": [
        "rfc = RandomForestClassifier(n_estimators= int(100), n_jobs= 2,random_state=42)\n",
        "scores = cross_val_multiple_scores(rfc,df_3,np.ravel(y_3),10)"
      ],
      "metadata": {
        "colab": {
          "base_uri": "https://localhost:8080/"
        },
        "id": "5r1d0PoRtpBg",
        "outputId": "f4b6ec91-6048-4272-f39f-a542475feeca"
      },
      "execution_count": null,
      "outputs": [
        {
          "output_type": "stream",
          "name": "stdout",
          "text": [
            "Test Accuracy: 0.8435931472049123 +/- 0.1933692167873902\n",
            "Test Prec: 0.9007365652632668 +/- 0.15562021672279555\n",
            "Test Recall: 0.8779962209767815 +/- 0.26436099638466154\n",
            "Test F1: 0.8814544636916801 +/- 0.160748090890438\n"
          ]
        }
      ]
    },
    {
      "cell_type": "code",
      "source": [
        "cross_scores['acc'].append(scores[0])\n",
        "cross_scores['prec'].append(scores[1])\n",
        "cross_scores['rec'].append(scores[2])\n",
        "cross_scores['f1'].append(scores[3])"
      ],
      "metadata": {
        "id": "fC5bwzIatp-5"
      },
      "execution_count": null,
      "outputs": []
    },
    {
      "cell_type": "markdown",
      "source": [
        "#### Cross validation\n",
        "Search via cross validation then testing"
      ],
      "metadata": {
        "id": "QVBSppwDNNDa"
      }
    },
    {
      "cell_type": "code",
      "source": [
        "scores = cross_val_search(X_train_3, np.ravel(y_train_3),X_test_3, np.ravel(y_test_3))"
      ],
      "metadata": {
        "colab": {
          "base_uri": "https://localhost:8080/"
        },
        "outputId": "ab040c7f-f271-4866-cb34-0e88ed3ac366",
        "id": "orgPuNdkNNDf"
      },
      "execution_count": null,
      "outputs": [
        {
          "output_type": "stream",
          "name": "stdout",
          "text": [
            "Test Accuracy: 1.0\n",
            "Test Prec: 1.0\n",
            "Test Recall: 1.0\n",
            "Test F1: 1.0\n",
            "{'n_estimators': 10}\n"
          ]
        }
      ]
    },
    {
      "cell_type": "code",
      "source": [
        "scores "
      ],
      "metadata": {
        "colab": {
          "base_uri": "https://localhost:8080/"
        },
        "outputId": "542a4dab-7ca5-463a-a1fb-a888bdbc3e0f",
        "id": "QzTtaFpeN5AU"
      },
      "execution_count": null,
      "outputs": [
        {
          "output_type": "execute_result",
          "data": {
            "text/plain": [
              "[1.0, 1.0, 1.0, 1.0]"
            ]
          },
          "metadata": {},
          "execution_count": 104
        }
      ]
    },
    {
      "cell_type": "code",
      "source": [
        "cross_scores_search['acc'].append(scores[0])\n",
        "cross_scores_search['prec'].append(scores[1])\n",
        "cross_scores_search['rec'].append(scores[2])\n",
        "cross_scores_search['f1'].append(scores[3])"
      ],
      "metadata": {
        "id": "dv3EwKYJNNDj"
      },
      "execution_count": null,
      "outputs": []
    },
    {
      "cell_type": "markdown",
      "source": [
        "### Scaled stances wih fwhm from the sum of forces from the right foot with 6 extra features and statics\n",
        " 'r_swings_time','r_max_peak','r_total_fwhm' and statics from basemodel\n",
        " "
      ],
      "metadata": {
        "id": "hcySvPsbFqer"
      }
    },
    {
      "cell_type": "code",
      "source": [
        "# input data and label data\n",
        "colnames_4=['r_interp','r_swings_time','r_max_peak','r_total_fwhm','r_strides_time','r_peaks_toe','r_peaks_heel']\n",
        "for col in [\"L1\",\t\"L2\",\t\"L3\"\t,\"L4\",\t\"L5\",\t\"L6\",\t\"L7\"\t,\"L8\",\t\"R1\",\t\"R2\"\t,\"R3\",\t\"R4\",\t\"R5\",\t\"R6\",\t\"R7\",\t\"R8\",\t\"Total_Force_Left\",\t\"Total_Force_Right\"]:\n",
        "    for x in [\"Min\", \"Max\", \"Std\", \"Med\", \"Avg\", \"Skewness\", \"Kurtosis\"]:\n",
        "      colnames_4.append( col +'_' +  x)"
      ],
      "metadata": {
        "id": "F0xCrNQoFVUG"
      },
      "execution_count": null,
      "outputs": []
    },
    {
      "cell_type": "code",
      "source": [
        "df_4 = data.scaled_stances_statics_df[colnames_4]\n",
        "y_4 = data.scaled_stances_statics_df[[ 'y']]\n",
        "# reformatting\n",
        "colnames_4.remove(\"r_interp\")\n",
        "df_4 = data.return_array_df(df_4,'r_interp',colnames_4)\n",
        "# splitting the data\n",
        "X_train_4, X_test_4, y_train_4, y_test_4 = train_test_split(df_4, y_4, random_state=42)"
      ],
      "metadata": {
        "id": "bPb5wLk_F4ak"
      },
      "execution_count": null,
      "outputs": []
    },
    {
      "cell_type": "code",
      "source": [
        "# Checking which RFC will work the best\n",
        "rfc_4 = RFClassifier(models_path,200,2)\n",
        "ccs_4 = rfc_4.multiple_training([5, 10, 20, 40, 100, 200],2, X_train_4, y_train_4,X_test_4, y_test_4)"
      ],
      "metadata": {
        "colab": {
          "base_uri": "https://localhost:8080/"
        },
        "id": "6Xjz6FWPF7Iw",
        "outputId": "9f95c56a-e375-4e5b-b1d8-247b2e2dbfde"
      },
      "execution_count": null,
      "outputs": [
        {
          "output_type": "stream",
          "name": "stdout",
          "text": [
            "Estimator = 5\n",
            "Accuracy: 1.0000, Precision: 1.0000, Recall: 1.0000, F1: 1.0000\n",
            "Estimator = 10\n",
            "Accuracy: 1.0000, Precision: 1.0000, Recall: 1.0000, F1: 1.0000\n",
            "Estimator = 20\n",
            "Accuracy: 1.0000, Precision: 1.0000, Recall: 1.0000, F1: 1.0000\n",
            "Estimator = 40\n",
            "Accuracy: 1.0000, Precision: 1.0000, Recall: 1.0000, F1: 1.0000\n",
            "Estimator = 100\n",
            "Accuracy: 1.0000, Precision: 1.0000, Recall: 1.0000, F1: 1.0000\n",
            "Estimator = 200\n",
            "Accuracy: 1.0000, Precision: 1.0000, Recall: 1.0000, F1: 1.0000\n"
          ]
        }
      ]
    },
    {
      "cell_type": "code",
      "source": [
        "# recreating the best model to be saved\n",
        "rfc_4_100 = RFClassifier(models_path,100,2)\n",
        "rfc_4_100.tain(X_train_4,y_train_4)\n",
        "y_pred_4=rfc_4_100.predict(X_test_4)\n",
        "scores=rfc_4_100.scores(y_test_4, y_pred_4)\n",
        "# rfc_2_100.print_scores(scores[0],scores[1],scores[2],scores[3])\n",
        "# saving the best model\n",
        "rfc_4_100.save_model(\"RFC_scaled_stances_6_features_statics_100\")"
      ],
      "metadata": {
        "id": "3EwxWpKaGJhW"
      },
      "execution_count": null,
      "outputs": []
    },
    {
      "cell_type": "markdown",
      "source": [
        "#### Cross validation\n",
        "Measures from validation while training with cross-validation"
      ],
      "metadata": {
        "id": "Rqs6zTx9sYjF"
      }
    },
    {
      "cell_type": "code",
      "source": [
        "rfc = RandomForestClassifier(n_estimators= int(100), n_jobs= 2,random_state=42)\n",
        "scores = cross_val_multiple_scores(rfc,df_4,np.ravel(y_4),10)"
      ],
      "metadata": {
        "colab": {
          "base_uri": "https://localhost:8080/"
        },
        "id": "kit6hMstsZlO",
        "outputId": "b698aad3-e351-4637-da17-a98fbd7c2029"
      },
      "execution_count": null,
      "outputs": [
        {
          "output_type": "stream",
          "name": "stdout",
          "text": [
            "Test Accuracy: 0.8144097587058401 +/- 0.22693298314259103\n",
            "Test Prec: 0.8837840869871052 +/- 0.16148378284333206\n",
            "Test Recall: 0.8480555964771817 +/- 0.3129019935204911\n",
            "Test F1: 0.8563066549282334 +/- 0.195940573406736\n"
          ]
        }
      ]
    },
    {
      "cell_type": "code",
      "source": [
        "cross_scores['acc'].append(scores[0])\n",
        "cross_scores['prec'].append(scores[1])\n",
        "cross_scores['rec'].append(scores[2])\n",
        "cross_scores['f1'].append(scores[3])"
      ],
      "metadata": {
        "id": "0HGGIXaGsfog"
      },
      "execution_count": null,
      "outputs": []
    },
    {
      "cell_type": "code",
      "source": [
        "cross_scores"
      ],
      "metadata": {
        "id": "pjCo4j5Ytt-N"
      },
      "execution_count": null,
      "outputs": []
    },
    {
      "cell_type": "markdown",
      "source": [
        "#### Cross validation\n",
        "Search via cross validation then testing"
      ],
      "metadata": {
        "id": "sWFWKsvAOCZB"
      }
    },
    {
      "cell_type": "code",
      "source": [
        "scores = cross_val_search(X_train_4, np.ravel(y_train_4),X_test_4, np.ravel(y_test_4))"
      ],
      "metadata": {
        "colab": {
          "base_uri": "https://localhost:8080/"
        },
        "outputId": "41578d32-9061-485e-f324-7c20b68bebbe",
        "id": "ePSaGcLYOCZC"
      },
      "execution_count": null,
      "outputs": [
        {
          "output_type": "stream",
          "name": "stdout",
          "text": [
            "Test Accuracy: 1.0\n",
            "Test Prec: 1.0\n",
            "Test Recall: 1.0\n",
            "Test F1: 1.0\n",
            "{'n_estimators': 10}\n"
          ]
        }
      ]
    },
    {
      "cell_type": "code",
      "source": [
        "cross_scores_search['acc'].append(scores[0])\n",
        "cross_scores_search['prec'].append(scores[1])\n",
        "cross_scores_search['rec'].append(scores[2])\n",
        "cross_scores_search['f1'].append(scores[3])"
      ],
      "metadata": {
        "id": "CWrzFFUyOCZE"
      },
      "execution_count": null,
      "outputs": []
    },
    {
      "cell_type": "markdown",
      "source": [
        "### Scaled stances wih fwhm from the sum of forces from the right & left foot with 6 extra features each"
      ],
      "metadata": {
        "id": "aHzN61VULEay"
      }
    },
    {
      "cell_type": "code",
      "source": [
        "# input data and label data\n",
        "df_5 = data.scaled_stances_statics_df[[ 'r_interp','r_swings_time','r_max_peak','r_total_fwhm','r_strides_time','r_peaks_toe','r_peaks_heel','l_interp','l_swings_time','l_max_peak','l_total_fwhm','l_strides_time','l_peaks_toe','l_peaks_heel']]\n",
        "y_5 = data.scaled_stances_statics_df[[ 'y']]\n",
        "# reformatting\n",
        "df_5 = data.return_array_df_mul_lists(df_5,['r_interp','l_interp'],['r_swings_time','r_max_peak','r_total_fwhm','r_strides_time','r_peaks_toe','r_peaks_heel','l_swings_time','l_max_peak','l_total_fwhm','l_strides_time','l_peaks_toe','l_peaks_heel'])\n",
        "# splitting the data\n",
        "X_train_5, X_test_5, y_train_5, y_test_5 = train_test_split(df_5, y_5, random_state=42)"
      ],
      "metadata": {
        "id": "WUKb_vv-GTkK"
      },
      "execution_count": null,
      "outputs": []
    },
    {
      "cell_type": "code",
      "source": [
        "# Checking which RFC will work the best\n",
        "rfc_5 = RFClassifier(models_path,200,2)\n",
        "ccs_5=rfc_5.multiple_training([5, 10, 20, 40, 100, 200],2, X_train_5, y_train_5, X_test_5,  y_test_5 )"
      ],
      "metadata": {
        "colab": {
          "base_uri": "https://localhost:8080/"
        },
        "id": "ajnq9ehdLpmi",
        "outputId": "b70dbada-d7a7-41fc-c759-a2f422e63b72"
      },
      "execution_count": null,
      "outputs": [
        {
          "output_type": "stream",
          "name": "stdout",
          "text": [
            "Estimator = 5\n",
            "Accuracy: 0.9339, Precision: 0.9382, Recall: 0.9664, F1: 0.9521\n",
            "Estimator = 10\n",
            "Accuracy: 0.9513, Precision: 0.9559, Recall: 0.9732, F1: 0.9644\n",
            "Estimator = 20\n",
            "Accuracy: 0.9587, Precision: 0.9526, Recall: 0.9884, F1: 0.9702\n",
            "Estimator = 40\n",
            "Accuracy: 0.9590, Precision: 0.9512, Recall: 0.9903, F1: 0.9704\n",
            "Estimator = 100\n",
            "Accuracy: 0.9614, Precision: 0.9522, Recall: 0.9929, F1: 0.9721\n",
            "Estimator = 200\n",
            "Accuracy: 0.9607, Precision: 0.9511, Recall: 0.9932, F1: 0.9717\n"
          ]
        }
      ]
    },
    {
      "cell_type": "code",
      "source": [
        "# recreating the best model to be saved\n",
        "rfc_5_100 = RFClassifier(models_path,100,2)\n",
        "rfc_5_100.tain(X_train_5,y_train_5)\n",
        "y_pred_5=rfc_5_100.predict(X_test_5)\n",
        "scores_5=rfc_5_100.scores(y_test_5, y_pred_5)\n",
        "# rfc_2_100.print_scores(scores[0],scores[1],scores[2],scores[3])\n",
        "# saving the best model\n",
        "rfc_5_100.save_model(\"RFC_both_feet_scaled_stances_6_features_100\")"
      ],
      "metadata": {
        "id": "CXpVVvUoLqLz"
      },
      "execution_count": null,
      "outputs": []
    },
    {
      "cell_type": "markdown",
      "source": [
        "#### Cross validation\n",
        "Measures from validation while training with cross-validation"
      ],
      "metadata": {
        "id": "dhXI2Iw1siVH"
      }
    },
    {
      "cell_type": "code",
      "source": [
        "rfc = RandomForestClassifier(n_estimators= int(100), n_jobs= 2,random_state=42)\n",
        "scores = cross_val_multiple_scores(rfc,df_5,np.ravel(y_5),10)\n",
        "scores"
      ],
      "metadata": {
        "colab": {
          "base_uri": "https://localhost:8080/"
        },
        "id": "cJHaW2DDsiVK",
        "outputId": "3eb94157-dabc-40fd-c37c-131a9f128198"
      },
      "execution_count": null,
      "outputs": [
        {
          "output_type": "stream",
          "name": "stdout",
          "text": [
            "Test Accuracy: 0.7529455915479304 +/- 0.11966578394804564\n",
            "Test Prec: 0.7954697284043715 +/- 0.07689264610315737\n",
            "Test Recall: 0.8619057165732587 +/- 0.1447826824749647\n",
            "Test F1: 0.8260518473691985 +/- 0.09158822644693967\n"
          ]
        },
        {
          "output_type": "execute_result",
          "data": {
            "text/plain": [
              "[0.7529455915479304,\n",
              " 0.7954697284043715,\n",
              " 0.8619057165732587,\n",
              " 0.8260518473691985]"
            ]
          },
          "metadata": {},
          "execution_count": 47
        }
      ]
    },
    {
      "cell_type": "code",
      "source": [
        "cross_scores['acc'].append(scores[0])\n",
        "cross_scores['prec'].append(scores[1])\n",
        "cross_scores['rec'].append(scores[2])\n",
        "cross_scores['f1'].append(scores[3])"
      ],
      "metadata": {
        "id": "-X3MQK7PsiVM"
      },
      "execution_count": null,
      "outputs": []
    },
    {
      "cell_type": "markdown",
      "source": [
        "#### Cross validation\n",
        "Search via cross validation then testing"
      ],
      "metadata": {
        "id": "5_0FtImhO4RR"
      }
    },
    {
      "cell_type": "code",
      "source": [
        "scores = cross_val_search(X_train_5, np.ravel(y_train_5),X_test_5, np.ravel(y_test_5))"
      ],
      "metadata": {
        "colab": {
          "base_uri": "https://localhost:8080/"
        },
        "outputId": "91b36a8b-9aa7-4821-e689-136f9c34f267",
        "id": "W8Lm4dlkO4RU"
      },
      "execution_count": null,
      "outputs": [
        {
          "output_type": "stream",
          "name": "stdout",
          "text": [
            "Test Accuracy: 0.9609392143954356\n",
            "Test Prec: 0.9502625888168057\n",
            "Test Recall: 0.9945037180730683\n",
            "Test F1: 0.9718799368088468\n",
            "{'n_estimators': 200}\n"
          ]
        }
      ]
    },
    {
      "cell_type": "code",
      "source": [
        "cross_scores_search['acc'].append(scores[0])\n",
        "cross_scores_search['prec'].append(scores[1])\n",
        "cross_scores_search['rec'].append(scores[2])\n",
        "cross_scores_search['f1'].append(scores[3])"
      ],
      "metadata": {
        "id": "OpVAAWYJO4RY"
      },
      "execution_count": null,
      "outputs": []
    },
    {
      "cell_type": "markdown",
      "source": [
        "### Scaled stances wih fwhm from the sum of forces from the right & left foot with 6 extra features each and statics from base model"
      ],
      "metadata": {
        "id": "FtjB199dOR-m"
      }
    },
    {
      "cell_type": "code",
      "source": [
        "# input data and label data\n",
        "colnames_6=['r_interp','r_swings_time','r_max_peak','r_total_fwhm','r_strides_time','r_peaks_toe','r_peaks_heel','l_interp','l_swings_time','l_max_peak','l_total_fwhm','l_strides_time','l_peaks_toe','l_peaks_heel']\n",
        "for col in [\"L1\",\t\"L2\",\t\"L3\"\t,\"L4\"\t,\"L5\",\t\"L6\",\t\"L7\"\t,\"L8\",\t\"R1\",\t\"R2\"\t,\"R3\",\t\"R4\",\t\"R5\",\t\"R6\",\t\"R7\",\t\"R8\",\t\"Total_Force_Left\",\t\"Total_Force_Right\"]:\n",
        "    for x in [\"Min\", \"Max\", \"Std\", \"Med\", \"Avg\", \"Skewness\", \"Kurtosis\"]:\n",
        "      colnames_6.append( col +'_' +  x)"
      ],
      "metadata": {
        "id": "8zv20x8LNW9P"
      },
      "execution_count": null,
      "outputs": []
    },
    {
      "cell_type": "code",
      "source": [
        "df_6 = data.scaled_stances_statics_df[colnames_6]\n",
        "y_6 = data.scaled_stances_statics_df[[ 'y']]\n",
        "# reformatting\n",
        "colnames_6.remove(\"r_interp\")\n",
        "colnames_6.remove(\"l_interp\")\n",
        "df_6 = data.return_array_df_mul_lists(df_6,['r_interp','l_interp'],colnames_6)\n",
        "# splitting the data\n",
        "X_train_6, X_test_6, y_train_6, y_test_6 = train_test_split(df_6, y_6, random_state=42)"
      ],
      "metadata": {
        "id": "tH3OMMA_O9gG"
      },
      "execution_count": null,
      "outputs": []
    },
    {
      "cell_type": "code",
      "source": [
        "# Checking which RFC will work the best\n",
        "rfc_6 = RFClassifier(models_path,200,2)\n",
        "ccs_6=rfc_6.multiple_training([5, 10, 20, 40, 100, 200],2, X_train_6, y_train_6, X_test_6,  y_test_6 )"
      ],
      "metadata": {
        "colab": {
          "base_uri": "https://localhost:8080/"
        },
        "id": "I2_FauqYO3g1",
        "outputId": "8293f29a-7c31-4e2c-d17a-4ede8567e412"
      },
      "execution_count": null,
      "outputs": [
        {
          "output_type": "stream",
          "name": "stdout",
          "text": [
            "Estimator = 5\n",
            "Accuracy: 1.0000, Precision: 1.0000, Recall: 1.0000, F1: 1.0000\n",
            "Estimator = 10\n",
            "Accuracy: 1.0000, Precision: 1.0000, Recall: 1.0000, F1: 1.0000\n",
            "Estimator = 20\n",
            "Accuracy: 1.0000, Precision: 1.0000, Recall: 1.0000, F1: 1.0000\n",
            "Estimator = 40\n",
            "Accuracy: 1.0000, Precision: 1.0000, Recall: 1.0000, F1: 1.0000\n",
            "Estimator = 100\n",
            "Accuracy: 1.0000, Precision: 1.0000, Recall: 1.0000, F1: 1.0000\n",
            "Estimator = 200\n",
            "Accuracy: 1.0000, Precision: 1.0000, Recall: 1.0000, F1: 1.0000\n"
          ]
        }
      ]
    },
    {
      "cell_type": "code",
      "source": [
        "# recreating the best model to be saved\n",
        "rfc_6_100 = RFClassifier(models_path,100,2)\n",
        "rfc_6_100.tain(X_train_6,y_train_6)\n",
        "y_pred_6=rfc_6_100.predict(X_test_6)\n",
        "scores_6=rfc_6_100.scores(y_test_6, y_pred_6)\n",
        "# rfc_2_100.print_scores(scores[0],scores[1],scores[2],scores[3])\n",
        "# saving the best model\n",
        "rfc_6_100.save_model(\"RFC_both_feet_scaled_stances_6_features_statics_100\")"
      ],
      "metadata": {
        "id": "berubDVOPh5M"
      },
      "execution_count": null,
      "outputs": []
    },
    {
      "cell_type": "markdown",
      "source": [
        "#### Cross validation\n",
        "Measures from validation while training with cross-validation"
      ],
      "metadata": {
        "id": "cHameuvJsmG-"
      }
    },
    {
      "cell_type": "code",
      "source": [
        "rfc = RandomForestClassifier(n_estimators= int(100), n_jobs= 2,random_state=42)\n",
        "scores = cross_val_multiple_scores(rfc,df_6,np.ravel(y_6),10)"
      ],
      "metadata": {
        "colab": {
          "base_uri": "https://localhost:8080/"
        },
        "id": "_NYKHYQpsmHA",
        "outputId": "cac495fc-facd-44d7-96c2-eeeccb3d0277"
      },
      "execution_count": null,
      "outputs": [
        {
          "output_type": "stream",
          "name": "stdout",
          "text": [
            "Test Accuracy: 0.8195589590986738 +/- 0.20824244481724918\n",
            "Test Prec: 0.8870742902846398 +/- 0.16116494371081522\n",
            "Test Recall: 0.8573352762209769 +/- 0.31103248607383954\n",
            "Test F1: 0.8612098873892753 +/- 0.18525914268461136\n"
          ]
        }
      ]
    },
    {
      "cell_type": "code",
      "source": [
        "cross_scores['acc'].append(scores[0])\n",
        "cross_scores['prec'].append(scores[1])\n",
        "cross_scores['rec'].append(scores[2])\n",
        "cross_scores['f1'].append(scores[3])"
      ],
      "metadata": {
        "id": "1ZZaW68ksmHC"
      },
      "execution_count": null,
      "outputs": []
    },
    {
      "cell_type": "markdown",
      "source": [
        "#### Cross validation\n",
        "Search via cross validation then testing"
      ],
      "metadata": {
        "id": "nwh-mYyrRlGV"
      }
    },
    {
      "cell_type": "code",
      "source": [
        "scores = cross_val_search(X_train_6, np.ravel(y_train_6),X_test_6, np.ravel(y_test_6))"
      ],
      "metadata": {
        "id": "BtGxa6jZRlGY"
      },
      "execution_count": null,
      "outputs": []
    },
    {
      "cell_type": "code",
      "source": [
        "cross_scores_search['acc'].append(scores[0])\n",
        "cross_scores_search['prec'].append(scores[1])\n",
        "cross_scores_search['rec'].append(scores[2])\n",
        "cross_scores_search['f1'].append(scores[3])"
      ],
      "metadata": {
        "id": "pKStzXHDRlGa"
      },
      "execution_count": null,
      "outputs": []
    },
    {
      "cell_type": "markdown",
      "source": [
        "### Scaled stances wih fwhm from the forces of 16 sensor from the right & left foot with 6 extra features each"
      ],
      "metadata": {
        "id": "GJzuSBzlQ8ES"
      }
    },
    {
      "cell_type": "code",
      "source": [
        "colnames_7=['r_swings_time','r_max_peak','r_total_fwhm','r_strides_time','r_peaks_toe','r_peaks_heel','l_swings_time','l_max_peak','l_total_fwhm','l_strides_time','l_peaks_toe','l_peaks_heel']\n",
        "for col in [\"L1\",\t\"L2\",\t\"L3\"\t,\"L4\",\t\"L5\",\t\"L6\",\t\"L7\"\t,\"L8\",\t\"R1\",\t\"R2\"\t,\"R3\",\t\"R4\",\t\"R5\",\t\"R6\",\t\"R7\",\t\"R8\"]:\n",
        "    for x in [\"interp\", \"fwhm\"]:\n",
        "      colnames_7.append( col +'_' +  x)"
      ],
      "metadata": {
        "id": "HWl8lAEkRhmE"
      },
      "execution_count": null,
      "outputs": []
    },
    {
      "cell_type": "code",
      "source": [
        "col_lists_7=[]\n",
        "for col in [\"L1\",\t\"L2\",\t\"L3\"\t,\"L4\"\t,\"L5\",\t\"L6\",\t\"L7\"\t,\"L8\",\t\"R1\",\t\"R2\"\t,\"R3\",\t\"R4\",\t\"R5\",\t\"R6\",\t\"R7\",\t\"R8\"]:\n",
        "    for x in [\"interp\"]:\n",
        "      col_lists_7.append( col +'_' +  x)"
      ],
      "metadata": {
        "id": "Aqc58HO-SBia"
      },
      "execution_count": null,
      "outputs": []
    },
    {
      "cell_type": "code",
      "source": [
        "df_7 = data.scaled_stances_statics_df[colnames_7]\n",
        "y_7 = data.scaled_stances_statics_df[[ 'y']]\n",
        "# reformatting\n",
        "for col in col_lists_7:\n",
        "  colnames_7.remove(col)\n",
        "df_7 = data.return_array_df_mul_lists(df_7,col_lists_7,colnames_7)\n",
        "# df_7 = np.asarray([l for l in df_7 if ~np.isnan(l).any()])\n",
        "df_7[np.isnan(df_7)] = 0\n",
        "# splitting the data\n",
        "X_train_7, X_test_7, y_train_7, y_test_7 = train_test_split(df_7, y_7, random_state=42)"
      ],
      "metadata": {
        "id": "RzdHepxkQM-Y"
      },
      "execution_count": null,
      "outputs": []
    },
    {
      "cell_type": "code",
      "source": [
        "# Checking which RFC will work the best\n",
        "rfc_7 = RFClassifier(models_path,200,2)\n",
        "ccs_7=rfc_7.multiple_training([5, 10, 20, 40, 100, 200],2, X_train_7, y_train_7, X_test_7,  y_test_7 )"
      ],
      "metadata": {
        "colab": {
          "base_uri": "https://localhost:8080/"
        },
        "id": "0IZBVxSIRR2H",
        "outputId": "701536a5-93ef-423d-d5a1-aaf3eca23dc3"
      },
      "execution_count": null,
      "outputs": [
        {
          "output_type": "stream",
          "name": "stdout",
          "text": [
            "Estimator = 5\n",
            "Accuracy: 0.9511, Precision: 0.9484, Recall: 0.9812, F1: 0.9646\n",
            "Estimator = 10\n",
            "Accuracy: 0.9581, Precision: 0.9577, Recall: 0.9816, F1: 0.9695\n",
            "Estimator = 20\n",
            "Accuracy: 0.9636, Precision: 0.9549, Recall: 0.9932, F1: 0.9737\n",
            "Estimator = 40\n",
            "Accuracy: 0.9629, Precision: 0.9535, Recall: 0.9939, F1: 0.9732\n",
            "Estimator = 100\n",
            "Accuracy: 0.9605, Precision: 0.9497, Recall: 0.9945, F1: 0.9716\n",
            "Estimator = 200\n",
            "Accuracy: 0.9603, Precision: 0.9486, Recall: 0.9955, F1: 0.9714\n"
          ]
        }
      ]
    },
    {
      "cell_type": "code",
      "source": [
        "# recreating the best model to be saved\n",
        "rfc_7_20 = RFClassifier(models_path,20,2)\n",
        "rfc_7_20.tain(X_train_7,y_train_7)\n",
        "y_pred_7=rfc_7_20.predict(X_test_7)\n",
        "scores_7=rfc_7_20.scores(y_test_7, y_pred_7)\n",
        "# rfc_7_20.print_scores(scores_7[0],scores_7[1],scores_7[2],scores_7[3])\n",
        "# saving the best model\n",
        "rfc_7_20.save_model(\"RFC_both_feet_16_sensors_6_features_20\")"
      ],
      "metadata": {
        "id": "4Yo3CDfjTKcV"
      },
      "execution_count": null,
      "outputs": []
    },
    {
      "cell_type": "markdown",
      "source": [
        "#### Cross validation\n",
        "Measures from validation while training with cross-validation"
      ],
      "metadata": {
        "id": "_uVtT474sqOn"
      }
    },
    {
      "cell_type": "code",
      "source": [
        "rfc = RandomForestClassifier(n_estimators= int(100), n_jobs= 2,random_state=42)\n",
        "scores = cross_val_multiple_scores(rfc,df_7,np.ravel(y_7),10)"
      ],
      "metadata": {
        "colab": {
          "base_uri": "https://localhost:8080/"
        },
        "id": "TxqCJ-hNsqOp",
        "outputId": "a76fc615-d3e1-46ec-850c-2b57c67e10c6"
      },
      "execution_count": null,
      "outputs": [
        {
          "output_type": "stream",
          "name": "stdout",
          "text": [
            "Test Accuracy: 0.7514052661654081 +/- 0.07708919428915072\n",
            "Test Prec: 0.7715137532230669 +/- 0.06955956836408303\n",
            "Test Recall: 0.909138318654924 +/- 0.07225028575957067\n",
            "Test F1: 0.8338509203033899 +/- 0.04772044590080145\n"
          ]
        },
        {
          "output_type": "execute_result",
          "data": {
            "text/plain": [
              "[0.7514052661654081, 0.7715137532230669, 0.909138318654924, 0.8338509203033899]"
            ]
          },
          "metadata": {},
          "execution_count": 63
        }
      ]
    },
    {
      "cell_type": "code",
      "source": [
        "cross_scores['acc'].append(scores[0])\n",
        "cross_scores['prec'].append(scores[1])\n",
        "cross_scores['rec'].append(scores[2])\n",
        "cross_scores['f1'].append(scores[3])"
      ],
      "metadata": {
        "id": "ts-b4p_5sqOr"
      },
      "execution_count": null,
      "outputs": []
    },
    {
      "cell_type": "markdown",
      "source": [
        "#### Cross validation\n",
        "Search via cross validation then testing"
      ],
      "metadata": {
        "id": "fD82pLbPURA4"
      }
    },
    {
      "cell_type": "code",
      "source": [
        "scores = cross_val_search(X_train_7, np.ravel(y_train_7),X_test_7, np.ravel(y_test_7))"
      ],
      "metadata": {
        "colab": {
          "base_uri": "https://localhost:8080/"
        },
        "id": "NMnlYpW_URA6",
        "outputId": "8b6386d5-9d2c-48df-9396-5f290f6812f8"
      },
      "execution_count": null,
      "outputs": [
        {
          "output_type": "stream",
          "name": "stdout",
          "text": [
            "Test Accuracy: 0.9622558700899715\n",
            "Test Prec: 0.9506325208269053\n",
            "Test Recall: 0.9961202715809894\n",
            "Test F1: 0.972844963688033\n",
            "{'n_estimators': 50}\n"
          ]
        }
      ]
    },
    {
      "cell_type": "code",
      "source": [
        "cross_scores_search['acc'].append(scores[0])\n",
        "cross_scores_search['prec'].append(scores[1])\n",
        "cross_scores_search['rec'].append(scores[2])\n",
        "cross_scores_search['f1'].append(scores[3])"
      ],
      "metadata": {
        "id": "lf2UFXjwURA9"
      },
      "execution_count": null,
      "outputs": []
    },
    {
      "cell_type": "markdown",
      "source": [
        "### Scaled stances wih fwhm from the forces of 16 sensor from the right & left foot and the sum of all sensors and the with 6 extra features each "
      ],
      "metadata": {
        "id": "WunSzzfXco69"
      }
    },
    {
      "cell_type": "code",
      "source": [
        "colnames_9=['r_interp','l_interp','r_swings_time','r_max_peak','r_total_fwhm','r_strides_time','r_peaks_toe','r_peaks_heel','l_swings_time','l_max_peak','l_total_fwhm','l_strides_time','l_peaks_toe','l_peaks_heel']\n",
        "for col in [\"L1\",\t\"L2\",\t\"L3\"\t,\"L4\",\t\"L5\",\t\"L6\",\t\"L7\"\t,\"L8\",\t\"R1\",\t\"R2\"\t,\"R3\",\t\"R4\",\t\"R5\",\t\"R6\",\t\"R7\",\t\"R8\"]:\n",
        "    for x in [\"interp\", \"fwhm\"]:\n",
        "      colnames_9.append( col +'_' +  x)"
      ],
      "metadata": {
        "id": "sG8l8Z5Hc9G_"
      },
      "execution_count": null,
      "outputs": []
    },
    {
      "cell_type": "code",
      "source": [
        "col_lists_9=[]\n",
        "for col in [\"l\",\"r\",\"L1\",\t\"L2\",\t\"L3\"\t,\"L4\"\t,\"L5\",\t\"L6\",\t\"L7\"\t,\"L8\",\t\"R1\",\t\"R2\"\t,\"R3\",\t\"R4\",\t\"R5\",\t\"R6\",\t\"R7\",\t\"R8\"]:\n",
        "    for x in [\"interp\"]:\n",
        "      col_lists_9.append( col +'_' +  x)"
      ],
      "metadata": {
        "id": "9I5hzP48eWzW"
      },
      "execution_count": null,
      "outputs": []
    },
    {
      "cell_type": "code",
      "source": [
        "df_9 = data.scaled_stances_statics_df[colnames_9]\n",
        "y_9 = data.scaled_stances_statics_df[[ 'y']]\n",
        "# reformatting\n",
        "for col in col_lists_9:\n",
        "  colnames_9.remove(col)\n",
        "df_9 = data.return_array_df_mul_lists(df_9,col_lists_9,colnames_9)\n",
        "# df_7 = np.asarray([l for l in df_7 if ~np.isnan(l).any()])\n",
        "df_9[np.isnan(df_9)] = 0\n",
        "# splitting the data\n",
        "X_train_9, X_test_9, y_train_9, y_test_9 = train_test_split(df_9, y_9, random_state=42)"
      ],
      "metadata": {
        "id": "w10aOeJfeYSl"
      },
      "execution_count": null,
      "outputs": []
    },
    {
      "cell_type": "code",
      "source": [
        "# Checking which RFC will work the best\n",
        "rfc_9 = RFClassifier(models_path,200,2)\n",
        "ccs_9=rfc_9.multiple_training([5, 10, 20, 40, 100, 200],2, X_train_9, y_train_9, X_test_9,  y_test_9 )"
      ],
      "metadata": {
        "colab": {
          "base_uri": "https://localhost:8080/"
        },
        "id": "rPwmY4o8eZ8X",
        "outputId": "0e1ce48c-da5c-4a99-b620-bd888558f4aa"
      },
      "execution_count": null,
      "outputs": [
        {
          "output_type": "stream",
          "name": "stdout",
          "text": [
            "Estimator = 5\n",
            "Accuracy: 0.9434, Precision: 0.9423, Recall: 0.9764, F1: 0.9590\n",
            "Estimator = 10\n",
            "Accuracy: 0.9596, Precision: 0.9593, Recall: 0.9822, F1: 0.9706\n",
            "Estimator = 20\n",
            "Accuracy: 0.9631, Precision: 0.9529, Recall: 0.9948, F1: 0.9734\n",
            "Estimator = 40\n",
            "Accuracy: 0.9636, Precision: 0.9530, Recall: 0.9955, F1: 0.9738\n",
            "Estimator = 100\n",
            "Accuracy: 0.9645, Precision: 0.9533, Recall: 0.9964, F1: 0.9744\n",
            "Estimator = 200\n",
            "Accuracy: 0.9642, Precision: 0.9524, Recall: 0.9971, F1: 0.9743\n"
          ]
        }
      ]
    },
    {
      "cell_type": "code",
      "source": [
        "# recreating the best model to be saved\n",
        "rfc_9_100 = RFClassifier(models_path,100,2)\n",
        "rfc_9_100.tain(X_train_9,y_train_9)\n",
        "y_pred_9=rfc_9_100.predict(X_test_9)\n",
        "scores_9=rfc_9_100.scores(y_test_9, y_pred_9)\n",
        "# rfc_7_20.print_scores(scores_7[0],scores_7[1],scores_7[2],scores_7[3])\n",
        "# saving the best model\n",
        "rfc_9_100.save_model(\"RFC_both_feet_16_sensors_sumsensors_6_features_100\")"
      ],
      "metadata": {
        "id": "ZBC_WnCmebYH"
      },
      "execution_count": null,
      "outputs": []
    },
    {
      "cell_type": "markdown",
      "source": [
        "#### Cross validation\n",
        "Measures from validation while training with cross-validation"
      ],
      "metadata": {
        "id": "DY3k8RXlsvWo"
      }
    },
    {
      "cell_type": "code",
      "source": [
        "rfc = RandomForestClassifier(n_estimators= int(100), n_jobs= 2,random_state=42)\n",
        "scores = cross_val_multiple_scores(rfc,df_9,np.ravel(y_9),10)"
      ],
      "metadata": {
        "colab": {
          "base_uri": "https://localhost:8080/"
        },
        "id": "nEfXRYgAsvWt",
        "outputId": "ef2b82bb-327b-4b70-ccc4-dd358da45e97"
      },
      "execution_count": null,
      "outputs": [
        {
          "output_type": "stream",
          "name": "stdout",
          "text": [
            "Test Accuracy: 0.7387854786352938 +/- 0.08674980289873299\n",
            "Test Prec: 0.7643007967128737 +/- 0.07440294815864308\n",
            "Test Recall: 0.8987320416333068 +/- 0.07698353662601945\n",
            "Test F1: 0.8252313504512309 +/- 0.05504420631390414\n"
          ]
        }
      ]
    },
    {
      "cell_type": "code",
      "source": [
        "cross_scores['acc'].append(scores[0])\n",
        "cross_scores['prec'].append(scores[1])\n",
        "cross_scores['rec'].append(scores[2])\n",
        "cross_scores['f1'].append(scores[3])"
      ],
      "metadata": {
        "id": "u2BRWqrHsvWw"
      },
      "execution_count": null,
      "outputs": []
    },
    {
      "cell_type": "markdown",
      "source": [
        "#### Cross validation\n",
        "Search via cross validation then testing"
      ],
      "metadata": {
        "id": "ObXpWjYLXme4"
      }
    },
    {
      "cell_type": "code",
      "source": [
        "scores = cross_val_search(X_train_9, np.ravel(y_train_9),X_test_9, np.ravel(y_test_9))"
      ],
      "metadata": {
        "colab": {
          "base_uri": "https://localhost:8080/"
        },
        "outputId": "636b44bd-ded6-4e5d-e7b8-5a50f7893f37",
        "id": "y_XGFAkhXme_"
      },
      "execution_count": null,
      "outputs": [
        {
          "output_type": "stream",
          "name": "stdout",
          "text": [
            "Test Accuracy: 0.9659863945578231\n",
            "Test Prec: 0.953955500618047\n",
            "Test Recall: 0.9980601357904947\n",
            "Test F1: 0.975509559172065\n",
            "{'n_estimators': 200}\n"
          ]
        }
      ]
    },
    {
      "cell_type": "code",
      "source": [
        "cross_scores_search['acc'].append(scores[0])\n",
        "cross_scores_search['prec'].append(scores[1])\n",
        "cross_scores_search['rec'].append(scores[2])\n",
        "cross_scores_search['f1'].append(scores[3])"
      ],
      "metadata": {
        "id": "3ZttBRyRXmfB"
      },
      "execution_count": null,
      "outputs": []
    },
    {
      "cell_type": "markdown",
      "source": [
        "### Scaled stances wih fwhm from the forces of 16 sensor from the right & left foot and the sum of all sensors and the with 6 extra features each and the statics from base models"
      ],
      "metadata": {
        "id": "Pbf7jqHRdG2b"
      }
    },
    {
      "cell_type": "code",
      "source": [
        "colnames_8=['r_interp','r_swings_time','r_max_peak','r_total_fwhm','r_strides_time','r_peaks_toe','r_peaks_heel','l_interp','l_swings_time','l_max_peak','l_total_fwhm','l_strides_time','l_peaks_toe','l_peaks_heel']\n",
        "for col in [\"L1\",\t\"L2\",\t\"L3\"\t,\"L4\",\t\"L5\",\t\"L6\",\t\"L7\"\t,\"L8\",\t\"R1\",\t\"R2\"\t,\"R3\",\t\"R4\",\t\"R5\",\t\"R6\",\t\"R7\",\t\"R8\"]:\n",
        "    for x in [\"interp\", \"fwhm\"]:\n",
        "      colnames_8.append( col +'_' +  x)\n",
        "\n",
        "for col in [\"L1\",\t\"L2\",\t\"L3\"\t,\"L4\",\t\"L5\",\t\"L6\",\t\"L7\"\t,\"L8\",\t\"R1\",\t\"R2\"\t,\"R3\",\t\"R4\",\t\"R5\",\t\"R6\",\t\"R7\",\t\"R8\",\t\"Total_Force_Left\",\t\"Total_Force_Right\"]:\n",
        "    for x in [\"Min\", \"Max\", \"Std\", \"Med\", \"Avg\", \"Skewness\", \"Kurtosis\"]:\n",
        "      colnames_8.append( col +'_' +  x)\n",
        "\n",
        "col_lists_8=['r_interp','l_interp']\n",
        "for col in [\"L1\",\t\"L2\",\t\"L3\"\t,\"L4\"\t,\"L5\",\t\"L6\",\t\"L7\"\t,\"L8\",\t\"R1\",\t\"R2\"\t,\"R3\",\t\"R4\",\t\"R5\",\t\"R6\",\t\"R7\",\t\"R8\"]:\n",
        "    for x in [\"interp\"]:\n",
        "      col_lists_8.append( col +'_' +  x)\n",
        "\n",
        "df_8 = data.scaled_stances_statics_df[colnames_8]\n",
        "y_8 = data.scaled_stances_statics_df[[ 'y']]\n",
        "# reformatting\n",
        "for col in col_lists_8:\n",
        "  colnames_8.remove(col)\n",
        "df_8 = data.return_array_df_mul_lists(df_8,col_lists_8,colnames_8)\n",
        "# df_7 = np.asarray([l for l in df_7 if ~np.isnan(l).any()])\n",
        "df_8[np.isnan(df_8)] = 0\n",
        "# splitting the data\n",
        "X_train_8, X_test_8, y_train_8, y_test_8 = train_test_split(df_8, y_8, random_state=42)\n"
      ],
      "metadata": {
        "id": "iNDHk3U2lA-v"
      },
      "execution_count": null,
      "outputs": []
    },
    {
      "cell_type": "code",
      "source": [
        "# Checking which RFC will work the best\n",
        "rfc_8 = RFClassifier(models_path,200,2)\n",
        "ccs_8=rfc_8.multiple_training([5, 10, 20, 40, 100, 200],2, X_train_8, y_train_8, X_test_8,  y_test_8 )"
      ],
      "metadata": {
        "colab": {
          "base_uri": "https://localhost:8080/"
        },
        "id": "jlE0InyLlSOv",
        "outputId": "60c8d0b7-db34-456a-cd07-6fb04b6a5f67"
      },
      "execution_count": null,
      "outputs": [
        {
          "output_type": "stream",
          "name": "stdout",
          "text": [
            "Estimator = 5\n",
            "Accuracy: 0.9974, Precision: 0.9974, Recall: 0.9987, F1: 0.9981\n",
            "Estimator = 10\n",
            "Accuracy: 0.9996, Precision: 1.0000, Recall: 0.9994, F1: 0.9997\n",
            "Estimator = 20\n",
            "Accuracy: 1.0000, Precision: 1.0000, Recall: 1.0000, F1: 1.0000\n",
            "Estimator = 40\n",
            "Accuracy: 1.0000, Precision: 1.0000, Recall: 1.0000, F1: 1.0000\n",
            "Estimator = 100\n",
            "Accuracy: 1.0000, Precision: 1.0000, Recall: 1.0000, F1: 1.0000\n",
            "Estimator = 200\n",
            "Accuracy: 1.0000, Precision: 1.0000, Recall: 1.0000, F1: 1.0000\n"
          ]
        }
      ]
    },
    {
      "cell_type": "code",
      "source": [
        "# recreating the best model to be saved\n",
        "rfc_8_100 = RFClassifier(models_path,100,2)\n",
        "rfc_8_100.taining(X_train_8,y_train_8)\n",
        "y_pred_8=rfc_8_100.predict(X_test_8)\n",
        "scores_8=rfc_8_100.scores(y_test_8, y_pred_8)\n",
        "# saving the best model\n",
        "#rfc_8_100.save_model(\"RFC_both_feet_16_sensors_sumsensors_6_features_100\") "
      ],
      "metadata": {
        "id": "-fpvHebOlUmo"
      },
      "execution_count": null,
      "outputs": []
    },
    {
      "cell_type": "markdown",
      "source": [
        "#### Cross validation\n",
        "Measures from validation while training with cross-validation"
      ],
      "metadata": {
        "id": "lyegnJZitUvj"
      }
    },
    {
      "cell_type": "code",
      "source": [
        "rfc = RandomForestClassifier(n_estimators= int(100), n_jobs= 2,random_state=42)\n",
        "scores = cross_val_multiple_scores(rfc,df_8,np.ravel(y_8),10)\n",
        "scores"
      ],
      "metadata": {
        "colab": {
          "base_uri": "https://localhost:8080/"
        },
        "id": "asPw5IrmtUvm",
        "outputId": "8aa0c94f-d59e-4bfd-f7a0-a10b6627691a"
      },
      "execution_count": null,
      "outputs": [
        {
          "output_type": "stream",
          "name": "stdout",
          "text": [
            "Test Accuracy: 0.8179675123272396 +/- 0.19742844919227948\n",
            "Test Prec: 0.866645504697173 +/- 0.1584540154446422\n",
            "Test Recall: 0.87847160928743 +/- 0.27591919463757125\n",
            "Test F1: 0.8646461640136565 +/- 0.17142318886467148\n"
          ]
        },
        {
          "output_type": "execute_result",
          "data": {
            "text/plain": [
              "[0.8179675123272396, 0.866645504697173, 0.87847160928743, 0.8646461640136565]"
            ]
          },
          "metadata": {},
          "execution_count": 71
        }
      ]
    },
    {
      "cell_type": "code",
      "source": [
        "cross_scores['acc'].append(scores[0])\n",
        "cross_scores['prec'].append(scores[1])\n",
        "cross_scores['rec'].append(scores[2])\n",
        "cross_scores['f1'].append(scores[3])"
      ],
      "metadata": {
        "id": "wU_CA5kFtUvo"
      },
      "execution_count": null,
      "outputs": []
    },
    {
      "cell_type": "markdown",
      "source": [
        "#### Cross validation\n",
        "Search via cross validation then testing"
      ],
      "metadata": {
        "id": "J8yakw9zbxho"
      }
    },
    {
      "cell_type": "code",
      "source": [
        "scores = cross_val_search(X_train_8, np.ravel(y_train_8),X_test_8, np.ravel(y_test_8))"
      ],
      "metadata": {
        "colab": {
          "base_uri": "https://localhost:8080/"
        },
        "outputId": "94335f66-3574-4940-c082-4c8db395cad7",
        "id": "ROKR4pxpbxhr"
      },
      "execution_count": null,
      "outputs": [
        {
          "output_type": "stream",
          "name": "stdout",
          "text": [
            "Test Accuracy: 1.0\n",
            "Test Prec: 1.0\n",
            "Test Recall: 1.0\n",
            "Test F1: 1.0\n",
            "{'n_estimators': 200}\n"
          ]
        }
      ]
    },
    {
      "cell_type": "code",
      "source": [
        "cross_scores_search['acc'].append(scores[0])\n",
        "cross_scores_search['prec'].append(scores[1])\n",
        "cross_scores_search['rec'].append(scores[2])\n",
        "cross_scores_search['f1'].append(scores[3])"
      ],
      "metadata": {
        "id": "8CNKLBnCbxht"
      },
      "execution_count": null,
      "outputs": []
    },
    {
      "cell_type": "markdown",
      "source": [
        "## Plot of measures (RFC models)"
      ],
      "metadata": {
        "id": "l12cVr5SkDZc"
      }
    },
    {
      "cell_type": "code",
      "source": [
        "labels = ['Baseline model',\\\n",
        "          'Accum signal from a foot <br> & features',\\\n",
        "          'Accum signal from 1 foot <br> & more features',\\\n",
        "          'Acc signal from 2 feet & <br> features',\\\n",
        "          'Multidim signals & features',\\\n",
        "          'Multidim signals & Accum <br> signal & features',\\\n",
        "          'Multidim signals & Accum <br> signal & features & BLM statics']"
      ],
      "metadata": {
        "id": "ac5W3NWzkMQR"
      },
      "execution_count": null,
      "outputs": []
    },
    {
      "cell_type": "code",
      "source": [
        "df = pd.DataFrame({ 'Label' : labels,\\\n",
        "                   'Accuracy' :cross_scores_search['acc'],\n",
        "                   'Precision': cross_scores_search['prec'],\n",
        "                   'Recall':cross_scores_search['rec'],\n",
        "                   'F1':cross_scores_search['f1']})"
      ],
      "metadata": {
        "id": "WvUpQegem9Rk"
      },
      "execution_count": null,
      "outputs": []
    },
    {
      "cell_type": "code",
      "source": [
        "df"
      ],
      "metadata": {
        "colab": {
          "base_uri": "https://localhost:8080/",
          "height": 269
        },
        "id": "zNdgmfKLnUbh",
        "outputId": "d757f690-c50c-41da-bf74-28f588689b0f"
      },
      "execution_count": null,
      "outputs": [
        {
          "output_type": "execute_result",
          "data": {
            "text/plain": [
              "                                               Label  Accuracy  Precision  \\\n",
              "0                                     Baseline model  0.881579   0.898305   \n",
              "1           Accum signal from a foot <br> & features  0.940312   0.933867   \n",
              "2      Accum signal from 1 foot <br> & more features  0.953259   0.945269   \n",
              "3             Acc signal from 2 feet & <br> features  0.960939   0.950263   \n",
              "4                        Multidim signals & features  0.962256   0.950633   \n",
              "5    Multidim signals & Accum <br> signal & features  0.965986   0.953956   \n",
              "6  Multidim signals & Accum <br> signal & feature...  1.000000   1.000000   \n",
              "\n",
              "     Recall        F1  \n",
              "0  0.946429  0.921739  \n",
              "1  0.981571  0.957125  \n",
              "2  0.988361  0.966335  \n",
              "3  0.994504  0.971880  \n",
              "4  0.996120  0.972845  \n",
              "5  0.998060  0.975510  \n",
              "6  1.000000  1.000000  "
            ],
            "text/html": [
              "\n",
              "  <div id=\"df-eea11c70-a1a3-4bf0-b017-de5b6668661b\">\n",
              "    <div class=\"colab-df-container\">\n",
              "      <div>\n",
              "<style scoped>\n",
              "    .dataframe tbody tr th:only-of-type {\n",
              "        vertical-align: middle;\n",
              "    }\n",
              "\n",
              "    .dataframe tbody tr th {\n",
              "        vertical-align: top;\n",
              "    }\n",
              "\n",
              "    .dataframe thead th {\n",
              "        text-align: right;\n",
              "    }\n",
              "</style>\n",
              "<table border=\"1\" class=\"dataframe\">\n",
              "  <thead>\n",
              "    <tr style=\"text-align: right;\">\n",
              "      <th></th>\n",
              "      <th>Label</th>\n",
              "      <th>Accuracy</th>\n",
              "      <th>Precision</th>\n",
              "      <th>Recall</th>\n",
              "      <th>F1</th>\n",
              "    </tr>\n",
              "  </thead>\n",
              "  <tbody>\n",
              "    <tr>\n",
              "      <th>0</th>\n",
              "      <td>Baseline model</td>\n",
              "      <td>0.881579</td>\n",
              "      <td>0.898305</td>\n",
              "      <td>0.946429</td>\n",
              "      <td>0.921739</td>\n",
              "    </tr>\n",
              "    <tr>\n",
              "      <th>1</th>\n",
              "      <td>Accum signal from a foot &lt;br&gt; &amp; features</td>\n",
              "      <td>0.940312</td>\n",
              "      <td>0.933867</td>\n",
              "      <td>0.981571</td>\n",
              "      <td>0.957125</td>\n",
              "    </tr>\n",
              "    <tr>\n",
              "      <th>2</th>\n",
              "      <td>Accum signal from 1 foot &lt;br&gt; &amp; more features</td>\n",
              "      <td>0.953259</td>\n",
              "      <td>0.945269</td>\n",
              "      <td>0.988361</td>\n",
              "      <td>0.966335</td>\n",
              "    </tr>\n",
              "    <tr>\n",
              "      <th>3</th>\n",
              "      <td>Acc signal from 2 feet &amp; &lt;br&gt; features</td>\n",
              "      <td>0.960939</td>\n",
              "      <td>0.950263</td>\n",
              "      <td>0.994504</td>\n",
              "      <td>0.971880</td>\n",
              "    </tr>\n",
              "    <tr>\n",
              "      <th>4</th>\n",
              "      <td>Multidim signals &amp; features</td>\n",
              "      <td>0.962256</td>\n",
              "      <td>0.950633</td>\n",
              "      <td>0.996120</td>\n",
              "      <td>0.972845</td>\n",
              "    </tr>\n",
              "    <tr>\n",
              "      <th>5</th>\n",
              "      <td>Multidim signals &amp; Accum &lt;br&gt; signal &amp; features</td>\n",
              "      <td>0.965986</td>\n",
              "      <td>0.953956</td>\n",
              "      <td>0.998060</td>\n",
              "      <td>0.975510</td>\n",
              "    </tr>\n",
              "    <tr>\n",
              "      <th>6</th>\n",
              "      <td>Multidim signals &amp; Accum &lt;br&gt; signal &amp; feature...</td>\n",
              "      <td>1.000000</td>\n",
              "      <td>1.000000</td>\n",
              "      <td>1.000000</td>\n",
              "      <td>1.000000</td>\n",
              "    </tr>\n",
              "  </tbody>\n",
              "</table>\n",
              "</div>\n",
              "      <button class=\"colab-df-convert\" onclick=\"convertToInteractive('df-eea11c70-a1a3-4bf0-b017-de5b6668661b')\"\n",
              "              title=\"Convert this dataframe to an interactive table.\"\n",
              "              style=\"display:none;\">\n",
              "        \n",
              "  <svg xmlns=\"http://www.w3.org/2000/svg\" height=\"24px\"viewBox=\"0 0 24 24\"\n",
              "       width=\"24px\">\n",
              "    <path d=\"M0 0h24v24H0V0z\" fill=\"none\"/>\n",
              "    <path d=\"M18.56 5.44l.94 2.06.94-2.06 2.06-.94-2.06-.94-.94-2.06-.94 2.06-2.06.94zm-11 1L8.5 8.5l.94-2.06 2.06-.94-2.06-.94L8.5 2.5l-.94 2.06-2.06.94zm10 10l.94 2.06.94-2.06 2.06-.94-2.06-.94-.94-2.06-.94 2.06-2.06.94z\"/><path d=\"M17.41 7.96l-1.37-1.37c-.4-.4-.92-.59-1.43-.59-.52 0-1.04.2-1.43.59L10.3 9.45l-7.72 7.72c-.78.78-.78 2.05 0 2.83L4 21.41c.39.39.9.59 1.41.59.51 0 1.02-.2 1.41-.59l7.78-7.78 2.81-2.81c.8-.78.8-2.07 0-2.86zM5.41 20L4 18.59l7.72-7.72 1.47 1.35L5.41 20z\"/>\n",
              "  </svg>\n",
              "      </button>\n",
              "      \n",
              "  <style>\n",
              "    .colab-df-container {\n",
              "      display:flex;\n",
              "      flex-wrap:wrap;\n",
              "      gap: 12px;\n",
              "    }\n",
              "\n",
              "    .colab-df-convert {\n",
              "      background-color: #E8F0FE;\n",
              "      border: none;\n",
              "      border-radius: 50%;\n",
              "      cursor: pointer;\n",
              "      display: none;\n",
              "      fill: #1967D2;\n",
              "      height: 32px;\n",
              "      padding: 0 0 0 0;\n",
              "      width: 32px;\n",
              "    }\n",
              "\n",
              "    .colab-df-convert:hover {\n",
              "      background-color: #E2EBFA;\n",
              "      box-shadow: 0px 1px 2px rgba(60, 64, 67, 0.3), 0px 1px 3px 1px rgba(60, 64, 67, 0.15);\n",
              "      fill: #174EA6;\n",
              "    }\n",
              "\n",
              "    [theme=dark] .colab-df-convert {\n",
              "      background-color: #3B4455;\n",
              "      fill: #D2E3FC;\n",
              "    }\n",
              "\n",
              "    [theme=dark] .colab-df-convert:hover {\n",
              "      background-color: #434B5C;\n",
              "      box-shadow: 0px 1px 3px 1px rgba(0, 0, 0, 0.15);\n",
              "      filter: drop-shadow(0px 1px 2px rgba(0, 0, 0, 0.3));\n",
              "      fill: #FFFFFF;\n",
              "    }\n",
              "  </style>\n",
              "\n",
              "      <script>\n",
              "        const buttonEl =\n",
              "          document.querySelector('#df-eea11c70-a1a3-4bf0-b017-de5b6668661b button.colab-df-convert');\n",
              "        buttonEl.style.display =\n",
              "          google.colab.kernel.accessAllowed ? 'block' : 'none';\n",
              "\n",
              "        async function convertToInteractive(key) {\n",
              "          const element = document.querySelector('#df-eea11c70-a1a3-4bf0-b017-de5b6668661b');\n",
              "          const dataTable =\n",
              "            await google.colab.kernel.invokeFunction('convertToInteractive',\n",
              "                                                     [key], {});\n",
              "          if (!dataTable) return;\n",
              "\n",
              "          const docLinkHtml = 'Like what you see? Visit the ' +\n",
              "            '<a target=\"_blank\" href=https://colab.research.google.com/notebooks/data_table.ipynb>data table notebook</a>'\n",
              "            + ' to learn more about interactive tables.';\n",
              "          element.innerHTML = '';\n",
              "          dataTable['output_type'] = 'display_data';\n",
              "          await google.colab.output.renderOutput(dataTable, element);\n",
              "          const docLink = document.createElement('div');\n",
              "          docLink.innerHTML = docLinkHtml;\n",
              "          element.appendChild(docLink);\n",
              "        }\n",
              "      </script>\n",
              "    </div>\n",
              "  </div>\n",
              "  "
            ]
          },
          "metadata": {},
          "execution_count": 263
        }
      ]
    },
    {
      "cell_type": "code",
      "source": [
        "df.to_parquet(parquet_path+'rfc_binary_metrics.gzip')"
      ],
      "metadata": {
        "id": "W_6uHcecTa7X"
      },
      "execution_count": null,
      "outputs": []
    },
    {
      "cell_type": "code",
      "source": [
        "pd.options.plotting.backend = \"plotly\""
      ],
      "metadata": {
        "id": "4594YlNunhOR"
      },
      "execution_count": null,
      "outputs": []
    },
    {
      "cell_type": "code",
      "source": [
        "df.plot(x='Label', y=df.columns[1:],\n",
        "        labels={\n",
        "                     \"Label\": \"Input Data\",\n",
        "                     \"variable\": \"Metric\"\n",
        "                 },\n",
        "                title=\"Binary Classification models\")"
      ],
      "metadata": {
        "colab": {
          "base_uri": "https://localhost:8080/",
          "height": 542
        },
        "id": "RzGf5AVXniJS",
        "outputId": "e91ae78b-c6a6-49e4-df73-b223cad55662"
      },
      "execution_count": null,
      "outputs": [
        {
          "output_type": "display_data",
          "data": {
            "text/html": [
              "<html>\n",
              "<head><meta charset=\"utf-8\" /></head>\n",
              "<body>\n",
              "    <div>            <script src=\"https://cdnjs.cloudflare.com/ajax/libs/mathjax/2.7.5/MathJax.js?config=TeX-AMS-MML_SVG\"></script><script type=\"text/javascript\">if (window.MathJax && window.MathJax.Hub && window.MathJax.Hub.Config) {window.MathJax.Hub.Config({SVG: {font: \"STIX-Web\"}});}</script>                <script type=\"text/javascript\">window.PlotlyConfig = {MathJaxConfig: 'local'};</script>\n",
              "        <script src=\"https://cdn.plot.ly/plotly-2.18.2.min.js\"></script>                <div id=\"844e750c-2886-4e1f-ac83-fa41f594b2c9\" class=\"plotly-graph-div\" style=\"height:525px; width:100%;\"></div>            <script type=\"text/javascript\">                                    window.PLOTLYENV=window.PLOTLYENV || {};                                    if (document.getElementById(\"844e750c-2886-4e1f-ac83-fa41f594b2c9\")) {                    Plotly.newPlot(                        \"844e750c-2886-4e1f-ac83-fa41f594b2c9\",                        [{\"hovertemplate\":\"Metric=Accuracy<br>Input Data=%{x}<br>value=%{y}<extra></extra>\",\"legendgroup\":\"Accuracy\",\"line\":{\"color\":\"#636efa\",\"dash\":\"solid\"},\"marker\":{\"symbol\":\"circle\"},\"mode\":\"lines\",\"name\":\"Accuracy\",\"orientation\":\"v\",\"showlegend\":true,\"x\":[\"Baseline model\",\"Accum signal from a foot <br> & features\",\"Accum signal from 1 foot <br> & more features\",\"Acc signal from 2 feet & <br> features\",\"Multidim signals & features\",\"Multidim signals & Accum <br> signal & features\",\"Multidim signals & Accum <br> signal & features & BLM statics\"],\"xaxis\":\"x\",\"y\":[0.881578947368421,0.9403116085143735,0.9532587228439763,0.9609392143954356,0.9622558700899715,0.9659863945578231,1.0],\"yaxis\":\"y\",\"type\":\"scatter\"},{\"hovertemplate\":\"Metric=Precision<br>Input Data=%{x}<br>value=%{y}<extra></extra>\",\"legendgroup\":\"Precision\",\"line\":{\"color\":\"#EF553B\",\"dash\":\"solid\"},\"marker\":{\"symbol\":\"circle\"},\"mode\":\"lines\",\"name\":\"Precision\",\"orientation\":\"v\",\"showlegend\":true,\"x\":[\"Baseline model\",\"Accum signal from a foot <br> & features\",\"Accum signal from 1 foot <br> & more features\",\"Acc signal from 2 feet & <br> features\",\"Multidim signals & features\",\"Multidim signals & Accum <br> signal & features\",\"Multidim signals & Accum <br> signal & features & BLM statics\"],\"xaxis\":\"x\",\"y\":[0.8983050847457628,0.9338665026145802,0.9452690166975881,0.9502625888168057,0.9506325208269053,0.953955500618047,1.0],\"yaxis\":\"y\",\"type\":\"scatter\"},{\"hovertemplate\":\"Metric=Recall<br>Input Data=%{x}<br>value=%{y}<extra></extra>\",\"legendgroup\":\"Recall\",\"line\":{\"color\":\"#00cc96\",\"dash\":\"solid\"},\"marker\":{\"symbol\":\"circle\"},\"mode\":\"lines\",\"name\":\"Recall\",\"orientation\":\"v\",\"showlegend\":true,\"x\":[\"Baseline model\",\"Accum signal from a foot <br> & features\",\"Accum signal from 1 foot <br> & more features\",\"Acc signal from 2 feet & <br> features\",\"Multidim signals & features\",\"Multidim signals & Accum <br> signal & features\",\"Multidim signals & Accum <br> signal & features & BLM statics\"],\"xaxis\":\"x\",\"y\":[0.9464285714285714,0.9815712900096993,0.988360814742968,0.9945037180730683,0.9961202715809894,0.9980601357904947,1.0],\"yaxis\":\"y\",\"type\":\"scatter\"},{\"hovertemplate\":\"Metric=F1<br>Input Data=%{x}<br>value=%{y}<extra></extra>\",\"legendgroup\":\"F1\",\"line\":{\"color\":\"#ab63fa\",\"dash\":\"solid\"},\"marker\":{\"symbol\":\"circle\"},\"mode\":\"lines\",\"name\":\"F1\",\"orientation\":\"v\",\"showlegend\":true,\"x\":[\"Baseline model\",\"Accum signal from a foot <br> & features\",\"Accum signal from 1 foot <br> & more features\",\"Acc signal from 2 feet & <br> features\",\"Multidim signals & features\",\"Multidim signals & Accum <br> signal & features\",\"Multidim signals & Accum <br> signal & features & BLM statics\"],\"xaxis\":\"x\",\"y\":[0.9217391304347826,0.957124842370744,0.96633475580844,0.9718799368088468,0.972844963688033,0.975509559172065,1.0],\"yaxis\":\"y\",\"type\":\"scatter\"}],                        {\"template\":{\"data\":{\"histogram2dcontour\":[{\"type\":\"histogram2dcontour\",\"colorbar\":{\"outlinewidth\":0,\"ticks\":\"\"},\"colorscale\":[[0.0,\"#0d0887\"],[0.1111111111111111,\"#46039f\"],[0.2222222222222222,\"#7201a8\"],[0.3333333333333333,\"#9c179e\"],[0.4444444444444444,\"#bd3786\"],[0.5555555555555556,\"#d8576b\"],[0.6666666666666666,\"#ed7953\"],[0.7777777777777778,\"#fb9f3a\"],[0.8888888888888888,\"#fdca26\"],[1.0,\"#f0f921\"]]}],\"choropleth\":[{\"type\":\"choropleth\",\"colorbar\":{\"outlinewidth\":0,\"ticks\":\"\"}}],\"histogram2d\":[{\"type\":\"histogram2d\",\"colorbar\":{\"outlinewidth\":0,\"ticks\":\"\"},\"colorscale\":[[0.0,\"#0d0887\"],[0.1111111111111111,\"#46039f\"],[0.2222222222222222,\"#7201a8\"],[0.3333333333333333,\"#9c179e\"],[0.4444444444444444,\"#bd3786\"],[0.5555555555555556,\"#d8576b\"],[0.6666666666666666,\"#ed7953\"],[0.7777777777777778,\"#fb9f3a\"],[0.8888888888888888,\"#fdca26\"],[1.0,\"#f0f921\"]]}],\"heatmap\":[{\"type\":\"heatmap\",\"colorbar\":{\"outlinewidth\":0,\"ticks\":\"\"},\"colorscale\":[[0.0,\"#0d0887\"],[0.1111111111111111,\"#46039f\"],[0.2222222222222222,\"#7201a8\"],[0.3333333333333333,\"#9c179e\"],[0.4444444444444444,\"#bd3786\"],[0.5555555555555556,\"#d8576b\"],[0.6666666666666666,\"#ed7953\"],[0.7777777777777778,\"#fb9f3a\"],[0.8888888888888888,\"#fdca26\"],[1.0,\"#f0f921\"]]}],\"heatmapgl\":[{\"type\":\"heatmapgl\",\"colorbar\":{\"outlinewidth\":0,\"ticks\":\"\"},\"colorscale\":[[0.0,\"#0d0887\"],[0.1111111111111111,\"#46039f\"],[0.2222222222222222,\"#7201a8\"],[0.3333333333333333,\"#9c179e\"],[0.4444444444444444,\"#bd3786\"],[0.5555555555555556,\"#d8576b\"],[0.6666666666666666,\"#ed7953\"],[0.7777777777777778,\"#fb9f3a\"],[0.8888888888888888,\"#fdca26\"],[1.0,\"#f0f921\"]]}],\"contourcarpet\":[{\"type\":\"contourcarpet\",\"colorbar\":{\"outlinewidth\":0,\"ticks\":\"\"}}],\"contour\":[{\"type\":\"contour\",\"colorbar\":{\"outlinewidth\":0,\"ticks\":\"\"},\"colorscale\":[[0.0,\"#0d0887\"],[0.1111111111111111,\"#46039f\"],[0.2222222222222222,\"#7201a8\"],[0.3333333333333333,\"#9c179e\"],[0.4444444444444444,\"#bd3786\"],[0.5555555555555556,\"#d8576b\"],[0.6666666666666666,\"#ed7953\"],[0.7777777777777778,\"#fb9f3a\"],[0.8888888888888888,\"#fdca26\"],[1.0,\"#f0f921\"]]}],\"surface\":[{\"type\":\"surface\",\"colorbar\":{\"outlinewidth\":0,\"ticks\":\"\"},\"colorscale\":[[0.0,\"#0d0887\"],[0.1111111111111111,\"#46039f\"],[0.2222222222222222,\"#7201a8\"],[0.3333333333333333,\"#9c179e\"],[0.4444444444444444,\"#bd3786\"],[0.5555555555555556,\"#d8576b\"],[0.6666666666666666,\"#ed7953\"],[0.7777777777777778,\"#fb9f3a\"],[0.8888888888888888,\"#fdca26\"],[1.0,\"#f0f921\"]]}],\"mesh3d\":[{\"type\":\"mesh3d\",\"colorbar\":{\"outlinewidth\":0,\"ticks\":\"\"}}],\"scatter\":[{\"fillpattern\":{\"fillmode\":\"overlay\",\"size\":10,\"solidity\":0.2},\"type\":\"scatter\"}],\"parcoords\":[{\"type\":\"parcoords\",\"line\":{\"colorbar\":{\"outlinewidth\":0,\"ticks\":\"\"}}}],\"scatterpolargl\":[{\"type\":\"scatterpolargl\",\"marker\":{\"colorbar\":{\"outlinewidth\":0,\"ticks\":\"\"}}}],\"bar\":[{\"error_x\":{\"color\":\"#2a3f5f\"},\"error_y\":{\"color\":\"#2a3f5f\"},\"marker\":{\"line\":{\"color\":\"#E5ECF6\",\"width\":0.5},\"pattern\":{\"fillmode\":\"overlay\",\"size\":10,\"solidity\":0.2}},\"type\":\"bar\"}],\"scattergeo\":[{\"type\":\"scattergeo\",\"marker\":{\"colorbar\":{\"outlinewidth\":0,\"ticks\":\"\"}}}],\"scatterpolar\":[{\"type\":\"scatterpolar\",\"marker\":{\"colorbar\":{\"outlinewidth\":0,\"ticks\":\"\"}}}],\"histogram\":[{\"marker\":{\"pattern\":{\"fillmode\":\"overlay\",\"size\":10,\"solidity\":0.2}},\"type\":\"histogram\"}],\"scattergl\":[{\"type\":\"scattergl\",\"marker\":{\"colorbar\":{\"outlinewidth\":0,\"ticks\":\"\"}}}],\"scatter3d\":[{\"type\":\"scatter3d\",\"line\":{\"colorbar\":{\"outlinewidth\":0,\"ticks\":\"\"}},\"marker\":{\"colorbar\":{\"outlinewidth\":0,\"ticks\":\"\"}}}],\"scattermapbox\":[{\"type\":\"scattermapbox\",\"marker\":{\"colorbar\":{\"outlinewidth\":0,\"ticks\":\"\"}}}],\"scatterternary\":[{\"type\":\"scatterternary\",\"marker\":{\"colorbar\":{\"outlinewidth\":0,\"ticks\":\"\"}}}],\"scattercarpet\":[{\"type\":\"scattercarpet\",\"marker\":{\"colorbar\":{\"outlinewidth\":0,\"ticks\":\"\"}}}],\"carpet\":[{\"aaxis\":{\"endlinecolor\":\"#2a3f5f\",\"gridcolor\":\"white\",\"linecolor\":\"white\",\"minorgridcolor\":\"white\",\"startlinecolor\":\"#2a3f5f\"},\"baxis\":{\"endlinecolor\":\"#2a3f5f\",\"gridcolor\":\"white\",\"linecolor\":\"white\",\"minorgridcolor\":\"white\",\"startlinecolor\":\"#2a3f5f\"},\"type\":\"carpet\"}],\"table\":[{\"cells\":{\"fill\":{\"color\":\"#EBF0F8\"},\"line\":{\"color\":\"white\"}},\"header\":{\"fill\":{\"color\":\"#C8D4E3\"},\"line\":{\"color\":\"white\"}},\"type\":\"table\"}],\"barpolar\":[{\"marker\":{\"line\":{\"color\":\"#E5ECF6\",\"width\":0.5},\"pattern\":{\"fillmode\":\"overlay\",\"size\":10,\"solidity\":0.2}},\"type\":\"barpolar\"}],\"pie\":[{\"automargin\":true,\"type\":\"pie\"}]},\"layout\":{\"autotypenumbers\":\"strict\",\"colorway\":[\"#636efa\",\"#EF553B\",\"#00cc96\",\"#ab63fa\",\"#FFA15A\",\"#19d3f3\",\"#FF6692\",\"#B6E880\",\"#FF97FF\",\"#FECB52\"],\"font\":{\"color\":\"#2a3f5f\"},\"hovermode\":\"closest\",\"hoverlabel\":{\"align\":\"left\"},\"paper_bgcolor\":\"white\",\"plot_bgcolor\":\"#E5ECF6\",\"polar\":{\"bgcolor\":\"#E5ECF6\",\"angularaxis\":{\"gridcolor\":\"white\",\"linecolor\":\"white\",\"ticks\":\"\"},\"radialaxis\":{\"gridcolor\":\"white\",\"linecolor\":\"white\",\"ticks\":\"\"}},\"ternary\":{\"bgcolor\":\"#E5ECF6\",\"aaxis\":{\"gridcolor\":\"white\",\"linecolor\":\"white\",\"ticks\":\"\"},\"baxis\":{\"gridcolor\":\"white\",\"linecolor\":\"white\",\"ticks\":\"\"},\"caxis\":{\"gridcolor\":\"white\",\"linecolor\":\"white\",\"ticks\":\"\"}},\"coloraxis\":{\"colorbar\":{\"outlinewidth\":0,\"ticks\":\"\"}},\"colorscale\":{\"sequential\":[[0.0,\"#0d0887\"],[0.1111111111111111,\"#46039f\"],[0.2222222222222222,\"#7201a8\"],[0.3333333333333333,\"#9c179e\"],[0.4444444444444444,\"#bd3786\"],[0.5555555555555556,\"#d8576b\"],[0.6666666666666666,\"#ed7953\"],[0.7777777777777778,\"#fb9f3a\"],[0.8888888888888888,\"#fdca26\"],[1.0,\"#f0f921\"]],\"sequentialminus\":[[0.0,\"#0d0887\"],[0.1111111111111111,\"#46039f\"],[0.2222222222222222,\"#7201a8\"],[0.3333333333333333,\"#9c179e\"],[0.4444444444444444,\"#bd3786\"],[0.5555555555555556,\"#d8576b\"],[0.6666666666666666,\"#ed7953\"],[0.7777777777777778,\"#fb9f3a\"],[0.8888888888888888,\"#fdca26\"],[1.0,\"#f0f921\"]],\"diverging\":[[0,\"#8e0152\"],[0.1,\"#c51b7d\"],[0.2,\"#de77ae\"],[0.3,\"#f1b6da\"],[0.4,\"#fde0ef\"],[0.5,\"#f7f7f7\"],[0.6,\"#e6f5d0\"],[0.7,\"#b8e186\"],[0.8,\"#7fbc41\"],[0.9,\"#4d9221\"],[1,\"#276419\"]]},\"xaxis\":{\"gridcolor\":\"white\",\"linecolor\":\"white\",\"ticks\":\"\",\"title\":{\"standoff\":15},\"zerolinecolor\":\"white\",\"automargin\":true,\"zerolinewidth\":2},\"yaxis\":{\"gridcolor\":\"white\",\"linecolor\":\"white\",\"ticks\":\"\",\"title\":{\"standoff\":15},\"zerolinecolor\":\"white\",\"automargin\":true,\"zerolinewidth\":2},\"scene\":{\"xaxis\":{\"backgroundcolor\":\"#E5ECF6\",\"gridcolor\":\"white\",\"linecolor\":\"white\",\"showbackground\":true,\"ticks\":\"\",\"zerolinecolor\":\"white\",\"gridwidth\":2},\"yaxis\":{\"backgroundcolor\":\"#E5ECF6\",\"gridcolor\":\"white\",\"linecolor\":\"white\",\"showbackground\":true,\"ticks\":\"\",\"zerolinecolor\":\"white\",\"gridwidth\":2},\"zaxis\":{\"backgroundcolor\":\"#E5ECF6\",\"gridcolor\":\"white\",\"linecolor\":\"white\",\"showbackground\":true,\"ticks\":\"\",\"zerolinecolor\":\"white\",\"gridwidth\":2}},\"shapedefaults\":{\"line\":{\"color\":\"#2a3f5f\"}},\"annotationdefaults\":{\"arrowcolor\":\"#2a3f5f\",\"arrowhead\":0,\"arrowwidth\":1},\"geo\":{\"bgcolor\":\"white\",\"landcolor\":\"#E5ECF6\",\"subunitcolor\":\"white\",\"showland\":true,\"showlakes\":true,\"lakecolor\":\"white\"},\"title\":{\"x\":0.05},\"mapbox\":{\"style\":\"light\"}}},\"xaxis\":{\"anchor\":\"y\",\"domain\":[0.0,1.0],\"title\":{\"text\":\"Input Data\"}},\"yaxis\":{\"anchor\":\"x\",\"domain\":[0.0,1.0],\"title\":{\"text\":\"value\"}},\"legend\":{\"title\":{\"text\":\"Metric\"},\"tracegroupgap\":0},\"title\":{\"text\":\"Binary Classification models\"}},                        {\"responsive\": true}                    ).then(function(){\n",
              "                            \n",
              "var gd = document.getElementById('844e750c-2886-4e1f-ac83-fa41f594b2c9');\n",
              "var x = new MutationObserver(function (mutations, observer) {{\n",
              "        var display = window.getComputedStyle(gd).display;\n",
              "        if (!display || display === 'none') {{\n",
              "            console.log([gd, 'removed!']);\n",
              "            Plotly.purge(gd);\n",
              "            observer.disconnect();\n",
              "        }}\n",
              "}});\n",
              "\n",
              "// Listen for the removal of the full notebook cells\n",
              "var notebookContainer = gd.closest('#notebook-container');\n",
              "if (notebookContainer) {{\n",
              "    x.observe(notebookContainer, {childList: true});\n",
              "}}\n",
              "\n",
              "// Listen for the clearing of the current output cell\n",
              "var outputEl = gd.closest('.output');\n",
              "if (outputEl) {{\n",
              "    x.observe(outputEl, {childList: true});\n",
              "}}\n",
              "\n",
              "                        })                };                            </script>        </div>\n",
              "</body>\n",
              "</html>"
            ]
          },
          "metadata": {}
        }
      ]
    },
    {
      "cell_type": "markdown",
      "source": [
        "plot of metrics with cross validation\n"
      ],
      "metadata": {
        "id": "alzWFq19P7gU"
      }
    },
    {
      "cell_type": "markdown",
      "source": [],
      "metadata": {
        "id": "geXMyRC3QY1K"
      }
    },
    {
      "cell_type": "code",
      "source": [
        "acc = [0.8329, 0.7092,0.7341,0.7529,0.7514,0.7388,0.8180]\n",
        "prec=[0.8716, 0.7708, 0.7896, 0.7955,0.7715,0.7643,0.8667]\n",
        "rec=[0.9084,0.8176,0.8370,0.8169,0.9091,0.8988,0.8785]\n",
        "f1=[0.8844,0.7879,0.8105,0.8260,0.8338,0.8252,0.8646]"
      ],
      "metadata": {
        "id": "OC0OelHjQROF"
      },
      "execution_count": 13,
      "outputs": []
    },
    {
      "cell_type": "code",
      "source": [
        "labels = ['Baseline model',\\\n",
        "          'Accum signal from a <br> foot & features',\\\n",
        "          'Accum signal from 1 <br> foot & more features',\\\n",
        "          'Acc signal from 2 <br> feet & features',\\\n",
        "          'Multidim signals & features',\\\n",
        "          'Multidim signals & Accum <br> signal & features',\\\n",
        "          'Multidim signals & Accum <br> signal & features &<br> BLM statics']"
      ],
      "metadata": {
        "id": "h8dsgJn2Rj8x"
      },
      "execution_count": 18,
      "outputs": []
    },
    {
      "cell_type": "code",
      "source": [
        "df = pd.DataFrame({ 'Label' : labels,\\\n",
        "                   'Accuracy' :acc,\n",
        "                   'Precision':prec,\n",
        "                   'Recall':rec,\n",
        "                   'F1':f1})"
      ],
      "metadata": {
        "id": "nuhBwc7hRo0i"
      },
      "execution_count": 19,
      "outputs": []
    },
    {
      "cell_type": "code",
      "source": [
        "pd.options.plotting.backend = \"plotly\""
      ],
      "metadata": {
        "id": "NtnOZxXYRt4D"
      },
      "execution_count": 7,
      "outputs": []
    },
    {
      "cell_type": "code",
      "source": [
        "df.plot(x='Label', y=df.columns[1:],\n",
        "        labels={\n",
        "                     \"Label\": \"Input Data\",\n",
        "                     \"variable\": \"Metric\"\n",
        "                 },\n",
        "                title=\"Random Forest Classifier for Binary Classification models\")"
      ],
      "metadata": {
        "colab": {
          "base_uri": "https://localhost:8080/",
          "height": 542
        },
        "id": "dwGR6vRsR4VD",
        "outputId": "21b7136b-faab-425f-a613-6d72d421874b"
      },
      "execution_count": 20,
      "outputs": [
        {
          "output_type": "display_data",
          "data": {
            "text/html": [
              "<html>\n",
              "<head><meta charset=\"utf-8\" /></head>\n",
              "<body>\n",
              "    <div>            <script src=\"https://cdnjs.cloudflare.com/ajax/libs/mathjax/2.7.5/MathJax.js?config=TeX-AMS-MML_SVG\"></script><script type=\"text/javascript\">if (window.MathJax && window.MathJax.Hub && window.MathJax.Hub.Config) {window.MathJax.Hub.Config({SVG: {font: \"STIX-Web\"}});}</script>                <script type=\"text/javascript\">window.PlotlyConfig = {MathJaxConfig: 'local'};</script>\n",
              "        <script src=\"https://cdn.plot.ly/plotly-2.18.2.min.js\"></script>                <div id=\"cf797c53-5469-49f4-8609-379efd229afd\" class=\"plotly-graph-div\" style=\"height:525px; width:100%;\"></div>            <script type=\"text/javascript\">                                    window.PLOTLYENV=window.PLOTLYENV || {};                                    if (document.getElementById(\"cf797c53-5469-49f4-8609-379efd229afd\")) {                    Plotly.newPlot(                        \"cf797c53-5469-49f4-8609-379efd229afd\",                        [{\"hovertemplate\":\"Metric=Accuracy<br>Input Data=%{x}<br>value=%{y}<extra></extra>\",\"legendgroup\":\"Accuracy\",\"line\":{\"color\":\"#636efa\",\"dash\":\"solid\"},\"marker\":{\"symbol\":\"circle\"},\"mode\":\"lines\",\"name\":\"Accuracy\",\"orientation\":\"v\",\"showlegend\":true,\"x\":[\"Baseline model\",\"Accum signal from a <br> foot & features\",\"Accum signal from 1 <br> foot & more features\",\"Acc signal from 2 <br> feet & features\",\"Multidim signals & features\",\"Multidim signals & Accum <br> signal & features\",\"Multidim signals & Accum <br> signal & features &<br> BLM statics\"],\"xaxis\":\"x\",\"y\":[0.8329,0.7092,0.7341,0.7529,0.7514,0.7388,0.818],\"yaxis\":\"y\",\"type\":\"scatter\"},{\"hovertemplate\":\"Metric=Precision<br>Input Data=%{x}<br>value=%{y}<extra></extra>\",\"legendgroup\":\"Precision\",\"line\":{\"color\":\"#EF553B\",\"dash\":\"solid\"},\"marker\":{\"symbol\":\"circle\"},\"mode\":\"lines\",\"name\":\"Precision\",\"orientation\":\"v\",\"showlegend\":true,\"x\":[\"Baseline model\",\"Accum signal from a <br> foot & features\",\"Accum signal from 1 <br> foot & more features\",\"Acc signal from 2 <br> feet & features\",\"Multidim signals & features\",\"Multidim signals & Accum <br> signal & features\",\"Multidim signals & Accum <br> signal & features &<br> BLM statics\"],\"xaxis\":\"x\",\"y\":[0.8716,0.7708,0.7896,0.7955,0.7715,0.7643,0.8667],\"yaxis\":\"y\",\"type\":\"scatter\"},{\"hovertemplate\":\"Metric=Recall<br>Input Data=%{x}<br>value=%{y}<extra></extra>\",\"legendgroup\":\"Recall\",\"line\":{\"color\":\"#00cc96\",\"dash\":\"solid\"},\"marker\":{\"symbol\":\"circle\"},\"mode\":\"lines\",\"name\":\"Recall\",\"orientation\":\"v\",\"showlegend\":true,\"x\":[\"Baseline model\",\"Accum signal from a <br> foot & features\",\"Accum signal from 1 <br> foot & more features\",\"Acc signal from 2 <br> feet & features\",\"Multidim signals & features\",\"Multidim signals & Accum <br> signal & features\",\"Multidim signals & Accum <br> signal & features &<br> BLM statics\"],\"xaxis\":\"x\",\"y\":[0.9084,0.8176,0.837,0.8169,0.9091,0.8988,0.8785],\"yaxis\":\"y\",\"type\":\"scatter\"},{\"hovertemplate\":\"Metric=F1<br>Input Data=%{x}<br>value=%{y}<extra></extra>\",\"legendgroup\":\"F1\",\"line\":{\"color\":\"#ab63fa\",\"dash\":\"solid\"},\"marker\":{\"symbol\":\"circle\"},\"mode\":\"lines\",\"name\":\"F1\",\"orientation\":\"v\",\"showlegend\":true,\"x\":[\"Baseline model\",\"Accum signal from a <br> foot & features\",\"Accum signal from 1 <br> foot & more features\",\"Acc signal from 2 <br> feet & features\",\"Multidim signals & features\",\"Multidim signals & Accum <br> signal & features\",\"Multidim signals & Accum <br> signal & features &<br> BLM statics\"],\"xaxis\":\"x\",\"y\":[0.8844,0.7879,0.8105,0.826,0.8338,0.8252,0.8646],\"yaxis\":\"y\",\"type\":\"scatter\"}],                        {\"template\":{\"data\":{\"histogram2dcontour\":[{\"type\":\"histogram2dcontour\",\"colorbar\":{\"outlinewidth\":0,\"ticks\":\"\"},\"colorscale\":[[0.0,\"#0d0887\"],[0.1111111111111111,\"#46039f\"],[0.2222222222222222,\"#7201a8\"],[0.3333333333333333,\"#9c179e\"],[0.4444444444444444,\"#bd3786\"],[0.5555555555555556,\"#d8576b\"],[0.6666666666666666,\"#ed7953\"],[0.7777777777777778,\"#fb9f3a\"],[0.8888888888888888,\"#fdca26\"],[1.0,\"#f0f921\"]]}],\"choropleth\":[{\"type\":\"choropleth\",\"colorbar\":{\"outlinewidth\":0,\"ticks\":\"\"}}],\"histogram2d\":[{\"type\":\"histogram2d\",\"colorbar\":{\"outlinewidth\":0,\"ticks\":\"\"},\"colorscale\":[[0.0,\"#0d0887\"],[0.1111111111111111,\"#46039f\"],[0.2222222222222222,\"#7201a8\"],[0.3333333333333333,\"#9c179e\"],[0.4444444444444444,\"#bd3786\"],[0.5555555555555556,\"#d8576b\"],[0.6666666666666666,\"#ed7953\"],[0.7777777777777778,\"#fb9f3a\"],[0.8888888888888888,\"#fdca26\"],[1.0,\"#f0f921\"]]}],\"heatmap\":[{\"type\":\"heatmap\",\"colorbar\":{\"outlinewidth\":0,\"ticks\":\"\"},\"colorscale\":[[0.0,\"#0d0887\"],[0.1111111111111111,\"#46039f\"],[0.2222222222222222,\"#7201a8\"],[0.3333333333333333,\"#9c179e\"],[0.4444444444444444,\"#bd3786\"],[0.5555555555555556,\"#d8576b\"],[0.6666666666666666,\"#ed7953\"],[0.7777777777777778,\"#fb9f3a\"],[0.8888888888888888,\"#fdca26\"],[1.0,\"#f0f921\"]]}],\"heatmapgl\":[{\"type\":\"heatmapgl\",\"colorbar\":{\"outlinewidth\":0,\"ticks\":\"\"},\"colorscale\":[[0.0,\"#0d0887\"],[0.1111111111111111,\"#46039f\"],[0.2222222222222222,\"#7201a8\"],[0.3333333333333333,\"#9c179e\"],[0.4444444444444444,\"#bd3786\"],[0.5555555555555556,\"#d8576b\"],[0.6666666666666666,\"#ed7953\"],[0.7777777777777778,\"#fb9f3a\"],[0.8888888888888888,\"#fdca26\"],[1.0,\"#f0f921\"]]}],\"contourcarpet\":[{\"type\":\"contourcarpet\",\"colorbar\":{\"outlinewidth\":0,\"ticks\":\"\"}}],\"contour\":[{\"type\":\"contour\",\"colorbar\":{\"outlinewidth\":0,\"ticks\":\"\"},\"colorscale\":[[0.0,\"#0d0887\"],[0.1111111111111111,\"#46039f\"],[0.2222222222222222,\"#7201a8\"],[0.3333333333333333,\"#9c179e\"],[0.4444444444444444,\"#bd3786\"],[0.5555555555555556,\"#d8576b\"],[0.6666666666666666,\"#ed7953\"],[0.7777777777777778,\"#fb9f3a\"],[0.8888888888888888,\"#fdca26\"],[1.0,\"#f0f921\"]]}],\"surface\":[{\"type\":\"surface\",\"colorbar\":{\"outlinewidth\":0,\"ticks\":\"\"},\"colorscale\":[[0.0,\"#0d0887\"],[0.1111111111111111,\"#46039f\"],[0.2222222222222222,\"#7201a8\"],[0.3333333333333333,\"#9c179e\"],[0.4444444444444444,\"#bd3786\"],[0.5555555555555556,\"#d8576b\"],[0.6666666666666666,\"#ed7953\"],[0.7777777777777778,\"#fb9f3a\"],[0.8888888888888888,\"#fdca26\"],[1.0,\"#f0f921\"]]}],\"mesh3d\":[{\"type\":\"mesh3d\",\"colorbar\":{\"outlinewidth\":0,\"ticks\":\"\"}}],\"scatter\":[{\"fillpattern\":{\"fillmode\":\"overlay\",\"size\":10,\"solidity\":0.2},\"type\":\"scatter\"}],\"parcoords\":[{\"type\":\"parcoords\",\"line\":{\"colorbar\":{\"outlinewidth\":0,\"ticks\":\"\"}}}],\"scatterpolargl\":[{\"type\":\"scatterpolargl\",\"marker\":{\"colorbar\":{\"outlinewidth\":0,\"ticks\":\"\"}}}],\"bar\":[{\"error_x\":{\"color\":\"#2a3f5f\"},\"error_y\":{\"color\":\"#2a3f5f\"},\"marker\":{\"line\":{\"color\":\"#E5ECF6\",\"width\":0.5},\"pattern\":{\"fillmode\":\"overlay\",\"size\":10,\"solidity\":0.2}},\"type\":\"bar\"}],\"scattergeo\":[{\"type\":\"scattergeo\",\"marker\":{\"colorbar\":{\"outlinewidth\":0,\"ticks\":\"\"}}}],\"scatterpolar\":[{\"type\":\"scatterpolar\",\"marker\":{\"colorbar\":{\"outlinewidth\":0,\"ticks\":\"\"}}}],\"histogram\":[{\"marker\":{\"pattern\":{\"fillmode\":\"overlay\",\"size\":10,\"solidity\":0.2}},\"type\":\"histogram\"}],\"scattergl\":[{\"type\":\"scattergl\",\"marker\":{\"colorbar\":{\"outlinewidth\":0,\"ticks\":\"\"}}}],\"scatter3d\":[{\"type\":\"scatter3d\",\"line\":{\"colorbar\":{\"outlinewidth\":0,\"ticks\":\"\"}},\"marker\":{\"colorbar\":{\"outlinewidth\":0,\"ticks\":\"\"}}}],\"scattermapbox\":[{\"type\":\"scattermapbox\",\"marker\":{\"colorbar\":{\"outlinewidth\":0,\"ticks\":\"\"}}}],\"scatterternary\":[{\"type\":\"scatterternary\",\"marker\":{\"colorbar\":{\"outlinewidth\":0,\"ticks\":\"\"}}}],\"scattercarpet\":[{\"type\":\"scattercarpet\",\"marker\":{\"colorbar\":{\"outlinewidth\":0,\"ticks\":\"\"}}}],\"carpet\":[{\"aaxis\":{\"endlinecolor\":\"#2a3f5f\",\"gridcolor\":\"white\",\"linecolor\":\"white\",\"minorgridcolor\":\"white\",\"startlinecolor\":\"#2a3f5f\"},\"baxis\":{\"endlinecolor\":\"#2a3f5f\",\"gridcolor\":\"white\",\"linecolor\":\"white\",\"minorgridcolor\":\"white\",\"startlinecolor\":\"#2a3f5f\"},\"type\":\"carpet\"}],\"table\":[{\"cells\":{\"fill\":{\"color\":\"#EBF0F8\"},\"line\":{\"color\":\"white\"}},\"header\":{\"fill\":{\"color\":\"#C8D4E3\"},\"line\":{\"color\":\"white\"}},\"type\":\"table\"}],\"barpolar\":[{\"marker\":{\"line\":{\"color\":\"#E5ECF6\",\"width\":0.5},\"pattern\":{\"fillmode\":\"overlay\",\"size\":10,\"solidity\":0.2}},\"type\":\"barpolar\"}],\"pie\":[{\"automargin\":true,\"type\":\"pie\"}]},\"layout\":{\"autotypenumbers\":\"strict\",\"colorway\":[\"#636efa\",\"#EF553B\",\"#00cc96\",\"#ab63fa\",\"#FFA15A\",\"#19d3f3\",\"#FF6692\",\"#B6E880\",\"#FF97FF\",\"#FECB52\"],\"font\":{\"color\":\"#2a3f5f\"},\"hovermode\":\"closest\",\"hoverlabel\":{\"align\":\"left\"},\"paper_bgcolor\":\"white\",\"plot_bgcolor\":\"#E5ECF6\",\"polar\":{\"bgcolor\":\"#E5ECF6\",\"angularaxis\":{\"gridcolor\":\"white\",\"linecolor\":\"white\",\"ticks\":\"\"},\"radialaxis\":{\"gridcolor\":\"white\",\"linecolor\":\"white\",\"ticks\":\"\"}},\"ternary\":{\"bgcolor\":\"#E5ECF6\",\"aaxis\":{\"gridcolor\":\"white\",\"linecolor\":\"white\",\"ticks\":\"\"},\"baxis\":{\"gridcolor\":\"white\",\"linecolor\":\"white\",\"ticks\":\"\"},\"caxis\":{\"gridcolor\":\"white\",\"linecolor\":\"white\",\"ticks\":\"\"}},\"coloraxis\":{\"colorbar\":{\"outlinewidth\":0,\"ticks\":\"\"}},\"colorscale\":{\"sequential\":[[0.0,\"#0d0887\"],[0.1111111111111111,\"#46039f\"],[0.2222222222222222,\"#7201a8\"],[0.3333333333333333,\"#9c179e\"],[0.4444444444444444,\"#bd3786\"],[0.5555555555555556,\"#d8576b\"],[0.6666666666666666,\"#ed7953\"],[0.7777777777777778,\"#fb9f3a\"],[0.8888888888888888,\"#fdca26\"],[1.0,\"#f0f921\"]],\"sequentialminus\":[[0.0,\"#0d0887\"],[0.1111111111111111,\"#46039f\"],[0.2222222222222222,\"#7201a8\"],[0.3333333333333333,\"#9c179e\"],[0.4444444444444444,\"#bd3786\"],[0.5555555555555556,\"#d8576b\"],[0.6666666666666666,\"#ed7953\"],[0.7777777777777778,\"#fb9f3a\"],[0.8888888888888888,\"#fdca26\"],[1.0,\"#f0f921\"]],\"diverging\":[[0,\"#8e0152\"],[0.1,\"#c51b7d\"],[0.2,\"#de77ae\"],[0.3,\"#f1b6da\"],[0.4,\"#fde0ef\"],[0.5,\"#f7f7f7\"],[0.6,\"#e6f5d0\"],[0.7,\"#b8e186\"],[0.8,\"#7fbc41\"],[0.9,\"#4d9221\"],[1,\"#276419\"]]},\"xaxis\":{\"gridcolor\":\"white\",\"linecolor\":\"white\",\"ticks\":\"\",\"title\":{\"standoff\":15},\"zerolinecolor\":\"white\",\"automargin\":true,\"zerolinewidth\":2},\"yaxis\":{\"gridcolor\":\"white\",\"linecolor\":\"white\",\"ticks\":\"\",\"title\":{\"standoff\":15},\"zerolinecolor\":\"white\",\"automargin\":true,\"zerolinewidth\":2},\"scene\":{\"xaxis\":{\"backgroundcolor\":\"#E5ECF6\",\"gridcolor\":\"white\",\"linecolor\":\"white\",\"showbackground\":true,\"ticks\":\"\",\"zerolinecolor\":\"white\",\"gridwidth\":2},\"yaxis\":{\"backgroundcolor\":\"#E5ECF6\",\"gridcolor\":\"white\",\"linecolor\":\"white\",\"showbackground\":true,\"ticks\":\"\",\"zerolinecolor\":\"white\",\"gridwidth\":2},\"zaxis\":{\"backgroundcolor\":\"#E5ECF6\",\"gridcolor\":\"white\",\"linecolor\":\"white\",\"showbackground\":true,\"ticks\":\"\",\"zerolinecolor\":\"white\",\"gridwidth\":2}},\"shapedefaults\":{\"line\":{\"color\":\"#2a3f5f\"}},\"annotationdefaults\":{\"arrowcolor\":\"#2a3f5f\",\"arrowhead\":0,\"arrowwidth\":1},\"geo\":{\"bgcolor\":\"white\",\"landcolor\":\"#E5ECF6\",\"subunitcolor\":\"white\",\"showland\":true,\"showlakes\":true,\"lakecolor\":\"white\"},\"title\":{\"x\":0.05},\"mapbox\":{\"style\":\"light\"}}},\"xaxis\":{\"anchor\":\"y\",\"domain\":[0.0,1.0],\"title\":{\"text\":\"Input Data\"}},\"yaxis\":{\"anchor\":\"x\",\"domain\":[0.0,1.0],\"title\":{\"text\":\"value\"}},\"legend\":{\"title\":{\"text\":\"Metric\"},\"tracegroupgap\":0},\"title\":{\"text\":\"Random Forest Classifier for Binary Classification models\"}},                        {\"responsive\": true}                    ).then(function(){\n",
              "                            \n",
              "var gd = document.getElementById('cf797c53-5469-49f4-8609-379efd229afd');\n",
              "var x = new MutationObserver(function (mutations, observer) {{\n",
              "        var display = window.getComputedStyle(gd).display;\n",
              "        if (!display || display === 'none') {{\n",
              "            console.log([gd, 'removed!']);\n",
              "            Plotly.purge(gd);\n",
              "            observer.disconnect();\n",
              "        }}\n",
              "}});\n",
              "\n",
              "// Listen for the removal of the full notebook cells\n",
              "var notebookContainer = gd.closest('#notebook-container');\n",
              "if (notebookContainer) {{\n",
              "    x.observe(notebookContainer, {childList: true});\n",
              "}}\n",
              "\n",
              "// Listen for the clearing of the current output cell\n",
              "var outputEl = gd.closest('.output');\n",
              "if (outputEl) {{\n",
              "    x.observe(outputEl, {childList: true});\n",
              "}}\n",
              "\n",
              "                        })                };                            </script>        </div>\n",
              "</body>\n",
              "</html>"
            ]
          },
          "metadata": {}
        }
      ]
    },
    {
      "cell_type": "markdown",
      "source": [
        "## RFC (Multiclass Classification)"
      ],
      "metadata": {
        "id": "mD0NU88FpgD5"
      }
    },
    {
      "cell_type": "markdown",
      "source": [
        "### Baseline model"
      ],
      "metadata": {
        "id": "RFVESVzhj2qv"
      }
    },
    {
      "cell_type": "code",
      "source": [
        "min_cols=[]\n",
        "for col in data.cols_names[1:]:\n",
        "  colname = col +'_Min'\n",
        "  min_cols.append(colname)"
      ],
      "metadata": {
        "id": "xMjhsQ_qk74I"
      },
      "execution_count": 31,
      "outputs": []
    },
    {
      "cell_type": "code",
      "source": [
        "min_cols= np.append( min_cols, ['ID','y','level'])"
      ],
      "metadata": {
        "id": "5smQfinrlSVS"
      },
      "execution_count": 32,
      "outputs": []
    },
    {
      "cell_type": "code",
      "source": [
        "# splitting the data into train and test data\n",
        "y = data.raw_statics_df['level']\n",
        "X = data.raw_statics_df.drop(columns=min_cols, axis=1)"
      ],
      "metadata": {
        "id": "J9LJF-otkLVR"
      },
      "execution_count": 33,
      "outputs": []
    },
    {
      "cell_type": "code",
      "source": [
        "set(y)"
      ],
      "metadata": {
        "colab": {
          "base_uri": "https://localhost:8080/"
        },
        "id": "YMKjsfl-Ukux",
        "outputId": "403de68f-b35a-4d99-d9c2-ecf9e8d1dac8"
      },
      "execution_count": 34,
      "outputs": [
        {
          "output_type": "execute_result",
          "data": {
            "text/plain": [
              "{0.0, 2.0, 2.5, 3.0}"
            ]
          },
          "metadata": {},
          "execution_count": 34
        }
      ]
    },
    {
      "cell_type": "code",
      "source": [
        "y.replace(2, 1, inplace= True) \n",
        "y.replace(2, 2.5, inplace= True)  \n",
        "y_m=y.astype('int')\n",
        "\n",
        "# splitting the data\n",
        "X_train_m, X_test_m, y_train_m, y_test_m = train_test_split(X, y_m, random_state=42)\n",
        "X_train_m[np.isnan(X_train_m)] = 0\n",
        "X_test_m[np.isnan(X_test_m)] = 0"
      ],
      "metadata": {
        "id": "mEAAZHl6j7iC"
      },
      "execution_count": 35,
      "outputs": []
    },
    {
      "cell_type": "code",
      "source": [
        "# Checking which RFC will work the best\n",
        "rfc_m = RFClassifier(models_path,200,2,'micro')\n",
        "ccs_m=rfc_m.multiple_training([5, 10, 20, 40, 100, 200],2, X_train_m, y_train_m, X_test_m,  y_test_m )"
      ],
      "metadata": {
        "colab": {
          "base_uri": "https://localhost:8080/"
        },
        "id": "Qh7ST_j9lxDQ",
        "outputId": "75acc565-4cd9-4705-c6c8-6e3b294ca24b"
      },
      "execution_count": null,
      "outputs": [
        {
          "output_type": "stream",
          "name": "stdout",
          "text": [
            "Estimator = 5\n",
            "Accuracy: 0.6447, Precision: 0.6447, Recall: 0.6447, F1: 0.6447\n",
            "Estimator = 10\n",
            "Accuracy: 0.6974, Precision: 0.6974, Recall: 0.6974, F1: 0.6974\n",
            "Estimator = 20\n",
            "Accuracy: 0.7763, Precision: 0.7763, Recall: 0.7763, F1: 0.7763\n",
            "Estimator = 40\n",
            "Accuracy: 0.7763, Precision: 0.7763, Recall: 0.7763, F1: 0.7763\n",
            "Estimator = 100\n",
            "Accuracy: 0.7763, Precision: 0.7763, Recall: 0.7763, F1: 0.7763\n",
            "Estimator = 200\n",
            "Accuracy: 0.7500, Precision: 0.7500, Recall: 0.7500, F1: 0.7500\n"
          ]
        }
      ]
    },
    {
      "cell_type": "code",
      "source": [
        "rfc = RandomForestClassifier(n_estimators= int(100), n_jobs= 2,random_state=42)\n",
        "cross_val_multiple_scores(rfc, X, y_m,10,'macro')"
      ],
      "metadata": {
        "colab": {
          "base_uri": "https://localhost:8080/"
        },
        "id": "dT57ck4LVEOR",
        "outputId": "60d0e78e-f25d-4b80-d97b-0b197811fb5b"
      },
      "execution_count": 40,
      "outputs": [
        {
          "output_type": "stream",
          "name": "stderr",
          "text": [
            "/usr/local/lib/python3.10/dist-packages/sklearn/metrics/_classification.py:1344: UndefinedMetricWarning:\n",
            "\n",
            "Precision is ill-defined and being set to 0.0 in labels with no predicted samples. Use `zero_division` parameter to control this behavior.\n",
            "\n",
            "/usr/local/lib/python3.10/dist-packages/sklearn/metrics/_classification.py:1344: UndefinedMetricWarning:\n",
            "\n",
            "Precision is ill-defined and being set to 0.0 in labels with no predicted samples. Use `zero_division` parameter to control this behavior.\n",
            "\n",
            "/usr/local/lib/python3.10/dist-packages/sklearn/metrics/_classification.py:1344: UndefinedMetricWarning:\n",
            "\n",
            "Precision is ill-defined and being set to 0.0 in labels with no predicted samples. Use `zero_division` parameter to control this behavior.\n",
            "\n",
            "/usr/local/lib/python3.10/dist-packages/sklearn/metrics/_classification.py:1344: UndefinedMetricWarning:\n",
            "\n",
            "Precision is ill-defined and being set to 0.0 in labels with no predicted samples. Use `zero_division` parameter to control this behavior.\n",
            "\n"
          ]
        },
        {
          "output_type": "stream",
          "name": "stdout",
          "text": [
            "Test Accuracy: 0.7163440860215055 +/- 0.3680609821435612\n",
            "Test Prec: 0.6810047713724184 +/- 0.48012573679668985\n",
            "Test Recall: 0.6657702020202021 +/- 0.4397093876670017\n",
            "Test F1: 0.6580113459687091 +/- 0.4638301160810171\n"
          ]
        },
        {
          "output_type": "execute_result",
          "data": {
            "text/plain": [
              "[0.7163440860215055,\n",
              " 0.6810047713724184,\n",
              " 0.6657702020202021,\n",
              " 0.6580113459687091]"
            ]
          },
          "metadata": {},
          "execution_count": 40
        }
      ]
    },
    {
      "cell_type": "code",
      "source": [],
      "metadata": {
        "id": "9ZEZlxJLVDVe"
      },
      "execution_count": null,
      "outputs": []
    },
    {
      "cell_type": "markdown",
      "source": [
        "### ![image.png](data:image/png;base64,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)"
      ],
      "metadata": {
        "id": "ihK6ZuxMlqaK"
      }
    },
    {
      "cell_type": "code",
      "source": [
        "colnames_9=['r_interp','l_interp','r_swings_time','r_max_peak','r_total_fwhm','r_strides_time','r_peaks_toe','r_peaks_heel','l_swings_time','l_max_peak','l_total_fwhm','l_strides_time','l_peaks_toe','l_peaks_heel']\n",
        "for col in [\"L1\",\t\"L2\",\t\"L3\"\t,\"L4\",\t\"L5\",\t\"L6\",\t\"L7\"\t,\"L8\",\t\"R1\",\t\"R2\"\t,\"R3\",\t\"R4\",\t\"R5\",\t\"R6\",\t\"R7\",\t\"R8\"]:\n",
        "    for x in [\"interp\", \"fwhm\"]:\n",
        "      colnames_9.append( col +'_' +  x)"
      ],
      "metadata": {
        "id": "R7XpXvX6neP4"
      },
      "execution_count": 45,
      "outputs": []
    },
    {
      "cell_type": "code",
      "source": [
        "col_lists_9=[]\n",
        "for col in [\"l\",\"r\",\"L1\",\t\"L2\",\t\"L3\"\t,\"L4\"\t,\"L5\",\t\"L6\",\t\"L7\"\t,\"L8\",\t\"R1\",\t\"R2\"\t,\"R3\",\t\"R4\",\t\"R5\",\t\"R6\",\t\"R7\",\t\"R8\"]:\n",
        "    for x in [\"interp\"]:\n",
        "      col_lists_9.append( col +'_' +  x)"
      ],
      "metadata": {
        "id": "flho8uCtnf-z"
      },
      "execution_count": 46,
      "outputs": []
    },
    {
      "cell_type": "code",
      "source": [
        "df_m_9 = data.scaled_stances_statics_df[colnames_9]\n",
        "y_9 = data.scaled_stances_statics_df[[ 'level']]\n",
        "y_9.replace(2, 1, inplace= True) \n",
        "y_9.replace(2.5, 2, inplace= True)  \n",
        "y_m=y_9.astype('int')\n",
        "\n",
        "# reformatting\n",
        "for col in col_lists_9:\n",
        "  colnames_9.remove(col)\n",
        "d = data.return_array_df_mul_lists(df_m_9,col_lists_9,colnames_9)\n",
        "# df_7 = np.asarray([l for l in df_7 if ~np.isnan(l).any()])\n",
        "#df_m_9[np.isnan(df_9)] = 0\n",
        "# splitting the data\n",
        "X_train_m_9, X_test_m_9, y_train_m_9, y_test_m_9 = train_test_split(d, y_m, random_state=42)\n",
        "X_train_m_9[np.isnan(X_train_m_9)] = 0\n",
        "X_test_m_9[np.isnan(X_test_m_9)] = 0"
      ],
      "metadata": {
        "colab": {
          "base_uri": "https://localhost:8080/"
        },
        "id": "wdZpFm39ng76",
        "outputId": "5d3fd13a-e3bb-445b-9fe7-bacc666986fe"
      },
      "execution_count": 47,
      "outputs": [
        {
          "output_type": "stream",
          "name": "stderr",
          "text": [
            "<ipython-input-47-39d8bcbf3df4>:3: SettingWithCopyWarning:\n",
            "\n",
            "\n",
            "A value is trying to be set on a copy of a slice from a DataFrame\n",
            "\n",
            "See the caveats in the documentation: https://pandas.pydata.org/pandas-docs/stable/user_guide/indexing.html#returning-a-view-versus-a-copy\n",
            "\n",
            "<ipython-input-47-39d8bcbf3df4>:4: SettingWithCopyWarning:\n",
            "\n",
            "\n",
            "A value is trying to be set on a copy of a slice from a DataFrame\n",
            "\n",
            "See the caveats in the documentation: https://pandas.pydata.org/pandas-docs/stable/user_guide/indexing.html#returning-a-view-versus-a-copy\n",
            "\n"
          ]
        }
      ]
    },
    {
      "cell_type": "code",
      "source": [
        "d.shape"
      ],
      "metadata": {
        "colab": {
          "base_uri": "https://localhost:8080/"
        },
        "id": "D_tCPiR9Bo2Z",
        "outputId": "f3dd142c-410c-4a34-c873-51459ec81fe5"
      },
      "execution_count": null,
      "outputs": [
        {
          "output_type": "execute_result",
          "data": {
            "text/plain": [
              "(18226, 1828)"
            ]
          },
          "metadata": {},
          "execution_count": 219
        }
      ]
    },
    {
      "cell_type": "code",
      "source": [
        "# Checking which RFC will work the best\n",
        "rfc_m = RFClassifier(models_path,200,2,'micro')\n",
        "ccs_m=rfc_m.multiple_training([5, 10, 20, 40, 100, 200],2, X_train_9, y_train_9, X_test_9,  y_test_9)"
      ],
      "metadata": {
        "colab": {
          "base_uri": "https://localhost:8080/"
        },
        "id": "uKu_dkJxkBb4",
        "outputId": "db85b992-18ae-49be-f8c0-4b8753b326e7"
      },
      "execution_count": null,
      "outputs": [
        {
          "output_type": "stream",
          "name": "stdout",
          "text": [
            "Estimator = 5\n",
            "Accuracy: 0.8811, Precision: 0.8811, Recall: 0.8811, F1: 0.8811\n",
            "Estimator = 10\n",
            "Accuracy: 0.9085, Precision: 0.9085, Recall: 0.9085, F1: 0.9085\n",
            "Estimator = 20\n",
            "Accuracy: 0.9219, Precision: 0.9219, Recall: 0.9219, F1: 0.9219\n",
            "Estimator = 40\n",
            "Accuracy: 0.9344, Precision: 0.9344, Recall: 0.9344, F1: 0.9344\n",
            "Estimator = 100\n",
            "Accuracy: 0.9399, Precision: 0.9399, Recall: 0.9399, F1: 0.9399\n",
            "Estimator = 200\n",
            "Accuracy: 0.9397, Precision: 0.9397, Recall: 0.9397, F1: 0.9397\n"
          ]
        }
      ]
    },
    {
      "cell_type": "code",
      "source": [
        "rfc = RandomForestClassifier(n_estimators= int(100), n_jobs= 2,random_state=42)\n",
        "d[np.isnan(d)] = 0\n",
        "cross_val_multiple_scores(rfc, d, y_m,10,'macro')"
      ],
      "metadata": {
        "colab": {
          "base_uri": "https://localhost:8080/"
        },
        "id": "xk4TXoZ5Xaa2",
        "outputId": "e4273181-c29e-4a07-f53d-db1e845318f5"
      },
      "execution_count": 49,
      "outputs": [
        {
          "output_type": "stream",
          "name": "stderr",
          "text": [
            "/usr/local/lib/python3.10/dist-packages/sklearn/model_selection/_validation.py:686: DataConversionWarning:\n",
            "\n",
            "A column-vector y was passed when a 1d array was expected. Please change the shape of y to (n_samples,), for example using ravel().\n",
            "\n",
            "/usr/local/lib/python3.10/dist-packages/sklearn/model_selection/_validation.py:686: DataConversionWarning:\n",
            "\n",
            "A column-vector y was passed when a 1d array was expected. Please change the shape of y to (n_samples,), for example using ravel().\n",
            "\n",
            "/usr/local/lib/python3.10/dist-packages/sklearn/model_selection/_validation.py:686: DataConversionWarning:\n",
            "\n",
            "A column-vector y was passed when a 1d array was expected. Please change the shape of y to (n_samples,), for example using ravel().\n",
            "\n",
            "/usr/local/lib/python3.10/dist-packages/sklearn/model_selection/_validation.py:686: DataConversionWarning:\n",
            "\n",
            "A column-vector y was passed when a 1d array was expected. Please change the shape of y to (n_samples,), for example using ravel().\n",
            "\n",
            "/usr/local/lib/python3.10/dist-packages/sklearn/model_selection/_validation.py:686: DataConversionWarning:\n",
            "\n",
            "A column-vector y was passed when a 1d array was expected. Please change the shape of y to (n_samples,), for example using ravel().\n",
            "\n",
            "/usr/local/lib/python3.10/dist-packages/sklearn/model_selection/_validation.py:686: DataConversionWarning:\n",
            "\n",
            "A column-vector y was passed when a 1d array was expected. Please change the shape of y to (n_samples,), for example using ravel().\n",
            "\n",
            "/usr/local/lib/python3.10/dist-packages/sklearn/model_selection/_validation.py:686: DataConversionWarning:\n",
            "\n",
            "A column-vector y was passed when a 1d array was expected. Please change the shape of y to (n_samples,), for example using ravel().\n",
            "\n",
            "/usr/local/lib/python3.10/dist-packages/sklearn/model_selection/_validation.py:686: DataConversionWarning:\n",
            "\n",
            "A column-vector y was passed when a 1d array was expected. Please change the shape of y to (n_samples,), for example using ravel().\n",
            "\n",
            "/usr/local/lib/python3.10/dist-packages/sklearn/model_selection/_validation.py:686: DataConversionWarning:\n",
            "\n",
            "A column-vector y was passed when a 1d array was expected. Please change the shape of y to (n_samples,), for example using ravel().\n",
            "\n",
            "/usr/local/lib/python3.10/dist-packages/sklearn/model_selection/_validation.py:686: DataConversionWarning:\n",
            "\n",
            "A column-vector y was passed when a 1d array was expected. Please change the shape of y to (n_samples,), for example using ravel().\n",
            "\n"
          ]
        },
        {
          "output_type": "stream",
          "name": "stdout",
          "text": [
            "Test Accuracy: 0.5247694870941072 +/- 0.25382070969281484\n",
            "Test Prec: 0.5567212820097145 +/- 0.2626614813657373\n",
            "Test Recall: 0.45775134659130395 +/- 0.27889939865702795\n",
            "Test F1: 0.4643250098424446 +/- 0.2958831695484759\n"
          ]
        },
        {
          "output_type": "execute_result",
          "data": {
            "text/plain": [
              "[0.5247694870941072,\n",
              " 0.5567212820097145,\n",
              " 0.45775134659130395,\n",
              " 0.4643250098424446]"
            ]
          },
          "metadata": {},
          "execution_count": 49
        }
      ]
    },
    {
      "cell_type": "markdown",
      "source": [
        "### ![image.png](data:image/png;base64,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)"
      ],
      "metadata": {
        "id": "hNWcAO2OpvTo"
      }
    },
    {
      "cell_type": "code",
      "source": [
        "colnames_8=['r_interp','r_swings_time','r_max_peak','r_total_fwhm','r_strides_time','r_peaks_toe','r_peaks_heel','l_interp','l_swings_time','l_max_peak','l_total_fwhm','l_strides_time','l_peaks_toe','l_peaks_heel']\n",
        "for col in [\"L1\",\t\"L2\",\t\"L3\"\t,\"L4\",\t\"L5\",\t\"L6\",\t\"L7\"\t,\"L8\",\t\"R1\",\t\"R2\"\t,\"R3\",\t\"R4\",\t\"R5\",\t\"R6\",\t\"R7\",\t\"R8\"]:\n",
        "    for x in [\"interp\", \"fwhm\"]:\n",
        "      colnames_8.append( col +'_' +  x)\n",
        "\n",
        "for col in [\"L1\",\t\"L2\",\t\"L3\"\t,\"L4\"\t,\"L5\",\t\"L6\",\t\"L7\"\t,\"L8\",\t\"R1\",\t\"R2\"\t,\"R3\",\t\"R4\",\t\"R5\",\t\"R6\",\t\"R7\",\t\"R8\",\t\"Total_Force_Left\",\t\"Total_Force_Right\"]:\n",
        "    for x in [\"Min\", \"Max\", \"Std\", \"Med\", \"Avg\", \"Skewness\",\"Kurtosis\"]:\n",
        "      colnames_8.append( col +'_' +  x)\n",
        "  \n",
        "col_lists_8=['r_interp','l_interp']\n",
        "for col in [\"L1\",\t\"L2\",\t\"L3\"\t,\"L4\"\t,\"L5\",\t\"L6\",\t\"L7\"\t,\"L8\",\t\"R1\",\t\"R2\"\t,\"R3\",\t\"R4\",\t\"R5\",\t\"R6\",\t\"R7\",\t\"R8\"]:\n",
        "    for x in [\"interp\"]:\n",
        "      col_lists_8.append( col +'_' +  x)\n",
        "\n",
        "df_8 = data.scaled_stances_statics_df[colnames_8]\n",
        "y_8 = data.scaled_stances_statics_df[[ 'level']]\n",
        "y_8.replace(3, 4, inplace= True) \n",
        "y_8.replace(2.5, 3, inplace= True)  \n",
        "y_m=y_8.astype('int')\n",
        "# reformatting\n",
        "for col in col_lists_8:\n",
        "  colnames_8.remove(col)\n",
        "df_8 = data.return_array_df_mul_lists(df_8,col_lists_8,colnames_8)\n",
        "# df_7 = np.asarray([l for l in df_7 if ~np.isnan(l).any()])\n",
        "df_8[np.isnan(df_8)] = 0\n",
        "# splitting the data\n",
        "X_train_8, X_test_8, y_train_8, y_test_8 = train_test_split(df_8, y_m, random_state=42)\n"
      ],
      "metadata": {
        "colab": {
          "base_uri": "https://localhost:8080/"
        },
        "id": "Cs3IhwLCpwFD",
        "outputId": "3206adfa-2141-43a5-912c-a45239a0f96a"
      },
      "execution_count": 50,
      "outputs": [
        {
          "output_type": "stream",
          "name": "stderr",
          "text": [
            "<ipython-input-50-e35e699b1e90>:17: SettingWithCopyWarning:\n",
            "\n",
            "\n",
            "A value is trying to be set on a copy of a slice from a DataFrame\n",
            "\n",
            "See the caveats in the documentation: https://pandas.pydata.org/pandas-docs/stable/user_guide/indexing.html#returning-a-view-versus-a-copy\n",
            "\n",
            "<ipython-input-50-e35e699b1e90>:18: SettingWithCopyWarning:\n",
            "\n",
            "\n",
            "A value is trying to be set on a copy of a slice from a DataFrame\n",
            "\n",
            "See the caveats in the documentation: https://pandas.pydata.org/pandas-docs/stable/user_guide/indexing.html#returning-a-view-versus-a-copy\n",
            "\n"
          ]
        }
      ]
    },
    {
      "cell_type": "code",
      "source": [
        "X_train_8[np.isnan(X_train_8)] = 0\n",
        "X_test_8[np.isnan(X_test_8)] = 0"
      ],
      "metadata": {
        "id": "1zZ7HstmJy-K"
      },
      "execution_count": null,
      "outputs": []
    },
    {
      "cell_type": "code",
      "source": [
        "# Checking which RFC will work the best\n",
        "rfc_m = RFClassifier(models_path,200,2,'micro')\n",
        "ccs_m=rfc_m.multiple_training([5, 10, 20, 40, 100, 200],2, X_train_8, y_train_8, X_test_8,  y_test_8)"
      ],
      "metadata": {
        "colab": {
          "base_uri": "https://localhost:8080/"
        },
        "id": "9CvWdhCsqXe-",
        "outputId": "81df5d99-a4b9-44e6-d79e-621cc7829008"
      },
      "execution_count": null,
      "outputs": [
        {
          "output_type": "stream",
          "name": "stdout",
          "text": [
            "Estimator = 5\n",
            "Accuracy: 0.9991, Precision: 0.9991, Recall: 0.9991, F1: 0.9991\n",
            "Estimator = 10\n",
            "Accuracy: 0.9998, Precision: 0.9998, Recall: 0.9998, F1: 0.9998\n",
            "Estimator = 20\n",
            "Accuracy: 1.0000, Precision: 1.0000, Recall: 1.0000, F1: 1.0000\n",
            "Estimator = 40\n",
            "Accuracy: 1.0000, Precision: 1.0000, Recall: 1.0000, F1: 1.0000\n",
            "Estimator = 100\n",
            "Accuracy: 1.0000, Precision: 1.0000, Recall: 1.0000, F1: 1.0000\n",
            "Estimator = 200\n",
            "Accuracy: 1.0000, Precision: 1.0000, Recall: 1.0000, F1: 1.0000\n"
          ]
        }
      ]
    },
    {
      "cell_type": "code",
      "source": [
        "rfc = RandomForestClassifier(n_estimators= int(100), n_jobs= 2,random_state=42)\n",
        "#d[np.isnan(d)] = 0\n",
        "cross_val_multiple_scores(rfc, df_8, np.ravel(y_m),10,'macro')"
      ],
      "metadata": {
        "colab": {
          "base_uri": "https://localhost:8080/"
        },
        "id": "Og9P5APsaiDp",
        "outputId": "ece36cb8-d956-479a-8e4b-5a9db8c6db71"
      },
      "execution_count": 52,
      "outputs": [
        {
          "output_type": "stream",
          "name": "stdout",
          "text": [
            "Test Accuracy: 0.7434535719640427 +/- 0.18305388597872466\n",
            "Test Prec: 0.8086953999844203 +/- 0.1571548561447196\n",
            "Test Recall: 0.7563560806441758 +/- 0.23641769698294218\n",
            "Test F1: 0.7538302740841789 +/- 0.24374107045784124\n"
          ]
        },
        {
          "output_type": "execute_result",
          "data": {
            "text/plain": [
              "[0.7434535719640427,\n",
              " 0.8086953999844203,\n",
              " 0.7563560806441758,\n",
              " 0.7538302740841789]"
            ]
          },
          "metadata": {},
          "execution_count": 52
        }
      ]
    },
    {
      "cell_type": "markdown",
      "source": [
        "### Cross Verification"
      ],
      "metadata": {
        "id": "4LSN0HX18pzg"
      }
    },
    {
      "cell_type": "code",
      "source": [
        "scores = cross_val_search(X_train_m, np.ravel(y_train_m),X_test_m, np.ravel(y_test_m),'macro')\n",
        "cross_scores_search_multi['acc'].append(scores[0])\n",
        "cross_scores_search_multi['prec'].append(scores[1])\n",
        "cross_scores_search_multi['rec'].append(scores[2])\n",
        "cross_scores_search_multi['f1'].append(scores[3])"
      ],
      "metadata": {
        "colab": {
          "base_uri": "https://localhost:8080/"
        },
        "id": "YRM1B9wmQAWh",
        "outputId": "04967c14-519c-4d10-be71-f86a8a517c1d"
      },
      "execution_count": null,
      "outputs": [
        {
          "output_type": "stream",
          "name": "stdout",
          "text": [
            "Test Accuracy: 0.8157894736842105\n",
            "Test Prec: 0.8102918586789555\n",
            "Test Recall: 0.7968344456803855\n",
            "Test F1: 0.8021505376344086\n",
            "{'n_estimators': 100}\n"
          ]
        }
      ]
    },
    {
      "cell_type": "code",
      "source": [
        "scores = cross_val_search(X_train_m, np.ravel(y_train_m),X_test_m, np.ravel(y_test_m),'micro')\n",
        "cross_scores_search_multi['acc'].append(scores[0])\n",
        "cross_scores_search_multi['prec'].append(scores[1])\n",
        "cross_scores_search_multi['rec'].append(scores[2])\n",
        "cross_scores_search_multi['f1'].append(scores[3])"
      ],
      "metadata": {
        "colab": {
          "base_uri": "https://localhost:8080/"
        },
        "id": "XncIdS6R8twx",
        "outputId": "e307306b-56da-4b98-9f9d-2e447365247f"
      },
      "execution_count": null,
      "outputs": [
        {
          "output_type": "stream",
          "name": "stdout",
          "text": [
            "Test Accuracy: 0.8289473684210527\n",
            "Test Prec: 0.8289473684210527\n",
            "Test Recall: 0.8289473684210527\n",
            "Test F1: 0.8289473684210527\n",
            "{'n_estimators': 50}\n"
          ]
        }
      ]
    },
    {
      "cell_type": "code",
      "source": [
        "scores = cross_val_search(X_train_m_9, np.ravel(y_train_m_9),X_test_m_9, np.ravel(y_test_m_9),'micro')\n",
        "cross_scores_search_multi['acc'].append(scores[0])\n",
        "cross_scores_search_multi['prec'].append(scores[1])\n",
        "cross_scores_search_multi['rec'].append(scores[2])\n",
        "cross_scores_search_multi['f1'].append(scores[3])"
      ],
      "metadata": {
        "colab": {
          "base_uri": "https://localhost:8080/"
        },
        "id": "dVTL76gbAD_o",
        "outputId": "4666992b-0255-4d8a-bf8b-a9d5200714ac"
      },
      "execution_count": null,
      "outputs": [
        {
          "output_type": "stream",
          "name": "stdout",
          "text": [
            "Test Accuracy: 0.9400921658986175\n",
            "Test Prec: 0.9400921658986175\n",
            "Test Recall: 0.9400921658986175\n",
            "Test F1: 0.9400921658986175\n",
            "{'n_estimators': 200}\n"
          ]
        }
      ]
    },
    {
      "cell_type": "code",
      "source": [
        "scores = cross_val_search(X_train_m_9, np.ravel(y_train_m_9),X_test_m_9, np.ravel(y_test_m_9),'macro')\n",
        "cross_scores_search_multi['acc'].append(scores[0])\n",
        "cross_scores_search_multi['prec'].append(scores[1])\n",
        "cross_scores_search_multi['rec'].append(scores[2])\n",
        "cross_scores_search_multi['f1'].append(scores[3])"
      ],
      "metadata": {
        "colab": {
          "base_uri": "https://localhost:8080/"
        },
        "id": "lLxwUPg6MuXo",
        "outputId": "5589a9b7-d4e3-44d1-fa3a-aee2794c4633"
      },
      "execution_count": null,
      "outputs": [
        {
          "output_type": "stream",
          "name": "stdout",
          "text": [
            "Test Accuracy: 0.9400921658986175\n",
            "Test Prec: 0.9426319752594219\n",
            "Test Recall: 0.9167567952064145\n",
            "Test F1: 0.9283000569586638\n",
            "{'n_estimators': 200}\n"
          ]
        }
      ]
    },
    {
      "cell_type": "code",
      "source": [
        "scores = cross_val_search(X_train_8, np.ravel(y_train_8),X_test_8, np.ravel(y_test_8),'micro')\n",
        "cross_scores_search_multi['acc'].append(scores[0])\n",
        "cross_scores_search_multi['prec'].append(scores[1])\n",
        "cross_scores_search_multi['rec'].append(scores[2])\n",
        "cross_scores_search_multi['f1'].append(scores[3])"
      ],
      "metadata": {
        "colab": {
          "base_uri": "https://localhost:8080/"
        },
        "id": "Rws3VLEqDZXC",
        "outputId": "6a17f961-066a-4a33-ee1f-59428146e260"
      },
      "execution_count": null,
      "outputs": [
        {
          "output_type": "stream",
          "name": "stdout",
          "text": [
            "Test Accuracy: 1.0\n",
            "Test Prec: 1.0\n",
            "Test Recall: 1.0\n",
            "Test F1: 1.0\n",
            "{'n_estimators': 50}\n"
          ]
        }
      ]
    },
    {
      "cell_type": "code",
      "source": [
        "scores = cross_val_search(X_train_8, np.ravel(y_train_8),X_test_8, np.ravel(y_test_8),'macro')\n",
        "cross_scores_search_multi['acc'].append(scores[0])\n",
        "cross_scores_search_multi['prec'].append(scores[1])\n",
        "cross_scores_search_multi['rec'].append(scores[2])\n",
        "cross_scores_search_multi['f1'].append(scores[3])"
      ],
      "metadata": {
        "colab": {
          "base_uri": "https://localhost:8080/"
        },
        "id": "UrZ5iW9NJ8i0",
        "outputId": "e5f208d4-7157-4574-ab14-c40f61ede8f2"
      },
      "execution_count": null,
      "outputs": [
        {
          "output_type": "stream",
          "name": "stdout",
          "text": [
            "Test Accuracy: 1.0\n",
            "Test Prec: 1.0\n",
            "Test Recall: 1.0\n",
            "Test F1: 1.0\n",
            "{'n_estimators': 50}\n"
          ]
        }
      ]
    },
    {
      "cell_type": "code",
      "source": [
        "cross_scores_search_multi['acc']=[0.8157894736842105,0.9400921658986175,1]\n",
        "cross_scores_search_multi['prec']=[0.8102918586789555,0.9426319752594219,1]\n",
        "cross_scores_search_multi['rec']=[0.7968344456803855,0.9167567952064145,1]\n",
        "cross_scores_search_multi['f1']=[0.8021505376344086,0.9283000569586638,1]"
      ],
      "metadata": {
        "id": "R4TVqmedUHmT"
      },
      "execution_count": null,
      "outputs": []
    },
    {
      "cell_type": "code",
      "source": [
        "labels = ['Baseline model',\\\n",
        "          'Multidim signals & Accum <br> signal & features',\\\n",
        "          'Multidim signals & Accum <br> signal & features & BLM statics']\n",
        "pd.options.plotting.backend = \"plotly\"\n",
        "df = pd.DataFrame({ 'Label' : labels,\\\n",
        "                   'Accuracy' :cross_scores_search_multi['acc'],\n",
        "                   'Precision': cross_scores_search_multi['prec'],\n",
        "                   'Recall':cross_scores_search_multi['rec'],\n",
        "                   'F1':cross_scores_search_multi['f1']})\n",
        "df.plot(x='Label', y=df.columns[1:],\n",
        "        labels={\n",
        "                     \"Label\": \"Input Data\",\n",
        "                     \"variable\": \"Metric\"\n",
        "                 },\n",
        "                title=\"Severity Detection models\")"
      ],
      "metadata": {
        "colab": {
          "base_uri": "https://localhost:8080/",
          "height": 542
        },
        "id": "M2bWxYniQe-Z",
        "outputId": "e525315c-0303-4416-9c5a-9d24e5929554"
      },
      "execution_count": null,
      "outputs": [
        {
          "output_type": "display_data",
          "data": {
            "text/html": [
              "<html>\n",
              "<head><meta charset=\"utf-8\" /></head>\n",
              "<body>\n",
              "    <div>            <script src=\"https://cdnjs.cloudflare.com/ajax/libs/mathjax/2.7.5/MathJax.js?config=TeX-AMS-MML_SVG\"></script><script type=\"text/javascript\">if (window.MathJax && window.MathJax.Hub && window.MathJax.Hub.Config) {window.MathJax.Hub.Config({SVG: {font: \"STIX-Web\"}});}</script>                <script type=\"text/javascript\">window.PlotlyConfig = {MathJaxConfig: 'local'};</script>\n",
              "        <script src=\"https://cdn.plot.ly/plotly-2.18.2.min.js\"></script>                <div id=\"a84658c2-fb88-4e03-ae6b-faaad62c10a5\" class=\"plotly-graph-div\" style=\"height:525px; width:100%;\"></div>            <script type=\"text/javascript\">                                    window.PLOTLYENV=window.PLOTLYENV || {};                                    if (document.getElementById(\"a84658c2-fb88-4e03-ae6b-faaad62c10a5\")) {                    Plotly.newPlot(                        \"a84658c2-fb88-4e03-ae6b-faaad62c10a5\",                        [{\"hovertemplate\":\"Metric=Accuracy<br>Input Data=%{x}<br>value=%{y}<extra></extra>\",\"legendgroup\":\"Accuracy\",\"line\":{\"color\":\"#636efa\",\"dash\":\"solid\"},\"marker\":{\"symbol\":\"circle\"},\"mode\":\"lines\",\"name\":\"Accuracy\",\"orientation\":\"v\",\"showlegend\":true,\"x\":[\"Baseline model\",\"Multidim signals & Accum <br> signal & features\",\"Multidim signals & Accum <br> signal & features & BLM statics\"],\"xaxis\":\"x\",\"y\":[0.8157894736842105,0.9400921658986175,1.0],\"yaxis\":\"y\",\"type\":\"scatter\"},{\"hovertemplate\":\"Metric=Precision<br>Input Data=%{x}<br>value=%{y}<extra></extra>\",\"legendgroup\":\"Precision\",\"line\":{\"color\":\"#EF553B\",\"dash\":\"solid\"},\"marker\":{\"symbol\":\"circle\"},\"mode\":\"lines\",\"name\":\"Precision\",\"orientation\":\"v\",\"showlegend\":true,\"x\":[\"Baseline model\",\"Multidim signals & Accum <br> signal & features\",\"Multidim signals & Accum <br> signal & features & BLM statics\"],\"xaxis\":\"x\",\"y\":[0.8102918586789555,0.9426319752594219,1.0],\"yaxis\":\"y\",\"type\":\"scatter\"},{\"hovertemplate\":\"Metric=Recall<br>Input Data=%{x}<br>value=%{y}<extra></extra>\",\"legendgroup\":\"Recall\",\"line\":{\"color\":\"#00cc96\",\"dash\":\"solid\"},\"marker\":{\"symbol\":\"circle\"},\"mode\":\"lines\",\"name\":\"Recall\",\"orientation\":\"v\",\"showlegend\":true,\"x\":[\"Baseline model\",\"Multidim signals & Accum <br> signal & features\",\"Multidim signals & Accum <br> signal & features & BLM statics\"],\"xaxis\":\"x\",\"y\":[0.7968344456803855,0.9167567952064145,1.0],\"yaxis\":\"y\",\"type\":\"scatter\"},{\"hovertemplate\":\"Metric=F1<br>Input Data=%{x}<br>value=%{y}<extra></extra>\",\"legendgroup\":\"F1\",\"line\":{\"color\":\"#ab63fa\",\"dash\":\"solid\"},\"marker\":{\"symbol\":\"circle\"},\"mode\":\"lines\",\"name\":\"F1\",\"orientation\":\"v\",\"showlegend\":true,\"x\":[\"Baseline model\",\"Multidim signals & Accum <br> signal & features\",\"Multidim signals & Accum <br> signal & features & BLM statics\"],\"xaxis\":\"x\",\"y\":[0.8021505376344086,0.9283000569586638,1.0],\"yaxis\":\"y\",\"type\":\"scatter\"}],                        {\"template\":{\"data\":{\"histogram2dcontour\":[{\"type\":\"histogram2dcontour\",\"colorbar\":{\"outlinewidth\":0,\"ticks\":\"\"},\"colorscale\":[[0.0,\"#0d0887\"],[0.1111111111111111,\"#46039f\"],[0.2222222222222222,\"#7201a8\"],[0.3333333333333333,\"#9c179e\"],[0.4444444444444444,\"#bd3786\"],[0.5555555555555556,\"#d8576b\"],[0.6666666666666666,\"#ed7953\"],[0.7777777777777778,\"#fb9f3a\"],[0.8888888888888888,\"#fdca26\"],[1.0,\"#f0f921\"]]}],\"choropleth\":[{\"type\":\"choropleth\",\"colorbar\":{\"outlinewidth\":0,\"ticks\":\"\"}}],\"histogram2d\":[{\"type\":\"histogram2d\",\"colorbar\":{\"outlinewidth\":0,\"ticks\":\"\"},\"colorscale\":[[0.0,\"#0d0887\"],[0.1111111111111111,\"#46039f\"],[0.2222222222222222,\"#7201a8\"],[0.3333333333333333,\"#9c179e\"],[0.4444444444444444,\"#bd3786\"],[0.5555555555555556,\"#d8576b\"],[0.6666666666666666,\"#ed7953\"],[0.7777777777777778,\"#fb9f3a\"],[0.8888888888888888,\"#fdca26\"],[1.0,\"#f0f921\"]]}],\"heatmap\":[{\"type\":\"heatmap\",\"colorbar\":{\"outlinewidth\":0,\"ticks\":\"\"},\"colorscale\":[[0.0,\"#0d0887\"],[0.1111111111111111,\"#46039f\"],[0.2222222222222222,\"#7201a8\"],[0.3333333333333333,\"#9c179e\"],[0.4444444444444444,\"#bd3786\"],[0.5555555555555556,\"#d8576b\"],[0.6666666666666666,\"#ed7953\"],[0.7777777777777778,\"#fb9f3a\"],[0.8888888888888888,\"#fdca26\"],[1.0,\"#f0f921\"]]}],\"heatmapgl\":[{\"type\":\"heatmapgl\",\"colorbar\":{\"outlinewidth\":0,\"ticks\":\"\"},\"colorscale\":[[0.0,\"#0d0887\"],[0.1111111111111111,\"#46039f\"],[0.2222222222222222,\"#7201a8\"],[0.3333333333333333,\"#9c179e\"],[0.4444444444444444,\"#bd3786\"],[0.5555555555555556,\"#d8576b\"],[0.6666666666666666,\"#ed7953\"],[0.7777777777777778,\"#fb9f3a\"],[0.8888888888888888,\"#fdca26\"],[1.0,\"#f0f921\"]]}],\"contourcarpet\":[{\"type\":\"contourcarpet\",\"colorbar\":{\"outlinewidth\":0,\"ticks\":\"\"}}],\"contour\":[{\"type\":\"contour\",\"colorbar\":{\"outlinewidth\":0,\"ticks\":\"\"},\"colorscale\":[[0.0,\"#0d0887\"],[0.1111111111111111,\"#46039f\"],[0.2222222222222222,\"#7201a8\"],[0.3333333333333333,\"#9c179e\"],[0.4444444444444444,\"#bd3786\"],[0.5555555555555556,\"#d8576b\"],[0.6666666666666666,\"#ed7953\"],[0.7777777777777778,\"#fb9f3a\"],[0.8888888888888888,\"#fdca26\"],[1.0,\"#f0f921\"]]}],\"surface\":[{\"type\":\"surface\",\"colorbar\":{\"outlinewidth\":0,\"ticks\":\"\"},\"colorscale\":[[0.0,\"#0d0887\"],[0.1111111111111111,\"#46039f\"],[0.2222222222222222,\"#7201a8\"],[0.3333333333333333,\"#9c179e\"],[0.4444444444444444,\"#bd3786\"],[0.5555555555555556,\"#d8576b\"],[0.6666666666666666,\"#ed7953\"],[0.7777777777777778,\"#fb9f3a\"],[0.8888888888888888,\"#fdca26\"],[1.0,\"#f0f921\"]]}],\"mesh3d\":[{\"type\":\"mesh3d\",\"colorbar\":{\"outlinewidth\":0,\"ticks\":\"\"}}],\"scatter\":[{\"fillpattern\":{\"fillmode\":\"overlay\",\"size\":10,\"solidity\":0.2},\"type\":\"scatter\"}],\"parcoords\":[{\"type\":\"parcoords\",\"line\":{\"colorbar\":{\"outlinewidth\":0,\"ticks\":\"\"}}}],\"scatterpolargl\":[{\"type\":\"scatterpolargl\",\"marker\":{\"colorbar\":{\"outlinewidth\":0,\"ticks\":\"\"}}}],\"bar\":[{\"error_x\":{\"color\":\"#2a3f5f\"},\"error_y\":{\"color\":\"#2a3f5f\"},\"marker\":{\"line\":{\"color\":\"#E5ECF6\",\"width\":0.5},\"pattern\":{\"fillmode\":\"overlay\",\"size\":10,\"solidity\":0.2}},\"type\":\"bar\"}],\"scattergeo\":[{\"type\":\"scattergeo\",\"marker\":{\"colorbar\":{\"outlinewidth\":0,\"ticks\":\"\"}}}],\"scatterpolar\":[{\"type\":\"scatterpolar\",\"marker\":{\"colorbar\":{\"outlinewidth\":0,\"ticks\":\"\"}}}],\"histogram\":[{\"marker\":{\"pattern\":{\"fillmode\":\"overlay\",\"size\":10,\"solidity\":0.2}},\"type\":\"histogram\"}],\"scattergl\":[{\"type\":\"scattergl\",\"marker\":{\"colorbar\":{\"outlinewidth\":0,\"ticks\":\"\"}}}],\"scatter3d\":[{\"type\":\"scatter3d\",\"line\":{\"colorbar\":{\"outlinewidth\":0,\"ticks\":\"\"}},\"marker\":{\"colorbar\":{\"outlinewidth\":0,\"ticks\":\"\"}}}],\"scattermapbox\":[{\"type\":\"scattermapbox\",\"marker\":{\"colorbar\":{\"outlinewidth\":0,\"ticks\":\"\"}}}],\"scatterternary\":[{\"type\":\"scatterternary\",\"marker\":{\"colorbar\":{\"outlinewidth\":0,\"ticks\":\"\"}}}],\"scattercarpet\":[{\"type\":\"scattercarpet\",\"marker\":{\"colorbar\":{\"outlinewidth\":0,\"ticks\":\"\"}}}],\"carpet\":[{\"aaxis\":{\"endlinecolor\":\"#2a3f5f\",\"gridcolor\":\"white\",\"linecolor\":\"white\",\"minorgridcolor\":\"white\",\"startlinecolor\":\"#2a3f5f\"},\"baxis\":{\"endlinecolor\":\"#2a3f5f\",\"gridcolor\":\"white\",\"linecolor\":\"white\",\"minorgridcolor\":\"white\",\"startlinecolor\":\"#2a3f5f\"},\"type\":\"carpet\"}],\"table\":[{\"cells\":{\"fill\":{\"color\":\"#EBF0F8\"},\"line\":{\"color\":\"white\"}},\"header\":{\"fill\":{\"color\":\"#C8D4E3\"},\"line\":{\"color\":\"white\"}},\"type\":\"table\"}],\"barpolar\":[{\"marker\":{\"line\":{\"color\":\"#E5ECF6\",\"width\":0.5},\"pattern\":{\"fillmode\":\"overlay\",\"size\":10,\"solidity\":0.2}},\"type\":\"barpolar\"}],\"pie\":[{\"automargin\":true,\"type\":\"pie\"}]},\"layout\":{\"autotypenumbers\":\"strict\",\"colorway\":[\"#636efa\",\"#EF553B\",\"#00cc96\",\"#ab63fa\",\"#FFA15A\",\"#19d3f3\",\"#FF6692\",\"#B6E880\",\"#FF97FF\",\"#FECB52\"],\"font\":{\"color\":\"#2a3f5f\"},\"hovermode\":\"closest\",\"hoverlabel\":{\"align\":\"left\"},\"paper_bgcolor\":\"white\",\"plot_bgcolor\":\"#E5ECF6\",\"polar\":{\"bgcolor\":\"#E5ECF6\",\"angularaxis\":{\"gridcolor\":\"white\",\"linecolor\":\"white\",\"ticks\":\"\"},\"radialaxis\":{\"gridcolor\":\"white\",\"linecolor\":\"white\",\"ticks\":\"\"}},\"ternary\":{\"bgcolor\":\"#E5ECF6\",\"aaxis\":{\"gridcolor\":\"white\",\"linecolor\":\"white\",\"ticks\":\"\"},\"baxis\":{\"gridcolor\":\"white\",\"linecolor\":\"white\",\"ticks\":\"\"},\"caxis\":{\"gridcolor\":\"white\",\"linecolor\":\"white\",\"ticks\":\"\"}},\"coloraxis\":{\"colorbar\":{\"outlinewidth\":0,\"ticks\":\"\"}},\"colorscale\":{\"sequential\":[[0.0,\"#0d0887\"],[0.1111111111111111,\"#46039f\"],[0.2222222222222222,\"#7201a8\"],[0.3333333333333333,\"#9c179e\"],[0.4444444444444444,\"#bd3786\"],[0.5555555555555556,\"#d8576b\"],[0.6666666666666666,\"#ed7953\"],[0.7777777777777778,\"#fb9f3a\"],[0.8888888888888888,\"#fdca26\"],[1.0,\"#f0f921\"]],\"sequentialminus\":[[0.0,\"#0d0887\"],[0.1111111111111111,\"#46039f\"],[0.2222222222222222,\"#7201a8\"],[0.3333333333333333,\"#9c179e\"],[0.4444444444444444,\"#bd3786\"],[0.5555555555555556,\"#d8576b\"],[0.6666666666666666,\"#ed7953\"],[0.7777777777777778,\"#fb9f3a\"],[0.8888888888888888,\"#fdca26\"],[1.0,\"#f0f921\"]],\"diverging\":[[0,\"#8e0152\"],[0.1,\"#c51b7d\"],[0.2,\"#de77ae\"],[0.3,\"#f1b6da\"],[0.4,\"#fde0ef\"],[0.5,\"#f7f7f7\"],[0.6,\"#e6f5d0\"],[0.7,\"#b8e186\"],[0.8,\"#7fbc41\"],[0.9,\"#4d9221\"],[1,\"#276419\"]]},\"xaxis\":{\"gridcolor\":\"white\",\"linecolor\":\"white\",\"ticks\":\"\",\"title\":{\"standoff\":15},\"zerolinecolor\":\"white\",\"automargin\":true,\"zerolinewidth\":2},\"yaxis\":{\"gridcolor\":\"white\",\"linecolor\":\"white\",\"ticks\":\"\",\"title\":{\"standoff\":15},\"zerolinecolor\":\"white\",\"automargin\":true,\"zerolinewidth\":2},\"scene\":{\"xaxis\":{\"backgroundcolor\":\"#E5ECF6\",\"gridcolor\":\"white\",\"linecolor\":\"white\",\"showbackground\":true,\"ticks\":\"\",\"zerolinecolor\":\"white\",\"gridwidth\":2},\"yaxis\":{\"backgroundcolor\":\"#E5ECF6\",\"gridcolor\":\"white\",\"linecolor\":\"white\",\"showbackground\":true,\"ticks\":\"\",\"zerolinecolor\":\"white\",\"gridwidth\":2},\"zaxis\":{\"backgroundcolor\":\"#E5ECF6\",\"gridcolor\":\"white\",\"linecolor\":\"white\",\"showbackground\":true,\"ticks\":\"\",\"zerolinecolor\":\"white\",\"gridwidth\":2}},\"shapedefaults\":{\"line\":{\"color\":\"#2a3f5f\"}},\"annotationdefaults\":{\"arrowcolor\":\"#2a3f5f\",\"arrowhead\":0,\"arrowwidth\":1},\"geo\":{\"bgcolor\":\"white\",\"landcolor\":\"#E5ECF6\",\"subunitcolor\":\"white\",\"showland\":true,\"showlakes\":true,\"lakecolor\":\"white\"},\"title\":{\"x\":0.05},\"mapbox\":{\"style\":\"light\"}}},\"xaxis\":{\"anchor\":\"y\",\"domain\":[0.0,1.0],\"title\":{\"text\":\"Input Data\"}},\"yaxis\":{\"anchor\":\"x\",\"domain\":[0.0,1.0],\"title\":{\"text\":\"value\"}},\"legend\":{\"title\":{\"text\":\"Metric\"},\"tracegroupgap\":0},\"title\":{\"text\":\"Severity Detection models\"}},                        {\"responsive\": true}                    ).then(function(){\n",
              "                            \n",
              "var gd = document.getElementById('a84658c2-fb88-4e03-ae6b-faaad62c10a5');\n",
              "var x = new MutationObserver(function (mutations, observer) {{\n",
              "        var display = window.getComputedStyle(gd).display;\n",
              "        if (!display || display === 'none') {{\n",
              "            console.log([gd, 'removed!']);\n",
              "            Plotly.purge(gd);\n",
              "            observer.disconnect();\n",
              "        }}\n",
              "}});\n",
              "\n",
              "// Listen for the removal of the full notebook cells\n",
              "var notebookContainer = gd.closest('#notebook-container');\n",
              "if (notebookContainer) {{\n",
              "    x.observe(notebookContainer, {childList: true});\n",
              "}}\n",
              "\n",
              "// Listen for the clearing of the current output cell\n",
              "var outputEl = gd.closest('.output');\n",
              "if (outputEl) {{\n",
              "    x.observe(outputEl, {childList: true});\n",
              "}}\n",
              "\n",
              "                        })                };                            </script>        </div>\n",
              "</body>\n",
              "</html>"
            ]
          },
          "metadata": {}
        }
      ]
    },
    {
      "cell_type": "code",
      "source": [
        "df.to_parquet(parquet_path+'rfc_severity_metrics.gzip')"
      ],
      "metadata": {
        "id": "2p6khdWGT-1G"
      },
      "execution_count": null,
      "outputs": []
    },
    {
      "cell_type": "code",
      "source": [
        "df"
      ],
      "metadata": {
        "colab": {
          "base_uri": "https://localhost:8080/",
          "height": 143
        },
        "id": "CR2i61YHWd3r",
        "outputId": "976ffcd7-1e4a-44c2-b28b-cb2e255d4714"
      },
      "execution_count": null,
      "outputs": [
        {
          "output_type": "execute_result",
          "data": {
            "text/plain": [
              "                                               Label  Accuracy  Precision  \\\n",
              "0                                     Baseline model  0.815789   0.810292   \n",
              "1    Multidim signals & Accum <br> signal & features  0.940092   0.942632   \n",
              "2  Multidim signals & Accum <br> signal & feature...  1.000000   1.000000   \n",
              "\n",
              "     Recall        F1  \n",
              "0  0.796834  0.802151  \n",
              "1  0.916757  0.928300  \n",
              "2  1.000000  1.000000  "
            ],
            "text/html": [
              "\n",
              "  <div id=\"df-a739c9dd-f208-421a-ad64-c58db47d4790\">\n",
              "    <div class=\"colab-df-container\">\n",
              "      <div>\n",
              "<style scoped>\n",
              "    .dataframe tbody tr th:only-of-type {\n",
              "        vertical-align: middle;\n",
              "    }\n",
              "\n",
              "    .dataframe tbody tr th {\n",
              "        vertical-align: top;\n",
              "    }\n",
              "\n",
              "    .dataframe thead th {\n",
              "        text-align: right;\n",
              "    }\n",
              "</style>\n",
              "<table border=\"1\" class=\"dataframe\">\n",
              "  <thead>\n",
              "    <tr style=\"text-align: right;\">\n",
              "      <th></th>\n",
              "      <th>Label</th>\n",
              "      <th>Accuracy</th>\n",
              "      <th>Precision</th>\n",
              "      <th>Recall</th>\n",
              "      <th>F1</th>\n",
              "    </tr>\n",
              "  </thead>\n",
              "  <tbody>\n",
              "    <tr>\n",
              "      <th>0</th>\n",
              "      <td>Baseline model</td>\n",
              "      <td>0.815789</td>\n",
              "      <td>0.810292</td>\n",
              "      <td>0.796834</td>\n",
              "      <td>0.802151</td>\n",
              "    </tr>\n",
              "    <tr>\n",
              "      <th>1</th>\n",
              "      <td>Multidim signals &amp; Accum &lt;br&gt; signal &amp; features</td>\n",
              "      <td>0.940092</td>\n",
              "      <td>0.942632</td>\n",
              "      <td>0.916757</td>\n",
              "      <td>0.928300</td>\n",
              "    </tr>\n",
              "    <tr>\n",
              "      <th>2</th>\n",
              "      <td>Multidim signals &amp; Accum &lt;br&gt; signal &amp; feature...</td>\n",
              "      <td>1.000000</td>\n",
              "      <td>1.000000</td>\n",
              "      <td>1.000000</td>\n",
              "      <td>1.000000</td>\n",
              "    </tr>\n",
              "  </tbody>\n",
              "</table>\n",
              "</div>\n",
              "      <button class=\"colab-df-convert\" onclick=\"convertToInteractive('df-a739c9dd-f208-421a-ad64-c58db47d4790')\"\n",
              "              title=\"Convert this dataframe to an interactive table.\"\n",
              "              style=\"display:none;\">\n",
              "        \n",
              "  <svg xmlns=\"http://www.w3.org/2000/svg\" height=\"24px\"viewBox=\"0 0 24 24\"\n",
              "       width=\"24px\">\n",
              "    <path d=\"M0 0h24v24H0V0z\" fill=\"none\"/>\n",
              "    <path d=\"M18.56 5.44l.94 2.06.94-2.06 2.06-.94-2.06-.94-.94-2.06-.94 2.06-2.06.94zm-11 1L8.5 8.5l.94-2.06 2.06-.94-2.06-.94L8.5 2.5l-.94 2.06-2.06.94zm10 10l.94 2.06.94-2.06 2.06-.94-2.06-.94-.94-2.06-.94 2.06-2.06.94z\"/><path d=\"M17.41 7.96l-1.37-1.37c-.4-.4-.92-.59-1.43-.59-.52 0-1.04.2-1.43.59L10.3 9.45l-7.72 7.72c-.78.78-.78 2.05 0 2.83L4 21.41c.39.39.9.59 1.41.59.51 0 1.02-.2 1.41-.59l7.78-7.78 2.81-2.81c.8-.78.8-2.07 0-2.86zM5.41 20L4 18.59l7.72-7.72 1.47 1.35L5.41 20z\"/>\n",
              "  </svg>\n",
              "      </button>\n",
              "      \n",
              "  <style>\n",
              "    .colab-df-container {\n",
              "      display:flex;\n",
              "      flex-wrap:wrap;\n",
              "      gap: 12px;\n",
              "    }\n",
              "\n",
              "    .colab-df-convert {\n",
              "      background-color: #E8F0FE;\n",
              "      border: none;\n",
              "      border-radius: 50%;\n",
              "      cursor: pointer;\n",
              "      display: none;\n",
              "      fill: #1967D2;\n",
              "      height: 32px;\n",
              "      padding: 0 0 0 0;\n",
              "      width: 32px;\n",
              "    }\n",
              "\n",
              "    .colab-df-convert:hover {\n",
              "      background-color: #E2EBFA;\n",
              "      box-shadow: 0px 1px 2px rgba(60, 64, 67, 0.3), 0px 1px 3px 1px rgba(60, 64, 67, 0.15);\n",
              "      fill: #174EA6;\n",
              "    }\n",
              "\n",
              "    [theme=dark] .colab-df-convert {\n",
              "      background-color: #3B4455;\n",
              "      fill: #D2E3FC;\n",
              "    }\n",
              "\n",
              "    [theme=dark] .colab-df-convert:hover {\n",
              "      background-color: #434B5C;\n",
              "      box-shadow: 0px 1px 3px 1px rgba(0, 0, 0, 0.15);\n",
              "      filter: drop-shadow(0px 1px 2px rgba(0, 0, 0, 0.3));\n",
              "      fill: #FFFFFF;\n",
              "    }\n",
              "  </style>\n",
              "\n",
              "      <script>\n",
              "        const buttonEl =\n",
              "          document.querySelector('#df-a739c9dd-f208-421a-ad64-c58db47d4790 button.colab-df-convert');\n",
              "        buttonEl.style.display =\n",
              "          google.colab.kernel.accessAllowed ? 'block' : 'none';\n",
              "\n",
              "        async function convertToInteractive(key) {\n",
              "          const element = document.querySelector('#df-a739c9dd-f208-421a-ad64-c58db47d4790');\n",
              "          const dataTable =\n",
              "            await google.colab.kernel.invokeFunction('convertToInteractive',\n",
              "                                                     [key], {});\n",
              "          if (!dataTable) return;\n",
              "\n",
              "          const docLinkHtml = 'Like what you see? Visit the ' +\n",
              "            '<a target=\"_blank\" href=https://colab.research.google.com/notebooks/data_table.ipynb>data table notebook</a>'\n",
              "            + ' to learn more about interactive tables.';\n",
              "          element.innerHTML = '';\n",
              "          dataTable['output_type'] = 'display_data';\n",
              "          await google.colab.output.renderOutput(dataTable, element);\n",
              "          const docLink = document.createElement('div');\n",
              "          docLink.innerHTML = docLinkHtml;\n",
              "          element.appendChild(docLink);\n",
              "        }\n",
              "      </script>\n",
              "    </div>\n",
              "  </div>\n",
              "  "
            ]
          },
          "metadata": {},
          "execution_count": 273
        }
      ]
    },
    {
      "cell_type": "code",
      "source": [
        "labels = ['Baseline model',\\\n",
        "          'Multidim signals & Accum <br> signal & features',\\\n",
        "          'Multidim signals & Accum <br> signal & features & BLM statics']\n",
        "pd.options.plotting.backend = \"plotly\"\n",
        "df = pd.DataFrame({ 'Label' : labels,\\\n",
        "                   'Accuracy' :[0.7163,0.5248,0.7435],\n",
        "                   'Precision':[0.6810,0.5568,0.8087],\n",
        "                   'Recall':[0.6658,0.4578,0.7564],\n",
        "                   'F1':[0.6580,0.4643,0.7538]})\n",
        "df.plot(x='Label', y=df.columns[1:],\n",
        "        labels={\n",
        "                     \"Label\": \"Input Data\",\n",
        "                     \"variable\": \"Metric\"\n",
        "                 },\n",
        "                title=\"Severity Detection models\")"
      ],
      "metadata": {
        "id": "jUB3e60NWewB",
        "colab": {
          "base_uri": "https://localhost:8080/",
          "height": 542
        },
        "outputId": "4c8cbc5e-c183-433e-8dd9-4b098f50cfa5"
      },
      "execution_count": 56,
      "outputs": [
        {
          "output_type": "display_data",
          "data": {
            "text/html": [
              "<html>\n",
              "<head><meta charset=\"utf-8\" /></head>\n",
              "<body>\n",
              "    <div>            <script src=\"https://cdnjs.cloudflare.com/ajax/libs/mathjax/2.7.5/MathJax.js?config=TeX-AMS-MML_SVG\"></script><script type=\"text/javascript\">if (window.MathJax && window.MathJax.Hub && window.MathJax.Hub.Config) {window.MathJax.Hub.Config({SVG: {font: \"STIX-Web\"}});}</script>                <script type=\"text/javascript\">window.PlotlyConfig = {MathJaxConfig: 'local'};</script>\n",
              "        <script src=\"https://cdn.plot.ly/plotly-2.18.2.min.js\"></script>                <div id=\"68ac7e47-2538-426e-9db8-a803e63c906f\" class=\"plotly-graph-div\" style=\"height:525px; width:100%;\"></div>            <script type=\"text/javascript\">                                    window.PLOTLYENV=window.PLOTLYENV || {};                                    if (document.getElementById(\"68ac7e47-2538-426e-9db8-a803e63c906f\")) {                    Plotly.newPlot(                        \"68ac7e47-2538-426e-9db8-a803e63c906f\",                        [{\"hovertemplate\":\"Metric=Accuracy<br>Input Data=%{x}<br>value=%{y}<extra></extra>\",\"legendgroup\":\"Accuracy\",\"line\":{\"color\":\"#636efa\",\"dash\":\"solid\"},\"marker\":{\"symbol\":\"circle\"},\"mode\":\"lines\",\"name\":\"Accuracy\",\"orientation\":\"v\",\"showlegend\":true,\"x\":[\"Baseline model\",\"Multidim signals & Accum <br> signal & features\",\"Multidim signals & Accum <br> signal & features & BLM statics\"],\"xaxis\":\"x\",\"y\":[0.7163,0.5248,0.7435],\"yaxis\":\"y\",\"type\":\"scatter\"},{\"hovertemplate\":\"Metric=Precision<br>Input Data=%{x}<br>value=%{y}<extra></extra>\",\"legendgroup\":\"Precision\",\"line\":{\"color\":\"#EF553B\",\"dash\":\"solid\"},\"marker\":{\"symbol\":\"circle\"},\"mode\":\"lines\",\"name\":\"Precision\",\"orientation\":\"v\",\"showlegend\":true,\"x\":[\"Baseline model\",\"Multidim signals & Accum <br> signal & features\",\"Multidim signals & Accum <br> signal & features & BLM statics\"],\"xaxis\":\"x\",\"y\":[0.681,0.5568,0.8087],\"yaxis\":\"y\",\"type\":\"scatter\"},{\"hovertemplate\":\"Metric=Recall<br>Input Data=%{x}<br>value=%{y}<extra></extra>\",\"legendgroup\":\"Recall\",\"line\":{\"color\":\"#00cc96\",\"dash\":\"solid\"},\"marker\":{\"symbol\":\"circle\"},\"mode\":\"lines\",\"name\":\"Recall\",\"orientation\":\"v\",\"showlegend\":true,\"x\":[\"Baseline model\",\"Multidim signals & Accum <br> signal & features\",\"Multidim signals & Accum <br> signal & features & BLM statics\"],\"xaxis\":\"x\",\"y\":[0.6658,0.4578,0.7564],\"yaxis\":\"y\",\"type\":\"scatter\"},{\"hovertemplate\":\"Metric=F1<br>Input Data=%{x}<br>value=%{y}<extra></extra>\",\"legendgroup\":\"F1\",\"line\":{\"color\":\"#ab63fa\",\"dash\":\"solid\"},\"marker\":{\"symbol\":\"circle\"},\"mode\":\"lines\",\"name\":\"F1\",\"orientation\":\"v\",\"showlegend\":true,\"x\":[\"Baseline model\",\"Multidim signals & Accum <br> signal & features\",\"Multidim signals & Accum <br> signal & features & BLM statics\"],\"xaxis\":\"x\",\"y\":[0.658,0.4643,0.7538],\"yaxis\":\"y\",\"type\":\"scatter\"}],                        {\"template\":{\"data\":{\"histogram2dcontour\":[{\"type\":\"histogram2dcontour\",\"colorbar\":{\"outlinewidth\":0,\"ticks\":\"\"},\"colorscale\":[[0.0,\"#0d0887\"],[0.1111111111111111,\"#46039f\"],[0.2222222222222222,\"#7201a8\"],[0.3333333333333333,\"#9c179e\"],[0.4444444444444444,\"#bd3786\"],[0.5555555555555556,\"#d8576b\"],[0.6666666666666666,\"#ed7953\"],[0.7777777777777778,\"#fb9f3a\"],[0.8888888888888888,\"#fdca26\"],[1.0,\"#f0f921\"]]}],\"choropleth\":[{\"type\":\"choropleth\",\"colorbar\":{\"outlinewidth\":0,\"ticks\":\"\"}}],\"histogram2d\":[{\"type\":\"histogram2d\",\"colorbar\":{\"outlinewidth\":0,\"ticks\":\"\"},\"colorscale\":[[0.0,\"#0d0887\"],[0.1111111111111111,\"#46039f\"],[0.2222222222222222,\"#7201a8\"],[0.3333333333333333,\"#9c179e\"],[0.4444444444444444,\"#bd3786\"],[0.5555555555555556,\"#d8576b\"],[0.6666666666666666,\"#ed7953\"],[0.7777777777777778,\"#fb9f3a\"],[0.8888888888888888,\"#fdca26\"],[1.0,\"#f0f921\"]]}],\"heatmap\":[{\"type\":\"heatmap\",\"colorbar\":{\"outlinewidth\":0,\"ticks\":\"\"},\"colorscale\":[[0.0,\"#0d0887\"],[0.1111111111111111,\"#46039f\"],[0.2222222222222222,\"#7201a8\"],[0.3333333333333333,\"#9c179e\"],[0.4444444444444444,\"#bd3786\"],[0.5555555555555556,\"#d8576b\"],[0.6666666666666666,\"#ed7953\"],[0.7777777777777778,\"#fb9f3a\"],[0.8888888888888888,\"#fdca26\"],[1.0,\"#f0f921\"]]}],\"heatmapgl\":[{\"type\":\"heatmapgl\",\"colorbar\":{\"outlinewidth\":0,\"ticks\":\"\"},\"colorscale\":[[0.0,\"#0d0887\"],[0.1111111111111111,\"#46039f\"],[0.2222222222222222,\"#7201a8\"],[0.3333333333333333,\"#9c179e\"],[0.4444444444444444,\"#bd3786\"],[0.5555555555555556,\"#d8576b\"],[0.6666666666666666,\"#ed7953\"],[0.7777777777777778,\"#fb9f3a\"],[0.8888888888888888,\"#fdca26\"],[1.0,\"#f0f921\"]]}],\"contourcarpet\":[{\"type\":\"contourcarpet\",\"colorbar\":{\"outlinewidth\":0,\"ticks\":\"\"}}],\"contour\":[{\"type\":\"contour\",\"colorbar\":{\"outlinewidth\":0,\"ticks\":\"\"},\"colorscale\":[[0.0,\"#0d0887\"],[0.1111111111111111,\"#46039f\"],[0.2222222222222222,\"#7201a8\"],[0.3333333333333333,\"#9c179e\"],[0.4444444444444444,\"#bd3786\"],[0.5555555555555556,\"#d8576b\"],[0.6666666666666666,\"#ed7953\"],[0.7777777777777778,\"#fb9f3a\"],[0.8888888888888888,\"#fdca26\"],[1.0,\"#f0f921\"]]}],\"surface\":[{\"type\":\"surface\",\"colorbar\":{\"outlinewidth\":0,\"ticks\":\"\"},\"colorscale\":[[0.0,\"#0d0887\"],[0.1111111111111111,\"#46039f\"],[0.2222222222222222,\"#7201a8\"],[0.3333333333333333,\"#9c179e\"],[0.4444444444444444,\"#bd3786\"],[0.5555555555555556,\"#d8576b\"],[0.6666666666666666,\"#ed7953\"],[0.7777777777777778,\"#fb9f3a\"],[0.8888888888888888,\"#fdca26\"],[1.0,\"#f0f921\"]]}],\"mesh3d\":[{\"type\":\"mesh3d\",\"colorbar\":{\"outlinewidth\":0,\"ticks\":\"\"}}],\"scatter\":[{\"fillpattern\":{\"fillmode\":\"overlay\",\"size\":10,\"solidity\":0.2},\"type\":\"scatter\"}],\"parcoords\":[{\"type\":\"parcoords\",\"line\":{\"colorbar\":{\"outlinewidth\":0,\"ticks\":\"\"}}}],\"scatterpolargl\":[{\"type\":\"scatterpolargl\",\"marker\":{\"colorbar\":{\"outlinewidth\":0,\"ticks\":\"\"}}}],\"bar\":[{\"error_x\":{\"color\":\"#2a3f5f\"},\"error_y\":{\"color\":\"#2a3f5f\"},\"marker\":{\"line\":{\"color\":\"#E5ECF6\",\"width\":0.5},\"pattern\":{\"fillmode\":\"overlay\",\"size\":10,\"solidity\":0.2}},\"type\":\"bar\"}],\"scattergeo\":[{\"type\":\"scattergeo\",\"marker\":{\"colorbar\":{\"outlinewidth\":0,\"ticks\":\"\"}}}],\"scatterpolar\":[{\"type\":\"scatterpolar\",\"marker\":{\"colorbar\":{\"outlinewidth\":0,\"ticks\":\"\"}}}],\"histogram\":[{\"marker\":{\"pattern\":{\"fillmode\":\"overlay\",\"size\":10,\"solidity\":0.2}},\"type\":\"histogram\"}],\"scattergl\":[{\"type\":\"scattergl\",\"marker\":{\"colorbar\":{\"outlinewidth\":0,\"ticks\":\"\"}}}],\"scatter3d\":[{\"type\":\"scatter3d\",\"line\":{\"colorbar\":{\"outlinewidth\":0,\"ticks\":\"\"}},\"marker\":{\"colorbar\":{\"outlinewidth\":0,\"ticks\":\"\"}}}],\"scattermapbox\":[{\"type\":\"scattermapbox\",\"marker\":{\"colorbar\":{\"outlinewidth\":0,\"ticks\":\"\"}}}],\"scatterternary\":[{\"type\":\"scatterternary\",\"marker\":{\"colorbar\":{\"outlinewidth\":0,\"ticks\":\"\"}}}],\"scattercarpet\":[{\"type\":\"scattercarpet\",\"marker\":{\"colorbar\":{\"outlinewidth\":0,\"ticks\":\"\"}}}],\"carpet\":[{\"aaxis\":{\"endlinecolor\":\"#2a3f5f\",\"gridcolor\":\"white\",\"linecolor\":\"white\",\"minorgridcolor\":\"white\",\"startlinecolor\":\"#2a3f5f\"},\"baxis\":{\"endlinecolor\":\"#2a3f5f\",\"gridcolor\":\"white\",\"linecolor\":\"white\",\"minorgridcolor\":\"white\",\"startlinecolor\":\"#2a3f5f\"},\"type\":\"carpet\"}],\"table\":[{\"cells\":{\"fill\":{\"color\":\"#EBF0F8\"},\"line\":{\"color\":\"white\"}},\"header\":{\"fill\":{\"color\":\"#C8D4E3\"},\"line\":{\"color\":\"white\"}},\"type\":\"table\"}],\"barpolar\":[{\"marker\":{\"line\":{\"color\":\"#E5ECF6\",\"width\":0.5},\"pattern\":{\"fillmode\":\"overlay\",\"size\":10,\"solidity\":0.2}},\"type\":\"barpolar\"}],\"pie\":[{\"automargin\":true,\"type\":\"pie\"}]},\"layout\":{\"autotypenumbers\":\"strict\",\"colorway\":[\"#636efa\",\"#EF553B\",\"#00cc96\",\"#ab63fa\",\"#FFA15A\",\"#19d3f3\",\"#FF6692\",\"#B6E880\",\"#FF97FF\",\"#FECB52\"],\"font\":{\"color\":\"#2a3f5f\"},\"hovermode\":\"closest\",\"hoverlabel\":{\"align\":\"left\"},\"paper_bgcolor\":\"white\",\"plot_bgcolor\":\"#E5ECF6\",\"polar\":{\"bgcolor\":\"#E5ECF6\",\"angularaxis\":{\"gridcolor\":\"white\",\"linecolor\":\"white\",\"ticks\":\"\"},\"radialaxis\":{\"gridcolor\":\"white\",\"linecolor\":\"white\",\"ticks\":\"\"}},\"ternary\":{\"bgcolor\":\"#E5ECF6\",\"aaxis\":{\"gridcolor\":\"white\",\"linecolor\":\"white\",\"ticks\":\"\"},\"baxis\":{\"gridcolor\":\"white\",\"linecolor\":\"white\",\"ticks\":\"\"},\"caxis\":{\"gridcolor\":\"white\",\"linecolor\":\"white\",\"ticks\":\"\"}},\"coloraxis\":{\"colorbar\":{\"outlinewidth\":0,\"ticks\":\"\"}},\"colorscale\":{\"sequential\":[[0.0,\"#0d0887\"],[0.1111111111111111,\"#46039f\"],[0.2222222222222222,\"#7201a8\"],[0.3333333333333333,\"#9c179e\"],[0.4444444444444444,\"#bd3786\"],[0.5555555555555556,\"#d8576b\"],[0.6666666666666666,\"#ed7953\"],[0.7777777777777778,\"#fb9f3a\"],[0.8888888888888888,\"#fdca26\"],[1.0,\"#f0f921\"]],\"sequentialminus\":[[0.0,\"#0d0887\"],[0.1111111111111111,\"#46039f\"],[0.2222222222222222,\"#7201a8\"],[0.3333333333333333,\"#9c179e\"],[0.4444444444444444,\"#bd3786\"],[0.5555555555555556,\"#d8576b\"],[0.6666666666666666,\"#ed7953\"],[0.7777777777777778,\"#fb9f3a\"],[0.8888888888888888,\"#fdca26\"],[1.0,\"#f0f921\"]],\"diverging\":[[0,\"#8e0152\"],[0.1,\"#c51b7d\"],[0.2,\"#de77ae\"],[0.3,\"#f1b6da\"],[0.4,\"#fde0ef\"],[0.5,\"#f7f7f7\"],[0.6,\"#e6f5d0\"],[0.7,\"#b8e186\"],[0.8,\"#7fbc41\"],[0.9,\"#4d9221\"],[1,\"#276419\"]]},\"xaxis\":{\"gridcolor\":\"white\",\"linecolor\":\"white\",\"ticks\":\"\",\"title\":{\"standoff\":15},\"zerolinecolor\":\"white\",\"automargin\":true,\"zerolinewidth\":2},\"yaxis\":{\"gridcolor\":\"white\",\"linecolor\":\"white\",\"ticks\":\"\",\"title\":{\"standoff\":15},\"zerolinecolor\":\"white\",\"automargin\":true,\"zerolinewidth\":2},\"scene\":{\"xaxis\":{\"backgroundcolor\":\"#E5ECF6\",\"gridcolor\":\"white\",\"linecolor\":\"white\",\"showbackground\":true,\"ticks\":\"\",\"zerolinecolor\":\"white\",\"gridwidth\":2},\"yaxis\":{\"backgroundcolor\":\"#E5ECF6\",\"gridcolor\":\"white\",\"linecolor\":\"white\",\"showbackground\":true,\"ticks\":\"\",\"zerolinecolor\":\"white\",\"gridwidth\":2},\"zaxis\":{\"backgroundcolor\":\"#E5ECF6\",\"gridcolor\":\"white\",\"linecolor\":\"white\",\"showbackground\":true,\"ticks\":\"\",\"zerolinecolor\":\"white\",\"gridwidth\":2}},\"shapedefaults\":{\"line\":{\"color\":\"#2a3f5f\"}},\"annotationdefaults\":{\"arrowcolor\":\"#2a3f5f\",\"arrowhead\":0,\"arrowwidth\":1},\"geo\":{\"bgcolor\":\"white\",\"landcolor\":\"#E5ECF6\",\"subunitcolor\":\"white\",\"showland\":true,\"showlakes\":true,\"lakecolor\":\"white\"},\"title\":{\"x\":0.05},\"mapbox\":{\"style\":\"light\"}}},\"xaxis\":{\"anchor\":\"y\",\"domain\":[0.0,1.0],\"title\":{\"text\":\"Input Data\"}},\"yaxis\":{\"anchor\":\"x\",\"domain\":[0.0,1.0],\"title\":{\"text\":\"value\"}},\"legend\":{\"title\":{\"text\":\"Metric\"},\"tracegroupgap\":0},\"title\":{\"text\":\"Severity Detection models\"}},                        {\"responsive\": true}                    ).then(function(){\n",
              "                            \n",
              "var gd = document.getElementById('68ac7e47-2538-426e-9db8-a803e63c906f');\n",
              "var x = new MutationObserver(function (mutations, observer) {{\n",
              "        var display = window.getComputedStyle(gd).display;\n",
              "        if (!display || display === 'none') {{\n",
              "            console.log([gd, 'removed!']);\n",
              "            Plotly.purge(gd);\n",
              "            observer.disconnect();\n",
              "        }}\n",
              "}});\n",
              "\n",
              "// Listen for the removal of the full notebook cells\n",
              "var notebookContainer = gd.closest('#notebook-container');\n",
              "if (notebookContainer) {{\n",
              "    x.observe(notebookContainer, {childList: true});\n",
              "}}\n",
              "\n",
              "// Listen for the clearing of the current output cell\n",
              "var outputEl = gd.closest('.output');\n",
              "if (outputEl) {{\n",
              "    x.observe(outputEl, {childList: true});\n",
              "}}\n",
              "\n",
              "                        })                };                            </script>        </div>\n",
              "</body>\n",
              "</html>"
            ]
          },
          "metadata": {}
        }
      ]
    },
    {
      "cell_type": "code",
      "source": [],
      "metadata": {
        "id": "y3ez1Znkedqp"
      },
      "execution_count": null,
      "outputs": []
    }
  ]
}